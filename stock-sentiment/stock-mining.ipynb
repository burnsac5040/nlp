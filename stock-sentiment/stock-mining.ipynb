{
 "cells": [
  {
   "cell_type": "code",
   "execution_count": 78,
   "metadata": {},
   "outputs": [
    {
     "data": {
      "text/html": [
       "        <script type=\"text/javascript\">\n",
       "        window.PlotlyConfig = {MathJaxConfig: 'local'};\n",
       "        if (window.MathJax) {MathJax.Hub.Config({SVG: {font: \"STIX-Web\"}});}\n",
       "        if (typeof require !== 'undefined') {\n",
       "        require.undef(\"plotly\");\n",
       "        requirejs.config({\n",
       "            paths: {\n",
       "                'plotly': ['https://cdn.plot.ly/plotly-latest.min']\n",
       "            }\n",
       "        });\n",
       "        require(['plotly'], function(Plotly) {\n",
       "            window._Plotly = Plotly;\n",
       "        });\n",
       "        }\n",
       "        </script>\n",
       "        "
      ]
     },
     "metadata": {},
     "output_type": "display_data"
    }
   ],
   "source": [
    "import requests\n",
    "from bs4 import BeautifulSoup as bs\n",
    "import json\n",
    "from string import punctuation\n",
    "from get_all_tickers import get_tickers as gt\n",
    "import time\n",
    "from nltk.sentiment.vader import SentimentIntensityAnalyzer\n",
    "from textblob import TextBlob\n",
    "\n",
    "import pandas as pd\n",
    "import numpy as np \n",
    "import matplotlib.pyplot as plt \n",
    "import seaborn as sns\n",
    "import cufflinks as cf\n",
    "import chart_studio.plotly as py\n",
    "import plotly.express as px\n",
    "import plotly.io as pio\n",
    "\n",
    "from plotly.offline import download_plotlyjs, init_notebook_mode\n",
    "from plotly.offline import plot, iplot\n",
    "\n",
    "pio.templates.default = 'plotly_dark'\n",
    "init_notebook_mode(connected=True)\n",
    "plt.style.use(['dark_background'])"
   ]
  },
  {
   "cell_type": "markdown",
   "metadata": {},
   "source": [
    "## Scraping Yahoo Finance"
   ]
  },
  {
   "cell_type": "code",
   "execution_count": 76,
   "metadata": {},
   "outputs": [
    {
     "name": "stdout",
     "output_type": "stream",
     "text": [
      "Finished with number 0 -- AAPL\n",
      "Finished with number 1 -- MSFT\n",
      "Finished with number 2 -- AMZN\n",
      "Finished with number 3 -- GOOG\n",
      "Finished with number 4 -- GOOGL\n",
      "Finished with number 5 -- FB\n",
      "Finished with number 6 -- BABA\n",
      "Finished with number 7 -- TSM\n",
      "Finished with number 8 -- V\n",
      "Finished with number 9 -- WMT\n",
      "Finished with number 10 -- JNJ\n",
      "Finished with number 11 -- TSLA\n",
      "Finished with number 12 -- PG\n",
      "Finished with number 13 -- JPM\n",
      "Finished with number 14 -- UNH\n",
      "Finished with number 15 -- MA\n",
      "Finished with number 16 -- NVDA\n",
      "Finished with number 17 -- HD\n",
      "Finished with number 18 -- VZ\n",
      "Finished with number 19 -- DIS\n",
      "Finished with number 20 -- BAC\n",
      "Finished with number 21 -- KO\n",
      "Finished with number 22 -- CRM\n",
      "Finished with number 23 -- ADBE\n",
      "Finished with number 24 -- CMCSA\n",
      "Finished with number 25 -- PYPL\n",
      "Finished with number 26 -- PFE\n",
      "Finished with number 27 -- NFLX\n",
      "Finished with number 28 -- T\n",
      "Finished with number 29 -- MRK\n",
      "Finished with number 30 -- NKE\n",
      "Finished with number 31 -- PEP\n",
      "Finished with number 32 -- ABT\n",
      "Finished with number 33 -- TM\n",
      "Finished with number 34 -- NVS\n",
      "Finished with number 35 -- TMO\n",
      "Finished with number 36 -- INTC\n",
      "Finished with number 37 -- PDD\n",
      "Finished with number 38 -- ASML\n",
      "Finished with number 39 -- ABBV\n",
      "Finished with number 40 -- CSCO\n",
      "Finished with number 41 -- ORCL\n",
      "Finished with number 42 -- COST\n",
      "Finished with number 43 -- DHR\n",
      "Finished with number 44 -- UL\n",
      "Finished with number 45 -- UN\n",
      "Finished with number 46 -- QCOM\n",
      "Finished with number 47 -- CVX\n",
      "Finished with number 48 -- TMUS\n",
      "Finished with number 49 -- MCD\n"
     ]
    }
   ],
   "source": [
    "# Top 50 Stock Tickers\n",
    "tickers = gt.get_biggest_n_tickers(50)\n",
    "\n",
    "def get_data(ticker):\n",
    "    headers = {'user-agent': 'Mozilla/5.0 (Macintosh; Intel Mac OS X 10.15; rv:82.0) Gecko/20100101 Firefox/82.0'}\n",
    "    \n",
    "    url = f'https://finance.yahoo.com/quote/{ticker}/'\n",
    "    r = requests.get(url, headers=headers)\n",
    "    soup = bs(r.text, 'html.parser')\n",
    "\n",
    "    stock_stats = soup.find_all('td', {'class': 'Ta(end) Fw(600) Lh(14px)'})\n",
    "    stocks = {\n",
    "    'ticker' : soup.find('h1', {'class': 'D(ib) Fz(18px)'}).text.split('(')[-1].strip(punctuation),\n",
    "    'closing' : stock_stats[0].text,\n",
    "    'opening' : stock_stats[1].text,\n",
    "    'days_range' : stock_stats[4].text,\n",
    "    'volume' : stock_stats[6].text,\n",
    "    'fair_value' : soup.find('div', {'class': 'Fw(b) Fl(end)--m Fz(s) C($primaryColor'}).text\n",
    "    }\n",
    "    return stocks\n",
    "\n",
    "stock_data = []\n",
    "for idx, ticker in enumerate(tickers):\n",
    "    stock_data.append(get_data(ticker))\n",
    "    time.sleep(2)\n",
    "    print(f'Finished with number {idx} -- {ticker}')"
   ]
  },
  {
   "cell_type": "code",
   "execution_count": 77,
   "metadata": {},
   "outputs": [],
   "source": [
    "with open('11-15-yahoo-stock.json', 'w') as f:\n",
    "    json.dump(stock_data, f)"
   ]
  },
  {
   "cell_type": "code",
   "execution_count": 89,
   "metadata": {},
   "outputs": [],
   "source": [
    "yahoo = pd.DataFrame(stock_data)\n",
    "# yahoo.to_csv('11-15-yahoo-stock.csv', index=False, header=df.columns.values)"
   ]
  },
  {
   "cell_type": "markdown",
   "metadata": {},
   "source": [
    "## Scraping Tingo"
   ]
  },
  {
   "cell_type": "code",
   "execution_count": 83,
   "metadata": {},
   "outputs": [
    {
     "name": "stdout",
     "output_type": "stream",
     "text": [
      "Finished number 0 -- AAPL\n",
      "Finished number 1 -- MSFT\n",
      "Finished number 2 -- AMZN\n",
      "Finished number 3 -- GOOG\n",
      "Finished number 4 -- GOOGL\n",
      "Finished number 5 -- FB\n",
      "Finished number 6 -- BABA\n",
      "Finished number 7 -- TSM\n",
      "Finished number 8 -- V\n",
      "Finished number 9 -- WMT\n",
      "Finished number 10 -- JNJ\n",
      "Finished number 11 -- TSLA\n",
      "Finished number 12 -- PG\n",
      "Finished number 13 -- JPM\n",
      "Finished number 14 -- UNH\n",
      "Finished number 15 -- MA\n",
      "Finished number 16 -- NVDA\n",
      "Finished number 17 -- HD\n",
      "Finished number 18 -- VZ\n",
      "Finished number 19 -- DIS\n",
      "Finished number 20 -- BAC\n",
      "Finished number 21 -- KO\n",
      "Finished number 22 -- CRM\n",
      "Finished number 23 -- ADBE\n",
      "Finished number 24 -- CMCSA\n",
      "Finished number 25 -- PYPL\n",
      "Finished number 26 -- PFE\n",
      "Finished number 27 -- NFLX\n",
      "Finished number 28 -- T\n",
      "Finished number 29 -- MRK\n",
      "Finished number 30 -- NKE\n",
      "Finished number 31 -- PEP\n",
      "Finished number 32 -- ABT\n",
      "Finished number 33 -- TM\n",
      "Finished number 34 -- NVS\n",
      "Finished number 35 -- TMO\n",
      "Finished number 36 -- INTC\n",
      "Finished number 37 -- PDD\n",
      "Finished number 38 -- ASML\n",
      "Finished number 39 -- ABBV\n",
      "Finished number 40 -- CSCO\n",
      "Finished number 41 -- ORCL\n",
      "Finished number 42 -- COST\n",
      "Finished number 43 -- DHR\n",
      "Finished number 44 -- UL\n",
      "Finished number 45 -- UN\n",
      "Finished number 46 -- QCOM\n",
      "Finished number 47 -- CVX\n",
      "Finished number 48 -- TMUS\n",
      "Finished number 49 -- MCD\n"
     ]
    }
   ],
   "source": [
    "# I'm using Docker to access this website\n",
    "local = 'http://localhost:8050/render.html'\n",
    "\n",
    "news_list = []\n",
    "\n",
    "for idx, ticker in enumerate(tickers):\n",
    "    url = f'https://www.tiingo.com/{ticker}/overview'\n",
    "    r = requests.get(local, params={'url': url, 'wait': 2})\n",
    "    soup = bs(r.content, 'html.parser')\n",
    "    \n",
    "    # News article headlines\n",
    "    headlines = soup.find_all('div', class_='headline')\n",
    "    headline_list = [headline.find('a').text for headline in headlines]\n",
    "\n",
    "    # News article content that is previewed\n",
    "    articles = soup.find_all('div', class_='lede')\n",
    "    article_list = [article.text for article in articles]\n",
    "\n",
    "    dates = soup.find_all('div', class_='date-source')\n",
    "    date_list = [date.text.split('|')[0] for date in dates]\n",
    "\n",
    "    sources = soup.find_all('div', class_='date-source')\n",
    "    source_list = [source.text.split('|')[1] for source in sources]\n",
    "\n",
    "    news = {\n",
    "        'ticker': ticker,\n",
    "        'headline': headline_list,\n",
    "        'article': article_list,\n",
    "        'date': date_list,\n",
    "        'source': source_list,\n",
    "    }\n",
    "    \n",
    "    temp_df = pd.DataFrame(news)\n",
    "    news_list.append(temp_df)\n",
    "    \n",
    "    time.sleep(2)\n",
    "    print(f'Finished number {idx} -- {ticker}')"
   ]
  },
  {
   "cell_type": "code",
   "execution_count": 195,
   "metadata": {},
   "outputs": [],
   "source": [
    "# Combine the list of dataframes\n",
    "news_df = pd.concat(news_list)\n",
    "# Index did not line up, so reset it\n",
    "news_df.reset_index(inplace=True, drop=True)\n",
    "# Rename column because I'm going to use date for something else\n",
    "news_df.rename(columns={'date': 'date_time'}, inplace=True)\n",
    "# news_df.to_csv('11-15-tingo-dirty.csv', index=False, header=news_df.columns.values)"
   ]
  },
  {
   "cell_type": "code",
   "execution_count": 196,
   "metadata": {},
   "outputs": [
    {
     "data": {
      "text/html": [
       "<div>\n",
       "<style scoped>\n",
       "    .dataframe tbody tr th:only-of-type {\n",
       "        vertical-align: middle;\n",
       "    }\n",
       "\n",
       "    .dataframe tbody tr th {\n",
       "        vertical-align: top;\n",
       "    }\n",
       "\n",
       "    .dataframe thead th {\n",
       "        text-align: right;\n",
       "    }\n",
       "</style>\n",
       "<table border=\"1\" class=\"dataframe\">\n",
       "  <thead>\n",
       "    <tr style=\"text-align: right;\">\n",
       "      <th></th>\n",
       "      <th>ticker</th>\n",
       "      <th>headline</th>\n",
       "      <th>article</th>\n",
       "      <th>source</th>\n",
       "      <th>datetime</th>\n",
       "      <th>dayofweek</th>\n",
       "      <th>date</th>\n",
       "      <th>time</th>\n",
       "    </tr>\n",
       "  </thead>\n",
       "  <tbody>\n",
       "    <tr>\n",
       "      <th>0</th>\n",
       "      <td>AAPL</td>\n",
       "      <td>PlayStation 5 Might Outsell New Xbox Series B...</td>\n",
       "      <td>Sony Corporation’s (NYSE: SNE) PlayStation 5 a...</td>\n",
       "      <td>benzinga.com</td>\n",
       "      <td>2020-11-16 05:00:00</td>\n",
       "      <td>0</td>\n",
       "      <td>2020-11-16</td>\n",
       "      <td>05:00:00</td>\n",
       "    </tr>\n",
       "    <tr>\n",
       "      <th>1</th>\n",
       "      <td>AAPL</td>\n",
       "      <td>iPhone 12 Pro and Pro Max nearly beat all DxO...</td>\n",
       "      <td>Although it was a pioneer in the smartphone ph...</td>\n",
       "      <td>slashgear.com</td>\n",
       "      <td>2020-11-16 04:36:00</td>\n",
       "      <td>0</td>\n",
       "      <td>2020-11-16</td>\n",
       "      <td>04:36:00</td>\n",
       "    </tr>\n",
       "    <tr>\n",
       "      <th>2</th>\n",
       "      <td>AAPL</td>\n",
       "      <td>Samsung Smart Monitor is also a smart TV with...</td>\n",
       "      <td>Computer monitors are a dime a dozen these day...</td>\n",
       "      <td>slashgear.com</td>\n",
       "      <td>2020-11-16 04:03:00</td>\n",
       "      <td>0</td>\n",
       "      <td>2020-11-16</td>\n",
       "      <td>04:03:00</td>\n",
       "    </tr>\n",
       "    <tr>\n",
       "      <th>3</th>\n",
       "      <td>AAPL</td>\n",
       "      <td>The most powerful CPU of 2020 may be coming s...</td>\n",
       "      <td>AMD’s new EPYC 7763 CPU pushes x86 boundaries ...</td>\n",
       "      <td>techradar.com</td>\n",
       "      <td>2020-11-16 04:00:00</td>\n",
       "      <td>0</td>\n",
       "      <td>2020-11-16</td>\n",
       "      <td>04:00:00</td>\n",
       "    </tr>\n",
       "    <tr>\n",
       "      <th>4</th>\n",
       "      <td>AAPL</td>\n",
       "      <td>iPhone 12 group SMS disappear, iPhone 12 mini...</td>\n",
       "      <td>No product can claim to be perfect the day it ...</td>\n",
       "      <td>slashgear.com</td>\n",
       "      <td>2020-11-16 03:37:00</td>\n",
       "      <td>0</td>\n",
       "      <td>2020-11-16</td>\n",
       "      <td>03:37:00</td>\n",
       "    </tr>\n",
       "  </tbody>\n",
       "</table>\n",
       "</div>"
      ],
      "text/plain": [
       "  ticker                                           headline  \\\n",
       "0   AAPL   PlayStation 5 Might Outsell New Xbox Series B...   \n",
       "1   AAPL   iPhone 12 Pro and Pro Max nearly beat all DxO...   \n",
       "2   AAPL   Samsung Smart Monitor is also a smart TV with...   \n",
       "3   AAPL   The most powerful CPU of 2020 may be coming s...   \n",
       "4   AAPL   iPhone 12 group SMS disappear, iPhone 12 mini...   \n",
       "\n",
       "                                             article          source  \\\n",
       "0  Sony Corporation’s (NYSE: SNE) PlayStation 5 a...    benzinga.com   \n",
       "1  Although it was a pioneer in the smartphone ph...   slashgear.com   \n",
       "2  Computer monitors are a dime a dozen these day...   slashgear.com   \n",
       "3  AMD’s new EPYC 7763 CPU pushes x86 boundaries ...   techradar.com   \n",
       "4  No product can claim to be perfect the day it ...   slashgear.com   \n",
       "\n",
       "             datetime  dayofweek       date      time  \n",
       "0 2020-11-16 05:00:00          0 2020-11-16  05:00:00  \n",
       "1 2020-11-16 04:36:00          0 2020-11-16  04:36:00  \n",
       "2 2020-11-16 04:03:00          0 2020-11-16  04:03:00  \n",
       "3 2020-11-16 04:00:00          0 2020-11-16  04:00:00  \n",
       "4 2020-11-16 03:37:00          0 2020-11-16  03:37:00  "
      ]
     },
     "execution_count": 196,
     "metadata": {},
     "output_type": "execute_result"
    }
   ],
   "source": [
    "# Create a datetime object to access the day of the week\n",
    "news_df['datetime'] = ['2020-' + item.strip() for item in news_df['date_time']] \n",
    "news_df['datetime'] = pd.to_datetime(news_df['datetime'], format='%Y-%b-%d %H:%M:%p')\n",
    "news_df['dayofweek'] = [item.dayofweek for item in news_df['datetime']]\n",
    "news_df['date'] = pd.to_datetime(news_df['datetime'].dt.date)\n",
    "news_df['time'] = news_df['datetime'].dt.time\n",
    "news_df.drop('date_time', axis=1, inplace=True)\n",
    "\n",
    "# news_df.to_csv('11-15-tingo-stock.csv', index=False, header=news_df.columns.values)\n",
    "news_df.head()"
   ]
  },
  {
   "cell_type": "code",
   "execution_count": 209,
   "metadata": {},
   "outputs": [
    {
     "data": {
      "text/html": [
       "<div>\n",
       "<style scoped>\n",
       "    .dataframe tbody tr th:only-of-type {\n",
       "        vertical-align: middle;\n",
       "    }\n",
       "\n",
       "    .dataframe tbody tr th {\n",
       "        vertical-align: top;\n",
       "    }\n",
       "\n",
       "    .dataframe thead th {\n",
       "        text-align: right;\n",
       "    }\n",
       "</style>\n",
       "<table border=\"1\" class=\"dataframe\">\n",
       "  <thead>\n",
       "    <tr style=\"text-align: right;\">\n",
       "      <th></th>\n",
       "      <th>ticker</th>\n",
       "      <th>headline</th>\n",
       "      <th>article</th>\n",
       "      <th>source</th>\n",
       "      <th>datetime</th>\n",
       "      <th>dayofweek</th>\n",
       "      <th>date</th>\n",
       "      <th>time</th>\n",
       "      <th>closing</th>\n",
       "      <th>opening</th>\n",
       "      <th>days_range</th>\n",
       "      <th>volume</th>\n",
       "      <th>fair_value</th>\n",
       "    </tr>\n",
       "  </thead>\n",
       "  <tbody>\n",
       "    <tr>\n",
       "      <th>0</th>\n",
       "      <td>AAPL</td>\n",
       "      <td>PlayStation 5 Might Outsell New Xbox Series B...</td>\n",
       "      <td>Sony Corporation’s (NYSE: SNE) PlayStation 5 a...</td>\n",
       "      <td>benzinga.com</td>\n",
       "      <td>2020-11-16 05:00:00</td>\n",
       "      <td>0</td>\n",
       "      <td>2020-11-16</td>\n",
       "      <td>05:00:00</td>\n",
       "      <td>119.21</td>\n",
       "      <td>119.44</td>\n",
       "      <td>117.87 - 119.67</td>\n",
       "      <td>81688586</td>\n",
       "      <td>Overvalued</td>\n",
       "    </tr>\n",
       "    <tr>\n",
       "      <th>1</th>\n",
       "      <td>AAPL</td>\n",
       "      <td>iPhone 12 Pro and Pro Max nearly beat all DxO...</td>\n",
       "      <td>Although it was a pioneer in the smartphone ph...</td>\n",
       "      <td>slashgear.com</td>\n",
       "      <td>2020-11-16 04:36:00</td>\n",
       "      <td>0</td>\n",
       "      <td>2020-11-16</td>\n",
       "      <td>04:36:00</td>\n",
       "      <td>119.21</td>\n",
       "      <td>119.44</td>\n",
       "      <td>117.87 - 119.67</td>\n",
       "      <td>81688586</td>\n",
       "      <td>Overvalued</td>\n",
       "    </tr>\n",
       "    <tr>\n",
       "      <th>2</th>\n",
       "      <td>AAPL</td>\n",
       "      <td>Samsung Smart Monitor is also a smart TV with...</td>\n",
       "      <td>Computer monitors are a dime a dozen these day...</td>\n",
       "      <td>slashgear.com</td>\n",
       "      <td>2020-11-16 04:03:00</td>\n",
       "      <td>0</td>\n",
       "      <td>2020-11-16</td>\n",
       "      <td>04:03:00</td>\n",
       "      <td>119.21</td>\n",
       "      <td>119.44</td>\n",
       "      <td>117.87 - 119.67</td>\n",
       "      <td>81688586</td>\n",
       "      <td>Overvalued</td>\n",
       "    </tr>\n",
       "    <tr>\n",
       "      <th>3</th>\n",
       "      <td>AAPL</td>\n",
       "      <td>The most powerful CPU of 2020 may be coming s...</td>\n",
       "      <td>AMD’s new EPYC 7763 CPU pushes x86 boundaries ...</td>\n",
       "      <td>techradar.com</td>\n",
       "      <td>2020-11-16 04:00:00</td>\n",
       "      <td>0</td>\n",
       "      <td>2020-11-16</td>\n",
       "      <td>04:00:00</td>\n",
       "      <td>119.21</td>\n",
       "      <td>119.44</td>\n",
       "      <td>117.87 - 119.67</td>\n",
       "      <td>81688586</td>\n",
       "      <td>Overvalued</td>\n",
       "    </tr>\n",
       "    <tr>\n",
       "      <th>4</th>\n",
       "      <td>AAPL</td>\n",
       "      <td>iPhone 12 group SMS disappear, iPhone 12 mini...</td>\n",
       "      <td>No product can claim to be perfect the day it ...</td>\n",
       "      <td>slashgear.com</td>\n",
       "      <td>2020-11-16 03:37:00</td>\n",
       "      <td>0</td>\n",
       "      <td>2020-11-16</td>\n",
       "      <td>03:37:00</td>\n",
       "      <td>119.21</td>\n",
       "      <td>119.44</td>\n",
       "      <td>117.87 - 119.67</td>\n",
       "      <td>81688586</td>\n",
       "      <td>Overvalued</td>\n",
       "    </tr>\n",
       "  </tbody>\n",
       "</table>\n",
       "</div>"
      ],
      "text/plain": [
       "  ticker                                           headline  \\\n",
       "0   AAPL   PlayStation 5 Might Outsell New Xbox Series B...   \n",
       "1   AAPL   iPhone 12 Pro and Pro Max nearly beat all DxO...   \n",
       "2   AAPL   Samsung Smart Monitor is also a smart TV with...   \n",
       "3   AAPL   The most powerful CPU of 2020 may be coming s...   \n",
       "4   AAPL   iPhone 12 group SMS disappear, iPhone 12 mini...   \n",
       "\n",
       "                                             article          source  \\\n",
       "0  Sony Corporation’s (NYSE: SNE) PlayStation 5 a...    benzinga.com   \n",
       "1  Although it was a pioneer in the smartphone ph...   slashgear.com   \n",
       "2  Computer monitors are a dime a dozen these day...   slashgear.com   \n",
       "3  AMD’s new EPYC 7763 CPU pushes x86 boundaries ...   techradar.com   \n",
       "4  No product can claim to be perfect the day it ...   slashgear.com   \n",
       "\n",
       "             datetime  dayofweek       date      time closing opening  \\\n",
       "0 2020-11-16 05:00:00          0 2020-11-16  05:00:00  119.21  119.44   \n",
       "1 2020-11-16 04:36:00          0 2020-11-16  04:36:00  119.21  119.44   \n",
       "2 2020-11-16 04:03:00          0 2020-11-16  04:03:00  119.21  119.44   \n",
       "3 2020-11-16 04:00:00          0 2020-11-16  04:00:00  119.21  119.44   \n",
       "4 2020-11-16 03:37:00          0 2020-11-16  03:37:00  119.21  119.44   \n",
       "\n",
       "        days_range    volume  fair_value  \n",
       "0  117.87 - 119.67  81688586  Overvalued  \n",
       "1  117.87 - 119.67  81688586  Overvalued  \n",
       "2  117.87 - 119.67  81688586  Overvalued  \n",
       "3  117.87 - 119.67  81688586  Overvalued  \n",
       "4  117.87 - 119.67  81688586  Overvalued  "
      ]
     },
     "execution_count": 209,
     "metadata": {},
     "output_type": "execute_result"
    }
   ],
   "source": [
    "combined_df = pd.merge(news_df, yahoo, on='ticker')\n",
    "# Replace commas to convert to an integer\n",
    "combined_df['volume'] = combined_df['volume'].replace(r',', '', regex=True).astype(int)\n",
    "combined_df['fair_value'] = combined_df['fair_value'].astype('category')\n",
    "\n",
    "# combined_df.to_csv('11-15-combined-stock.csv', index=False, header=combined_df.columns.values)\n",
    "combined_df.head()"
   ]
  },
  {
   "cell_type": "markdown",
   "metadata": {},
   "source": [
    "## Sentiment Analysis using NLTK"
   ]
  },
  {
   "cell_type": "code",
   "execution_count": 210,
   "metadata": {},
   "outputs": [
    {
     "data": {
      "text/html": [
       "<div>\n",
       "<style scoped>\n",
       "    .dataframe tbody tr th:only-of-type {\n",
       "        vertical-align: middle;\n",
       "    }\n",
       "\n",
       "    .dataframe tbody tr th {\n",
       "        vertical-align: top;\n",
       "    }\n",
       "\n",
       "    .dataframe thead th {\n",
       "        text-align: right;\n",
       "    }\n",
       "</style>\n",
       "<table border=\"1\" class=\"dataframe\">\n",
       "  <thead>\n",
       "    <tr style=\"text-align: right;\">\n",
       "      <th></th>\n",
       "      <th>ticker</th>\n",
       "      <th>headline</th>\n",
       "      <th>article</th>\n",
       "      <th>source</th>\n",
       "      <th>datetime</th>\n",
       "      <th>dayofweek</th>\n",
       "      <th>date</th>\n",
       "      <th>time</th>\n",
       "      <th>closing</th>\n",
       "      <th>opening</th>\n",
       "      <th>days_range</th>\n",
       "      <th>volume</th>\n",
       "      <th>fair_value</th>\n",
       "      <th>compound</th>\n",
       "    </tr>\n",
       "  </thead>\n",
       "  <tbody>\n",
       "    <tr>\n",
       "      <th>0</th>\n",
       "      <td>AAPL</td>\n",
       "      <td>Samsung Smart Monitor is also a smart TV with...</td>\n",
       "      <td>Computer monitors are a dime a dozen these day...</td>\n",
       "      <td>slashgear.com</td>\n",
       "      <td>2020-11-16 04:03:00</td>\n",
       "      <td>0</td>\n",
       "      <td>2020-11-16</td>\n",
       "      <td>04:03:00</td>\n",
       "      <td>119.21</td>\n",
       "      <td>119.44</td>\n",
       "      <td>117.87 - 119.67</td>\n",
       "      <td>81688586</td>\n",
       "      <td>Overvalued</td>\n",
       "      <td>0.7964</td>\n",
       "    </tr>\n",
       "    <tr>\n",
       "      <th>1</th>\n",
       "      <td>AAPL</td>\n",
       "      <td>The most powerful CPU of 2020 may be coming s...</td>\n",
       "      <td>AMD’s new EPYC 7763 CPU pushes x86 boundaries ...</td>\n",
       "      <td>techradar.com</td>\n",
       "      <td>2020-11-16 04:00:00</td>\n",
       "      <td>0</td>\n",
       "      <td>2020-11-16</td>\n",
       "      <td>04:00:00</td>\n",
       "      <td>119.21</td>\n",
       "      <td>119.44</td>\n",
       "      <td>117.87 - 119.67</td>\n",
       "      <td>81688586</td>\n",
       "      <td>Overvalued</td>\n",
       "      <td>0.2609</td>\n",
       "    </tr>\n",
       "    <tr>\n",
       "      <th>2</th>\n",
       "      <td>AAPL</td>\n",
       "      <td>iPhone 12 group SMS disappear, iPhone 12 mini...</td>\n",
       "      <td>No product can claim to be perfect the day it ...</td>\n",
       "      <td>slashgear.com</td>\n",
       "      <td>2020-11-16 03:37:00</td>\n",
       "      <td>0</td>\n",
       "      <td>2020-11-16</td>\n",
       "      <td>03:37:00</td>\n",
       "      <td>119.21</td>\n",
       "      <td>119.44</td>\n",
       "      <td>117.87 - 119.67</td>\n",
       "      <td>81688586</td>\n",
       "      <td>Overvalued</td>\n",
       "      <td>-0.2263</td>\n",
       "    </tr>\n",
       "    <tr>\n",
       "      <th>3</th>\n",
       "      <td>AAPL</td>\n",
       "      <td>iShares Core U.S. Growth ETF: Technology Is T...</td>\n",
       "      <td>The fund has outperformed the S&amp;P 500 by a sig...</td>\n",
       "      <td>seekingalpha.com</td>\n",
       "      <td>2020-11-16 02:48:00</td>\n",
       "      <td>0</td>\n",
       "      <td>2020-11-16</td>\n",
       "      <td>02:48:00</td>\n",
       "      <td>119.21</td>\n",
       "      <td>119.44</td>\n",
       "      <td>117.87 - 119.67</td>\n",
       "      <td>81688586</td>\n",
       "      <td>Overvalued</td>\n",
       "      <td>0.3818</td>\n",
       "    </tr>\n",
       "    <tr>\n",
       "      <th>4</th>\n",
       "      <td>AAPL</td>\n",
       "      <td>iPhone 12 mini iFixit teardown reveals what s...</td>\n",
       "      <td>Apple has definitely come a long way since the...</td>\n",
       "      <td>slashgear.com</td>\n",
       "      <td>2020-11-16 02:21:00</td>\n",
       "      <td>0</td>\n",
       "      <td>2020-11-16</td>\n",
       "      <td>02:21:00</td>\n",
       "      <td>119.21</td>\n",
       "      <td>119.44</td>\n",
       "      <td>117.87 - 119.67</td>\n",
       "      <td>81688586</td>\n",
       "      <td>Overvalued</td>\n",
       "      <td>0.3612</td>\n",
       "    </tr>\n",
       "  </tbody>\n",
       "</table>\n",
       "</div>"
      ],
      "text/plain": [
       "  ticker                                           headline  \\\n",
       "0   AAPL   Samsung Smart Monitor is also a smart TV with...   \n",
       "1   AAPL   The most powerful CPU of 2020 may be coming s...   \n",
       "2   AAPL   iPhone 12 group SMS disappear, iPhone 12 mini...   \n",
       "3   AAPL   iShares Core U.S. Growth ETF: Technology Is T...   \n",
       "4   AAPL   iPhone 12 mini iFixit teardown reveals what s...   \n",
       "\n",
       "                                             article             source  \\\n",
       "0  Computer monitors are a dime a dozen these day...      slashgear.com   \n",
       "1  AMD’s new EPYC 7763 CPU pushes x86 boundaries ...      techradar.com   \n",
       "2  No product can claim to be perfect the day it ...      slashgear.com   \n",
       "3  The fund has outperformed the S&P 500 by a sig...   seekingalpha.com   \n",
       "4  Apple has definitely come a long way since the...      slashgear.com   \n",
       "\n",
       "             datetime  dayofweek       date      time closing opening  \\\n",
       "0 2020-11-16 04:03:00          0 2020-11-16  04:03:00  119.21  119.44   \n",
       "1 2020-11-16 04:00:00          0 2020-11-16  04:00:00  119.21  119.44   \n",
       "2 2020-11-16 03:37:00          0 2020-11-16  03:37:00  119.21  119.44   \n",
       "3 2020-11-16 02:48:00          0 2020-11-16  02:48:00  119.21  119.44   \n",
       "4 2020-11-16 02:21:00          0 2020-11-16  02:21:00  119.21  119.44   \n",
       "\n",
       "        days_range    volume  fair_value  compound  \n",
       "0  117.87 - 119.67  81688586  Overvalued    0.7964  \n",
       "1  117.87 - 119.67  81688586  Overvalued    0.2609  \n",
       "2  117.87 - 119.67  81688586  Overvalued   -0.2263  \n",
       "3  117.87 - 119.67  81688586  Overvalued    0.3818  \n",
       "4  117.87 - 119.67  81688586  Overvalued    0.3612  "
      ]
     },
     "execution_count": 210,
     "metadata": {},
     "output_type": "execute_result"
    }
   ],
   "source": [
    "# Initialization\n",
    "analyzer = SentimentIntensityAnalyzer()\n",
    "# Apply the algorithm to the headline column\n",
    "analyzer_scores = [analyzer.polarity_scores(item)['compound'] for item in combined_df['headline']]\n",
    "# Create a dataframe from the compounded polarity scores\n",
    "analyzer_df = pd.DataFrame(analyzer_scores, columns=['compound'])\n",
    "# combine the two dataframes\n",
    "analyzer_news = pd.concat([combined_df, analyzer_df], axis=1)\n",
    "# Remove entries where the algorithm either did not find anything or was not able to calculate anything\n",
    "analyzer_news = analyzer_news[analyzer_news['compound'] != 0].reset_index(drop=True)\n",
    "analyzer_news.head()"
   ]
  },
  {
   "cell_type": "markdown",
   "metadata": {},
   "source": [
    "## NLTK - `dayofweek` using Plotly"
   ]
  },
  {
   "cell_type": "code",
   "execution_count": 212,
   "metadata": {},
   "outputs": [
    {
     "data": {
      "application/vnd.plotly.v1+json": {
       "config": {
        "plotlyServerURL": "https://plot.ly"
       },
       "data": [
        {
         "alignmentgroup": "True",
         "hovertemplate": "ticker=AAPL<br>Day of Week=%{x}<br>Sentiment=%{y}<extra></extra>",
         "legendgroup": "AAPL",
         "marker": {
          "color": "rgb(75, 41, 145)"
         },
         "name": "AAPL",
         "offsetgroup": "AAPL",
         "orientation": "v",
         "showlegend": true,
         "textposition": "auto",
         "type": "bar",
         "x": [
          0,
          1,
          2,
          3,
          4,
          5,
          6
         ],
         "xaxis": "x",
         "y": [
          0.22562307692307693,
          0.25666666666666665,
          0.5967,
          0.2732,
          0.3902,
          null,
          0.039463636363636374
         ],
         "yaxis": "y"
        },
        {
         "alignmentgroup": "True",
         "hovertemplate": "ticker=ABBV<br>Day of Week=%{x}<br>Sentiment=%{y}<extra></extra>",
         "legendgroup": "ABBV",
         "marker": {
          "color": "rgb(135, 44, 162)"
         },
         "name": "ABBV",
         "offsetgroup": "ABBV",
         "orientation": "v",
         "showlegend": true,
         "textposition": "auto",
         "type": "bar",
         "x": [
          0,
          1,
          2,
          3,
          4,
          5,
          6
         ],
         "xaxis": "x",
         "y": [
          0.2618333333333333,
          0.346325,
          0.40228,
          0.010949999999999996,
          0.053333333333333344,
          0.46645000000000003,
          null
         ],
         "yaxis": "y"
        },
        {
         "alignmentgroup": "True",
         "hovertemplate": "ticker=ABT<br>Day of Week=%{x}<br>Sentiment=%{y}<extra></extra>",
         "legendgroup": "ABT",
         "marker": {
          "color": "rgb(192, 54, 157)"
         },
         "name": "ABT",
         "offsetgroup": "ABT",
         "orientation": "v",
         "showlegend": true,
         "textposition": "auto",
         "type": "bar",
         "x": [
          0,
          1,
          2,
          3,
          4,
          5,
          6
         ],
         "xaxis": "x",
         "y": [
          0.43243333333333334,
          -0.4930500000000001,
          0.15586666666666665,
          null,
          0.44403333333333334,
          -0.04595,
          0.36689999999999995
         ],
         "yaxis": "y"
        },
        {
         "alignmentgroup": "True",
         "hovertemplate": "ticker=ADBE<br>Day of Week=%{x}<br>Sentiment=%{y}<extra></extra>",
         "legendgroup": "ADBE",
         "marker": {
          "color": "rgb(234, 79, 136)"
         },
         "name": "ADBE",
         "offsetgroup": "ADBE",
         "orientation": "v",
         "showlegend": true,
         "textposition": "auto",
         "type": "bar",
         "x": [
          0,
          1,
          2,
          3,
          4,
          5,
          6
         ],
         "xaxis": "x",
         "y": [
          0.44789999999999996,
          0.2023,
          null,
          0.1833111111111111,
          0.33985714285714286,
          0.28315,
          0.34
         ],
         "yaxis": "y"
        },
        {
         "alignmentgroup": "True",
         "hovertemplate": "ticker=AMZN<br>Day of Week=%{x}<br>Sentiment=%{y}<extra></extra>",
         "legendgroup": "AMZN",
         "marker": {
          "color": "rgb(250, 120, 118)"
         },
         "name": "AMZN",
         "offsetgroup": "AMZN",
         "orientation": "v",
         "showlegend": true,
         "textposition": "auto",
         "type": "bar",
         "x": [
          0,
          1,
          2,
          3,
          4,
          5,
          6
         ],
         "xaxis": "x",
         "y": [
          0.5471,
          -0.05429999999999999,
          0.21842500000000004,
          0.24407999999999994,
          null,
          null,
          0.38847142857142863
         ],
         "yaxis": "y"
        },
        {
         "alignmentgroup": "True",
         "hovertemplate": "ticker=ASML<br>Day of Week=%{x}<br>Sentiment=%{y}<extra></extra>",
         "legendgroup": "ASML",
         "marker": {
          "color": "rgb(246, 169, 122)"
         },
         "name": "ASML",
         "offsetgroup": "ASML",
         "orientation": "v",
         "showlegend": true,
         "textposition": "auto",
         "type": "bar",
         "x": [
          0,
          1,
          2,
          3,
          4,
          5,
          6
         ],
         "xaxis": "x",
         "y": [
          0.21081000000000003,
          0.4535,
          0.0943,
          0.37338333333333334,
          0.5423,
          null,
          0.5859
         ],
         "yaxis": "y"
        },
        {
         "alignmentgroup": "True",
         "hovertemplate": "ticker=BABA<br>Day of Week=%{x}<br>Sentiment=%{y}<extra></extra>",
         "legendgroup": "BABA",
         "marker": {
          "color": "rgb(237, 217, 163)"
         },
         "name": "BABA",
         "offsetgroup": "BABA",
         "orientation": "v",
         "showlegend": true,
         "textposition": "auto",
         "type": "bar",
         "x": [
          0,
          1,
          2,
          3,
          4,
          5,
          6
         ],
         "xaxis": "x",
         "y": [
          0.37297777777777774,
          0.29875,
          null,
          0.4215,
          0.4019,
          0.4404,
          0.18185
         ],
         "yaxis": "y"
        },
        {
         "alignmentgroup": "True",
         "hovertemplate": "ticker=BAC<br>Day of Week=%{x}<br>Sentiment=%{y}<extra></extra>",
         "legendgroup": "BAC",
         "marker": {
          "color": "rgb(75, 41, 145)"
         },
         "name": "BAC",
         "offsetgroup": "BAC",
         "orientation": "v",
         "showlegend": true,
         "textposition": "auto",
         "type": "bar",
         "x": [
          0,
          1,
          2,
          3,
          4,
          5,
          6
         ],
         "xaxis": "x",
         "y": [
          0.5172833333333333,
          null,
          0.3803,
          0.4019,
          0.25,
          null,
          0.2618629629629631
         ],
         "yaxis": "y"
        },
        {
         "alignmentgroup": "True",
         "hovertemplate": "ticker=CMCSA<br>Day of Week=%{x}<br>Sentiment=%{y}<extra></extra>",
         "legendgroup": "CMCSA",
         "marker": {
          "color": "rgb(135, 44, 162)"
         },
         "name": "CMCSA",
         "offsetgroup": "CMCSA",
         "orientation": "v",
         "showlegend": true,
         "textposition": "auto",
         "type": "bar",
         "x": [
          0,
          1,
          2,
          3,
          4,
          5,
          6
         ],
         "xaxis": "x",
         "y": [
          0.5310666666666667,
          null,
          0.5994,
          0.5431166666666667,
          0.1779,
          0.26496666666666674,
          0.46090714285714285
         ],
         "yaxis": "y"
        },
        {
         "alignmentgroup": "True",
         "hovertemplate": "ticker=COST<br>Day of Week=%{x}<br>Sentiment=%{y}<extra></extra>",
         "legendgroup": "COST",
         "marker": {
          "color": "rgb(192, 54, 157)"
         },
         "name": "COST",
         "offsetgroup": "COST",
         "orientation": "v",
         "showlegend": true,
         "textposition": "auto",
         "type": "bar",
         "x": [
          0,
          1,
          2,
          3,
          4,
          5,
          6
         ],
         "xaxis": "x",
         "y": [
          0.1619166666666667,
          0.6658999999999999,
          null,
          0.3196,
          0.1985,
          0.4019,
          0.36644
         ],
         "yaxis": "y"
        },
        {
         "alignmentgroup": "True",
         "hovertemplate": "ticker=CRM<br>Day of Week=%{x}<br>Sentiment=%{y}<extra></extra>",
         "legendgroup": "CRM",
         "marker": {
          "color": "rgb(234, 79, 136)"
         },
         "name": "CRM",
         "offsetgroup": "CRM",
         "orientation": "v",
         "showlegend": true,
         "textposition": "auto",
         "type": "bar",
         "x": [
          0,
          1,
          2,
          3,
          4,
          5,
          6
         ],
         "xaxis": "x",
         "y": [
          -0.011833333333333326,
          0.16462857142857143,
          0.4847,
          0.3612,
          0.4019,
          -0.128,
          0.45159375000000007
         ],
         "yaxis": "y"
        },
        {
         "alignmentgroup": "True",
         "hovertemplate": "ticker=CSCO<br>Day of Week=%{x}<br>Sentiment=%{y}<extra></extra>",
         "legendgroup": "CSCO",
         "marker": {
          "color": "rgb(250, 120, 118)"
         },
         "name": "CSCO",
         "offsetgroup": "CSCO",
         "orientation": "v",
         "showlegend": true,
         "textposition": "auto",
         "type": "bar",
         "x": [
          0,
          1,
          2,
          3,
          4,
          5,
          6
         ],
         "xaxis": "x",
         "y": [
          0.61385,
          0.57735,
          0.836,
          0.517,
          0.34935555555555553,
          -0.2678666666666667,
          0.5043875
         ],
         "yaxis": "y"
        },
        {
         "alignmentgroup": "True",
         "hovertemplate": "ticker=CVX<br>Day of Week=%{x}<br>Sentiment=%{y}<extra></extra>",
         "legendgroup": "CVX",
         "marker": {
          "color": "rgb(246, 169, 122)"
         },
         "name": "CVX",
         "offsetgroup": "CVX",
         "orientation": "v",
         "showlegend": true,
         "textposition": "auto",
         "type": "bar",
         "x": [
          0,
          1,
          2,
          3,
          4,
          5,
          6
         ],
         "xaxis": "x",
         "y": [
          0.050475000000000006,
          0.49266666666666675,
          0.33335000000000004,
          null,
          0.43483333333333335,
          -0.10300000000000001,
          0.44092307692307686
         ],
         "yaxis": "y"
        },
        {
         "alignmentgroup": "True",
         "hovertemplate": "ticker=DHR<br>Day of Week=%{x}<br>Sentiment=%{y}<extra></extra>",
         "legendgroup": "DHR",
         "marker": {
          "color": "rgb(237, 217, 163)"
         },
         "name": "DHR",
         "offsetgroup": "DHR",
         "orientation": "v",
         "showlegend": true,
         "textposition": "auto",
         "type": "bar",
         "x": [
          0,
          1,
          2,
          3,
          4,
          5,
          6
         ],
         "xaxis": "x",
         "y": [
          0.33816666666666667,
          0.325175,
          0.12605,
          0.04302000000000002,
          0.5149666666666667,
          0.28315,
          0.6908
         ],
         "yaxis": "y"
        },
        {
         "alignmentgroup": "True",
         "hovertemplate": "ticker=DIS<br>Day of Week=%{x}<br>Sentiment=%{y}<extra></extra>",
         "legendgroup": "DIS",
         "marker": {
          "color": "rgb(75, 41, 145)"
         },
         "name": "DIS",
         "offsetgroup": "DIS",
         "orientation": "v",
         "showlegend": true,
         "textposition": "auto",
         "type": "bar",
         "x": [
          0,
          1,
          2,
          3,
          4,
          5,
          6
         ],
         "xaxis": "x",
         "y": [
          -0.07431666666666668,
          null,
          0.3818,
          0.23695,
          0.4404,
          null,
          0.4767
         ],
         "yaxis": "y"
        },
        {
         "alignmentgroup": "True",
         "hovertemplate": "ticker=GOOG<br>Day of Week=%{x}<br>Sentiment=%{y}<extra></extra>",
         "legendgroup": "GOOG",
         "marker": {
          "color": "rgb(135, 44, 162)"
         },
         "name": "GOOG",
         "offsetgroup": "GOOG",
         "orientation": "v",
         "showlegend": true,
         "textposition": "auto",
         "type": "bar",
         "x": [
          0,
          1,
          2,
          3,
          4,
          5,
          6
         ],
         "xaxis": "x",
         "y": [
          0.1622777777777778,
          null,
          null,
          0.2266,
          0.5449999999999999,
          null,
          0.10704999999999998
         ],
         "yaxis": "y"
        },
        {
         "alignmentgroup": "True",
         "hovertemplate": "ticker=GOOGL<br>Day of Week=%{x}<br>Sentiment=%{y}<extra></extra>",
         "legendgroup": "GOOGL",
         "marker": {
          "color": "rgb(192, 54, 157)"
         },
         "name": "GOOGL",
         "offsetgroup": "GOOGL",
         "orientation": "v",
         "showlegend": true,
         "textposition": "auto",
         "type": "bar",
         "x": [
          0,
          1,
          2,
          3,
          4,
          5,
          6
         ],
         "xaxis": "x",
         "y": [
          0.11423000000000001,
          null,
          null,
          0.2266,
          0.5449999999999999,
          null,
          0.12063333333333333
         ],
         "yaxis": "y"
        },
        {
         "alignmentgroup": "True",
         "hovertemplate": "ticker=HD<br>Day of Week=%{x}<br>Sentiment=%{y}<extra></extra>",
         "legendgroup": "HD",
         "marker": {
          "color": "rgb(234, 79, 136)"
         },
         "name": "HD",
         "offsetgroup": "HD",
         "orientation": "v",
         "showlegend": true,
         "textposition": "auto",
         "type": "bar",
         "x": [
          0,
          1,
          2,
          3,
          4,
          5,
          6
         ],
         "xaxis": "x",
         "y": [
          0.5719,
          0.4371333333333333,
          0.7172999999999999,
          0.31758333333333333,
          0.41922499999999996,
          0.3194666666666667,
          0.352525
         ],
         "yaxis": "y"
        },
        {
         "alignmentgroup": "True",
         "hovertemplate": "ticker=INTC<br>Day of Week=%{x}<br>Sentiment=%{y}<extra></extra>",
         "legendgroup": "INTC",
         "marker": {
          "color": "rgb(250, 120, 118)"
         },
         "name": "INTC",
         "offsetgroup": "INTC",
         "orientation": "v",
         "showlegend": true,
         "textposition": "auto",
         "type": "bar",
         "x": [
          0,
          1,
          2,
          3,
          4,
          5,
          6
         ],
         "xaxis": "x",
         "y": [
          0.2697076923076923,
          0.3473,
          0.3994,
          0.3703666666666667,
          null,
          0.16100000000000003,
          0.09620000000000001
         ],
         "yaxis": "y"
        },
        {
         "alignmentgroup": "True",
         "hovertemplate": "ticker=JNJ<br>Day of Week=%{x}<br>Sentiment=%{y}<extra></extra>",
         "legendgroup": "JNJ",
         "marker": {
          "color": "rgb(246, 169, 122)"
         },
         "name": "JNJ",
         "offsetgroup": "JNJ",
         "orientation": "v",
         "showlegend": true,
         "textposition": "auto",
         "type": "bar",
         "x": [
          0,
          1,
          2,
          3,
          4,
          5,
          6
         ],
         "xaxis": "x",
         "y": [
          -0.057499999999999996,
          0.54105,
          0.1779,
          null,
          0.3818,
          0.802,
          0.39261999999999997
         ],
         "yaxis": "y"
        },
        {
         "alignmentgroup": "True",
         "hovertemplate": "ticker=JPM<br>Day of Week=%{x}<br>Sentiment=%{y}<extra></extra>",
         "legendgroup": "JPM",
         "marker": {
          "color": "rgb(237, 217, 163)"
         },
         "name": "JPM",
         "offsetgroup": "JPM",
         "orientation": "v",
         "showlegend": true,
         "textposition": "auto",
         "type": "bar",
         "x": [
          0,
          1,
          2,
          3,
          4,
          5,
          6
         ],
         "xaxis": "x",
         "y": [
          0.40445000000000003,
          0.5231666666666667,
          0.4466,
          0.5619,
          0.3243333333333333,
          0.5766,
          0.19393
         ],
         "yaxis": "y"
        },
        {
         "alignmentgroup": "True",
         "hovertemplate": "ticker=KO<br>Day of Week=%{x}<br>Sentiment=%{y}<extra></extra>",
         "legendgroup": "KO",
         "marker": {
          "color": "rgb(75, 41, 145)"
         },
         "name": "KO",
         "offsetgroup": "KO",
         "orientation": "v",
         "showlegend": true,
         "textposition": "auto",
         "type": "bar",
         "x": [
          0,
          1,
          2,
          3,
          4,
          5,
          6
         ],
         "xaxis": "x",
         "y": [
          0.22895,
          0.4203,
          null,
          0.32816666666666666,
          0.205575,
          0.07377999999999998,
          0.35400000000000004
         ],
         "yaxis": "y"
        },
        {
         "alignmentgroup": "True",
         "hovertemplate": "ticker=MA<br>Day of Week=%{x}<br>Sentiment=%{y}<extra></extra>",
         "legendgroup": "MA",
         "marker": {
          "color": "rgb(135, 44, 162)"
         },
         "name": "MA",
         "offsetgroup": "MA",
         "orientation": "v",
         "showlegend": true,
         "textposition": "auto",
         "type": "bar",
         "x": [
          0,
          1,
          2,
          3,
          4,
          5,
          6
         ],
         "xaxis": "x",
         "y": [
          0.45826666666666666,
          0.5443,
          0.4404,
          0.5491111111111111,
          0.4774777777777778,
          0.389925,
          null
         ],
         "yaxis": "y"
        },
        {
         "alignmentgroup": "True",
         "hovertemplate": "ticker=MCD<br>Day of Week=%{x}<br>Sentiment=%{y}<extra></extra>",
         "legendgroup": "MCD",
         "marker": {
          "color": "rgb(192, 54, 157)"
         },
         "name": "MCD",
         "offsetgroup": "MCD",
         "orientation": "v",
         "showlegend": true,
         "textposition": "auto",
         "type": "bar",
         "x": [
          0,
          1,
          2,
          3,
          4,
          5,
          6
         ],
         "xaxis": "x",
         "y": [
          0.44236666666666663,
          0.4767,
          0.48945,
          -0.2732,
          0.47550000000000003,
          0.22046666666666664,
          -0.25586000000000003
         ],
         "yaxis": "y"
        },
        {
         "alignmentgroup": "True",
         "hovertemplate": "ticker=MRK<br>Day of Week=%{x}<br>Sentiment=%{y}<extra></extra>",
         "legendgroup": "MRK",
         "marker": {
          "color": "rgb(234, 79, 136)"
         },
         "name": "MRK",
         "offsetgroup": "MRK",
         "orientation": "v",
         "showlegend": true,
         "textposition": "auto",
         "type": "bar",
         "x": [
          0,
          1,
          2,
          3,
          4,
          5,
          6
         ],
         "xaxis": "x",
         "y": [
          0.4588,
          0.5574,
          -0.3709,
          0.34968333333333335,
          -0.03622499999999998,
          0.2614285714285714,
          0.296
         ],
         "yaxis": "y"
        },
        {
         "alignmentgroup": "True",
         "hovertemplate": "ticker=MSFT<br>Day of Week=%{x}<br>Sentiment=%{y}<extra></extra>",
         "legendgroup": "MSFT",
         "marker": {
          "color": "rgb(250, 120, 118)"
         },
         "name": "MSFT",
         "offsetgroup": "MSFT",
         "orientation": "v",
         "showlegend": true,
         "textposition": "auto",
         "type": "bar",
         "x": [
          0,
          1,
          2,
          3,
          4,
          5,
          6
         ],
         "xaxis": "x",
         "y": [
          0.27022666666666667,
          null,
          null,
          -0.296,
          null,
          null,
          0.28092222222222224
         ],
         "yaxis": "y"
        },
        {
         "alignmentgroup": "True",
         "hovertemplate": "ticker=NFLX<br>Day of Week=%{x}<br>Sentiment=%{y}<extra></extra>",
         "legendgroup": "NFLX",
         "marker": {
          "color": "rgb(246, 169, 122)"
         },
         "name": "NFLX",
         "offsetgroup": "NFLX",
         "orientation": "v",
         "showlegend": true,
         "textposition": "auto",
         "type": "bar",
         "x": [
          0,
          1,
          2,
          3,
          4,
          5,
          6
         ],
         "xaxis": "x",
         "y": [
          0.18537037037037038,
          0.4503333333333333,
          0.0516,
          0.5719,
          0.765,
          null,
          0.14191428571428572
         ],
         "yaxis": "y"
        },
        {
         "alignmentgroup": "True",
         "hovertemplate": "ticker=NVDA<br>Day of Week=%{x}<br>Sentiment=%{y}<extra></extra>",
         "legendgroup": "NVDA",
         "marker": {
          "color": "rgb(237, 217, 163)"
         },
         "name": "NVDA",
         "offsetgroup": "NVDA",
         "orientation": "v",
         "showlegend": true,
         "textposition": "auto",
         "type": "bar",
         "x": [
          0,
          1,
          2,
          3,
          4,
          5,
          6
         ],
         "xaxis": "x",
         "y": [
          0.19427857142857144,
          0.50335,
          0.23090000000000002,
          null,
          0.448775,
          0.296,
          0.025500000000000023
         ],
         "yaxis": "y"
        },
        {
         "alignmentgroup": "True",
         "hovertemplate": "ticker=NVS<br>Day of Week=%{x}<br>Sentiment=%{y}<extra></extra>",
         "legendgroup": "NVS",
         "marker": {
          "color": "rgb(75, 41, 145)"
         },
         "name": "NVS",
         "offsetgroup": "NVS",
         "orientation": "v",
         "showlegend": true,
         "textposition": "auto",
         "type": "bar",
         "x": [
          0,
          1,
          2,
          3,
          4,
          5,
          6
         ],
         "xaxis": "x",
         "y": [
          0.7964,
          null,
          0.5423,
          0.29581250000000003,
          0.3715,
          -0.128,
          0.06274285714285713
         ],
         "yaxis": "y"
        },
        {
         "alignmentgroup": "True",
         "hovertemplate": "ticker=ORCL<br>Day of Week=%{x}<br>Sentiment=%{y}<extra></extra>",
         "legendgroup": "ORCL",
         "marker": {
          "color": "rgb(135, 44, 162)"
         },
         "name": "ORCL",
         "offsetgroup": "ORCL",
         "orientation": "v",
         "showlegend": true,
         "textposition": "auto",
         "type": "bar",
         "x": [
          0,
          1,
          2,
          3,
          4,
          5,
          6
         ],
         "xaxis": "x",
         "y": [
          0.5188333333333334,
          0.5362,
          0.17686666666666664,
          0.3714,
          -0.0865857142857143,
          -0.2263,
          -0.11914999999999999
         ],
         "yaxis": "y"
        },
        {
         "alignmentgroup": "True",
         "hovertemplate": "ticker=PDD<br>Day of Week=%{x}<br>Sentiment=%{y}<extra></extra>",
         "legendgroup": "PDD",
         "marker": {
          "color": "rgb(192, 54, 157)"
         },
         "name": "PDD",
         "offsetgroup": "PDD",
         "orientation": "v",
         "showlegend": true,
         "textposition": "auto",
         "type": "bar",
         "x": [
          0,
          1,
          2,
          3,
          4,
          5,
          6
         ],
         "xaxis": "x",
         "y": [
          null,
          null,
          0.4404,
          0.44474285714285716,
          0.09388749999999998,
          0.4063,
          0.08524999999999999
         ],
         "yaxis": "y"
        },
        {
         "alignmentgroup": "True",
         "hovertemplate": "ticker=PEP<br>Day of Week=%{x}<br>Sentiment=%{y}<extra></extra>",
         "legendgroup": "PEP",
         "marker": {
          "color": "rgb(234, 79, 136)"
         },
         "name": "PEP",
         "offsetgroup": "PEP",
         "orientation": "v",
         "showlegend": true,
         "textposition": "auto",
         "type": "bar",
         "x": [
          0,
          1,
          2,
          3,
          4,
          5,
          6
         ],
         "xaxis": "x",
         "y": [
          0.5607200000000001,
          0.4811,
          0.7345,
          0.6530000000000001,
          -0.05698571428571429,
          0.22799999999999998,
          0.3774
         ],
         "yaxis": "y"
        },
        {
         "alignmentgroup": "True",
         "hovertemplate": "ticker=PFE<br>Day of Week=%{x}<br>Sentiment=%{y}<extra></extra>",
         "legendgroup": "PFE",
         "marker": {
          "color": "rgb(250, 120, 118)"
         },
         "name": "PFE",
         "offsetgroup": "PFE",
         "orientation": "v",
         "showlegend": true,
         "textposition": "auto",
         "type": "bar",
         "x": [
          0,
          1,
          2,
          3,
          4,
          5,
          6
         ],
         "xaxis": "x",
         "y": [
          0.05973043478260871,
          0.1901,
          0.57375,
          0.1027,
          -0.12689999999999999,
          null,
          null
         ],
         "yaxis": "y"
        },
        {
         "alignmentgroup": "True",
         "hovertemplate": "ticker=PG<br>Day of Week=%{x}<br>Sentiment=%{y}<extra></extra>",
         "legendgroup": "PG",
         "marker": {
          "color": "rgb(246, 169, 122)"
         },
         "name": "PG",
         "offsetgroup": "PG",
         "orientation": "v",
         "showlegend": true,
         "textposition": "auto",
         "type": "bar",
         "x": [
          0,
          1,
          2,
          3,
          4,
          5,
          6
         ],
         "xaxis": "x",
         "y": [
          0.14095714285714286,
          null,
          0.0772,
          null,
          0.25905999999999996,
          0.05145999999999999,
          null
         ],
         "yaxis": "y"
        },
        {
         "alignmentgroup": "True",
         "hovertemplate": "ticker=PYPL<br>Day of Week=%{x}<br>Sentiment=%{y}<extra></extra>",
         "legendgroup": "PYPL",
         "marker": {
          "color": "rgb(237, 217, 163)"
         },
         "name": "PYPL",
         "offsetgroup": "PYPL",
         "orientation": "v",
         "showlegend": true,
         "textposition": "auto",
         "type": "bar",
         "x": [
          0,
          1,
          2,
          3,
          4,
          5,
          6
         ],
         "xaxis": "x",
         "y": [
          0.2406,
          0.20451999999999998,
          0.7003,
          null,
          0.765,
          null,
          0.09176999999999999
         ],
         "yaxis": "y"
        },
        {
         "alignmentgroup": "True",
         "hovertemplate": "ticker=T<br>Day of Week=%{x}<br>Sentiment=%{y}<extra></extra>",
         "legendgroup": "T",
         "marker": {
          "color": "rgb(75, 41, 145)"
         },
         "name": "T",
         "offsetgroup": "T",
         "orientation": "v",
         "showlegend": true,
         "textposition": "auto",
         "type": "bar",
         "x": [
          0,
          1,
          2,
          3,
          4,
          5,
          6
         ],
         "xaxis": "x",
         "y": [
          0.13164,
          0.5083666666666666,
          null,
          0.5053,
          0.36985,
          null,
          0.5585911764705881
         ],
         "yaxis": "y"
        },
        {
         "alignmentgroup": "True",
         "hovertemplate": "ticker=TM<br>Day of Week=%{x}<br>Sentiment=%{y}<extra></extra>",
         "legendgroup": "TM",
         "marker": {
          "color": "rgb(135, 44, 162)"
         },
         "name": "TM",
         "offsetgroup": "TM",
         "orientation": "v",
         "showlegend": true,
         "textposition": "auto",
         "type": "bar",
         "x": [
          0,
          1,
          2,
          3,
          4,
          5,
          6
         ],
         "xaxis": "x",
         "y": [
          0.47615,
          0.5544666666666668,
          0.25,
          0.3149,
          0.4371333333333333,
          -0.13340000000000002,
          0.20212
         ],
         "yaxis": "y"
        },
        {
         "alignmentgroup": "True",
         "hovertemplate": "ticker=TMO<br>Day of Week=%{x}<br>Sentiment=%{y}<extra></extra>",
         "legendgroup": "TMO",
         "marker": {
          "color": "rgb(192, 54, 157)"
         },
         "name": "TMO",
         "offsetgroup": "TMO",
         "orientation": "v",
         "showlegend": true,
         "textposition": "auto",
         "type": "bar",
         "x": [
          0,
          1,
          2,
          3,
          4,
          5,
          6
         ],
         "xaxis": "x",
         "y": [
          0.08213333333333334,
          0.6705,
          0.1096,
          0.42751666666666677,
          -0.07925454545454547,
          null,
          -0.296
         ],
         "yaxis": "y"
        },
        {
         "alignmentgroup": "True",
         "hovertemplate": "ticker=TMUS<br>Day of Week=%{x}<br>Sentiment=%{y}<extra></extra>",
         "legendgroup": "TMUS",
         "marker": {
          "color": "rgb(234, 79, 136)"
         },
         "name": "TMUS",
         "offsetgroup": "TMUS",
         "orientation": "v",
         "showlegend": true,
         "textposition": "auto",
         "type": "bar",
         "x": [
          0,
          1,
          2,
          3,
          4,
          5,
          6
         ],
         "xaxis": "x",
         "y": [
          0.46323333333333333,
          0.5423,
          0.4354,
          0.43998,
          0.1170666666666667,
          0.2263,
          0.30920000000000003
         ],
         "yaxis": "y"
        },
        {
         "alignmentgroup": "True",
         "hovertemplate": "ticker=TSLA<br>Day of Week=%{x}<br>Sentiment=%{y}<extra></extra>",
         "legendgroup": "TSLA",
         "marker": {
          "color": "rgb(250, 120, 118)"
         },
         "name": "TSLA",
         "offsetgroup": "TSLA",
         "orientation": "v",
         "showlegend": true,
         "textposition": "auto",
         "type": "bar",
         "x": [
          0,
          1,
          2,
          3,
          4,
          5,
          6
         ],
         "xaxis": "x",
         "y": [
          0.52015,
          0.5423,
          -0.3612,
          0.5292,
          0.36005,
          0.5859,
          0.33738571428571434
         ],
         "yaxis": "y"
        },
        {
         "alignmentgroup": "True",
         "hovertemplate": "ticker=TSM<br>Day of Week=%{x}<br>Sentiment=%{y}<extra></extra>",
         "legendgroup": "TSM",
         "marker": {
          "color": "rgb(246, 169, 122)"
         },
         "name": "TSM",
         "offsetgroup": "TSM",
         "orientation": "v",
         "showlegend": true,
         "textposition": "auto",
         "type": "bar",
         "x": [
          0,
          1,
          2,
          3,
          4,
          5,
          6
         ],
         "xaxis": "x",
         "y": [
          -0.2717333333333333,
          0.3167,
          0.41755,
          0.413625,
          0.3448333333333333,
          0.22924999999999998,
          -0.0343
         ],
         "yaxis": "y"
        },
        {
         "alignmentgroup": "True",
         "hovertemplate": "ticker=UN<br>Day of Week=%{x}<br>Sentiment=%{y}<extra></extra>",
         "legendgroup": "UN",
         "marker": {
          "color": "rgb(237, 217, 163)"
         },
         "name": "UN",
         "offsetgroup": "UN",
         "orientation": "v",
         "showlegend": true,
         "textposition": "auto",
         "type": "bar",
         "x": [
          0,
          1,
          2,
          3,
          4,
          5,
          6
         ],
         "xaxis": "x",
         "y": [
          null,
          0.12194999999999999,
          0.33979999999999994,
          0.516375,
          0.5210600000000001,
          0.2810111111111111,
          0.296
         ],
         "yaxis": "y"
        },
        {
         "alignmentgroup": "True",
         "hovertemplate": "ticker=UNH<br>Day of Week=%{x}<br>Sentiment=%{y}<extra></extra>",
         "legendgroup": "UNH",
         "marker": {
          "color": "rgb(75, 41, 145)"
         },
         "name": "UNH",
         "offsetgroup": "UNH",
         "orientation": "v",
         "showlegend": true,
         "textposition": "auto",
         "type": "bar",
         "x": [
          0,
          1,
          2,
          3,
          4,
          5,
          6
         ],
         "xaxis": "x",
         "y": [
          0.2732,
          0.3431666666666667,
          0.2103666666666667,
          0.45816250000000003,
          0.23775000000000002,
          0.0772,
          0.1486
         ],
         "yaxis": "y"
        },
        {
         "alignmentgroup": "True",
         "hovertemplate": "ticker=VZ<br>Day of Week=%{x}<br>Sentiment=%{y}<extra></extra>",
         "legendgroup": "VZ",
         "marker": {
          "color": "rgb(135, 44, 162)"
         },
         "name": "VZ",
         "offsetgroup": "VZ",
         "orientation": "v",
         "showlegend": true,
         "textposition": "auto",
         "type": "bar",
         "x": [
          0,
          1,
          2,
          3,
          4,
          5,
          6
         ],
         "xaxis": "x",
         "y": [
          0.42333333333333334,
          0.6124,
          0.3397,
          0.4333666666666667,
          0.30951875,
          0.4939,
          0.1268
         ],
         "yaxis": "y"
        },
        {
         "alignmentgroup": "True",
         "hovertemplate": "ticker=WMT<br>Day of Week=%{x}<br>Sentiment=%{y}<extra></extra>",
         "legendgroup": "WMT",
         "marker": {
          "color": "rgb(192, 54, 157)"
         },
         "name": "WMT",
         "offsetgroup": "WMT",
         "orientation": "v",
         "showlegend": true,
         "textposition": "auto",
         "type": "bar",
         "x": [
          0,
          1,
          2,
          3,
          4,
          5,
          6
         ],
         "xaxis": "x",
         "y": [
          0.7579,
          null,
          0.38155,
          0.6597,
          0.17286,
          0.030700000000000015,
          0.014949999999999991
         ],
         "yaxis": "y"
        }
       ],
       "layout": {
        "barmode": "group",
        "legend": {
         "title": {
          "text": "ticker"
         },
         "tracegroupgap": 0
        },
        "template": {
         "data": {
          "bar": [
           {
            "error_x": {
             "color": "#f2f5fa"
            },
            "error_y": {
             "color": "#f2f5fa"
            },
            "marker": {
             "line": {
              "color": "rgb(17,17,17)",
              "width": 0.5
             }
            },
            "type": "bar"
           }
          ],
          "barpolar": [
           {
            "marker": {
             "line": {
              "color": "rgb(17,17,17)",
              "width": 0.5
             }
            },
            "type": "barpolar"
           }
          ],
          "carpet": [
           {
            "aaxis": {
             "endlinecolor": "#A2B1C6",
             "gridcolor": "#506784",
             "linecolor": "#506784",
             "minorgridcolor": "#506784",
             "startlinecolor": "#A2B1C6"
            },
            "baxis": {
             "endlinecolor": "#A2B1C6",
             "gridcolor": "#506784",
             "linecolor": "#506784",
             "minorgridcolor": "#506784",
             "startlinecolor": "#A2B1C6"
            },
            "type": "carpet"
           }
          ],
          "choropleth": [
           {
            "colorbar": {
             "outlinewidth": 0,
             "ticks": ""
            },
            "type": "choropleth"
           }
          ],
          "contour": [
           {
            "colorbar": {
             "outlinewidth": 0,
             "ticks": ""
            },
            "colorscale": [
             [
              0,
              "#0d0887"
             ],
             [
              0.1111111111111111,
              "#46039f"
             ],
             [
              0.2222222222222222,
              "#7201a8"
             ],
             [
              0.3333333333333333,
              "#9c179e"
             ],
             [
              0.4444444444444444,
              "#bd3786"
             ],
             [
              0.5555555555555556,
              "#d8576b"
             ],
             [
              0.6666666666666666,
              "#ed7953"
             ],
             [
              0.7777777777777778,
              "#fb9f3a"
             ],
             [
              0.8888888888888888,
              "#fdca26"
             ],
             [
              1,
              "#f0f921"
             ]
            ],
            "type": "contour"
           }
          ],
          "contourcarpet": [
           {
            "colorbar": {
             "outlinewidth": 0,
             "ticks": ""
            },
            "type": "contourcarpet"
           }
          ],
          "heatmap": [
           {
            "colorbar": {
             "outlinewidth": 0,
             "ticks": ""
            },
            "colorscale": [
             [
              0,
              "#0d0887"
             ],
             [
              0.1111111111111111,
              "#46039f"
             ],
             [
              0.2222222222222222,
              "#7201a8"
             ],
             [
              0.3333333333333333,
              "#9c179e"
             ],
             [
              0.4444444444444444,
              "#bd3786"
             ],
             [
              0.5555555555555556,
              "#d8576b"
             ],
             [
              0.6666666666666666,
              "#ed7953"
             ],
             [
              0.7777777777777778,
              "#fb9f3a"
             ],
             [
              0.8888888888888888,
              "#fdca26"
             ],
             [
              1,
              "#f0f921"
             ]
            ],
            "type": "heatmap"
           }
          ],
          "heatmapgl": [
           {
            "colorbar": {
             "outlinewidth": 0,
             "ticks": ""
            },
            "colorscale": [
             [
              0,
              "#0d0887"
             ],
             [
              0.1111111111111111,
              "#46039f"
             ],
             [
              0.2222222222222222,
              "#7201a8"
             ],
             [
              0.3333333333333333,
              "#9c179e"
             ],
             [
              0.4444444444444444,
              "#bd3786"
             ],
             [
              0.5555555555555556,
              "#d8576b"
             ],
             [
              0.6666666666666666,
              "#ed7953"
             ],
             [
              0.7777777777777778,
              "#fb9f3a"
             ],
             [
              0.8888888888888888,
              "#fdca26"
             ],
             [
              1,
              "#f0f921"
             ]
            ],
            "type": "heatmapgl"
           }
          ],
          "histogram": [
           {
            "marker": {
             "colorbar": {
              "outlinewidth": 0,
              "ticks": ""
             }
            },
            "type": "histogram"
           }
          ],
          "histogram2d": [
           {
            "colorbar": {
             "outlinewidth": 0,
             "ticks": ""
            },
            "colorscale": [
             [
              0,
              "#0d0887"
             ],
             [
              0.1111111111111111,
              "#46039f"
             ],
             [
              0.2222222222222222,
              "#7201a8"
             ],
             [
              0.3333333333333333,
              "#9c179e"
             ],
             [
              0.4444444444444444,
              "#bd3786"
             ],
             [
              0.5555555555555556,
              "#d8576b"
             ],
             [
              0.6666666666666666,
              "#ed7953"
             ],
             [
              0.7777777777777778,
              "#fb9f3a"
             ],
             [
              0.8888888888888888,
              "#fdca26"
             ],
             [
              1,
              "#f0f921"
             ]
            ],
            "type": "histogram2d"
           }
          ],
          "histogram2dcontour": [
           {
            "colorbar": {
             "outlinewidth": 0,
             "ticks": ""
            },
            "colorscale": [
             [
              0,
              "#0d0887"
             ],
             [
              0.1111111111111111,
              "#46039f"
             ],
             [
              0.2222222222222222,
              "#7201a8"
             ],
             [
              0.3333333333333333,
              "#9c179e"
             ],
             [
              0.4444444444444444,
              "#bd3786"
             ],
             [
              0.5555555555555556,
              "#d8576b"
             ],
             [
              0.6666666666666666,
              "#ed7953"
             ],
             [
              0.7777777777777778,
              "#fb9f3a"
             ],
             [
              0.8888888888888888,
              "#fdca26"
             ],
             [
              1,
              "#f0f921"
             ]
            ],
            "type": "histogram2dcontour"
           }
          ],
          "mesh3d": [
           {
            "colorbar": {
             "outlinewidth": 0,
             "ticks": ""
            },
            "type": "mesh3d"
           }
          ],
          "parcoords": [
           {
            "line": {
             "colorbar": {
              "outlinewidth": 0,
              "ticks": ""
             }
            },
            "type": "parcoords"
           }
          ],
          "pie": [
           {
            "automargin": true,
            "type": "pie"
           }
          ],
          "scatter": [
           {
            "marker": {
             "line": {
              "color": "#283442"
             }
            },
            "type": "scatter"
           }
          ],
          "scatter3d": [
           {
            "line": {
             "colorbar": {
              "outlinewidth": 0,
              "ticks": ""
             }
            },
            "marker": {
             "colorbar": {
              "outlinewidth": 0,
              "ticks": ""
             }
            },
            "type": "scatter3d"
           }
          ],
          "scattercarpet": [
           {
            "marker": {
             "colorbar": {
              "outlinewidth": 0,
              "ticks": ""
             }
            },
            "type": "scattercarpet"
           }
          ],
          "scattergeo": [
           {
            "marker": {
             "colorbar": {
              "outlinewidth": 0,
              "ticks": ""
             }
            },
            "type": "scattergeo"
           }
          ],
          "scattergl": [
           {
            "marker": {
             "line": {
              "color": "#283442"
             }
            },
            "type": "scattergl"
           }
          ],
          "scattermapbox": [
           {
            "marker": {
             "colorbar": {
              "outlinewidth": 0,
              "ticks": ""
             }
            },
            "type": "scattermapbox"
           }
          ],
          "scatterpolar": [
           {
            "marker": {
             "colorbar": {
              "outlinewidth": 0,
              "ticks": ""
             }
            },
            "type": "scatterpolar"
           }
          ],
          "scatterpolargl": [
           {
            "marker": {
             "colorbar": {
              "outlinewidth": 0,
              "ticks": ""
             }
            },
            "type": "scatterpolargl"
           }
          ],
          "scatterternary": [
           {
            "marker": {
             "colorbar": {
              "outlinewidth": 0,
              "ticks": ""
             }
            },
            "type": "scatterternary"
           }
          ],
          "surface": [
           {
            "colorbar": {
             "outlinewidth": 0,
             "ticks": ""
            },
            "colorscale": [
             [
              0,
              "#0d0887"
             ],
             [
              0.1111111111111111,
              "#46039f"
             ],
             [
              0.2222222222222222,
              "#7201a8"
             ],
             [
              0.3333333333333333,
              "#9c179e"
             ],
             [
              0.4444444444444444,
              "#bd3786"
             ],
             [
              0.5555555555555556,
              "#d8576b"
             ],
             [
              0.6666666666666666,
              "#ed7953"
             ],
             [
              0.7777777777777778,
              "#fb9f3a"
             ],
             [
              0.8888888888888888,
              "#fdca26"
             ],
             [
              1,
              "#f0f921"
             ]
            ],
            "type": "surface"
           }
          ],
          "table": [
           {
            "cells": {
             "fill": {
              "color": "#506784"
             },
             "line": {
              "color": "rgb(17,17,17)"
             }
            },
            "header": {
             "fill": {
              "color": "#2a3f5f"
             },
             "line": {
              "color": "rgb(17,17,17)"
             }
            },
            "type": "table"
           }
          ]
         },
         "layout": {
          "annotationdefaults": {
           "arrowcolor": "#f2f5fa",
           "arrowhead": 0,
           "arrowwidth": 1
          },
          "coloraxis": {
           "colorbar": {
            "outlinewidth": 0,
            "ticks": ""
           }
          },
          "colorscale": {
           "diverging": [
            [
             0,
             "#8e0152"
            ],
            [
             0.1,
             "#c51b7d"
            ],
            [
             0.2,
             "#de77ae"
            ],
            [
             0.3,
             "#f1b6da"
            ],
            [
             0.4,
             "#fde0ef"
            ],
            [
             0.5,
             "#f7f7f7"
            ],
            [
             0.6,
             "#e6f5d0"
            ],
            [
             0.7,
             "#b8e186"
            ],
            [
             0.8,
             "#7fbc41"
            ],
            [
             0.9,
             "#4d9221"
            ],
            [
             1,
             "#276419"
            ]
           ],
           "sequential": [
            [
             0,
             "#0d0887"
            ],
            [
             0.1111111111111111,
             "#46039f"
            ],
            [
             0.2222222222222222,
             "#7201a8"
            ],
            [
             0.3333333333333333,
             "#9c179e"
            ],
            [
             0.4444444444444444,
             "#bd3786"
            ],
            [
             0.5555555555555556,
             "#d8576b"
            ],
            [
             0.6666666666666666,
             "#ed7953"
            ],
            [
             0.7777777777777778,
             "#fb9f3a"
            ],
            [
             0.8888888888888888,
             "#fdca26"
            ],
            [
             1,
             "#f0f921"
            ]
           ],
           "sequentialminus": [
            [
             0,
             "#0d0887"
            ],
            [
             0.1111111111111111,
             "#46039f"
            ],
            [
             0.2222222222222222,
             "#7201a8"
            ],
            [
             0.3333333333333333,
             "#9c179e"
            ],
            [
             0.4444444444444444,
             "#bd3786"
            ],
            [
             0.5555555555555556,
             "#d8576b"
            ],
            [
             0.6666666666666666,
             "#ed7953"
            ],
            [
             0.7777777777777778,
             "#fb9f3a"
            ],
            [
             0.8888888888888888,
             "#fdca26"
            ],
            [
             1,
             "#f0f921"
            ]
           ]
          },
          "colorway": [
           "#636efa",
           "#EF553B",
           "#00cc96",
           "#ab63fa",
           "#FFA15A",
           "#19d3f3",
           "#FF6692",
           "#B6E880",
           "#FF97FF",
           "#FECB52"
          ],
          "font": {
           "color": "#f2f5fa"
          },
          "geo": {
           "bgcolor": "rgb(17,17,17)",
           "lakecolor": "rgb(17,17,17)",
           "landcolor": "rgb(17,17,17)",
           "showlakes": true,
           "showland": true,
           "subunitcolor": "#506784"
          },
          "hoverlabel": {
           "align": "left"
          },
          "hovermode": "closest",
          "mapbox": {
           "style": "dark"
          },
          "paper_bgcolor": "rgb(17,17,17)",
          "plot_bgcolor": "rgb(17,17,17)",
          "polar": {
           "angularaxis": {
            "gridcolor": "#506784",
            "linecolor": "#506784",
            "ticks": ""
           },
           "bgcolor": "rgb(17,17,17)",
           "radialaxis": {
            "gridcolor": "#506784",
            "linecolor": "#506784",
            "ticks": ""
           }
          },
          "scene": {
           "xaxis": {
            "backgroundcolor": "rgb(17,17,17)",
            "gridcolor": "#506784",
            "gridwidth": 2,
            "linecolor": "#506784",
            "showbackground": true,
            "ticks": "",
            "zerolinecolor": "#C8D4E3"
           },
           "yaxis": {
            "backgroundcolor": "rgb(17,17,17)",
            "gridcolor": "#506784",
            "gridwidth": 2,
            "linecolor": "#506784",
            "showbackground": true,
            "ticks": "",
            "zerolinecolor": "#C8D4E3"
           },
           "zaxis": {
            "backgroundcolor": "rgb(17,17,17)",
            "gridcolor": "#506784",
            "gridwidth": 2,
            "linecolor": "#506784",
            "showbackground": true,
            "ticks": "",
            "zerolinecolor": "#C8D4E3"
           }
          },
          "shapedefaults": {
           "line": {
            "color": "#f2f5fa"
           }
          },
          "sliderdefaults": {
           "bgcolor": "#C8D4E3",
           "bordercolor": "rgb(17,17,17)",
           "borderwidth": 1,
           "tickwidth": 0
          },
          "ternary": {
           "aaxis": {
            "gridcolor": "#506784",
            "linecolor": "#506784",
            "ticks": ""
           },
           "baxis": {
            "gridcolor": "#506784",
            "linecolor": "#506784",
            "ticks": ""
           },
           "bgcolor": "rgb(17,17,17)",
           "caxis": {
            "gridcolor": "#506784",
            "linecolor": "#506784",
            "ticks": ""
           }
          },
          "title": {
           "x": 0.05
          },
          "updatemenudefaults": {
           "bgcolor": "#506784",
           "borderwidth": 0
          },
          "xaxis": {
           "automargin": true,
           "gridcolor": "#283442",
           "linecolor": "#506784",
           "ticks": "",
           "title": {
            "standoff": 15
           },
           "zerolinecolor": "#283442",
           "zerolinewidth": 2
          },
          "yaxis": {
           "automargin": true,
           "gridcolor": "#283442",
           "linecolor": "#506784",
           "ticks": "",
           "title": {
            "standoff": 15
           },
           "zerolinecolor": "#283442",
           "zerolinewidth": 2
          }
         }
        },
        "title": {
         "text": "Average Week Day Sentiment of Stock Headlines"
        },
        "xaxis": {
         "anchor": "y",
         "domain": [
          0,
          1
         ],
         "title": {
          "text": "Day of Week"
         }
        },
        "yaxis": {
         "anchor": "x",
         "domain": [
          0,
          1
         ],
         "title": {
          "text": "Sentiment"
         }
        }
       }
      },
      "text/html": [
       "<div>                            <div id=\"e6ba775d-914d-42fc-bc9c-2157108388d3\" class=\"plotly-graph-div\" style=\"height:525px; width:100%;\"></div>            <script type=\"text/javascript\">                require([\"plotly\"], function(Plotly) {                    window.PLOTLYENV=window.PLOTLYENV || {};                                    if (document.getElementById(\"e6ba775d-914d-42fc-bc9c-2157108388d3\")) {                    Plotly.newPlot(                        \"e6ba775d-914d-42fc-bc9c-2157108388d3\",                        [{\"alignmentgroup\": \"True\", \"hovertemplate\": \"ticker=AAPL<br>Day of Week=%{x}<br>Sentiment=%{y}<extra></extra>\", \"legendgroup\": \"AAPL\", \"marker\": {\"color\": \"rgb(75, 41, 145)\"}, \"name\": \"AAPL\", \"offsetgroup\": \"AAPL\", \"orientation\": \"v\", \"showlegend\": true, \"textposition\": \"auto\", \"type\": \"bar\", \"x\": [0, 1, 2, 3, 4, 5, 6], \"xaxis\": \"x\", \"y\": [0.22562307692307693, 0.25666666666666665, 0.5967, 0.2732, 0.3902, null, 0.039463636363636374], \"yaxis\": \"y\"}, {\"alignmentgroup\": \"True\", \"hovertemplate\": \"ticker=ABBV<br>Day of Week=%{x}<br>Sentiment=%{y}<extra></extra>\", \"legendgroup\": \"ABBV\", \"marker\": {\"color\": \"rgb(135, 44, 162)\"}, \"name\": \"ABBV\", \"offsetgroup\": \"ABBV\", \"orientation\": \"v\", \"showlegend\": true, \"textposition\": \"auto\", \"type\": \"bar\", \"x\": [0, 1, 2, 3, 4, 5, 6], \"xaxis\": \"x\", \"y\": [0.2618333333333333, 0.346325, 0.40228, 0.010949999999999996, 0.053333333333333344, 0.46645000000000003, null], \"yaxis\": \"y\"}, {\"alignmentgroup\": \"True\", \"hovertemplate\": \"ticker=ABT<br>Day of Week=%{x}<br>Sentiment=%{y}<extra></extra>\", \"legendgroup\": \"ABT\", \"marker\": {\"color\": \"rgb(192, 54, 157)\"}, \"name\": \"ABT\", \"offsetgroup\": \"ABT\", \"orientation\": \"v\", \"showlegend\": true, \"textposition\": \"auto\", \"type\": \"bar\", \"x\": [0, 1, 2, 3, 4, 5, 6], \"xaxis\": \"x\", \"y\": [0.43243333333333334, -0.4930500000000001, 0.15586666666666665, null, 0.44403333333333334, -0.04595, 0.36689999999999995], \"yaxis\": \"y\"}, {\"alignmentgroup\": \"True\", \"hovertemplate\": \"ticker=ADBE<br>Day of Week=%{x}<br>Sentiment=%{y}<extra></extra>\", \"legendgroup\": \"ADBE\", \"marker\": {\"color\": \"rgb(234, 79, 136)\"}, \"name\": \"ADBE\", \"offsetgroup\": \"ADBE\", \"orientation\": \"v\", \"showlegend\": true, \"textposition\": \"auto\", \"type\": \"bar\", \"x\": [0, 1, 2, 3, 4, 5, 6], \"xaxis\": \"x\", \"y\": [0.44789999999999996, 0.2023, null, 0.1833111111111111, 0.33985714285714286, 0.28315, 0.34], \"yaxis\": \"y\"}, {\"alignmentgroup\": \"True\", \"hovertemplate\": \"ticker=AMZN<br>Day of Week=%{x}<br>Sentiment=%{y}<extra></extra>\", \"legendgroup\": \"AMZN\", \"marker\": {\"color\": \"rgb(250, 120, 118)\"}, \"name\": \"AMZN\", \"offsetgroup\": \"AMZN\", \"orientation\": \"v\", \"showlegend\": true, \"textposition\": \"auto\", \"type\": \"bar\", \"x\": [0, 1, 2, 3, 4, 5, 6], \"xaxis\": \"x\", \"y\": [0.5471, -0.05429999999999999, 0.21842500000000004, 0.24407999999999994, null, null, 0.38847142857142863], \"yaxis\": \"y\"}, {\"alignmentgroup\": \"True\", \"hovertemplate\": \"ticker=ASML<br>Day of Week=%{x}<br>Sentiment=%{y}<extra></extra>\", \"legendgroup\": \"ASML\", \"marker\": {\"color\": \"rgb(246, 169, 122)\"}, \"name\": \"ASML\", \"offsetgroup\": \"ASML\", \"orientation\": \"v\", \"showlegend\": true, \"textposition\": \"auto\", \"type\": \"bar\", \"x\": [0, 1, 2, 3, 4, 5, 6], \"xaxis\": \"x\", \"y\": [0.21081000000000003, 0.4535, 0.0943, 0.37338333333333334, 0.5423, null, 0.5859], \"yaxis\": \"y\"}, {\"alignmentgroup\": \"True\", \"hovertemplate\": \"ticker=BABA<br>Day of Week=%{x}<br>Sentiment=%{y}<extra></extra>\", \"legendgroup\": \"BABA\", \"marker\": {\"color\": \"rgb(237, 217, 163)\"}, \"name\": \"BABA\", \"offsetgroup\": \"BABA\", \"orientation\": \"v\", \"showlegend\": true, \"textposition\": \"auto\", \"type\": \"bar\", \"x\": [0, 1, 2, 3, 4, 5, 6], \"xaxis\": \"x\", \"y\": [0.37297777777777774, 0.29875, null, 0.4215, 0.4019, 0.4404, 0.18185], \"yaxis\": \"y\"}, {\"alignmentgroup\": \"True\", \"hovertemplate\": \"ticker=BAC<br>Day of Week=%{x}<br>Sentiment=%{y}<extra></extra>\", \"legendgroup\": \"BAC\", \"marker\": {\"color\": \"rgb(75, 41, 145)\"}, \"name\": \"BAC\", \"offsetgroup\": \"BAC\", \"orientation\": \"v\", \"showlegend\": true, \"textposition\": \"auto\", \"type\": \"bar\", \"x\": [0, 1, 2, 3, 4, 5, 6], \"xaxis\": \"x\", \"y\": [0.5172833333333333, null, 0.3803, 0.4019, 0.25, null, 0.2618629629629631], \"yaxis\": \"y\"}, {\"alignmentgroup\": \"True\", \"hovertemplate\": \"ticker=CMCSA<br>Day of Week=%{x}<br>Sentiment=%{y}<extra></extra>\", \"legendgroup\": \"CMCSA\", \"marker\": {\"color\": \"rgb(135, 44, 162)\"}, \"name\": \"CMCSA\", \"offsetgroup\": \"CMCSA\", \"orientation\": \"v\", \"showlegend\": true, \"textposition\": \"auto\", \"type\": \"bar\", \"x\": [0, 1, 2, 3, 4, 5, 6], \"xaxis\": \"x\", \"y\": [0.5310666666666667, null, 0.5994, 0.5431166666666667, 0.1779, 0.26496666666666674, 0.46090714285714285], \"yaxis\": \"y\"}, {\"alignmentgroup\": \"True\", \"hovertemplate\": \"ticker=COST<br>Day of Week=%{x}<br>Sentiment=%{y}<extra></extra>\", \"legendgroup\": \"COST\", \"marker\": {\"color\": \"rgb(192, 54, 157)\"}, \"name\": \"COST\", \"offsetgroup\": \"COST\", \"orientation\": \"v\", \"showlegend\": true, \"textposition\": \"auto\", \"type\": \"bar\", \"x\": [0, 1, 2, 3, 4, 5, 6], \"xaxis\": \"x\", \"y\": [0.1619166666666667, 0.6658999999999999, null, 0.3196, 0.1985, 0.4019, 0.36644], \"yaxis\": \"y\"}, {\"alignmentgroup\": \"True\", \"hovertemplate\": \"ticker=CRM<br>Day of Week=%{x}<br>Sentiment=%{y}<extra></extra>\", \"legendgroup\": \"CRM\", \"marker\": {\"color\": \"rgb(234, 79, 136)\"}, \"name\": \"CRM\", \"offsetgroup\": \"CRM\", \"orientation\": \"v\", \"showlegend\": true, \"textposition\": \"auto\", \"type\": \"bar\", \"x\": [0, 1, 2, 3, 4, 5, 6], \"xaxis\": \"x\", \"y\": [-0.011833333333333326, 0.16462857142857143, 0.4847, 0.3612, 0.4019, -0.128, 0.45159375000000007], \"yaxis\": \"y\"}, {\"alignmentgroup\": \"True\", \"hovertemplate\": \"ticker=CSCO<br>Day of Week=%{x}<br>Sentiment=%{y}<extra></extra>\", \"legendgroup\": \"CSCO\", \"marker\": {\"color\": \"rgb(250, 120, 118)\"}, \"name\": \"CSCO\", \"offsetgroup\": \"CSCO\", \"orientation\": \"v\", \"showlegend\": true, \"textposition\": \"auto\", \"type\": \"bar\", \"x\": [0, 1, 2, 3, 4, 5, 6], \"xaxis\": \"x\", \"y\": [0.61385, 0.57735, 0.836, 0.517, 0.34935555555555553, -0.2678666666666667, 0.5043875], \"yaxis\": \"y\"}, {\"alignmentgroup\": \"True\", \"hovertemplate\": \"ticker=CVX<br>Day of Week=%{x}<br>Sentiment=%{y}<extra></extra>\", \"legendgroup\": \"CVX\", \"marker\": {\"color\": \"rgb(246, 169, 122)\"}, \"name\": \"CVX\", \"offsetgroup\": \"CVX\", \"orientation\": \"v\", \"showlegend\": true, \"textposition\": \"auto\", \"type\": \"bar\", \"x\": [0, 1, 2, 3, 4, 5, 6], \"xaxis\": \"x\", \"y\": [0.050475000000000006, 0.49266666666666675, 0.33335000000000004, null, 0.43483333333333335, -0.10300000000000001, 0.44092307692307686], \"yaxis\": \"y\"}, {\"alignmentgroup\": \"True\", \"hovertemplate\": \"ticker=DHR<br>Day of Week=%{x}<br>Sentiment=%{y}<extra></extra>\", \"legendgroup\": \"DHR\", \"marker\": {\"color\": \"rgb(237, 217, 163)\"}, \"name\": \"DHR\", \"offsetgroup\": \"DHR\", \"orientation\": \"v\", \"showlegend\": true, \"textposition\": \"auto\", \"type\": \"bar\", \"x\": [0, 1, 2, 3, 4, 5, 6], \"xaxis\": \"x\", \"y\": [0.33816666666666667, 0.325175, 0.12605, 0.04302000000000002, 0.5149666666666667, 0.28315, 0.6908], \"yaxis\": \"y\"}, {\"alignmentgroup\": \"True\", \"hovertemplate\": \"ticker=DIS<br>Day of Week=%{x}<br>Sentiment=%{y}<extra></extra>\", \"legendgroup\": \"DIS\", \"marker\": {\"color\": \"rgb(75, 41, 145)\"}, \"name\": \"DIS\", \"offsetgroup\": \"DIS\", \"orientation\": \"v\", \"showlegend\": true, \"textposition\": \"auto\", \"type\": \"bar\", \"x\": [0, 1, 2, 3, 4, 5, 6], \"xaxis\": \"x\", \"y\": [-0.07431666666666668, null, 0.3818, 0.23695, 0.4404, null, 0.4767], \"yaxis\": \"y\"}, {\"alignmentgroup\": \"True\", \"hovertemplate\": \"ticker=GOOG<br>Day of Week=%{x}<br>Sentiment=%{y}<extra></extra>\", \"legendgroup\": \"GOOG\", \"marker\": {\"color\": \"rgb(135, 44, 162)\"}, \"name\": \"GOOG\", \"offsetgroup\": \"GOOG\", \"orientation\": \"v\", \"showlegend\": true, \"textposition\": \"auto\", \"type\": \"bar\", \"x\": [0, 1, 2, 3, 4, 5, 6], \"xaxis\": \"x\", \"y\": [0.1622777777777778, null, null, 0.2266, 0.5449999999999999, null, 0.10704999999999998], \"yaxis\": \"y\"}, {\"alignmentgroup\": \"True\", \"hovertemplate\": \"ticker=GOOGL<br>Day of Week=%{x}<br>Sentiment=%{y}<extra></extra>\", \"legendgroup\": \"GOOGL\", \"marker\": {\"color\": \"rgb(192, 54, 157)\"}, \"name\": \"GOOGL\", \"offsetgroup\": \"GOOGL\", \"orientation\": \"v\", \"showlegend\": true, \"textposition\": \"auto\", \"type\": \"bar\", \"x\": [0, 1, 2, 3, 4, 5, 6], \"xaxis\": \"x\", \"y\": [0.11423000000000001, null, null, 0.2266, 0.5449999999999999, null, 0.12063333333333333], \"yaxis\": \"y\"}, {\"alignmentgroup\": \"True\", \"hovertemplate\": \"ticker=HD<br>Day of Week=%{x}<br>Sentiment=%{y}<extra></extra>\", \"legendgroup\": \"HD\", \"marker\": {\"color\": \"rgb(234, 79, 136)\"}, \"name\": \"HD\", \"offsetgroup\": \"HD\", \"orientation\": \"v\", \"showlegend\": true, \"textposition\": \"auto\", \"type\": \"bar\", \"x\": [0, 1, 2, 3, 4, 5, 6], \"xaxis\": \"x\", \"y\": [0.5719, 0.4371333333333333, 0.7172999999999999, 0.31758333333333333, 0.41922499999999996, 0.3194666666666667, 0.352525], \"yaxis\": \"y\"}, {\"alignmentgroup\": \"True\", \"hovertemplate\": \"ticker=INTC<br>Day of Week=%{x}<br>Sentiment=%{y}<extra></extra>\", \"legendgroup\": \"INTC\", \"marker\": {\"color\": \"rgb(250, 120, 118)\"}, \"name\": \"INTC\", \"offsetgroup\": \"INTC\", \"orientation\": \"v\", \"showlegend\": true, \"textposition\": \"auto\", \"type\": \"bar\", \"x\": [0, 1, 2, 3, 4, 5, 6], \"xaxis\": \"x\", \"y\": [0.2697076923076923, 0.3473, 0.3994, 0.3703666666666667, null, 0.16100000000000003, 0.09620000000000001], \"yaxis\": \"y\"}, {\"alignmentgroup\": \"True\", \"hovertemplate\": \"ticker=JNJ<br>Day of Week=%{x}<br>Sentiment=%{y}<extra></extra>\", \"legendgroup\": \"JNJ\", \"marker\": {\"color\": \"rgb(246, 169, 122)\"}, \"name\": \"JNJ\", \"offsetgroup\": \"JNJ\", \"orientation\": \"v\", \"showlegend\": true, \"textposition\": \"auto\", \"type\": \"bar\", \"x\": [0, 1, 2, 3, 4, 5, 6], \"xaxis\": \"x\", \"y\": [-0.057499999999999996, 0.54105, 0.1779, null, 0.3818, 0.802, 0.39261999999999997], \"yaxis\": \"y\"}, {\"alignmentgroup\": \"True\", \"hovertemplate\": \"ticker=JPM<br>Day of Week=%{x}<br>Sentiment=%{y}<extra></extra>\", \"legendgroup\": \"JPM\", \"marker\": {\"color\": \"rgb(237, 217, 163)\"}, \"name\": \"JPM\", \"offsetgroup\": \"JPM\", \"orientation\": \"v\", \"showlegend\": true, \"textposition\": \"auto\", \"type\": \"bar\", \"x\": [0, 1, 2, 3, 4, 5, 6], \"xaxis\": \"x\", \"y\": [0.40445000000000003, 0.5231666666666667, 0.4466, 0.5619, 0.3243333333333333, 0.5766, 0.19393], \"yaxis\": \"y\"}, {\"alignmentgroup\": \"True\", \"hovertemplate\": \"ticker=KO<br>Day of Week=%{x}<br>Sentiment=%{y}<extra></extra>\", \"legendgroup\": \"KO\", \"marker\": {\"color\": \"rgb(75, 41, 145)\"}, \"name\": \"KO\", \"offsetgroup\": \"KO\", \"orientation\": \"v\", \"showlegend\": true, \"textposition\": \"auto\", \"type\": \"bar\", \"x\": [0, 1, 2, 3, 4, 5, 6], \"xaxis\": \"x\", \"y\": [0.22895, 0.4203, null, 0.32816666666666666, 0.205575, 0.07377999999999998, 0.35400000000000004], \"yaxis\": \"y\"}, {\"alignmentgroup\": \"True\", \"hovertemplate\": \"ticker=MA<br>Day of Week=%{x}<br>Sentiment=%{y}<extra></extra>\", \"legendgroup\": \"MA\", \"marker\": {\"color\": \"rgb(135, 44, 162)\"}, \"name\": \"MA\", \"offsetgroup\": \"MA\", \"orientation\": \"v\", \"showlegend\": true, \"textposition\": \"auto\", \"type\": \"bar\", \"x\": [0, 1, 2, 3, 4, 5, 6], \"xaxis\": \"x\", \"y\": [0.45826666666666666, 0.5443, 0.4404, 0.5491111111111111, 0.4774777777777778, 0.389925, null], \"yaxis\": \"y\"}, {\"alignmentgroup\": \"True\", \"hovertemplate\": \"ticker=MCD<br>Day of Week=%{x}<br>Sentiment=%{y}<extra></extra>\", \"legendgroup\": \"MCD\", \"marker\": {\"color\": \"rgb(192, 54, 157)\"}, \"name\": \"MCD\", \"offsetgroup\": \"MCD\", \"orientation\": \"v\", \"showlegend\": true, \"textposition\": \"auto\", \"type\": \"bar\", \"x\": [0, 1, 2, 3, 4, 5, 6], \"xaxis\": \"x\", \"y\": [0.44236666666666663, 0.4767, 0.48945, -0.2732, 0.47550000000000003, 0.22046666666666664, -0.25586000000000003], \"yaxis\": \"y\"}, {\"alignmentgroup\": \"True\", \"hovertemplate\": \"ticker=MRK<br>Day of Week=%{x}<br>Sentiment=%{y}<extra></extra>\", \"legendgroup\": \"MRK\", \"marker\": {\"color\": \"rgb(234, 79, 136)\"}, \"name\": \"MRK\", \"offsetgroup\": \"MRK\", \"orientation\": \"v\", \"showlegend\": true, \"textposition\": \"auto\", \"type\": \"bar\", \"x\": [0, 1, 2, 3, 4, 5, 6], \"xaxis\": \"x\", \"y\": [0.4588, 0.5574, -0.3709, 0.34968333333333335, -0.03622499999999998, 0.2614285714285714, 0.296], \"yaxis\": \"y\"}, {\"alignmentgroup\": \"True\", \"hovertemplate\": \"ticker=MSFT<br>Day of Week=%{x}<br>Sentiment=%{y}<extra></extra>\", \"legendgroup\": \"MSFT\", \"marker\": {\"color\": \"rgb(250, 120, 118)\"}, \"name\": \"MSFT\", \"offsetgroup\": \"MSFT\", \"orientation\": \"v\", \"showlegend\": true, \"textposition\": \"auto\", \"type\": \"bar\", \"x\": [0, 1, 2, 3, 4, 5, 6], \"xaxis\": \"x\", \"y\": [0.27022666666666667, null, null, -0.296, null, null, 0.28092222222222224], \"yaxis\": \"y\"}, {\"alignmentgroup\": \"True\", \"hovertemplate\": \"ticker=NFLX<br>Day of Week=%{x}<br>Sentiment=%{y}<extra></extra>\", \"legendgroup\": \"NFLX\", \"marker\": {\"color\": \"rgb(246, 169, 122)\"}, \"name\": \"NFLX\", \"offsetgroup\": \"NFLX\", \"orientation\": \"v\", \"showlegend\": true, \"textposition\": \"auto\", \"type\": \"bar\", \"x\": [0, 1, 2, 3, 4, 5, 6], \"xaxis\": \"x\", \"y\": [0.18537037037037038, 0.4503333333333333, 0.0516, 0.5719, 0.765, null, 0.14191428571428572], \"yaxis\": \"y\"}, {\"alignmentgroup\": \"True\", \"hovertemplate\": \"ticker=NVDA<br>Day of Week=%{x}<br>Sentiment=%{y}<extra></extra>\", \"legendgroup\": \"NVDA\", \"marker\": {\"color\": \"rgb(237, 217, 163)\"}, \"name\": \"NVDA\", \"offsetgroup\": \"NVDA\", \"orientation\": \"v\", \"showlegend\": true, \"textposition\": \"auto\", \"type\": \"bar\", \"x\": [0, 1, 2, 3, 4, 5, 6], \"xaxis\": \"x\", \"y\": [0.19427857142857144, 0.50335, 0.23090000000000002, null, 0.448775, 0.296, 0.025500000000000023], \"yaxis\": \"y\"}, {\"alignmentgroup\": \"True\", \"hovertemplate\": \"ticker=NVS<br>Day of Week=%{x}<br>Sentiment=%{y}<extra></extra>\", \"legendgroup\": \"NVS\", \"marker\": {\"color\": \"rgb(75, 41, 145)\"}, \"name\": \"NVS\", \"offsetgroup\": \"NVS\", \"orientation\": \"v\", \"showlegend\": true, \"textposition\": \"auto\", \"type\": \"bar\", \"x\": [0, 1, 2, 3, 4, 5, 6], \"xaxis\": \"x\", \"y\": [0.7964, null, 0.5423, 0.29581250000000003, 0.3715, -0.128, 0.06274285714285713], \"yaxis\": \"y\"}, {\"alignmentgroup\": \"True\", \"hovertemplate\": \"ticker=ORCL<br>Day of Week=%{x}<br>Sentiment=%{y}<extra></extra>\", \"legendgroup\": \"ORCL\", \"marker\": {\"color\": \"rgb(135, 44, 162)\"}, \"name\": \"ORCL\", \"offsetgroup\": \"ORCL\", \"orientation\": \"v\", \"showlegend\": true, \"textposition\": \"auto\", \"type\": \"bar\", \"x\": [0, 1, 2, 3, 4, 5, 6], \"xaxis\": \"x\", \"y\": [0.5188333333333334, 0.5362, 0.17686666666666664, 0.3714, -0.0865857142857143, -0.2263, -0.11914999999999999], \"yaxis\": \"y\"}, {\"alignmentgroup\": \"True\", \"hovertemplate\": \"ticker=PDD<br>Day of Week=%{x}<br>Sentiment=%{y}<extra></extra>\", \"legendgroup\": \"PDD\", \"marker\": {\"color\": \"rgb(192, 54, 157)\"}, \"name\": \"PDD\", \"offsetgroup\": \"PDD\", \"orientation\": \"v\", \"showlegend\": true, \"textposition\": \"auto\", \"type\": \"bar\", \"x\": [0, 1, 2, 3, 4, 5, 6], \"xaxis\": \"x\", \"y\": [null, null, 0.4404, 0.44474285714285716, 0.09388749999999998, 0.4063, 0.08524999999999999], \"yaxis\": \"y\"}, {\"alignmentgroup\": \"True\", \"hovertemplate\": \"ticker=PEP<br>Day of Week=%{x}<br>Sentiment=%{y}<extra></extra>\", \"legendgroup\": \"PEP\", \"marker\": {\"color\": \"rgb(234, 79, 136)\"}, \"name\": \"PEP\", \"offsetgroup\": \"PEP\", \"orientation\": \"v\", \"showlegend\": true, \"textposition\": \"auto\", \"type\": \"bar\", \"x\": [0, 1, 2, 3, 4, 5, 6], \"xaxis\": \"x\", \"y\": [0.5607200000000001, 0.4811, 0.7345, 0.6530000000000001, -0.05698571428571429, 0.22799999999999998, 0.3774], \"yaxis\": \"y\"}, {\"alignmentgroup\": \"True\", \"hovertemplate\": \"ticker=PFE<br>Day of Week=%{x}<br>Sentiment=%{y}<extra></extra>\", \"legendgroup\": \"PFE\", \"marker\": {\"color\": \"rgb(250, 120, 118)\"}, \"name\": \"PFE\", \"offsetgroup\": \"PFE\", \"orientation\": \"v\", \"showlegend\": true, \"textposition\": \"auto\", \"type\": \"bar\", \"x\": [0, 1, 2, 3, 4, 5, 6], \"xaxis\": \"x\", \"y\": [0.05973043478260871, 0.1901, 0.57375, 0.1027, -0.12689999999999999, null, null], \"yaxis\": \"y\"}, {\"alignmentgroup\": \"True\", \"hovertemplate\": \"ticker=PG<br>Day of Week=%{x}<br>Sentiment=%{y}<extra></extra>\", \"legendgroup\": \"PG\", \"marker\": {\"color\": \"rgb(246, 169, 122)\"}, \"name\": \"PG\", \"offsetgroup\": \"PG\", \"orientation\": \"v\", \"showlegend\": true, \"textposition\": \"auto\", \"type\": \"bar\", \"x\": [0, 1, 2, 3, 4, 5, 6], \"xaxis\": \"x\", \"y\": [0.14095714285714286, null, 0.0772, null, 0.25905999999999996, 0.05145999999999999, null], \"yaxis\": \"y\"}, {\"alignmentgroup\": \"True\", \"hovertemplate\": \"ticker=PYPL<br>Day of Week=%{x}<br>Sentiment=%{y}<extra></extra>\", \"legendgroup\": \"PYPL\", \"marker\": {\"color\": \"rgb(237, 217, 163)\"}, \"name\": \"PYPL\", \"offsetgroup\": \"PYPL\", \"orientation\": \"v\", \"showlegend\": true, \"textposition\": \"auto\", \"type\": \"bar\", \"x\": [0, 1, 2, 3, 4, 5, 6], \"xaxis\": \"x\", \"y\": [0.2406, 0.20451999999999998, 0.7003, null, 0.765, null, 0.09176999999999999], \"yaxis\": \"y\"}, {\"alignmentgroup\": \"True\", \"hovertemplate\": \"ticker=T<br>Day of Week=%{x}<br>Sentiment=%{y}<extra></extra>\", \"legendgroup\": \"T\", \"marker\": {\"color\": \"rgb(75, 41, 145)\"}, \"name\": \"T\", \"offsetgroup\": \"T\", \"orientation\": \"v\", \"showlegend\": true, \"textposition\": \"auto\", \"type\": \"bar\", \"x\": [0, 1, 2, 3, 4, 5, 6], \"xaxis\": \"x\", \"y\": [0.13164, 0.5083666666666666, null, 0.5053, 0.36985, null, 0.5585911764705881], \"yaxis\": \"y\"}, {\"alignmentgroup\": \"True\", \"hovertemplate\": \"ticker=TM<br>Day of Week=%{x}<br>Sentiment=%{y}<extra></extra>\", \"legendgroup\": \"TM\", \"marker\": {\"color\": \"rgb(135, 44, 162)\"}, \"name\": \"TM\", \"offsetgroup\": \"TM\", \"orientation\": \"v\", \"showlegend\": true, \"textposition\": \"auto\", \"type\": \"bar\", \"x\": [0, 1, 2, 3, 4, 5, 6], \"xaxis\": \"x\", \"y\": [0.47615, 0.5544666666666668, 0.25, 0.3149, 0.4371333333333333, -0.13340000000000002, 0.20212], \"yaxis\": \"y\"}, {\"alignmentgroup\": \"True\", \"hovertemplate\": \"ticker=TMO<br>Day of Week=%{x}<br>Sentiment=%{y}<extra></extra>\", \"legendgroup\": \"TMO\", \"marker\": {\"color\": \"rgb(192, 54, 157)\"}, \"name\": \"TMO\", \"offsetgroup\": \"TMO\", \"orientation\": \"v\", \"showlegend\": true, \"textposition\": \"auto\", \"type\": \"bar\", \"x\": [0, 1, 2, 3, 4, 5, 6], \"xaxis\": \"x\", \"y\": [0.08213333333333334, 0.6705, 0.1096, 0.42751666666666677, -0.07925454545454547, null, -0.296], \"yaxis\": \"y\"}, {\"alignmentgroup\": \"True\", \"hovertemplate\": \"ticker=TMUS<br>Day of Week=%{x}<br>Sentiment=%{y}<extra></extra>\", \"legendgroup\": \"TMUS\", \"marker\": {\"color\": \"rgb(234, 79, 136)\"}, \"name\": \"TMUS\", \"offsetgroup\": \"TMUS\", \"orientation\": \"v\", \"showlegend\": true, \"textposition\": \"auto\", \"type\": \"bar\", \"x\": [0, 1, 2, 3, 4, 5, 6], \"xaxis\": \"x\", \"y\": [0.46323333333333333, 0.5423, 0.4354, 0.43998, 0.1170666666666667, 0.2263, 0.30920000000000003], \"yaxis\": \"y\"}, {\"alignmentgroup\": \"True\", \"hovertemplate\": \"ticker=TSLA<br>Day of Week=%{x}<br>Sentiment=%{y}<extra></extra>\", \"legendgroup\": \"TSLA\", \"marker\": {\"color\": \"rgb(250, 120, 118)\"}, \"name\": \"TSLA\", \"offsetgroup\": \"TSLA\", \"orientation\": \"v\", \"showlegend\": true, \"textposition\": \"auto\", \"type\": \"bar\", \"x\": [0, 1, 2, 3, 4, 5, 6], \"xaxis\": \"x\", \"y\": [0.52015, 0.5423, -0.3612, 0.5292, 0.36005, 0.5859, 0.33738571428571434], \"yaxis\": \"y\"}, {\"alignmentgroup\": \"True\", \"hovertemplate\": \"ticker=TSM<br>Day of Week=%{x}<br>Sentiment=%{y}<extra></extra>\", \"legendgroup\": \"TSM\", \"marker\": {\"color\": \"rgb(246, 169, 122)\"}, \"name\": \"TSM\", \"offsetgroup\": \"TSM\", \"orientation\": \"v\", \"showlegend\": true, \"textposition\": \"auto\", \"type\": \"bar\", \"x\": [0, 1, 2, 3, 4, 5, 6], \"xaxis\": \"x\", \"y\": [-0.2717333333333333, 0.3167, 0.41755, 0.413625, 0.3448333333333333, 0.22924999999999998, -0.0343], \"yaxis\": \"y\"}, {\"alignmentgroup\": \"True\", \"hovertemplate\": \"ticker=UN<br>Day of Week=%{x}<br>Sentiment=%{y}<extra></extra>\", \"legendgroup\": \"UN\", \"marker\": {\"color\": \"rgb(237, 217, 163)\"}, \"name\": \"UN\", \"offsetgroup\": \"UN\", \"orientation\": \"v\", \"showlegend\": true, \"textposition\": \"auto\", \"type\": \"bar\", \"x\": [0, 1, 2, 3, 4, 5, 6], \"xaxis\": \"x\", \"y\": [null, 0.12194999999999999, 0.33979999999999994, 0.516375, 0.5210600000000001, 0.2810111111111111, 0.296], \"yaxis\": \"y\"}, {\"alignmentgroup\": \"True\", \"hovertemplate\": \"ticker=UNH<br>Day of Week=%{x}<br>Sentiment=%{y}<extra></extra>\", \"legendgroup\": \"UNH\", \"marker\": {\"color\": \"rgb(75, 41, 145)\"}, \"name\": \"UNH\", \"offsetgroup\": \"UNH\", \"orientation\": \"v\", \"showlegend\": true, \"textposition\": \"auto\", \"type\": \"bar\", \"x\": [0, 1, 2, 3, 4, 5, 6], \"xaxis\": \"x\", \"y\": [0.2732, 0.3431666666666667, 0.2103666666666667, 0.45816250000000003, 0.23775000000000002, 0.0772, 0.1486], \"yaxis\": \"y\"}, {\"alignmentgroup\": \"True\", \"hovertemplate\": \"ticker=VZ<br>Day of Week=%{x}<br>Sentiment=%{y}<extra></extra>\", \"legendgroup\": \"VZ\", \"marker\": {\"color\": \"rgb(135, 44, 162)\"}, \"name\": \"VZ\", \"offsetgroup\": \"VZ\", \"orientation\": \"v\", \"showlegend\": true, \"textposition\": \"auto\", \"type\": \"bar\", \"x\": [0, 1, 2, 3, 4, 5, 6], \"xaxis\": \"x\", \"y\": [0.42333333333333334, 0.6124, 0.3397, 0.4333666666666667, 0.30951875, 0.4939, 0.1268], \"yaxis\": \"y\"}, {\"alignmentgroup\": \"True\", \"hovertemplate\": \"ticker=WMT<br>Day of Week=%{x}<br>Sentiment=%{y}<extra></extra>\", \"legendgroup\": \"WMT\", \"marker\": {\"color\": \"rgb(192, 54, 157)\"}, \"name\": \"WMT\", \"offsetgroup\": \"WMT\", \"orientation\": \"v\", \"showlegend\": true, \"textposition\": \"auto\", \"type\": \"bar\", \"x\": [0, 1, 2, 3, 4, 5, 6], \"xaxis\": \"x\", \"y\": [0.7579, null, 0.38155, 0.6597, 0.17286, 0.030700000000000015, 0.014949999999999991], \"yaxis\": \"y\"}],                        {\"barmode\": \"group\", \"legend\": {\"title\": {\"text\": \"ticker\"}, \"tracegroupgap\": 0}, \"template\": {\"data\": {\"bar\": [{\"error_x\": {\"color\": \"#f2f5fa\"}, \"error_y\": {\"color\": \"#f2f5fa\"}, \"marker\": {\"line\": {\"color\": \"rgb(17,17,17)\", \"width\": 0.5}}, \"type\": \"bar\"}], \"barpolar\": [{\"marker\": {\"line\": {\"color\": \"rgb(17,17,17)\", \"width\": 0.5}}, \"type\": \"barpolar\"}], \"carpet\": [{\"aaxis\": {\"endlinecolor\": \"#A2B1C6\", \"gridcolor\": \"#506784\", \"linecolor\": \"#506784\", \"minorgridcolor\": \"#506784\", \"startlinecolor\": \"#A2B1C6\"}, \"baxis\": {\"endlinecolor\": \"#A2B1C6\", \"gridcolor\": \"#506784\", \"linecolor\": \"#506784\", \"minorgridcolor\": \"#506784\", \"startlinecolor\": \"#A2B1C6\"}, \"type\": \"carpet\"}], \"choropleth\": [{\"colorbar\": {\"outlinewidth\": 0, \"ticks\": \"\"}, \"type\": \"choropleth\"}], \"contour\": [{\"colorbar\": {\"outlinewidth\": 0, \"ticks\": \"\"}, \"colorscale\": [[0.0, \"#0d0887\"], [0.1111111111111111, \"#46039f\"], [0.2222222222222222, \"#7201a8\"], [0.3333333333333333, \"#9c179e\"], [0.4444444444444444, \"#bd3786\"], [0.5555555555555556, \"#d8576b\"], [0.6666666666666666, \"#ed7953\"], [0.7777777777777778, \"#fb9f3a\"], [0.8888888888888888, \"#fdca26\"], [1.0, \"#f0f921\"]], \"type\": \"contour\"}], \"contourcarpet\": [{\"colorbar\": {\"outlinewidth\": 0, \"ticks\": \"\"}, \"type\": \"contourcarpet\"}], \"heatmap\": [{\"colorbar\": {\"outlinewidth\": 0, \"ticks\": \"\"}, \"colorscale\": [[0.0, \"#0d0887\"], [0.1111111111111111, \"#46039f\"], [0.2222222222222222, \"#7201a8\"], [0.3333333333333333, \"#9c179e\"], [0.4444444444444444, \"#bd3786\"], [0.5555555555555556, \"#d8576b\"], [0.6666666666666666, \"#ed7953\"], [0.7777777777777778, \"#fb9f3a\"], [0.8888888888888888, \"#fdca26\"], [1.0, \"#f0f921\"]], \"type\": \"heatmap\"}], \"heatmapgl\": [{\"colorbar\": {\"outlinewidth\": 0, \"ticks\": \"\"}, \"colorscale\": [[0.0, \"#0d0887\"], [0.1111111111111111, \"#46039f\"], [0.2222222222222222, \"#7201a8\"], [0.3333333333333333, \"#9c179e\"], [0.4444444444444444, \"#bd3786\"], [0.5555555555555556, \"#d8576b\"], [0.6666666666666666, \"#ed7953\"], [0.7777777777777778, \"#fb9f3a\"], [0.8888888888888888, \"#fdca26\"], [1.0, \"#f0f921\"]], \"type\": \"heatmapgl\"}], \"histogram\": [{\"marker\": {\"colorbar\": {\"outlinewidth\": 0, \"ticks\": \"\"}}, \"type\": \"histogram\"}], \"histogram2d\": [{\"colorbar\": {\"outlinewidth\": 0, \"ticks\": \"\"}, \"colorscale\": [[0.0, \"#0d0887\"], [0.1111111111111111, \"#46039f\"], [0.2222222222222222, \"#7201a8\"], [0.3333333333333333, \"#9c179e\"], [0.4444444444444444, \"#bd3786\"], [0.5555555555555556, \"#d8576b\"], [0.6666666666666666, \"#ed7953\"], [0.7777777777777778, \"#fb9f3a\"], [0.8888888888888888, \"#fdca26\"], [1.0, \"#f0f921\"]], \"type\": \"histogram2d\"}], \"histogram2dcontour\": [{\"colorbar\": {\"outlinewidth\": 0, \"ticks\": \"\"}, \"colorscale\": [[0.0, \"#0d0887\"], [0.1111111111111111, \"#46039f\"], [0.2222222222222222, \"#7201a8\"], [0.3333333333333333, \"#9c179e\"], [0.4444444444444444, \"#bd3786\"], [0.5555555555555556, \"#d8576b\"], [0.6666666666666666, \"#ed7953\"], [0.7777777777777778, \"#fb9f3a\"], [0.8888888888888888, \"#fdca26\"], [1.0, \"#f0f921\"]], \"type\": \"histogram2dcontour\"}], \"mesh3d\": [{\"colorbar\": {\"outlinewidth\": 0, \"ticks\": \"\"}, \"type\": \"mesh3d\"}], \"parcoords\": [{\"line\": {\"colorbar\": {\"outlinewidth\": 0, \"ticks\": \"\"}}, \"type\": \"parcoords\"}], \"pie\": [{\"automargin\": true, \"type\": \"pie\"}], \"scatter\": [{\"marker\": {\"line\": {\"color\": \"#283442\"}}, \"type\": \"scatter\"}], \"scatter3d\": [{\"line\": {\"colorbar\": {\"outlinewidth\": 0, \"ticks\": \"\"}}, \"marker\": {\"colorbar\": {\"outlinewidth\": 0, \"ticks\": \"\"}}, \"type\": \"scatter3d\"}], \"scattercarpet\": [{\"marker\": {\"colorbar\": {\"outlinewidth\": 0, \"ticks\": \"\"}}, \"type\": \"scattercarpet\"}], \"scattergeo\": [{\"marker\": {\"colorbar\": {\"outlinewidth\": 0, \"ticks\": \"\"}}, \"type\": \"scattergeo\"}], \"scattergl\": [{\"marker\": {\"line\": {\"color\": \"#283442\"}}, \"type\": \"scattergl\"}], \"scattermapbox\": [{\"marker\": {\"colorbar\": {\"outlinewidth\": 0, \"ticks\": \"\"}}, \"type\": \"scattermapbox\"}], \"scatterpolar\": [{\"marker\": {\"colorbar\": {\"outlinewidth\": 0, \"ticks\": \"\"}}, \"type\": \"scatterpolar\"}], \"scatterpolargl\": [{\"marker\": {\"colorbar\": {\"outlinewidth\": 0, \"ticks\": \"\"}}, \"type\": \"scatterpolargl\"}], \"scatterternary\": [{\"marker\": {\"colorbar\": {\"outlinewidth\": 0, \"ticks\": \"\"}}, \"type\": \"scatterternary\"}], \"surface\": [{\"colorbar\": {\"outlinewidth\": 0, \"ticks\": \"\"}, \"colorscale\": [[0.0, \"#0d0887\"], [0.1111111111111111, \"#46039f\"], [0.2222222222222222, \"#7201a8\"], [0.3333333333333333, \"#9c179e\"], [0.4444444444444444, \"#bd3786\"], [0.5555555555555556, \"#d8576b\"], [0.6666666666666666, \"#ed7953\"], [0.7777777777777778, \"#fb9f3a\"], [0.8888888888888888, \"#fdca26\"], [1.0, \"#f0f921\"]], \"type\": \"surface\"}], \"table\": [{\"cells\": {\"fill\": {\"color\": \"#506784\"}, \"line\": {\"color\": \"rgb(17,17,17)\"}}, \"header\": {\"fill\": {\"color\": \"#2a3f5f\"}, \"line\": {\"color\": \"rgb(17,17,17)\"}}, \"type\": \"table\"}]}, \"layout\": {\"annotationdefaults\": {\"arrowcolor\": \"#f2f5fa\", \"arrowhead\": 0, \"arrowwidth\": 1}, \"coloraxis\": {\"colorbar\": {\"outlinewidth\": 0, \"ticks\": \"\"}}, \"colorscale\": {\"diverging\": [[0, \"#8e0152\"], [0.1, \"#c51b7d\"], [0.2, \"#de77ae\"], [0.3, \"#f1b6da\"], [0.4, \"#fde0ef\"], [0.5, \"#f7f7f7\"], [0.6, \"#e6f5d0\"], [0.7, \"#b8e186\"], [0.8, \"#7fbc41\"], [0.9, \"#4d9221\"], [1, \"#276419\"]], \"sequential\": [[0.0, \"#0d0887\"], [0.1111111111111111, \"#46039f\"], [0.2222222222222222, \"#7201a8\"], [0.3333333333333333, \"#9c179e\"], [0.4444444444444444, \"#bd3786\"], [0.5555555555555556, \"#d8576b\"], [0.6666666666666666, \"#ed7953\"], [0.7777777777777778, \"#fb9f3a\"], [0.8888888888888888, \"#fdca26\"], [1.0, \"#f0f921\"]], \"sequentialminus\": [[0.0, \"#0d0887\"], [0.1111111111111111, \"#46039f\"], [0.2222222222222222, \"#7201a8\"], [0.3333333333333333, \"#9c179e\"], [0.4444444444444444, \"#bd3786\"], [0.5555555555555556, \"#d8576b\"], [0.6666666666666666, \"#ed7953\"], [0.7777777777777778, \"#fb9f3a\"], [0.8888888888888888, \"#fdca26\"], [1.0, \"#f0f921\"]]}, \"colorway\": [\"#636efa\", \"#EF553B\", \"#00cc96\", \"#ab63fa\", \"#FFA15A\", \"#19d3f3\", \"#FF6692\", \"#B6E880\", \"#FF97FF\", \"#FECB52\"], \"font\": {\"color\": \"#f2f5fa\"}, \"geo\": {\"bgcolor\": \"rgb(17,17,17)\", \"lakecolor\": \"rgb(17,17,17)\", \"landcolor\": \"rgb(17,17,17)\", \"showlakes\": true, \"showland\": true, \"subunitcolor\": \"#506784\"}, \"hoverlabel\": {\"align\": \"left\"}, \"hovermode\": \"closest\", \"mapbox\": {\"style\": \"dark\"}, \"paper_bgcolor\": \"rgb(17,17,17)\", \"plot_bgcolor\": \"rgb(17,17,17)\", \"polar\": {\"angularaxis\": {\"gridcolor\": \"#506784\", \"linecolor\": \"#506784\", \"ticks\": \"\"}, \"bgcolor\": \"rgb(17,17,17)\", \"radialaxis\": {\"gridcolor\": \"#506784\", \"linecolor\": \"#506784\", \"ticks\": \"\"}}, \"scene\": {\"xaxis\": {\"backgroundcolor\": \"rgb(17,17,17)\", \"gridcolor\": \"#506784\", \"gridwidth\": 2, \"linecolor\": \"#506784\", \"showbackground\": true, \"ticks\": \"\", \"zerolinecolor\": \"#C8D4E3\"}, \"yaxis\": {\"backgroundcolor\": \"rgb(17,17,17)\", \"gridcolor\": \"#506784\", \"gridwidth\": 2, \"linecolor\": \"#506784\", \"showbackground\": true, \"ticks\": \"\", \"zerolinecolor\": \"#C8D4E3\"}, \"zaxis\": {\"backgroundcolor\": \"rgb(17,17,17)\", \"gridcolor\": \"#506784\", \"gridwidth\": 2, \"linecolor\": \"#506784\", \"showbackground\": true, \"ticks\": \"\", \"zerolinecolor\": \"#C8D4E3\"}}, \"shapedefaults\": {\"line\": {\"color\": \"#f2f5fa\"}}, \"sliderdefaults\": {\"bgcolor\": \"#C8D4E3\", \"bordercolor\": \"rgb(17,17,17)\", \"borderwidth\": 1, \"tickwidth\": 0}, \"ternary\": {\"aaxis\": {\"gridcolor\": \"#506784\", \"linecolor\": \"#506784\", \"ticks\": \"\"}, \"baxis\": {\"gridcolor\": \"#506784\", \"linecolor\": \"#506784\", \"ticks\": \"\"}, \"bgcolor\": \"rgb(17,17,17)\", \"caxis\": {\"gridcolor\": \"#506784\", \"linecolor\": \"#506784\", \"ticks\": \"\"}}, \"title\": {\"x\": 0.05}, \"updatemenudefaults\": {\"bgcolor\": \"#506784\", \"borderwidth\": 0}, \"xaxis\": {\"automargin\": true, \"gridcolor\": \"#283442\", \"linecolor\": \"#506784\", \"ticks\": \"\", \"title\": {\"standoff\": 15}, \"zerolinecolor\": \"#283442\", \"zerolinewidth\": 2}, \"yaxis\": {\"automargin\": true, \"gridcolor\": \"#283442\", \"linecolor\": \"#506784\", \"ticks\": \"\", \"title\": {\"standoff\": 15}, \"zerolinecolor\": \"#283442\", \"zerolinewidth\": 2}}}, \"title\": {\"text\": \"Average Week Day Sentiment of Stock Headlines\"}, \"xaxis\": {\"anchor\": \"y\", \"domain\": [0.0, 1.0], \"title\": {\"text\": \"Day of Week\"}}, \"yaxis\": {\"anchor\": \"x\", \"domain\": [0.0, 1.0], \"title\": {\"text\": \"Sentiment\"}}},                        {\"responsive\": true}                    ).then(function(){\n",
       "                            \n",
       "var gd = document.getElementById('e6ba775d-914d-42fc-bc9c-2157108388d3');\n",
       "var x = new MutationObserver(function (mutations, observer) {{\n",
       "        var display = window.getComputedStyle(gd).display;\n",
       "        if (!display || display === 'none') {{\n",
       "            console.log([gd, 'removed!']);\n",
       "            Plotly.purge(gd);\n",
       "            observer.disconnect();\n",
       "        }}\n",
       "}});\n",
       "\n",
       "// Listen for the removal of the full notebook cells\n",
       "var notebookContainer = gd.closest('#notebook-container');\n",
       "if (notebookContainer) {{\n",
       "    x.observe(notebookContainer, {childList: true});\n",
       "}}\n",
       "\n",
       "// Listen for the clearing of the current output cell\n",
       "var outputEl = gd.closest('.output');\n",
       "if (outputEl) {{\n",
       "    x.observe(outputEl, {childList: true});\n",
       "}}\n",
       "\n",
       "                        })                };                });            </script>        </div>"
      ]
     },
     "metadata": {},
     "output_type": "display_data"
    }
   ],
   "source": [
    "# Group by the ticker and the day of the week, creating a multi-index\n",
    "mean_day = analyzer_news.groupby(['ticker', 'dayofweek']).mean()\n",
    "# Unstack, the innermost index level 'unstacks' across the columns\n",
    "mean_day = mean_day.unstack()\n",
    "# Get a cross-section of the above data, and transpose it to make the columns the ticker names\n",
    "mean_day = mean_day.xs('compound', axis=1).T\n",
    "# Plotly colors\n",
    "sunset = px.colors.sequential.Agsunset\n",
    "\n",
    "px.bar(mean_day, barmode='group', color_discrete_sequence=sunset,\n",
    "      title='Average Week Day Sentiment of Stock Headlines',\n",
    "      labels={'value': 'Sentiment', 'dayofweek': 'Day of Week'})"
   ]
  },
  {
   "cell_type": "markdown",
   "metadata": {},
   "source": [
    "## NLTK - `date` using Plotly"
   ]
  },
  {
   "cell_type": "code",
   "execution_count": 232,
   "metadata": {},
   "outputs": [
    {
     "data": {
      "application/vnd.plotly.v1+json": {
       "config": {
        "plotlyServerURL": "https://plot.ly"
       },
       "data": [
        {
         "alignmentgroup": "True",
         "hovertemplate": "ticker=AAPL<br>Date=%{x}<br>Sentiment=%{y}<extra></extra>",
         "legendgroup": "AAPL",
         "marker": {
          "color": "rgb(252, 222, 156)"
         },
         "name": "AAPL",
         "offsetgroup": "AAPL",
         "orientation": "v",
         "showlegend": true,
         "textposition": "auto",
         "type": "bar",
         "x": [
          "2020-11-01T00:00:00",
          "2020-11-02T00:00:00",
          "2020-11-03T00:00:00",
          "2020-11-04T00:00:00",
          "2020-11-05T00:00:00",
          "2020-11-06T00:00:00",
          "2020-11-07T00:00:00",
          "2020-11-08T00:00:00",
          "2020-11-09T00:00:00",
          "2020-11-10T00:00:00",
          "2020-11-11T00:00:00",
          "2020-11-12T00:00:00",
          "2020-11-13T00:00:00",
          "2020-11-14T00:00:00",
          "2020-11-15T00:00:00",
          "2020-11-16T00:00:00"
         ],
         "xaxis": "x",
         "y": [
          null,
          null,
          null,
          null,
          null,
          null,
          null,
          null,
          null,
          null,
          null,
          0.2732,
          0.3902,
          null,
          0.039463636363636374,
          0.2093
         ],
         "yaxis": "y"
        },
        {
         "alignmentgroup": "True",
         "hovertemplate": "ticker=ABBV<br>Date=%{x}<br>Sentiment=%{y}<extra></extra>",
         "legendgroup": "ABBV",
         "marker": {
          "color": "rgb(250, 164, 118)"
         },
         "name": "ABBV",
         "offsetgroup": "ABBV",
         "orientation": "v",
         "showlegend": true,
         "textposition": "auto",
         "type": "bar",
         "x": [
          "2020-11-01T00:00:00",
          "2020-11-02T00:00:00",
          "2020-11-03T00:00:00",
          "2020-11-04T00:00:00",
          "2020-11-05T00:00:00",
          "2020-11-06T00:00:00",
          "2020-11-07T00:00:00",
          "2020-11-08T00:00:00",
          "2020-11-09T00:00:00",
          "2020-11-10T00:00:00",
          "2020-11-11T00:00:00",
          "2020-11-12T00:00:00",
          "2020-11-13T00:00:00",
          "2020-11-14T00:00:00",
          "2020-11-15T00:00:00",
          "2020-11-16T00:00:00"
         ],
         "xaxis": "x",
         "y": [
          null,
          -0.1027,
          -0.3818,
          0.25,
          -0.4588,
          null,
          null,
          null,
          null,
          0.516,
          0.3818,
          0.1049,
          -0.03133999999999999,
          0.46645000000000003,
          null,
          null
         ],
         "yaxis": "y"
        },
        {
         "alignmentgroup": "True",
         "hovertemplate": "ticker=ABT<br>Date=%{x}<br>Sentiment=%{y}<extra></extra>",
         "legendgroup": "ABT",
         "marker": {
          "color": "rgb(240, 116, 110)"
         },
         "name": "ABT",
         "offsetgroup": "ABT",
         "orientation": "v",
         "showlegend": true,
         "textposition": "auto",
         "type": "bar",
         "x": [
          "2020-11-01T00:00:00",
          "2020-11-02T00:00:00",
          "2020-11-03T00:00:00",
          "2020-11-04T00:00:00",
          "2020-11-05T00:00:00",
          "2020-11-06T00:00:00",
          "2020-11-07T00:00:00",
          "2020-11-08T00:00:00",
          "2020-11-09T00:00:00",
          "2020-11-10T00:00:00",
          "2020-11-11T00:00:00",
          "2020-11-12T00:00:00",
          "2020-11-13T00:00:00",
          "2020-11-14T00:00:00",
          "2020-11-15T00:00:00",
          "2020-11-16T00:00:00"
         ],
         "xaxis": "x",
         "y": [
          null,
          null,
          -0.4404,
          null,
          null,
          null,
          null,
          0.3071,
          0.3929,
          -0.5106,
          0.3818,
          null,
          0.1901,
          -0.04595,
          0.4267,
          0.2023
         ],
         "yaxis": "y"
        },
        {
         "alignmentgroup": "True",
         "hovertemplate": "ticker=ADBE<br>Date=%{x}<br>Sentiment=%{y}<extra></extra>",
         "legendgroup": "ADBE",
         "marker": {
          "color": "rgb(227, 79, 111)"
         },
         "name": "ADBE",
         "offsetgroup": "ADBE",
         "orientation": "v",
         "showlegend": true,
         "textposition": "auto",
         "type": "bar",
         "x": [
          "2020-11-01T00:00:00",
          "2020-11-02T00:00:00",
          "2020-11-03T00:00:00",
          "2020-11-04T00:00:00",
          "2020-11-05T00:00:00",
          "2020-11-06T00:00:00",
          "2020-11-07T00:00:00",
          "2020-11-08T00:00:00",
          "2020-11-09T00:00:00",
          "2020-11-10T00:00:00",
          "2020-11-11T00:00:00",
          "2020-11-12T00:00:00",
          "2020-11-13T00:00:00",
          "2020-11-14T00:00:00",
          "2020-11-15T00:00:00",
          "2020-11-16T00:00:00"
         ],
         "xaxis": "x",
         "y": [
          null,
          null,
          null,
          null,
          null,
          null,
          null,
          null,
          null,
          null,
          null,
          0.1833111111111111,
          0.33985714285714286,
          0.28315,
          0.34,
          null
         ],
         "yaxis": "y"
        },
        {
         "alignmentgroup": "True",
         "hovertemplate": "ticker=AMZN<br>Date=%{x}<br>Sentiment=%{y}<extra></extra>",
         "legendgroup": "AMZN",
         "marker": {
          "color": "rgb(220, 57, 119)"
         },
         "name": "AMZN",
         "offsetgroup": "AMZN",
         "orientation": "v",
         "showlegend": true,
         "textposition": "auto",
         "type": "bar",
         "x": [
          "2020-11-01T00:00:00",
          "2020-11-02T00:00:00",
          "2020-11-03T00:00:00",
          "2020-11-04T00:00:00",
          "2020-11-05T00:00:00",
          "2020-11-06T00:00:00",
          "2020-11-07T00:00:00",
          "2020-11-08T00:00:00",
          "2020-11-09T00:00:00",
          "2020-11-10T00:00:00",
          "2020-11-11T00:00:00",
          "2020-11-12T00:00:00",
          "2020-11-13T00:00:00",
          "2020-11-14T00:00:00",
          "2020-11-15T00:00:00",
          "2020-11-16T00:00:00"
         ],
         "xaxis": "x",
         "y": [
          null,
          null,
          null,
          null,
          null,
          null,
          null,
          null,
          null,
          -0.05429999999999999,
          0.21842500000000004,
          0.24407999999999994,
          null,
          null,
          0.38847142857142863,
          0.5471
         ],
         "yaxis": "y"
        },
        {
         "alignmentgroup": "True",
         "hovertemplate": "ticker=ASML<br>Date=%{x}<br>Sentiment=%{y}<extra></extra>",
         "legendgroup": "ASML",
         "marker": {
          "color": "rgb(185, 37, 122)"
         },
         "name": "ASML",
         "offsetgroup": "ASML",
         "orientation": "v",
         "showlegend": true,
         "textposition": "auto",
         "type": "bar",
         "x": [
          "2020-11-01T00:00:00",
          "2020-11-02T00:00:00",
          "2020-11-03T00:00:00",
          "2020-11-04T00:00:00",
          "2020-11-05T00:00:00",
          "2020-11-06T00:00:00",
          "2020-11-07T00:00:00",
          "2020-11-08T00:00:00",
          "2020-11-09T00:00:00",
          "2020-11-10T00:00:00",
          "2020-11-11T00:00:00",
          "2020-11-12T00:00:00",
          "2020-11-13T00:00:00",
          "2020-11-14T00:00:00",
          "2020-11-15T00:00:00",
          "2020-11-16T00:00:00"
         ],
         "xaxis": "x",
         "y": [
          null,
          0.296,
          0.5994,
          0.0943,
          null,
          0.5423,
          null,
          null,
          0.059199999999999996,
          0.296,
          null,
          0.3612,
          null,
          null,
          null,
          null
         ],
         "yaxis": "y"
        },
        {
         "alignmentgroup": "True",
         "hovertemplate": "ticker=BABA<br>Date=%{x}<br>Sentiment=%{y}<extra></extra>",
         "legendgroup": "BABA",
         "marker": {
          "color": "rgb(124, 29, 111)"
         },
         "name": "BABA",
         "offsetgroup": "BABA",
         "orientation": "v",
         "showlegend": true,
         "textposition": "auto",
         "type": "bar",
         "x": [
          "2020-11-01T00:00:00",
          "2020-11-02T00:00:00",
          "2020-11-03T00:00:00",
          "2020-11-04T00:00:00",
          "2020-11-05T00:00:00",
          "2020-11-06T00:00:00",
          "2020-11-07T00:00:00",
          "2020-11-08T00:00:00",
          "2020-11-09T00:00:00",
          "2020-11-10T00:00:00",
          "2020-11-11T00:00:00",
          "2020-11-12T00:00:00",
          "2020-11-13T00:00:00",
          "2020-11-14T00:00:00",
          "2020-11-15T00:00:00",
          "2020-11-16T00:00:00"
         ],
         "xaxis": "x",
         "y": [
          null,
          null,
          null,
          null,
          null,
          null,
          null,
          null,
          null,
          0.2616,
          null,
          0.4215,
          0.4019,
          0.4404,
          0.18185,
          0.37297777777777774
         ],
         "yaxis": "y"
        },
        {
         "alignmentgroup": "True",
         "hovertemplate": "ticker=BAC<br>Date=%{x}<br>Sentiment=%{y}<extra></extra>",
         "legendgroup": "BAC",
         "marker": {
          "color": "rgb(252, 222, 156)"
         },
         "name": "BAC",
         "offsetgroup": "BAC",
         "orientation": "v",
         "showlegend": true,
         "textposition": "auto",
         "type": "bar",
         "x": [
          "2020-11-01T00:00:00",
          "2020-11-02T00:00:00",
          "2020-11-03T00:00:00",
          "2020-11-04T00:00:00",
          "2020-11-05T00:00:00",
          "2020-11-06T00:00:00",
          "2020-11-07T00:00:00",
          "2020-11-08T00:00:00",
          "2020-11-09T00:00:00",
          "2020-11-10T00:00:00",
          "2020-11-11T00:00:00",
          "2020-11-12T00:00:00",
          "2020-11-13T00:00:00",
          "2020-11-14T00:00:00",
          "2020-11-15T00:00:00",
          "2020-11-16T00:00:00"
         ],
         "xaxis": "x",
         "y": [
          null,
          0.25,
          null,
          0.3803,
          null,
          null,
          null,
          null,
          0.5859,
          null,
          null,
          null,
          null,
          null,
          0.2618629629629631,
          0.5653
         ],
         "yaxis": "y"
        },
        {
         "alignmentgroup": "True",
         "hovertemplate": "ticker=CMCSA<br>Date=%{x}<br>Sentiment=%{y}<extra></extra>",
         "legendgroup": "CMCSA",
         "marker": {
          "color": "rgb(250, 164, 118)"
         },
         "name": "CMCSA",
         "offsetgroup": "CMCSA",
         "orientation": "v",
         "showlegend": true,
         "textposition": "auto",
         "type": "bar",
         "x": [
          "2020-11-01T00:00:00",
          "2020-11-02T00:00:00",
          "2020-11-03T00:00:00",
          "2020-11-04T00:00:00",
          "2020-11-05T00:00:00",
          "2020-11-06T00:00:00",
          "2020-11-07T00:00:00",
          "2020-11-08T00:00:00",
          "2020-11-09T00:00:00",
          "2020-11-10T00:00:00",
          "2020-11-11T00:00:00",
          "2020-11-12T00:00:00",
          "2020-11-13T00:00:00",
          "2020-11-14T00:00:00",
          "2020-11-15T00:00:00",
          "2020-11-16T00:00:00"
         ],
         "xaxis": "x",
         "y": [
          null,
          0.56225,
          null,
          null,
          null,
          null,
          null,
          null,
          null,
          null,
          null,
          null,
          null,
          0.26496666666666674,
          0.46090714285714285,
          0.5859
         ],
         "yaxis": "y"
        },
        {
         "alignmentgroup": "True",
         "hovertemplate": "ticker=COST<br>Date=%{x}<br>Sentiment=%{y}<extra></extra>",
         "legendgroup": "COST",
         "marker": {
          "color": "rgb(240, 116, 110)"
         },
         "name": "COST",
         "offsetgroup": "COST",
         "orientation": "v",
         "showlegend": true,
         "textposition": "auto",
         "type": "bar",
         "x": [
          "2020-11-01T00:00:00",
          "2020-11-02T00:00:00",
          "2020-11-03T00:00:00",
          "2020-11-04T00:00:00",
          "2020-11-05T00:00:00",
          "2020-11-06T00:00:00",
          "2020-11-07T00:00:00",
          "2020-11-08T00:00:00",
          "2020-11-09T00:00:00",
          "2020-11-10T00:00:00",
          "2020-11-11T00:00:00",
          "2020-11-12T00:00:00",
          "2020-11-13T00:00:00",
          "2020-11-14T00:00:00",
          "2020-11-15T00:00:00",
          "2020-11-16T00:00:00"
         ],
         "xaxis": "x",
         "y": [
          null,
          null,
          null,
          null,
          null,
          null,
          null,
          null,
          null,
          null,
          null,
          0.3182,
          0.1985,
          0.4019,
          0.36644,
          0.13066000000000005
         ],
         "yaxis": "y"
        },
        {
         "alignmentgroup": "True",
         "hovertemplate": "ticker=CRM<br>Date=%{x}<br>Sentiment=%{y}<extra></extra>",
         "legendgroup": "CRM",
         "marker": {
          "color": "rgb(227, 79, 111)"
         },
         "name": "CRM",
         "offsetgroup": "CRM",
         "orientation": "v",
         "showlegend": true,
         "textposition": "auto",
         "type": "bar",
         "x": [
          "2020-11-01T00:00:00",
          "2020-11-02T00:00:00",
          "2020-11-03T00:00:00",
          "2020-11-04T00:00:00",
          "2020-11-05T00:00:00",
          "2020-11-06T00:00:00",
          "2020-11-07T00:00:00",
          "2020-11-08T00:00:00",
          "2020-11-09T00:00:00",
          "2020-11-10T00:00:00",
          "2020-11-11T00:00:00",
          "2020-11-12T00:00:00",
          "2020-11-13T00:00:00",
          "2020-11-14T00:00:00",
          "2020-11-15T00:00:00",
          "2020-11-16T00:00:00"
         ],
         "xaxis": "x",
         "y": [
          0.296,
          null,
          -0.03260000000000002,
          null,
          null,
          0.4019,
          null,
          null,
          0.3612,
          0.296,
          null,
          null,
          null,
          -0.128,
          0.5449499999999999,
          null
         ],
         "yaxis": "y"
        },
        {
         "alignmentgroup": "True",
         "hovertemplate": "ticker=CSCO<br>Date=%{x}<br>Sentiment=%{y}<extra></extra>",
         "legendgroup": "CSCO",
         "marker": {
          "color": "rgb(220, 57, 119)"
         },
         "name": "CSCO",
         "offsetgroup": "CSCO",
         "orientation": "v",
         "showlegend": true,
         "textposition": "auto",
         "type": "bar",
         "x": [
          "2020-11-01T00:00:00",
          "2020-11-02T00:00:00",
          "2020-11-03T00:00:00",
          "2020-11-04T00:00:00",
          "2020-11-05T00:00:00",
          "2020-11-06T00:00:00",
          "2020-11-07T00:00:00",
          "2020-11-08T00:00:00",
          "2020-11-09T00:00:00",
          "2020-11-10T00:00:00",
          "2020-11-11T00:00:00",
          "2020-11-12T00:00:00",
          "2020-11-13T00:00:00",
          "2020-11-14T00:00:00",
          "2020-11-15T00:00:00",
          "2020-11-16T00:00:00"
         ],
         "xaxis": "x",
         "y": [
          null,
          0.8074,
          null,
          null,
          null,
          0.7783,
          null,
          null,
          0.7672,
          0.57735,
          0.836,
          0.38634999999999997,
          0.32713333333333333,
          -0.2678666666666667,
          0.5043875,
          0.4404
         ],
         "yaxis": "y"
        },
        {
         "alignmentgroup": "True",
         "hovertemplate": "ticker=CVX<br>Date=%{x}<br>Sentiment=%{y}<extra></extra>",
         "legendgroup": "CVX",
         "marker": {
          "color": "rgb(185, 37, 122)"
         },
         "name": "CVX",
         "offsetgroup": "CVX",
         "orientation": "v",
         "showlegend": true,
         "textposition": "auto",
         "type": "bar",
         "x": [
          "2020-11-01T00:00:00",
          "2020-11-02T00:00:00",
          "2020-11-03T00:00:00",
          "2020-11-04T00:00:00",
          "2020-11-05T00:00:00",
          "2020-11-06T00:00:00",
          "2020-11-07T00:00:00",
          "2020-11-08T00:00:00",
          "2020-11-09T00:00:00",
          "2020-11-10T00:00:00",
          "2020-11-11T00:00:00",
          "2020-11-12T00:00:00",
          "2020-11-13T00:00:00",
          "2020-11-14T00:00:00",
          "2020-11-15T00:00:00",
          "2020-11-16T00:00:00"
         ],
         "xaxis": "x",
         "y": [
          null,
          null,
          null,
          null,
          null,
          null,
          null,
          null,
          null,
          0.5994,
          0.2263,
          null,
          0.2263,
          -0.10300000000000001,
          0.44092307692307686,
          -0.3595
         ],
         "yaxis": "y"
        },
        {
         "alignmentgroup": "True",
         "hovertemplate": "ticker=DHR<br>Date=%{x}<br>Sentiment=%{y}<extra></extra>",
         "legendgroup": "DHR",
         "marker": {
          "color": "rgb(124, 29, 111)"
         },
         "name": "DHR",
         "offsetgroup": "DHR",
         "orientation": "v",
         "showlegend": true,
         "textposition": "auto",
         "type": "bar",
         "x": [
          "2020-11-01T00:00:00",
          "2020-11-02T00:00:00",
          "2020-11-03T00:00:00",
          "2020-11-04T00:00:00",
          "2020-11-05T00:00:00",
          "2020-11-06T00:00:00",
          "2020-11-07T00:00:00",
          "2020-11-08T00:00:00",
          "2020-11-09T00:00:00",
          "2020-11-10T00:00:00",
          "2020-11-11T00:00:00",
          "2020-11-12T00:00:00",
          "2020-11-13T00:00:00",
          "2020-11-14T00:00:00",
          "2020-11-15T00:00:00",
          "2020-11-16T00:00:00"
         ],
         "xaxis": "x",
         "y": [
          null,
          null,
          null,
          null,
          null,
          null,
          null,
          null,
          0.5859,
          0.2033,
          0.12605,
          0.060225000000000015,
          0.1779,
          0.28315,
          null,
          0.2023
         ],
         "yaxis": "y"
        },
        {
         "alignmentgroup": "True",
         "hovertemplate": "ticker=DIS<br>Date=%{x}<br>Sentiment=%{y}<extra></extra>",
         "legendgroup": "DIS",
         "marker": {
          "color": "rgb(252, 222, 156)"
         },
         "name": "DIS",
         "offsetgroup": "DIS",
         "orientation": "v",
         "showlegend": true,
         "textposition": "auto",
         "type": "bar",
         "x": [
          "2020-11-01T00:00:00",
          "2020-11-02T00:00:00",
          "2020-11-03T00:00:00",
          "2020-11-04T00:00:00",
          "2020-11-05T00:00:00",
          "2020-11-06T00:00:00",
          "2020-11-07T00:00:00",
          "2020-11-08T00:00:00",
          "2020-11-09T00:00:00",
          "2020-11-10T00:00:00",
          "2020-11-11T00:00:00",
          "2020-11-12T00:00:00",
          "2020-11-13T00:00:00",
          "2020-11-14T00:00:00",
          "2020-11-15T00:00:00",
          "2020-11-16T00:00:00"
         ],
         "xaxis": "x",
         "y": [
          null,
          null,
          null,
          null,
          0.1779,
          null,
          null,
          null,
          0.4215,
          null,
          null,
          0.296,
          0.4404,
          null,
          0.4767,
          -0.0914137931034483
         ],
         "yaxis": "y"
        },
        {
         "alignmentgroup": "True",
         "hovertemplate": "ticker=GOOG<br>Date=%{x}<br>Sentiment=%{y}<extra></extra>",
         "legendgroup": "GOOG",
         "marker": {
          "color": "rgb(250, 164, 118)"
         },
         "name": "GOOG",
         "offsetgroup": "GOOG",
         "orientation": "v",
         "showlegend": true,
         "textposition": "auto",
         "type": "bar",
         "x": [
          "2020-11-01T00:00:00",
          "2020-11-02T00:00:00",
          "2020-11-03T00:00:00",
          "2020-11-04T00:00:00",
          "2020-11-05T00:00:00",
          "2020-11-06T00:00:00",
          "2020-11-07T00:00:00",
          "2020-11-08T00:00:00",
          "2020-11-09T00:00:00",
          "2020-11-10T00:00:00",
          "2020-11-11T00:00:00",
          "2020-11-12T00:00:00",
          "2020-11-13T00:00:00",
          "2020-11-14T00:00:00",
          "2020-11-15T00:00:00",
          "2020-11-16T00:00:00"
         ],
         "xaxis": "x",
         "y": [
          null,
          null,
          null,
          null,
          null,
          null,
          null,
          null,
          null,
          null,
          null,
          0.2266,
          0.5449999999999999,
          null,
          0.10704999999999998,
          0.1622777777777778
         ],
         "yaxis": "y"
        },
        {
         "alignmentgroup": "True",
         "hovertemplate": "ticker=GOOGL<br>Date=%{x}<br>Sentiment=%{y}<extra></extra>",
         "legendgroup": "GOOGL",
         "marker": {
          "color": "rgb(240, 116, 110)"
         },
         "name": "GOOGL",
         "offsetgroup": "GOOGL",
         "orientation": "v",
         "showlegend": true,
         "textposition": "auto",
         "type": "bar",
         "x": [
          "2020-11-01T00:00:00",
          "2020-11-02T00:00:00",
          "2020-11-03T00:00:00",
          "2020-11-04T00:00:00",
          "2020-11-05T00:00:00",
          "2020-11-06T00:00:00",
          "2020-11-07T00:00:00",
          "2020-11-08T00:00:00",
          "2020-11-09T00:00:00",
          "2020-11-10T00:00:00",
          "2020-11-11T00:00:00",
          "2020-11-12T00:00:00",
          "2020-11-13T00:00:00",
          "2020-11-14T00:00:00",
          "2020-11-15T00:00:00",
          "2020-11-16T00:00:00"
         ],
         "xaxis": "x",
         "y": [
          null,
          null,
          null,
          null,
          null,
          null,
          null,
          null,
          null,
          null,
          null,
          0.2266,
          0.5449999999999999,
          null,
          0.12063333333333333,
          0.11423000000000001
         ],
         "yaxis": "y"
        },
        {
         "alignmentgroup": "True",
         "hovertemplate": "ticker=HD<br>Date=%{x}<br>Sentiment=%{y}<extra></extra>",
         "legendgroup": "HD",
         "marker": {
          "color": "rgb(227, 79, 111)"
         },
         "name": "HD",
         "offsetgroup": "HD",
         "orientation": "v",
         "showlegend": true,
         "textposition": "auto",
         "type": "bar",
         "x": [
          "2020-11-01T00:00:00",
          "2020-11-02T00:00:00",
          "2020-11-03T00:00:00",
          "2020-11-04T00:00:00",
          "2020-11-05T00:00:00",
          "2020-11-06T00:00:00",
          "2020-11-07T00:00:00",
          "2020-11-08T00:00:00",
          "2020-11-09T00:00:00",
          "2020-11-10T00:00:00",
          "2020-11-11T00:00:00",
          "2020-11-12T00:00:00",
          "2020-11-13T00:00:00",
          "2020-11-14T00:00:00",
          "2020-11-15T00:00:00",
          "2020-11-16T00:00:00"
         ],
         "xaxis": "x",
         "y": [
          null,
          null,
          null,
          null,
          null,
          null,
          null,
          null,
          null,
          null,
          0.8271,
          0.5156666666666667,
          0.41922499999999996,
          0.3194666666666667,
          0.352525,
          null
         ],
         "yaxis": "y"
        },
        {
         "alignmentgroup": "True",
         "hovertemplate": "ticker=INTC<br>Date=%{x}<br>Sentiment=%{y}<extra></extra>",
         "legendgroup": "INTC",
         "marker": {
          "color": "rgb(220, 57, 119)"
         },
         "name": "INTC",
         "offsetgroup": "INTC",
         "orientation": "v",
         "showlegend": true,
         "textposition": "auto",
         "type": "bar",
         "x": [
          "2020-11-01T00:00:00",
          "2020-11-02T00:00:00",
          "2020-11-03T00:00:00",
          "2020-11-04T00:00:00",
          "2020-11-05T00:00:00",
          "2020-11-06T00:00:00",
          "2020-11-07T00:00:00",
          "2020-11-08T00:00:00",
          "2020-11-09T00:00:00",
          "2020-11-10T00:00:00",
          "2020-11-11T00:00:00",
          "2020-11-12T00:00:00",
          "2020-11-13T00:00:00",
          "2020-11-14T00:00:00",
          "2020-11-15T00:00:00",
          "2020-11-16T00:00:00"
         ],
         "xaxis": "x",
         "y": [
          null,
          null,
          null,
          null,
          0.8271,
          null,
          null,
          null,
          null,
          0.4696,
          null,
          0.3612,
          null,
          0.16100000000000003,
          0.09620000000000001,
          0.2357454545454545
         ],
         "yaxis": "y"
        },
        {
         "alignmentgroup": "True",
         "hovertemplate": "ticker=JNJ<br>Date=%{x}<br>Sentiment=%{y}<extra></extra>",
         "legendgroup": "JNJ",
         "marker": {
          "color": "rgb(185, 37, 122)"
         },
         "name": "JNJ",
         "offsetgroup": "JNJ",
         "orientation": "v",
         "showlegend": true,
         "textposition": "auto",
         "type": "bar",
         "x": [
          "2020-11-01T00:00:00",
          "2020-11-02T00:00:00",
          "2020-11-03T00:00:00",
          "2020-11-04T00:00:00",
          "2020-11-05T00:00:00",
          "2020-11-06T00:00:00",
          "2020-11-07T00:00:00",
          "2020-11-08T00:00:00",
          "2020-11-09T00:00:00",
          "2020-11-10T00:00:00",
          "2020-11-11T00:00:00",
          "2020-11-12T00:00:00",
          "2020-11-13T00:00:00",
          "2020-11-14T00:00:00",
          "2020-11-15T00:00:00",
          "2020-11-16T00:00:00"
         ],
         "xaxis": "x",
         "y": [
          null,
          null,
          0.3818,
          null,
          null,
          null,
          null,
          null,
          null,
          null,
          0.1779,
          null,
          null,
          0.802,
          0.39261999999999997,
          -0.057499999999999996
         ],
         "yaxis": "y"
        },
        {
         "alignmentgroup": "True",
         "hovertemplate": "ticker=JPM<br>Date=%{x}<br>Sentiment=%{y}<extra></extra>",
         "legendgroup": "JPM",
         "marker": {
          "color": "rgb(124, 29, 111)"
         },
         "name": "JPM",
         "offsetgroup": "JPM",
         "orientation": "v",
         "showlegend": true,
         "textposition": "auto",
         "type": "bar",
         "x": [
          "2020-11-01T00:00:00",
          "2020-11-02T00:00:00",
          "2020-11-03T00:00:00",
          "2020-11-04T00:00:00",
          "2020-11-05T00:00:00",
          "2020-11-06T00:00:00",
          "2020-11-07T00:00:00",
          "2020-11-08T00:00:00",
          "2020-11-09T00:00:00",
          "2020-11-10T00:00:00",
          "2020-11-11T00:00:00",
          "2020-11-12T00:00:00",
          "2020-11-13T00:00:00",
          "2020-11-14T00:00:00",
          "2020-11-15T00:00:00",
          "2020-11-16T00:00:00"
         ],
         "xaxis": "x",
         "y": [
          null,
          null,
          null,
          null,
          null,
          null,
          null,
          null,
          null,
          0.6367499999999999,
          null,
          null,
          0.23954999999999999,
          null,
          0.19393,
          0.5182833333333333
         ],
         "yaxis": "y"
        },
        {
         "alignmentgroup": "True",
         "hovertemplate": "ticker=KO<br>Date=%{x}<br>Sentiment=%{y}<extra></extra>",
         "legendgroup": "KO",
         "marker": {
          "color": "rgb(252, 222, 156)"
         },
         "name": "KO",
         "offsetgroup": "KO",
         "orientation": "v",
         "showlegend": true,
         "textposition": "auto",
         "type": "bar",
         "x": [
          "2020-11-01T00:00:00",
          "2020-11-02T00:00:00",
          "2020-11-03T00:00:00",
          "2020-11-04T00:00:00",
          "2020-11-05T00:00:00",
          "2020-11-06T00:00:00",
          "2020-11-07T00:00:00",
          "2020-11-08T00:00:00",
          "2020-11-09T00:00:00",
          "2020-11-10T00:00:00",
          "2020-11-11T00:00:00",
          "2020-11-12T00:00:00",
          "2020-11-13T00:00:00",
          "2020-11-14T00:00:00",
          "2020-11-15T00:00:00",
          "2020-11-16T00:00:00"
         ],
         "xaxis": "x",
         "y": [
          null,
          null,
          0.4588,
          null,
          0.1779,
          null,
          null,
          null,
          0.5859,
          0.3818,
          null,
          0.296,
          0.205575,
          0.07377999999999998,
          0.35400000000000004,
          null
         ],
         "yaxis": "y"
        },
        {
         "alignmentgroup": "True",
         "hovertemplate": "ticker=MA<br>Date=%{x}<br>Sentiment=%{y}<extra></extra>",
         "legendgroup": "MA",
         "marker": {
          "color": "rgb(250, 164, 118)"
         },
         "name": "MA",
         "offsetgroup": "MA",
         "orientation": "v",
         "showlegend": true,
         "textposition": "auto",
         "type": "bar",
         "x": [
          "2020-11-01T00:00:00",
          "2020-11-02T00:00:00",
          "2020-11-03T00:00:00",
          "2020-11-04T00:00:00",
          "2020-11-05T00:00:00",
          "2020-11-06T00:00:00",
          "2020-11-07T00:00:00",
          "2020-11-08T00:00:00",
          "2020-11-09T00:00:00",
          "2020-11-10T00:00:00",
          "2020-11-11T00:00:00",
          "2020-11-12T00:00:00",
          "2020-11-13T00:00:00",
          "2020-11-14T00:00:00",
          "2020-11-15T00:00:00",
          "2020-11-16T00:00:00"
         ],
         "xaxis": "x",
         "y": [
          null,
          0.47885,
          null,
          0.4404,
          null,
          null,
          null,
          null,
          null,
          0.6705,
          null,
          0.5491111111111111,
          0.4774777777777778,
          0.389925,
          null,
          0.5139666666666666
         ],
         "yaxis": "y"
        },
        {
         "alignmentgroup": "True",
         "hovertemplate": "ticker=MCD<br>Date=%{x}<br>Sentiment=%{y}<extra></extra>",
         "legendgroup": "MCD",
         "marker": {
          "color": "rgb(240, 116, 110)"
         },
         "name": "MCD",
         "offsetgroup": "MCD",
         "orientation": "v",
         "showlegend": true,
         "textposition": "auto",
         "type": "bar",
         "x": [
          "2020-11-01T00:00:00",
          "2020-11-02T00:00:00",
          "2020-11-03T00:00:00",
          "2020-11-04T00:00:00",
          "2020-11-05T00:00:00",
          "2020-11-06T00:00:00",
          "2020-11-07T00:00:00",
          "2020-11-08T00:00:00",
          "2020-11-09T00:00:00",
          "2020-11-10T00:00:00",
          "2020-11-11T00:00:00",
          "2020-11-12T00:00:00",
          "2020-11-13T00:00:00",
          "2020-11-14T00:00:00",
          "2020-11-15T00:00:00",
          "2020-11-16T00:00:00"
         ],
         "xaxis": "x",
         "y": [
          null,
          null,
          null,
          null,
          null,
          null,
          null,
          null,
          0.3818,
          null,
          null,
          null,
          null,
          0.22046666666666664,
          -0.25586000000000003,
          0.2023
         ],
         "yaxis": "y"
        },
        {
         "alignmentgroup": "True",
         "hovertemplate": "ticker=MRK<br>Date=%{x}<br>Sentiment=%{y}<extra></extra>",
         "legendgroup": "MRK",
         "marker": {
          "color": "rgb(227, 79, 111)"
         },
         "name": "MRK",
         "offsetgroup": "MRK",
         "orientation": "v",
         "showlegend": true,
         "textposition": "auto",
         "type": "bar",
         "x": [
          "2020-11-01T00:00:00",
          "2020-11-02T00:00:00",
          "2020-11-03T00:00:00",
          "2020-11-04T00:00:00",
          "2020-11-05T00:00:00",
          "2020-11-06T00:00:00",
          "2020-11-07T00:00:00",
          "2020-11-08T00:00:00",
          "2020-11-09T00:00:00",
          "2020-11-10T00:00:00",
          "2020-11-11T00:00:00",
          "2020-11-12T00:00:00",
          "2020-11-13T00:00:00",
          "2020-11-14T00:00:00",
          "2020-11-15T00:00:00",
          "2020-11-16T00:00:00"
         ],
         "xaxis": "x",
         "y": [
          null,
          null,
          null,
          null,
          0.3818,
          null,
          null,
          null,
          null,
          null,
          -0.7506,
          0.3286,
          -0.4019,
          0.2614285714285714,
          0.296,
          0.4588
         ],
         "yaxis": "y"
        },
        {
         "alignmentgroup": "True",
         "hovertemplate": "ticker=MSFT<br>Date=%{x}<br>Sentiment=%{y}<extra></extra>",
         "legendgroup": "MSFT",
         "marker": {
          "color": "rgb(220, 57, 119)"
         },
         "name": "MSFT",
         "offsetgroup": "MSFT",
         "orientation": "v",
         "showlegend": true,
         "textposition": "auto",
         "type": "bar",
         "x": [
          "2020-11-01T00:00:00",
          "2020-11-02T00:00:00",
          "2020-11-03T00:00:00",
          "2020-11-04T00:00:00",
          "2020-11-05T00:00:00",
          "2020-11-06T00:00:00",
          "2020-11-07T00:00:00",
          "2020-11-08T00:00:00",
          "2020-11-09T00:00:00",
          "2020-11-10T00:00:00",
          "2020-11-11T00:00:00",
          "2020-11-12T00:00:00",
          "2020-11-13T00:00:00",
          "2020-11-14T00:00:00",
          "2020-11-15T00:00:00",
          "2020-11-16T00:00:00"
         ],
         "xaxis": "x",
         "y": [
          null,
          null,
          null,
          null,
          null,
          null,
          null,
          null,
          null,
          null,
          null,
          -0.296,
          null,
          null,
          0.28092222222222224,
          0.27022666666666667
         ],
         "yaxis": "y"
        },
        {
         "alignmentgroup": "True",
         "hovertemplate": "ticker=NFLX<br>Date=%{x}<br>Sentiment=%{y}<extra></extra>",
         "legendgroup": "NFLX",
         "marker": {
          "color": "rgb(185, 37, 122)"
         },
         "name": "NFLX",
         "offsetgroup": "NFLX",
         "orientation": "v",
         "showlegend": true,
         "textposition": "auto",
         "type": "bar",
         "x": [
          "2020-11-01T00:00:00",
          "2020-11-02T00:00:00",
          "2020-11-03T00:00:00",
          "2020-11-04T00:00:00",
          "2020-11-05T00:00:00",
          "2020-11-06T00:00:00",
          "2020-11-07T00:00:00",
          "2020-11-08T00:00:00",
          "2020-11-09T00:00:00",
          "2020-11-10T00:00:00",
          "2020-11-11T00:00:00",
          "2020-11-12T00:00:00",
          "2020-11-13T00:00:00",
          "2020-11-14T00:00:00",
          "2020-11-15T00:00:00",
          "2020-11-16T00:00:00"
         ],
         "xaxis": "x",
         "y": [
          null,
          null,
          null,
          null,
          0.5719,
          null,
          null,
          0.5719,
          null,
          null,
          null,
          null,
          null,
          null,
          0.10883846153846154,
          0.18895199999999998
         ],
         "yaxis": "y"
        },
        {
         "alignmentgroup": "True",
         "hovertemplate": "ticker=NVDA<br>Date=%{x}<br>Sentiment=%{y}<extra></extra>",
         "legendgroup": "NVDA",
         "marker": {
          "color": "rgb(124, 29, 111)"
         },
         "name": "NVDA",
         "offsetgroup": "NVDA",
         "orientation": "v",
         "showlegend": true,
         "textposition": "auto",
         "type": "bar",
         "x": [
          "2020-11-01T00:00:00",
          "2020-11-02T00:00:00",
          "2020-11-03T00:00:00",
          "2020-11-04T00:00:00",
          "2020-11-05T00:00:00",
          "2020-11-06T00:00:00",
          "2020-11-07T00:00:00",
          "2020-11-08T00:00:00",
          "2020-11-09T00:00:00",
          "2020-11-10T00:00:00",
          "2020-11-11T00:00:00",
          "2020-11-12T00:00:00",
          "2020-11-13T00:00:00",
          "2020-11-14T00:00:00",
          "2020-11-15T00:00:00",
          "2020-11-16T00:00:00"
         ],
         "xaxis": "x",
         "y": [
          null,
          null,
          null,
          null,
          null,
          null,
          null,
          null,
          -0.6369,
          0.3818,
          null,
          null,
          0.4019,
          0.296,
          0.025500000000000023,
          0.2582153846153846
         ],
         "yaxis": "y"
        },
        {
         "alignmentgroup": "True",
         "hovertemplate": "ticker=NVS<br>Date=%{x}<br>Sentiment=%{y}<extra></extra>",
         "legendgroup": "NVS",
         "marker": {
          "color": "rgb(252, 222, 156)"
         },
         "name": "NVS",
         "offsetgroup": "NVS",
         "orientation": "v",
         "showlegend": true,
         "textposition": "auto",
         "type": "bar",
         "x": [
          "2020-11-01T00:00:00",
          "2020-11-02T00:00:00",
          "2020-11-03T00:00:00",
          "2020-11-04T00:00:00",
          "2020-11-05T00:00:00",
          "2020-11-06T00:00:00",
          "2020-11-07T00:00:00",
          "2020-11-08T00:00:00",
          "2020-11-09T00:00:00",
          "2020-11-10T00:00:00",
          "2020-11-11T00:00:00",
          "2020-11-12T00:00:00",
          "2020-11-13T00:00:00",
          "2020-11-14T00:00:00",
          "2020-11-15T00:00:00",
          "2020-11-16T00:00:00"
         ],
         "xaxis": "x",
         "y": [
          null,
          0.7964,
          null,
          null,
          null,
          null,
          null,
          null,
          null,
          null,
          0.5423,
          0.29581250000000003,
          0.3715,
          -0.128,
          0.06274285714285713,
          null
         ],
         "yaxis": "y"
        },
        {
         "alignmentgroup": "True",
         "hovertemplate": "ticker=ORCL<br>Date=%{x}<br>Sentiment=%{y}<extra></extra>",
         "legendgroup": "ORCL",
         "marker": {
          "color": "rgb(250, 164, 118)"
         },
         "name": "ORCL",
         "offsetgroup": "ORCL",
         "orientation": "v",
         "showlegend": true,
         "textposition": "auto",
         "type": "bar",
         "x": [
          "2020-11-01T00:00:00",
          "2020-11-02T00:00:00",
          "2020-11-03T00:00:00",
          "2020-11-04T00:00:00",
          "2020-11-05T00:00:00",
          "2020-11-06T00:00:00",
          "2020-11-07T00:00:00",
          "2020-11-08T00:00:00",
          "2020-11-09T00:00:00",
          "2020-11-10T00:00:00",
          "2020-11-11T00:00:00",
          "2020-11-12T00:00:00",
          "2020-11-13T00:00:00",
          "2020-11-14T00:00:00",
          "2020-11-15T00:00:00",
          "2020-11-16T00:00:00"
         ],
         "xaxis": "x",
         "y": [
          null,
          0.6705,
          null,
          null,
          null,
          null,
          null,
          null,
          null,
          null,
          0.4019,
          0.128,
          -0.0865857142857143,
          -0.2263,
          -0.11914999999999999,
          null
         ],
         "yaxis": "y"
        },
        {
         "alignmentgroup": "True",
         "hovertemplate": "ticker=PDD<br>Date=%{x}<br>Sentiment=%{y}<extra></extra>",
         "legendgroup": "PDD",
         "marker": {
          "color": "rgb(240, 116, 110)"
         },
         "name": "PDD",
         "offsetgroup": "PDD",
         "orientation": "v",
         "showlegend": true,
         "textposition": "auto",
         "type": "bar",
         "x": [
          "2020-11-01T00:00:00",
          "2020-11-02T00:00:00",
          "2020-11-03T00:00:00",
          "2020-11-04T00:00:00",
          "2020-11-05T00:00:00",
          "2020-11-06T00:00:00",
          "2020-11-07T00:00:00",
          "2020-11-08T00:00:00",
          "2020-11-09T00:00:00",
          "2020-11-10T00:00:00",
          "2020-11-11T00:00:00",
          "2020-11-12T00:00:00",
          "2020-11-13T00:00:00",
          "2020-11-14T00:00:00",
          "2020-11-15T00:00:00",
          "2020-11-16T00:00:00"
         ],
         "xaxis": "x",
         "y": [
          null,
          null,
          null,
          null,
          null,
          null,
          null,
          null,
          null,
          null,
          0.4404,
          0.5644,
          0.09388749999999998,
          0.4185555555555555,
          0.08524999999999999,
          null
         ],
         "yaxis": "y"
        },
        {
         "alignmentgroup": "True",
         "hovertemplate": "ticker=PEP<br>Date=%{x}<br>Sentiment=%{y}<extra></extra>",
         "legendgroup": "PEP",
         "marker": {
          "color": "rgb(227, 79, 111)"
         },
         "name": "PEP",
         "offsetgroup": "PEP",
         "orientation": "v",
         "showlegend": true,
         "textposition": "auto",
         "type": "bar",
         "x": [
          "2020-11-01T00:00:00",
          "2020-11-02T00:00:00",
          "2020-11-03T00:00:00",
          "2020-11-04T00:00:00",
          "2020-11-05T00:00:00",
          "2020-11-06T00:00:00",
          "2020-11-07T00:00:00",
          "2020-11-08T00:00:00",
          "2020-11-09T00:00:00",
          "2020-11-10T00:00:00",
          "2020-11-11T00:00:00",
          "2020-11-12T00:00:00",
          "2020-11-13T00:00:00",
          "2020-11-14T00:00:00",
          "2020-11-15T00:00:00",
          "2020-11-16T00:00:00"
         ],
         "xaxis": "x",
         "y": [
          null,
          null,
          null,
          null,
          null,
          null,
          null,
          null,
          0.6049666666666668,
          null,
          null,
          0.6530000000000001,
          -0.05698571428571429,
          0.22799999999999998,
          0.3774,
          null
         ],
         "yaxis": "y"
        },
        {
         "alignmentgroup": "True",
         "hovertemplate": "ticker=PFE<br>Date=%{x}<br>Sentiment=%{y}<extra></extra>",
         "legendgroup": "PFE",
         "marker": {
          "color": "rgb(220, 57, 119)"
         },
         "name": "PFE",
         "offsetgroup": "PFE",
         "orientation": "v",
         "showlegend": true,
         "textposition": "auto",
         "type": "bar",
         "x": [
          "2020-11-01T00:00:00",
          "2020-11-02T00:00:00",
          "2020-11-03T00:00:00",
          "2020-11-04T00:00:00",
          "2020-11-05T00:00:00",
          "2020-11-06T00:00:00",
          "2020-11-07T00:00:00",
          "2020-11-08T00:00:00",
          "2020-11-09T00:00:00",
          "2020-11-10T00:00:00",
          "2020-11-11T00:00:00",
          "2020-11-12T00:00:00",
          "2020-11-13T00:00:00",
          "2020-11-14T00:00:00",
          "2020-11-15T00:00:00",
          "2020-11-16T00:00:00"
         ],
         "xaxis": "x",
         "y": [
          null,
          null,
          null,
          null,
          null,
          -0.12689999999999999,
          null,
          null,
          0.4767,
          0.1901,
          0.57375,
          0.1027,
          null,
          null,
          null,
          0.04077727272727274
         ],
         "yaxis": "y"
        },
        {
         "alignmentgroup": "True",
         "hovertemplate": "ticker=PG<br>Date=%{x}<br>Sentiment=%{y}<extra></extra>",
         "legendgroup": "PG",
         "marker": {
          "color": "rgb(185, 37, 122)"
         },
         "name": "PG",
         "offsetgroup": "PG",
         "orientation": "v",
         "showlegend": true,
         "textposition": "auto",
         "type": "bar",
         "x": [
          "2020-11-01T00:00:00",
          "2020-11-02T00:00:00",
          "2020-11-03T00:00:00",
          "2020-11-04T00:00:00",
          "2020-11-05T00:00:00",
          "2020-11-06T00:00:00",
          "2020-11-07T00:00:00",
          "2020-11-08T00:00:00",
          "2020-11-09T00:00:00",
          "2020-11-10T00:00:00",
          "2020-11-11T00:00:00",
          "2020-11-12T00:00:00",
          "2020-11-13T00:00:00",
          "2020-11-14T00:00:00",
          "2020-11-15T00:00:00",
          "2020-11-16T00:00:00"
         ],
         "xaxis": "x",
         "y": [
          null,
          null,
          null,
          null,
          null,
          0.03715,
          null,
          null,
          0.08814,
          null,
          0.0772,
          null,
          0.40031999999999995,
          0.05145999999999999,
          null,
          null
         ],
         "yaxis": "y"
        },
        {
         "alignmentgroup": "True",
         "hovertemplate": "ticker=PYPL<br>Date=%{x}<br>Sentiment=%{y}<extra></extra>",
         "legendgroup": "PYPL",
         "marker": {
          "color": "rgb(124, 29, 111)"
         },
         "name": "PYPL",
         "offsetgroup": "PYPL",
         "orientation": "v",
         "showlegend": true,
         "textposition": "auto",
         "type": "bar",
         "x": [
          "2020-11-01T00:00:00",
          "2020-11-02T00:00:00",
          "2020-11-03T00:00:00",
          "2020-11-04T00:00:00",
          "2020-11-05T00:00:00",
          "2020-11-06T00:00:00",
          "2020-11-07T00:00:00",
          "2020-11-08T00:00:00",
          "2020-11-09T00:00:00",
          "2020-11-10T00:00:00",
          "2020-11-11T00:00:00",
          "2020-11-12T00:00:00",
          "2020-11-13T00:00:00",
          "2020-11-14T00:00:00",
          "2020-11-15T00:00:00",
          "2020-11-16T00:00:00"
         ],
         "xaxis": "x",
         "y": [
          null,
          null,
          null,
          null,
          null,
          null,
          null,
          null,
          null,
          -0.3818,
          null,
          null,
          null,
          null,
          0.09176999999999999,
          0.2406
         ],
         "yaxis": "y"
        },
        {
         "alignmentgroup": "True",
         "hovertemplate": "ticker=T<br>Date=%{x}<br>Sentiment=%{y}<extra></extra>",
         "legendgroup": "T",
         "marker": {
          "color": "rgb(252, 222, 156)"
         },
         "name": "T",
         "offsetgroup": "T",
         "orientation": "v",
         "showlegend": true,
         "textposition": "auto",
         "type": "bar",
         "x": [
          "2020-11-01T00:00:00",
          "2020-11-02T00:00:00",
          "2020-11-03T00:00:00",
          "2020-11-04T00:00:00",
          "2020-11-05T00:00:00",
          "2020-11-06T00:00:00",
          "2020-11-07T00:00:00",
          "2020-11-08T00:00:00",
          "2020-11-09T00:00:00",
          "2020-11-10T00:00:00",
          "2020-11-11T00:00:00",
          "2020-11-12T00:00:00",
          "2020-11-13T00:00:00",
          "2020-11-14T00:00:00",
          "2020-11-15T00:00:00",
          "2020-11-16T00:00:00"
         ],
         "xaxis": "x",
         "y": [
          null,
          0.25,
          null,
          null,
          null,
          null,
          null,
          null,
          null,
          0.5083666666666666,
          null,
          0.52598,
          0.3182,
          null,
          0.5585911764705881,
          0.10205
         ],
         "yaxis": "y"
        },
        {
         "alignmentgroup": "True",
         "hovertemplate": "ticker=TM<br>Date=%{x}<br>Sentiment=%{y}<extra></extra>",
         "legendgroup": "TM",
         "marker": {
          "color": "rgb(250, 164, 118)"
         },
         "name": "TM",
         "offsetgroup": "TM",
         "orientation": "v",
         "showlegend": true,
         "textposition": "auto",
         "type": "bar",
         "x": [
          "2020-11-01T00:00:00",
          "2020-11-02T00:00:00",
          "2020-11-03T00:00:00",
          "2020-11-04T00:00:00",
          "2020-11-05T00:00:00",
          "2020-11-06T00:00:00",
          "2020-11-07T00:00:00",
          "2020-11-08T00:00:00",
          "2020-11-09T00:00:00",
          "2020-11-10T00:00:00",
          "2020-11-11T00:00:00",
          "2020-11-12T00:00:00",
          "2020-11-13T00:00:00",
          "2020-11-14T00:00:00",
          "2020-11-15T00:00:00",
          "2020-11-16T00:00:00"
         ],
         "xaxis": "x",
         "y": [
          null,
          null,
          null,
          null,
          0.2732,
          null,
          null,
          null,
          0.5267,
          0.5544666666666668,
          0.25,
          0.33575,
          0.4371333333333333,
          -0.13340000000000002,
          0.20212,
          0.45930000000000004
         ],
         "yaxis": "y"
        },
        {
         "alignmentgroup": "True",
         "hovertemplate": "ticker=TMO<br>Date=%{x}<br>Sentiment=%{y}<extra></extra>",
         "legendgroup": "TMO",
         "marker": {
          "color": "rgb(240, 116, 110)"
         },
         "name": "TMO",
         "offsetgroup": "TMO",
         "orientation": "v",
         "showlegend": true,
         "textposition": "auto",
         "type": "bar",
         "x": [
          "2020-11-01T00:00:00",
          "2020-11-02T00:00:00",
          "2020-11-03T00:00:00",
          "2020-11-04T00:00:00",
          "2020-11-05T00:00:00",
          "2020-11-06T00:00:00",
          "2020-11-07T00:00:00",
          "2020-11-08T00:00:00",
          "2020-11-09T00:00:00",
          "2020-11-10T00:00:00",
          "2020-11-11T00:00:00",
          "2020-11-12T00:00:00",
          "2020-11-13T00:00:00",
          "2020-11-14T00:00:00",
          "2020-11-15T00:00:00",
          "2020-11-16T00:00:00"
         ],
         "xaxis": "x",
         "y": [
          null,
          -0.3818,
          null,
          null,
          0.296,
          null,
          null,
          null,
          null,
          null,
          0.1096,
          0.4802666666666667,
          -0.07925454545454547,
          null,
          -0.296,
          null
         ],
         "yaxis": "y"
        },
        {
         "alignmentgroup": "True",
         "hovertemplate": "ticker=TMUS<br>Date=%{x}<br>Sentiment=%{y}<extra></extra>",
         "legendgroup": "TMUS",
         "marker": {
          "color": "rgb(227, 79, 111)"
         },
         "name": "TMUS",
         "offsetgroup": "TMUS",
         "orientation": "v",
         "showlegend": true,
         "textposition": "auto",
         "type": "bar",
         "x": [
          "2020-11-01T00:00:00",
          "2020-11-02T00:00:00",
          "2020-11-03T00:00:00",
          "2020-11-04T00:00:00",
          "2020-11-05T00:00:00",
          "2020-11-06T00:00:00",
          "2020-11-07T00:00:00",
          "2020-11-08T00:00:00",
          "2020-11-09T00:00:00",
          "2020-11-10T00:00:00",
          "2020-11-11T00:00:00",
          "2020-11-12T00:00:00",
          "2020-11-13T00:00:00",
          "2020-11-14T00:00:00",
          "2020-11-15T00:00:00",
          "2020-11-16T00:00:00"
         ],
         "xaxis": "x",
         "y": [
          null,
          null,
          null,
          null,
          null,
          null,
          null,
          null,
          null,
          null,
          null,
          0.5651,
          0.039049999999999994,
          0.2263,
          0.30920000000000003,
          null
         ],
         "yaxis": "y"
        },
        {
         "alignmentgroup": "True",
         "hovertemplate": "ticker=TSLA<br>Date=%{x}<br>Sentiment=%{y}<extra></extra>",
         "legendgroup": "TSLA",
         "marker": {
          "color": "rgb(220, 57, 119)"
         },
         "name": "TSLA",
         "offsetgroup": "TSLA",
         "orientation": "v",
         "showlegend": true,
         "textposition": "auto",
         "type": "bar",
         "x": [
          "2020-11-01T00:00:00",
          "2020-11-02T00:00:00",
          "2020-11-03T00:00:00",
          "2020-11-04T00:00:00",
          "2020-11-05T00:00:00",
          "2020-11-06T00:00:00",
          "2020-11-07T00:00:00",
          "2020-11-08T00:00:00",
          "2020-11-09T00:00:00",
          "2020-11-10T00:00:00",
          "2020-11-11T00:00:00",
          "2020-11-12T00:00:00",
          "2020-11-13T00:00:00",
          "2020-11-14T00:00:00",
          "2020-11-15T00:00:00",
          "2020-11-16T00:00:00"
         ],
         "xaxis": "x",
         "y": [
          null,
          null,
          null,
          null,
          null,
          null,
          null,
          null,
          null,
          null,
          null,
          null,
          null,
          null,
          0.33738571428571434,
          0.34
         ],
         "yaxis": "y"
        },
        {
         "alignmentgroup": "True",
         "hovertemplate": "ticker=TSM<br>Date=%{x}<br>Sentiment=%{y}<extra></extra>",
         "legendgroup": "TSM",
         "marker": {
          "color": "rgb(185, 37, 122)"
         },
         "name": "TSM",
         "offsetgroup": "TSM",
         "orientation": "v",
         "showlegend": true,
         "textposition": "auto",
         "type": "bar",
         "x": [
          "2020-11-01T00:00:00",
          "2020-11-02T00:00:00",
          "2020-11-03T00:00:00",
          "2020-11-04T00:00:00",
          "2020-11-05T00:00:00",
          "2020-11-06T00:00:00",
          "2020-11-07T00:00:00",
          "2020-11-08T00:00:00",
          "2020-11-09T00:00:00",
          "2020-11-10T00:00:00",
          "2020-11-11T00:00:00",
          "2020-11-12T00:00:00",
          "2020-11-13T00:00:00",
          "2020-11-14T00:00:00",
          "2020-11-15T00:00:00",
          "2020-11-16T00:00:00"
         ],
         "xaxis": "x",
         "y": [
          null,
          null,
          null,
          null,
          null,
          null,
          null,
          null,
          null,
          null,
          0.41755,
          0.413625,
          0.33914,
          0.22924999999999998,
          -0.08735000000000001,
          -0.3818
         ],
         "yaxis": "y"
        },
        {
         "alignmentgroup": "True",
         "hovertemplate": "ticker=UN<br>Date=%{x}<br>Sentiment=%{y}<extra></extra>",
         "legendgroup": "UN",
         "marker": {
          "color": "rgb(124, 29, 111)"
         },
         "name": "UN",
         "offsetgroup": "UN",
         "orientation": "v",
         "showlegend": true,
         "textposition": "auto",
         "type": "bar",
         "x": [
          "2020-11-01T00:00:00",
          "2020-11-02T00:00:00",
          "2020-11-03T00:00:00",
          "2020-11-04T00:00:00",
          "2020-11-05T00:00:00",
          "2020-11-06T00:00:00",
          "2020-11-07T00:00:00",
          "2020-11-08T00:00:00",
          "2020-11-09T00:00:00",
          "2020-11-10T00:00:00",
          "2020-11-11T00:00:00",
          "2020-11-12T00:00:00",
          "2020-11-13T00:00:00",
          "2020-11-14T00:00:00",
          "2020-11-15T00:00:00",
          "2020-11-16T00:00:00"
         ],
         "xaxis": "x",
         "y": [
          null,
          null,
          null,
          null,
          0.3182,
          null,
          0.2732,
          null,
          null,
          0.08399999999999999,
          0.39495,
          0.57395,
          0.5210600000000001,
          0.28324285714285713,
          0.296,
          null
         ],
         "yaxis": "y"
        },
        {
         "alignmentgroup": "True",
         "hovertemplate": "ticker=UNH<br>Date=%{x}<br>Sentiment=%{y}<extra></extra>",
         "legendgroup": "UNH",
         "marker": {
          "color": "rgb(252, 222, 156)"
         },
         "name": "UNH",
         "offsetgroup": "UNH",
         "orientation": "v",
         "showlegend": true,
         "textposition": "auto",
         "type": "bar",
         "x": [
          "2020-11-01T00:00:00",
          "2020-11-02T00:00:00",
          "2020-11-03T00:00:00",
          "2020-11-04T00:00:00",
          "2020-11-05T00:00:00",
          "2020-11-06T00:00:00",
          "2020-11-07T00:00:00",
          "2020-11-08T00:00:00",
          "2020-11-09T00:00:00",
          "2020-11-10T00:00:00",
          "2020-11-11T00:00:00",
          "2020-11-12T00:00:00",
          "2020-11-13T00:00:00",
          "2020-11-14T00:00:00",
          "2020-11-15T00:00:00",
          "2020-11-16T00:00:00"
         ],
         "xaxis": "x",
         "y": [
          null,
          null,
          0.6249,
          null,
          null,
          null,
          null,
          null,
          null,
          0.2023,
          0.0772,
          0.5271333333333333,
          0.23775000000000002,
          0.0772,
          0.1075875,
          null
         ],
         "yaxis": "y"
        },
        {
         "alignmentgroup": "True",
         "hovertemplate": "ticker=VZ<br>Date=%{x}<br>Sentiment=%{y}<extra></extra>",
         "legendgroup": "VZ",
         "marker": {
          "color": "rgb(250, 164, 118)"
         },
         "name": "VZ",
         "offsetgroup": "VZ",
         "orientation": "v",
         "showlegend": true,
         "textposition": "auto",
         "type": "bar",
         "x": [
          "2020-11-01T00:00:00",
          "2020-11-02T00:00:00",
          "2020-11-03T00:00:00",
          "2020-11-04T00:00:00",
          "2020-11-05T00:00:00",
          "2020-11-06T00:00:00",
          "2020-11-07T00:00:00",
          "2020-11-08T00:00:00",
          "2020-11-09T00:00:00",
          "2020-11-10T00:00:00",
          "2020-11-11T00:00:00",
          "2020-11-12T00:00:00",
          "2020-11-13T00:00:00",
          "2020-11-14T00:00:00",
          "2020-11-15T00:00:00",
          "2020-11-16T00:00:00"
         ],
         "xaxis": "x",
         "y": [
          null,
          0.53385,
          null,
          null,
          null,
          null,
          null,
          null,
          null,
          0.6124,
          0.3182,
          0.4491,
          0.30205333333333334,
          0.4939,
          0.1268,
          0.2023
         ],
         "yaxis": "y"
        },
        {
         "alignmentgroup": "True",
         "hovertemplate": "ticker=WMT<br>Date=%{x}<br>Sentiment=%{y}<extra></extra>",
         "legendgroup": "WMT",
         "marker": {
          "color": "rgb(240, 116, 110)"
         },
         "name": "WMT",
         "offsetgroup": "WMT",
         "orientation": "v",
         "showlegend": true,
         "textposition": "auto",
         "type": "bar",
         "x": [
          "2020-11-01T00:00:00",
          "2020-11-02T00:00:00",
          "2020-11-03T00:00:00",
          "2020-11-04T00:00:00",
          "2020-11-05T00:00:00",
          "2020-11-06T00:00:00",
          "2020-11-07T00:00:00",
          "2020-11-08T00:00:00",
          "2020-11-09T00:00:00",
          "2020-11-10T00:00:00",
          "2020-11-11T00:00:00",
          "2020-11-12T00:00:00",
          "2020-11-13T00:00:00",
          "2020-11-14T00:00:00",
          "2020-11-15T00:00:00",
          "2020-11-16T00:00:00"
         ],
         "xaxis": "x",
         "y": [
          null,
          null,
          null,
          null,
          null,
          null,
          null,
          null,
          null,
          null,
          null,
          null,
          0.1107,
          0.030700000000000015,
          0.014949999999999991,
          null
         ],
         "yaxis": "y"
        }
       ],
       "layout": {
        "barmode": "relative",
        "legend": {
         "title": {
          "text": "ticker"
         },
         "tracegroupgap": 0
        },
        "template": {
         "data": {
          "bar": [
           {
            "error_x": {
             "color": "#f2f5fa"
            },
            "error_y": {
             "color": "#f2f5fa"
            },
            "marker": {
             "line": {
              "color": "rgb(17,17,17)",
              "width": 0.5
             }
            },
            "type": "bar"
           }
          ],
          "barpolar": [
           {
            "marker": {
             "line": {
              "color": "rgb(17,17,17)",
              "width": 0.5
             }
            },
            "type": "barpolar"
           }
          ],
          "carpet": [
           {
            "aaxis": {
             "endlinecolor": "#A2B1C6",
             "gridcolor": "#506784",
             "linecolor": "#506784",
             "minorgridcolor": "#506784",
             "startlinecolor": "#A2B1C6"
            },
            "baxis": {
             "endlinecolor": "#A2B1C6",
             "gridcolor": "#506784",
             "linecolor": "#506784",
             "minorgridcolor": "#506784",
             "startlinecolor": "#A2B1C6"
            },
            "type": "carpet"
           }
          ],
          "choropleth": [
           {
            "colorbar": {
             "outlinewidth": 0,
             "ticks": ""
            },
            "type": "choropleth"
           }
          ],
          "contour": [
           {
            "colorbar": {
             "outlinewidth": 0,
             "ticks": ""
            },
            "colorscale": [
             [
              0,
              "#0d0887"
             ],
             [
              0.1111111111111111,
              "#46039f"
             ],
             [
              0.2222222222222222,
              "#7201a8"
             ],
             [
              0.3333333333333333,
              "#9c179e"
             ],
             [
              0.4444444444444444,
              "#bd3786"
             ],
             [
              0.5555555555555556,
              "#d8576b"
             ],
             [
              0.6666666666666666,
              "#ed7953"
             ],
             [
              0.7777777777777778,
              "#fb9f3a"
             ],
             [
              0.8888888888888888,
              "#fdca26"
             ],
             [
              1,
              "#f0f921"
             ]
            ],
            "type": "contour"
           }
          ],
          "contourcarpet": [
           {
            "colorbar": {
             "outlinewidth": 0,
             "ticks": ""
            },
            "type": "contourcarpet"
           }
          ],
          "heatmap": [
           {
            "colorbar": {
             "outlinewidth": 0,
             "ticks": ""
            },
            "colorscale": [
             [
              0,
              "#0d0887"
             ],
             [
              0.1111111111111111,
              "#46039f"
             ],
             [
              0.2222222222222222,
              "#7201a8"
             ],
             [
              0.3333333333333333,
              "#9c179e"
             ],
             [
              0.4444444444444444,
              "#bd3786"
             ],
             [
              0.5555555555555556,
              "#d8576b"
             ],
             [
              0.6666666666666666,
              "#ed7953"
             ],
             [
              0.7777777777777778,
              "#fb9f3a"
             ],
             [
              0.8888888888888888,
              "#fdca26"
             ],
             [
              1,
              "#f0f921"
             ]
            ],
            "type": "heatmap"
           }
          ],
          "heatmapgl": [
           {
            "colorbar": {
             "outlinewidth": 0,
             "ticks": ""
            },
            "colorscale": [
             [
              0,
              "#0d0887"
             ],
             [
              0.1111111111111111,
              "#46039f"
             ],
             [
              0.2222222222222222,
              "#7201a8"
             ],
             [
              0.3333333333333333,
              "#9c179e"
             ],
             [
              0.4444444444444444,
              "#bd3786"
             ],
             [
              0.5555555555555556,
              "#d8576b"
             ],
             [
              0.6666666666666666,
              "#ed7953"
             ],
             [
              0.7777777777777778,
              "#fb9f3a"
             ],
             [
              0.8888888888888888,
              "#fdca26"
             ],
             [
              1,
              "#f0f921"
             ]
            ],
            "type": "heatmapgl"
           }
          ],
          "histogram": [
           {
            "marker": {
             "colorbar": {
              "outlinewidth": 0,
              "ticks": ""
             }
            },
            "type": "histogram"
           }
          ],
          "histogram2d": [
           {
            "colorbar": {
             "outlinewidth": 0,
             "ticks": ""
            },
            "colorscale": [
             [
              0,
              "#0d0887"
             ],
             [
              0.1111111111111111,
              "#46039f"
             ],
             [
              0.2222222222222222,
              "#7201a8"
             ],
             [
              0.3333333333333333,
              "#9c179e"
             ],
             [
              0.4444444444444444,
              "#bd3786"
             ],
             [
              0.5555555555555556,
              "#d8576b"
             ],
             [
              0.6666666666666666,
              "#ed7953"
             ],
             [
              0.7777777777777778,
              "#fb9f3a"
             ],
             [
              0.8888888888888888,
              "#fdca26"
             ],
             [
              1,
              "#f0f921"
             ]
            ],
            "type": "histogram2d"
           }
          ],
          "histogram2dcontour": [
           {
            "colorbar": {
             "outlinewidth": 0,
             "ticks": ""
            },
            "colorscale": [
             [
              0,
              "#0d0887"
             ],
             [
              0.1111111111111111,
              "#46039f"
             ],
             [
              0.2222222222222222,
              "#7201a8"
             ],
             [
              0.3333333333333333,
              "#9c179e"
             ],
             [
              0.4444444444444444,
              "#bd3786"
             ],
             [
              0.5555555555555556,
              "#d8576b"
             ],
             [
              0.6666666666666666,
              "#ed7953"
             ],
             [
              0.7777777777777778,
              "#fb9f3a"
             ],
             [
              0.8888888888888888,
              "#fdca26"
             ],
             [
              1,
              "#f0f921"
             ]
            ],
            "type": "histogram2dcontour"
           }
          ],
          "mesh3d": [
           {
            "colorbar": {
             "outlinewidth": 0,
             "ticks": ""
            },
            "type": "mesh3d"
           }
          ],
          "parcoords": [
           {
            "line": {
             "colorbar": {
              "outlinewidth": 0,
              "ticks": ""
             }
            },
            "type": "parcoords"
           }
          ],
          "pie": [
           {
            "automargin": true,
            "type": "pie"
           }
          ],
          "scatter": [
           {
            "marker": {
             "line": {
              "color": "#283442"
             }
            },
            "type": "scatter"
           }
          ],
          "scatter3d": [
           {
            "line": {
             "colorbar": {
              "outlinewidth": 0,
              "ticks": ""
             }
            },
            "marker": {
             "colorbar": {
              "outlinewidth": 0,
              "ticks": ""
             }
            },
            "type": "scatter3d"
           }
          ],
          "scattercarpet": [
           {
            "marker": {
             "colorbar": {
              "outlinewidth": 0,
              "ticks": ""
             }
            },
            "type": "scattercarpet"
           }
          ],
          "scattergeo": [
           {
            "marker": {
             "colorbar": {
              "outlinewidth": 0,
              "ticks": ""
             }
            },
            "type": "scattergeo"
           }
          ],
          "scattergl": [
           {
            "marker": {
             "line": {
              "color": "#283442"
             }
            },
            "type": "scattergl"
           }
          ],
          "scattermapbox": [
           {
            "marker": {
             "colorbar": {
              "outlinewidth": 0,
              "ticks": ""
             }
            },
            "type": "scattermapbox"
           }
          ],
          "scatterpolar": [
           {
            "marker": {
             "colorbar": {
              "outlinewidth": 0,
              "ticks": ""
             }
            },
            "type": "scatterpolar"
           }
          ],
          "scatterpolargl": [
           {
            "marker": {
             "colorbar": {
              "outlinewidth": 0,
              "ticks": ""
             }
            },
            "type": "scatterpolargl"
           }
          ],
          "scatterternary": [
           {
            "marker": {
             "colorbar": {
              "outlinewidth": 0,
              "ticks": ""
             }
            },
            "type": "scatterternary"
           }
          ],
          "surface": [
           {
            "colorbar": {
             "outlinewidth": 0,
             "ticks": ""
            },
            "colorscale": [
             [
              0,
              "#0d0887"
             ],
             [
              0.1111111111111111,
              "#46039f"
             ],
             [
              0.2222222222222222,
              "#7201a8"
             ],
             [
              0.3333333333333333,
              "#9c179e"
             ],
             [
              0.4444444444444444,
              "#bd3786"
             ],
             [
              0.5555555555555556,
              "#d8576b"
             ],
             [
              0.6666666666666666,
              "#ed7953"
             ],
             [
              0.7777777777777778,
              "#fb9f3a"
             ],
             [
              0.8888888888888888,
              "#fdca26"
             ],
             [
              1,
              "#f0f921"
             ]
            ],
            "type": "surface"
           }
          ],
          "table": [
           {
            "cells": {
             "fill": {
              "color": "#506784"
             },
             "line": {
              "color": "rgb(17,17,17)"
             }
            },
            "header": {
             "fill": {
              "color": "#2a3f5f"
             },
             "line": {
              "color": "rgb(17,17,17)"
             }
            },
            "type": "table"
           }
          ]
         },
         "layout": {
          "annotationdefaults": {
           "arrowcolor": "#f2f5fa",
           "arrowhead": 0,
           "arrowwidth": 1
          },
          "coloraxis": {
           "colorbar": {
            "outlinewidth": 0,
            "ticks": ""
           }
          },
          "colorscale": {
           "diverging": [
            [
             0,
             "#8e0152"
            ],
            [
             0.1,
             "#c51b7d"
            ],
            [
             0.2,
             "#de77ae"
            ],
            [
             0.3,
             "#f1b6da"
            ],
            [
             0.4,
             "#fde0ef"
            ],
            [
             0.5,
             "#f7f7f7"
            ],
            [
             0.6,
             "#e6f5d0"
            ],
            [
             0.7,
             "#b8e186"
            ],
            [
             0.8,
             "#7fbc41"
            ],
            [
             0.9,
             "#4d9221"
            ],
            [
             1,
             "#276419"
            ]
           ],
           "sequential": [
            [
             0,
             "#0d0887"
            ],
            [
             0.1111111111111111,
             "#46039f"
            ],
            [
             0.2222222222222222,
             "#7201a8"
            ],
            [
             0.3333333333333333,
             "#9c179e"
            ],
            [
             0.4444444444444444,
             "#bd3786"
            ],
            [
             0.5555555555555556,
             "#d8576b"
            ],
            [
             0.6666666666666666,
             "#ed7953"
            ],
            [
             0.7777777777777778,
             "#fb9f3a"
            ],
            [
             0.8888888888888888,
             "#fdca26"
            ],
            [
             1,
             "#f0f921"
            ]
           ],
           "sequentialminus": [
            [
             0,
             "#0d0887"
            ],
            [
             0.1111111111111111,
             "#46039f"
            ],
            [
             0.2222222222222222,
             "#7201a8"
            ],
            [
             0.3333333333333333,
             "#9c179e"
            ],
            [
             0.4444444444444444,
             "#bd3786"
            ],
            [
             0.5555555555555556,
             "#d8576b"
            ],
            [
             0.6666666666666666,
             "#ed7953"
            ],
            [
             0.7777777777777778,
             "#fb9f3a"
            ],
            [
             0.8888888888888888,
             "#fdca26"
            ],
            [
             1,
             "#f0f921"
            ]
           ]
          },
          "colorway": [
           "#636efa",
           "#EF553B",
           "#00cc96",
           "#ab63fa",
           "#FFA15A",
           "#19d3f3",
           "#FF6692",
           "#B6E880",
           "#FF97FF",
           "#FECB52"
          ],
          "font": {
           "color": "#f2f5fa"
          },
          "geo": {
           "bgcolor": "rgb(17,17,17)",
           "lakecolor": "rgb(17,17,17)",
           "landcolor": "rgb(17,17,17)",
           "showlakes": true,
           "showland": true,
           "subunitcolor": "#506784"
          },
          "hoverlabel": {
           "align": "left"
          },
          "hovermode": "closest",
          "mapbox": {
           "style": "dark"
          },
          "paper_bgcolor": "rgb(17,17,17)",
          "plot_bgcolor": "rgb(17,17,17)",
          "polar": {
           "angularaxis": {
            "gridcolor": "#506784",
            "linecolor": "#506784",
            "ticks": ""
           },
           "bgcolor": "rgb(17,17,17)",
           "radialaxis": {
            "gridcolor": "#506784",
            "linecolor": "#506784",
            "ticks": ""
           }
          },
          "scene": {
           "xaxis": {
            "backgroundcolor": "rgb(17,17,17)",
            "gridcolor": "#506784",
            "gridwidth": 2,
            "linecolor": "#506784",
            "showbackground": true,
            "ticks": "",
            "zerolinecolor": "#C8D4E3"
           },
           "yaxis": {
            "backgroundcolor": "rgb(17,17,17)",
            "gridcolor": "#506784",
            "gridwidth": 2,
            "linecolor": "#506784",
            "showbackground": true,
            "ticks": "",
            "zerolinecolor": "#C8D4E3"
           },
           "zaxis": {
            "backgroundcolor": "rgb(17,17,17)",
            "gridcolor": "#506784",
            "gridwidth": 2,
            "linecolor": "#506784",
            "showbackground": true,
            "ticks": "",
            "zerolinecolor": "#C8D4E3"
           }
          },
          "shapedefaults": {
           "line": {
            "color": "#f2f5fa"
           }
          },
          "sliderdefaults": {
           "bgcolor": "#C8D4E3",
           "bordercolor": "rgb(17,17,17)",
           "borderwidth": 1,
           "tickwidth": 0
          },
          "ternary": {
           "aaxis": {
            "gridcolor": "#506784",
            "linecolor": "#506784",
            "ticks": ""
           },
           "baxis": {
            "gridcolor": "#506784",
            "linecolor": "#506784",
            "ticks": ""
           },
           "bgcolor": "rgb(17,17,17)",
           "caxis": {
            "gridcolor": "#506784",
            "linecolor": "#506784",
            "ticks": ""
           }
          },
          "title": {
           "x": 0.05
          },
          "updatemenudefaults": {
           "bgcolor": "#506784",
           "borderwidth": 0
          },
          "xaxis": {
           "automargin": true,
           "gridcolor": "#283442",
           "linecolor": "#506784",
           "ticks": "",
           "title": {
            "standoff": 15
           },
           "zerolinecolor": "#283442",
           "zerolinewidth": 2
          },
          "yaxis": {
           "automargin": true,
           "gridcolor": "#283442",
           "linecolor": "#506784",
           "ticks": "",
           "title": {
            "standoff": 15
           },
           "zerolinecolor": "#283442",
           "zerolinewidth": 2
          }
         }
        },
        "title": {
         "text": "Average Sentiment of Stock Headlines"
        },
        "xaxis": {
         "anchor": "y",
         "domain": [
          0,
          1
         ],
         "title": {
          "text": "Date"
         }
        },
        "yaxis": {
         "anchor": "x",
         "domain": [
          0,
          1
         ],
         "title": {
          "text": "Sentiment"
         }
        }
       }
      },
      "text/html": [
       "<div>                            <div id=\"6b3c6618-95fb-4fb7-a781-29ff2c566226\" class=\"plotly-graph-div\" style=\"height:525px; width:100%;\"></div>            <script type=\"text/javascript\">                require([\"plotly\"], function(Plotly) {                    window.PLOTLYENV=window.PLOTLYENV || {};                                    if (document.getElementById(\"6b3c6618-95fb-4fb7-a781-29ff2c566226\")) {                    Plotly.newPlot(                        \"6b3c6618-95fb-4fb7-a781-29ff2c566226\",                        [{\"alignmentgroup\": \"True\", \"hovertemplate\": \"ticker=AAPL<br>Date=%{x}<br>Sentiment=%{y}<extra></extra>\", \"legendgroup\": \"AAPL\", \"marker\": {\"color\": \"rgb(252, 222, 156)\"}, \"name\": \"AAPL\", \"offsetgroup\": \"AAPL\", \"orientation\": \"v\", \"showlegend\": true, \"textposition\": \"auto\", \"type\": \"bar\", \"x\": [\"2020-11-01T00:00:00\", \"2020-11-02T00:00:00\", \"2020-11-03T00:00:00\", \"2020-11-04T00:00:00\", \"2020-11-05T00:00:00\", \"2020-11-06T00:00:00\", \"2020-11-07T00:00:00\", \"2020-11-08T00:00:00\", \"2020-11-09T00:00:00\", \"2020-11-10T00:00:00\", \"2020-11-11T00:00:00\", \"2020-11-12T00:00:00\", \"2020-11-13T00:00:00\", \"2020-11-14T00:00:00\", \"2020-11-15T00:00:00\", \"2020-11-16T00:00:00\"], \"xaxis\": \"x\", \"y\": [null, null, null, null, null, null, null, null, null, null, null, 0.2732, 0.3902, null, 0.039463636363636374, 0.2093], \"yaxis\": \"y\"}, {\"alignmentgroup\": \"True\", \"hovertemplate\": \"ticker=ABBV<br>Date=%{x}<br>Sentiment=%{y}<extra></extra>\", \"legendgroup\": \"ABBV\", \"marker\": {\"color\": \"rgb(250, 164, 118)\"}, \"name\": \"ABBV\", \"offsetgroup\": \"ABBV\", \"orientation\": \"v\", \"showlegend\": true, \"textposition\": \"auto\", \"type\": \"bar\", \"x\": [\"2020-11-01T00:00:00\", \"2020-11-02T00:00:00\", \"2020-11-03T00:00:00\", \"2020-11-04T00:00:00\", \"2020-11-05T00:00:00\", \"2020-11-06T00:00:00\", \"2020-11-07T00:00:00\", \"2020-11-08T00:00:00\", \"2020-11-09T00:00:00\", \"2020-11-10T00:00:00\", \"2020-11-11T00:00:00\", \"2020-11-12T00:00:00\", \"2020-11-13T00:00:00\", \"2020-11-14T00:00:00\", \"2020-11-15T00:00:00\", \"2020-11-16T00:00:00\"], \"xaxis\": \"x\", \"y\": [null, -0.1027, -0.3818, 0.25, -0.4588, null, null, null, null, 0.516, 0.3818, 0.1049, -0.03133999999999999, 0.46645000000000003, null, null], \"yaxis\": \"y\"}, {\"alignmentgroup\": \"True\", \"hovertemplate\": \"ticker=ABT<br>Date=%{x}<br>Sentiment=%{y}<extra></extra>\", \"legendgroup\": \"ABT\", \"marker\": {\"color\": \"rgb(240, 116, 110)\"}, \"name\": \"ABT\", \"offsetgroup\": \"ABT\", \"orientation\": \"v\", \"showlegend\": true, \"textposition\": \"auto\", \"type\": \"bar\", \"x\": [\"2020-11-01T00:00:00\", \"2020-11-02T00:00:00\", \"2020-11-03T00:00:00\", \"2020-11-04T00:00:00\", \"2020-11-05T00:00:00\", \"2020-11-06T00:00:00\", \"2020-11-07T00:00:00\", \"2020-11-08T00:00:00\", \"2020-11-09T00:00:00\", \"2020-11-10T00:00:00\", \"2020-11-11T00:00:00\", \"2020-11-12T00:00:00\", \"2020-11-13T00:00:00\", \"2020-11-14T00:00:00\", \"2020-11-15T00:00:00\", \"2020-11-16T00:00:00\"], \"xaxis\": \"x\", \"y\": [null, null, -0.4404, null, null, null, null, 0.3071, 0.3929, -0.5106, 0.3818, null, 0.1901, -0.04595, 0.4267, 0.2023], \"yaxis\": \"y\"}, {\"alignmentgroup\": \"True\", \"hovertemplate\": \"ticker=ADBE<br>Date=%{x}<br>Sentiment=%{y}<extra></extra>\", \"legendgroup\": \"ADBE\", \"marker\": {\"color\": \"rgb(227, 79, 111)\"}, \"name\": \"ADBE\", \"offsetgroup\": \"ADBE\", \"orientation\": \"v\", \"showlegend\": true, \"textposition\": \"auto\", \"type\": \"bar\", \"x\": [\"2020-11-01T00:00:00\", \"2020-11-02T00:00:00\", \"2020-11-03T00:00:00\", \"2020-11-04T00:00:00\", \"2020-11-05T00:00:00\", \"2020-11-06T00:00:00\", \"2020-11-07T00:00:00\", \"2020-11-08T00:00:00\", \"2020-11-09T00:00:00\", \"2020-11-10T00:00:00\", \"2020-11-11T00:00:00\", \"2020-11-12T00:00:00\", \"2020-11-13T00:00:00\", \"2020-11-14T00:00:00\", \"2020-11-15T00:00:00\", \"2020-11-16T00:00:00\"], \"xaxis\": \"x\", \"y\": [null, null, null, null, null, null, null, null, null, null, null, 0.1833111111111111, 0.33985714285714286, 0.28315, 0.34, null], \"yaxis\": \"y\"}, {\"alignmentgroup\": \"True\", \"hovertemplate\": \"ticker=AMZN<br>Date=%{x}<br>Sentiment=%{y}<extra></extra>\", \"legendgroup\": \"AMZN\", \"marker\": {\"color\": \"rgb(220, 57, 119)\"}, \"name\": \"AMZN\", \"offsetgroup\": \"AMZN\", \"orientation\": \"v\", \"showlegend\": true, \"textposition\": \"auto\", \"type\": \"bar\", \"x\": [\"2020-11-01T00:00:00\", \"2020-11-02T00:00:00\", \"2020-11-03T00:00:00\", \"2020-11-04T00:00:00\", \"2020-11-05T00:00:00\", \"2020-11-06T00:00:00\", \"2020-11-07T00:00:00\", \"2020-11-08T00:00:00\", \"2020-11-09T00:00:00\", \"2020-11-10T00:00:00\", \"2020-11-11T00:00:00\", \"2020-11-12T00:00:00\", \"2020-11-13T00:00:00\", \"2020-11-14T00:00:00\", \"2020-11-15T00:00:00\", \"2020-11-16T00:00:00\"], \"xaxis\": \"x\", \"y\": [null, null, null, null, null, null, null, null, null, -0.05429999999999999, 0.21842500000000004, 0.24407999999999994, null, null, 0.38847142857142863, 0.5471], \"yaxis\": \"y\"}, {\"alignmentgroup\": \"True\", \"hovertemplate\": \"ticker=ASML<br>Date=%{x}<br>Sentiment=%{y}<extra></extra>\", \"legendgroup\": \"ASML\", \"marker\": {\"color\": \"rgb(185, 37, 122)\"}, \"name\": \"ASML\", \"offsetgroup\": \"ASML\", \"orientation\": \"v\", \"showlegend\": true, \"textposition\": \"auto\", \"type\": \"bar\", \"x\": [\"2020-11-01T00:00:00\", \"2020-11-02T00:00:00\", \"2020-11-03T00:00:00\", \"2020-11-04T00:00:00\", \"2020-11-05T00:00:00\", \"2020-11-06T00:00:00\", \"2020-11-07T00:00:00\", \"2020-11-08T00:00:00\", \"2020-11-09T00:00:00\", \"2020-11-10T00:00:00\", \"2020-11-11T00:00:00\", \"2020-11-12T00:00:00\", \"2020-11-13T00:00:00\", \"2020-11-14T00:00:00\", \"2020-11-15T00:00:00\", \"2020-11-16T00:00:00\"], \"xaxis\": \"x\", \"y\": [null, 0.296, 0.5994, 0.0943, null, 0.5423, null, null, 0.059199999999999996, 0.296, null, 0.3612, null, null, null, null], \"yaxis\": \"y\"}, {\"alignmentgroup\": \"True\", \"hovertemplate\": \"ticker=BABA<br>Date=%{x}<br>Sentiment=%{y}<extra></extra>\", \"legendgroup\": \"BABA\", \"marker\": {\"color\": \"rgb(124, 29, 111)\"}, \"name\": \"BABA\", \"offsetgroup\": \"BABA\", \"orientation\": \"v\", \"showlegend\": true, \"textposition\": \"auto\", \"type\": \"bar\", \"x\": [\"2020-11-01T00:00:00\", \"2020-11-02T00:00:00\", \"2020-11-03T00:00:00\", \"2020-11-04T00:00:00\", \"2020-11-05T00:00:00\", \"2020-11-06T00:00:00\", \"2020-11-07T00:00:00\", \"2020-11-08T00:00:00\", \"2020-11-09T00:00:00\", \"2020-11-10T00:00:00\", \"2020-11-11T00:00:00\", \"2020-11-12T00:00:00\", \"2020-11-13T00:00:00\", \"2020-11-14T00:00:00\", \"2020-11-15T00:00:00\", \"2020-11-16T00:00:00\"], \"xaxis\": \"x\", \"y\": [null, null, null, null, null, null, null, null, null, 0.2616, null, 0.4215, 0.4019, 0.4404, 0.18185, 0.37297777777777774], \"yaxis\": \"y\"}, {\"alignmentgroup\": \"True\", \"hovertemplate\": \"ticker=BAC<br>Date=%{x}<br>Sentiment=%{y}<extra></extra>\", \"legendgroup\": \"BAC\", \"marker\": {\"color\": \"rgb(252, 222, 156)\"}, \"name\": \"BAC\", \"offsetgroup\": \"BAC\", \"orientation\": \"v\", \"showlegend\": true, \"textposition\": \"auto\", \"type\": \"bar\", \"x\": [\"2020-11-01T00:00:00\", \"2020-11-02T00:00:00\", \"2020-11-03T00:00:00\", \"2020-11-04T00:00:00\", \"2020-11-05T00:00:00\", \"2020-11-06T00:00:00\", \"2020-11-07T00:00:00\", \"2020-11-08T00:00:00\", \"2020-11-09T00:00:00\", \"2020-11-10T00:00:00\", \"2020-11-11T00:00:00\", \"2020-11-12T00:00:00\", \"2020-11-13T00:00:00\", \"2020-11-14T00:00:00\", \"2020-11-15T00:00:00\", \"2020-11-16T00:00:00\"], \"xaxis\": \"x\", \"y\": [null, 0.25, null, 0.3803, null, null, null, null, 0.5859, null, null, null, null, null, 0.2618629629629631, 0.5653], \"yaxis\": \"y\"}, {\"alignmentgroup\": \"True\", \"hovertemplate\": \"ticker=CMCSA<br>Date=%{x}<br>Sentiment=%{y}<extra></extra>\", \"legendgroup\": \"CMCSA\", \"marker\": {\"color\": \"rgb(250, 164, 118)\"}, \"name\": \"CMCSA\", \"offsetgroup\": \"CMCSA\", \"orientation\": \"v\", \"showlegend\": true, \"textposition\": \"auto\", \"type\": \"bar\", \"x\": [\"2020-11-01T00:00:00\", \"2020-11-02T00:00:00\", \"2020-11-03T00:00:00\", \"2020-11-04T00:00:00\", \"2020-11-05T00:00:00\", \"2020-11-06T00:00:00\", \"2020-11-07T00:00:00\", \"2020-11-08T00:00:00\", \"2020-11-09T00:00:00\", \"2020-11-10T00:00:00\", \"2020-11-11T00:00:00\", \"2020-11-12T00:00:00\", \"2020-11-13T00:00:00\", \"2020-11-14T00:00:00\", \"2020-11-15T00:00:00\", \"2020-11-16T00:00:00\"], \"xaxis\": \"x\", \"y\": [null, 0.56225, null, null, null, null, null, null, null, null, null, null, null, 0.26496666666666674, 0.46090714285714285, 0.5859], \"yaxis\": \"y\"}, {\"alignmentgroup\": \"True\", \"hovertemplate\": \"ticker=COST<br>Date=%{x}<br>Sentiment=%{y}<extra></extra>\", \"legendgroup\": \"COST\", \"marker\": {\"color\": \"rgb(240, 116, 110)\"}, \"name\": \"COST\", \"offsetgroup\": \"COST\", \"orientation\": \"v\", \"showlegend\": true, \"textposition\": \"auto\", \"type\": \"bar\", \"x\": [\"2020-11-01T00:00:00\", \"2020-11-02T00:00:00\", \"2020-11-03T00:00:00\", \"2020-11-04T00:00:00\", \"2020-11-05T00:00:00\", \"2020-11-06T00:00:00\", \"2020-11-07T00:00:00\", \"2020-11-08T00:00:00\", \"2020-11-09T00:00:00\", \"2020-11-10T00:00:00\", \"2020-11-11T00:00:00\", \"2020-11-12T00:00:00\", \"2020-11-13T00:00:00\", \"2020-11-14T00:00:00\", \"2020-11-15T00:00:00\", \"2020-11-16T00:00:00\"], \"xaxis\": \"x\", \"y\": [null, null, null, null, null, null, null, null, null, null, null, 0.3182, 0.1985, 0.4019, 0.36644, 0.13066000000000005], \"yaxis\": \"y\"}, {\"alignmentgroup\": \"True\", \"hovertemplate\": \"ticker=CRM<br>Date=%{x}<br>Sentiment=%{y}<extra></extra>\", \"legendgroup\": \"CRM\", \"marker\": {\"color\": \"rgb(227, 79, 111)\"}, \"name\": \"CRM\", \"offsetgroup\": \"CRM\", \"orientation\": \"v\", \"showlegend\": true, \"textposition\": \"auto\", \"type\": \"bar\", \"x\": [\"2020-11-01T00:00:00\", \"2020-11-02T00:00:00\", \"2020-11-03T00:00:00\", \"2020-11-04T00:00:00\", \"2020-11-05T00:00:00\", \"2020-11-06T00:00:00\", \"2020-11-07T00:00:00\", \"2020-11-08T00:00:00\", \"2020-11-09T00:00:00\", \"2020-11-10T00:00:00\", \"2020-11-11T00:00:00\", \"2020-11-12T00:00:00\", \"2020-11-13T00:00:00\", \"2020-11-14T00:00:00\", \"2020-11-15T00:00:00\", \"2020-11-16T00:00:00\"], \"xaxis\": \"x\", \"y\": [0.296, null, -0.03260000000000002, null, null, 0.4019, null, null, 0.3612, 0.296, null, null, null, -0.128, 0.5449499999999999, null], \"yaxis\": \"y\"}, {\"alignmentgroup\": \"True\", \"hovertemplate\": \"ticker=CSCO<br>Date=%{x}<br>Sentiment=%{y}<extra></extra>\", \"legendgroup\": \"CSCO\", \"marker\": {\"color\": \"rgb(220, 57, 119)\"}, \"name\": \"CSCO\", \"offsetgroup\": \"CSCO\", \"orientation\": \"v\", \"showlegend\": true, \"textposition\": \"auto\", \"type\": \"bar\", \"x\": [\"2020-11-01T00:00:00\", \"2020-11-02T00:00:00\", \"2020-11-03T00:00:00\", \"2020-11-04T00:00:00\", \"2020-11-05T00:00:00\", \"2020-11-06T00:00:00\", \"2020-11-07T00:00:00\", \"2020-11-08T00:00:00\", \"2020-11-09T00:00:00\", \"2020-11-10T00:00:00\", \"2020-11-11T00:00:00\", \"2020-11-12T00:00:00\", \"2020-11-13T00:00:00\", \"2020-11-14T00:00:00\", \"2020-11-15T00:00:00\", \"2020-11-16T00:00:00\"], \"xaxis\": \"x\", \"y\": [null, 0.8074, null, null, null, 0.7783, null, null, 0.7672, 0.57735, 0.836, 0.38634999999999997, 0.32713333333333333, -0.2678666666666667, 0.5043875, 0.4404], \"yaxis\": \"y\"}, {\"alignmentgroup\": \"True\", \"hovertemplate\": \"ticker=CVX<br>Date=%{x}<br>Sentiment=%{y}<extra></extra>\", \"legendgroup\": \"CVX\", \"marker\": {\"color\": \"rgb(185, 37, 122)\"}, \"name\": \"CVX\", \"offsetgroup\": \"CVX\", \"orientation\": \"v\", \"showlegend\": true, \"textposition\": \"auto\", \"type\": \"bar\", \"x\": [\"2020-11-01T00:00:00\", \"2020-11-02T00:00:00\", \"2020-11-03T00:00:00\", \"2020-11-04T00:00:00\", \"2020-11-05T00:00:00\", \"2020-11-06T00:00:00\", \"2020-11-07T00:00:00\", \"2020-11-08T00:00:00\", \"2020-11-09T00:00:00\", \"2020-11-10T00:00:00\", \"2020-11-11T00:00:00\", \"2020-11-12T00:00:00\", \"2020-11-13T00:00:00\", \"2020-11-14T00:00:00\", \"2020-11-15T00:00:00\", \"2020-11-16T00:00:00\"], \"xaxis\": \"x\", \"y\": [null, null, null, null, null, null, null, null, null, 0.5994, 0.2263, null, 0.2263, -0.10300000000000001, 0.44092307692307686, -0.3595], \"yaxis\": \"y\"}, {\"alignmentgroup\": \"True\", \"hovertemplate\": \"ticker=DHR<br>Date=%{x}<br>Sentiment=%{y}<extra></extra>\", \"legendgroup\": \"DHR\", \"marker\": {\"color\": \"rgb(124, 29, 111)\"}, \"name\": \"DHR\", \"offsetgroup\": \"DHR\", \"orientation\": \"v\", \"showlegend\": true, \"textposition\": \"auto\", \"type\": \"bar\", \"x\": [\"2020-11-01T00:00:00\", \"2020-11-02T00:00:00\", \"2020-11-03T00:00:00\", \"2020-11-04T00:00:00\", \"2020-11-05T00:00:00\", \"2020-11-06T00:00:00\", \"2020-11-07T00:00:00\", \"2020-11-08T00:00:00\", \"2020-11-09T00:00:00\", \"2020-11-10T00:00:00\", \"2020-11-11T00:00:00\", \"2020-11-12T00:00:00\", \"2020-11-13T00:00:00\", \"2020-11-14T00:00:00\", \"2020-11-15T00:00:00\", \"2020-11-16T00:00:00\"], \"xaxis\": \"x\", \"y\": [null, null, null, null, null, null, null, null, 0.5859, 0.2033, 0.12605, 0.060225000000000015, 0.1779, 0.28315, null, 0.2023], \"yaxis\": \"y\"}, {\"alignmentgroup\": \"True\", \"hovertemplate\": \"ticker=DIS<br>Date=%{x}<br>Sentiment=%{y}<extra></extra>\", \"legendgroup\": \"DIS\", \"marker\": {\"color\": \"rgb(252, 222, 156)\"}, \"name\": \"DIS\", \"offsetgroup\": \"DIS\", \"orientation\": \"v\", \"showlegend\": true, \"textposition\": \"auto\", \"type\": \"bar\", \"x\": [\"2020-11-01T00:00:00\", \"2020-11-02T00:00:00\", \"2020-11-03T00:00:00\", \"2020-11-04T00:00:00\", \"2020-11-05T00:00:00\", \"2020-11-06T00:00:00\", \"2020-11-07T00:00:00\", \"2020-11-08T00:00:00\", \"2020-11-09T00:00:00\", \"2020-11-10T00:00:00\", \"2020-11-11T00:00:00\", \"2020-11-12T00:00:00\", \"2020-11-13T00:00:00\", \"2020-11-14T00:00:00\", \"2020-11-15T00:00:00\", \"2020-11-16T00:00:00\"], \"xaxis\": \"x\", \"y\": [null, null, null, null, 0.1779, null, null, null, 0.4215, null, null, 0.296, 0.4404, null, 0.4767, -0.0914137931034483], \"yaxis\": \"y\"}, {\"alignmentgroup\": \"True\", \"hovertemplate\": \"ticker=GOOG<br>Date=%{x}<br>Sentiment=%{y}<extra></extra>\", \"legendgroup\": \"GOOG\", \"marker\": {\"color\": \"rgb(250, 164, 118)\"}, \"name\": \"GOOG\", \"offsetgroup\": \"GOOG\", \"orientation\": \"v\", \"showlegend\": true, \"textposition\": \"auto\", \"type\": \"bar\", \"x\": [\"2020-11-01T00:00:00\", \"2020-11-02T00:00:00\", \"2020-11-03T00:00:00\", \"2020-11-04T00:00:00\", \"2020-11-05T00:00:00\", \"2020-11-06T00:00:00\", \"2020-11-07T00:00:00\", \"2020-11-08T00:00:00\", \"2020-11-09T00:00:00\", \"2020-11-10T00:00:00\", \"2020-11-11T00:00:00\", \"2020-11-12T00:00:00\", \"2020-11-13T00:00:00\", \"2020-11-14T00:00:00\", \"2020-11-15T00:00:00\", \"2020-11-16T00:00:00\"], \"xaxis\": \"x\", \"y\": [null, null, null, null, null, null, null, null, null, null, null, 0.2266, 0.5449999999999999, null, 0.10704999999999998, 0.1622777777777778], \"yaxis\": \"y\"}, {\"alignmentgroup\": \"True\", \"hovertemplate\": \"ticker=GOOGL<br>Date=%{x}<br>Sentiment=%{y}<extra></extra>\", \"legendgroup\": \"GOOGL\", \"marker\": {\"color\": \"rgb(240, 116, 110)\"}, \"name\": \"GOOGL\", \"offsetgroup\": \"GOOGL\", \"orientation\": \"v\", \"showlegend\": true, \"textposition\": \"auto\", \"type\": \"bar\", \"x\": [\"2020-11-01T00:00:00\", \"2020-11-02T00:00:00\", \"2020-11-03T00:00:00\", \"2020-11-04T00:00:00\", \"2020-11-05T00:00:00\", \"2020-11-06T00:00:00\", \"2020-11-07T00:00:00\", \"2020-11-08T00:00:00\", \"2020-11-09T00:00:00\", \"2020-11-10T00:00:00\", \"2020-11-11T00:00:00\", \"2020-11-12T00:00:00\", \"2020-11-13T00:00:00\", \"2020-11-14T00:00:00\", \"2020-11-15T00:00:00\", \"2020-11-16T00:00:00\"], \"xaxis\": \"x\", \"y\": [null, null, null, null, null, null, null, null, null, null, null, 0.2266, 0.5449999999999999, null, 0.12063333333333333, 0.11423000000000001], \"yaxis\": \"y\"}, {\"alignmentgroup\": \"True\", \"hovertemplate\": \"ticker=HD<br>Date=%{x}<br>Sentiment=%{y}<extra></extra>\", \"legendgroup\": \"HD\", \"marker\": {\"color\": \"rgb(227, 79, 111)\"}, \"name\": \"HD\", \"offsetgroup\": \"HD\", \"orientation\": \"v\", \"showlegend\": true, \"textposition\": \"auto\", \"type\": \"bar\", \"x\": [\"2020-11-01T00:00:00\", \"2020-11-02T00:00:00\", \"2020-11-03T00:00:00\", \"2020-11-04T00:00:00\", \"2020-11-05T00:00:00\", \"2020-11-06T00:00:00\", \"2020-11-07T00:00:00\", \"2020-11-08T00:00:00\", \"2020-11-09T00:00:00\", \"2020-11-10T00:00:00\", \"2020-11-11T00:00:00\", \"2020-11-12T00:00:00\", \"2020-11-13T00:00:00\", \"2020-11-14T00:00:00\", \"2020-11-15T00:00:00\", \"2020-11-16T00:00:00\"], \"xaxis\": \"x\", \"y\": [null, null, null, null, null, null, null, null, null, null, 0.8271, 0.5156666666666667, 0.41922499999999996, 0.3194666666666667, 0.352525, null], \"yaxis\": \"y\"}, {\"alignmentgroup\": \"True\", \"hovertemplate\": \"ticker=INTC<br>Date=%{x}<br>Sentiment=%{y}<extra></extra>\", \"legendgroup\": \"INTC\", \"marker\": {\"color\": \"rgb(220, 57, 119)\"}, \"name\": \"INTC\", \"offsetgroup\": \"INTC\", \"orientation\": \"v\", \"showlegend\": true, \"textposition\": \"auto\", \"type\": \"bar\", \"x\": [\"2020-11-01T00:00:00\", \"2020-11-02T00:00:00\", \"2020-11-03T00:00:00\", \"2020-11-04T00:00:00\", \"2020-11-05T00:00:00\", \"2020-11-06T00:00:00\", \"2020-11-07T00:00:00\", \"2020-11-08T00:00:00\", \"2020-11-09T00:00:00\", \"2020-11-10T00:00:00\", \"2020-11-11T00:00:00\", \"2020-11-12T00:00:00\", \"2020-11-13T00:00:00\", \"2020-11-14T00:00:00\", \"2020-11-15T00:00:00\", \"2020-11-16T00:00:00\"], \"xaxis\": \"x\", \"y\": [null, null, null, null, 0.8271, null, null, null, null, 0.4696, null, 0.3612, null, 0.16100000000000003, 0.09620000000000001, 0.2357454545454545], \"yaxis\": \"y\"}, {\"alignmentgroup\": \"True\", \"hovertemplate\": \"ticker=JNJ<br>Date=%{x}<br>Sentiment=%{y}<extra></extra>\", \"legendgroup\": \"JNJ\", \"marker\": {\"color\": \"rgb(185, 37, 122)\"}, \"name\": \"JNJ\", \"offsetgroup\": \"JNJ\", \"orientation\": \"v\", \"showlegend\": true, \"textposition\": \"auto\", \"type\": \"bar\", \"x\": [\"2020-11-01T00:00:00\", \"2020-11-02T00:00:00\", \"2020-11-03T00:00:00\", \"2020-11-04T00:00:00\", \"2020-11-05T00:00:00\", \"2020-11-06T00:00:00\", \"2020-11-07T00:00:00\", \"2020-11-08T00:00:00\", \"2020-11-09T00:00:00\", \"2020-11-10T00:00:00\", \"2020-11-11T00:00:00\", \"2020-11-12T00:00:00\", \"2020-11-13T00:00:00\", \"2020-11-14T00:00:00\", \"2020-11-15T00:00:00\", \"2020-11-16T00:00:00\"], \"xaxis\": \"x\", \"y\": [null, null, 0.3818, null, null, null, null, null, null, null, 0.1779, null, null, 0.802, 0.39261999999999997, -0.057499999999999996], \"yaxis\": \"y\"}, {\"alignmentgroup\": \"True\", \"hovertemplate\": \"ticker=JPM<br>Date=%{x}<br>Sentiment=%{y}<extra></extra>\", \"legendgroup\": \"JPM\", \"marker\": {\"color\": \"rgb(124, 29, 111)\"}, \"name\": \"JPM\", \"offsetgroup\": \"JPM\", \"orientation\": \"v\", \"showlegend\": true, \"textposition\": \"auto\", \"type\": \"bar\", \"x\": [\"2020-11-01T00:00:00\", \"2020-11-02T00:00:00\", \"2020-11-03T00:00:00\", \"2020-11-04T00:00:00\", \"2020-11-05T00:00:00\", \"2020-11-06T00:00:00\", \"2020-11-07T00:00:00\", \"2020-11-08T00:00:00\", \"2020-11-09T00:00:00\", \"2020-11-10T00:00:00\", \"2020-11-11T00:00:00\", \"2020-11-12T00:00:00\", \"2020-11-13T00:00:00\", \"2020-11-14T00:00:00\", \"2020-11-15T00:00:00\", \"2020-11-16T00:00:00\"], \"xaxis\": \"x\", \"y\": [null, null, null, null, null, null, null, null, null, 0.6367499999999999, null, null, 0.23954999999999999, null, 0.19393, 0.5182833333333333], \"yaxis\": \"y\"}, {\"alignmentgroup\": \"True\", \"hovertemplate\": \"ticker=KO<br>Date=%{x}<br>Sentiment=%{y}<extra></extra>\", \"legendgroup\": \"KO\", \"marker\": {\"color\": \"rgb(252, 222, 156)\"}, \"name\": \"KO\", \"offsetgroup\": \"KO\", \"orientation\": \"v\", \"showlegend\": true, \"textposition\": \"auto\", \"type\": \"bar\", \"x\": [\"2020-11-01T00:00:00\", \"2020-11-02T00:00:00\", \"2020-11-03T00:00:00\", \"2020-11-04T00:00:00\", \"2020-11-05T00:00:00\", \"2020-11-06T00:00:00\", \"2020-11-07T00:00:00\", \"2020-11-08T00:00:00\", \"2020-11-09T00:00:00\", \"2020-11-10T00:00:00\", \"2020-11-11T00:00:00\", \"2020-11-12T00:00:00\", \"2020-11-13T00:00:00\", \"2020-11-14T00:00:00\", \"2020-11-15T00:00:00\", \"2020-11-16T00:00:00\"], \"xaxis\": \"x\", \"y\": [null, null, 0.4588, null, 0.1779, null, null, null, 0.5859, 0.3818, null, 0.296, 0.205575, 0.07377999999999998, 0.35400000000000004, null], \"yaxis\": \"y\"}, {\"alignmentgroup\": \"True\", \"hovertemplate\": \"ticker=MA<br>Date=%{x}<br>Sentiment=%{y}<extra></extra>\", \"legendgroup\": \"MA\", \"marker\": {\"color\": \"rgb(250, 164, 118)\"}, \"name\": \"MA\", \"offsetgroup\": \"MA\", \"orientation\": \"v\", \"showlegend\": true, \"textposition\": \"auto\", \"type\": \"bar\", \"x\": [\"2020-11-01T00:00:00\", \"2020-11-02T00:00:00\", \"2020-11-03T00:00:00\", \"2020-11-04T00:00:00\", \"2020-11-05T00:00:00\", \"2020-11-06T00:00:00\", \"2020-11-07T00:00:00\", \"2020-11-08T00:00:00\", \"2020-11-09T00:00:00\", \"2020-11-10T00:00:00\", \"2020-11-11T00:00:00\", \"2020-11-12T00:00:00\", \"2020-11-13T00:00:00\", \"2020-11-14T00:00:00\", \"2020-11-15T00:00:00\", \"2020-11-16T00:00:00\"], \"xaxis\": \"x\", \"y\": [null, 0.47885, null, 0.4404, null, null, null, null, null, 0.6705, null, 0.5491111111111111, 0.4774777777777778, 0.389925, null, 0.5139666666666666], \"yaxis\": \"y\"}, {\"alignmentgroup\": \"True\", \"hovertemplate\": \"ticker=MCD<br>Date=%{x}<br>Sentiment=%{y}<extra></extra>\", \"legendgroup\": \"MCD\", \"marker\": {\"color\": \"rgb(240, 116, 110)\"}, \"name\": \"MCD\", \"offsetgroup\": \"MCD\", \"orientation\": \"v\", \"showlegend\": true, \"textposition\": \"auto\", \"type\": \"bar\", \"x\": [\"2020-11-01T00:00:00\", \"2020-11-02T00:00:00\", \"2020-11-03T00:00:00\", \"2020-11-04T00:00:00\", \"2020-11-05T00:00:00\", \"2020-11-06T00:00:00\", \"2020-11-07T00:00:00\", \"2020-11-08T00:00:00\", \"2020-11-09T00:00:00\", \"2020-11-10T00:00:00\", \"2020-11-11T00:00:00\", \"2020-11-12T00:00:00\", \"2020-11-13T00:00:00\", \"2020-11-14T00:00:00\", \"2020-11-15T00:00:00\", \"2020-11-16T00:00:00\"], \"xaxis\": \"x\", \"y\": [null, null, null, null, null, null, null, null, 0.3818, null, null, null, null, 0.22046666666666664, -0.25586000000000003, 0.2023], \"yaxis\": \"y\"}, {\"alignmentgroup\": \"True\", \"hovertemplate\": \"ticker=MRK<br>Date=%{x}<br>Sentiment=%{y}<extra></extra>\", \"legendgroup\": \"MRK\", \"marker\": {\"color\": \"rgb(227, 79, 111)\"}, \"name\": \"MRK\", \"offsetgroup\": \"MRK\", \"orientation\": \"v\", \"showlegend\": true, \"textposition\": \"auto\", \"type\": \"bar\", \"x\": [\"2020-11-01T00:00:00\", \"2020-11-02T00:00:00\", \"2020-11-03T00:00:00\", \"2020-11-04T00:00:00\", \"2020-11-05T00:00:00\", \"2020-11-06T00:00:00\", \"2020-11-07T00:00:00\", \"2020-11-08T00:00:00\", \"2020-11-09T00:00:00\", \"2020-11-10T00:00:00\", \"2020-11-11T00:00:00\", \"2020-11-12T00:00:00\", \"2020-11-13T00:00:00\", \"2020-11-14T00:00:00\", \"2020-11-15T00:00:00\", \"2020-11-16T00:00:00\"], \"xaxis\": \"x\", \"y\": [null, null, null, null, 0.3818, null, null, null, null, null, -0.7506, 0.3286, -0.4019, 0.2614285714285714, 0.296, 0.4588], \"yaxis\": \"y\"}, {\"alignmentgroup\": \"True\", \"hovertemplate\": \"ticker=MSFT<br>Date=%{x}<br>Sentiment=%{y}<extra></extra>\", \"legendgroup\": \"MSFT\", \"marker\": {\"color\": \"rgb(220, 57, 119)\"}, \"name\": \"MSFT\", \"offsetgroup\": \"MSFT\", \"orientation\": \"v\", \"showlegend\": true, \"textposition\": \"auto\", \"type\": \"bar\", \"x\": [\"2020-11-01T00:00:00\", \"2020-11-02T00:00:00\", \"2020-11-03T00:00:00\", \"2020-11-04T00:00:00\", \"2020-11-05T00:00:00\", \"2020-11-06T00:00:00\", \"2020-11-07T00:00:00\", \"2020-11-08T00:00:00\", \"2020-11-09T00:00:00\", \"2020-11-10T00:00:00\", \"2020-11-11T00:00:00\", \"2020-11-12T00:00:00\", \"2020-11-13T00:00:00\", \"2020-11-14T00:00:00\", \"2020-11-15T00:00:00\", \"2020-11-16T00:00:00\"], \"xaxis\": \"x\", \"y\": [null, null, null, null, null, null, null, null, null, null, null, -0.296, null, null, 0.28092222222222224, 0.27022666666666667], \"yaxis\": \"y\"}, {\"alignmentgroup\": \"True\", \"hovertemplate\": \"ticker=NFLX<br>Date=%{x}<br>Sentiment=%{y}<extra></extra>\", \"legendgroup\": \"NFLX\", \"marker\": {\"color\": \"rgb(185, 37, 122)\"}, \"name\": \"NFLX\", \"offsetgroup\": \"NFLX\", \"orientation\": \"v\", \"showlegend\": true, \"textposition\": \"auto\", \"type\": \"bar\", \"x\": [\"2020-11-01T00:00:00\", \"2020-11-02T00:00:00\", \"2020-11-03T00:00:00\", \"2020-11-04T00:00:00\", \"2020-11-05T00:00:00\", \"2020-11-06T00:00:00\", \"2020-11-07T00:00:00\", \"2020-11-08T00:00:00\", \"2020-11-09T00:00:00\", \"2020-11-10T00:00:00\", \"2020-11-11T00:00:00\", \"2020-11-12T00:00:00\", \"2020-11-13T00:00:00\", \"2020-11-14T00:00:00\", \"2020-11-15T00:00:00\", \"2020-11-16T00:00:00\"], \"xaxis\": \"x\", \"y\": [null, null, null, null, 0.5719, null, null, 0.5719, null, null, null, null, null, null, 0.10883846153846154, 0.18895199999999998], \"yaxis\": \"y\"}, {\"alignmentgroup\": \"True\", \"hovertemplate\": \"ticker=NVDA<br>Date=%{x}<br>Sentiment=%{y}<extra></extra>\", \"legendgroup\": \"NVDA\", \"marker\": {\"color\": \"rgb(124, 29, 111)\"}, \"name\": \"NVDA\", \"offsetgroup\": \"NVDA\", \"orientation\": \"v\", \"showlegend\": true, \"textposition\": \"auto\", \"type\": \"bar\", \"x\": [\"2020-11-01T00:00:00\", \"2020-11-02T00:00:00\", \"2020-11-03T00:00:00\", \"2020-11-04T00:00:00\", \"2020-11-05T00:00:00\", \"2020-11-06T00:00:00\", \"2020-11-07T00:00:00\", \"2020-11-08T00:00:00\", \"2020-11-09T00:00:00\", \"2020-11-10T00:00:00\", \"2020-11-11T00:00:00\", \"2020-11-12T00:00:00\", \"2020-11-13T00:00:00\", \"2020-11-14T00:00:00\", \"2020-11-15T00:00:00\", \"2020-11-16T00:00:00\"], \"xaxis\": \"x\", \"y\": [null, null, null, null, null, null, null, null, -0.6369, 0.3818, null, null, 0.4019, 0.296, 0.025500000000000023, 0.2582153846153846], \"yaxis\": \"y\"}, {\"alignmentgroup\": \"True\", \"hovertemplate\": \"ticker=NVS<br>Date=%{x}<br>Sentiment=%{y}<extra></extra>\", \"legendgroup\": \"NVS\", \"marker\": {\"color\": \"rgb(252, 222, 156)\"}, \"name\": \"NVS\", \"offsetgroup\": \"NVS\", \"orientation\": \"v\", \"showlegend\": true, \"textposition\": \"auto\", \"type\": \"bar\", \"x\": [\"2020-11-01T00:00:00\", \"2020-11-02T00:00:00\", \"2020-11-03T00:00:00\", \"2020-11-04T00:00:00\", \"2020-11-05T00:00:00\", \"2020-11-06T00:00:00\", \"2020-11-07T00:00:00\", \"2020-11-08T00:00:00\", \"2020-11-09T00:00:00\", \"2020-11-10T00:00:00\", \"2020-11-11T00:00:00\", \"2020-11-12T00:00:00\", \"2020-11-13T00:00:00\", \"2020-11-14T00:00:00\", \"2020-11-15T00:00:00\", \"2020-11-16T00:00:00\"], \"xaxis\": \"x\", \"y\": [null, 0.7964, null, null, null, null, null, null, null, null, 0.5423, 0.29581250000000003, 0.3715, -0.128, 0.06274285714285713, null], \"yaxis\": \"y\"}, {\"alignmentgroup\": \"True\", \"hovertemplate\": \"ticker=ORCL<br>Date=%{x}<br>Sentiment=%{y}<extra></extra>\", \"legendgroup\": \"ORCL\", \"marker\": {\"color\": \"rgb(250, 164, 118)\"}, \"name\": \"ORCL\", \"offsetgroup\": \"ORCL\", \"orientation\": \"v\", \"showlegend\": true, \"textposition\": \"auto\", \"type\": \"bar\", \"x\": [\"2020-11-01T00:00:00\", \"2020-11-02T00:00:00\", \"2020-11-03T00:00:00\", \"2020-11-04T00:00:00\", \"2020-11-05T00:00:00\", \"2020-11-06T00:00:00\", \"2020-11-07T00:00:00\", \"2020-11-08T00:00:00\", \"2020-11-09T00:00:00\", \"2020-11-10T00:00:00\", \"2020-11-11T00:00:00\", \"2020-11-12T00:00:00\", \"2020-11-13T00:00:00\", \"2020-11-14T00:00:00\", \"2020-11-15T00:00:00\", \"2020-11-16T00:00:00\"], \"xaxis\": \"x\", \"y\": [null, 0.6705, null, null, null, null, null, null, null, null, 0.4019, 0.128, -0.0865857142857143, -0.2263, -0.11914999999999999, null], \"yaxis\": \"y\"}, {\"alignmentgroup\": \"True\", \"hovertemplate\": \"ticker=PDD<br>Date=%{x}<br>Sentiment=%{y}<extra></extra>\", \"legendgroup\": \"PDD\", \"marker\": {\"color\": \"rgb(240, 116, 110)\"}, \"name\": \"PDD\", \"offsetgroup\": \"PDD\", \"orientation\": \"v\", \"showlegend\": true, \"textposition\": \"auto\", \"type\": \"bar\", \"x\": [\"2020-11-01T00:00:00\", \"2020-11-02T00:00:00\", \"2020-11-03T00:00:00\", \"2020-11-04T00:00:00\", \"2020-11-05T00:00:00\", \"2020-11-06T00:00:00\", \"2020-11-07T00:00:00\", \"2020-11-08T00:00:00\", \"2020-11-09T00:00:00\", \"2020-11-10T00:00:00\", \"2020-11-11T00:00:00\", \"2020-11-12T00:00:00\", \"2020-11-13T00:00:00\", \"2020-11-14T00:00:00\", \"2020-11-15T00:00:00\", \"2020-11-16T00:00:00\"], \"xaxis\": \"x\", \"y\": [null, null, null, null, null, null, null, null, null, null, 0.4404, 0.5644, 0.09388749999999998, 0.4185555555555555, 0.08524999999999999, null], \"yaxis\": \"y\"}, {\"alignmentgroup\": \"True\", \"hovertemplate\": \"ticker=PEP<br>Date=%{x}<br>Sentiment=%{y}<extra></extra>\", \"legendgroup\": \"PEP\", \"marker\": {\"color\": \"rgb(227, 79, 111)\"}, \"name\": \"PEP\", \"offsetgroup\": \"PEP\", \"orientation\": \"v\", \"showlegend\": true, \"textposition\": \"auto\", \"type\": \"bar\", \"x\": [\"2020-11-01T00:00:00\", \"2020-11-02T00:00:00\", \"2020-11-03T00:00:00\", \"2020-11-04T00:00:00\", \"2020-11-05T00:00:00\", \"2020-11-06T00:00:00\", \"2020-11-07T00:00:00\", \"2020-11-08T00:00:00\", \"2020-11-09T00:00:00\", \"2020-11-10T00:00:00\", \"2020-11-11T00:00:00\", \"2020-11-12T00:00:00\", \"2020-11-13T00:00:00\", \"2020-11-14T00:00:00\", \"2020-11-15T00:00:00\", \"2020-11-16T00:00:00\"], \"xaxis\": \"x\", \"y\": [null, null, null, null, null, null, null, null, 0.6049666666666668, null, null, 0.6530000000000001, -0.05698571428571429, 0.22799999999999998, 0.3774, null], \"yaxis\": \"y\"}, {\"alignmentgroup\": \"True\", \"hovertemplate\": \"ticker=PFE<br>Date=%{x}<br>Sentiment=%{y}<extra></extra>\", \"legendgroup\": \"PFE\", \"marker\": {\"color\": \"rgb(220, 57, 119)\"}, \"name\": \"PFE\", \"offsetgroup\": \"PFE\", \"orientation\": \"v\", \"showlegend\": true, \"textposition\": \"auto\", \"type\": \"bar\", \"x\": [\"2020-11-01T00:00:00\", \"2020-11-02T00:00:00\", \"2020-11-03T00:00:00\", \"2020-11-04T00:00:00\", \"2020-11-05T00:00:00\", \"2020-11-06T00:00:00\", \"2020-11-07T00:00:00\", \"2020-11-08T00:00:00\", \"2020-11-09T00:00:00\", \"2020-11-10T00:00:00\", \"2020-11-11T00:00:00\", \"2020-11-12T00:00:00\", \"2020-11-13T00:00:00\", \"2020-11-14T00:00:00\", \"2020-11-15T00:00:00\", \"2020-11-16T00:00:00\"], \"xaxis\": \"x\", \"y\": [null, null, null, null, null, -0.12689999999999999, null, null, 0.4767, 0.1901, 0.57375, 0.1027, null, null, null, 0.04077727272727274], \"yaxis\": \"y\"}, {\"alignmentgroup\": \"True\", \"hovertemplate\": \"ticker=PG<br>Date=%{x}<br>Sentiment=%{y}<extra></extra>\", \"legendgroup\": \"PG\", \"marker\": {\"color\": \"rgb(185, 37, 122)\"}, \"name\": \"PG\", \"offsetgroup\": \"PG\", \"orientation\": \"v\", \"showlegend\": true, \"textposition\": \"auto\", \"type\": \"bar\", \"x\": [\"2020-11-01T00:00:00\", \"2020-11-02T00:00:00\", \"2020-11-03T00:00:00\", \"2020-11-04T00:00:00\", \"2020-11-05T00:00:00\", \"2020-11-06T00:00:00\", \"2020-11-07T00:00:00\", \"2020-11-08T00:00:00\", \"2020-11-09T00:00:00\", \"2020-11-10T00:00:00\", \"2020-11-11T00:00:00\", \"2020-11-12T00:00:00\", \"2020-11-13T00:00:00\", \"2020-11-14T00:00:00\", \"2020-11-15T00:00:00\", \"2020-11-16T00:00:00\"], \"xaxis\": \"x\", \"y\": [null, null, null, null, null, 0.03715, null, null, 0.08814, null, 0.0772, null, 0.40031999999999995, 0.05145999999999999, null, null], \"yaxis\": \"y\"}, {\"alignmentgroup\": \"True\", \"hovertemplate\": \"ticker=PYPL<br>Date=%{x}<br>Sentiment=%{y}<extra></extra>\", \"legendgroup\": \"PYPL\", \"marker\": {\"color\": \"rgb(124, 29, 111)\"}, \"name\": \"PYPL\", \"offsetgroup\": \"PYPL\", \"orientation\": \"v\", \"showlegend\": true, \"textposition\": \"auto\", \"type\": \"bar\", \"x\": [\"2020-11-01T00:00:00\", \"2020-11-02T00:00:00\", \"2020-11-03T00:00:00\", \"2020-11-04T00:00:00\", \"2020-11-05T00:00:00\", \"2020-11-06T00:00:00\", \"2020-11-07T00:00:00\", \"2020-11-08T00:00:00\", \"2020-11-09T00:00:00\", \"2020-11-10T00:00:00\", \"2020-11-11T00:00:00\", \"2020-11-12T00:00:00\", \"2020-11-13T00:00:00\", \"2020-11-14T00:00:00\", \"2020-11-15T00:00:00\", \"2020-11-16T00:00:00\"], \"xaxis\": \"x\", \"y\": [null, null, null, null, null, null, null, null, null, -0.3818, null, null, null, null, 0.09176999999999999, 0.2406], \"yaxis\": \"y\"}, {\"alignmentgroup\": \"True\", \"hovertemplate\": \"ticker=T<br>Date=%{x}<br>Sentiment=%{y}<extra></extra>\", \"legendgroup\": \"T\", \"marker\": {\"color\": \"rgb(252, 222, 156)\"}, \"name\": \"T\", \"offsetgroup\": \"T\", \"orientation\": \"v\", \"showlegend\": true, \"textposition\": \"auto\", \"type\": \"bar\", \"x\": [\"2020-11-01T00:00:00\", \"2020-11-02T00:00:00\", \"2020-11-03T00:00:00\", \"2020-11-04T00:00:00\", \"2020-11-05T00:00:00\", \"2020-11-06T00:00:00\", \"2020-11-07T00:00:00\", \"2020-11-08T00:00:00\", \"2020-11-09T00:00:00\", \"2020-11-10T00:00:00\", \"2020-11-11T00:00:00\", \"2020-11-12T00:00:00\", \"2020-11-13T00:00:00\", \"2020-11-14T00:00:00\", \"2020-11-15T00:00:00\", \"2020-11-16T00:00:00\"], \"xaxis\": \"x\", \"y\": [null, 0.25, null, null, null, null, null, null, null, 0.5083666666666666, null, 0.52598, 0.3182, null, 0.5585911764705881, 0.10205], \"yaxis\": \"y\"}, {\"alignmentgroup\": \"True\", \"hovertemplate\": \"ticker=TM<br>Date=%{x}<br>Sentiment=%{y}<extra></extra>\", \"legendgroup\": \"TM\", \"marker\": {\"color\": \"rgb(250, 164, 118)\"}, \"name\": \"TM\", \"offsetgroup\": \"TM\", \"orientation\": \"v\", \"showlegend\": true, \"textposition\": \"auto\", \"type\": \"bar\", \"x\": [\"2020-11-01T00:00:00\", \"2020-11-02T00:00:00\", \"2020-11-03T00:00:00\", \"2020-11-04T00:00:00\", \"2020-11-05T00:00:00\", \"2020-11-06T00:00:00\", \"2020-11-07T00:00:00\", \"2020-11-08T00:00:00\", \"2020-11-09T00:00:00\", \"2020-11-10T00:00:00\", \"2020-11-11T00:00:00\", \"2020-11-12T00:00:00\", \"2020-11-13T00:00:00\", \"2020-11-14T00:00:00\", \"2020-11-15T00:00:00\", \"2020-11-16T00:00:00\"], \"xaxis\": \"x\", \"y\": [null, null, null, null, 0.2732, null, null, null, 0.5267, 0.5544666666666668, 0.25, 0.33575, 0.4371333333333333, -0.13340000000000002, 0.20212, 0.45930000000000004], \"yaxis\": \"y\"}, {\"alignmentgroup\": \"True\", \"hovertemplate\": \"ticker=TMO<br>Date=%{x}<br>Sentiment=%{y}<extra></extra>\", \"legendgroup\": \"TMO\", \"marker\": {\"color\": \"rgb(240, 116, 110)\"}, \"name\": \"TMO\", \"offsetgroup\": \"TMO\", \"orientation\": \"v\", \"showlegend\": true, \"textposition\": \"auto\", \"type\": \"bar\", \"x\": [\"2020-11-01T00:00:00\", \"2020-11-02T00:00:00\", \"2020-11-03T00:00:00\", \"2020-11-04T00:00:00\", \"2020-11-05T00:00:00\", \"2020-11-06T00:00:00\", \"2020-11-07T00:00:00\", \"2020-11-08T00:00:00\", \"2020-11-09T00:00:00\", \"2020-11-10T00:00:00\", \"2020-11-11T00:00:00\", \"2020-11-12T00:00:00\", \"2020-11-13T00:00:00\", \"2020-11-14T00:00:00\", \"2020-11-15T00:00:00\", \"2020-11-16T00:00:00\"], \"xaxis\": \"x\", \"y\": [null, -0.3818, null, null, 0.296, null, null, null, null, null, 0.1096, 0.4802666666666667, -0.07925454545454547, null, -0.296, null], \"yaxis\": \"y\"}, {\"alignmentgroup\": \"True\", \"hovertemplate\": \"ticker=TMUS<br>Date=%{x}<br>Sentiment=%{y}<extra></extra>\", \"legendgroup\": \"TMUS\", \"marker\": {\"color\": \"rgb(227, 79, 111)\"}, \"name\": \"TMUS\", \"offsetgroup\": \"TMUS\", \"orientation\": \"v\", \"showlegend\": true, \"textposition\": \"auto\", \"type\": \"bar\", \"x\": [\"2020-11-01T00:00:00\", \"2020-11-02T00:00:00\", \"2020-11-03T00:00:00\", \"2020-11-04T00:00:00\", \"2020-11-05T00:00:00\", \"2020-11-06T00:00:00\", \"2020-11-07T00:00:00\", \"2020-11-08T00:00:00\", \"2020-11-09T00:00:00\", \"2020-11-10T00:00:00\", \"2020-11-11T00:00:00\", \"2020-11-12T00:00:00\", \"2020-11-13T00:00:00\", \"2020-11-14T00:00:00\", \"2020-11-15T00:00:00\", \"2020-11-16T00:00:00\"], \"xaxis\": \"x\", \"y\": [null, null, null, null, null, null, null, null, null, null, null, 0.5651, 0.039049999999999994, 0.2263, 0.30920000000000003, null], \"yaxis\": \"y\"}, {\"alignmentgroup\": \"True\", \"hovertemplate\": \"ticker=TSLA<br>Date=%{x}<br>Sentiment=%{y}<extra></extra>\", \"legendgroup\": \"TSLA\", \"marker\": {\"color\": \"rgb(220, 57, 119)\"}, \"name\": \"TSLA\", \"offsetgroup\": \"TSLA\", \"orientation\": \"v\", \"showlegend\": true, \"textposition\": \"auto\", \"type\": \"bar\", \"x\": [\"2020-11-01T00:00:00\", \"2020-11-02T00:00:00\", \"2020-11-03T00:00:00\", \"2020-11-04T00:00:00\", \"2020-11-05T00:00:00\", \"2020-11-06T00:00:00\", \"2020-11-07T00:00:00\", \"2020-11-08T00:00:00\", \"2020-11-09T00:00:00\", \"2020-11-10T00:00:00\", \"2020-11-11T00:00:00\", \"2020-11-12T00:00:00\", \"2020-11-13T00:00:00\", \"2020-11-14T00:00:00\", \"2020-11-15T00:00:00\", \"2020-11-16T00:00:00\"], \"xaxis\": \"x\", \"y\": [null, null, null, null, null, null, null, null, null, null, null, null, null, null, 0.33738571428571434, 0.34], \"yaxis\": \"y\"}, {\"alignmentgroup\": \"True\", \"hovertemplate\": \"ticker=TSM<br>Date=%{x}<br>Sentiment=%{y}<extra></extra>\", \"legendgroup\": \"TSM\", \"marker\": {\"color\": \"rgb(185, 37, 122)\"}, \"name\": \"TSM\", \"offsetgroup\": \"TSM\", \"orientation\": \"v\", \"showlegend\": true, \"textposition\": \"auto\", \"type\": \"bar\", \"x\": [\"2020-11-01T00:00:00\", \"2020-11-02T00:00:00\", \"2020-11-03T00:00:00\", \"2020-11-04T00:00:00\", \"2020-11-05T00:00:00\", \"2020-11-06T00:00:00\", \"2020-11-07T00:00:00\", \"2020-11-08T00:00:00\", \"2020-11-09T00:00:00\", \"2020-11-10T00:00:00\", \"2020-11-11T00:00:00\", \"2020-11-12T00:00:00\", \"2020-11-13T00:00:00\", \"2020-11-14T00:00:00\", \"2020-11-15T00:00:00\", \"2020-11-16T00:00:00\"], \"xaxis\": \"x\", \"y\": [null, null, null, null, null, null, null, null, null, null, 0.41755, 0.413625, 0.33914, 0.22924999999999998, -0.08735000000000001, -0.3818], \"yaxis\": \"y\"}, {\"alignmentgroup\": \"True\", \"hovertemplate\": \"ticker=UN<br>Date=%{x}<br>Sentiment=%{y}<extra></extra>\", \"legendgroup\": \"UN\", \"marker\": {\"color\": \"rgb(124, 29, 111)\"}, \"name\": \"UN\", \"offsetgroup\": \"UN\", \"orientation\": \"v\", \"showlegend\": true, \"textposition\": \"auto\", \"type\": \"bar\", \"x\": [\"2020-11-01T00:00:00\", \"2020-11-02T00:00:00\", \"2020-11-03T00:00:00\", \"2020-11-04T00:00:00\", \"2020-11-05T00:00:00\", \"2020-11-06T00:00:00\", \"2020-11-07T00:00:00\", \"2020-11-08T00:00:00\", \"2020-11-09T00:00:00\", \"2020-11-10T00:00:00\", \"2020-11-11T00:00:00\", \"2020-11-12T00:00:00\", \"2020-11-13T00:00:00\", \"2020-11-14T00:00:00\", \"2020-11-15T00:00:00\", \"2020-11-16T00:00:00\"], \"xaxis\": \"x\", \"y\": [null, null, null, null, 0.3182, null, 0.2732, null, null, 0.08399999999999999, 0.39495, 0.57395, 0.5210600000000001, 0.28324285714285713, 0.296, null], \"yaxis\": \"y\"}, {\"alignmentgroup\": \"True\", \"hovertemplate\": \"ticker=UNH<br>Date=%{x}<br>Sentiment=%{y}<extra></extra>\", \"legendgroup\": \"UNH\", \"marker\": {\"color\": \"rgb(252, 222, 156)\"}, \"name\": \"UNH\", \"offsetgroup\": \"UNH\", \"orientation\": \"v\", \"showlegend\": true, \"textposition\": \"auto\", \"type\": \"bar\", \"x\": [\"2020-11-01T00:00:00\", \"2020-11-02T00:00:00\", \"2020-11-03T00:00:00\", \"2020-11-04T00:00:00\", \"2020-11-05T00:00:00\", \"2020-11-06T00:00:00\", \"2020-11-07T00:00:00\", \"2020-11-08T00:00:00\", \"2020-11-09T00:00:00\", \"2020-11-10T00:00:00\", \"2020-11-11T00:00:00\", \"2020-11-12T00:00:00\", \"2020-11-13T00:00:00\", \"2020-11-14T00:00:00\", \"2020-11-15T00:00:00\", \"2020-11-16T00:00:00\"], \"xaxis\": \"x\", \"y\": [null, null, 0.6249, null, null, null, null, null, null, 0.2023, 0.0772, 0.5271333333333333, 0.23775000000000002, 0.0772, 0.1075875, null], \"yaxis\": \"y\"}, {\"alignmentgroup\": \"True\", \"hovertemplate\": \"ticker=VZ<br>Date=%{x}<br>Sentiment=%{y}<extra></extra>\", \"legendgroup\": \"VZ\", \"marker\": {\"color\": \"rgb(250, 164, 118)\"}, \"name\": \"VZ\", \"offsetgroup\": \"VZ\", \"orientation\": \"v\", \"showlegend\": true, \"textposition\": \"auto\", \"type\": \"bar\", \"x\": [\"2020-11-01T00:00:00\", \"2020-11-02T00:00:00\", \"2020-11-03T00:00:00\", \"2020-11-04T00:00:00\", \"2020-11-05T00:00:00\", \"2020-11-06T00:00:00\", \"2020-11-07T00:00:00\", \"2020-11-08T00:00:00\", \"2020-11-09T00:00:00\", \"2020-11-10T00:00:00\", \"2020-11-11T00:00:00\", \"2020-11-12T00:00:00\", \"2020-11-13T00:00:00\", \"2020-11-14T00:00:00\", \"2020-11-15T00:00:00\", \"2020-11-16T00:00:00\"], \"xaxis\": \"x\", \"y\": [null, 0.53385, null, null, null, null, null, null, null, 0.6124, 0.3182, 0.4491, 0.30205333333333334, 0.4939, 0.1268, 0.2023], \"yaxis\": \"y\"}, {\"alignmentgroup\": \"True\", \"hovertemplate\": \"ticker=WMT<br>Date=%{x}<br>Sentiment=%{y}<extra></extra>\", \"legendgroup\": \"WMT\", \"marker\": {\"color\": \"rgb(240, 116, 110)\"}, \"name\": \"WMT\", \"offsetgroup\": \"WMT\", \"orientation\": \"v\", \"showlegend\": true, \"textposition\": \"auto\", \"type\": \"bar\", \"x\": [\"2020-11-01T00:00:00\", \"2020-11-02T00:00:00\", \"2020-11-03T00:00:00\", \"2020-11-04T00:00:00\", \"2020-11-05T00:00:00\", \"2020-11-06T00:00:00\", \"2020-11-07T00:00:00\", \"2020-11-08T00:00:00\", \"2020-11-09T00:00:00\", \"2020-11-10T00:00:00\", \"2020-11-11T00:00:00\", \"2020-11-12T00:00:00\", \"2020-11-13T00:00:00\", \"2020-11-14T00:00:00\", \"2020-11-15T00:00:00\", \"2020-11-16T00:00:00\"], \"xaxis\": \"x\", \"y\": [null, null, null, null, null, null, null, null, null, null, null, null, 0.1107, 0.030700000000000015, 0.014949999999999991, null], \"yaxis\": \"y\"}],                        {\"barmode\": \"relative\", \"legend\": {\"title\": {\"text\": \"ticker\"}, \"tracegroupgap\": 0}, \"template\": {\"data\": {\"bar\": [{\"error_x\": {\"color\": \"#f2f5fa\"}, \"error_y\": {\"color\": \"#f2f5fa\"}, \"marker\": {\"line\": {\"color\": \"rgb(17,17,17)\", \"width\": 0.5}}, \"type\": \"bar\"}], \"barpolar\": [{\"marker\": {\"line\": {\"color\": \"rgb(17,17,17)\", \"width\": 0.5}}, \"type\": \"barpolar\"}], \"carpet\": [{\"aaxis\": {\"endlinecolor\": \"#A2B1C6\", \"gridcolor\": \"#506784\", \"linecolor\": \"#506784\", \"minorgridcolor\": \"#506784\", \"startlinecolor\": \"#A2B1C6\"}, \"baxis\": {\"endlinecolor\": \"#A2B1C6\", \"gridcolor\": \"#506784\", \"linecolor\": \"#506784\", \"minorgridcolor\": \"#506784\", \"startlinecolor\": \"#A2B1C6\"}, \"type\": \"carpet\"}], \"choropleth\": [{\"colorbar\": {\"outlinewidth\": 0, \"ticks\": \"\"}, \"type\": \"choropleth\"}], \"contour\": [{\"colorbar\": {\"outlinewidth\": 0, \"ticks\": \"\"}, \"colorscale\": [[0.0, \"#0d0887\"], [0.1111111111111111, \"#46039f\"], [0.2222222222222222, \"#7201a8\"], [0.3333333333333333, \"#9c179e\"], [0.4444444444444444, \"#bd3786\"], [0.5555555555555556, \"#d8576b\"], [0.6666666666666666, \"#ed7953\"], [0.7777777777777778, \"#fb9f3a\"], [0.8888888888888888, \"#fdca26\"], [1.0, \"#f0f921\"]], \"type\": \"contour\"}], \"contourcarpet\": [{\"colorbar\": {\"outlinewidth\": 0, \"ticks\": \"\"}, \"type\": \"contourcarpet\"}], \"heatmap\": [{\"colorbar\": {\"outlinewidth\": 0, \"ticks\": \"\"}, \"colorscale\": [[0.0, \"#0d0887\"], [0.1111111111111111, \"#46039f\"], [0.2222222222222222, \"#7201a8\"], [0.3333333333333333, \"#9c179e\"], [0.4444444444444444, \"#bd3786\"], [0.5555555555555556, \"#d8576b\"], [0.6666666666666666, \"#ed7953\"], [0.7777777777777778, \"#fb9f3a\"], [0.8888888888888888, \"#fdca26\"], [1.0, \"#f0f921\"]], \"type\": \"heatmap\"}], \"heatmapgl\": [{\"colorbar\": {\"outlinewidth\": 0, \"ticks\": \"\"}, \"colorscale\": [[0.0, \"#0d0887\"], [0.1111111111111111, \"#46039f\"], [0.2222222222222222, \"#7201a8\"], [0.3333333333333333, \"#9c179e\"], [0.4444444444444444, \"#bd3786\"], [0.5555555555555556, \"#d8576b\"], [0.6666666666666666, \"#ed7953\"], [0.7777777777777778, \"#fb9f3a\"], [0.8888888888888888, \"#fdca26\"], [1.0, \"#f0f921\"]], \"type\": \"heatmapgl\"}], \"histogram\": [{\"marker\": {\"colorbar\": {\"outlinewidth\": 0, \"ticks\": \"\"}}, \"type\": \"histogram\"}], \"histogram2d\": [{\"colorbar\": {\"outlinewidth\": 0, \"ticks\": \"\"}, \"colorscale\": [[0.0, \"#0d0887\"], [0.1111111111111111, \"#46039f\"], [0.2222222222222222, \"#7201a8\"], [0.3333333333333333, \"#9c179e\"], [0.4444444444444444, \"#bd3786\"], [0.5555555555555556, \"#d8576b\"], [0.6666666666666666, \"#ed7953\"], [0.7777777777777778, \"#fb9f3a\"], [0.8888888888888888, \"#fdca26\"], [1.0, \"#f0f921\"]], \"type\": \"histogram2d\"}], \"histogram2dcontour\": [{\"colorbar\": {\"outlinewidth\": 0, \"ticks\": \"\"}, \"colorscale\": [[0.0, \"#0d0887\"], [0.1111111111111111, \"#46039f\"], [0.2222222222222222, \"#7201a8\"], [0.3333333333333333, \"#9c179e\"], [0.4444444444444444, \"#bd3786\"], [0.5555555555555556, \"#d8576b\"], [0.6666666666666666, \"#ed7953\"], [0.7777777777777778, \"#fb9f3a\"], [0.8888888888888888, \"#fdca26\"], [1.0, \"#f0f921\"]], \"type\": \"histogram2dcontour\"}], \"mesh3d\": [{\"colorbar\": {\"outlinewidth\": 0, \"ticks\": \"\"}, \"type\": \"mesh3d\"}], \"parcoords\": [{\"line\": {\"colorbar\": {\"outlinewidth\": 0, \"ticks\": \"\"}}, \"type\": \"parcoords\"}], \"pie\": [{\"automargin\": true, \"type\": \"pie\"}], \"scatter\": [{\"marker\": {\"line\": {\"color\": \"#283442\"}}, \"type\": \"scatter\"}], \"scatter3d\": [{\"line\": {\"colorbar\": {\"outlinewidth\": 0, \"ticks\": \"\"}}, \"marker\": {\"colorbar\": {\"outlinewidth\": 0, \"ticks\": \"\"}}, \"type\": \"scatter3d\"}], \"scattercarpet\": [{\"marker\": {\"colorbar\": {\"outlinewidth\": 0, \"ticks\": \"\"}}, \"type\": \"scattercarpet\"}], \"scattergeo\": [{\"marker\": {\"colorbar\": {\"outlinewidth\": 0, \"ticks\": \"\"}}, \"type\": \"scattergeo\"}], \"scattergl\": [{\"marker\": {\"line\": {\"color\": \"#283442\"}}, \"type\": \"scattergl\"}], \"scattermapbox\": [{\"marker\": {\"colorbar\": {\"outlinewidth\": 0, \"ticks\": \"\"}}, \"type\": \"scattermapbox\"}], \"scatterpolar\": [{\"marker\": {\"colorbar\": {\"outlinewidth\": 0, \"ticks\": \"\"}}, \"type\": \"scatterpolar\"}], \"scatterpolargl\": [{\"marker\": {\"colorbar\": {\"outlinewidth\": 0, \"ticks\": \"\"}}, \"type\": \"scatterpolargl\"}], \"scatterternary\": [{\"marker\": {\"colorbar\": {\"outlinewidth\": 0, \"ticks\": \"\"}}, \"type\": \"scatterternary\"}], \"surface\": [{\"colorbar\": {\"outlinewidth\": 0, \"ticks\": \"\"}, \"colorscale\": [[0.0, \"#0d0887\"], [0.1111111111111111, \"#46039f\"], [0.2222222222222222, \"#7201a8\"], [0.3333333333333333, \"#9c179e\"], [0.4444444444444444, \"#bd3786\"], [0.5555555555555556, \"#d8576b\"], [0.6666666666666666, \"#ed7953\"], [0.7777777777777778, \"#fb9f3a\"], [0.8888888888888888, \"#fdca26\"], [1.0, \"#f0f921\"]], \"type\": \"surface\"}], \"table\": [{\"cells\": {\"fill\": {\"color\": \"#506784\"}, \"line\": {\"color\": \"rgb(17,17,17)\"}}, \"header\": {\"fill\": {\"color\": \"#2a3f5f\"}, \"line\": {\"color\": \"rgb(17,17,17)\"}}, \"type\": \"table\"}]}, \"layout\": {\"annotationdefaults\": {\"arrowcolor\": \"#f2f5fa\", \"arrowhead\": 0, \"arrowwidth\": 1}, \"coloraxis\": {\"colorbar\": {\"outlinewidth\": 0, \"ticks\": \"\"}}, \"colorscale\": {\"diverging\": [[0, \"#8e0152\"], [0.1, \"#c51b7d\"], [0.2, \"#de77ae\"], [0.3, \"#f1b6da\"], [0.4, \"#fde0ef\"], [0.5, \"#f7f7f7\"], [0.6, \"#e6f5d0\"], [0.7, \"#b8e186\"], [0.8, \"#7fbc41\"], [0.9, \"#4d9221\"], [1, \"#276419\"]], \"sequential\": [[0.0, \"#0d0887\"], [0.1111111111111111, \"#46039f\"], [0.2222222222222222, \"#7201a8\"], [0.3333333333333333, \"#9c179e\"], [0.4444444444444444, \"#bd3786\"], [0.5555555555555556, \"#d8576b\"], [0.6666666666666666, \"#ed7953\"], [0.7777777777777778, \"#fb9f3a\"], [0.8888888888888888, \"#fdca26\"], [1.0, \"#f0f921\"]], \"sequentialminus\": [[0.0, \"#0d0887\"], [0.1111111111111111, \"#46039f\"], [0.2222222222222222, \"#7201a8\"], [0.3333333333333333, \"#9c179e\"], [0.4444444444444444, \"#bd3786\"], [0.5555555555555556, \"#d8576b\"], [0.6666666666666666, \"#ed7953\"], [0.7777777777777778, \"#fb9f3a\"], [0.8888888888888888, \"#fdca26\"], [1.0, \"#f0f921\"]]}, \"colorway\": [\"#636efa\", \"#EF553B\", \"#00cc96\", \"#ab63fa\", \"#FFA15A\", \"#19d3f3\", \"#FF6692\", \"#B6E880\", \"#FF97FF\", \"#FECB52\"], \"font\": {\"color\": \"#f2f5fa\"}, \"geo\": {\"bgcolor\": \"rgb(17,17,17)\", \"lakecolor\": \"rgb(17,17,17)\", \"landcolor\": \"rgb(17,17,17)\", \"showlakes\": true, \"showland\": true, \"subunitcolor\": \"#506784\"}, \"hoverlabel\": {\"align\": \"left\"}, \"hovermode\": \"closest\", \"mapbox\": {\"style\": \"dark\"}, \"paper_bgcolor\": \"rgb(17,17,17)\", \"plot_bgcolor\": \"rgb(17,17,17)\", \"polar\": {\"angularaxis\": {\"gridcolor\": \"#506784\", \"linecolor\": \"#506784\", \"ticks\": \"\"}, \"bgcolor\": \"rgb(17,17,17)\", \"radialaxis\": {\"gridcolor\": \"#506784\", \"linecolor\": \"#506784\", \"ticks\": \"\"}}, \"scene\": {\"xaxis\": {\"backgroundcolor\": \"rgb(17,17,17)\", \"gridcolor\": \"#506784\", \"gridwidth\": 2, \"linecolor\": \"#506784\", \"showbackground\": true, \"ticks\": \"\", \"zerolinecolor\": \"#C8D4E3\"}, \"yaxis\": {\"backgroundcolor\": \"rgb(17,17,17)\", \"gridcolor\": \"#506784\", \"gridwidth\": 2, \"linecolor\": \"#506784\", \"showbackground\": true, \"ticks\": \"\", \"zerolinecolor\": \"#C8D4E3\"}, \"zaxis\": {\"backgroundcolor\": \"rgb(17,17,17)\", \"gridcolor\": \"#506784\", \"gridwidth\": 2, \"linecolor\": \"#506784\", \"showbackground\": true, \"ticks\": \"\", \"zerolinecolor\": \"#C8D4E3\"}}, \"shapedefaults\": {\"line\": {\"color\": \"#f2f5fa\"}}, \"sliderdefaults\": {\"bgcolor\": \"#C8D4E3\", \"bordercolor\": \"rgb(17,17,17)\", \"borderwidth\": 1, \"tickwidth\": 0}, \"ternary\": {\"aaxis\": {\"gridcolor\": \"#506784\", \"linecolor\": \"#506784\", \"ticks\": \"\"}, \"baxis\": {\"gridcolor\": \"#506784\", \"linecolor\": \"#506784\", \"ticks\": \"\"}, \"bgcolor\": \"rgb(17,17,17)\", \"caxis\": {\"gridcolor\": \"#506784\", \"linecolor\": \"#506784\", \"ticks\": \"\"}}, \"title\": {\"x\": 0.05}, \"updatemenudefaults\": {\"bgcolor\": \"#506784\", \"borderwidth\": 0}, \"xaxis\": {\"automargin\": true, \"gridcolor\": \"#283442\", \"linecolor\": \"#506784\", \"ticks\": \"\", \"title\": {\"standoff\": 15}, \"zerolinecolor\": \"#283442\", \"zerolinewidth\": 2}, \"yaxis\": {\"automargin\": true, \"gridcolor\": \"#283442\", \"linecolor\": \"#506784\", \"ticks\": \"\", \"title\": {\"standoff\": 15}, \"zerolinecolor\": \"#283442\", \"zerolinewidth\": 2}}}, \"title\": {\"text\": \"Average Sentiment of Stock Headlines\"}, \"xaxis\": {\"anchor\": \"y\", \"domain\": [0.0, 1.0], \"title\": {\"text\": \"Date\"}}, \"yaxis\": {\"anchor\": \"x\", \"domain\": [0.0, 1.0], \"title\": {\"text\": \"Sentiment\"}}},                        {\"responsive\": true}                    ).then(function(){\n",
       "                            \n",
       "var gd = document.getElementById('6b3c6618-95fb-4fb7-a781-29ff2c566226');\n",
       "var x = new MutationObserver(function (mutations, observer) {{\n",
       "        var display = window.getComputedStyle(gd).display;\n",
       "        if (!display || display === 'none') {{\n",
       "            console.log([gd, 'removed!']);\n",
       "            Plotly.purge(gd);\n",
       "            observer.disconnect();\n",
       "        }}\n",
       "}});\n",
       "\n",
       "// Listen for the removal of the full notebook cells\n",
       "var notebookContainer = gd.closest('#notebook-container');\n",
       "if (notebookContainer) {{\n",
       "    x.observe(notebookContainer, {childList: true});\n",
       "}}\n",
       "\n",
       "// Listen for the clearing of the current output cell\n",
       "var outputEl = gd.closest('.output');\n",
       "if (outputEl) {{\n",
       "    x.observe(outputEl, {childList: true});\n",
       "}}\n",
       "\n",
       "                        })                };                });            </script>        </div>"
      ]
     },
     "metadata": {},
     "output_type": "display_data"
    }
   ],
   "source": [
    "# Filter the dates\n",
    "analyzer_filtered = analyzer_news[analyzer_news['date'] > '2020-10-31']\n",
    "# Group by the ticker and the date, creating a multi-index\n",
    "mean_date = analyzer_filtered.groupby(['ticker', 'date']).mean()\n",
    "# Drop the dayofweek because we don't need it\n",
    "mean_date = mean_date.drop('dayofweek', axis=1)\n",
    "# Unstack, the innermost index level 'unstacks' across the columns\n",
    "mean_date = mean_date.unstack()\n",
    "# Get a cross-section of the above data, and transpose it to make the columns the ticker names\n",
    "mean_date = mean_date.xs('compound', axis=1).T\n",
    "\n",
    "sunset = px.colors.sequential.Sunsetdark\n",
    "\n",
    "px.bar(mean_date, barmode='relative', color_discrete_sequence=sunset,\n",
    "      title='Average Sentiment of Stock Headlines',\n",
    "      labels={'value': 'Sentiment', 'date': 'Date'})"
   ]
  },
  {
   "cell_type": "markdown",
   "metadata": {},
   "source": [
    "## Sentiment Analysis using TextBlob"
   ]
  },
  {
   "cell_type": "code",
   "execution_count": 221,
   "metadata": {},
   "outputs": [
    {
     "data": {
      "text/html": [
       "<div>\n",
       "<style scoped>\n",
       "    .dataframe tbody tr th:only-of-type {\n",
       "        vertical-align: middle;\n",
       "    }\n",
       "\n",
       "    .dataframe tbody tr th {\n",
       "        vertical-align: top;\n",
       "    }\n",
       "\n",
       "    .dataframe thead th {\n",
       "        text-align: right;\n",
       "    }\n",
       "</style>\n",
       "<table border=\"1\" class=\"dataframe\">\n",
       "  <thead>\n",
       "    <tr style=\"text-align: right;\">\n",
       "      <th></th>\n",
       "      <th>ticker</th>\n",
       "      <th>headline</th>\n",
       "      <th>article</th>\n",
       "      <th>source</th>\n",
       "      <th>datetime</th>\n",
       "      <th>dayofweek</th>\n",
       "      <th>date</th>\n",
       "      <th>time</th>\n",
       "      <th>closing</th>\n",
       "      <th>opening</th>\n",
       "      <th>days_range</th>\n",
       "      <th>volume</th>\n",
       "      <th>fair_value</th>\n",
       "      <th>polarity</th>\n",
       "      <th>subjectivity</th>\n",
       "    </tr>\n",
       "  </thead>\n",
       "  <tbody>\n",
       "    <tr>\n",
       "      <th>0</th>\n",
       "      <td>AAPL</td>\n",
       "      <td>iPhone 12 Pro and Pro Max nearly beat all DxO...</td>\n",
       "      <td>Although it was a pioneer in the smartphone ph...</td>\n",
       "      <td>slashgear.com</td>\n",
       "      <td>2020-11-16 04:36:00</td>\n",
       "      <td>0</td>\n",
       "      <td>2020-11-16</td>\n",
       "      <td>04:36:00</td>\n",
       "      <td>119.21</td>\n",
       "      <td>119.44</td>\n",
       "      <td>117.87 - 119.67</td>\n",
       "      <td>81688586</td>\n",
       "      <td>Overvalued</td>\n",
       "      <td>-0.100000</td>\n",
       "      <td>0.100000</td>\n",
       "    </tr>\n",
       "    <tr>\n",
       "      <th>1</th>\n",
       "      <td>AAPL</td>\n",
       "      <td>Samsung Smart Monitor is also a smart TV with...</td>\n",
       "      <td>Computer monitors are a dime a dozen these day...</td>\n",
       "      <td>slashgear.com</td>\n",
       "      <td>2020-11-16 04:03:00</td>\n",
       "      <td>0</td>\n",
       "      <td>2020-11-16</td>\n",
       "      <td>04:03:00</td>\n",
       "      <td>119.21</td>\n",
       "      <td>119.44</td>\n",
       "      <td>117.87 - 119.67</td>\n",
       "      <td>81688586</td>\n",
       "      <td>Overvalued</td>\n",
       "      <td>0.600000</td>\n",
       "      <td>1.000000</td>\n",
       "    </tr>\n",
       "    <tr>\n",
       "      <th>2</th>\n",
       "      <td>AAPL</td>\n",
       "      <td>The most powerful CPU of 2020 may be coming s...</td>\n",
       "      <td>AMD’s new EPYC 7763 CPU pushes x86 boundaries ...</td>\n",
       "      <td>techradar.com</td>\n",
       "      <td>2020-11-16 04:00:00</td>\n",
       "      <td>0</td>\n",
       "      <td>2020-11-16</td>\n",
       "      <td>04:00:00</td>\n",
       "      <td>119.21</td>\n",
       "      <td>119.44</td>\n",
       "      <td>117.87 - 119.67</td>\n",
       "      <td>81688586</td>\n",
       "      <td>Overvalued</td>\n",
       "      <td>0.068182</td>\n",
       "      <td>0.477273</td>\n",
       "    </tr>\n",
       "    <tr>\n",
       "      <th>3</th>\n",
       "      <td>AAPL</td>\n",
       "      <td>iPhone 12 group SMS disappear, iPhone 12 mini...</td>\n",
       "      <td>No product can claim to be perfect the day it ...</td>\n",
       "      <td>slashgear.com</td>\n",
       "      <td>2020-11-16 03:37:00</td>\n",
       "      <td>0</td>\n",
       "      <td>2020-11-16</td>\n",
       "      <td>03:37:00</td>\n",
       "      <td>119.21</td>\n",
       "      <td>119.44</td>\n",
       "      <td>117.87 - 119.67</td>\n",
       "      <td>81688586</td>\n",
       "      <td>Overvalued</td>\n",
       "      <td>0.450000</td>\n",
       "      <td>0.883333</td>\n",
       "    </tr>\n",
       "    <tr>\n",
       "      <th>4</th>\n",
       "      <td>AAPL</td>\n",
       "      <td>Vaccine Powers REITs To Historic Rebound</td>\n",
       "      <td>U.S. equity markets climbed to record-highs th...</td>\n",
       "      <td>seekingalpha.com</td>\n",
       "      <td>2020-11-16 03:31:00</td>\n",
       "      <td>0</td>\n",
       "      <td>2020-11-16</td>\n",
       "      <td>03:31:00</td>\n",
       "      <td>119.21</td>\n",
       "      <td>119.44</td>\n",
       "      <td>117.87 - 119.67</td>\n",
       "      <td>81688586</td>\n",
       "      <td>Overvalued</td>\n",
       "      <td>-0.007576</td>\n",
       "      <td>0.598485</td>\n",
       "    </tr>\n",
       "  </tbody>\n",
       "</table>\n",
       "</div>"
      ],
      "text/plain": [
       "  ticker                                           headline  \\\n",
       "0   AAPL   iPhone 12 Pro and Pro Max nearly beat all DxO...   \n",
       "1   AAPL   Samsung Smart Monitor is also a smart TV with...   \n",
       "2   AAPL   The most powerful CPU of 2020 may be coming s...   \n",
       "3   AAPL   iPhone 12 group SMS disappear, iPhone 12 mini...   \n",
       "4   AAPL          Vaccine Powers REITs To Historic Rebound    \n",
       "\n",
       "                                             article             source  \\\n",
       "0  Although it was a pioneer in the smartphone ph...      slashgear.com   \n",
       "1  Computer monitors are a dime a dozen these day...      slashgear.com   \n",
       "2  AMD’s new EPYC 7763 CPU pushes x86 boundaries ...      techradar.com   \n",
       "3  No product can claim to be perfect the day it ...      slashgear.com   \n",
       "4  U.S. equity markets climbed to record-highs th...   seekingalpha.com   \n",
       "\n",
       "             datetime  dayofweek       date      time closing opening  \\\n",
       "0 2020-11-16 04:36:00          0 2020-11-16  04:36:00  119.21  119.44   \n",
       "1 2020-11-16 04:03:00          0 2020-11-16  04:03:00  119.21  119.44   \n",
       "2 2020-11-16 04:00:00          0 2020-11-16  04:00:00  119.21  119.44   \n",
       "3 2020-11-16 03:37:00          0 2020-11-16  03:37:00  119.21  119.44   \n",
       "4 2020-11-16 03:31:00          0 2020-11-16  03:31:00  119.21  119.44   \n",
       "\n",
       "        days_range    volume  fair_value  polarity  subjectivity  \n",
       "0  117.87 - 119.67  81688586  Overvalued -0.100000      0.100000  \n",
       "1  117.87 - 119.67  81688586  Overvalued  0.600000      1.000000  \n",
       "2  117.87 - 119.67  81688586  Overvalued  0.068182      0.477273  \n",
       "3  117.87 - 119.67  81688586  Overvalued  0.450000      0.883333  \n",
       "4  117.87 - 119.67  81688586  Overvalued -0.007576      0.598485  "
      ]
     },
     "execution_count": 221,
     "metadata": {},
     "output_type": "execute_result"
    }
   ],
   "source": [
    "# Creating a TextBlob item for each article's content\n",
    "testimonial = [TextBlob(item) for item in combined_df['article']]\n",
    "# Get the sentiment for each textblob object\n",
    "blob = [item.sentiment for item in testimonial]\n",
    "# Convert to a dataframe\n",
    "blob_df = pd.DataFrame(blob)\n",
    "# Combine the blob_df and full news_df\n",
    "blob_news = pd.concat([combined_df, blob_df], axis=1)\n",
    "# Remove entries where the algorithm either did not find anything or was not able to calculate anything\n",
    "blob_news = blob_news[blob_news['polarity'] != 0].reset_index(drop=True)\n",
    "blob_news.head()"
   ]
  },
  {
   "cell_type": "markdown",
   "metadata": {},
   "source": [
    "### Polarity based on `dayofweek` using Plotly"
   ]
  },
  {
   "cell_type": "code",
   "execution_count": 222,
   "metadata": {},
   "outputs": [],
   "source": [
    "# blob_news.to_csv('11-15-tingo-blob.csv', header=blob_news.columns.values, index=False)"
   ]
  },
  {
   "cell_type": "code",
   "execution_count": 256,
   "metadata": {},
   "outputs": [
    {
     "data": {
      "application/vnd.plotly.v1+json": {
       "config": {
        "plotlyServerURL": "https://plot.ly"
       },
       "data": [
        {
         "alignmentgroup": "True",
         "hovertemplate": "ticker=AAPL<br>Day of Week=%{x}<br>Polarity=%{y}<extra></extra>",
         "legendgroup": "AAPL",
         "marker": {
          "color": "rgb(36, 86, 104)"
         },
         "name": "AAPL",
         "offsetgroup": "AAPL",
         "orientation": "v",
         "showlegend": true,
         "textposition": "auto",
         "type": "bar",
         "x": [
          0,
          1,
          2,
          3,
          4,
          5,
          6
         ],
         "xaxis": "x",
         "y": [
          0.19214749536178105,
          0.22476190476190475,
          null,
          0.24285714285714285,
          null,
          null,
          0.1403799903799904
         ],
         "yaxis": "y"
        },
        {
         "alignmentgroup": "True",
         "hovertemplate": "ticker=ABBV<br>Day of Week=%{x}<br>Polarity=%{y}<extra></extra>",
         "legendgroup": "ABBV",
         "marker": {
          "color": "rgb(15, 114, 121)"
         },
         "name": "ABBV",
         "offsetgroup": "ABBV",
         "orientation": "v",
         "showlegend": true,
         "textposition": "auto",
         "type": "bar",
         "x": [
          0,
          1,
          2,
          3,
          4,
          5,
          6
         ],
         "xaxis": "x",
         "y": [
          0.175,
          0.12361111111111114,
          -0.16666666666666666,
          0.20782828282828283,
          0.23825757575757578,
          0.2866666666666666,
          null
         ],
         "yaxis": "y"
        },
        {
         "alignmentgroup": "True",
         "hovertemplate": "ticker=ABT<br>Day of Week=%{x}<br>Polarity=%{y}<extra></extra>",
         "legendgroup": "ABT",
         "marker": {
          "color": "rgb(13, 143, 129)"
         },
         "name": "ABT",
         "offsetgroup": "ABT",
         "orientation": "v",
         "showlegend": true,
         "textposition": "auto",
         "type": "bar",
         "x": [
          0,
          1,
          2,
          3,
          4,
          5,
          6
         ],
         "xaxis": "x",
         "y": [
          0.016666666666666663,
          0.07363636363636364,
          -0.07666666666666666,
          null,
          0.10000000000000002,
          6.938893903907228e-18,
          -0.03434343434343432
         ],
         "yaxis": "y"
        },
        {
         "alignmentgroup": "True",
         "hovertemplate": "ticker=ADBE<br>Day of Week=%{x}<br>Polarity=%{y}<extra></extra>",
         "legendgroup": "ADBE",
         "marker": {
          "color": "rgb(57, 171, 126)"
         },
         "name": "ADBE",
         "offsetgroup": "ADBE",
         "orientation": "v",
         "showlegend": true,
         "textposition": "auto",
         "type": "bar",
         "x": [
          0,
          1,
          2,
          3,
          4,
          5,
          6
         ],
         "xaxis": "x",
         "y": [
          0.6,
          0.0625,
          null,
          0.07,
          0.21666666666666667,
          0.275,
          0.25
         ],
         "yaxis": "y"
        },
        {
         "alignmentgroup": "True",
         "hovertemplate": "ticker=AMZN<br>Day of Week=%{x}<br>Polarity=%{y}<extra></extra>",
         "legendgroup": "AMZN",
         "marker": {
          "color": "rgb(110, 197, 116)"
         },
         "name": "AMZN",
         "offsetgroup": "AMZN",
         "orientation": "v",
         "showlegend": true,
         "textposition": "auto",
         "type": "bar",
         "x": [
          0,
          1,
          2,
          3,
          4,
          5,
          6
         ],
         "xaxis": "x",
         "y": [
          0.21656862745098038,
          0.3666666666666667,
          -0.6,
          -0.21547619047619046,
          null,
          null,
          0.06906565656565657
         ],
         "yaxis": "y"
        },
        {
         "alignmentgroup": "True",
         "hovertemplate": "ticker=ASML<br>Day of Week=%{x}<br>Polarity=%{y}<extra></extra>",
         "legendgroup": "ASML",
         "marker": {
          "color": "rgb(169, 220, 103)"
         },
         "name": "ASML",
         "offsetgroup": "ASML",
         "orientation": "v",
         "showlegend": true,
         "textposition": "auto",
         "type": "bar",
         "x": [
          0,
          1,
          2,
          3,
          4,
          5,
          6
         ],
         "xaxis": "x",
         "y": [
          0.2596049783549783,
          0.2506060606060606,
          0.7,
          0.06944444444444443,
          0.12348484848484848,
          null,
          0.15
         ],
         "yaxis": "y"
        },
        {
         "alignmentgroup": "True",
         "hovertemplate": "ticker=BABA<br>Day of Week=%{x}<br>Polarity=%{y}<extra></extra>",
         "legendgroup": "BABA",
         "marker": {
          "color": "rgb(237, 239, 93)"
         },
         "name": "BABA",
         "offsetgroup": "BABA",
         "orientation": "v",
         "showlegend": true,
         "textposition": "auto",
         "type": "bar",
         "x": [
          0,
          1,
          2,
          3,
          4,
          5,
          6
         ],
         "xaxis": "x",
         "y": [
          0.1024090909090909,
          0.23214285714285715,
          null,
          0.13636363636363635,
          0.2716161616161616,
          0.23333333333333334,
          0.020634920634920634
         ],
         "yaxis": "y"
        },
        {
         "alignmentgroup": "True",
         "hovertemplate": "ticker=BAC<br>Day of Week=%{x}<br>Polarity=%{y}<extra></extra>",
         "legendgroup": "BAC",
         "marker": {
          "color": "rgb(36, 86, 104)"
         },
         "name": "BAC",
         "offsetgroup": "BAC",
         "orientation": "v",
         "showlegend": true,
         "textposition": "auto",
         "type": "bar",
         "x": [
          0,
          1,
          2,
          3,
          4,
          5,
          6
         ],
         "xaxis": "x",
         "y": [
          0.39123376623376627,
          null,
          null,
          0.4,
          0.25,
          null,
          -0.005656565656565659
         ],
         "yaxis": "y"
        },
        {
         "alignmentgroup": "True",
         "hovertemplate": "ticker=CMCSA<br>Day of Week=%{x}<br>Polarity=%{y}<extra></extra>",
         "legendgroup": "CMCSA",
         "marker": {
          "color": "rgb(15, 114, 121)"
         },
         "name": "CMCSA",
         "offsetgroup": "CMCSA",
         "orientation": "v",
         "showlegend": true,
         "textposition": "auto",
         "type": "bar",
         "x": [
          0,
          1,
          2,
          3,
          4,
          5,
          6
         ],
         "xaxis": "x",
         "y": [
          0.1354978354978355,
          null,
          null,
          0.375,
          -0.05,
          0.13333333333333333,
          -0.02677616501145913
         ],
         "yaxis": "y"
        },
        {
         "alignmentgroup": "True",
         "hovertemplate": "ticker=COST<br>Day of Week=%{x}<br>Polarity=%{y}<extra></extra>",
         "legendgroup": "COST",
         "marker": {
          "color": "rgb(13, 143, 129)"
         },
         "name": "COST",
         "offsetgroup": "COST",
         "orientation": "v",
         "showlegend": true,
         "textposition": "auto",
         "type": "bar",
         "x": [
          0,
          1,
          2,
          3,
          4,
          5,
          6
         ],
         "xaxis": "x",
         "y": [
          0.16906565656565656,
          null,
          null,
          0.18106060606060606,
          0.2305194805194805,
          null,
          0.37013888888888885
         ],
         "yaxis": "y"
        },
        {
         "alignmentgroup": "True",
         "hovertemplate": "ticker=CRM<br>Day of Week=%{x}<br>Polarity=%{y}<extra></extra>",
         "legendgroup": "CRM",
         "marker": {
          "color": "rgb(57, 171, 126)"
         },
         "name": "CRM",
         "offsetgroup": "CRM",
         "orientation": "v",
         "showlegend": true,
         "textposition": "auto",
         "type": "bar",
         "x": [
          0,
          1,
          2,
          3,
          4,
          5,
          6
         ],
         "xaxis": "x",
         "y": [
          0.38541666666666663,
          0.1958333333333333,
          null,
          0.06818181818181818,
          -0.09999999999999999,
          0.11363636363636363,
          0.14820913213770356
         ],
         "yaxis": "y"
        },
        {
         "alignmentgroup": "True",
         "hovertemplate": "ticker=CSCO<br>Day of Week=%{x}<br>Polarity=%{y}<extra></extra>",
         "legendgroup": "CSCO",
         "marker": {
          "color": "rgb(110, 197, 116)"
         },
         "name": "CSCO",
         "offsetgroup": "CSCO",
         "orientation": "v",
         "showlegend": true,
         "textposition": "auto",
         "type": "bar",
         "x": [
          0,
          1,
          2,
          3,
          4,
          5,
          6
         ],
         "xaxis": "x",
         "y": [
          0.2111111111111111,
          0.12175324675324675,
          0.10714285714285714,
          0.13636363636363635,
          0.17245454545454547,
          0.19285714285714287,
          0.1888257575757576
         ],
         "yaxis": "y"
        },
        {
         "alignmentgroup": "True",
         "hovertemplate": "ticker=CVX<br>Day of Week=%{x}<br>Polarity=%{y}<extra></extra>",
         "legendgroup": "CVX",
         "marker": {
          "color": "rgb(169, 220, 103)"
         },
         "name": "CVX",
         "offsetgroup": "CVX",
         "orientation": "v",
         "showlegend": true,
         "textposition": "auto",
         "type": "bar",
         "x": [
          0,
          1,
          2,
          3,
          4,
          5,
          6
         ],
         "xaxis": "x",
         "y": [
          0.25,
          0.3,
          null,
          null,
          0.43888888888888894,
          -0.17276785714285714,
          0.15876015797068432
         ],
         "yaxis": "y"
        },
        {
         "alignmentgroup": "True",
         "hovertemplate": "ticker=DHR<br>Day of Week=%{x}<br>Polarity=%{y}<extra></extra>",
         "legendgroup": "DHR",
         "marker": {
          "color": "rgb(237, 239, 93)"
         },
         "name": "DHR",
         "offsetgroup": "DHR",
         "orientation": "v",
         "showlegend": true,
         "textposition": "auto",
         "type": "bar",
         "x": [
          0,
          1,
          2,
          3,
          4,
          5,
          6
         ],
         "xaxis": "x",
         "y": [
          0.18939393939393936,
          -0.03636363636363637,
          0.28750000000000003,
          null,
          null,
          0.26666666666666666,
          0.5
         ],
         "yaxis": "y"
        },
        {
         "alignmentgroup": "True",
         "hovertemplate": "ticker=DIS<br>Day of Week=%{x}<br>Polarity=%{y}<extra></extra>",
         "legendgroup": "DIS",
         "marker": {
          "color": "rgb(36, 86, 104)"
         },
         "name": "DIS",
         "offsetgroup": "DIS",
         "orientation": "v",
         "showlegend": true,
         "textposition": "auto",
         "type": "bar",
         "x": [
          0,
          1,
          2,
          3,
          4,
          5,
          6
         ],
         "xaxis": "x",
         "y": [
          0.07358080808080808,
          null,
          0.5136363636363637,
          1,
          null,
          null,
          0.5
         ],
         "yaxis": "y"
        },
        {
         "alignmentgroup": "True",
         "hovertemplate": "ticker=GOOG<br>Day of Week=%{x}<br>Polarity=%{y}<extra></extra>",
         "legendgroup": "GOOG",
         "marker": {
          "color": "rgb(15, 114, 121)"
         },
         "name": "GOOG",
         "offsetgroup": "GOOG",
         "orientation": "v",
         "showlegend": true,
         "textposition": "auto",
         "type": "bar",
         "x": [
          0,
          1,
          2,
          3,
          4,
          5,
          6
         ],
         "xaxis": "x",
         "y": [
          0.16385796742939598,
          null,
          null,
          0.4,
          0.665625,
          null,
          0.4211309523809524
         ],
         "yaxis": "y"
        },
        {
         "alignmentgroup": "True",
         "hovertemplate": "ticker=GOOGL<br>Day of Week=%{x}<br>Polarity=%{y}<extra></extra>",
         "legendgroup": "GOOGL",
         "marker": {
          "color": "rgb(13, 143, 129)"
         },
         "name": "GOOGL",
         "offsetgroup": "GOOGL",
         "orientation": "v",
         "showlegend": true,
         "textposition": "auto",
         "type": "bar",
         "x": [
          0,
          1,
          2,
          3,
          4,
          5,
          6
         ],
         "xaxis": "x",
         "y": [
          0.15196452098626012,
          null,
          null,
          0.4,
          0.665625,
          null,
          0.6071428571428571
         ],
         "yaxis": "y"
        },
        {
         "alignmentgroup": "True",
         "hovertemplate": "ticker=HD<br>Day of Week=%{x}<br>Polarity=%{y}<extra></extra>",
         "legendgroup": "HD",
         "marker": {
          "color": "rgb(57, 171, 126)"
         },
         "name": "HD",
         "offsetgroup": "HD",
         "orientation": "v",
         "showlegend": true,
         "textposition": "auto",
         "type": "bar",
         "x": [
          0,
          1,
          2,
          3,
          4,
          5,
          6
         ],
         "xaxis": "x",
         "y": [
          null,
          -0.15000000000000002,
          0.225,
          0.22992424242424245,
          0.05909090909090908,
          0.4819444444444444,
          0.06997354497354497
         ],
         "yaxis": "y"
        },
        {
         "alignmentgroup": "True",
         "hovertemplate": "ticker=INTC<br>Day of Week=%{x}<br>Polarity=%{y}<extra></extra>",
         "legendgroup": "INTC",
         "marker": {
          "color": "rgb(110, 197, 116)"
         },
         "name": "INTC",
         "offsetgroup": "INTC",
         "orientation": "v",
         "showlegend": true,
         "textposition": "auto",
         "type": "bar",
         "x": [
          0,
          1,
          2,
          3,
          4,
          5,
          6
         ],
         "xaxis": "x",
         "y": [
          0.18407828282828284,
          null,
          0.21212121212121213,
          null,
          null,
          0.17988215488215487,
          0.047011784511784505
         ],
         "yaxis": "y"
        },
        {
         "alignmentgroup": "True",
         "hovertemplate": "ticker=JNJ<br>Day of Week=%{x}<br>Polarity=%{y}<extra></extra>",
         "legendgroup": "JNJ",
         "marker": {
          "color": "rgb(169, 220, 103)"
         },
         "name": "JNJ",
         "offsetgroup": "JNJ",
         "orientation": "v",
         "showlegend": true,
         "textposition": "auto",
         "type": "bar",
         "x": [
          0,
          1,
          2,
          3,
          4,
          5,
          6
         ],
         "xaxis": "x",
         "y": [
          0.16687799043062201,
          null,
          null,
          0.5,
          null,
          null,
          null
         ],
         "yaxis": "y"
        },
        {
         "alignmentgroup": "True",
         "hovertemplate": "ticker=JPM<br>Day of Week=%{x}<br>Polarity=%{y}<extra></extra>",
         "legendgroup": "JPM",
         "marker": {
          "color": "rgb(237, 239, 93)"
         },
         "name": "JPM",
         "offsetgroup": "JPM",
         "orientation": "v",
         "showlegend": true,
         "textposition": "auto",
         "type": "bar",
         "x": [
          0,
          1,
          2,
          3,
          4,
          5,
          6
         ],
         "xaxis": "x",
         "y": [
          0.15132575757575759,
          0.04242424242424243,
          null,
          -0.02500000000000001,
          0.18333333333333335,
          -0.1,
          0.07614237614237614
         ],
         "yaxis": "y"
        },
        {
         "alignmentgroup": "True",
         "hovertemplate": "ticker=KO<br>Day of Week=%{x}<br>Polarity=%{y}<extra></extra>",
         "legendgroup": "KO",
         "marker": {
          "color": "rgb(36, 86, 104)"
         },
         "name": "KO",
         "offsetgroup": "KO",
         "orientation": "v",
         "showlegend": true,
         "textposition": "auto",
         "type": "bar",
         "x": [
          0,
          1,
          2,
          3,
          4,
          5,
          6
         ],
         "xaxis": "x",
         "y": [
          0.2215909090909091,
          null,
          null,
          null,
          -0.06060606060606061,
          0.18219696969696966,
          0.35401515151515156
         ],
         "yaxis": "y"
        },
        {
         "alignmentgroup": "True",
         "hovertemplate": "ticker=MA<br>Day of Week=%{x}<br>Polarity=%{y}<extra></extra>",
         "legendgroup": "MA",
         "marker": {
          "color": "rgb(15, 114, 121)"
         },
         "name": "MA",
         "offsetgroup": "MA",
         "orientation": "v",
         "showlegend": true,
         "textposition": "auto",
         "type": "bar",
         "x": [
          0,
          1,
          2,
          3,
          4,
          5,
          6
         ],
         "xaxis": "x",
         "y": [
          0.33690476190476193,
          0.05,
          -0.001388888888888884,
          0.2333333333333333,
          0.1400462962962963,
          0.050520833333333334,
          null
         ],
         "yaxis": "y"
        },
        {
         "alignmentgroup": "True",
         "hovertemplate": "ticker=MCD<br>Day of Week=%{x}<br>Polarity=%{y}<extra></extra>",
         "legendgroup": "MCD",
         "marker": {
          "color": "rgb(13, 143, 129)"
         },
         "name": "MCD",
         "offsetgroup": "MCD",
         "orientation": "v",
         "showlegend": true,
         "textposition": "auto",
         "type": "bar",
         "x": [
          0,
          1,
          2,
          3,
          4,
          5,
          6
         ],
         "xaxis": "x",
         "y": [
          0.19318181818181818,
          0.16944444444444443,
          0.3,
          0.09999999999999999,
          -0.05227272727272726,
          -0.052777777777777785,
          -0.19399621212121212
         ],
         "yaxis": "y"
        },
        {
         "alignmentgroup": "True",
         "hovertemplate": "ticker=MRK<br>Day of Week=%{x}<br>Polarity=%{y}<extra></extra>",
         "legendgroup": "MRK",
         "marker": {
          "color": "rgb(57, 171, 126)"
         },
         "name": "MRK",
         "offsetgroup": "MRK",
         "orientation": "v",
         "showlegend": true,
         "textposition": "auto",
         "type": "bar",
         "x": [
          0,
          1,
          2,
          3,
          4,
          5,
          6
         ],
         "xaxis": "x",
         "y": [
          -0.017857142857142863,
          0.16363636363636364,
          0.033333333333333326,
          0.008333333333333326,
          -0.02215909090909092,
          0.06679894179894179,
          0.07142857142857144
         ],
         "yaxis": "y"
        },
        {
         "alignmentgroup": "True",
         "hovertemplate": "ticker=MSFT<br>Day of Week=%{x}<br>Polarity=%{y}<extra></extra>",
         "legendgroup": "MSFT",
         "marker": {
          "color": "rgb(110, 197, 116)"
         },
         "name": "MSFT",
         "offsetgroup": "MSFT",
         "orientation": "v",
         "showlegend": true,
         "textposition": "auto",
         "type": "bar",
         "x": [
          0,
          1,
          2,
          3,
          4,
          5,
          6
         ],
         "xaxis": "x",
         "y": [
          0.21037731208185753,
          null,
          null,
          0.1,
          0.18484848484848482,
          null,
          0.19932659932659932
         ],
         "yaxis": "y"
        },
        {
         "alignmentgroup": "True",
         "hovertemplate": "ticker=NFLX<br>Day of Week=%{x}<br>Polarity=%{y}<extra></extra>",
         "legendgroup": "NFLX",
         "marker": {
          "color": "rgb(169, 220, 103)"
         },
         "name": "NFLX",
         "offsetgroup": "NFLX",
         "orientation": "v",
         "showlegend": true,
         "textposition": "auto",
         "type": "bar",
         "x": [
          0,
          1,
          2,
          3,
          4,
          5,
          6
         ],
         "xaxis": "x",
         "y": [
          0.18174469563358453,
          0.06818181818181818,
          -0.05,
          0.05,
          null,
          null,
          0.025541125541125555
         ],
         "yaxis": "y"
        },
        {
         "alignmentgroup": "True",
         "hovertemplate": "ticker=NVDA<br>Day of Week=%{x}<br>Polarity=%{y}<extra></extra>",
         "legendgroup": "NVDA",
         "marker": {
          "color": "rgb(237, 239, 93)"
         },
         "name": "NVDA",
         "offsetgroup": "NVDA",
         "orientation": "v",
         "showlegend": true,
         "textposition": "auto",
         "type": "bar",
         "x": [
          0,
          1,
          2,
          3,
          4,
          5,
          6
         ],
         "xaxis": "x",
         "y": [
          0.2183874458874459,
          -0.1,
          0.17424242424242425,
          null,
          0.21428571428571427,
          0.38888888888888884,
          -0.16388888888888895
         ],
         "yaxis": "y"
        },
        {
         "alignmentgroup": "True",
         "hovertemplate": "ticker=NVS<br>Day of Week=%{x}<br>Polarity=%{y}<extra></extra>",
         "legendgroup": "NVS",
         "marker": {
          "color": "rgb(36, 86, 104)"
         },
         "name": "NVS",
         "offsetgroup": "NVS",
         "orientation": "v",
         "showlegend": true,
         "textposition": "auto",
         "type": "bar",
         "x": [
          0,
          1,
          2,
          3,
          4,
          5,
          6
         ],
         "xaxis": "x",
         "y": [
          -0.075,
          null,
          0.475,
          0.20547979797979798,
          0.2484126984126984,
          null,
          0.08090132090132089
         ],
         "yaxis": "y"
        },
        {
         "alignmentgroup": "True",
         "hovertemplate": "ticker=ORCL<br>Day of Week=%{x}<br>Polarity=%{y}<extra></extra>",
         "legendgroup": "ORCL",
         "marker": {
          "color": "rgb(15, 114, 121)"
         },
         "name": "ORCL",
         "offsetgroup": "ORCL",
         "orientation": "v",
         "showlegend": true,
         "textposition": "auto",
         "type": "bar",
         "x": [
          0,
          1,
          2,
          3,
          4,
          5,
          6
         ],
         "xaxis": "x",
         "y": [
          0.22727272727272727,
          null,
          0.13636363636363635,
          -0.1,
          -0.21666666666666665,
          0.00714285714285715,
          -0.5
         ],
         "yaxis": "y"
        },
        {
         "alignmentgroup": "True",
         "hovertemplate": "ticker=PDD<br>Day of Week=%{x}<br>Polarity=%{y}<extra></extra>",
         "legendgroup": "PDD",
         "marker": {
          "color": "rgb(13, 143, 129)"
         },
         "name": "PDD",
         "offsetgroup": "PDD",
         "orientation": "v",
         "showlegend": true,
         "textposition": "auto",
         "type": "bar",
         "x": [
          0,
          1,
          2,
          3,
          4,
          5,
          6
         ],
         "xaxis": "x",
         "y": [
          -0.6,
          0.425,
          0.25,
          0.29424242424242425,
          0.05142075517075518,
          0.0711038961038961,
          0.15
         ],
         "yaxis": "y"
        },
        {
         "alignmentgroup": "True",
         "hovertemplate": "ticker=PEP<br>Day of Week=%{x}<br>Polarity=%{y}<extra></extra>",
         "legendgroup": "PEP",
         "marker": {
          "color": "rgb(57, 171, 126)"
         },
         "name": "PEP",
         "offsetgroup": "PEP",
         "orientation": "v",
         "showlegend": true,
         "textposition": "auto",
         "type": "bar",
         "x": [
          0,
          1,
          2,
          3,
          4,
          5,
          6
         ],
         "xaxis": "x",
         "y": [
          0.11161616161616161,
          -0.04924242424242424,
          0.13804713804713806,
          0.20166666666666666,
          0.19494949494949496,
          0.016883116883116885,
          0.03333333333333333
         ],
         "yaxis": "y"
        },
        {
         "alignmentgroup": "True",
         "hovertemplate": "ticker=PFE<br>Day of Week=%{x}<br>Polarity=%{y}<extra></extra>",
         "legendgroup": "PFE",
         "marker": {
          "color": "rgb(110, 197, 116)"
         },
         "name": "PFE",
         "offsetgroup": "PFE",
         "orientation": "v",
         "showlegend": true,
         "textposition": "auto",
         "type": "bar",
         "x": [
          0,
          1,
          2,
          3,
          4,
          5,
          6
         ],
         "xaxis": "x",
         "y": [
          0.16124242424242427,
          0.3,
          0.06818181818181818,
          0.36189393939393943,
          null,
          null,
          0.3190476190476191
         ],
         "yaxis": "y"
        },
        {
         "alignmentgroup": "True",
         "hovertemplate": "ticker=PG<br>Day of Week=%{x}<br>Polarity=%{y}<extra></extra>",
         "legendgroup": "PG",
         "marker": {
          "color": "rgb(169, 220, 103)"
         },
         "name": "PG",
         "offsetgroup": "PG",
         "orientation": "v",
         "showlegend": true,
         "textposition": "auto",
         "type": "bar",
         "x": [
          0,
          1,
          2,
          3,
          4,
          5,
          6
         ],
         "xaxis": "x",
         "y": [
          0.011882716049382708,
          0.16717171717171717,
          null,
          null,
          0.15810657596371883,
          -0.15,
          0.35
         ],
         "yaxis": "y"
        },
        {
         "alignmentgroup": "True",
         "hovertemplate": "ticker=PYPL<br>Day of Week=%{x}<br>Polarity=%{y}<extra></extra>",
         "legendgroup": "PYPL",
         "marker": {
          "color": "rgb(237, 239, 93)"
         },
         "name": "PYPL",
         "offsetgroup": "PYPL",
         "orientation": "v",
         "showlegend": true,
         "textposition": "auto",
         "type": "bar",
         "x": [
          0,
          1,
          2,
          3,
          4,
          5,
          6
         ],
         "xaxis": "x",
         "y": [
          0.2912037037037037,
          0.575,
          0.5,
          0.10909090909090909,
          null,
          null,
          0.13676353535353533
         ],
         "yaxis": "y"
        },
        {
         "alignmentgroup": "True",
         "hovertemplate": "ticker=T<br>Day of Week=%{x}<br>Polarity=%{y}<extra></extra>",
         "legendgroup": "T",
         "marker": {
          "color": "rgb(36, 86, 104)"
         },
         "name": "T",
         "offsetgroup": "T",
         "orientation": "v",
         "showlegend": true,
         "textposition": "auto",
         "type": "bar",
         "x": [
          0,
          1,
          2,
          3,
          4,
          5,
          6
         ],
         "xaxis": "x",
         "y": [
          0.27878787878787875,
          0.15,
          null,
          0.1787878787878788,
          0.4,
          null,
          -0.06477272727272727
         ],
         "yaxis": "y"
        },
        {
         "alignmentgroup": "True",
         "hovertemplate": "ticker=TM<br>Day of Week=%{x}<br>Polarity=%{y}<extra></extra>",
         "legendgroup": "TM",
         "marker": {
          "color": "rgb(15, 114, 121)"
         },
         "name": "TM",
         "offsetgroup": "TM",
         "orientation": "v",
         "showlegend": true,
         "textposition": "auto",
         "type": "bar",
         "x": [
          0,
          1,
          2,
          3,
          4,
          5,
          6
         ],
         "xaxis": "x",
         "y": [
          0.20913299663299664,
          0.39583333333333337,
          0.5,
          0.09999999999999999,
          0.1619047619047619,
          0.4520833333333334,
          0.11248737373737376
         ],
         "yaxis": "y"
        },
        {
         "alignmentgroup": "True",
         "hovertemplate": "ticker=TMO<br>Day of Week=%{x}<br>Polarity=%{y}<extra></extra>",
         "legendgroup": "TMO",
         "marker": {
          "color": "rgb(13, 143, 129)"
         },
         "name": "TMO",
         "offsetgroup": "TMO",
         "orientation": "v",
         "showlegend": true,
         "textposition": "auto",
         "type": "bar",
         "x": [
          0,
          1,
          2,
          3,
          4,
          5,
          6
         ],
         "xaxis": "x",
         "y": [
          0.11666666666666665,
          null,
          0.24333333333333335,
          0.13636363636363635,
          0.17027777777777783,
          null,
          0.21428571428571427
         ],
         "yaxis": "y"
        },
        {
         "alignmentgroup": "True",
         "hovertemplate": "ticker=TMUS<br>Day of Week=%{x}<br>Polarity=%{y}<extra></extra>",
         "legendgroup": "TMUS",
         "marker": {
          "color": "rgb(57, 171, 126)"
         },
         "name": "TMUS",
         "offsetgroup": "TMUS",
         "orientation": "v",
         "showlegend": true,
         "textposition": "auto",
         "type": "bar",
         "x": [
          0,
          1,
          2,
          3,
          4,
          5,
          6
         ],
         "xaxis": "x",
         "y": [
          0.10075757575757577,
          0.22499999999999998,
          0.13636363636363635,
          0.17272727272727273,
          0.14531385281385284,
          0.1796969696969697,
          0.24204545454545454
         ],
         "yaxis": "y"
        },
        {
         "alignmentgroup": "True",
         "hovertemplate": "ticker=TSLA<br>Day of Week=%{x}<br>Polarity=%{y}<extra></extra>",
         "legendgroup": "TSLA",
         "marker": {
          "color": "rgb(110, 197, 116)"
         },
         "name": "TSLA",
         "offsetgroup": "TSLA",
         "orientation": "v",
         "showlegend": true,
         "textposition": "auto",
         "type": "bar",
         "x": [
          0,
          1,
          2,
          3,
          4,
          5,
          6
         ],
         "xaxis": "x",
         "y": [
          0.20697278911564623,
          0.19999999999999998,
          null,
          null,
          0.1361111111111111,
          0.2,
          0.16266684704184703
         ],
         "yaxis": "y"
        },
        {
         "alignmentgroup": "True",
         "hovertemplate": "ticker=TSM<br>Day of Week=%{x}<br>Polarity=%{y}<extra></extra>",
         "legendgroup": "TSM",
         "marker": {
          "color": "rgb(169, 220, 103)"
         },
         "name": "TSM",
         "offsetgroup": "TSM",
         "orientation": "v",
         "showlegend": true,
         "textposition": "auto",
         "type": "bar",
         "x": [
          0,
          1,
          2,
          3,
          4,
          5,
          6
         ],
         "xaxis": "x",
         "y": [
          0.5,
          0.041666666666666664,
          0.03392857142857142,
          0.08085858585858585,
          0.2734848484848485,
          0.1392857142857143,
          0.07208719851576993
         ],
         "yaxis": "y"
        },
        {
         "alignmentgroup": "True",
         "hovertemplate": "ticker=UN<br>Day of Week=%{x}<br>Polarity=%{y}<extra></extra>",
         "legendgroup": "UN",
         "marker": {
          "color": "rgb(237, 239, 93)"
         },
         "name": "UN",
         "offsetgroup": "UN",
         "orientation": "v",
         "showlegend": true,
         "textposition": "auto",
         "type": "bar",
         "x": [
          0,
          1,
          2,
          3,
          4,
          5,
          6
         ],
         "xaxis": "x",
         "y": [
          null,
          0.20000000000000004,
          -0.2,
          0.13636363636363635,
          0.275,
          0.09999999999999998,
          -0.2333333333333333
         ],
         "yaxis": "y"
        },
        {
         "alignmentgroup": "True",
         "hovertemplate": "ticker=UNH<br>Day of Week=%{x}<br>Polarity=%{y}<extra></extra>",
         "legendgroup": "UNH",
         "marker": {
          "color": "rgb(36, 86, 104)"
         },
         "name": "UNH",
         "offsetgroup": "UNH",
         "orientation": "v",
         "showlegend": true,
         "textposition": "auto",
         "type": "bar",
         "x": [
          0,
          1,
          2,
          3,
          4,
          5,
          6
         ],
         "xaxis": "x",
         "y": [
          0.04545454545454545,
          -0.1,
          null,
          0.20618686868686864,
          0.07575757575757575,
          0.5,
          0.1268843193843194
         ],
         "yaxis": "y"
        },
        {
         "alignmentgroup": "True",
         "hovertemplate": "ticker=VZ<br>Day of Week=%{x}<br>Polarity=%{y}<extra></extra>",
         "legendgroup": "VZ",
         "marker": {
          "color": "rgb(15, 114, 121)"
         },
         "name": "VZ",
         "offsetgroup": "VZ",
         "orientation": "v",
         "showlegend": true,
         "textposition": "auto",
         "type": "bar",
         "x": [
          0,
          1,
          2,
          3,
          4,
          5,
          6
         ],
         "xaxis": "x",
         "y": [
          0.2345238095238095,
          0.10714285714285714,
          0.25555555555555554,
          0.3,
          0.26753246753246746,
          0.14375,
          0.16425133689839574
         ],
         "yaxis": "y"
        },
        {
         "alignmentgroup": "True",
         "hovertemplate": "ticker=WMT<br>Day of Week=%{x}<br>Polarity=%{y}<extra></extra>",
         "legendgroup": "WMT",
         "marker": {
          "color": "rgb(13, 143, 129)"
         },
         "name": "WMT",
         "offsetgroup": "WMT",
         "orientation": "v",
         "showlegend": true,
         "textposition": "auto",
         "type": "bar",
         "x": [
          0,
          1,
          2,
          3,
          4,
          5,
          6
         ],
         "xaxis": "x",
         "y": [
          0.11249999999999999,
          null,
          null,
          0.7,
          0.20833333333333334,
          0.23854166666666665,
          0.0560474537037037
         ],
         "yaxis": "y"
        }
       ],
       "layout": {
        "barmode": "group",
        "legend": {
         "title": {
          "text": "ticker"
         },
         "tracegroupgap": 0
        },
        "template": {
         "data": {
          "bar": [
           {
            "error_x": {
             "color": "#f2f5fa"
            },
            "error_y": {
             "color": "#f2f5fa"
            },
            "marker": {
             "line": {
              "color": "rgb(17,17,17)",
              "width": 0.5
             }
            },
            "type": "bar"
           }
          ],
          "barpolar": [
           {
            "marker": {
             "line": {
              "color": "rgb(17,17,17)",
              "width": 0.5
             }
            },
            "type": "barpolar"
           }
          ],
          "carpet": [
           {
            "aaxis": {
             "endlinecolor": "#A2B1C6",
             "gridcolor": "#506784",
             "linecolor": "#506784",
             "minorgridcolor": "#506784",
             "startlinecolor": "#A2B1C6"
            },
            "baxis": {
             "endlinecolor": "#A2B1C6",
             "gridcolor": "#506784",
             "linecolor": "#506784",
             "minorgridcolor": "#506784",
             "startlinecolor": "#A2B1C6"
            },
            "type": "carpet"
           }
          ],
          "choropleth": [
           {
            "colorbar": {
             "outlinewidth": 0,
             "ticks": ""
            },
            "type": "choropleth"
           }
          ],
          "contour": [
           {
            "colorbar": {
             "outlinewidth": 0,
             "ticks": ""
            },
            "colorscale": [
             [
              0,
              "#0d0887"
             ],
             [
              0.1111111111111111,
              "#46039f"
             ],
             [
              0.2222222222222222,
              "#7201a8"
             ],
             [
              0.3333333333333333,
              "#9c179e"
             ],
             [
              0.4444444444444444,
              "#bd3786"
             ],
             [
              0.5555555555555556,
              "#d8576b"
             ],
             [
              0.6666666666666666,
              "#ed7953"
             ],
             [
              0.7777777777777778,
              "#fb9f3a"
             ],
             [
              0.8888888888888888,
              "#fdca26"
             ],
             [
              1,
              "#f0f921"
             ]
            ],
            "type": "contour"
           }
          ],
          "contourcarpet": [
           {
            "colorbar": {
             "outlinewidth": 0,
             "ticks": ""
            },
            "type": "contourcarpet"
           }
          ],
          "heatmap": [
           {
            "colorbar": {
             "outlinewidth": 0,
             "ticks": ""
            },
            "colorscale": [
             [
              0,
              "#0d0887"
             ],
             [
              0.1111111111111111,
              "#46039f"
             ],
             [
              0.2222222222222222,
              "#7201a8"
             ],
             [
              0.3333333333333333,
              "#9c179e"
             ],
             [
              0.4444444444444444,
              "#bd3786"
             ],
             [
              0.5555555555555556,
              "#d8576b"
             ],
             [
              0.6666666666666666,
              "#ed7953"
             ],
             [
              0.7777777777777778,
              "#fb9f3a"
             ],
             [
              0.8888888888888888,
              "#fdca26"
             ],
             [
              1,
              "#f0f921"
             ]
            ],
            "type": "heatmap"
           }
          ],
          "heatmapgl": [
           {
            "colorbar": {
             "outlinewidth": 0,
             "ticks": ""
            },
            "colorscale": [
             [
              0,
              "#0d0887"
             ],
             [
              0.1111111111111111,
              "#46039f"
             ],
             [
              0.2222222222222222,
              "#7201a8"
             ],
             [
              0.3333333333333333,
              "#9c179e"
             ],
             [
              0.4444444444444444,
              "#bd3786"
             ],
             [
              0.5555555555555556,
              "#d8576b"
             ],
             [
              0.6666666666666666,
              "#ed7953"
             ],
             [
              0.7777777777777778,
              "#fb9f3a"
             ],
             [
              0.8888888888888888,
              "#fdca26"
             ],
             [
              1,
              "#f0f921"
             ]
            ],
            "type": "heatmapgl"
           }
          ],
          "histogram": [
           {
            "marker": {
             "colorbar": {
              "outlinewidth": 0,
              "ticks": ""
             }
            },
            "type": "histogram"
           }
          ],
          "histogram2d": [
           {
            "colorbar": {
             "outlinewidth": 0,
             "ticks": ""
            },
            "colorscale": [
             [
              0,
              "#0d0887"
             ],
             [
              0.1111111111111111,
              "#46039f"
             ],
             [
              0.2222222222222222,
              "#7201a8"
             ],
             [
              0.3333333333333333,
              "#9c179e"
             ],
             [
              0.4444444444444444,
              "#bd3786"
             ],
             [
              0.5555555555555556,
              "#d8576b"
             ],
             [
              0.6666666666666666,
              "#ed7953"
             ],
             [
              0.7777777777777778,
              "#fb9f3a"
             ],
             [
              0.8888888888888888,
              "#fdca26"
             ],
             [
              1,
              "#f0f921"
             ]
            ],
            "type": "histogram2d"
           }
          ],
          "histogram2dcontour": [
           {
            "colorbar": {
             "outlinewidth": 0,
             "ticks": ""
            },
            "colorscale": [
             [
              0,
              "#0d0887"
             ],
             [
              0.1111111111111111,
              "#46039f"
             ],
             [
              0.2222222222222222,
              "#7201a8"
             ],
             [
              0.3333333333333333,
              "#9c179e"
             ],
             [
              0.4444444444444444,
              "#bd3786"
             ],
             [
              0.5555555555555556,
              "#d8576b"
             ],
             [
              0.6666666666666666,
              "#ed7953"
             ],
             [
              0.7777777777777778,
              "#fb9f3a"
             ],
             [
              0.8888888888888888,
              "#fdca26"
             ],
             [
              1,
              "#f0f921"
             ]
            ],
            "type": "histogram2dcontour"
           }
          ],
          "mesh3d": [
           {
            "colorbar": {
             "outlinewidth": 0,
             "ticks": ""
            },
            "type": "mesh3d"
           }
          ],
          "parcoords": [
           {
            "line": {
             "colorbar": {
              "outlinewidth": 0,
              "ticks": ""
             }
            },
            "type": "parcoords"
           }
          ],
          "pie": [
           {
            "automargin": true,
            "type": "pie"
           }
          ],
          "scatter": [
           {
            "marker": {
             "line": {
              "color": "#283442"
             }
            },
            "type": "scatter"
           }
          ],
          "scatter3d": [
           {
            "line": {
             "colorbar": {
              "outlinewidth": 0,
              "ticks": ""
             }
            },
            "marker": {
             "colorbar": {
              "outlinewidth": 0,
              "ticks": ""
             }
            },
            "type": "scatter3d"
           }
          ],
          "scattercarpet": [
           {
            "marker": {
             "colorbar": {
              "outlinewidth": 0,
              "ticks": ""
             }
            },
            "type": "scattercarpet"
           }
          ],
          "scattergeo": [
           {
            "marker": {
             "colorbar": {
              "outlinewidth": 0,
              "ticks": ""
             }
            },
            "type": "scattergeo"
           }
          ],
          "scattergl": [
           {
            "marker": {
             "line": {
              "color": "#283442"
             }
            },
            "type": "scattergl"
           }
          ],
          "scattermapbox": [
           {
            "marker": {
             "colorbar": {
              "outlinewidth": 0,
              "ticks": ""
             }
            },
            "type": "scattermapbox"
           }
          ],
          "scatterpolar": [
           {
            "marker": {
             "colorbar": {
              "outlinewidth": 0,
              "ticks": ""
             }
            },
            "type": "scatterpolar"
           }
          ],
          "scatterpolargl": [
           {
            "marker": {
             "colorbar": {
              "outlinewidth": 0,
              "ticks": ""
             }
            },
            "type": "scatterpolargl"
           }
          ],
          "scatterternary": [
           {
            "marker": {
             "colorbar": {
              "outlinewidth": 0,
              "ticks": ""
             }
            },
            "type": "scatterternary"
           }
          ],
          "surface": [
           {
            "colorbar": {
             "outlinewidth": 0,
             "ticks": ""
            },
            "colorscale": [
             [
              0,
              "#0d0887"
             ],
             [
              0.1111111111111111,
              "#46039f"
             ],
             [
              0.2222222222222222,
              "#7201a8"
             ],
             [
              0.3333333333333333,
              "#9c179e"
             ],
             [
              0.4444444444444444,
              "#bd3786"
             ],
             [
              0.5555555555555556,
              "#d8576b"
             ],
             [
              0.6666666666666666,
              "#ed7953"
             ],
             [
              0.7777777777777778,
              "#fb9f3a"
             ],
             [
              0.8888888888888888,
              "#fdca26"
             ],
             [
              1,
              "#f0f921"
             ]
            ],
            "type": "surface"
           }
          ],
          "table": [
           {
            "cells": {
             "fill": {
              "color": "#506784"
             },
             "line": {
              "color": "rgb(17,17,17)"
             }
            },
            "header": {
             "fill": {
              "color": "#2a3f5f"
             },
             "line": {
              "color": "rgb(17,17,17)"
             }
            },
            "type": "table"
           }
          ]
         },
         "layout": {
          "annotationdefaults": {
           "arrowcolor": "#f2f5fa",
           "arrowhead": 0,
           "arrowwidth": 1
          },
          "coloraxis": {
           "colorbar": {
            "outlinewidth": 0,
            "ticks": ""
           }
          },
          "colorscale": {
           "diverging": [
            [
             0,
             "#8e0152"
            ],
            [
             0.1,
             "#c51b7d"
            ],
            [
             0.2,
             "#de77ae"
            ],
            [
             0.3,
             "#f1b6da"
            ],
            [
             0.4,
             "#fde0ef"
            ],
            [
             0.5,
             "#f7f7f7"
            ],
            [
             0.6,
             "#e6f5d0"
            ],
            [
             0.7,
             "#b8e186"
            ],
            [
             0.8,
             "#7fbc41"
            ],
            [
             0.9,
             "#4d9221"
            ],
            [
             1,
             "#276419"
            ]
           ],
           "sequential": [
            [
             0,
             "#0d0887"
            ],
            [
             0.1111111111111111,
             "#46039f"
            ],
            [
             0.2222222222222222,
             "#7201a8"
            ],
            [
             0.3333333333333333,
             "#9c179e"
            ],
            [
             0.4444444444444444,
             "#bd3786"
            ],
            [
             0.5555555555555556,
             "#d8576b"
            ],
            [
             0.6666666666666666,
             "#ed7953"
            ],
            [
             0.7777777777777778,
             "#fb9f3a"
            ],
            [
             0.8888888888888888,
             "#fdca26"
            ],
            [
             1,
             "#f0f921"
            ]
           ],
           "sequentialminus": [
            [
             0,
             "#0d0887"
            ],
            [
             0.1111111111111111,
             "#46039f"
            ],
            [
             0.2222222222222222,
             "#7201a8"
            ],
            [
             0.3333333333333333,
             "#9c179e"
            ],
            [
             0.4444444444444444,
             "#bd3786"
            ],
            [
             0.5555555555555556,
             "#d8576b"
            ],
            [
             0.6666666666666666,
             "#ed7953"
            ],
            [
             0.7777777777777778,
             "#fb9f3a"
            ],
            [
             0.8888888888888888,
             "#fdca26"
            ],
            [
             1,
             "#f0f921"
            ]
           ]
          },
          "colorway": [
           "#636efa",
           "#EF553B",
           "#00cc96",
           "#ab63fa",
           "#FFA15A",
           "#19d3f3",
           "#FF6692",
           "#B6E880",
           "#FF97FF",
           "#FECB52"
          ],
          "font": {
           "color": "#f2f5fa"
          },
          "geo": {
           "bgcolor": "rgb(17,17,17)",
           "lakecolor": "rgb(17,17,17)",
           "landcolor": "rgb(17,17,17)",
           "showlakes": true,
           "showland": true,
           "subunitcolor": "#506784"
          },
          "hoverlabel": {
           "align": "left"
          },
          "hovermode": "closest",
          "mapbox": {
           "style": "dark"
          },
          "paper_bgcolor": "rgb(17,17,17)",
          "plot_bgcolor": "rgb(17,17,17)",
          "polar": {
           "angularaxis": {
            "gridcolor": "#506784",
            "linecolor": "#506784",
            "ticks": ""
           },
           "bgcolor": "rgb(17,17,17)",
           "radialaxis": {
            "gridcolor": "#506784",
            "linecolor": "#506784",
            "ticks": ""
           }
          },
          "scene": {
           "xaxis": {
            "backgroundcolor": "rgb(17,17,17)",
            "gridcolor": "#506784",
            "gridwidth": 2,
            "linecolor": "#506784",
            "showbackground": true,
            "ticks": "",
            "zerolinecolor": "#C8D4E3"
           },
           "yaxis": {
            "backgroundcolor": "rgb(17,17,17)",
            "gridcolor": "#506784",
            "gridwidth": 2,
            "linecolor": "#506784",
            "showbackground": true,
            "ticks": "",
            "zerolinecolor": "#C8D4E3"
           },
           "zaxis": {
            "backgroundcolor": "rgb(17,17,17)",
            "gridcolor": "#506784",
            "gridwidth": 2,
            "linecolor": "#506784",
            "showbackground": true,
            "ticks": "",
            "zerolinecolor": "#C8D4E3"
           }
          },
          "shapedefaults": {
           "line": {
            "color": "#f2f5fa"
           }
          },
          "sliderdefaults": {
           "bgcolor": "#C8D4E3",
           "bordercolor": "rgb(17,17,17)",
           "borderwidth": 1,
           "tickwidth": 0
          },
          "ternary": {
           "aaxis": {
            "gridcolor": "#506784",
            "linecolor": "#506784",
            "ticks": ""
           },
           "baxis": {
            "gridcolor": "#506784",
            "linecolor": "#506784",
            "ticks": ""
           },
           "bgcolor": "rgb(17,17,17)",
           "caxis": {
            "gridcolor": "#506784",
            "linecolor": "#506784",
            "ticks": ""
           }
          },
          "title": {
           "x": 0.05
          },
          "updatemenudefaults": {
           "bgcolor": "#506784",
           "borderwidth": 0
          },
          "xaxis": {
           "automargin": true,
           "gridcolor": "#283442",
           "linecolor": "#506784",
           "ticks": "",
           "title": {
            "standoff": 15
           },
           "zerolinecolor": "#283442",
           "zerolinewidth": 2
          },
          "yaxis": {
           "automargin": true,
           "gridcolor": "#283442",
           "linecolor": "#506784",
           "ticks": "",
           "title": {
            "standoff": 15
           },
           "zerolinecolor": "#283442",
           "zerolinewidth": 2
          }
         }
        },
        "title": {
         "text": "Average Week Day Polarity of Stock Headlines"
        },
        "xaxis": {
         "anchor": "y",
         "domain": [
          0,
          1
         ],
         "title": {
          "text": "Day of Week"
         }
        },
        "yaxis": {
         "anchor": "x",
         "domain": [
          0,
          1
         ],
         "title": {
          "text": "Polarity"
         }
        }
       }
      },
      "text/html": [
       "<div>                            <div id=\"0820bbbc-d6c5-4519-9884-ca754eedb388\" class=\"plotly-graph-div\" style=\"height:525px; width:100%;\"></div>            <script type=\"text/javascript\">                require([\"plotly\"], function(Plotly) {                    window.PLOTLYENV=window.PLOTLYENV || {};                                    if (document.getElementById(\"0820bbbc-d6c5-4519-9884-ca754eedb388\")) {                    Plotly.newPlot(                        \"0820bbbc-d6c5-4519-9884-ca754eedb388\",                        [{\"alignmentgroup\": \"True\", \"hovertemplate\": \"ticker=AAPL<br>Day of Week=%{x}<br>Polarity=%{y}<extra></extra>\", \"legendgroup\": \"AAPL\", \"marker\": {\"color\": \"rgb(36, 86, 104)\"}, \"name\": \"AAPL\", \"offsetgroup\": \"AAPL\", \"orientation\": \"v\", \"showlegend\": true, \"textposition\": \"auto\", \"type\": \"bar\", \"x\": [0, 1, 2, 3, 4, 5, 6], \"xaxis\": \"x\", \"y\": [0.19214749536178105, 0.22476190476190475, null, 0.24285714285714285, null, null, 0.1403799903799904], \"yaxis\": \"y\"}, {\"alignmentgroup\": \"True\", \"hovertemplate\": \"ticker=ABBV<br>Day of Week=%{x}<br>Polarity=%{y}<extra></extra>\", \"legendgroup\": \"ABBV\", \"marker\": {\"color\": \"rgb(15, 114, 121)\"}, \"name\": \"ABBV\", \"offsetgroup\": \"ABBV\", \"orientation\": \"v\", \"showlegend\": true, \"textposition\": \"auto\", \"type\": \"bar\", \"x\": [0, 1, 2, 3, 4, 5, 6], \"xaxis\": \"x\", \"y\": [0.175, 0.12361111111111114, -0.16666666666666666, 0.20782828282828283, 0.23825757575757578, 0.2866666666666666, null], \"yaxis\": \"y\"}, {\"alignmentgroup\": \"True\", \"hovertemplate\": \"ticker=ABT<br>Day of Week=%{x}<br>Polarity=%{y}<extra></extra>\", \"legendgroup\": \"ABT\", \"marker\": {\"color\": \"rgb(13, 143, 129)\"}, \"name\": \"ABT\", \"offsetgroup\": \"ABT\", \"orientation\": \"v\", \"showlegend\": true, \"textposition\": \"auto\", \"type\": \"bar\", \"x\": [0, 1, 2, 3, 4, 5, 6], \"xaxis\": \"x\", \"y\": [0.016666666666666663, 0.07363636363636364, -0.07666666666666666, null, 0.10000000000000002, 6.938893903907228e-18, -0.03434343434343432], \"yaxis\": \"y\"}, {\"alignmentgroup\": \"True\", \"hovertemplate\": \"ticker=ADBE<br>Day of Week=%{x}<br>Polarity=%{y}<extra></extra>\", \"legendgroup\": \"ADBE\", \"marker\": {\"color\": \"rgb(57, 171, 126)\"}, \"name\": \"ADBE\", \"offsetgroup\": \"ADBE\", \"orientation\": \"v\", \"showlegend\": true, \"textposition\": \"auto\", \"type\": \"bar\", \"x\": [0, 1, 2, 3, 4, 5, 6], \"xaxis\": \"x\", \"y\": [0.6, 0.0625, null, 0.07, 0.21666666666666667, 0.275, 0.25], \"yaxis\": \"y\"}, {\"alignmentgroup\": \"True\", \"hovertemplate\": \"ticker=AMZN<br>Day of Week=%{x}<br>Polarity=%{y}<extra></extra>\", \"legendgroup\": \"AMZN\", \"marker\": {\"color\": \"rgb(110, 197, 116)\"}, \"name\": \"AMZN\", \"offsetgroup\": \"AMZN\", \"orientation\": \"v\", \"showlegend\": true, \"textposition\": \"auto\", \"type\": \"bar\", \"x\": [0, 1, 2, 3, 4, 5, 6], \"xaxis\": \"x\", \"y\": [0.21656862745098038, 0.3666666666666667, -0.6, -0.21547619047619046, null, null, 0.06906565656565657], \"yaxis\": \"y\"}, {\"alignmentgroup\": \"True\", \"hovertemplate\": \"ticker=ASML<br>Day of Week=%{x}<br>Polarity=%{y}<extra></extra>\", \"legendgroup\": \"ASML\", \"marker\": {\"color\": \"rgb(169, 220, 103)\"}, \"name\": \"ASML\", \"offsetgroup\": \"ASML\", \"orientation\": \"v\", \"showlegend\": true, \"textposition\": \"auto\", \"type\": \"bar\", \"x\": [0, 1, 2, 3, 4, 5, 6], \"xaxis\": \"x\", \"y\": [0.2596049783549783, 0.2506060606060606, 0.7, 0.06944444444444443, 0.12348484848484848, null, 0.15], \"yaxis\": \"y\"}, {\"alignmentgroup\": \"True\", \"hovertemplate\": \"ticker=BABA<br>Day of Week=%{x}<br>Polarity=%{y}<extra></extra>\", \"legendgroup\": \"BABA\", \"marker\": {\"color\": \"rgb(237, 239, 93)\"}, \"name\": \"BABA\", \"offsetgroup\": \"BABA\", \"orientation\": \"v\", \"showlegend\": true, \"textposition\": \"auto\", \"type\": \"bar\", \"x\": [0, 1, 2, 3, 4, 5, 6], \"xaxis\": \"x\", \"y\": [0.1024090909090909, 0.23214285714285715, null, 0.13636363636363635, 0.2716161616161616, 0.23333333333333334, 0.020634920634920634], \"yaxis\": \"y\"}, {\"alignmentgroup\": \"True\", \"hovertemplate\": \"ticker=BAC<br>Day of Week=%{x}<br>Polarity=%{y}<extra></extra>\", \"legendgroup\": \"BAC\", \"marker\": {\"color\": \"rgb(36, 86, 104)\"}, \"name\": \"BAC\", \"offsetgroup\": \"BAC\", \"orientation\": \"v\", \"showlegend\": true, \"textposition\": \"auto\", \"type\": \"bar\", \"x\": [0, 1, 2, 3, 4, 5, 6], \"xaxis\": \"x\", \"y\": [0.39123376623376627, null, null, 0.4, 0.25, null, -0.005656565656565659], \"yaxis\": \"y\"}, {\"alignmentgroup\": \"True\", \"hovertemplate\": \"ticker=CMCSA<br>Day of Week=%{x}<br>Polarity=%{y}<extra></extra>\", \"legendgroup\": \"CMCSA\", \"marker\": {\"color\": \"rgb(15, 114, 121)\"}, \"name\": \"CMCSA\", \"offsetgroup\": \"CMCSA\", \"orientation\": \"v\", \"showlegend\": true, \"textposition\": \"auto\", \"type\": \"bar\", \"x\": [0, 1, 2, 3, 4, 5, 6], \"xaxis\": \"x\", \"y\": [0.1354978354978355, null, null, 0.375, -0.05, 0.13333333333333333, -0.02677616501145913], \"yaxis\": \"y\"}, {\"alignmentgroup\": \"True\", \"hovertemplate\": \"ticker=COST<br>Day of Week=%{x}<br>Polarity=%{y}<extra></extra>\", \"legendgroup\": \"COST\", \"marker\": {\"color\": \"rgb(13, 143, 129)\"}, \"name\": \"COST\", \"offsetgroup\": \"COST\", \"orientation\": \"v\", \"showlegend\": true, \"textposition\": \"auto\", \"type\": \"bar\", \"x\": [0, 1, 2, 3, 4, 5, 6], \"xaxis\": \"x\", \"y\": [0.16906565656565656, null, null, 0.18106060606060606, 0.2305194805194805, null, 0.37013888888888885], \"yaxis\": \"y\"}, {\"alignmentgroup\": \"True\", \"hovertemplate\": \"ticker=CRM<br>Day of Week=%{x}<br>Polarity=%{y}<extra></extra>\", \"legendgroup\": \"CRM\", \"marker\": {\"color\": \"rgb(57, 171, 126)\"}, \"name\": \"CRM\", \"offsetgroup\": \"CRM\", \"orientation\": \"v\", \"showlegend\": true, \"textposition\": \"auto\", \"type\": \"bar\", \"x\": [0, 1, 2, 3, 4, 5, 6], \"xaxis\": \"x\", \"y\": [0.38541666666666663, 0.1958333333333333, null, 0.06818181818181818, -0.09999999999999999, 0.11363636363636363, 0.14820913213770356], \"yaxis\": \"y\"}, {\"alignmentgroup\": \"True\", \"hovertemplate\": \"ticker=CSCO<br>Day of Week=%{x}<br>Polarity=%{y}<extra></extra>\", \"legendgroup\": \"CSCO\", \"marker\": {\"color\": \"rgb(110, 197, 116)\"}, \"name\": \"CSCO\", \"offsetgroup\": \"CSCO\", \"orientation\": \"v\", \"showlegend\": true, \"textposition\": \"auto\", \"type\": \"bar\", \"x\": [0, 1, 2, 3, 4, 5, 6], \"xaxis\": \"x\", \"y\": [0.2111111111111111, 0.12175324675324675, 0.10714285714285714, 0.13636363636363635, 0.17245454545454547, 0.19285714285714287, 0.1888257575757576], \"yaxis\": \"y\"}, {\"alignmentgroup\": \"True\", \"hovertemplate\": \"ticker=CVX<br>Day of Week=%{x}<br>Polarity=%{y}<extra></extra>\", \"legendgroup\": \"CVX\", \"marker\": {\"color\": \"rgb(169, 220, 103)\"}, \"name\": \"CVX\", \"offsetgroup\": \"CVX\", \"orientation\": \"v\", \"showlegend\": true, \"textposition\": \"auto\", \"type\": \"bar\", \"x\": [0, 1, 2, 3, 4, 5, 6], \"xaxis\": \"x\", \"y\": [0.25, 0.3, null, null, 0.43888888888888894, -0.17276785714285714, 0.15876015797068432], \"yaxis\": \"y\"}, {\"alignmentgroup\": \"True\", \"hovertemplate\": \"ticker=DHR<br>Day of Week=%{x}<br>Polarity=%{y}<extra></extra>\", \"legendgroup\": \"DHR\", \"marker\": {\"color\": \"rgb(237, 239, 93)\"}, \"name\": \"DHR\", \"offsetgroup\": \"DHR\", \"orientation\": \"v\", \"showlegend\": true, \"textposition\": \"auto\", \"type\": \"bar\", \"x\": [0, 1, 2, 3, 4, 5, 6], \"xaxis\": \"x\", \"y\": [0.18939393939393936, -0.03636363636363637, 0.28750000000000003, null, null, 0.26666666666666666, 0.5], \"yaxis\": \"y\"}, {\"alignmentgroup\": \"True\", \"hovertemplate\": \"ticker=DIS<br>Day of Week=%{x}<br>Polarity=%{y}<extra></extra>\", \"legendgroup\": \"DIS\", \"marker\": {\"color\": \"rgb(36, 86, 104)\"}, \"name\": \"DIS\", \"offsetgroup\": \"DIS\", \"orientation\": \"v\", \"showlegend\": true, \"textposition\": \"auto\", \"type\": \"bar\", \"x\": [0, 1, 2, 3, 4, 5, 6], \"xaxis\": \"x\", \"y\": [0.07358080808080808, null, 0.5136363636363637, 1.0, null, null, 0.5], \"yaxis\": \"y\"}, {\"alignmentgroup\": \"True\", \"hovertemplate\": \"ticker=GOOG<br>Day of Week=%{x}<br>Polarity=%{y}<extra></extra>\", \"legendgroup\": \"GOOG\", \"marker\": {\"color\": \"rgb(15, 114, 121)\"}, \"name\": \"GOOG\", \"offsetgroup\": \"GOOG\", \"orientation\": \"v\", \"showlegend\": true, \"textposition\": \"auto\", \"type\": \"bar\", \"x\": [0, 1, 2, 3, 4, 5, 6], \"xaxis\": \"x\", \"y\": [0.16385796742939598, null, null, 0.4, 0.665625, null, 0.4211309523809524], \"yaxis\": \"y\"}, {\"alignmentgroup\": \"True\", \"hovertemplate\": \"ticker=GOOGL<br>Day of Week=%{x}<br>Polarity=%{y}<extra></extra>\", \"legendgroup\": \"GOOGL\", \"marker\": {\"color\": \"rgb(13, 143, 129)\"}, \"name\": \"GOOGL\", \"offsetgroup\": \"GOOGL\", \"orientation\": \"v\", \"showlegend\": true, \"textposition\": \"auto\", \"type\": \"bar\", \"x\": [0, 1, 2, 3, 4, 5, 6], \"xaxis\": \"x\", \"y\": [0.15196452098626012, null, null, 0.4, 0.665625, null, 0.6071428571428571], \"yaxis\": \"y\"}, {\"alignmentgroup\": \"True\", \"hovertemplate\": \"ticker=HD<br>Day of Week=%{x}<br>Polarity=%{y}<extra></extra>\", \"legendgroup\": \"HD\", \"marker\": {\"color\": \"rgb(57, 171, 126)\"}, \"name\": \"HD\", \"offsetgroup\": \"HD\", \"orientation\": \"v\", \"showlegend\": true, \"textposition\": \"auto\", \"type\": \"bar\", \"x\": [0, 1, 2, 3, 4, 5, 6], \"xaxis\": \"x\", \"y\": [null, -0.15000000000000002, 0.225, 0.22992424242424245, 0.05909090909090908, 0.4819444444444444, 0.06997354497354497], \"yaxis\": \"y\"}, {\"alignmentgroup\": \"True\", \"hovertemplate\": \"ticker=INTC<br>Day of Week=%{x}<br>Polarity=%{y}<extra></extra>\", \"legendgroup\": \"INTC\", \"marker\": {\"color\": \"rgb(110, 197, 116)\"}, \"name\": \"INTC\", \"offsetgroup\": \"INTC\", \"orientation\": \"v\", \"showlegend\": true, \"textposition\": \"auto\", \"type\": \"bar\", \"x\": [0, 1, 2, 3, 4, 5, 6], \"xaxis\": \"x\", \"y\": [0.18407828282828284, null, 0.21212121212121213, null, null, 0.17988215488215487, 0.047011784511784505], \"yaxis\": \"y\"}, {\"alignmentgroup\": \"True\", \"hovertemplate\": \"ticker=JNJ<br>Day of Week=%{x}<br>Polarity=%{y}<extra></extra>\", \"legendgroup\": \"JNJ\", \"marker\": {\"color\": \"rgb(169, 220, 103)\"}, \"name\": \"JNJ\", \"offsetgroup\": \"JNJ\", \"orientation\": \"v\", \"showlegend\": true, \"textposition\": \"auto\", \"type\": \"bar\", \"x\": [0, 1, 2, 3, 4, 5, 6], \"xaxis\": \"x\", \"y\": [0.16687799043062201, null, null, 0.5, null, null, null], \"yaxis\": \"y\"}, {\"alignmentgroup\": \"True\", \"hovertemplate\": \"ticker=JPM<br>Day of Week=%{x}<br>Polarity=%{y}<extra></extra>\", \"legendgroup\": \"JPM\", \"marker\": {\"color\": \"rgb(237, 239, 93)\"}, \"name\": \"JPM\", \"offsetgroup\": \"JPM\", \"orientation\": \"v\", \"showlegend\": true, \"textposition\": \"auto\", \"type\": \"bar\", \"x\": [0, 1, 2, 3, 4, 5, 6], \"xaxis\": \"x\", \"y\": [0.15132575757575759, 0.04242424242424243, null, -0.02500000000000001, 0.18333333333333335, -0.1, 0.07614237614237614], \"yaxis\": \"y\"}, {\"alignmentgroup\": \"True\", \"hovertemplate\": \"ticker=KO<br>Day of Week=%{x}<br>Polarity=%{y}<extra></extra>\", \"legendgroup\": \"KO\", \"marker\": {\"color\": \"rgb(36, 86, 104)\"}, \"name\": \"KO\", \"offsetgroup\": \"KO\", \"orientation\": \"v\", \"showlegend\": true, \"textposition\": \"auto\", \"type\": \"bar\", \"x\": [0, 1, 2, 3, 4, 5, 6], \"xaxis\": \"x\", \"y\": [0.2215909090909091, null, null, null, -0.06060606060606061, 0.18219696969696966, 0.35401515151515156], \"yaxis\": \"y\"}, {\"alignmentgroup\": \"True\", \"hovertemplate\": \"ticker=MA<br>Day of Week=%{x}<br>Polarity=%{y}<extra></extra>\", \"legendgroup\": \"MA\", \"marker\": {\"color\": \"rgb(15, 114, 121)\"}, \"name\": \"MA\", \"offsetgroup\": \"MA\", \"orientation\": \"v\", \"showlegend\": true, \"textposition\": \"auto\", \"type\": \"bar\", \"x\": [0, 1, 2, 3, 4, 5, 6], \"xaxis\": \"x\", \"y\": [0.33690476190476193, 0.05, -0.001388888888888884, 0.2333333333333333, 0.1400462962962963, 0.050520833333333334, null], \"yaxis\": \"y\"}, {\"alignmentgroup\": \"True\", \"hovertemplate\": \"ticker=MCD<br>Day of Week=%{x}<br>Polarity=%{y}<extra></extra>\", \"legendgroup\": \"MCD\", \"marker\": {\"color\": \"rgb(13, 143, 129)\"}, \"name\": \"MCD\", \"offsetgroup\": \"MCD\", \"orientation\": \"v\", \"showlegend\": true, \"textposition\": \"auto\", \"type\": \"bar\", \"x\": [0, 1, 2, 3, 4, 5, 6], \"xaxis\": \"x\", \"y\": [0.19318181818181818, 0.16944444444444443, 0.3, 0.09999999999999999, -0.05227272727272726, -0.052777777777777785, -0.19399621212121212], \"yaxis\": \"y\"}, {\"alignmentgroup\": \"True\", \"hovertemplate\": \"ticker=MRK<br>Day of Week=%{x}<br>Polarity=%{y}<extra></extra>\", \"legendgroup\": \"MRK\", \"marker\": {\"color\": \"rgb(57, 171, 126)\"}, \"name\": \"MRK\", \"offsetgroup\": \"MRK\", \"orientation\": \"v\", \"showlegend\": true, \"textposition\": \"auto\", \"type\": \"bar\", \"x\": [0, 1, 2, 3, 4, 5, 6], \"xaxis\": \"x\", \"y\": [-0.017857142857142863, 0.16363636363636364, 0.033333333333333326, 0.008333333333333326, -0.02215909090909092, 0.06679894179894179, 0.07142857142857144], \"yaxis\": \"y\"}, {\"alignmentgroup\": \"True\", \"hovertemplate\": \"ticker=MSFT<br>Day of Week=%{x}<br>Polarity=%{y}<extra></extra>\", \"legendgroup\": \"MSFT\", \"marker\": {\"color\": \"rgb(110, 197, 116)\"}, \"name\": \"MSFT\", \"offsetgroup\": \"MSFT\", \"orientation\": \"v\", \"showlegend\": true, \"textposition\": \"auto\", \"type\": \"bar\", \"x\": [0, 1, 2, 3, 4, 5, 6], \"xaxis\": \"x\", \"y\": [0.21037731208185753, null, null, 0.1, 0.18484848484848482, null, 0.19932659932659932], \"yaxis\": \"y\"}, {\"alignmentgroup\": \"True\", \"hovertemplate\": \"ticker=NFLX<br>Day of Week=%{x}<br>Polarity=%{y}<extra></extra>\", \"legendgroup\": \"NFLX\", \"marker\": {\"color\": \"rgb(169, 220, 103)\"}, \"name\": \"NFLX\", \"offsetgroup\": \"NFLX\", \"orientation\": \"v\", \"showlegend\": true, \"textposition\": \"auto\", \"type\": \"bar\", \"x\": [0, 1, 2, 3, 4, 5, 6], \"xaxis\": \"x\", \"y\": [0.18174469563358453, 0.06818181818181818, -0.05, 0.05, null, null, 0.025541125541125555], \"yaxis\": \"y\"}, {\"alignmentgroup\": \"True\", \"hovertemplate\": \"ticker=NVDA<br>Day of Week=%{x}<br>Polarity=%{y}<extra></extra>\", \"legendgroup\": \"NVDA\", \"marker\": {\"color\": \"rgb(237, 239, 93)\"}, \"name\": \"NVDA\", \"offsetgroup\": \"NVDA\", \"orientation\": \"v\", \"showlegend\": true, \"textposition\": \"auto\", \"type\": \"bar\", \"x\": [0, 1, 2, 3, 4, 5, 6], \"xaxis\": \"x\", \"y\": [0.2183874458874459, -0.1, 0.17424242424242425, null, 0.21428571428571427, 0.38888888888888884, -0.16388888888888895], \"yaxis\": \"y\"}, {\"alignmentgroup\": \"True\", \"hovertemplate\": \"ticker=NVS<br>Day of Week=%{x}<br>Polarity=%{y}<extra></extra>\", \"legendgroup\": \"NVS\", \"marker\": {\"color\": \"rgb(36, 86, 104)\"}, \"name\": \"NVS\", \"offsetgroup\": \"NVS\", \"orientation\": \"v\", \"showlegend\": true, \"textposition\": \"auto\", \"type\": \"bar\", \"x\": [0, 1, 2, 3, 4, 5, 6], \"xaxis\": \"x\", \"y\": [-0.075, null, 0.475, 0.20547979797979798, 0.2484126984126984, null, 0.08090132090132089], \"yaxis\": \"y\"}, {\"alignmentgroup\": \"True\", \"hovertemplate\": \"ticker=ORCL<br>Day of Week=%{x}<br>Polarity=%{y}<extra></extra>\", \"legendgroup\": \"ORCL\", \"marker\": {\"color\": \"rgb(15, 114, 121)\"}, \"name\": \"ORCL\", \"offsetgroup\": \"ORCL\", \"orientation\": \"v\", \"showlegend\": true, \"textposition\": \"auto\", \"type\": \"bar\", \"x\": [0, 1, 2, 3, 4, 5, 6], \"xaxis\": \"x\", \"y\": [0.22727272727272727, null, 0.13636363636363635, -0.1, -0.21666666666666665, 0.00714285714285715, -0.5], \"yaxis\": \"y\"}, {\"alignmentgroup\": \"True\", \"hovertemplate\": \"ticker=PDD<br>Day of Week=%{x}<br>Polarity=%{y}<extra></extra>\", \"legendgroup\": \"PDD\", \"marker\": {\"color\": \"rgb(13, 143, 129)\"}, \"name\": \"PDD\", \"offsetgroup\": \"PDD\", \"orientation\": \"v\", \"showlegend\": true, \"textposition\": \"auto\", \"type\": \"bar\", \"x\": [0, 1, 2, 3, 4, 5, 6], \"xaxis\": \"x\", \"y\": [-0.6, 0.425, 0.25, 0.29424242424242425, 0.05142075517075518, 0.0711038961038961, 0.15], \"yaxis\": \"y\"}, {\"alignmentgroup\": \"True\", \"hovertemplate\": \"ticker=PEP<br>Day of Week=%{x}<br>Polarity=%{y}<extra></extra>\", \"legendgroup\": \"PEP\", \"marker\": {\"color\": \"rgb(57, 171, 126)\"}, \"name\": \"PEP\", \"offsetgroup\": \"PEP\", \"orientation\": \"v\", \"showlegend\": true, \"textposition\": \"auto\", \"type\": \"bar\", \"x\": [0, 1, 2, 3, 4, 5, 6], \"xaxis\": \"x\", \"y\": [0.11161616161616161, -0.04924242424242424, 0.13804713804713806, 0.20166666666666666, 0.19494949494949496, 0.016883116883116885, 0.03333333333333333], \"yaxis\": \"y\"}, {\"alignmentgroup\": \"True\", \"hovertemplate\": \"ticker=PFE<br>Day of Week=%{x}<br>Polarity=%{y}<extra></extra>\", \"legendgroup\": \"PFE\", \"marker\": {\"color\": \"rgb(110, 197, 116)\"}, \"name\": \"PFE\", \"offsetgroup\": \"PFE\", \"orientation\": \"v\", \"showlegend\": true, \"textposition\": \"auto\", \"type\": \"bar\", \"x\": [0, 1, 2, 3, 4, 5, 6], \"xaxis\": \"x\", \"y\": [0.16124242424242427, 0.3, 0.06818181818181818, 0.36189393939393943, null, null, 0.3190476190476191], \"yaxis\": \"y\"}, {\"alignmentgroup\": \"True\", \"hovertemplate\": \"ticker=PG<br>Day of Week=%{x}<br>Polarity=%{y}<extra></extra>\", \"legendgroup\": \"PG\", \"marker\": {\"color\": \"rgb(169, 220, 103)\"}, \"name\": \"PG\", \"offsetgroup\": \"PG\", \"orientation\": \"v\", \"showlegend\": true, \"textposition\": \"auto\", \"type\": \"bar\", \"x\": [0, 1, 2, 3, 4, 5, 6], \"xaxis\": \"x\", \"y\": [0.011882716049382708, 0.16717171717171717, null, null, 0.15810657596371883, -0.15, 0.35], \"yaxis\": \"y\"}, {\"alignmentgroup\": \"True\", \"hovertemplate\": \"ticker=PYPL<br>Day of Week=%{x}<br>Polarity=%{y}<extra></extra>\", \"legendgroup\": \"PYPL\", \"marker\": {\"color\": \"rgb(237, 239, 93)\"}, \"name\": \"PYPL\", \"offsetgroup\": \"PYPL\", \"orientation\": \"v\", \"showlegend\": true, \"textposition\": \"auto\", \"type\": \"bar\", \"x\": [0, 1, 2, 3, 4, 5, 6], \"xaxis\": \"x\", \"y\": [0.2912037037037037, 0.575, 0.5, 0.10909090909090909, null, null, 0.13676353535353533], \"yaxis\": \"y\"}, {\"alignmentgroup\": \"True\", \"hovertemplate\": \"ticker=T<br>Day of Week=%{x}<br>Polarity=%{y}<extra></extra>\", \"legendgroup\": \"T\", \"marker\": {\"color\": \"rgb(36, 86, 104)\"}, \"name\": \"T\", \"offsetgroup\": \"T\", \"orientation\": \"v\", \"showlegend\": true, \"textposition\": \"auto\", \"type\": \"bar\", \"x\": [0, 1, 2, 3, 4, 5, 6], \"xaxis\": \"x\", \"y\": [0.27878787878787875, 0.15, null, 0.1787878787878788, 0.4, null, -0.06477272727272727], \"yaxis\": \"y\"}, {\"alignmentgroup\": \"True\", \"hovertemplate\": \"ticker=TM<br>Day of Week=%{x}<br>Polarity=%{y}<extra></extra>\", \"legendgroup\": \"TM\", \"marker\": {\"color\": \"rgb(15, 114, 121)\"}, \"name\": \"TM\", \"offsetgroup\": \"TM\", \"orientation\": \"v\", \"showlegend\": true, \"textposition\": \"auto\", \"type\": \"bar\", \"x\": [0, 1, 2, 3, 4, 5, 6], \"xaxis\": \"x\", \"y\": [0.20913299663299664, 0.39583333333333337, 0.5, 0.09999999999999999, 0.1619047619047619, 0.4520833333333334, 0.11248737373737376], \"yaxis\": \"y\"}, {\"alignmentgroup\": \"True\", \"hovertemplate\": \"ticker=TMO<br>Day of Week=%{x}<br>Polarity=%{y}<extra></extra>\", \"legendgroup\": \"TMO\", \"marker\": {\"color\": \"rgb(13, 143, 129)\"}, \"name\": \"TMO\", \"offsetgroup\": \"TMO\", \"orientation\": \"v\", \"showlegend\": true, \"textposition\": \"auto\", \"type\": \"bar\", \"x\": [0, 1, 2, 3, 4, 5, 6], \"xaxis\": \"x\", \"y\": [0.11666666666666665, null, 0.24333333333333335, 0.13636363636363635, 0.17027777777777783, null, 0.21428571428571427], \"yaxis\": \"y\"}, {\"alignmentgroup\": \"True\", \"hovertemplate\": \"ticker=TMUS<br>Day of Week=%{x}<br>Polarity=%{y}<extra></extra>\", \"legendgroup\": \"TMUS\", \"marker\": {\"color\": \"rgb(57, 171, 126)\"}, \"name\": \"TMUS\", \"offsetgroup\": \"TMUS\", \"orientation\": \"v\", \"showlegend\": true, \"textposition\": \"auto\", \"type\": \"bar\", \"x\": [0, 1, 2, 3, 4, 5, 6], \"xaxis\": \"x\", \"y\": [0.10075757575757577, 0.22499999999999998, 0.13636363636363635, 0.17272727272727273, 0.14531385281385284, 0.1796969696969697, 0.24204545454545454], \"yaxis\": \"y\"}, {\"alignmentgroup\": \"True\", \"hovertemplate\": \"ticker=TSLA<br>Day of Week=%{x}<br>Polarity=%{y}<extra></extra>\", \"legendgroup\": \"TSLA\", \"marker\": {\"color\": \"rgb(110, 197, 116)\"}, \"name\": \"TSLA\", \"offsetgroup\": \"TSLA\", \"orientation\": \"v\", \"showlegend\": true, \"textposition\": \"auto\", \"type\": \"bar\", \"x\": [0, 1, 2, 3, 4, 5, 6], \"xaxis\": \"x\", \"y\": [0.20697278911564623, 0.19999999999999998, null, null, 0.1361111111111111, 0.2, 0.16266684704184703], \"yaxis\": \"y\"}, {\"alignmentgroup\": \"True\", \"hovertemplate\": \"ticker=TSM<br>Day of Week=%{x}<br>Polarity=%{y}<extra></extra>\", \"legendgroup\": \"TSM\", \"marker\": {\"color\": \"rgb(169, 220, 103)\"}, \"name\": \"TSM\", \"offsetgroup\": \"TSM\", \"orientation\": \"v\", \"showlegend\": true, \"textposition\": \"auto\", \"type\": \"bar\", \"x\": [0, 1, 2, 3, 4, 5, 6], \"xaxis\": \"x\", \"y\": [0.5, 0.041666666666666664, 0.03392857142857142, 0.08085858585858585, 0.2734848484848485, 0.1392857142857143, 0.07208719851576993], \"yaxis\": \"y\"}, {\"alignmentgroup\": \"True\", \"hovertemplate\": \"ticker=UN<br>Day of Week=%{x}<br>Polarity=%{y}<extra></extra>\", \"legendgroup\": \"UN\", \"marker\": {\"color\": \"rgb(237, 239, 93)\"}, \"name\": \"UN\", \"offsetgroup\": \"UN\", \"orientation\": \"v\", \"showlegend\": true, \"textposition\": \"auto\", \"type\": \"bar\", \"x\": [0, 1, 2, 3, 4, 5, 6], \"xaxis\": \"x\", \"y\": [null, 0.20000000000000004, -0.2, 0.13636363636363635, 0.275, 0.09999999999999998, -0.2333333333333333], \"yaxis\": \"y\"}, {\"alignmentgroup\": \"True\", \"hovertemplate\": \"ticker=UNH<br>Day of Week=%{x}<br>Polarity=%{y}<extra></extra>\", \"legendgroup\": \"UNH\", \"marker\": {\"color\": \"rgb(36, 86, 104)\"}, \"name\": \"UNH\", \"offsetgroup\": \"UNH\", \"orientation\": \"v\", \"showlegend\": true, \"textposition\": \"auto\", \"type\": \"bar\", \"x\": [0, 1, 2, 3, 4, 5, 6], \"xaxis\": \"x\", \"y\": [0.04545454545454545, -0.1, null, 0.20618686868686864, 0.07575757575757575, 0.5, 0.1268843193843194], \"yaxis\": \"y\"}, {\"alignmentgroup\": \"True\", \"hovertemplate\": \"ticker=VZ<br>Day of Week=%{x}<br>Polarity=%{y}<extra></extra>\", \"legendgroup\": \"VZ\", \"marker\": {\"color\": \"rgb(15, 114, 121)\"}, \"name\": \"VZ\", \"offsetgroup\": \"VZ\", \"orientation\": \"v\", \"showlegend\": true, \"textposition\": \"auto\", \"type\": \"bar\", \"x\": [0, 1, 2, 3, 4, 5, 6], \"xaxis\": \"x\", \"y\": [0.2345238095238095, 0.10714285714285714, 0.25555555555555554, 0.3, 0.26753246753246746, 0.14375, 0.16425133689839574], \"yaxis\": \"y\"}, {\"alignmentgroup\": \"True\", \"hovertemplate\": \"ticker=WMT<br>Day of Week=%{x}<br>Polarity=%{y}<extra></extra>\", \"legendgroup\": \"WMT\", \"marker\": {\"color\": \"rgb(13, 143, 129)\"}, \"name\": \"WMT\", \"offsetgroup\": \"WMT\", \"orientation\": \"v\", \"showlegend\": true, \"textposition\": \"auto\", \"type\": \"bar\", \"x\": [0, 1, 2, 3, 4, 5, 6], \"xaxis\": \"x\", \"y\": [0.11249999999999999, null, null, 0.7, 0.20833333333333334, 0.23854166666666665, 0.0560474537037037], \"yaxis\": \"y\"}],                        {\"barmode\": \"group\", \"legend\": {\"title\": {\"text\": \"ticker\"}, \"tracegroupgap\": 0}, \"template\": {\"data\": {\"bar\": [{\"error_x\": {\"color\": \"#f2f5fa\"}, \"error_y\": {\"color\": \"#f2f5fa\"}, \"marker\": {\"line\": {\"color\": \"rgb(17,17,17)\", \"width\": 0.5}}, \"type\": \"bar\"}], \"barpolar\": [{\"marker\": {\"line\": {\"color\": \"rgb(17,17,17)\", \"width\": 0.5}}, \"type\": \"barpolar\"}], \"carpet\": [{\"aaxis\": {\"endlinecolor\": \"#A2B1C6\", \"gridcolor\": \"#506784\", \"linecolor\": \"#506784\", \"minorgridcolor\": \"#506784\", \"startlinecolor\": \"#A2B1C6\"}, \"baxis\": {\"endlinecolor\": \"#A2B1C6\", \"gridcolor\": \"#506784\", \"linecolor\": \"#506784\", \"minorgridcolor\": \"#506784\", \"startlinecolor\": \"#A2B1C6\"}, \"type\": \"carpet\"}], \"choropleth\": [{\"colorbar\": {\"outlinewidth\": 0, \"ticks\": \"\"}, \"type\": \"choropleth\"}], \"contour\": [{\"colorbar\": {\"outlinewidth\": 0, \"ticks\": \"\"}, \"colorscale\": [[0.0, \"#0d0887\"], [0.1111111111111111, \"#46039f\"], [0.2222222222222222, \"#7201a8\"], [0.3333333333333333, \"#9c179e\"], [0.4444444444444444, \"#bd3786\"], [0.5555555555555556, \"#d8576b\"], [0.6666666666666666, \"#ed7953\"], [0.7777777777777778, \"#fb9f3a\"], [0.8888888888888888, \"#fdca26\"], [1.0, \"#f0f921\"]], \"type\": \"contour\"}], \"contourcarpet\": [{\"colorbar\": {\"outlinewidth\": 0, \"ticks\": \"\"}, \"type\": \"contourcarpet\"}], \"heatmap\": [{\"colorbar\": {\"outlinewidth\": 0, \"ticks\": \"\"}, \"colorscale\": [[0.0, \"#0d0887\"], [0.1111111111111111, \"#46039f\"], [0.2222222222222222, \"#7201a8\"], [0.3333333333333333, \"#9c179e\"], [0.4444444444444444, \"#bd3786\"], [0.5555555555555556, \"#d8576b\"], [0.6666666666666666, \"#ed7953\"], [0.7777777777777778, \"#fb9f3a\"], [0.8888888888888888, \"#fdca26\"], [1.0, \"#f0f921\"]], \"type\": \"heatmap\"}], \"heatmapgl\": [{\"colorbar\": {\"outlinewidth\": 0, \"ticks\": \"\"}, \"colorscale\": [[0.0, \"#0d0887\"], [0.1111111111111111, \"#46039f\"], [0.2222222222222222, \"#7201a8\"], [0.3333333333333333, \"#9c179e\"], [0.4444444444444444, \"#bd3786\"], [0.5555555555555556, \"#d8576b\"], [0.6666666666666666, \"#ed7953\"], [0.7777777777777778, \"#fb9f3a\"], [0.8888888888888888, \"#fdca26\"], [1.0, \"#f0f921\"]], \"type\": \"heatmapgl\"}], \"histogram\": [{\"marker\": {\"colorbar\": {\"outlinewidth\": 0, \"ticks\": \"\"}}, \"type\": \"histogram\"}], \"histogram2d\": [{\"colorbar\": {\"outlinewidth\": 0, \"ticks\": \"\"}, \"colorscale\": [[0.0, \"#0d0887\"], [0.1111111111111111, \"#46039f\"], [0.2222222222222222, \"#7201a8\"], [0.3333333333333333, \"#9c179e\"], [0.4444444444444444, \"#bd3786\"], [0.5555555555555556, \"#d8576b\"], [0.6666666666666666, \"#ed7953\"], [0.7777777777777778, \"#fb9f3a\"], [0.8888888888888888, \"#fdca26\"], [1.0, \"#f0f921\"]], \"type\": \"histogram2d\"}], \"histogram2dcontour\": [{\"colorbar\": {\"outlinewidth\": 0, \"ticks\": \"\"}, \"colorscale\": [[0.0, \"#0d0887\"], [0.1111111111111111, \"#46039f\"], [0.2222222222222222, \"#7201a8\"], [0.3333333333333333, \"#9c179e\"], [0.4444444444444444, \"#bd3786\"], [0.5555555555555556, \"#d8576b\"], [0.6666666666666666, \"#ed7953\"], [0.7777777777777778, \"#fb9f3a\"], [0.8888888888888888, \"#fdca26\"], [1.0, \"#f0f921\"]], \"type\": \"histogram2dcontour\"}], \"mesh3d\": [{\"colorbar\": {\"outlinewidth\": 0, \"ticks\": \"\"}, \"type\": \"mesh3d\"}], \"parcoords\": [{\"line\": {\"colorbar\": {\"outlinewidth\": 0, \"ticks\": \"\"}}, \"type\": \"parcoords\"}], \"pie\": [{\"automargin\": true, \"type\": \"pie\"}], \"scatter\": [{\"marker\": {\"line\": {\"color\": \"#283442\"}}, \"type\": \"scatter\"}], \"scatter3d\": [{\"line\": {\"colorbar\": {\"outlinewidth\": 0, \"ticks\": \"\"}}, \"marker\": {\"colorbar\": {\"outlinewidth\": 0, \"ticks\": \"\"}}, \"type\": \"scatter3d\"}], \"scattercarpet\": [{\"marker\": {\"colorbar\": {\"outlinewidth\": 0, \"ticks\": \"\"}}, \"type\": \"scattercarpet\"}], \"scattergeo\": [{\"marker\": {\"colorbar\": {\"outlinewidth\": 0, \"ticks\": \"\"}}, \"type\": \"scattergeo\"}], \"scattergl\": [{\"marker\": {\"line\": {\"color\": \"#283442\"}}, \"type\": \"scattergl\"}], \"scattermapbox\": [{\"marker\": {\"colorbar\": {\"outlinewidth\": 0, \"ticks\": \"\"}}, \"type\": \"scattermapbox\"}], \"scatterpolar\": [{\"marker\": {\"colorbar\": {\"outlinewidth\": 0, \"ticks\": \"\"}}, \"type\": \"scatterpolar\"}], \"scatterpolargl\": [{\"marker\": {\"colorbar\": {\"outlinewidth\": 0, \"ticks\": \"\"}}, \"type\": \"scatterpolargl\"}], \"scatterternary\": [{\"marker\": {\"colorbar\": {\"outlinewidth\": 0, \"ticks\": \"\"}}, \"type\": \"scatterternary\"}], \"surface\": [{\"colorbar\": {\"outlinewidth\": 0, \"ticks\": \"\"}, \"colorscale\": [[0.0, \"#0d0887\"], [0.1111111111111111, \"#46039f\"], [0.2222222222222222, \"#7201a8\"], [0.3333333333333333, \"#9c179e\"], [0.4444444444444444, \"#bd3786\"], [0.5555555555555556, \"#d8576b\"], [0.6666666666666666, \"#ed7953\"], [0.7777777777777778, \"#fb9f3a\"], [0.8888888888888888, \"#fdca26\"], [1.0, \"#f0f921\"]], \"type\": \"surface\"}], \"table\": [{\"cells\": {\"fill\": {\"color\": \"#506784\"}, \"line\": {\"color\": \"rgb(17,17,17)\"}}, \"header\": {\"fill\": {\"color\": \"#2a3f5f\"}, \"line\": {\"color\": \"rgb(17,17,17)\"}}, \"type\": \"table\"}]}, \"layout\": {\"annotationdefaults\": {\"arrowcolor\": \"#f2f5fa\", \"arrowhead\": 0, \"arrowwidth\": 1}, \"coloraxis\": {\"colorbar\": {\"outlinewidth\": 0, \"ticks\": \"\"}}, \"colorscale\": {\"diverging\": [[0, \"#8e0152\"], [0.1, \"#c51b7d\"], [0.2, \"#de77ae\"], [0.3, \"#f1b6da\"], [0.4, \"#fde0ef\"], [0.5, \"#f7f7f7\"], [0.6, \"#e6f5d0\"], [0.7, \"#b8e186\"], [0.8, \"#7fbc41\"], [0.9, \"#4d9221\"], [1, \"#276419\"]], \"sequential\": [[0.0, \"#0d0887\"], [0.1111111111111111, \"#46039f\"], [0.2222222222222222, \"#7201a8\"], [0.3333333333333333, \"#9c179e\"], [0.4444444444444444, \"#bd3786\"], [0.5555555555555556, \"#d8576b\"], [0.6666666666666666, \"#ed7953\"], [0.7777777777777778, \"#fb9f3a\"], [0.8888888888888888, \"#fdca26\"], [1.0, \"#f0f921\"]], \"sequentialminus\": [[0.0, \"#0d0887\"], [0.1111111111111111, \"#46039f\"], [0.2222222222222222, \"#7201a8\"], [0.3333333333333333, \"#9c179e\"], [0.4444444444444444, \"#bd3786\"], [0.5555555555555556, \"#d8576b\"], [0.6666666666666666, \"#ed7953\"], [0.7777777777777778, \"#fb9f3a\"], [0.8888888888888888, \"#fdca26\"], [1.0, \"#f0f921\"]]}, \"colorway\": [\"#636efa\", \"#EF553B\", \"#00cc96\", \"#ab63fa\", \"#FFA15A\", \"#19d3f3\", \"#FF6692\", \"#B6E880\", \"#FF97FF\", \"#FECB52\"], \"font\": {\"color\": \"#f2f5fa\"}, \"geo\": {\"bgcolor\": \"rgb(17,17,17)\", \"lakecolor\": \"rgb(17,17,17)\", \"landcolor\": \"rgb(17,17,17)\", \"showlakes\": true, \"showland\": true, \"subunitcolor\": \"#506784\"}, \"hoverlabel\": {\"align\": \"left\"}, \"hovermode\": \"closest\", \"mapbox\": {\"style\": \"dark\"}, \"paper_bgcolor\": \"rgb(17,17,17)\", \"plot_bgcolor\": \"rgb(17,17,17)\", \"polar\": {\"angularaxis\": {\"gridcolor\": \"#506784\", \"linecolor\": \"#506784\", \"ticks\": \"\"}, \"bgcolor\": \"rgb(17,17,17)\", \"radialaxis\": {\"gridcolor\": \"#506784\", \"linecolor\": \"#506784\", \"ticks\": \"\"}}, \"scene\": {\"xaxis\": {\"backgroundcolor\": \"rgb(17,17,17)\", \"gridcolor\": \"#506784\", \"gridwidth\": 2, \"linecolor\": \"#506784\", \"showbackground\": true, \"ticks\": \"\", \"zerolinecolor\": \"#C8D4E3\"}, \"yaxis\": {\"backgroundcolor\": \"rgb(17,17,17)\", \"gridcolor\": \"#506784\", \"gridwidth\": 2, \"linecolor\": \"#506784\", \"showbackground\": true, \"ticks\": \"\", \"zerolinecolor\": \"#C8D4E3\"}, \"zaxis\": {\"backgroundcolor\": \"rgb(17,17,17)\", \"gridcolor\": \"#506784\", \"gridwidth\": 2, \"linecolor\": \"#506784\", \"showbackground\": true, \"ticks\": \"\", \"zerolinecolor\": \"#C8D4E3\"}}, \"shapedefaults\": {\"line\": {\"color\": \"#f2f5fa\"}}, \"sliderdefaults\": {\"bgcolor\": \"#C8D4E3\", \"bordercolor\": \"rgb(17,17,17)\", \"borderwidth\": 1, \"tickwidth\": 0}, \"ternary\": {\"aaxis\": {\"gridcolor\": \"#506784\", \"linecolor\": \"#506784\", \"ticks\": \"\"}, \"baxis\": {\"gridcolor\": \"#506784\", \"linecolor\": \"#506784\", \"ticks\": \"\"}, \"bgcolor\": \"rgb(17,17,17)\", \"caxis\": {\"gridcolor\": \"#506784\", \"linecolor\": \"#506784\", \"ticks\": \"\"}}, \"title\": {\"x\": 0.05}, \"updatemenudefaults\": {\"bgcolor\": \"#506784\", \"borderwidth\": 0}, \"xaxis\": {\"automargin\": true, \"gridcolor\": \"#283442\", \"linecolor\": \"#506784\", \"ticks\": \"\", \"title\": {\"standoff\": 15}, \"zerolinecolor\": \"#283442\", \"zerolinewidth\": 2}, \"yaxis\": {\"automargin\": true, \"gridcolor\": \"#283442\", \"linecolor\": \"#506784\", \"ticks\": \"\", \"title\": {\"standoff\": 15}, \"zerolinecolor\": \"#283442\", \"zerolinewidth\": 2}}}, \"title\": {\"text\": \"Average Week Day Polarity of Stock Headlines\"}, \"xaxis\": {\"anchor\": \"y\", \"domain\": [0.0, 1.0], \"title\": {\"text\": \"Day of Week\"}}, \"yaxis\": {\"anchor\": \"x\", \"domain\": [0.0, 1.0], \"title\": {\"text\": \"Polarity\"}}},                        {\"responsive\": true}                    ).then(function(){\n",
       "                            \n",
       "var gd = document.getElementById('0820bbbc-d6c5-4519-9884-ca754eedb388');\n",
       "var x = new MutationObserver(function (mutations, observer) {{\n",
       "        var display = window.getComputedStyle(gd).display;\n",
       "        if (!display || display === 'none') {{\n",
       "            console.log([gd, 'removed!']);\n",
       "            Plotly.purge(gd);\n",
       "            observer.disconnect();\n",
       "        }}\n",
       "}});\n",
       "\n",
       "// Listen for the removal of the full notebook cells\n",
       "var notebookContainer = gd.closest('#notebook-container');\n",
       "if (notebookContainer) {{\n",
       "    x.observe(notebookContainer, {childList: true});\n",
       "}}\n",
       "\n",
       "// Listen for the clearing of the current output cell\n",
       "var outputEl = gd.closest('.output');\n",
       "if (outputEl) {{\n",
       "    x.observe(outputEl, {childList: true});\n",
       "}}\n",
       "\n",
       "                        })                };                });            </script>        </div>"
      ]
     },
     "metadata": {},
     "output_type": "display_data"
    }
   ],
   "source": [
    "# Group by the ticker and the day of the week, creating a multi-index\n",
    "mean_day = blob_news.groupby(['ticker', 'dayofweek']).mean()\n",
    "# Unstack, the innermost index level 'unstacks' across the columns\n",
    "mean_day = mean_day.unstack()\n",
    "# Get a cross-section of the above data, and transpose it to make the columns the ticker names\n",
    "mean_day = mean_day.xs('polarity', axis=1).T\n",
    "# Plotly colors\n",
    "agg = px.colors.sequential.Aggrnyl\n",
    "\n",
    "px.bar(mean_day, barmode='group', color_discrete_sequence=agg,\n",
    "      title='Average Week Day Polarity of Stock Headlines',\n",
    "      labels={'value': 'Polarity', 'dayofweek': 'Day of Week'})"
   ]
  },
  {
   "cell_type": "markdown",
   "metadata": {},
   "source": [
    "### Polarity based on `date` using Plotly"
   ]
  },
  {
   "cell_type": "code",
   "execution_count": 255,
   "metadata": {},
   "outputs": [
    {
     "data": {
      "application/vnd.plotly.v1+json": {
       "config": {
        "plotlyServerURL": "https://plot.ly"
       },
       "data": [
        {
         "alignmentgroup": "True",
         "hovertemplate": "ticker=AAPL<br>Date=%{x}<br>Polarity=%{y}<extra></extra>",
         "legendgroup": "AAPL",
         "marker": {
          "color": "rgb(150,0,90)"
         },
         "name": "AAPL",
         "offsetgroup": "AAPL",
         "orientation": "v",
         "showlegend": true,
         "textposition": "auto",
         "type": "bar",
         "x": [
          "2020-11-02T00:00:00",
          "2020-11-03T00:00:00",
          "2020-11-04T00:00:00",
          "2020-11-05T00:00:00",
          "2020-11-06T00:00:00",
          "2020-11-08T00:00:00",
          "2020-11-09T00:00:00",
          "2020-11-10T00:00:00",
          "2020-11-11T00:00:00",
          "2020-11-12T00:00:00",
          "2020-11-13T00:00:00",
          "2020-11-14T00:00:00",
          "2020-11-15T00:00:00"
         ],
         "xaxis": "x",
         "y": [
          null,
          null,
          null,
          null,
          null,
          null,
          null,
          0.16,
          null,
          0.24285714285714285,
          null,
          null,
          0.1403799903799904
         ],
         "yaxis": "y"
        },
        {
         "alignmentgroup": "True",
         "hovertemplate": "ticker=ABBV<br>Date=%{x}<br>Polarity=%{y}<extra></extra>",
         "legendgroup": "ABBV",
         "marker": {
          "color": "rgb(0,0,200)"
         },
         "name": "ABBV",
         "offsetgroup": "ABBV",
         "orientation": "v",
         "showlegend": true,
         "textposition": "auto",
         "type": "bar",
         "x": [
          "2020-11-02T00:00:00",
          "2020-11-03T00:00:00",
          "2020-11-04T00:00:00",
          "2020-11-05T00:00:00",
          "2020-11-06T00:00:00",
          "2020-11-08T00:00:00",
          "2020-11-09T00:00:00",
          "2020-11-10T00:00:00",
          "2020-11-11T00:00:00",
          "2020-11-12T00:00:00",
          "2020-11-13T00:00:00",
          "2020-11-14T00:00:00",
          "2020-11-15T00:00:00"
         ],
         "xaxis": "x",
         "y": [
          0.25,
          null,
          null,
          0.05,
          null,
          null,
          null,
          0.12384259259259263,
          -0.16666666666666666,
          0.2393939393939394,
          0.23042929292929293,
          0.2866666666666666,
          null
         ],
         "yaxis": "y"
        },
        {
         "alignmentgroup": "True",
         "hovertemplate": "ticker=ABT<br>Date=%{x}<br>Polarity=%{y}<extra></extra>",
         "legendgroup": "ABT",
         "marker": {
          "color": "rgb(0,25,255)"
         },
         "name": "ABT",
         "offsetgroup": "ABT",
         "orientation": "v",
         "showlegend": true,
         "textposition": "auto",
         "type": "bar",
         "x": [
          "2020-11-02T00:00:00",
          "2020-11-03T00:00:00",
          "2020-11-04T00:00:00",
          "2020-11-05T00:00:00",
          "2020-11-06T00:00:00",
          "2020-11-08T00:00:00",
          "2020-11-09T00:00:00",
          "2020-11-10T00:00:00",
          "2020-11-11T00:00:00",
          "2020-11-12T00:00:00",
          "2020-11-13T00:00:00",
          "2020-11-14T00:00:00",
          "2020-11-15T00:00:00"
         ],
         "xaxis": "x",
         "y": [
          null,
          null,
          null,
          null,
          null,
          -0.08560606060606057,
          -0.1,
          0.07363636363636364,
          -0.15833333333333333,
          null,
          0.10000000000000002,
          6.938893903907228e-18,
          0.06818181818181818
         ],
         "yaxis": "y"
        },
        {
         "alignmentgroup": "True",
         "hovertemplate": "ticker=ADBE<br>Date=%{x}<br>Polarity=%{y}<extra></extra>",
         "legendgroup": "ADBE",
         "marker": {
          "color": "rgb(0,152,255)"
         },
         "name": "ADBE",
         "offsetgroup": "ADBE",
         "orientation": "v",
         "showlegend": true,
         "textposition": "auto",
         "type": "bar",
         "x": [
          "2020-11-02T00:00:00",
          "2020-11-03T00:00:00",
          "2020-11-04T00:00:00",
          "2020-11-05T00:00:00",
          "2020-11-06T00:00:00",
          "2020-11-08T00:00:00",
          "2020-11-09T00:00:00",
          "2020-11-10T00:00:00",
          "2020-11-11T00:00:00",
          "2020-11-12T00:00:00",
          "2020-11-13T00:00:00",
          "2020-11-14T00:00:00",
          "2020-11-15T00:00:00"
         ],
         "xaxis": "x",
         "y": [
          null,
          null,
          null,
          null,
          null,
          null,
          null,
          null,
          null,
          0.07,
          0.21666666666666667,
          0.275,
          0.25
         ],
         "yaxis": "y"
        },
        {
         "alignmentgroup": "True",
         "hovertemplate": "ticker=AMZN<br>Date=%{x}<br>Polarity=%{y}<extra></extra>",
         "legendgroup": "AMZN",
         "marker": {
          "color": "rgb(44,255,150)"
         },
         "name": "AMZN",
         "offsetgroup": "AMZN",
         "orientation": "v",
         "showlegend": true,
         "textposition": "auto",
         "type": "bar",
         "x": [
          "2020-11-02T00:00:00",
          "2020-11-03T00:00:00",
          "2020-11-04T00:00:00",
          "2020-11-05T00:00:00",
          "2020-11-06T00:00:00",
          "2020-11-08T00:00:00",
          "2020-11-09T00:00:00",
          "2020-11-10T00:00:00",
          "2020-11-11T00:00:00",
          "2020-11-12T00:00:00",
          "2020-11-13T00:00:00",
          "2020-11-14T00:00:00",
          "2020-11-15T00:00:00"
         ],
         "xaxis": "x",
         "y": [
          null,
          null,
          null,
          null,
          null,
          null,
          null,
          0.3666666666666667,
          -0.6,
          -0.21547619047619046,
          null,
          null,
          0.06906565656565657
         ],
         "yaxis": "y"
        },
        {
         "alignmentgroup": "True",
         "hovertemplate": "ticker=ASML<br>Date=%{x}<br>Polarity=%{y}<extra></extra>",
         "legendgroup": "ASML",
         "marker": {
          "color": "rgb(151,255,0)"
         },
         "name": "ASML",
         "offsetgroup": "ASML",
         "orientation": "v",
         "showlegend": true,
         "textposition": "auto",
         "type": "bar",
         "x": [
          "2020-11-02T00:00:00",
          "2020-11-03T00:00:00",
          "2020-11-04T00:00:00",
          "2020-11-05T00:00:00",
          "2020-11-06T00:00:00",
          "2020-11-08T00:00:00",
          "2020-11-09T00:00:00",
          "2020-11-10T00:00:00",
          "2020-11-11T00:00:00",
          "2020-11-12T00:00:00",
          "2020-11-13T00:00:00",
          "2020-11-14T00:00:00",
          "2020-11-15T00:00:00"
         ],
         "xaxis": "x",
         "y": [
          null,
          0.25,
          null,
          null,
          0.65,
          null,
          0.17532467532467533,
          0.06818181818181818,
          0.7,
          0.06818181818181818,
          -0.03787878787878788,
          null,
          0.15
         ],
         "yaxis": "y"
        },
        {
         "alignmentgroup": "True",
         "hovertemplate": "ticker=BABA<br>Date=%{x}<br>Polarity=%{y}<extra></extra>",
         "legendgroup": "BABA",
         "marker": {
          "color": "rgb(255,234,0)"
         },
         "name": "BABA",
         "offsetgroup": "BABA",
         "orientation": "v",
         "showlegend": true,
         "textposition": "auto",
         "type": "bar",
         "x": [
          "2020-11-02T00:00:00",
          "2020-11-03T00:00:00",
          "2020-11-04T00:00:00",
          "2020-11-05T00:00:00",
          "2020-11-06T00:00:00",
          "2020-11-08T00:00:00",
          "2020-11-09T00:00:00",
          "2020-11-10T00:00:00",
          "2020-11-11T00:00:00",
          "2020-11-12T00:00:00",
          "2020-11-13T00:00:00",
          "2020-11-14T00:00:00",
          "2020-11-15T00:00:00"
         ],
         "xaxis": "x",
         "y": [
          null,
          null,
          null,
          null,
          null,
          null,
          null,
          0.5,
          null,
          null,
          0.28030303030303033,
          0.23333333333333334,
          0.020634920634920634
         ],
         "yaxis": "y"
        },
        {
         "alignmentgroup": "True",
         "hovertemplate": "ticker=BAC<br>Date=%{x}<br>Polarity=%{y}<extra></extra>",
         "legendgroup": "BAC",
         "marker": {
          "color": "rgb(255,111,0)"
         },
         "name": "BAC",
         "offsetgroup": "BAC",
         "orientation": "v",
         "showlegend": true,
         "textposition": "auto",
         "type": "bar",
         "x": [
          "2020-11-02T00:00:00",
          "2020-11-03T00:00:00",
          "2020-11-04T00:00:00",
          "2020-11-05T00:00:00",
          "2020-11-06T00:00:00",
          "2020-11-08T00:00:00",
          "2020-11-09T00:00:00",
          "2020-11-10T00:00:00",
          "2020-11-11T00:00:00",
          "2020-11-12T00:00:00",
          "2020-11-13T00:00:00",
          "2020-11-14T00:00:00",
          "2020-11-15T00:00:00"
         ],
         "xaxis": "x",
         "y": [
          null,
          null,
          null,
          null,
          null,
          null,
          null,
          null,
          null,
          null,
          null,
          null,
          -0.005656565656565659
         ],
         "yaxis": "y"
        },
        {
         "alignmentgroup": "True",
         "hovertemplate": "ticker=CMCSA<br>Date=%{x}<br>Polarity=%{y}<extra></extra>",
         "legendgroup": "CMCSA",
         "marker": {
          "color": "rgb(255,0,0)"
         },
         "name": "CMCSA",
         "offsetgroup": "CMCSA",
         "orientation": "v",
         "showlegend": true,
         "textposition": "auto",
         "type": "bar",
         "x": [
          "2020-11-02T00:00:00",
          "2020-11-03T00:00:00",
          "2020-11-04T00:00:00",
          "2020-11-05T00:00:00",
          "2020-11-06T00:00:00",
          "2020-11-08T00:00:00",
          "2020-11-09T00:00:00",
          "2020-11-10T00:00:00",
          "2020-11-11T00:00:00",
          "2020-11-12T00:00:00",
          "2020-11-13T00:00:00",
          "2020-11-14T00:00:00",
          "2020-11-15T00:00:00"
         ],
         "xaxis": "x",
         "y": [
          0.0047619047619047545,
          null,
          null,
          null,
          null,
          null,
          null,
          null,
          null,
          null,
          null,
          0.13333333333333333,
          -0.02677616501145913
         ],
         "yaxis": "y"
        },
        {
         "alignmentgroup": "True",
         "hovertemplate": "ticker=COST<br>Date=%{x}<br>Polarity=%{y}<extra></extra>",
         "legendgroup": "COST",
         "marker": {
          "color": "rgb(150,0,90)"
         },
         "name": "COST",
         "offsetgroup": "COST",
         "orientation": "v",
         "showlegend": true,
         "textposition": "auto",
         "type": "bar",
         "x": [
          "2020-11-02T00:00:00",
          "2020-11-03T00:00:00",
          "2020-11-04T00:00:00",
          "2020-11-05T00:00:00",
          "2020-11-06T00:00:00",
          "2020-11-08T00:00:00",
          "2020-11-09T00:00:00",
          "2020-11-10T00:00:00",
          "2020-11-11T00:00:00",
          "2020-11-12T00:00:00",
          "2020-11-13T00:00:00",
          "2020-11-14T00:00:00",
          "2020-11-15T00:00:00"
         ],
         "xaxis": "x",
         "y": [
          null,
          null,
          null,
          null,
          null,
          null,
          null,
          null,
          null,
          0.3181818181818182,
          0.2305194805194805,
          null,
          0.37013888888888885
         ],
         "yaxis": "y"
        },
        {
         "alignmentgroup": "True",
         "hovertemplate": "ticker=CRM<br>Date=%{x}<br>Polarity=%{y}<extra></extra>",
         "legendgroup": "CRM",
         "marker": {
          "color": "rgb(0,0,200)"
         },
         "name": "CRM",
         "offsetgroup": "CRM",
         "orientation": "v",
         "showlegend": true,
         "textposition": "auto",
         "type": "bar",
         "x": [
          "2020-11-02T00:00:00",
          "2020-11-03T00:00:00",
          "2020-11-04T00:00:00",
          "2020-11-05T00:00:00",
          "2020-11-06T00:00:00",
          "2020-11-08T00:00:00",
          "2020-11-09T00:00:00",
          "2020-11-10T00:00:00",
          "2020-11-11T00:00:00",
          "2020-11-12T00:00:00",
          "2020-11-13T00:00:00",
          "2020-11-14T00:00:00",
          "2020-11-15T00:00:00"
         ],
         "xaxis": "x",
         "y": [
          null,
          0.19999999999999998,
          null,
          null,
          -0.09999999999999999,
          null,
          0.38541666666666663,
          null,
          null,
          null,
          null,
          0.11363636363636363,
          0.14820913213770356
         ],
         "yaxis": "y"
        },
        {
         "alignmentgroup": "True",
         "hovertemplate": "ticker=CSCO<br>Date=%{x}<br>Polarity=%{y}<extra></extra>",
         "legendgroup": "CSCO",
         "marker": {
          "color": "rgb(0,25,255)"
         },
         "name": "CSCO",
         "offsetgroup": "CSCO",
         "orientation": "v",
         "showlegend": true,
         "textposition": "auto",
         "type": "bar",
         "x": [
          "2020-11-02T00:00:00",
          "2020-11-03T00:00:00",
          "2020-11-04T00:00:00",
          "2020-11-05T00:00:00",
          "2020-11-06T00:00:00",
          "2020-11-08T00:00:00",
          "2020-11-09T00:00:00",
          "2020-11-10T00:00:00",
          "2020-11-11T00:00:00",
          "2020-11-12T00:00:00",
          "2020-11-13T00:00:00",
          "2020-11-14T00:00:00",
          "2020-11-15T00:00:00"
         ],
         "xaxis": "x",
         "y": [
          null,
          0.13636363636363635,
          null,
          null,
          0.375,
          null,
          -0.1,
          0.10714285714285714,
          0.10714285714285714,
          0.13636363636363635,
          0.12181818181818183,
          0.19285714285714287,
          0.1888257575757576
         ],
         "yaxis": "y"
        },
        {
         "alignmentgroup": "True",
         "hovertemplate": "ticker=CVX<br>Date=%{x}<br>Polarity=%{y}<extra></extra>",
         "legendgroup": "CVX",
         "marker": {
          "color": "rgb(0,152,255)"
         },
         "name": "CVX",
         "offsetgroup": "CVX",
         "orientation": "v",
         "showlegend": true,
         "textposition": "auto",
         "type": "bar",
         "x": [
          "2020-11-02T00:00:00",
          "2020-11-03T00:00:00",
          "2020-11-04T00:00:00",
          "2020-11-05T00:00:00",
          "2020-11-06T00:00:00",
          "2020-11-08T00:00:00",
          "2020-11-09T00:00:00",
          "2020-11-10T00:00:00",
          "2020-11-11T00:00:00",
          "2020-11-12T00:00:00",
          "2020-11-13T00:00:00",
          "2020-11-14T00:00:00",
          "2020-11-15T00:00:00"
         ],
         "xaxis": "x",
         "y": [
          null,
          null,
          null,
          null,
          null,
          null,
          null,
          0.3,
          null,
          null,
          0.4,
          -0.17276785714285714,
          0.15876015797068432
         ],
         "yaxis": "y"
        },
        {
         "alignmentgroup": "True",
         "hovertemplate": "ticker=DHR<br>Date=%{x}<br>Polarity=%{y}<extra></extra>",
         "legendgroup": "DHR",
         "marker": {
          "color": "rgb(44,255,150)"
         },
         "name": "DHR",
         "offsetgroup": "DHR",
         "orientation": "v",
         "showlegend": true,
         "textposition": "auto",
         "type": "bar",
         "x": [
          "2020-11-02T00:00:00",
          "2020-11-03T00:00:00",
          "2020-11-04T00:00:00",
          "2020-11-05T00:00:00",
          "2020-11-06T00:00:00",
          "2020-11-08T00:00:00",
          "2020-11-09T00:00:00",
          "2020-11-10T00:00:00",
          "2020-11-11T00:00:00",
          "2020-11-12T00:00:00",
          "2020-11-13T00:00:00",
          "2020-11-14T00:00:00",
          "2020-11-15T00:00:00"
         ],
         "xaxis": "x",
         "y": [
          null,
          null,
          null,
          null,
          null,
          null,
          0.06818181818181818,
          -0.1,
          0.28125,
          null,
          null,
          0.26666666666666666,
          null
         ],
         "yaxis": "y"
        },
        {
         "alignmentgroup": "True",
         "hovertemplate": "ticker=DIS<br>Date=%{x}<br>Polarity=%{y}<extra></extra>",
         "legendgroup": "DIS",
         "marker": {
          "color": "rgb(151,255,0)"
         },
         "name": "DIS",
         "offsetgroup": "DIS",
         "orientation": "v",
         "showlegend": true,
         "textposition": "auto",
         "type": "bar",
         "x": [
          "2020-11-02T00:00:00",
          "2020-11-03T00:00:00",
          "2020-11-04T00:00:00",
          "2020-11-05T00:00:00",
          "2020-11-06T00:00:00",
          "2020-11-08T00:00:00",
          "2020-11-09T00:00:00",
          "2020-11-10T00:00:00",
          "2020-11-11T00:00:00",
          "2020-11-12T00:00:00",
          "2020-11-13T00:00:00",
          "2020-11-14T00:00:00",
          "2020-11-15T00:00:00"
         ],
         "xaxis": "x",
         "y": [
          null,
          null,
          null,
          null,
          null,
          null,
          null,
          null,
          null,
          null,
          null,
          null,
          0.5
         ],
         "yaxis": "y"
        },
        {
         "alignmentgroup": "True",
         "hovertemplate": "ticker=GOOG<br>Date=%{x}<br>Polarity=%{y}<extra></extra>",
         "legendgroup": "GOOG",
         "marker": {
          "color": "rgb(255,234,0)"
         },
         "name": "GOOG",
         "offsetgroup": "GOOG",
         "orientation": "v",
         "showlegend": true,
         "textposition": "auto",
         "type": "bar",
         "x": [
          "2020-11-02T00:00:00",
          "2020-11-03T00:00:00",
          "2020-11-04T00:00:00",
          "2020-11-05T00:00:00",
          "2020-11-06T00:00:00",
          "2020-11-08T00:00:00",
          "2020-11-09T00:00:00",
          "2020-11-10T00:00:00",
          "2020-11-11T00:00:00",
          "2020-11-12T00:00:00",
          "2020-11-13T00:00:00",
          "2020-11-14T00:00:00",
          "2020-11-15T00:00:00"
         ],
         "xaxis": "x",
         "y": [
          null,
          null,
          null,
          null,
          null,
          null,
          null,
          null,
          null,
          0.4,
          0.665625,
          null,
          0.4211309523809524
         ],
         "yaxis": "y"
        },
        {
         "alignmentgroup": "True",
         "hovertemplate": "ticker=GOOGL<br>Date=%{x}<br>Polarity=%{y}<extra></extra>",
         "legendgroup": "GOOGL",
         "marker": {
          "color": "rgb(255,111,0)"
         },
         "name": "GOOGL",
         "offsetgroup": "GOOGL",
         "orientation": "v",
         "showlegend": true,
         "textposition": "auto",
         "type": "bar",
         "x": [
          "2020-11-02T00:00:00",
          "2020-11-03T00:00:00",
          "2020-11-04T00:00:00",
          "2020-11-05T00:00:00",
          "2020-11-06T00:00:00",
          "2020-11-08T00:00:00",
          "2020-11-09T00:00:00",
          "2020-11-10T00:00:00",
          "2020-11-11T00:00:00",
          "2020-11-12T00:00:00",
          "2020-11-13T00:00:00",
          "2020-11-14T00:00:00",
          "2020-11-15T00:00:00"
         ],
         "xaxis": "x",
         "y": [
          null,
          null,
          null,
          null,
          null,
          null,
          null,
          null,
          null,
          0.4,
          0.665625,
          null,
          0.6071428571428571
         ],
         "yaxis": "y"
        },
        {
         "alignmentgroup": "True",
         "hovertemplate": "ticker=HD<br>Date=%{x}<br>Polarity=%{y}<extra></extra>",
         "legendgroup": "HD",
         "marker": {
          "color": "rgb(255,0,0)"
         },
         "name": "HD",
         "offsetgroup": "HD",
         "orientation": "v",
         "showlegend": true,
         "textposition": "auto",
         "type": "bar",
         "x": [
          "2020-11-02T00:00:00",
          "2020-11-03T00:00:00",
          "2020-11-04T00:00:00",
          "2020-11-05T00:00:00",
          "2020-11-06T00:00:00",
          "2020-11-08T00:00:00",
          "2020-11-09T00:00:00",
          "2020-11-10T00:00:00",
          "2020-11-11T00:00:00",
          "2020-11-12T00:00:00",
          "2020-11-13T00:00:00",
          "2020-11-14T00:00:00",
          "2020-11-15T00:00:00"
         ],
         "xaxis": "x",
         "y": [
          null,
          null,
          null,
          null,
          null,
          null,
          null,
          null,
          -0.05,
          0.26250000000000007,
          0.05909090909090908,
          0.4819444444444444,
          0.06997354497354497
         ],
         "yaxis": "y"
        },
        {
         "alignmentgroup": "True",
         "hovertemplate": "ticker=INTC<br>Date=%{x}<br>Polarity=%{y}<extra></extra>",
         "legendgroup": "INTC",
         "marker": {
          "color": "rgb(150,0,90)"
         },
         "name": "INTC",
         "offsetgroup": "INTC",
         "orientation": "v",
         "showlegend": true,
         "textposition": "auto",
         "type": "bar",
         "x": [
          "2020-11-02T00:00:00",
          "2020-11-03T00:00:00",
          "2020-11-04T00:00:00",
          "2020-11-05T00:00:00",
          "2020-11-06T00:00:00",
          "2020-11-08T00:00:00",
          "2020-11-09T00:00:00",
          "2020-11-10T00:00:00",
          "2020-11-11T00:00:00",
          "2020-11-12T00:00:00",
          "2020-11-13T00:00:00",
          "2020-11-14T00:00:00",
          "2020-11-15T00:00:00"
         ],
         "xaxis": "x",
         "y": [
          null,
          null,
          null,
          null,
          null,
          null,
          null,
          null,
          null,
          null,
          null,
          0.17988215488215487,
          0.047011784511784505
         ],
         "yaxis": "y"
        },
        {
         "alignmentgroup": "True",
         "hovertemplate": "ticker=JNJ<br>Date=%{x}<br>Polarity=%{y}<extra></extra>",
         "legendgroup": "JNJ",
         "marker": {
          "color": "rgb(0,0,200)"
         },
         "name": "JNJ",
         "offsetgroup": "JNJ",
         "orientation": "v",
         "showlegend": true,
         "textposition": "auto",
         "type": "bar",
         "x": [
          "2020-11-02T00:00:00",
          "2020-11-03T00:00:00",
          "2020-11-04T00:00:00",
          "2020-11-05T00:00:00",
          "2020-11-06T00:00:00",
          "2020-11-08T00:00:00",
          "2020-11-09T00:00:00",
          "2020-11-10T00:00:00",
          "2020-11-11T00:00:00",
          "2020-11-12T00:00:00",
          "2020-11-13T00:00:00",
          "2020-11-14T00:00:00",
          "2020-11-15T00:00:00"
         ],
         "xaxis": "x",
         "y": [
          null,
          null,
          null,
          0.5,
          null,
          null,
          null,
          null,
          null,
          null,
          null,
          null,
          null
         ],
         "yaxis": "y"
        },
        {
         "alignmentgroup": "True",
         "hovertemplate": "ticker=JPM<br>Date=%{x}<br>Polarity=%{y}<extra></extra>",
         "legendgroup": "JPM",
         "marker": {
          "color": "rgb(0,25,255)"
         },
         "name": "JPM",
         "offsetgroup": "JPM",
         "orientation": "v",
         "showlegend": true,
         "textposition": "auto",
         "type": "bar",
         "x": [
          "2020-11-02T00:00:00",
          "2020-11-03T00:00:00",
          "2020-11-04T00:00:00",
          "2020-11-05T00:00:00",
          "2020-11-06T00:00:00",
          "2020-11-08T00:00:00",
          "2020-11-09T00:00:00",
          "2020-11-10T00:00:00",
          "2020-11-11T00:00:00",
          "2020-11-12T00:00:00",
          "2020-11-13T00:00:00",
          "2020-11-14T00:00:00",
          "2020-11-15T00:00:00"
         ],
         "xaxis": "x",
         "y": [
          null,
          null,
          null,
          null,
          null,
          null,
          null,
          -0.015151515151515152,
          null,
          null,
          0.5,
          null,
          0.07614237614237614
         ],
         "yaxis": "y"
        },
        {
         "alignmentgroup": "True",
         "hovertemplate": "ticker=KO<br>Date=%{x}<br>Polarity=%{y}<extra></extra>",
         "legendgroup": "KO",
         "marker": {
          "color": "rgb(0,152,255)"
         },
         "name": "KO",
         "offsetgroup": "KO",
         "orientation": "v",
         "showlegend": true,
         "textposition": "auto",
         "type": "bar",
         "x": [
          "2020-11-02T00:00:00",
          "2020-11-03T00:00:00",
          "2020-11-04T00:00:00",
          "2020-11-05T00:00:00",
          "2020-11-06T00:00:00",
          "2020-11-08T00:00:00",
          "2020-11-09T00:00:00",
          "2020-11-10T00:00:00",
          "2020-11-11T00:00:00",
          "2020-11-12T00:00:00",
          "2020-11-13T00:00:00",
          "2020-11-14T00:00:00",
          "2020-11-15T00:00:00"
         ],
         "xaxis": "x",
         "y": [
          null,
          null,
          null,
          null,
          null,
          null,
          0.06818181818181818,
          null,
          null,
          null,
          -0.06060606060606061,
          0.18219696969696966,
          0.35401515151515156
         ],
         "yaxis": "y"
        },
        {
         "alignmentgroup": "True",
         "hovertemplate": "ticker=MA<br>Date=%{x}<br>Polarity=%{y}<extra></extra>",
         "legendgroup": "MA",
         "marker": {
          "color": "rgb(44,255,150)"
         },
         "name": "MA",
         "offsetgroup": "MA",
         "orientation": "v",
         "showlegend": true,
         "textposition": "auto",
         "type": "bar",
         "x": [
          "2020-11-02T00:00:00",
          "2020-11-03T00:00:00",
          "2020-11-04T00:00:00",
          "2020-11-05T00:00:00",
          "2020-11-06T00:00:00",
          "2020-11-08T00:00:00",
          "2020-11-09T00:00:00",
          "2020-11-10T00:00:00",
          "2020-11-11T00:00:00",
          "2020-11-12T00:00:00",
          "2020-11-13T00:00:00",
          "2020-11-14T00:00:00",
          "2020-11-15T00:00:00"
         ],
         "xaxis": "x",
         "y": [
          0.13333333333333333,
          null,
          null,
          null,
          null,
          null,
          null,
          0.05,
          -0.12708333333333333,
          0.2333333333333333,
          0.1400462962962963,
          0.050520833333333334,
          null
         ],
         "yaxis": "y"
        },
        {
         "alignmentgroup": "True",
         "hovertemplate": "ticker=MCD<br>Date=%{x}<br>Polarity=%{y}<extra></extra>",
         "legendgroup": "MCD",
         "marker": {
          "color": "rgb(151,255,0)"
         },
         "name": "MCD",
         "offsetgroup": "MCD",
         "orientation": "v",
         "showlegend": true,
         "textposition": "auto",
         "type": "bar",
         "x": [
          "2020-11-02T00:00:00",
          "2020-11-03T00:00:00",
          "2020-11-04T00:00:00",
          "2020-11-05T00:00:00",
          "2020-11-06T00:00:00",
          "2020-11-08T00:00:00",
          "2020-11-09T00:00:00",
          "2020-11-10T00:00:00",
          "2020-11-11T00:00:00",
          "2020-11-12T00:00:00",
          "2020-11-13T00:00:00",
          "2020-11-14T00:00:00",
          "2020-11-15T00:00:00"
         ],
         "xaxis": "x",
         "y": [
          null,
          null,
          null,
          null,
          null,
          null,
          0.13636363636363635,
          null,
          null,
          null,
          null,
          -0.052777777777777785,
          -0.19399621212121212
         ],
         "yaxis": "y"
        },
        {
         "alignmentgroup": "True",
         "hovertemplate": "ticker=MRK<br>Date=%{x}<br>Polarity=%{y}<extra></extra>",
         "legendgroup": "MRK",
         "marker": {
          "color": "rgb(255,234,0)"
         },
         "name": "MRK",
         "offsetgroup": "MRK",
         "orientation": "v",
         "showlegend": true,
         "textposition": "auto",
         "type": "bar",
         "x": [
          "2020-11-02T00:00:00",
          "2020-11-03T00:00:00",
          "2020-11-04T00:00:00",
          "2020-11-05T00:00:00",
          "2020-11-06T00:00:00",
          "2020-11-08T00:00:00",
          "2020-11-09T00:00:00",
          "2020-11-10T00:00:00",
          "2020-11-11T00:00:00",
          "2020-11-12T00:00:00",
          "2020-11-13T00:00:00",
          "2020-11-14T00:00:00",
          "2020-11-15T00:00:00"
         ],
         "xaxis": "x",
         "y": [
          null,
          null,
          null,
          -0.2,
          null,
          null,
          null,
          null,
          -0.1,
          0.03749999999999999,
          -0.01818181818181819,
          0.06679894179894179,
          0.07142857142857144
         ],
         "yaxis": "y"
        },
        {
         "alignmentgroup": "True",
         "hovertemplate": "ticker=MSFT<br>Date=%{x}<br>Polarity=%{y}<extra></extra>",
         "legendgroup": "MSFT",
         "marker": {
          "color": "rgb(255,111,0)"
         },
         "name": "MSFT",
         "offsetgroup": "MSFT",
         "orientation": "v",
         "showlegend": true,
         "textposition": "auto",
         "type": "bar",
         "x": [
          "2020-11-02T00:00:00",
          "2020-11-03T00:00:00",
          "2020-11-04T00:00:00",
          "2020-11-05T00:00:00",
          "2020-11-06T00:00:00",
          "2020-11-08T00:00:00",
          "2020-11-09T00:00:00",
          "2020-11-10T00:00:00",
          "2020-11-11T00:00:00",
          "2020-11-12T00:00:00",
          "2020-11-13T00:00:00",
          "2020-11-14T00:00:00",
          "2020-11-15T00:00:00"
         ],
         "xaxis": "x",
         "y": [
          null,
          null,
          null,
          null,
          null,
          null,
          null,
          null,
          null,
          0.1,
          0.18484848484848482,
          null,
          0.19932659932659932
         ],
         "yaxis": "y"
        },
        {
         "alignmentgroup": "True",
         "hovertemplate": "ticker=NFLX<br>Date=%{x}<br>Polarity=%{y}<extra></extra>",
         "legendgroup": "NFLX",
         "marker": {
          "color": "rgb(255,0,0)"
         },
         "name": "NFLX",
         "offsetgroup": "NFLX",
         "orientation": "v",
         "showlegend": true,
         "textposition": "auto",
         "type": "bar",
         "x": [
          "2020-11-02T00:00:00",
          "2020-11-03T00:00:00",
          "2020-11-04T00:00:00",
          "2020-11-05T00:00:00",
          "2020-11-06T00:00:00",
          "2020-11-08T00:00:00",
          "2020-11-09T00:00:00",
          "2020-11-10T00:00:00",
          "2020-11-11T00:00:00",
          "2020-11-12T00:00:00",
          "2020-11-13T00:00:00",
          "2020-11-14T00:00:00",
          "2020-11-15T00:00:00"
         ],
         "xaxis": "x",
         "y": [
          null,
          null,
          null,
          null,
          null,
          null,
          null,
          null,
          null,
          0.05,
          null,
          null,
          0.025541125541125555
         ],
         "yaxis": "y"
        },
        {
         "alignmentgroup": "True",
         "hovertemplate": "ticker=NVDA<br>Date=%{x}<br>Polarity=%{y}<extra></extra>",
         "legendgroup": "NVDA",
         "marker": {
          "color": "rgb(150,0,90)"
         },
         "name": "NVDA",
         "offsetgroup": "NVDA",
         "orientation": "v",
         "showlegend": true,
         "textposition": "auto",
         "type": "bar",
         "x": [
          "2020-11-02T00:00:00",
          "2020-11-03T00:00:00",
          "2020-11-04T00:00:00",
          "2020-11-05T00:00:00",
          "2020-11-06T00:00:00",
          "2020-11-08T00:00:00",
          "2020-11-09T00:00:00",
          "2020-11-10T00:00:00",
          "2020-11-11T00:00:00",
          "2020-11-12T00:00:00",
          "2020-11-13T00:00:00",
          "2020-11-14T00:00:00",
          "2020-11-15T00:00:00"
         ],
         "xaxis": "x",
         "y": [
          null,
          null,
          null,
          null,
          null,
          null,
          0.04166666666666667,
          null,
          null,
          null,
          0.21428571428571427,
          0.38888888888888884,
          -0.16388888888888895
         ],
         "yaxis": "y"
        },
        {
         "alignmentgroup": "True",
         "hovertemplate": "ticker=NVS<br>Date=%{x}<br>Polarity=%{y}<extra></extra>",
         "legendgroup": "NVS",
         "marker": {
          "color": "rgb(0,0,200)"
         },
         "name": "NVS",
         "offsetgroup": "NVS",
         "orientation": "v",
         "showlegend": true,
         "textposition": "auto",
         "type": "bar",
         "x": [
          "2020-11-02T00:00:00",
          "2020-11-03T00:00:00",
          "2020-11-04T00:00:00",
          "2020-11-05T00:00:00",
          "2020-11-06T00:00:00",
          "2020-11-08T00:00:00",
          "2020-11-09T00:00:00",
          "2020-11-10T00:00:00",
          "2020-11-11T00:00:00",
          "2020-11-12T00:00:00",
          "2020-11-13T00:00:00",
          "2020-11-14T00:00:00",
          "2020-11-15T00:00:00"
         ],
         "xaxis": "x",
         "y": [
          -0.075,
          null,
          0.25,
          null,
          0.3,
          null,
          null,
          null,
          0.7,
          0.20547979797979798,
          0.2398148148148148,
          null,
          0.08090132090132089
         ],
         "yaxis": "y"
        },
        {
         "alignmentgroup": "True",
         "hovertemplate": "ticker=ORCL<br>Date=%{x}<br>Polarity=%{y}<extra></extra>",
         "legendgroup": "ORCL",
         "marker": {
          "color": "rgb(0,25,255)"
         },
         "name": "ORCL",
         "offsetgroup": "ORCL",
         "orientation": "v",
         "showlegend": true,
         "textposition": "auto",
         "type": "bar",
         "x": [
          "2020-11-02T00:00:00",
          "2020-11-03T00:00:00",
          "2020-11-04T00:00:00",
          "2020-11-05T00:00:00",
          "2020-11-06T00:00:00",
          "2020-11-08T00:00:00",
          "2020-11-09T00:00:00",
          "2020-11-10T00:00:00",
          "2020-11-11T00:00:00",
          "2020-11-12T00:00:00",
          "2020-11-13T00:00:00",
          "2020-11-14T00:00:00",
          "2020-11-15T00:00:00"
         ],
         "xaxis": "x",
         "y": [
          0.13636363636363635,
          null,
          null,
          null,
          null,
          null,
          null,
          null,
          null,
          null,
          -0.21666666666666665,
          0.00714285714285715,
          -0.5
         ],
         "yaxis": "y"
        },
        {
         "alignmentgroup": "True",
         "hovertemplate": "ticker=PDD<br>Date=%{x}<br>Polarity=%{y}<extra></extra>",
         "legendgroup": "PDD",
         "marker": {
          "color": "rgb(0,152,255)"
         },
         "name": "PDD",
         "offsetgroup": "PDD",
         "orientation": "v",
         "showlegend": true,
         "textposition": "auto",
         "type": "bar",
         "x": [
          "2020-11-02T00:00:00",
          "2020-11-03T00:00:00",
          "2020-11-04T00:00:00",
          "2020-11-05T00:00:00",
          "2020-11-06T00:00:00",
          "2020-11-08T00:00:00",
          "2020-11-09T00:00:00",
          "2020-11-10T00:00:00",
          "2020-11-11T00:00:00",
          "2020-11-12T00:00:00",
          "2020-11-13T00:00:00",
          "2020-11-14T00:00:00",
          "2020-11-15T00:00:00"
         ],
         "xaxis": "x",
         "y": [
          -0.6,
          0.5,
          null,
          null,
          null,
          null,
          null,
          null,
          0.25,
          0.3125,
          0.05013144263144263,
          0.06022727272727273,
          0.15
         ],
         "yaxis": "y"
        },
        {
         "alignmentgroup": "True",
         "hovertemplate": "ticker=PEP<br>Date=%{x}<br>Polarity=%{y}<extra></extra>",
         "legendgroup": "PEP",
         "marker": {
          "color": "rgb(44,255,150)"
         },
         "name": "PEP",
         "offsetgroup": "PEP",
         "orientation": "v",
         "showlegend": true,
         "textposition": "auto",
         "type": "bar",
         "x": [
          "2020-11-02T00:00:00",
          "2020-11-03T00:00:00",
          "2020-11-04T00:00:00",
          "2020-11-05T00:00:00",
          "2020-11-06T00:00:00",
          "2020-11-08T00:00:00",
          "2020-11-09T00:00:00",
          "2020-11-10T00:00:00",
          "2020-11-11T00:00:00",
          "2020-11-12T00:00:00",
          "2020-11-13T00:00:00",
          "2020-11-14T00:00:00",
          "2020-11-15T00:00:00"
         ],
         "xaxis": "x",
         "y": [
          null,
          null,
          0.13636363636363635,
          null,
          null,
          null,
          0.11161616161616161,
          null,
          null,
          0.20166666666666666,
          0.19494949494949496,
          0.016883116883116885,
          0.03333333333333333
         ],
         "yaxis": "y"
        },
        {
         "alignmentgroup": "True",
         "hovertemplate": "ticker=PFE<br>Date=%{x}<br>Polarity=%{y}<extra></extra>",
         "legendgroup": "PFE",
         "marker": {
          "color": "rgb(151,255,0)"
         },
         "name": "PFE",
         "offsetgroup": "PFE",
         "orientation": "v",
         "showlegend": true,
         "textposition": "auto",
         "type": "bar",
         "x": [
          "2020-11-02T00:00:00",
          "2020-11-03T00:00:00",
          "2020-11-04T00:00:00",
          "2020-11-05T00:00:00",
          "2020-11-06T00:00:00",
          "2020-11-08T00:00:00",
          "2020-11-09T00:00:00",
          "2020-11-10T00:00:00",
          "2020-11-11T00:00:00",
          "2020-11-12T00:00:00",
          "2020-11-13T00:00:00",
          "2020-11-14T00:00:00",
          "2020-11-15T00:00:00"
         ],
         "xaxis": "x",
         "y": [
          null,
          null,
          null,
          null,
          null,
          null,
          null,
          0.3,
          0.06818181818181818,
          0.36189393939393943,
          null,
          null,
          0.3190476190476191
         ],
         "yaxis": "y"
        },
        {
         "alignmentgroup": "True",
         "hovertemplate": "ticker=PG<br>Date=%{x}<br>Polarity=%{y}<extra></extra>",
         "legendgroup": "PG",
         "marker": {
          "color": "rgb(255,234,0)"
         },
         "name": "PG",
         "offsetgroup": "PG",
         "orientation": "v",
         "showlegend": true,
         "textposition": "auto",
         "type": "bar",
         "x": [
          "2020-11-02T00:00:00",
          "2020-11-03T00:00:00",
          "2020-11-04T00:00:00",
          "2020-11-05T00:00:00",
          "2020-11-06T00:00:00",
          "2020-11-08T00:00:00",
          "2020-11-09T00:00:00",
          "2020-11-10T00:00:00",
          "2020-11-11T00:00:00",
          "2020-11-12T00:00:00",
          "2020-11-13T00:00:00",
          "2020-11-14T00:00:00",
          "2020-11-15T00:00:00"
         ],
         "xaxis": "x",
         "y": [
          null,
          null,
          null,
          null,
          0.37142857142857144,
          null,
          0.011882716049382708,
          0.18825757575757576,
          null,
          null,
          0.06419753086419755,
          -0.15,
          0.35
         ],
         "yaxis": "y"
        },
        {
         "alignmentgroup": "True",
         "hovertemplate": "ticker=PYPL<br>Date=%{x}<br>Polarity=%{y}<extra></extra>",
         "legendgroup": "PYPL",
         "marker": {
          "color": "rgb(255,111,0)"
         },
         "name": "PYPL",
         "offsetgroup": "PYPL",
         "orientation": "v",
         "showlegend": true,
         "textposition": "auto",
         "type": "bar",
         "x": [
          "2020-11-02T00:00:00",
          "2020-11-03T00:00:00",
          "2020-11-04T00:00:00",
          "2020-11-05T00:00:00",
          "2020-11-06T00:00:00",
          "2020-11-08T00:00:00",
          "2020-11-09T00:00:00",
          "2020-11-10T00:00:00",
          "2020-11-11T00:00:00",
          "2020-11-12T00:00:00",
          "2020-11-13T00:00:00",
          "2020-11-14T00:00:00",
          "2020-11-15T00:00:00"
         ],
         "xaxis": "x",
         "y": [
          null,
          null,
          null,
          null,
          null,
          null,
          null,
          0.5,
          null,
          null,
          null,
          null,
          0.13676353535353533
         ],
         "yaxis": "y"
        },
        {
         "alignmentgroup": "True",
         "hovertemplate": "ticker=T<br>Date=%{x}<br>Polarity=%{y}<extra></extra>",
         "legendgroup": "T",
         "marker": {
          "color": "rgb(255,0,0)"
         },
         "name": "T",
         "offsetgroup": "T",
         "orientation": "v",
         "showlegend": true,
         "textposition": "auto",
         "type": "bar",
         "x": [
          "2020-11-02T00:00:00",
          "2020-11-03T00:00:00",
          "2020-11-04T00:00:00",
          "2020-11-05T00:00:00",
          "2020-11-06T00:00:00",
          "2020-11-08T00:00:00",
          "2020-11-09T00:00:00",
          "2020-11-10T00:00:00",
          "2020-11-11T00:00:00",
          "2020-11-12T00:00:00",
          "2020-11-13T00:00:00",
          "2020-11-14T00:00:00",
          "2020-11-15T00:00:00"
         ],
         "xaxis": "x",
         "y": [
          null,
          null,
          null,
          null,
          null,
          null,
          null,
          0.15,
          null,
          0.11818181818181817,
          0.4,
          null,
          -0.06477272727272727
         ],
         "yaxis": "y"
        },
        {
         "alignmentgroup": "True",
         "hovertemplate": "ticker=TM<br>Date=%{x}<br>Polarity=%{y}<extra></extra>",
         "legendgroup": "TM",
         "marker": {
          "color": "rgb(150,0,90)"
         },
         "name": "TM",
         "offsetgroup": "TM",
         "orientation": "v",
         "showlegend": true,
         "textposition": "auto",
         "type": "bar",
         "x": [
          "2020-11-02T00:00:00",
          "2020-11-03T00:00:00",
          "2020-11-04T00:00:00",
          "2020-11-05T00:00:00",
          "2020-11-06T00:00:00",
          "2020-11-08T00:00:00",
          "2020-11-09T00:00:00",
          "2020-11-10T00:00:00",
          "2020-11-11T00:00:00",
          "2020-11-12T00:00:00",
          "2020-11-13T00:00:00",
          "2020-11-14T00:00:00",
          "2020-11-15T00:00:00"
         ],
         "xaxis": "x",
         "y": [
          null,
          null,
          null,
          0.3,
          null,
          null,
          0.25,
          0.39583333333333337,
          0.5,
          -0.1,
          0.1619047619047619,
          0.4520833333333334,
          0.11248737373737376
         ],
         "yaxis": "y"
        },
        {
         "alignmentgroup": "True",
         "hovertemplate": "ticker=TMO<br>Date=%{x}<br>Polarity=%{y}<extra></extra>",
         "legendgroup": "TMO",
         "marker": {
          "color": "rgb(0,0,200)"
         },
         "name": "TMO",
         "offsetgroup": "TMO",
         "orientation": "v",
         "showlegend": true,
         "textposition": "auto",
         "type": "bar",
         "x": [
          "2020-11-02T00:00:00",
          "2020-11-03T00:00:00",
          "2020-11-04T00:00:00",
          "2020-11-05T00:00:00",
          "2020-11-06T00:00:00",
          "2020-11-08T00:00:00",
          "2020-11-09T00:00:00",
          "2020-11-10T00:00:00",
          "2020-11-11T00:00:00",
          "2020-11-12T00:00:00",
          "2020-11-13T00:00:00",
          "2020-11-14T00:00:00",
          "2020-11-15T00:00:00"
         ],
         "xaxis": "x",
         "y": [
          0.16666666666666666,
          null,
          null,
          null,
          null,
          null,
          null,
          null,
          0.24166666666666664,
          null,
          0.17027777777777783,
          null,
          0.21428571428571427
         ],
         "yaxis": "y"
        },
        {
         "alignmentgroup": "True",
         "hovertemplate": "ticker=TMUS<br>Date=%{x}<br>Polarity=%{y}<extra></extra>",
         "legendgroup": "TMUS",
         "marker": {
          "color": "rgb(0,25,255)"
         },
         "name": "TMUS",
         "offsetgroup": "TMUS",
         "orientation": "v",
         "showlegend": true,
         "textposition": "auto",
         "type": "bar",
         "x": [
          "2020-11-02T00:00:00",
          "2020-11-03T00:00:00",
          "2020-11-04T00:00:00",
          "2020-11-05T00:00:00",
          "2020-11-06T00:00:00",
          "2020-11-08T00:00:00",
          "2020-11-09T00:00:00",
          "2020-11-10T00:00:00",
          "2020-11-11T00:00:00",
          "2020-11-12T00:00:00",
          "2020-11-13T00:00:00",
          "2020-11-14T00:00:00",
          "2020-11-15T00:00:00"
         ],
         "xaxis": "x",
         "y": [
          null,
          null,
          null,
          null,
          null,
          null,
          null,
          null,
          null,
          0.04545454545454545,
          0.21119949494949497,
          0.1796969696969697,
          0.24204545454545454
         ],
         "yaxis": "y"
        },
        {
         "alignmentgroup": "True",
         "hovertemplate": "ticker=TSLA<br>Date=%{x}<br>Polarity=%{y}<extra></extra>",
         "legendgroup": "TSLA",
         "marker": {
          "color": "rgb(0,152,255)"
         },
         "name": "TSLA",
         "offsetgroup": "TSLA",
         "orientation": "v",
         "showlegend": true,
         "textposition": "auto",
         "type": "bar",
         "x": [
          "2020-11-02T00:00:00",
          "2020-11-03T00:00:00",
          "2020-11-04T00:00:00",
          "2020-11-05T00:00:00",
          "2020-11-06T00:00:00",
          "2020-11-08T00:00:00",
          "2020-11-09T00:00:00",
          "2020-11-10T00:00:00",
          "2020-11-11T00:00:00",
          "2020-11-12T00:00:00",
          "2020-11-13T00:00:00",
          "2020-11-14T00:00:00",
          "2020-11-15T00:00:00"
         ],
         "xaxis": "x",
         "y": [
          null,
          null,
          null,
          null,
          null,
          null,
          null,
          null,
          null,
          null,
          null,
          null,
          0.16266684704184703
         ],
         "yaxis": "y"
        },
        {
         "alignmentgroup": "True",
         "hovertemplate": "ticker=TSM<br>Date=%{x}<br>Polarity=%{y}<extra></extra>",
         "legendgroup": "TSM",
         "marker": {
          "color": "rgb(44,255,150)"
         },
         "name": "TSM",
         "offsetgroup": "TSM",
         "orientation": "v",
         "showlegend": true,
         "textposition": "auto",
         "type": "bar",
         "x": [
          "2020-11-02T00:00:00",
          "2020-11-03T00:00:00",
          "2020-11-04T00:00:00",
          "2020-11-05T00:00:00",
          "2020-11-06T00:00:00",
          "2020-11-08T00:00:00",
          "2020-11-09T00:00:00",
          "2020-11-10T00:00:00",
          "2020-11-11T00:00:00",
          "2020-11-12T00:00:00",
          "2020-11-13T00:00:00",
          "2020-11-14T00:00:00",
          "2020-11-15T00:00:00"
         ],
         "xaxis": "x",
         "y": [
          null,
          null,
          null,
          null,
          null,
          null,
          null,
          0.041666666666666664,
          0.03392857142857142,
          0.05107323232323231,
          0.29393939393939394,
          0.1392857142857143,
          0.07273809523809523
         ],
         "yaxis": "y"
        },
        {
         "alignmentgroup": "True",
         "hovertemplate": "ticker=UN<br>Date=%{x}<br>Polarity=%{y}<extra></extra>",
         "legendgroup": "UN",
         "marker": {
          "color": "rgb(151,255,0)"
         },
         "name": "UN",
         "offsetgroup": "UN",
         "orientation": "v",
         "showlegend": true,
         "textposition": "auto",
         "type": "bar",
         "x": [
          "2020-11-02T00:00:00",
          "2020-11-03T00:00:00",
          "2020-11-04T00:00:00",
          "2020-11-05T00:00:00",
          "2020-11-06T00:00:00",
          "2020-11-08T00:00:00",
          "2020-11-09T00:00:00",
          "2020-11-10T00:00:00",
          "2020-11-11T00:00:00",
          "2020-11-12T00:00:00",
          "2020-11-13T00:00:00",
          "2020-11-14T00:00:00",
          "2020-11-15T00:00:00"
         ],
         "xaxis": "x",
         "y": [
          null,
          null,
          null,
          0.13636363636363635,
          null,
          null,
          null,
          0.05,
          null,
          null,
          0.275,
          0.09999999999999998,
          -0.2333333333333333
         ],
         "yaxis": "y"
        },
        {
         "alignmentgroup": "True",
         "hovertemplate": "ticker=UNH<br>Date=%{x}<br>Polarity=%{y}<extra></extra>",
         "legendgroup": "UNH",
         "marker": {
          "color": "rgb(255,234,0)"
         },
         "name": "UNH",
         "offsetgroup": "UNH",
         "orientation": "v",
         "showlegend": true,
         "textposition": "auto",
         "type": "bar",
         "x": [
          "2020-11-02T00:00:00",
          "2020-11-03T00:00:00",
          "2020-11-04T00:00:00",
          "2020-11-05T00:00:00",
          "2020-11-06T00:00:00",
          "2020-11-08T00:00:00",
          "2020-11-09T00:00:00",
          "2020-11-10T00:00:00",
          "2020-11-11T00:00:00",
          "2020-11-12T00:00:00",
          "2020-11-13T00:00:00",
          "2020-11-14T00:00:00",
          "2020-11-15T00:00:00"
         ],
         "xaxis": "x",
         "y": [
          null,
          null,
          null,
          null,
          null,
          null,
          null,
          -0.1,
          null,
          0.16666666666666666,
          0.0909090909090909,
          0.5,
          0.1268843193843194
         ],
         "yaxis": "y"
        },
        {
         "alignmentgroup": "True",
         "hovertemplate": "ticker=VZ<br>Date=%{x}<br>Polarity=%{y}<extra></extra>",
         "legendgroup": "VZ",
         "marker": {
          "color": "rgb(255,111,0)"
         },
         "name": "VZ",
         "offsetgroup": "VZ",
         "orientation": "v",
         "showlegend": true,
         "textposition": "auto",
         "type": "bar",
         "x": [
          "2020-11-02T00:00:00",
          "2020-11-03T00:00:00",
          "2020-11-04T00:00:00",
          "2020-11-05T00:00:00",
          "2020-11-06T00:00:00",
          "2020-11-08T00:00:00",
          "2020-11-09T00:00:00",
          "2020-11-10T00:00:00",
          "2020-11-11T00:00:00",
          "2020-11-12T00:00:00",
          "2020-11-13T00:00:00",
          "2020-11-14T00:00:00",
          "2020-11-15T00:00:00"
         ],
         "xaxis": "x",
         "y": [
          0.2285714285714286,
          null,
          null,
          null,
          null,
          null,
          0.2833333333333333,
          0.10714285714285714,
          0.25,
          null,
          0.26753246753246746,
          0.14375,
          0.16425133689839574
         ],
         "yaxis": "y"
        },
        {
         "alignmentgroup": "True",
         "hovertemplate": "ticker=WMT<br>Date=%{x}<br>Polarity=%{y}<extra></extra>",
         "legendgroup": "WMT",
         "marker": {
          "color": "rgb(255,0,0)"
         },
         "name": "WMT",
         "offsetgroup": "WMT",
         "orientation": "v",
         "showlegend": true,
         "textposition": "auto",
         "type": "bar",
         "x": [
          "2020-11-02T00:00:00",
          "2020-11-03T00:00:00",
          "2020-11-04T00:00:00",
          "2020-11-05T00:00:00",
          "2020-11-06T00:00:00",
          "2020-11-08T00:00:00",
          "2020-11-09T00:00:00",
          "2020-11-10T00:00:00",
          "2020-11-11T00:00:00",
          "2020-11-12T00:00:00",
          "2020-11-13T00:00:00",
          "2020-11-14T00:00:00",
          "2020-11-15T00:00:00"
         ],
         "xaxis": "x",
         "y": [
          null,
          null,
          null,
          null,
          null,
          null,
          0.5,
          null,
          null,
          null,
          0.25,
          0.23854166666666665,
          0.0560474537037037
         ],
         "yaxis": "y"
        }
       ],
       "layout": {
        "barmode": "relative",
        "legend": {
         "title": {
          "text": "ticker"
         },
         "tracegroupgap": 0
        },
        "template": {
         "data": {
          "bar": [
           {
            "error_x": {
             "color": "#f2f5fa"
            },
            "error_y": {
             "color": "#f2f5fa"
            },
            "marker": {
             "line": {
              "color": "rgb(17,17,17)",
              "width": 0.5
             }
            },
            "type": "bar"
           }
          ],
          "barpolar": [
           {
            "marker": {
             "line": {
              "color": "rgb(17,17,17)",
              "width": 0.5
             }
            },
            "type": "barpolar"
           }
          ],
          "carpet": [
           {
            "aaxis": {
             "endlinecolor": "#A2B1C6",
             "gridcolor": "#506784",
             "linecolor": "#506784",
             "minorgridcolor": "#506784",
             "startlinecolor": "#A2B1C6"
            },
            "baxis": {
             "endlinecolor": "#A2B1C6",
             "gridcolor": "#506784",
             "linecolor": "#506784",
             "minorgridcolor": "#506784",
             "startlinecolor": "#A2B1C6"
            },
            "type": "carpet"
           }
          ],
          "choropleth": [
           {
            "colorbar": {
             "outlinewidth": 0,
             "ticks": ""
            },
            "type": "choropleth"
           }
          ],
          "contour": [
           {
            "colorbar": {
             "outlinewidth": 0,
             "ticks": ""
            },
            "colorscale": [
             [
              0,
              "#0d0887"
             ],
             [
              0.1111111111111111,
              "#46039f"
             ],
             [
              0.2222222222222222,
              "#7201a8"
             ],
             [
              0.3333333333333333,
              "#9c179e"
             ],
             [
              0.4444444444444444,
              "#bd3786"
             ],
             [
              0.5555555555555556,
              "#d8576b"
             ],
             [
              0.6666666666666666,
              "#ed7953"
             ],
             [
              0.7777777777777778,
              "#fb9f3a"
             ],
             [
              0.8888888888888888,
              "#fdca26"
             ],
             [
              1,
              "#f0f921"
             ]
            ],
            "type": "contour"
           }
          ],
          "contourcarpet": [
           {
            "colorbar": {
             "outlinewidth": 0,
             "ticks": ""
            },
            "type": "contourcarpet"
           }
          ],
          "heatmap": [
           {
            "colorbar": {
             "outlinewidth": 0,
             "ticks": ""
            },
            "colorscale": [
             [
              0,
              "#0d0887"
             ],
             [
              0.1111111111111111,
              "#46039f"
             ],
             [
              0.2222222222222222,
              "#7201a8"
             ],
             [
              0.3333333333333333,
              "#9c179e"
             ],
             [
              0.4444444444444444,
              "#bd3786"
             ],
             [
              0.5555555555555556,
              "#d8576b"
             ],
             [
              0.6666666666666666,
              "#ed7953"
             ],
             [
              0.7777777777777778,
              "#fb9f3a"
             ],
             [
              0.8888888888888888,
              "#fdca26"
             ],
             [
              1,
              "#f0f921"
             ]
            ],
            "type": "heatmap"
           }
          ],
          "heatmapgl": [
           {
            "colorbar": {
             "outlinewidth": 0,
             "ticks": ""
            },
            "colorscale": [
             [
              0,
              "#0d0887"
             ],
             [
              0.1111111111111111,
              "#46039f"
             ],
             [
              0.2222222222222222,
              "#7201a8"
             ],
             [
              0.3333333333333333,
              "#9c179e"
             ],
             [
              0.4444444444444444,
              "#bd3786"
             ],
             [
              0.5555555555555556,
              "#d8576b"
             ],
             [
              0.6666666666666666,
              "#ed7953"
             ],
             [
              0.7777777777777778,
              "#fb9f3a"
             ],
             [
              0.8888888888888888,
              "#fdca26"
             ],
             [
              1,
              "#f0f921"
             ]
            ],
            "type": "heatmapgl"
           }
          ],
          "histogram": [
           {
            "marker": {
             "colorbar": {
              "outlinewidth": 0,
              "ticks": ""
             }
            },
            "type": "histogram"
           }
          ],
          "histogram2d": [
           {
            "colorbar": {
             "outlinewidth": 0,
             "ticks": ""
            },
            "colorscale": [
             [
              0,
              "#0d0887"
             ],
             [
              0.1111111111111111,
              "#46039f"
             ],
             [
              0.2222222222222222,
              "#7201a8"
             ],
             [
              0.3333333333333333,
              "#9c179e"
             ],
             [
              0.4444444444444444,
              "#bd3786"
             ],
             [
              0.5555555555555556,
              "#d8576b"
             ],
             [
              0.6666666666666666,
              "#ed7953"
             ],
             [
              0.7777777777777778,
              "#fb9f3a"
             ],
             [
              0.8888888888888888,
              "#fdca26"
             ],
             [
              1,
              "#f0f921"
             ]
            ],
            "type": "histogram2d"
           }
          ],
          "histogram2dcontour": [
           {
            "colorbar": {
             "outlinewidth": 0,
             "ticks": ""
            },
            "colorscale": [
             [
              0,
              "#0d0887"
             ],
             [
              0.1111111111111111,
              "#46039f"
             ],
             [
              0.2222222222222222,
              "#7201a8"
             ],
             [
              0.3333333333333333,
              "#9c179e"
             ],
             [
              0.4444444444444444,
              "#bd3786"
             ],
             [
              0.5555555555555556,
              "#d8576b"
             ],
             [
              0.6666666666666666,
              "#ed7953"
             ],
             [
              0.7777777777777778,
              "#fb9f3a"
             ],
             [
              0.8888888888888888,
              "#fdca26"
             ],
             [
              1,
              "#f0f921"
             ]
            ],
            "type": "histogram2dcontour"
           }
          ],
          "mesh3d": [
           {
            "colorbar": {
             "outlinewidth": 0,
             "ticks": ""
            },
            "type": "mesh3d"
           }
          ],
          "parcoords": [
           {
            "line": {
             "colorbar": {
              "outlinewidth": 0,
              "ticks": ""
             }
            },
            "type": "parcoords"
           }
          ],
          "pie": [
           {
            "automargin": true,
            "type": "pie"
           }
          ],
          "scatter": [
           {
            "marker": {
             "line": {
              "color": "#283442"
             }
            },
            "type": "scatter"
           }
          ],
          "scatter3d": [
           {
            "line": {
             "colorbar": {
              "outlinewidth": 0,
              "ticks": ""
             }
            },
            "marker": {
             "colorbar": {
              "outlinewidth": 0,
              "ticks": ""
             }
            },
            "type": "scatter3d"
           }
          ],
          "scattercarpet": [
           {
            "marker": {
             "colorbar": {
              "outlinewidth": 0,
              "ticks": ""
             }
            },
            "type": "scattercarpet"
           }
          ],
          "scattergeo": [
           {
            "marker": {
             "colorbar": {
              "outlinewidth": 0,
              "ticks": ""
             }
            },
            "type": "scattergeo"
           }
          ],
          "scattergl": [
           {
            "marker": {
             "line": {
              "color": "#283442"
             }
            },
            "type": "scattergl"
           }
          ],
          "scattermapbox": [
           {
            "marker": {
             "colorbar": {
              "outlinewidth": 0,
              "ticks": ""
             }
            },
            "type": "scattermapbox"
           }
          ],
          "scatterpolar": [
           {
            "marker": {
             "colorbar": {
              "outlinewidth": 0,
              "ticks": ""
             }
            },
            "type": "scatterpolar"
           }
          ],
          "scatterpolargl": [
           {
            "marker": {
             "colorbar": {
              "outlinewidth": 0,
              "ticks": ""
             }
            },
            "type": "scatterpolargl"
           }
          ],
          "scatterternary": [
           {
            "marker": {
             "colorbar": {
              "outlinewidth": 0,
              "ticks": ""
             }
            },
            "type": "scatterternary"
           }
          ],
          "surface": [
           {
            "colorbar": {
             "outlinewidth": 0,
             "ticks": ""
            },
            "colorscale": [
             [
              0,
              "#0d0887"
             ],
             [
              0.1111111111111111,
              "#46039f"
             ],
             [
              0.2222222222222222,
              "#7201a8"
             ],
             [
              0.3333333333333333,
              "#9c179e"
             ],
             [
              0.4444444444444444,
              "#bd3786"
             ],
             [
              0.5555555555555556,
              "#d8576b"
             ],
             [
              0.6666666666666666,
              "#ed7953"
             ],
             [
              0.7777777777777778,
              "#fb9f3a"
             ],
             [
              0.8888888888888888,
              "#fdca26"
             ],
             [
              1,
              "#f0f921"
             ]
            ],
            "type": "surface"
           }
          ],
          "table": [
           {
            "cells": {
             "fill": {
              "color": "#506784"
             },
             "line": {
              "color": "rgb(17,17,17)"
             }
            },
            "header": {
             "fill": {
              "color": "#2a3f5f"
             },
             "line": {
              "color": "rgb(17,17,17)"
             }
            },
            "type": "table"
           }
          ]
         },
         "layout": {
          "annotationdefaults": {
           "arrowcolor": "#f2f5fa",
           "arrowhead": 0,
           "arrowwidth": 1
          },
          "coloraxis": {
           "colorbar": {
            "outlinewidth": 0,
            "ticks": ""
           }
          },
          "colorscale": {
           "diverging": [
            [
             0,
             "#8e0152"
            ],
            [
             0.1,
             "#c51b7d"
            ],
            [
             0.2,
             "#de77ae"
            ],
            [
             0.3,
             "#f1b6da"
            ],
            [
             0.4,
             "#fde0ef"
            ],
            [
             0.5,
             "#f7f7f7"
            ],
            [
             0.6,
             "#e6f5d0"
            ],
            [
             0.7,
             "#b8e186"
            ],
            [
             0.8,
             "#7fbc41"
            ],
            [
             0.9,
             "#4d9221"
            ],
            [
             1,
             "#276419"
            ]
           ],
           "sequential": [
            [
             0,
             "#0d0887"
            ],
            [
             0.1111111111111111,
             "#46039f"
            ],
            [
             0.2222222222222222,
             "#7201a8"
            ],
            [
             0.3333333333333333,
             "#9c179e"
            ],
            [
             0.4444444444444444,
             "#bd3786"
            ],
            [
             0.5555555555555556,
             "#d8576b"
            ],
            [
             0.6666666666666666,
             "#ed7953"
            ],
            [
             0.7777777777777778,
             "#fb9f3a"
            ],
            [
             0.8888888888888888,
             "#fdca26"
            ],
            [
             1,
             "#f0f921"
            ]
           ],
           "sequentialminus": [
            [
             0,
             "#0d0887"
            ],
            [
             0.1111111111111111,
             "#46039f"
            ],
            [
             0.2222222222222222,
             "#7201a8"
            ],
            [
             0.3333333333333333,
             "#9c179e"
            ],
            [
             0.4444444444444444,
             "#bd3786"
            ],
            [
             0.5555555555555556,
             "#d8576b"
            ],
            [
             0.6666666666666666,
             "#ed7953"
            ],
            [
             0.7777777777777778,
             "#fb9f3a"
            ],
            [
             0.8888888888888888,
             "#fdca26"
            ],
            [
             1,
             "#f0f921"
            ]
           ]
          },
          "colorway": [
           "#636efa",
           "#EF553B",
           "#00cc96",
           "#ab63fa",
           "#FFA15A",
           "#19d3f3",
           "#FF6692",
           "#B6E880",
           "#FF97FF",
           "#FECB52"
          ],
          "font": {
           "color": "#f2f5fa"
          },
          "geo": {
           "bgcolor": "rgb(17,17,17)",
           "lakecolor": "rgb(17,17,17)",
           "landcolor": "rgb(17,17,17)",
           "showlakes": true,
           "showland": true,
           "subunitcolor": "#506784"
          },
          "hoverlabel": {
           "align": "left"
          },
          "hovermode": "closest",
          "mapbox": {
           "style": "dark"
          },
          "paper_bgcolor": "rgb(17,17,17)",
          "plot_bgcolor": "rgb(17,17,17)",
          "polar": {
           "angularaxis": {
            "gridcolor": "#506784",
            "linecolor": "#506784",
            "ticks": ""
           },
           "bgcolor": "rgb(17,17,17)",
           "radialaxis": {
            "gridcolor": "#506784",
            "linecolor": "#506784",
            "ticks": ""
           }
          },
          "scene": {
           "xaxis": {
            "backgroundcolor": "rgb(17,17,17)",
            "gridcolor": "#506784",
            "gridwidth": 2,
            "linecolor": "#506784",
            "showbackground": true,
            "ticks": "",
            "zerolinecolor": "#C8D4E3"
           },
           "yaxis": {
            "backgroundcolor": "rgb(17,17,17)",
            "gridcolor": "#506784",
            "gridwidth": 2,
            "linecolor": "#506784",
            "showbackground": true,
            "ticks": "",
            "zerolinecolor": "#C8D4E3"
           },
           "zaxis": {
            "backgroundcolor": "rgb(17,17,17)",
            "gridcolor": "#506784",
            "gridwidth": 2,
            "linecolor": "#506784",
            "showbackground": true,
            "ticks": "",
            "zerolinecolor": "#C8D4E3"
           }
          },
          "shapedefaults": {
           "line": {
            "color": "#f2f5fa"
           }
          },
          "sliderdefaults": {
           "bgcolor": "#C8D4E3",
           "bordercolor": "rgb(17,17,17)",
           "borderwidth": 1,
           "tickwidth": 0
          },
          "ternary": {
           "aaxis": {
            "gridcolor": "#506784",
            "linecolor": "#506784",
            "ticks": ""
           },
           "baxis": {
            "gridcolor": "#506784",
            "linecolor": "#506784",
            "ticks": ""
           },
           "bgcolor": "rgb(17,17,17)",
           "caxis": {
            "gridcolor": "#506784",
            "linecolor": "#506784",
            "ticks": ""
           }
          },
          "title": {
           "x": 0.05
          },
          "updatemenudefaults": {
           "bgcolor": "#506784",
           "borderwidth": 0
          },
          "xaxis": {
           "automargin": true,
           "gridcolor": "#283442",
           "linecolor": "#506784",
           "ticks": "",
           "title": {
            "standoff": 15
           },
           "zerolinecolor": "#283442",
           "zerolinewidth": 2
          },
          "yaxis": {
           "automargin": true,
           "gridcolor": "#283442",
           "linecolor": "#506784",
           "ticks": "",
           "title": {
            "standoff": 15
           },
           "zerolinecolor": "#283442",
           "zerolinewidth": 2
          }
         }
        },
        "title": {
         "text": "Average Polarity of Stock Headlines"
        },
        "xaxis": {
         "anchor": "y",
         "domain": [
          0,
          1
         ],
         "title": {
          "text": "Date"
         }
        },
        "yaxis": {
         "anchor": "x",
         "domain": [
          0,
          1
         ],
         "title": {
          "text": "Polarity"
         }
        }
       }
      },
      "text/html": [
       "<div>                            <div id=\"8ad6ee83-fa0c-4708-ba1c-cf523ae0765d\" class=\"plotly-graph-div\" style=\"height:525px; width:100%;\"></div>            <script type=\"text/javascript\">                require([\"plotly\"], function(Plotly) {                    window.PLOTLYENV=window.PLOTLYENV || {};                                    if (document.getElementById(\"8ad6ee83-fa0c-4708-ba1c-cf523ae0765d\")) {                    Plotly.newPlot(                        \"8ad6ee83-fa0c-4708-ba1c-cf523ae0765d\",                        [{\"alignmentgroup\": \"True\", \"hovertemplate\": \"ticker=AAPL<br>Date=%{x}<br>Polarity=%{y}<extra></extra>\", \"legendgroup\": \"AAPL\", \"marker\": {\"color\": \"rgb(150,0,90)\"}, \"name\": \"AAPL\", \"offsetgroup\": \"AAPL\", \"orientation\": \"v\", \"showlegend\": true, \"textposition\": \"auto\", \"type\": \"bar\", \"x\": [\"2020-11-02T00:00:00\", \"2020-11-03T00:00:00\", \"2020-11-04T00:00:00\", \"2020-11-05T00:00:00\", \"2020-11-06T00:00:00\", \"2020-11-08T00:00:00\", \"2020-11-09T00:00:00\", \"2020-11-10T00:00:00\", \"2020-11-11T00:00:00\", \"2020-11-12T00:00:00\", \"2020-11-13T00:00:00\", \"2020-11-14T00:00:00\", \"2020-11-15T00:00:00\"], \"xaxis\": \"x\", \"y\": [null, null, null, null, null, null, null, 0.16, null, 0.24285714285714285, null, null, 0.1403799903799904], \"yaxis\": \"y\"}, {\"alignmentgroup\": \"True\", \"hovertemplate\": \"ticker=ABBV<br>Date=%{x}<br>Polarity=%{y}<extra></extra>\", \"legendgroup\": \"ABBV\", \"marker\": {\"color\": \"rgb(0,0,200)\"}, \"name\": \"ABBV\", \"offsetgroup\": \"ABBV\", \"orientation\": \"v\", \"showlegend\": true, \"textposition\": \"auto\", \"type\": \"bar\", \"x\": [\"2020-11-02T00:00:00\", \"2020-11-03T00:00:00\", \"2020-11-04T00:00:00\", \"2020-11-05T00:00:00\", \"2020-11-06T00:00:00\", \"2020-11-08T00:00:00\", \"2020-11-09T00:00:00\", \"2020-11-10T00:00:00\", \"2020-11-11T00:00:00\", \"2020-11-12T00:00:00\", \"2020-11-13T00:00:00\", \"2020-11-14T00:00:00\", \"2020-11-15T00:00:00\"], \"xaxis\": \"x\", \"y\": [0.25, null, null, 0.05, null, null, null, 0.12384259259259263, -0.16666666666666666, 0.2393939393939394, 0.23042929292929293, 0.2866666666666666, null], \"yaxis\": \"y\"}, {\"alignmentgroup\": \"True\", \"hovertemplate\": \"ticker=ABT<br>Date=%{x}<br>Polarity=%{y}<extra></extra>\", \"legendgroup\": \"ABT\", \"marker\": {\"color\": \"rgb(0,25,255)\"}, \"name\": \"ABT\", \"offsetgroup\": \"ABT\", \"orientation\": \"v\", \"showlegend\": true, \"textposition\": \"auto\", \"type\": \"bar\", \"x\": [\"2020-11-02T00:00:00\", \"2020-11-03T00:00:00\", \"2020-11-04T00:00:00\", \"2020-11-05T00:00:00\", \"2020-11-06T00:00:00\", \"2020-11-08T00:00:00\", \"2020-11-09T00:00:00\", \"2020-11-10T00:00:00\", \"2020-11-11T00:00:00\", \"2020-11-12T00:00:00\", \"2020-11-13T00:00:00\", \"2020-11-14T00:00:00\", \"2020-11-15T00:00:00\"], \"xaxis\": \"x\", \"y\": [null, null, null, null, null, -0.08560606060606057, -0.1, 0.07363636363636364, -0.15833333333333333, null, 0.10000000000000002, 6.938893903907228e-18, 0.06818181818181818], \"yaxis\": \"y\"}, {\"alignmentgroup\": \"True\", \"hovertemplate\": \"ticker=ADBE<br>Date=%{x}<br>Polarity=%{y}<extra></extra>\", \"legendgroup\": \"ADBE\", \"marker\": {\"color\": \"rgb(0,152,255)\"}, \"name\": \"ADBE\", \"offsetgroup\": \"ADBE\", \"orientation\": \"v\", \"showlegend\": true, \"textposition\": \"auto\", \"type\": \"bar\", \"x\": [\"2020-11-02T00:00:00\", \"2020-11-03T00:00:00\", \"2020-11-04T00:00:00\", \"2020-11-05T00:00:00\", \"2020-11-06T00:00:00\", \"2020-11-08T00:00:00\", \"2020-11-09T00:00:00\", \"2020-11-10T00:00:00\", \"2020-11-11T00:00:00\", \"2020-11-12T00:00:00\", \"2020-11-13T00:00:00\", \"2020-11-14T00:00:00\", \"2020-11-15T00:00:00\"], \"xaxis\": \"x\", \"y\": [null, null, null, null, null, null, null, null, null, 0.07, 0.21666666666666667, 0.275, 0.25], \"yaxis\": \"y\"}, {\"alignmentgroup\": \"True\", \"hovertemplate\": \"ticker=AMZN<br>Date=%{x}<br>Polarity=%{y}<extra></extra>\", \"legendgroup\": \"AMZN\", \"marker\": {\"color\": \"rgb(44,255,150)\"}, \"name\": \"AMZN\", \"offsetgroup\": \"AMZN\", \"orientation\": \"v\", \"showlegend\": true, \"textposition\": \"auto\", \"type\": \"bar\", \"x\": [\"2020-11-02T00:00:00\", \"2020-11-03T00:00:00\", \"2020-11-04T00:00:00\", \"2020-11-05T00:00:00\", \"2020-11-06T00:00:00\", \"2020-11-08T00:00:00\", \"2020-11-09T00:00:00\", \"2020-11-10T00:00:00\", \"2020-11-11T00:00:00\", \"2020-11-12T00:00:00\", \"2020-11-13T00:00:00\", \"2020-11-14T00:00:00\", \"2020-11-15T00:00:00\"], \"xaxis\": \"x\", \"y\": [null, null, null, null, null, null, null, 0.3666666666666667, -0.6, -0.21547619047619046, null, null, 0.06906565656565657], \"yaxis\": \"y\"}, {\"alignmentgroup\": \"True\", \"hovertemplate\": \"ticker=ASML<br>Date=%{x}<br>Polarity=%{y}<extra></extra>\", \"legendgroup\": \"ASML\", \"marker\": {\"color\": \"rgb(151,255,0)\"}, \"name\": \"ASML\", \"offsetgroup\": \"ASML\", \"orientation\": \"v\", \"showlegend\": true, \"textposition\": \"auto\", \"type\": \"bar\", \"x\": [\"2020-11-02T00:00:00\", \"2020-11-03T00:00:00\", \"2020-11-04T00:00:00\", \"2020-11-05T00:00:00\", \"2020-11-06T00:00:00\", \"2020-11-08T00:00:00\", \"2020-11-09T00:00:00\", \"2020-11-10T00:00:00\", \"2020-11-11T00:00:00\", \"2020-11-12T00:00:00\", \"2020-11-13T00:00:00\", \"2020-11-14T00:00:00\", \"2020-11-15T00:00:00\"], \"xaxis\": \"x\", \"y\": [null, 0.25, null, null, 0.65, null, 0.17532467532467533, 0.06818181818181818, 0.7, 0.06818181818181818, -0.03787878787878788, null, 0.15], \"yaxis\": \"y\"}, {\"alignmentgroup\": \"True\", \"hovertemplate\": \"ticker=BABA<br>Date=%{x}<br>Polarity=%{y}<extra></extra>\", \"legendgroup\": \"BABA\", \"marker\": {\"color\": \"rgb(255,234,0)\"}, \"name\": \"BABA\", \"offsetgroup\": \"BABA\", \"orientation\": \"v\", \"showlegend\": true, \"textposition\": \"auto\", \"type\": \"bar\", \"x\": [\"2020-11-02T00:00:00\", \"2020-11-03T00:00:00\", \"2020-11-04T00:00:00\", \"2020-11-05T00:00:00\", \"2020-11-06T00:00:00\", \"2020-11-08T00:00:00\", \"2020-11-09T00:00:00\", \"2020-11-10T00:00:00\", \"2020-11-11T00:00:00\", \"2020-11-12T00:00:00\", \"2020-11-13T00:00:00\", \"2020-11-14T00:00:00\", \"2020-11-15T00:00:00\"], \"xaxis\": \"x\", \"y\": [null, null, null, null, null, null, null, 0.5, null, null, 0.28030303030303033, 0.23333333333333334, 0.020634920634920634], \"yaxis\": \"y\"}, {\"alignmentgroup\": \"True\", \"hovertemplate\": \"ticker=BAC<br>Date=%{x}<br>Polarity=%{y}<extra></extra>\", \"legendgroup\": \"BAC\", \"marker\": {\"color\": \"rgb(255,111,0)\"}, \"name\": \"BAC\", \"offsetgroup\": \"BAC\", \"orientation\": \"v\", \"showlegend\": true, \"textposition\": \"auto\", \"type\": \"bar\", \"x\": [\"2020-11-02T00:00:00\", \"2020-11-03T00:00:00\", \"2020-11-04T00:00:00\", \"2020-11-05T00:00:00\", \"2020-11-06T00:00:00\", \"2020-11-08T00:00:00\", \"2020-11-09T00:00:00\", \"2020-11-10T00:00:00\", \"2020-11-11T00:00:00\", \"2020-11-12T00:00:00\", \"2020-11-13T00:00:00\", \"2020-11-14T00:00:00\", \"2020-11-15T00:00:00\"], \"xaxis\": \"x\", \"y\": [null, null, null, null, null, null, null, null, null, null, null, null, -0.005656565656565659], \"yaxis\": \"y\"}, {\"alignmentgroup\": \"True\", \"hovertemplate\": \"ticker=CMCSA<br>Date=%{x}<br>Polarity=%{y}<extra></extra>\", \"legendgroup\": \"CMCSA\", \"marker\": {\"color\": \"rgb(255,0,0)\"}, \"name\": \"CMCSA\", \"offsetgroup\": \"CMCSA\", \"orientation\": \"v\", \"showlegend\": true, \"textposition\": \"auto\", \"type\": \"bar\", \"x\": [\"2020-11-02T00:00:00\", \"2020-11-03T00:00:00\", \"2020-11-04T00:00:00\", \"2020-11-05T00:00:00\", \"2020-11-06T00:00:00\", \"2020-11-08T00:00:00\", \"2020-11-09T00:00:00\", \"2020-11-10T00:00:00\", \"2020-11-11T00:00:00\", \"2020-11-12T00:00:00\", \"2020-11-13T00:00:00\", \"2020-11-14T00:00:00\", \"2020-11-15T00:00:00\"], \"xaxis\": \"x\", \"y\": [0.0047619047619047545, null, null, null, null, null, null, null, null, null, null, 0.13333333333333333, -0.02677616501145913], \"yaxis\": \"y\"}, {\"alignmentgroup\": \"True\", \"hovertemplate\": \"ticker=COST<br>Date=%{x}<br>Polarity=%{y}<extra></extra>\", \"legendgroup\": \"COST\", \"marker\": {\"color\": \"rgb(150,0,90)\"}, \"name\": \"COST\", \"offsetgroup\": \"COST\", \"orientation\": \"v\", \"showlegend\": true, \"textposition\": \"auto\", \"type\": \"bar\", \"x\": [\"2020-11-02T00:00:00\", \"2020-11-03T00:00:00\", \"2020-11-04T00:00:00\", \"2020-11-05T00:00:00\", \"2020-11-06T00:00:00\", \"2020-11-08T00:00:00\", \"2020-11-09T00:00:00\", \"2020-11-10T00:00:00\", \"2020-11-11T00:00:00\", \"2020-11-12T00:00:00\", \"2020-11-13T00:00:00\", \"2020-11-14T00:00:00\", \"2020-11-15T00:00:00\"], \"xaxis\": \"x\", \"y\": [null, null, null, null, null, null, null, null, null, 0.3181818181818182, 0.2305194805194805, null, 0.37013888888888885], \"yaxis\": \"y\"}, {\"alignmentgroup\": \"True\", \"hovertemplate\": \"ticker=CRM<br>Date=%{x}<br>Polarity=%{y}<extra></extra>\", \"legendgroup\": \"CRM\", \"marker\": {\"color\": \"rgb(0,0,200)\"}, \"name\": \"CRM\", \"offsetgroup\": \"CRM\", \"orientation\": \"v\", \"showlegend\": true, \"textposition\": \"auto\", \"type\": \"bar\", \"x\": [\"2020-11-02T00:00:00\", \"2020-11-03T00:00:00\", \"2020-11-04T00:00:00\", \"2020-11-05T00:00:00\", \"2020-11-06T00:00:00\", \"2020-11-08T00:00:00\", \"2020-11-09T00:00:00\", \"2020-11-10T00:00:00\", \"2020-11-11T00:00:00\", \"2020-11-12T00:00:00\", \"2020-11-13T00:00:00\", \"2020-11-14T00:00:00\", \"2020-11-15T00:00:00\"], \"xaxis\": \"x\", \"y\": [null, 0.19999999999999998, null, null, -0.09999999999999999, null, 0.38541666666666663, null, null, null, null, 0.11363636363636363, 0.14820913213770356], \"yaxis\": \"y\"}, {\"alignmentgroup\": \"True\", \"hovertemplate\": \"ticker=CSCO<br>Date=%{x}<br>Polarity=%{y}<extra></extra>\", \"legendgroup\": \"CSCO\", \"marker\": {\"color\": \"rgb(0,25,255)\"}, \"name\": \"CSCO\", \"offsetgroup\": \"CSCO\", \"orientation\": \"v\", \"showlegend\": true, \"textposition\": \"auto\", \"type\": \"bar\", \"x\": [\"2020-11-02T00:00:00\", \"2020-11-03T00:00:00\", \"2020-11-04T00:00:00\", \"2020-11-05T00:00:00\", \"2020-11-06T00:00:00\", \"2020-11-08T00:00:00\", \"2020-11-09T00:00:00\", \"2020-11-10T00:00:00\", \"2020-11-11T00:00:00\", \"2020-11-12T00:00:00\", \"2020-11-13T00:00:00\", \"2020-11-14T00:00:00\", \"2020-11-15T00:00:00\"], \"xaxis\": \"x\", \"y\": [null, 0.13636363636363635, null, null, 0.375, null, -0.1, 0.10714285714285714, 0.10714285714285714, 0.13636363636363635, 0.12181818181818183, 0.19285714285714287, 0.1888257575757576], \"yaxis\": \"y\"}, {\"alignmentgroup\": \"True\", \"hovertemplate\": \"ticker=CVX<br>Date=%{x}<br>Polarity=%{y}<extra></extra>\", \"legendgroup\": \"CVX\", \"marker\": {\"color\": \"rgb(0,152,255)\"}, \"name\": \"CVX\", \"offsetgroup\": \"CVX\", \"orientation\": \"v\", \"showlegend\": true, \"textposition\": \"auto\", \"type\": \"bar\", \"x\": [\"2020-11-02T00:00:00\", \"2020-11-03T00:00:00\", \"2020-11-04T00:00:00\", \"2020-11-05T00:00:00\", \"2020-11-06T00:00:00\", \"2020-11-08T00:00:00\", \"2020-11-09T00:00:00\", \"2020-11-10T00:00:00\", \"2020-11-11T00:00:00\", \"2020-11-12T00:00:00\", \"2020-11-13T00:00:00\", \"2020-11-14T00:00:00\", \"2020-11-15T00:00:00\"], \"xaxis\": \"x\", \"y\": [null, null, null, null, null, null, null, 0.3, null, null, 0.4, -0.17276785714285714, 0.15876015797068432], \"yaxis\": \"y\"}, {\"alignmentgroup\": \"True\", \"hovertemplate\": \"ticker=DHR<br>Date=%{x}<br>Polarity=%{y}<extra></extra>\", \"legendgroup\": \"DHR\", \"marker\": {\"color\": \"rgb(44,255,150)\"}, \"name\": \"DHR\", \"offsetgroup\": \"DHR\", \"orientation\": \"v\", \"showlegend\": true, \"textposition\": \"auto\", \"type\": \"bar\", \"x\": [\"2020-11-02T00:00:00\", \"2020-11-03T00:00:00\", \"2020-11-04T00:00:00\", \"2020-11-05T00:00:00\", \"2020-11-06T00:00:00\", \"2020-11-08T00:00:00\", \"2020-11-09T00:00:00\", \"2020-11-10T00:00:00\", \"2020-11-11T00:00:00\", \"2020-11-12T00:00:00\", \"2020-11-13T00:00:00\", \"2020-11-14T00:00:00\", \"2020-11-15T00:00:00\"], \"xaxis\": \"x\", \"y\": [null, null, null, null, null, null, 0.06818181818181818, -0.1, 0.28125, null, null, 0.26666666666666666, null], \"yaxis\": \"y\"}, {\"alignmentgroup\": \"True\", \"hovertemplate\": \"ticker=DIS<br>Date=%{x}<br>Polarity=%{y}<extra></extra>\", \"legendgroup\": \"DIS\", \"marker\": {\"color\": \"rgb(151,255,0)\"}, \"name\": \"DIS\", \"offsetgroup\": \"DIS\", \"orientation\": \"v\", \"showlegend\": true, \"textposition\": \"auto\", \"type\": \"bar\", \"x\": [\"2020-11-02T00:00:00\", \"2020-11-03T00:00:00\", \"2020-11-04T00:00:00\", \"2020-11-05T00:00:00\", \"2020-11-06T00:00:00\", \"2020-11-08T00:00:00\", \"2020-11-09T00:00:00\", \"2020-11-10T00:00:00\", \"2020-11-11T00:00:00\", \"2020-11-12T00:00:00\", \"2020-11-13T00:00:00\", \"2020-11-14T00:00:00\", \"2020-11-15T00:00:00\"], \"xaxis\": \"x\", \"y\": [null, null, null, null, null, null, null, null, null, null, null, null, 0.5], \"yaxis\": \"y\"}, {\"alignmentgroup\": \"True\", \"hovertemplate\": \"ticker=GOOG<br>Date=%{x}<br>Polarity=%{y}<extra></extra>\", \"legendgroup\": \"GOOG\", \"marker\": {\"color\": \"rgb(255,234,0)\"}, \"name\": \"GOOG\", \"offsetgroup\": \"GOOG\", \"orientation\": \"v\", \"showlegend\": true, \"textposition\": \"auto\", \"type\": \"bar\", \"x\": [\"2020-11-02T00:00:00\", \"2020-11-03T00:00:00\", \"2020-11-04T00:00:00\", \"2020-11-05T00:00:00\", \"2020-11-06T00:00:00\", \"2020-11-08T00:00:00\", \"2020-11-09T00:00:00\", \"2020-11-10T00:00:00\", \"2020-11-11T00:00:00\", \"2020-11-12T00:00:00\", \"2020-11-13T00:00:00\", \"2020-11-14T00:00:00\", \"2020-11-15T00:00:00\"], \"xaxis\": \"x\", \"y\": [null, null, null, null, null, null, null, null, null, 0.4, 0.665625, null, 0.4211309523809524], \"yaxis\": \"y\"}, {\"alignmentgroup\": \"True\", \"hovertemplate\": \"ticker=GOOGL<br>Date=%{x}<br>Polarity=%{y}<extra></extra>\", \"legendgroup\": \"GOOGL\", \"marker\": {\"color\": \"rgb(255,111,0)\"}, \"name\": \"GOOGL\", \"offsetgroup\": \"GOOGL\", \"orientation\": \"v\", \"showlegend\": true, \"textposition\": \"auto\", \"type\": \"bar\", \"x\": [\"2020-11-02T00:00:00\", \"2020-11-03T00:00:00\", \"2020-11-04T00:00:00\", \"2020-11-05T00:00:00\", \"2020-11-06T00:00:00\", \"2020-11-08T00:00:00\", \"2020-11-09T00:00:00\", \"2020-11-10T00:00:00\", \"2020-11-11T00:00:00\", \"2020-11-12T00:00:00\", \"2020-11-13T00:00:00\", \"2020-11-14T00:00:00\", \"2020-11-15T00:00:00\"], \"xaxis\": \"x\", \"y\": [null, null, null, null, null, null, null, null, null, 0.4, 0.665625, null, 0.6071428571428571], \"yaxis\": \"y\"}, {\"alignmentgroup\": \"True\", \"hovertemplate\": \"ticker=HD<br>Date=%{x}<br>Polarity=%{y}<extra></extra>\", \"legendgroup\": \"HD\", \"marker\": {\"color\": \"rgb(255,0,0)\"}, \"name\": \"HD\", \"offsetgroup\": \"HD\", \"orientation\": \"v\", \"showlegend\": true, \"textposition\": \"auto\", \"type\": \"bar\", \"x\": [\"2020-11-02T00:00:00\", \"2020-11-03T00:00:00\", \"2020-11-04T00:00:00\", \"2020-11-05T00:00:00\", \"2020-11-06T00:00:00\", \"2020-11-08T00:00:00\", \"2020-11-09T00:00:00\", \"2020-11-10T00:00:00\", \"2020-11-11T00:00:00\", \"2020-11-12T00:00:00\", \"2020-11-13T00:00:00\", \"2020-11-14T00:00:00\", \"2020-11-15T00:00:00\"], \"xaxis\": \"x\", \"y\": [null, null, null, null, null, null, null, null, -0.05, 0.26250000000000007, 0.05909090909090908, 0.4819444444444444, 0.06997354497354497], \"yaxis\": \"y\"}, {\"alignmentgroup\": \"True\", \"hovertemplate\": \"ticker=INTC<br>Date=%{x}<br>Polarity=%{y}<extra></extra>\", \"legendgroup\": \"INTC\", \"marker\": {\"color\": \"rgb(150,0,90)\"}, \"name\": \"INTC\", \"offsetgroup\": \"INTC\", \"orientation\": \"v\", \"showlegend\": true, \"textposition\": \"auto\", \"type\": \"bar\", \"x\": [\"2020-11-02T00:00:00\", \"2020-11-03T00:00:00\", \"2020-11-04T00:00:00\", \"2020-11-05T00:00:00\", \"2020-11-06T00:00:00\", \"2020-11-08T00:00:00\", \"2020-11-09T00:00:00\", \"2020-11-10T00:00:00\", \"2020-11-11T00:00:00\", \"2020-11-12T00:00:00\", \"2020-11-13T00:00:00\", \"2020-11-14T00:00:00\", \"2020-11-15T00:00:00\"], \"xaxis\": \"x\", \"y\": [null, null, null, null, null, null, null, null, null, null, null, 0.17988215488215487, 0.047011784511784505], \"yaxis\": \"y\"}, {\"alignmentgroup\": \"True\", \"hovertemplate\": \"ticker=JNJ<br>Date=%{x}<br>Polarity=%{y}<extra></extra>\", \"legendgroup\": \"JNJ\", \"marker\": {\"color\": \"rgb(0,0,200)\"}, \"name\": \"JNJ\", \"offsetgroup\": \"JNJ\", \"orientation\": \"v\", \"showlegend\": true, \"textposition\": \"auto\", \"type\": \"bar\", \"x\": [\"2020-11-02T00:00:00\", \"2020-11-03T00:00:00\", \"2020-11-04T00:00:00\", \"2020-11-05T00:00:00\", \"2020-11-06T00:00:00\", \"2020-11-08T00:00:00\", \"2020-11-09T00:00:00\", \"2020-11-10T00:00:00\", \"2020-11-11T00:00:00\", \"2020-11-12T00:00:00\", \"2020-11-13T00:00:00\", \"2020-11-14T00:00:00\", \"2020-11-15T00:00:00\"], \"xaxis\": \"x\", \"y\": [null, null, null, 0.5, null, null, null, null, null, null, null, null, null], \"yaxis\": \"y\"}, {\"alignmentgroup\": \"True\", \"hovertemplate\": \"ticker=JPM<br>Date=%{x}<br>Polarity=%{y}<extra></extra>\", \"legendgroup\": \"JPM\", \"marker\": {\"color\": \"rgb(0,25,255)\"}, \"name\": \"JPM\", \"offsetgroup\": \"JPM\", \"orientation\": \"v\", \"showlegend\": true, \"textposition\": \"auto\", \"type\": \"bar\", \"x\": [\"2020-11-02T00:00:00\", \"2020-11-03T00:00:00\", \"2020-11-04T00:00:00\", \"2020-11-05T00:00:00\", \"2020-11-06T00:00:00\", \"2020-11-08T00:00:00\", \"2020-11-09T00:00:00\", \"2020-11-10T00:00:00\", \"2020-11-11T00:00:00\", \"2020-11-12T00:00:00\", \"2020-11-13T00:00:00\", \"2020-11-14T00:00:00\", \"2020-11-15T00:00:00\"], \"xaxis\": \"x\", \"y\": [null, null, null, null, null, null, null, -0.015151515151515152, null, null, 0.5, null, 0.07614237614237614], \"yaxis\": \"y\"}, {\"alignmentgroup\": \"True\", \"hovertemplate\": \"ticker=KO<br>Date=%{x}<br>Polarity=%{y}<extra></extra>\", \"legendgroup\": \"KO\", \"marker\": {\"color\": \"rgb(0,152,255)\"}, \"name\": \"KO\", \"offsetgroup\": \"KO\", \"orientation\": \"v\", \"showlegend\": true, \"textposition\": \"auto\", \"type\": \"bar\", \"x\": [\"2020-11-02T00:00:00\", \"2020-11-03T00:00:00\", \"2020-11-04T00:00:00\", \"2020-11-05T00:00:00\", \"2020-11-06T00:00:00\", \"2020-11-08T00:00:00\", \"2020-11-09T00:00:00\", \"2020-11-10T00:00:00\", \"2020-11-11T00:00:00\", \"2020-11-12T00:00:00\", \"2020-11-13T00:00:00\", \"2020-11-14T00:00:00\", \"2020-11-15T00:00:00\"], \"xaxis\": \"x\", \"y\": [null, null, null, null, null, null, 0.06818181818181818, null, null, null, -0.06060606060606061, 0.18219696969696966, 0.35401515151515156], \"yaxis\": \"y\"}, {\"alignmentgroup\": \"True\", \"hovertemplate\": \"ticker=MA<br>Date=%{x}<br>Polarity=%{y}<extra></extra>\", \"legendgroup\": \"MA\", \"marker\": {\"color\": \"rgb(44,255,150)\"}, \"name\": \"MA\", \"offsetgroup\": \"MA\", \"orientation\": \"v\", \"showlegend\": true, \"textposition\": \"auto\", \"type\": \"bar\", \"x\": [\"2020-11-02T00:00:00\", \"2020-11-03T00:00:00\", \"2020-11-04T00:00:00\", \"2020-11-05T00:00:00\", \"2020-11-06T00:00:00\", \"2020-11-08T00:00:00\", \"2020-11-09T00:00:00\", \"2020-11-10T00:00:00\", \"2020-11-11T00:00:00\", \"2020-11-12T00:00:00\", \"2020-11-13T00:00:00\", \"2020-11-14T00:00:00\", \"2020-11-15T00:00:00\"], \"xaxis\": \"x\", \"y\": [0.13333333333333333, null, null, null, null, null, null, 0.05, -0.12708333333333333, 0.2333333333333333, 0.1400462962962963, 0.050520833333333334, null], \"yaxis\": \"y\"}, {\"alignmentgroup\": \"True\", \"hovertemplate\": \"ticker=MCD<br>Date=%{x}<br>Polarity=%{y}<extra></extra>\", \"legendgroup\": \"MCD\", \"marker\": {\"color\": \"rgb(151,255,0)\"}, \"name\": \"MCD\", \"offsetgroup\": \"MCD\", \"orientation\": \"v\", \"showlegend\": true, \"textposition\": \"auto\", \"type\": \"bar\", \"x\": [\"2020-11-02T00:00:00\", \"2020-11-03T00:00:00\", \"2020-11-04T00:00:00\", \"2020-11-05T00:00:00\", \"2020-11-06T00:00:00\", \"2020-11-08T00:00:00\", \"2020-11-09T00:00:00\", \"2020-11-10T00:00:00\", \"2020-11-11T00:00:00\", \"2020-11-12T00:00:00\", \"2020-11-13T00:00:00\", \"2020-11-14T00:00:00\", \"2020-11-15T00:00:00\"], \"xaxis\": \"x\", \"y\": [null, null, null, null, null, null, 0.13636363636363635, null, null, null, null, -0.052777777777777785, -0.19399621212121212], \"yaxis\": \"y\"}, {\"alignmentgroup\": \"True\", \"hovertemplate\": \"ticker=MRK<br>Date=%{x}<br>Polarity=%{y}<extra></extra>\", \"legendgroup\": \"MRK\", \"marker\": {\"color\": \"rgb(255,234,0)\"}, \"name\": \"MRK\", \"offsetgroup\": \"MRK\", \"orientation\": \"v\", \"showlegend\": true, \"textposition\": \"auto\", \"type\": \"bar\", \"x\": [\"2020-11-02T00:00:00\", \"2020-11-03T00:00:00\", \"2020-11-04T00:00:00\", \"2020-11-05T00:00:00\", \"2020-11-06T00:00:00\", \"2020-11-08T00:00:00\", \"2020-11-09T00:00:00\", \"2020-11-10T00:00:00\", \"2020-11-11T00:00:00\", \"2020-11-12T00:00:00\", \"2020-11-13T00:00:00\", \"2020-11-14T00:00:00\", \"2020-11-15T00:00:00\"], \"xaxis\": \"x\", \"y\": [null, null, null, -0.2, null, null, null, null, -0.1, 0.03749999999999999, -0.01818181818181819, 0.06679894179894179, 0.07142857142857144], \"yaxis\": \"y\"}, {\"alignmentgroup\": \"True\", \"hovertemplate\": \"ticker=MSFT<br>Date=%{x}<br>Polarity=%{y}<extra></extra>\", \"legendgroup\": \"MSFT\", \"marker\": {\"color\": \"rgb(255,111,0)\"}, \"name\": \"MSFT\", \"offsetgroup\": \"MSFT\", \"orientation\": \"v\", \"showlegend\": true, \"textposition\": \"auto\", \"type\": \"bar\", \"x\": [\"2020-11-02T00:00:00\", \"2020-11-03T00:00:00\", \"2020-11-04T00:00:00\", \"2020-11-05T00:00:00\", \"2020-11-06T00:00:00\", \"2020-11-08T00:00:00\", \"2020-11-09T00:00:00\", \"2020-11-10T00:00:00\", \"2020-11-11T00:00:00\", \"2020-11-12T00:00:00\", \"2020-11-13T00:00:00\", \"2020-11-14T00:00:00\", \"2020-11-15T00:00:00\"], \"xaxis\": \"x\", \"y\": [null, null, null, null, null, null, null, null, null, 0.1, 0.18484848484848482, null, 0.19932659932659932], \"yaxis\": \"y\"}, {\"alignmentgroup\": \"True\", \"hovertemplate\": \"ticker=NFLX<br>Date=%{x}<br>Polarity=%{y}<extra></extra>\", \"legendgroup\": \"NFLX\", \"marker\": {\"color\": \"rgb(255,0,0)\"}, \"name\": \"NFLX\", \"offsetgroup\": \"NFLX\", \"orientation\": \"v\", \"showlegend\": true, \"textposition\": \"auto\", \"type\": \"bar\", \"x\": [\"2020-11-02T00:00:00\", \"2020-11-03T00:00:00\", \"2020-11-04T00:00:00\", \"2020-11-05T00:00:00\", \"2020-11-06T00:00:00\", \"2020-11-08T00:00:00\", \"2020-11-09T00:00:00\", \"2020-11-10T00:00:00\", \"2020-11-11T00:00:00\", \"2020-11-12T00:00:00\", \"2020-11-13T00:00:00\", \"2020-11-14T00:00:00\", \"2020-11-15T00:00:00\"], \"xaxis\": \"x\", \"y\": [null, null, null, null, null, null, null, null, null, 0.05, null, null, 0.025541125541125555], \"yaxis\": \"y\"}, {\"alignmentgroup\": \"True\", \"hovertemplate\": \"ticker=NVDA<br>Date=%{x}<br>Polarity=%{y}<extra></extra>\", \"legendgroup\": \"NVDA\", \"marker\": {\"color\": \"rgb(150,0,90)\"}, \"name\": \"NVDA\", \"offsetgroup\": \"NVDA\", \"orientation\": \"v\", \"showlegend\": true, \"textposition\": \"auto\", \"type\": \"bar\", \"x\": [\"2020-11-02T00:00:00\", \"2020-11-03T00:00:00\", \"2020-11-04T00:00:00\", \"2020-11-05T00:00:00\", \"2020-11-06T00:00:00\", \"2020-11-08T00:00:00\", \"2020-11-09T00:00:00\", \"2020-11-10T00:00:00\", \"2020-11-11T00:00:00\", \"2020-11-12T00:00:00\", \"2020-11-13T00:00:00\", \"2020-11-14T00:00:00\", \"2020-11-15T00:00:00\"], \"xaxis\": \"x\", \"y\": [null, null, null, null, null, null, 0.04166666666666667, null, null, null, 0.21428571428571427, 0.38888888888888884, -0.16388888888888895], \"yaxis\": \"y\"}, {\"alignmentgroup\": \"True\", \"hovertemplate\": \"ticker=NVS<br>Date=%{x}<br>Polarity=%{y}<extra></extra>\", \"legendgroup\": \"NVS\", \"marker\": {\"color\": \"rgb(0,0,200)\"}, \"name\": \"NVS\", \"offsetgroup\": \"NVS\", \"orientation\": \"v\", \"showlegend\": true, \"textposition\": \"auto\", \"type\": \"bar\", \"x\": [\"2020-11-02T00:00:00\", \"2020-11-03T00:00:00\", \"2020-11-04T00:00:00\", \"2020-11-05T00:00:00\", \"2020-11-06T00:00:00\", \"2020-11-08T00:00:00\", \"2020-11-09T00:00:00\", \"2020-11-10T00:00:00\", \"2020-11-11T00:00:00\", \"2020-11-12T00:00:00\", \"2020-11-13T00:00:00\", \"2020-11-14T00:00:00\", \"2020-11-15T00:00:00\"], \"xaxis\": \"x\", \"y\": [-0.075, null, 0.25, null, 0.3, null, null, null, 0.7, 0.20547979797979798, 0.2398148148148148, null, 0.08090132090132089], \"yaxis\": \"y\"}, {\"alignmentgroup\": \"True\", \"hovertemplate\": \"ticker=ORCL<br>Date=%{x}<br>Polarity=%{y}<extra></extra>\", \"legendgroup\": \"ORCL\", \"marker\": {\"color\": \"rgb(0,25,255)\"}, \"name\": \"ORCL\", \"offsetgroup\": \"ORCL\", \"orientation\": \"v\", \"showlegend\": true, \"textposition\": \"auto\", \"type\": \"bar\", \"x\": [\"2020-11-02T00:00:00\", \"2020-11-03T00:00:00\", \"2020-11-04T00:00:00\", \"2020-11-05T00:00:00\", \"2020-11-06T00:00:00\", \"2020-11-08T00:00:00\", \"2020-11-09T00:00:00\", \"2020-11-10T00:00:00\", \"2020-11-11T00:00:00\", \"2020-11-12T00:00:00\", \"2020-11-13T00:00:00\", \"2020-11-14T00:00:00\", \"2020-11-15T00:00:00\"], \"xaxis\": \"x\", \"y\": [0.13636363636363635, null, null, null, null, null, null, null, null, null, -0.21666666666666665, 0.00714285714285715, -0.5], \"yaxis\": \"y\"}, {\"alignmentgroup\": \"True\", \"hovertemplate\": \"ticker=PDD<br>Date=%{x}<br>Polarity=%{y}<extra></extra>\", \"legendgroup\": \"PDD\", \"marker\": {\"color\": \"rgb(0,152,255)\"}, \"name\": \"PDD\", \"offsetgroup\": \"PDD\", \"orientation\": \"v\", \"showlegend\": true, \"textposition\": \"auto\", \"type\": \"bar\", \"x\": [\"2020-11-02T00:00:00\", \"2020-11-03T00:00:00\", \"2020-11-04T00:00:00\", \"2020-11-05T00:00:00\", \"2020-11-06T00:00:00\", \"2020-11-08T00:00:00\", \"2020-11-09T00:00:00\", \"2020-11-10T00:00:00\", \"2020-11-11T00:00:00\", \"2020-11-12T00:00:00\", \"2020-11-13T00:00:00\", \"2020-11-14T00:00:00\", \"2020-11-15T00:00:00\"], \"xaxis\": \"x\", \"y\": [-0.6, 0.5, null, null, null, null, null, null, 0.25, 0.3125, 0.05013144263144263, 0.06022727272727273, 0.15], \"yaxis\": \"y\"}, {\"alignmentgroup\": \"True\", \"hovertemplate\": \"ticker=PEP<br>Date=%{x}<br>Polarity=%{y}<extra></extra>\", \"legendgroup\": \"PEP\", \"marker\": {\"color\": \"rgb(44,255,150)\"}, \"name\": \"PEP\", \"offsetgroup\": \"PEP\", \"orientation\": \"v\", \"showlegend\": true, \"textposition\": \"auto\", \"type\": \"bar\", \"x\": [\"2020-11-02T00:00:00\", \"2020-11-03T00:00:00\", \"2020-11-04T00:00:00\", \"2020-11-05T00:00:00\", \"2020-11-06T00:00:00\", \"2020-11-08T00:00:00\", \"2020-11-09T00:00:00\", \"2020-11-10T00:00:00\", \"2020-11-11T00:00:00\", \"2020-11-12T00:00:00\", \"2020-11-13T00:00:00\", \"2020-11-14T00:00:00\", \"2020-11-15T00:00:00\"], \"xaxis\": \"x\", \"y\": [null, null, 0.13636363636363635, null, null, null, 0.11161616161616161, null, null, 0.20166666666666666, 0.19494949494949496, 0.016883116883116885, 0.03333333333333333], \"yaxis\": \"y\"}, {\"alignmentgroup\": \"True\", \"hovertemplate\": \"ticker=PFE<br>Date=%{x}<br>Polarity=%{y}<extra></extra>\", \"legendgroup\": \"PFE\", \"marker\": {\"color\": \"rgb(151,255,0)\"}, \"name\": \"PFE\", \"offsetgroup\": \"PFE\", \"orientation\": \"v\", \"showlegend\": true, \"textposition\": \"auto\", \"type\": \"bar\", \"x\": [\"2020-11-02T00:00:00\", \"2020-11-03T00:00:00\", \"2020-11-04T00:00:00\", \"2020-11-05T00:00:00\", \"2020-11-06T00:00:00\", \"2020-11-08T00:00:00\", \"2020-11-09T00:00:00\", \"2020-11-10T00:00:00\", \"2020-11-11T00:00:00\", \"2020-11-12T00:00:00\", \"2020-11-13T00:00:00\", \"2020-11-14T00:00:00\", \"2020-11-15T00:00:00\"], \"xaxis\": \"x\", \"y\": [null, null, null, null, null, null, null, 0.3, 0.06818181818181818, 0.36189393939393943, null, null, 0.3190476190476191], \"yaxis\": \"y\"}, {\"alignmentgroup\": \"True\", \"hovertemplate\": \"ticker=PG<br>Date=%{x}<br>Polarity=%{y}<extra></extra>\", \"legendgroup\": \"PG\", \"marker\": {\"color\": \"rgb(255,234,0)\"}, \"name\": \"PG\", \"offsetgroup\": \"PG\", \"orientation\": \"v\", \"showlegend\": true, \"textposition\": \"auto\", \"type\": \"bar\", \"x\": [\"2020-11-02T00:00:00\", \"2020-11-03T00:00:00\", \"2020-11-04T00:00:00\", \"2020-11-05T00:00:00\", \"2020-11-06T00:00:00\", \"2020-11-08T00:00:00\", \"2020-11-09T00:00:00\", \"2020-11-10T00:00:00\", \"2020-11-11T00:00:00\", \"2020-11-12T00:00:00\", \"2020-11-13T00:00:00\", \"2020-11-14T00:00:00\", \"2020-11-15T00:00:00\"], \"xaxis\": \"x\", \"y\": [null, null, null, null, 0.37142857142857144, null, 0.011882716049382708, 0.18825757575757576, null, null, 0.06419753086419755, -0.15, 0.35], \"yaxis\": \"y\"}, {\"alignmentgroup\": \"True\", \"hovertemplate\": \"ticker=PYPL<br>Date=%{x}<br>Polarity=%{y}<extra></extra>\", \"legendgroup\": \"PYPL\", \"marker\": {\"color\": \"rgb(255,111,0)\"}, \"name\": \"PYPL\", \"offsetgroup\": \"PYPL\", \"orientation\": \"v\", \"showlegend\": true, \"textposition\": \"auto\", \"type\": \"bar\", \"x\": [\"2020-11-02T00:00:00\", \"2020-11-03T00:00:00\", \"2020-11-04T00:00:00\", \"2020-11-05T00:00:00\", \"2020-11-06T00:00:00\", \"2020-11-08T00:00:00\", \"2020-11-09T00:00:00\", \"2020-11-10T00:00:00\", \"2020-11-11T00:00:00\", \"2020-11-12T00:00:00\", \"2020-11-13T00:00:00\", \"2020-11-14T00:00:00\", \"2020-11-15T00:00:00\"], \"xaxis\": \"x\", \"y\": [null, null, null, null, null, null, null, 0.5, null, null, null, null, 0.13676353535353533], \"yaxis\": \"y\"}, {\"alignmentgroup\": \"True\", \"hovertemplate\": \"ticker=T<br>Date=%{x}<br>Polarity=%{y}<extra></extra>\", \"legendgroup\": \"T\", \"marker\": {\"color\": \"rgb(255,0,0)\"}, \"name\": \"T\", \"offsetgroup\": \"T\", \"orientation\": \"v\", \"showlegend\": true, \"textposition\": \"auto\", \"type\": \"bar\", \"x\": [\"2020-11-02T00:00:00\", \"2020-11-03T00:00:00\", \"2020-11-04T00:00:00\", \"2020-11-05T00:00:00\", \"2020-11-06T00:00:00\", \"2020-11-08T00:00:00\", \"2020-11-09T00:00:00\", \"2020-11-10T00:00:00\", \"2020-11-11T00:00:00\", \"2020-11-12T00:00:00\", \"2020-11-13T00:00:00\", \"2020-11-14T00:00:00\", \"2020-11-15T00:00:00\"], \"xaxis\": \"x\", \"y\": [null, null, null, null, null, null, null, 0.15, null, 0.11818181818181817, 0.4, null, -0.06477272727272727], \"yaxis\": \"y\"}, {\"alignmentgroup\": \"True\", \"hovertemplate\": \"ticker=TM<br>Date=%{x}<br>Polarity=%{y}<extra></extra>\", \"legendgroup\": \"TM\", \"marker\": {\"color\": \"rgb(150,0,90)\"}, \"name\": \"TM\", \"offsetgroup\": \"TM\", \"orientation\": \"v\", \"showlegend\": true, \"textposition\": \"auto\", \"type\": \"bar\", \"x\": [\"2020-11-02T00:00:00\", \"2020-11-03T00:00:00\", \"2020-11-04T00:00:00\", \"2020-11-05T00:00:00\", \"2020-11-06T00:00:00\", \"2020-11-08T00:00:00\", \"2020-11-09T00:00:00\", \"2020-11-10T00:00:00\", \"2020-11-11T00:00:00\", \"2020-11-12T00:00:00\", \"2020-11-13T00:00:00\", \"2020-11-14T00:00:00\", \"2020-11-15T00:00:00\"], \"xaxis\": \"x\", \"y\": [null, null, null, 0.3, null, null, 0.25, 0.39583333333333337, 0.5, -0.1, 0.1619047619047619, 0.4520833333333334, 0.11248737373737376], \"yaxis\": \"y\"}, {\"alignmentgroup\": \"True\", \"hovertemplate\": \"ticker=TMO<br>Date=%{x}<br>Polarity=%{y}<extra></extra>\", \"legendgroup\": \"TMO\", \"marker\": {\"color\": \"rgb(0,0,200)\"}, \"name\": \"TMO\", \"offsetgroup\": \"TMO\", \"orientation\": \"v\", \"showlegend\": true, \"textposition\": \"auto\", \"type\": \"bar\", \"x\": [\"2020-11-02T00:00:00\", \"2020-11-03T00:00:00\", \"2020-11-04T00:00:00\", \"2020-11-05T00:00:00\", \"2020-11-06T00:00:00\", \"2020-11-08T00:00:00\", \"2020-11-09T00:00:00\", \"2020-11-10T00:00:00\", \"2020-11-11T00:00:00\", \"2020-11-12T00:00:00\", \"2020-11-13T00:00:00\", \"2020-11-14T00:00:00\", \"2020-11-15T00:00:00\"], \"xaxis\": \"x\", \"y\": [0.16666666666666666, null, null, null, null, null, null, null, 0.24166666666666664, null, 0.17027777777777783, null, 0.21428571428571427], \"yaxis\": \"y\"}, {\"alignmentgroup\": \"True\", \"hovertemplate\": \"ticker=TMUS<br>Date=%{x}<br>Polarity=%{y}<extra></extra>\", \"legendgroup\": \"TMUS\", \"marker\": {\"color\": \"rgb(0,25,255)\"}, \"name\": \"TMUS\", \"offsetgroup\": \"TMUS\", \"orientation\": \"v\", \"showlegend\": true, \"textposition\": \"auto\", \"type\": \"bar\", \"x\": [\"2020-11-02T00:00:00\", \"2020-11-03T00:00:00\", \"2020-11-04T00:00:00\", \"2020-11-05T00:00:00\", \"2020-11-06T00:00:00\", \"2020-11-08T00:00:00\", \"2020-11-09T00:00:00\", \"2020-11-10T00:00:00\", \"2020-11-11T00:00:00\", \"2020-11-12T00:00:00\", \"2020-11-13T00:00:00\", \"2020-11-14T00:00:00\", \"2020-11-15T00:00:00\"], \"xaxis\": \"x\", \"y\": [null, null, null, null, null, null, null, null, null, 0.04545454545454545, 0.21119949494949497, 0.1796969696969697, 0.24204545454545454], \"yaxis\": \"y\"}, {\"alignmentgroup\": \"True\", \"hovertemplate\": \"ticker=TSLA<br>Date=%{x}<br>Polarity=%{y}<extra></extra>\", \"legendgroup\": \"TSLA\", \"marker\": {\"color\": \"rgb(0,152,255)\"}, \"name\": \"TSLA\", \"offsetgroup\": \"TSLA\", \"orientation\": \"v\", \"showlegend\": true, \"textposition\": \"auto\", \"type\": \"bar\", \"x\": [\"2020-11-02T00:00:00\", \"2020-11-03T00:00:00\", \"2020-11-04T00:00:00\", \"2020-11-05T00:00:00\", \"2020-11-06T00:00:00\", \"2020-11-08T00:00:00\", \"2020-11-09T00:00:00\", \"2020-11-10T00:00:00\", \"2020-11-11T00:00:00\", \"2020-11-12T00:00:00\", \"2020-11-13T00:00:00\", \"2020-11-14T00:00:00\", \"2020-11-15T00:00:00\"], \"xaxis\": \"x\", \"y\": [null, null, null, null, null, null, null, null, null, null, null, null, 0.16266684704184703], \"yaxis\": \"y\"}, {\"alignmentgroup\": \"True\", \"hovertemplate\": \"ticker=TSM<br>Date=%{x}<br>Polarity=%{y}<extra></extra>\", \"legendgroup\": \"TSM\", \"marker\": {\"color\": \"rgb(44,255,150)\"}, \"name\": \"TSM\", \"offsetgroup\": \"TSM\", \"orientation\": \"v\", \"showlegend\": true, \"textposition\": \"auto\", \"type\": \"bar\", \"x\": [\"2020-11-02T00:00:00\", \"2020-11-03T00:00:00\", \"2020-11-04T00:00:00\", \"2020-11-05T00:00:00\", \"2020-11-06T00:00:00\", \"2020-11-08T00:00:00\", \"2020-11-09T00:00:00\", \"2020-11-10T00:00:00\", \"2020-11-11T00:00:00\", \"2020-11-12T00:00:00\", \"2020-11-13T00:00:00\", \"2020-11-14T00:00:00\", \"2020-11-15T00:00:00\"], \"xaxis\": \"x\", \"y\": [null, null, null, null, null, null, null, 0.041666666666666664, 0.03392857142857142, 0.05107323232323231, 0.29393939393939394, 0.1392857142857143, 0.07273809523809523], \"yaxis\": \"y\"}, {\"alignmentgroup\": \"True\", \"hovertemplate\": \"ticker=UN<br>Date=%{x}<br>Polarity=%{y}<extra></extra>\", \"legendgroup\": \"UN\", \"marker\": {\"color\": \"rgb(151,255,0)\"}, \"name\": \"UN\", \"offsetgroup\": \"UN\", \"orientation\": \"v\", \"showlegend\": true, \"textposition\": \"auto\", \"type\": \"bar\", \"x\": [\"2020-11-02T00:00:00\", \"2020-11-03T00:00:00\", \"2020-11-04T00:00:00\", \"2020-11-05T00:00:00\", \"2020-11-06T00:00:00\", \"2020-11-08T00:00:00\", \"2020-11-09T00:00:00\", \"2020-11-10T00:00:00\", \"2020-11-11T00:00:00\", \"2020-11-12T00:00:00\", \"2020-11-13T00:00:00\", \"2020-11-14T00:00:00\", \"2020-11-15T00:00:00\"], \"xaxis\": \"x\", \"y\": [null, null, null, 0.13636363636363635, null, null, null, 0.05, null, null, 0.275, 0.09999999999999998, -0.2333333333333333], \"yaxis\": \"y\"}, {\"alignmentgroup\": \"True\", \"hovertemplate\": \"ticker=UNH<br>Date=%{x}<br>Polarity=%{y}<extra></extra>\", \"legendgroup\": \"UNH\", \"marker\": {\"color\": \"rgb(255,234,0)\"}, \"name\": \"UNH\", \"offsetgroup\": \"UNH\", \"orientation\": \"v\", \"showlegend\": true, \"textposition\": \"auto\", \"type\": \"bar\", \"x\": [\"2020-11-02T00:00:00\", \"2020-11-03T00:00:00\", \"2020-11-04T00:00:00\", \"2020-11-05T00:00:00\", \"2020-11-06T00:00:00\", \"2020-11-08T00:00:00\", \"2020-11-09T00:00:00\", \"2020-11-10T00:00:00\", \"2020-11-11T00:00:00\", \"2020-11-12T00:00:00\", \"2020-11-13T00:00:00\", \"2020-11-14T00:00:00\", \"2020-11-15T00:00:00\"], \"xaxis\": \"x\", \"y\": [null, null, null, null, null, null, null, -0.1, null, 0.16666666666666666, 0.0909090909090909, 0.5, 0.1268843193843194], \"yaxis\": \"y\"}, {\"alignmentgroup\": \"True\", \"hovertemplate\": \"ticker=VZ<br>Date=%{x}<br>Polarity=%{y}<extra></extra>\", \"legendgroup\": \"VZ\", \"marker\": {\"color\": \"rgb(255,111,0)\"}, \"name\": \"VZ\", \"offsetgroup\": \"VZ\", \"orientation\": \"v\", \"showlegend\": true, \"textposition\": \"auto\", \"type\": \"bar\", \"x\": [\"2020-11-02T00:00:00\", \"2020-11-03T00:00:00\", \"2020-11-04T00:00:00\", \"2020-11-05T00:00:00\", \"2020-11-06T00:00:00\", \"2020-11-08T00:00:00\", \"2020-11-09T00:00:00\", \"2020-11-10T00:00:00\", \"2020-11-11T00:00:00\", \"2020-11-12T00:00:00\", \"2020-11-13T00:00:00\", \"2020-11-14T00:00:00\", \"2020-11-15T00:00:00\"], \"xaxis\": \"x\", \"y\": [0.2285714285714286, null, null, null, null, null, 0.2833333333333333, 0.10714285714285714, 0.25, null, 0.26753246753246746, 0.14375, 0.16425133689839574], \"yaxis\": \"y\"}, {\"alignmentgroup\": \"True\", \"hovertemplate\": \"ticker=WMT<br>Date=%{x}<br>Polarity=%{y}<extra></extra>\", \"legendgroup\": \"WMT\", \"marker\": {\"color\": \"rgb(255,0,0)\"}, \"name\": \"WMT\", \"offsetgroup\": \"WMT\", \"orientation\": \"v\", \"showlegend\": true, \"textposition\": \"auto\", \"type\": \"bar\", \"x\": [\"2020-11-02T00:00:00\", \"2020-11-03T00:00:00\", \"2020-11-04T00:00:00\", \"2020-11-05T00:00:00\", \"2020-11-06T00:00:00\", \"2020-11-08T00:00:00\", \"2020-11-09T00:00:00\", \"2020-11-10T00:00:00\", \"2020-11-11T00:00:00\", \"2020-11-12T00:00:00\", \"2020-11-13T00:00:00\", \"2020-11-14T00:00:00\", \"2020-11-15T00:00:00\"], \"xaxis\": \"x\", \"y\": [null, null, null, null, null, null, 0.5, null, null, null, 0.25, 0.23854166666666665, 0.0560474537037037], \"yaxis\": \"y\"}],                        {\"barmode\": \"relative\", \"legend\": {\"title\": {\"text\": \"ticker\"}, \"tracegroupgap\": 0}, \"template\": {\"data\": {\"bar\": [{\"error_x\": {\"color\": \"#f2f5fa\"}, \"error_y\": {\"color\": \"#f2f5fa\"}, \"marker\": {\"line\": {\"color\": \"rgb(17,17,17)\", \"width\": 0.5}}, \"type\": \"bar\"}], \"barpolar\": [{\"marker\": {\"line\": {\"color\": \"rgb(17,17,17)\", \"width\": 0.5}}, \"type\": \"barpolar\"}], \"carpet\": [{\"aaxis\": {\"endlinecolor\": \"#A2B1C6\", \"gridcolor\": \"#506784\", \"linecolor\": \"#506784\", \"minorgridcolor\": \"#506784\", \"startlinecolor\": \"#A2B1C6\"}, \"baxis\": {\"endlinecolor\": \"#A2B1C6\", \"gridcolor\": \"#506784\", \"linecolor\": \"#506784\", \"minorgridcolor\": \"#506784\", \"startlinecolor\": \"#A2B1C6\"}, \"type\": \"carpet\"}], \"choropleth\": [{\"colorbar\": {\"outlinewidth\": 0, \"ticks\": \"\"}, \"type\": \"choropleth\"}], \"contour\": [{\"colorbar\": {\"outlinewidth\": 0, \"ticks\": \"\"}, \"colorscale\": [[0.0, \"#0d0887\"], [0.1111111111111111, \"#46039f\"], [0.2222222222222222, \"#7201a8\"], [0.3333333333333333, \"#9c179e\"], [0.4444444444444444, \"#bd3786\"], [0.5555555555555556, \"#d8576b\"], [0.6666666666666666, \"#ed7953\"], [0.7777777777777778, \"#fb9f3a\"], [0.8888888888888888, \"#fdca26\"], [1.0, \"#f0f921\"]], \"type\": \"contour\"}], \"contourcarpet\": [{\"colorbar\": {\"outlinewidth\": 0, \"ticks\": \"\"}, \"type\": \"contourcarpet\"}], \"heatmap\": [{\"colorbar\": {\"outlinewidth\": 0, \"ticks\": \"\"}, \"colorscale\": [[0.0, \"#0d0887\"], [0.1111111111111111, \"#46039f\"], [0.2222222222222222, \"#7201a8\"], [0.3333333333333333, \"#9c179e\"], [0.4444444444444444, \"#bd3786\"], [0.5555555555555556, \"#d8576b\"], [0.6666666666666666, \"#ed7953\"], [0.7777777777777778, \"#fb9f3a\"], [0.8888888888888888, \"#fdca26\"], [1.0, \"#f0f921\"]], \"type\": \"heatmap\"}], \"heatmapgl\": [{\"colorbar\": {\"outlinewidth\": 0, \"ticks\": \"\"}, \"colorscale\": [[0.0, \"#0d0887\"], [0.1111111111111111, \"#46039f\"], [0.2222222222222222, \"#7201a8\"], [0.3333333333333333, \"#9c179e\"], [0.4444444444444444, \"#bd3786\"], [0.5555555555555556, \"#d8576b\"], [0.6666666666666666, \"#ed7953\"], [0.7777777777777778, \"#fb9f3a\"], [0.8888888888888888, \"#fdca26\"], [1.0, \"#f0f921\"]], \"type\": \"heatmapgl\"}], \"histogram\": [{\"marker\": {\"colorbar\": {\"outlinewidth\": 0, \"ticks\": \"\"}}, \"type\": \"histogram\"}], \"histogram2d\": [{\"colorbar\": {\"outlinewidth\": 0, \"ticks\": \"\"}, \"colorscale\": [[0.0, \"#0d0887\"], [0.1111111111111111, \"#46039f\"], [0.2222222222222222, \"#7201a8\"], [0.3333333333333333, \"#9c179e\"], [0.4444444444444444, \"#bd3786\"], [0.5555555555555556, \"#d8576b\"], [0.6666666666666666, \"#ed7953\"], [0.7777777777777778, \"#fb9f3a\"], [0.8888888888888888, \"#fdca26\"], [1.0, \"#f0f921\"]], \"type\": \"histogram2d\"}], \"histogram2dcontour\": [{\"colorbar\": {\"outlinewidth\": 0, \"ticks\": \"\"}, \"colorscale\": [[0.0, \"#0d0887\"], [0.1111111111111111, \"#46039f\"], [0.2222222222222222, \"#7201a8\"], [0.3333333333333333, \"#9c179e\"], [0.4444444444444444, \"#bd3786\"], [0.5555555555555556, \"#d8576b\"], [0.6666666666666666, \"#ed7953\"], [0.7777777777777778, \"#fb9f3a\"], [0.8888888888888888, \"#fdca26\"], [1.0, \"#f0f921\"]], \"type\": \"histogram2dcontour\"}], \"mesh3d\": [{\"colorbar\": {\"outlinewidth\": 0, \"ticks\": \"\"}, \"type\": \"mesh3d\"}], \"parcoords\": [{\"line\": {\"colorbar\": {\"outlinewidth\": 0, \"ticks\": \"\"}}, \"type\": \"parcoords\"}], \"pie\": [{\"automargin\": true, \"type\": \"pie\"}], \"scatter\": [{\"marker\": {\"line\": {\"color\": \"#283442\"}}, \"type\": \"scatter\"}], \"scatter3d\": [{\"line\": {\"colorbar\": {\"outlinewidth\": 0, \"ticks\": \"\"}}, \"marker\": {\"colorbar\": {\"outlinewidth\": 0, \"ticks\": \"\"}}, \"type\": \"scatter3d\"}], \"scattercarpet\": [{\"marker\": {\"colorbar\": {\"outlinewidth\": 0, \"ticks\": \"\"}}, \"type\": \"scattercarpet\"}], \"scattergeo\": [{\"marker\": {\"colorbar\": {\"outlinewidth\": 0, \"ticks\": \"\"}}, \"type\": \"scattergeo\"}], \"scattergl\": [{\"marker\": {\"line\": {\"color\": \"#283442\"}}, \"type\": \"scattergl\"}], \"scattermapbox\": [{\"marker\": {\"colorbar\": {\"outlinewidth\": 0, \"ticks\": \"\"}}, \"type\": \"scattermapbox\"}], \"scatterpolar\": [{\"marker\": {\"colorbar\": {\"outlinewidth\": 0, \"ticks\": \"\"}}, \"type\": \"scatterpolar\"}], \"scatterpolargl\": [{\"marker\": {\"colorbar\": {\"outlinewidth\": 0, \"ticks\": \"\"}}, \"type\": \"scatterpolargl\"}], \"scatterternary\": [{\"marker\": {\"colorbar\": {\"outlinewidth\": 0, \"ticks\": \"\"}}, \"type\": \"scatterternary\"}], \"surface\": [{\"colorbar\": {\"outlinewidth\": 0, \"ticks\": \"\"}, \"colorscale\": [[0.0, \"#0d0887\"], [0.1111111111111111, \"#46039f\"], [0.2222222222222222, \"#7201a8\"], [0.3333333333333333, \"#9c179e\"], [0.4444444444444444, \"#bd3786\"], [0.5555555555555556, \"#d8576b\"], [0.6666666666666666, \"#ed7953\"], [0.7777777777777778, \"#fb9f3a\"], [0.8888888888888888, \"#fdca26\"], [1.0, \"#f0f921\"]], \"type\": \"surface\"}], \"table\": [{\"cells\": {\"fill\": {\"color\": \"#506784\"}, \"line\": {\"color\": \"rgb(17,17,17)\"}}, \"header\": {\"fill\": {\"color\": \"#2a3f5f\"}, \"line\": {\"color\": \"rgb(17,17,17)\"}}, \"type\": \"table\"}]}, \"layout\": {\"annotationdefaults\": {\"arrowcolor\": \"#f2f5fa\", \"arrowhead\": 0, \"arrowwidth\": 1}, \"coloraxis\": {\"colorbar\": {\"outlinewidth\": 0, \"ticks\": \"\"}}, \"colorscale\": {\"diverging\": [[0, \"#8e0152\"], [0.1, \"#c51b7d\"], [0.2, \"#de77ae\"], [0.3, \"#f1b6da\"], [0.4, \"#fde0ef\"], [0.5, \"#f7f7f7\"], [0.6, \"#e6f5d0\"], [0.7, \"#b8e186\"], [0.8, \"#7fbc41\"], [0.9, \"#4d9221\"], [1, \"#276419\"]], \"sequential\": [[0.0, \"#0d0887\"], [0.1111111111111111, \"#46039f\"], [0.2222222222222222, \"#7201a8\"], [0.3333333333333333, \"#9c179e\"], [0.4444444444444444, \"#bd3786\"], [0.5555555555555556, \"#d8576b\"], [0.6666666666666666, \"#ed7953\"], [0.7777777777777778, \"#fb9f3a\"], [0.8888888888888888, \"#fdca26\"], [1.0, \"#f0f921\"]], \"sequentialminus\": [[0.0, \"#0d0887\"], [0.1111111111111111, \"#46039f\"], [0.2222222222222222, \"#7201a8\"], [0.3333333333333333, \"#9c179e\"], [0.4444444444444444, \"#bd3786\"], [0.5555555555555556, \"#d8576b\"], [0.6666666666666666, \"#ed7953\"], [0.7777777777777778, \"#fb9f3a\"], [0.8888888888888888, \"#fdca26\"], [1.0, \"#f0f921\"]]}, \"colorway\": [\"#636efa\", \"#EF553B\", \"#00cc96\", \"#ab63fa\", \"#FFA15A\", \"#19d3f3\", \"#FF6692\", \"#B6E880\", \"#FF97FF\", \"#FECB52\"], \"font\": {\"color\": \"#f2f5fa\"}, \"geo\": {\"bgcolor\": \"rgb(17,17,17)\", \"lakecolor\": \"rgb(17,17,17)\", \"landcolor\": \"rgb(17,17,17)\", \"showlakes\": true, \"showland\": true, \"subunitcolor\": \"#506784\"}, \"hoverlabel\": {\"align\": \"left\"}, \"hovermode\": \"closest\", \"mapbox\": {\"style\": \"dark\"}, \"paper_bgcolor\": \"rgb(17,17,17)\", \"plot_bgcolor\": \"rgb(17,17,17)\", \"polar\": {\"angularaxis\": {\"gridcolor\": \"#506784\", \"linecolor\": \"#506784\", \"ticks\": \"\"}, \"bgcolor\": \"rgb(17,17,17)\", \"radialaxis\": {\"gridcolor\": \"#506784\", \"linecolor\": \"#506784\", \"ticks\": \"\"}}, \"scene\": {\"xaxis\": {\"backgroundcolor\": \"rgb(17,17,17)\", \"gridcolor\": \"#506784\", \"gridwidth\": 2, \"linecolor\": \"#506784\", \"showbackground\": true, \"ticks\": \"\", \"zerolinecolor\": \"#C8D4E3\"}, \"yaxis\": {\"backgroundcolor\": \"rgb(17,17,17)\", \"gridcolor\": \"#506784\", \"gridwidth\": 2, \"linecolor\": \"#506784\", \"showbackground\": true, \"ticks\": \"\", \"zerolinecolor\": \"#C8D4E3\"}, \"zaxis\": {\"backgroundcolor\": \"rgb(17,17,17)\", \"gridcolor\": \"#506784\", \"gridwidth\": 2, \"linecolor\": \"#506784\", \"showbackground\": true, \"ticks\": \"\", \"zerolinecolor\": \"#C8D4E3\"}}, \"shapedefaults\": {\"line\": {\"color\": \"#f2f5fa\"}}, \"sliderdefaults\": {\"bgcolor\": \"#C8D4E3\", \"bordercolor\": \"rgb(17,17,17)\", \"borderwidth\": 1, \"tickwidth\": 0}, \"ternary\": {\"aaxis\": {\"gridcolor\": \"#506784\", \"linecolor\": \"#506784\", \"ticks\": \"\"}, \"baxis\": {\"gridcolor\": \"#506784\", \"linecolor\": \"#506784\", \"ticks\": \"\"}, \"bgcolor\": \"rgb(17,17,17)\", \"caxis\": {\"gridcolor\": \"#506784\", \"linecolor\": \"#506784\", \"ticks\": \"\"}}, \"title\": {\"x\": 0.05}, \"updatemenudefaults\": {\"bgcolor\": \"#506784\", \"borderwidth\": 0}, \"xaxis\": {\"automargin\": true, \"gridcolor\": \"#283442\", \"linecolor\": \"#506784\", \"ticks\": \"\", \"title\": {\"standoff\": 15}, \"zerolinecolor\": \"#283442\", \"zerolinewidth\": 2}, \"yaxis\": {\"automargin\": true, \"gridcolor\": \"#283442\", \"linecolor\": \"#506784\", \"ticks\": \"\", \"title\": {\"standoff\": 15}, \"zerolinecolor\": \"#283442\", \"zerolinewidth\": 2}}}, \"title\": {\"text\": \"Average Polarity of Stock Headlines\"}, \"xaxis\": {\"anchor\": \"y\", \"domain\": [0.0, 1.0], \"title\": {\"text\": \"Date\"}}, \"yaxis\": {\"anchor\": \"x\", \"domain\": [0.0, 1.0], \"title\": {\"text\": \"Polarity\"}}},                        {\"responsive\": true}                    ).then(function(){\n",
       "                            \n",
       "var gd = document.getElementById('8ad6ee83-fa0c-4708-ba1c-cf523ae0765d');\n",
       "var x = new MutationObserver(function (mutations, observer) {{\n",
       "        var display = window.getComputedStyle(gd).display;\n",
       "        if (!display || display === 'none') {{\n",
       "            console.log([gd, 'removed!']);\n",
       "            Plotly.purge(gd);\n",
       "            observer.disconnect();\n",
       "        }}\n",
       "}});\n",
       "\n",
       "// Listen for the removal of the full notebook cells\n",
       "var notebookContainer = gd.closest('#notebook-container');\n",
       "if (notebookContainer) {{\n",
       "    x.observe(notebookContainer, {childList: true});\n",
       "}}\n",
       "\n",
       "// Listen for the clearing of the current output cell\n",
       "var outputEl = gd.closest('.output');\n",
       "if (outputEl) {{\n",
       "    x.observe(outputEl, {childList: true});\n",
       "}}\n",
       "\n",
       "                        })                };                });            </script>        </div>"
      ]
     },
     "metadata": {},
     "output_type": "display_data"
    }
   ],
   "source": [
    "# Filter the dates\n",
    "blob_filtered = blob_news[(blob_news['date'] > '2020-10-31') & (blob_news['date'] < '2020-11-16')]\n",
    "# Group by the ticker and the date, creating a multi-index\n",
    "mean_date = blob_filtered.groupby(['ticker', 'date']).mean()\n",
    "# Drop the dayofweek because we don't need it\n",
    "mean_date = mean_date.drop('dayofweek', axis=1)\n",
    "# Unstack, the innermost index level 'unstacks' across the columns\n",
    "mean_date = mean_date.unstack()\n",
    "# Get a cross-section of the above data, and transpose it to make the columns the ticker names\n",
    "mean_date = mean_date.xs('polarity', axis=1).T\n",
    "\n",
    "rainbow = px.colors.sequential.Rainbow\n",
    "\n",
    "px.bar(mean_date, barmode='relative', color_discrete_sequence=rainbow,\n",
    "      title='Average Polarity of Stock Headlines',\n",
    "      labels={'value': 'Polarity', 'date': 'Date'})"
   ]
  },
  {
   "cell_type": "markdown",
   "metadata": {},
   "source": [
    "### Subjectivity based on `dayofweek` using Plotly"
   ]
  },
  {
   "cell_type": "code",
   "execution_count": 254,
   "metadata": {},
   "outputs": [
    {
     "data": {
      "application/vnd.plotly.v1+json": {
       "config": {
        "plotlyServerURL": "https://plot.ly"
       },
       "data": [
        {
         "alignmentgroup": "True",
         "hovertemplate": "ticker=AAPL<br>Day of Week=%{x}<br>Subjectivity=%{y}<extra></extra>",
         "legendgroup": "AAPL",
         "marker": {
          "color": "rgb(243, 224, 247)"
         },
         "name": "AAPL",
         "offsetgroup": "AAPL",
         "orientation": "v",
         "showlegend": true,
         "textposition": "auto",
         "type": "bar",
         "x": [
          0,
          1,
          2,
          3,
          4,
          5,
          6
         ],
         "xaxis": "x",
         "y": [
          0.5609137291280148,
          0.5609523809523809,
          null,
          0.7178571428571429,
          null,
          null,
          0.48027898027898025
         ],
         "yaxis": "y"
        },
        {
         "alignmentgroup": "True",
         "hovertemplate": "ticker=ABBV<br>Day of Week=%{x}<br>Subjectivity=%{y}<extra></extra>",
         "legendgroup": "ABBV",
         "marker": {
          "color": "rgb(228, 199, 241)"
         },
         "name": "ABBV",
         "offsetgroup": "ABBV",
         "orientation": "v",
         "showlegend": true,
         "textposition": "auto",
         "type": "bar",
         "x": [
          0,
          1,
          2,
          3,
          4,
          5,
          6
         ],
         "xaxis": "x",
         "y": [
          0.5,
          0.44503968253968246,
          0.16666666666666666,
          0.3454545454545454,
          0.5536363636363637,
          0.5533333333333333,
          null
         ],
         "yaxis": "y"
        },
        {
         "alignmentgroup": "True",
         "hovertemplate": "ticker=ABT<br>Day of Week=%{x}<br>Subjectivity=%{y}<extra></extra>",
         "legendgroup": "ABT",
         "marker": {
          "color": "rgb(209, 175, 232)"
         },
         "name": "ABT",
         "offsetgroup": "ABT",
         "orientation": "v",
         "showlegend": true,
         "textposition": "auto",
         "type": "bar",
         "x": [
          0,
          1,
          2,
          3,
          4,
          5,
          6
         ],
         "xaxis": "x",
         "y": [
          0.31666666666666665,
          0.41045454545454546,
          0.31,
          null,
          0.5333333333333333,
          0.5,
          0.4707070707070707
         ],
         "yaxis": "y"
        },
        {
         "alignmentgroup": "True",
         "hovertemplate": "ticker=ADBE<br>Day of Week=%{x}<br>Subjectivity=%{y}<extra></extra>",
         "legendgroup": "ADBE",
         "marker": {
          "color": "rgb(185, 152, 221)"
         },
         "name": "ADBE",
         "offsetgroup": "ADBE",
         "orientation": "v",
         "showlegend": true,
         "textposition": "auto",
         "type": "bar",
         "x": [
          0,
          1,
          2,
          3,
          4,
          5,
          6
         ],
         "xaxis": "x",
         "y": [
          0.8,
          0.5,
          null,
          0.345,
          0.3833333333333333,
          0.375,
          0.2833333333333333
         ],
         "yaxis": "y"
        },
        {
         "alignmentgroup": "True",
         "hovertemplate": "ticker=AMZN<br>Day of Week=%{x}<br>Subjectivity=%{y}<extra></extra>",
         "legendgroup": "AMZN",
         "marker": {
          "color": "rgb(159, 130, 206)"
         },
         "name": "AMZN",
         "offsetgroup": "AMZN",
         "orientation": "v",
         "showlegend": true,
         "textposition": "auto",
         "type": "bar",
         "x": [
          0,
          1,
          2,
          3,
          4,
          5,
          6
         ],
         "xaxis": "x",
         "y": [
          0.4725802139037433,
          0.5,
          1,
          0.7660714285714285,
          null,
          null,
          0.4863215488215487
         ],
         "yaxis": "y"
        },
        {
         "alignmentgroup": "True",
         "hovertemplate": "ticker=ASML<br>Day of Week=%{x}<br>Subjectivity=%{y}<extra></extra>",
         "legendgroup": "ASML",
         "marker": {
          "color": "rgb(130, 109, 186)"
         },
         "name": "ASML",
         "offsetgroup": "ASML",
         "orientation": "v",
         "showlegend": true,
         "textposition": "auto",
         "type": "bar",
         "x": [
          0,
          1,
          2,
          3,
          4,
          5,
          6
         ],
         "xaxis": "x",
         "y": [
          0.6396554834054834,
          0.3942424242424242,
          0.9,
          0.5555555555555556,
          0.5310606060606061,
          null,
          0.05
         ],
         "yaxis": "y"
        },
        {
         "alignmentgroup": "True",
         "hovertemplate": "ticker=BABA<br>Day of Week=%{x}<br>Subjectivity=%{y}<extra></extra>",
         "legendgroup": "BABA",
         "marker": {
          "color": "rgb(99, 88, 159)"
         },
         "name": "BABA",
         "offsetgroup": "BABA",
         "orientation": "v",
         "showlegend": true,
         "textposition": "auto",
         "type": "bar",
         "x": [
          0,
          1,
          2,
          3,
          4,
          5,
          6
         ],
         "xaxis": "x",
         "y": [
          0.41395454545454546,
          0.5357142857142857,
          null,
          0.45454545454545453,
          0.45020202020202027,
          0.41666666666666663,
          0.38730158730158726
         ],
         "yaxis": "y"
        },
        {
         "alignmentgroup": "True",
         "hovertemplate": "ticker=BAC<br>Day of Week=%{x}<br>Subjectivity=%{y}<extra></extra>",
         "legendgroup": "BAC",
         "marker": {
          "color": "rgb(243, 224, 247)"
         },
         "name": "BAC",
         "offsetgroup": "BAC",
         "orientation": "v",
         "showlegend": true,
         "textposition": "auto",
         "type": "bar",
         "x": [
          0,
          1,
          2,
          3,
          4,
          5,
          6
         ],
         "xaxis": "x",
         "y": [
          0.47435064935064936,
          null,
          null,
          0.6,
          0.5,
          null,
          0.2634893578643578
         ],
         "yaxis": "y"
        },
        {
         "alignmentgroup": "True",
         "hovertemplate": "ticker=CMCSA<br>Day of Week=%{x}<br>Subjectivity=%{y}<extra></extra>",
         "legendgroup": "CMCSA",
         "marker": {
          "color": "rgb(228, 199, 241)"
         },
         "name": "CMCSA",
         "offsetgroup": "CMCSA",
         "orientation": "v",
         "showlegend": true,
         "textposition": "auto",
         "type": "bar",
         "x": [
          0,
          1,
          2,
          3,
          4,
          5,
          6
         ],
         "xaxis": "x",
         "y": [
          0.41134199134199134,
          null,
          null,
          0.575,
          0.4,
          0.26666666666666666,
          0.520550038197097
         ],
         "yaxis": "y"
        },
        {
         "alignmentgroup": "True",
         "hovertemplate": "ticker=COST<br>Day of Week=%{x}<br>Subjectivity=%{y}<extra></extra>",
         "legendgroup": "COST",
         "marker": {
          "color": "rgb(209, 175, 232)"
         },
         "name": "COST",
         "offsetgroup": "COST",
         "orientation": "v",
         "showlegend": true,
         "textposition": "auto",
         "type": "bar",
         "x": [
          0,
          1,
          2,
          3,
          4,
          5,
          6
         ],
         "xaxis": "x",
         "y": [
          0.4265151515151515,
          null,
          null,
          0.46742424242424246,
          0.49756493506493504,
          null,
          0.5277777777777778
         ],
         "yaxis": "y"
        },
        {
         "alignmentgroup": "True",
         "hovertemplate": "ticker=CRM<br>Day of Week=%{x}<br>Subjectivity=%{y}<extra></extra>",
         "legendgroup": "CRM",
         "marker": {
          "color": "rgb(185, 152, 221)"
         },
         "name": "CRM",
         "offsetgroup": "CRM",
         "orientation": "v",
         "showlegend": true,
         "textposition": "auto",
         "type": "bar",
         "x": [
          0,
          1,
          2,
          3,
          4,
          5,
          6
         ],
         "xaxis": "x",
         "y": [
          0.41875,
          0.701388888888889,
          null,
          0.22727272727272727,
          0.3,
          0.2727272727272727,
          0.330952380952381
         ],
         "yaxis": "y"
        },
        {
         "alignmentgroup": "True",
         "hovertemplate": "ticker=CSCO<br>Day of Week=%{x}<br>Subjectivity=%{y}<extra></extra>",
         "legendgroup": "CSCO",
         "marker": {
          "color": "rgb(159, 130, 206)"
         },
         "name": "CSCO",
         "offsetgroup": "CSCO",
         "orientation": "v",
         "showlegend": true,
         "textposition": "auto",
         "type": "bar",
         "x": [
          0,
          1,
          2,
          3,
          4,
          5,
          6
         ],
         "xaxis": "x",
         "y": [
          0.4777777777777777,
          0.40465367965367965,
          0.8214285714285714,
          0.45454545454545453,
          0.4411818181818181,
          0.45,
          0.515530303030303
         ],
         "yaxis": "y"
        },
        {
         "alignmentgroup": "True",
         "hovertemplate": "ticker=CVX<br>Day of Week=%{x}<br>Subjectivity=%{y}<extra></extra>",
         "legendgroup": "CVX",
         "marker": {
          "color": "rgb(130, 109, 186)"
         },
         "name": "CVX",
         "offsetgroup": "CVX",
         "orientation": "v",
         "showlegend": true,
         "textposition": "auto",
         "type": "bar",
         "x": [
          0,
          1,
          2,
          3,
          4,
          5,
          6
         ],
         "xaxis": "x",
         "y": [
          0.3857142857142857,
          0.55,
          null,
          null,
          0.3277777777777778,
          0.5325892857142858,
          0.4693301435406699
         ],
         "yaxis": "y"
        },
        {
         "alignmentgroup": "True",
         "hovertemplate": "ticker=DHR<br>Day of Week=%{x}<br>Subjectivity=%{y}<extra></extra>",
         "legendgroup": "DHR",
         "marker": {
          "color": "rgb(99, 88, 159)"
         },
         "name": "DHR",
         "offsetgroup": "DHR",
         "orientation": "v",
         "showlegend": true,
         "textposition": "auto",
         "type": "bar",
         "x": [
          0,
          1,
          2,
          3,
          4,
          5,
          6
         ],
         "xaxis": "x",
         "y": [
          0.6590909090909091,
          0.3482323232323232,
          0.3333333333333333,
          null,
          null,
          0.3333333333333333,
          0.5
         ],
         "yaxis": "y"
        },
        {
         "alignmentgroup": "True",
         "hovertemplate": "ticker=DIS<br>Day of Week=%{x}<br>Subjectivity=%{y}<extra></extra>",
         "legendgroup": "DIS",
         "marker": {
          "color": "rgb(243, 224, 247)"
         },
         "name": "DIS",
         "offsetgroup": "DIS",
         "orientation": "v",
         "showlegend": true,
         "textposition": "auto",
         "type": "bar",
         "x": [
          0,
          1,
          2,
          3,
          4,
          5,
          6
         ],
         "xaxis": "x",
         "y": [
          0.5804848484848486,
          null,
          0.7727272727272727,
          1,
          null,
          null,
          0.5
         ],
         "yaxis": "y"
        },
        {
         "alignmentgroup": "True",
         "hovertemplate": "ticker=GOOG<br>Day of Week=%{x}<br>Subjectivity=%{y}<extra></extra>",
         "legendgroup": "GOOG",
         "marker": {
          "color": "rgb(228, 199, 241)"
         },
         "name": "GOOG",
         "offsetgroup": "GOOG",
         "orientation": "v",
         "showlegend": true,
         "textposition": "auto",
         "type": "bar",
         "x": [
          0,
          1,
          2,
          3,
          4,
          5,
          6
         ],
         "xaxis": "x",
         "y": [
          0.5003813646670789,
          null,
          null,
          0.4,
          0.525,
          null,
          0.6071428571428571
         ],
         "yaxis": "y"
        },
        {
         "alignmentgroup": "True",
         "hovertemplate": "ticker=GOOGL<br>Day of Week=%{x}<br>Subjectivity=%{y}<extra></extra>",
         "legendgroup": "GOOGL",
         "marker": {
          "color": "rgb(209, 175, 232)"
         },
         "name": "GOOGL",
         "offsetgroup": "GOOGL",
         "orientation": "v",
         "showlegend": true,
         "textposition": "auto",
         "type": "bar",
         "x": [
          0,
          1,
          2,
          3,
          4,
          5,
          6
         ],
         "xaxis": "x",
         "y": [
          0.4969061735366083,
          null,
          null,
          0.4,
          0.525,
          null,
          0.8214285714285714
         ],
         "yaxis": "y"
        },
        {
         "alignmentgroup": "True",
         "hovertemplate": "ticker=HD<br>Day of Week=%{x}<br>Subjectivity=%{y}<extra></extra>",
         "legendgroup": "HD",
         "marker": {
          "color": "rgb(185, 152, 221)"
         },
         "name": "HD",
         "offsetgroup": "HD",
         "orientation": "v",
         "showlegend": true,
         "textposition": "auto",
         "type": "bar",
         "x": [
          0,
          1,
          2,
          3,
          4,
          5,
          6
         ],
         "xaxis": "x",
         "y": [
          null,
          0.22499999999999998,
          0.6,
          0.434469696969697,
          0.6261363636363637,
          0.46481481481481485,
          0.3654761904761905
         ],
         "yaxis": "y"
        },
        {
         "alignmentgroup": "True",
         "hovertemplate": "ticker=INTC<br>Day of Week=%{x}<br>Subjectivity=%{y}<extra></extra>",
         "legendgroup": "INTC",
         "marker": {
          "color": "rgb(159, 130, 206)"
         },
         "name": "INTC",
         "offsetgroup": "INTC",
         "orientation": "v",
         "showlegend": true,
         "textposition": "auto",
         "type": "bar",
         "x": [
          0,
          1,
          2,
          3,
          4,
          5,
          6
         ],
         "xaxis": "x",
         "y": [
          0.49470959595959596,
          null,
          0.4515151515151515,
          null,
          null,
          0.4341750841750842,
          0.34667508417508425
         ],
         "yaxis": "y"
        },
        {
         "alignmentgroup": "True",
         "hovertemplate": "ticker=JNJ<br>Day of Week=%{x}<br>Subjectivity=%{y}<extra></extra>",
         "legendgroup": "JNJ",
         "marker": {
          "color": "rgb(130, 109, 186)"
         },
         "name": "JNJ",
         "offsetgroup": "JNJ",
         "orientation": "v",
         "showlegend": true,
         "textposition": "auto",
         "type": "bar",
         "x": [
          0,
          1,
          2,
          3,
          4,
          5,
          6
         ],
         "xaxis": "x",
         "y": [
          0.4301780967570441,
          null,
          null,
          1,
          null,
          null,
          null
         ],
         "yaxis": "y"
        },
        {
         "alignmentgroup": "True",
         "hovertemplate": "ticker=JPM<br>Day of Week=%{x}<br>Subjectivity=%{y}<extra></extra>",
         "legendgroup": "JPM",
         "marker": {
          "color": "rgb(99, 88, 159)"
         },
         "name": "JPM",
         "offsetgroup": "JPM",
         "orientation": "v",
         "showlegend": true,
         "textposition": "auto",
         "type": "bar",
         "x": [
          0,
          1,
          2,
          3,
          4,
          5,
          6
         ],
         "xaxis": "x",
         "y": [
          0.3100378787878788,
          0.271969696969697,
          null,
          0.56875,
          0.6333333333333333,
          0.45,
          0.4575216450216451
         ],
         "yaxis": "y"
        },
        {
         "alignmentgroup": "True",
         "hovertemplate": "ticker=KO<br>Day of Week=%{x}<br>Subjectivity=%{y}<extra></extra>",
         "legendgroup": "KO",
         "marker": {
          "color": "rgb(243, 224, 247)"
         },
         "name": "KO",
         "offsetgroup": "KO",
         "orientation": "v",
         "showlegend": true,
         "textposition": "auto",
         "type": "bar",
         "x": [
          0,
          1,
          2,
          3,
          4,
          5,
          6
         ],
         "xaxis": "x",
         "y": [
          0.7386363636363636,
          null,
          null,
          null,
          0.32575757575757575,
          0.5198232323232322,
          0.5633838383838384
         ],
         "yaxis": "y"
        },
        {
         "alignmentgroup": "True",
         "hovertemplate": "ticker=MA<br>Day of Week=%{x}<br>Subjectivity=%{y}<extra></extra>",
         "legendgroup": "MA",
         "marker": {
          "color": "rgb(228, 199, 241)"
         },
         "name": "MA",
         "offsetgroup": "MA",
         "orientation": "v",
         "showlegend": true,
         "textposition": "auto",
         "type": "bar",
         "x": [
          0,
          1,
          2,
          3,
          4,
          5,
          6
         ],
         "xaxis": "x",
         "y": [
          0.5678571428571428,
          0.15,
          0.4388888888888889,
          0.39166666666666666,
          0.2469907407407407,
          0.5083333333333333,
          null
         ],
         "yaxis": "y"
        },
        {
         "alignmentgroup": "True",
         "hovertemplate": "ticker=MCD<br>Day of Week=%{x}<br>Subjectivity=%{y}<extra></extra>",
         "legendgroup": "MCD",
         "marker": {
          "color": "rgb(209, 175, 232)"
         },
         "name": "MCD",
         "offsetgroup": "MCD",
         "orientation": "v",
         "showlegend": true,
         "textposition": "auto",
         "type": "bar",
         "x": [
          0,
          1,
          2,
          3,
          4,
          5,
          6
         ],
         "xaxis": "x",
         "y": [
          0.3522727272727273,
          0.5611111111111111,
          0.6375,
          0.18888888888888888,
          0.6424242424242425,
          0.4962962962962963,
          0.5751515151515152
         ],
         "yaxis": "y"
        },
        {
         "alignmentgroup": "True",
         "hovertemplate": "ticker=MRK<br>Day of Week=%{x}<br>Subjectivity=%{y}<extra></extra>",
         "legendgroup": "MRK",
         "marker": {
          "color": "rgb(185, 152, 221)"
         },
         "name": "MRK",
         "offsetgroup": "MRK",
         "orientation": "v",
         "showlegend": true,
         "textposition": "auto",
         "type": "bar",
         "x": [
          0,
          1,
          2,
          3,
          4,
          5,
          6
         ],
         "xaxis": "x",
         "y": [
          0.41428571428571426,
          0.42272727272727273,
          0.375,
          0.38055555555555554,
          0.39019886363636364,
          0.35383597883597884,
          0.45535714285714285
         ],
         "yaxis": "y"
        },
        {
         "alignmentgroup": "True",
         "hovertemplate": "ticker=MSFT<br>Day of Week=%{x}<br>Subjectivity=%{y}<extra></extra>",
         "legendgroup": "MSFT",
         "marker": {
          "color": "rgb(159, 130, 206)"
         },
         "name": "MSFT",
         "offsetgroup": "MSFT",
         "orientation": "v",
         "showlegend": true,
         "textposition": "auto",
         "type": "bar",
         "x": [
          0,
          1,
          2,
          3,
          4,
          5,
          6
         ],
         "xaxis": "x",
         "y": [
          0.5930260396169487,
          null,
          null,
          0.1,
          0.5328282828282829,
          null,
          0.5499158249158249
         ],
         "yaxis": "y"
        },
        {
         "alignmentgroup": "True",
         "hovertemplate": "ticker=NFLX<br>Day of Week=%{x}<br>Subjectivity=%{y}<extra></extra>",
         "legendgroup": "NFLX",
         "marker": {
          "color": "rgb(130, 109, 186)"
         },
         "name": "NFLX",
         "offsetgroup": "NFLX",
         "orientation": "v",
         "showlegend": true,
         "textposition": "auto",
         "type": "bar",
         "x": [
          0,
          1,
          2,
          3,
          4,
          5,
          6
         ],
         "xaxis": "x",
         "y": [
          0.6003220030997809,
          0.22727272727272727,
          0.1,
          0.7,
          null,
          null,
          0.6502164502164502
         ],
         "yaxis": "y"
        },
        {
         "alignmentgroup": "True",
         "hovertemplate": "ticker=NVDA<br>Day of Week=%{x}<br>Subjectivity=%{y}<extra></extra>",
         "legendgroup": "NVDA",
         "marker": {
          "color": "rgb(99, 88, 159)"
         },
         "name": "NVDA",
         "offsetgroup": "NVDA",
         "orientation": "v",
         "showlegend": true,
         "textposition": "auto",
         "type": "bar",
         "x": [
          0,
          1,
          2,
          3,
          4,
          5,
          6
         ],
         "xaxis": "x",
         "y": [
          0.5141341991341991,
          0.2,
          0.453030303030303,
          null,
          0.6428571428571429,
          0.6444444444444444,
          0.3972222222222223
         ],
         "yaxis": "y"
        },
        {
         "alignmentgroup": "True",
         "hovertemplate": "ticker=NVS<br>Day of Week=%{x}<br>Subjectivity=%{y}<extra></extra>",
         "legendgroup": "NVS",
         "marker": {
          "color": "rgb(243, 224, 247)"
         },
         "name": "NVS",
         "offsetgroup": "NVS",
         "orientation": "v",
         "showlegend": true,
         "textposition": "auto",
         "type": "bar",
         "x": [
          0,
          1,
          2,
          3,
          4,
          5,
          6
         ],
         "xaxis": "x",
         "y": [
          0.23333333333333334,
          null,
          0.4666666666666667,
          0.5291919191919192,
          0.38492063492063494,
          null,
          0.35861693861693855
         ],
         "yaxis": "y"
        },
        {
         "alignmentgroup": "True",
         "hovertemplate": "ticker=ORCL<br>Day of Week=%{x}<br>Subjectivity=%{y}<extra></extra>",
         "legendgroup": "ORCL",
         "marker": {
          "color": "rgb(228, 199, 241)"
         },
         "name": "ORCL",
         "offsetgroup": "ORCL",
         "orientation": "v",
         "showlegend": true,
         "textposition": "auto",
         "type": "bar",
         "x": [
          0,
          1,
          2,
          3,
          4,
          5,
          6
         ],
         "xaxis": "x",
         "y": [
          0.46590909090909094,
          null,
          0.45454545454545453,
          0,
          0.2916666666666667,
          0.30476190476190473,
          0.3
         ],
         "yaxis": "y"
        },
        {
         "alignmentgroup": "True",
         "hovertemplate": "ticker=PDD<br>Day of Week=%{x}<br>Subjectivity=%{y}<extra></extra>",
         "legendgroup": "PDD",
         "marker": {
          "color": "rgb(209, 175, 232)"
         },
         "name": "PDD",
         "offsetgroup": "PDD",
         "orientation": "v",
         "showlegend": true,
         "textposition": "auto",
         "type": "bar",
         "x": [
          0,
          1,
          2,
          3,
          4,
          5,
          6
         ],
         "xaxis": "x",
         "y": [
          1,
          0.9,
          0.3333333333333333,
          0.5663636363636363,
          0.42763047138047133,
          0.3560606060606061,
          0.05
         ],
         "yaxis": "y"
        },
        {
         "alignmentgroup": "True",
         "hovertemplate": "ticker=PEP<br>Day of Week=%{x}<br>Subjectivity=%{y}<extra></extra>",
         "legendgroup": "PEP",
         "marker": {
          "color": "rgb(185, 152, 221)"
         },
         "name": "PEP",
         "offsetgroup": "PEP",
         "orientation": "v",
         "showlegend": true,
         "textposition": "auto",
         "type": "bar",
         "x": [
          0,
          1,
          2,
          3,
          4,
          5,
          6
         ],
         "xaxis": "x",
         "y": [
          0.44242424242424244,
          0.3416666666666667,
          0.4996632996632997,
          0.47833333333333333,
          0.46707702020202024,
          0.48961038961038966,
          0.06666666666666667
         ],
         "yaxis": "y"
        },
        {
         "alignmentgroup": "True",
         "hovertemplate": "ticker=PFE<br>Day of Week=%{x}<br>Subjectivity=%{y}<extra></extra>",
         "legendgroup": "PFE",
         "marker": {
          "color": "rgb(159, 130, 206)"
         },
         "name": "PFE",
         "offsetgroup": "PFE",
         "orientation": "v",
         "showlegend": true,
         "textposition": "auto",
         "type": "bar",
         "x": [
          0,
          1,
          2,
          3,
          4,
          5,
          6
         ],
         "xaxis": "x",
         "y": [
          0.5703905723905723,
          0.65,
          0.7272727272727273,
          0.7057575757575758,
          null,
          null,
          0.8452380952380951
         ],
         "yaxis": "y"
        },
        {
         "alignmentgroup": "True",
         "hovertemplate": "ticker=PG<br>Day of Week=%{x}<br>Subjectivity=%{y}<extra></extra>",
         "legendgroup": "PG",
         "marker": {
          "color": "rgb(130, 109, 186)"
         },
         "name": "PG",
         "offsetgroup": "PG",
         "orientation": "v",
         "showlegend": true,
         "textposition": "auto",
         "type": "bar",
         "x": [
          0,
          1,
          2,
          3,
          4,
          5,
          6
         ],
         "xaxis": "x",
         "y": [
          0.7037037037037037,
          0.3202020202020202,
          null,
          null,
          0.4037414965986394,
          0.7,
          0.55
         ],
         "yaxis": "y"
        },
        {
         "alignmentgroup": "True",
         "hovertemplate": "ticker=PYPL<br>Day of Week=%{x}<br>Subjectivity=%{y}<extra></extra>",
         "legendgroup": "PYPL",
         "marker": {
          "color": "rgb(99, 88, 159)"
         },
         "name": "PYPL",
         "offsetgroup": "PYPL",
         "orientation": "v",
         "showlegend": true,
         "textposition": "auto",
         "type": "bar",
         "x": [
          0,
          1,
          2,
          3,
          4,
          5,
          6
         ],
         "xaxis": "x",
         "y": [
          0.6916666666666668,
          0.625,
          1,
          0.3380681818181818,
          null,
          null,
          0.4561511111111112
         ],
         "yaxis": "y"
        },
        {
         "alignmentgroup": "True",
         "hovertemplate": "ticker=T<br>Day of Week=%{x}<br>Subjectivity=%{y}<extra></extra>",
         "legendgroup": "T",
         "marker": {
          "color": "rgb(243, 224, 247)"
         },
         "name": "T",
         "offsetgroup": "T",
         "orientation": "v",
         "showlegend": true,
         "textposition": "auto",
         "type": "bar",
         "x": [
          0,
          1,
          2,
          3,
          4,
          5,
          6
         ],
         "xaxis": "x",
         "y": [
          0.4515151515151515,
          0.05,
          null,
          0.36818181818181817,
          0.8,
          null,
          0.5400203962703962
         ],
         "yaxis": "y"
        },
        {
         "alignmentgroup": "True",
         "hovertemplate": "ticker=TM<br>Day of Week=%{x}<br>Subjectivity=%{y}<extra></extra>",
         "legendgroup": "TM",
         "marker": {
          "color": "rgb(228, 199, 241)"
         },
         "name": "TM",
         "offsetgroup": "TM",
         "orientation": "v",
         "showlegend": true,
         "textposition": "auto",
         "type": "bar",
         "x": [
          0,
          1,
          2,
          3,
          4,
          5,
          6
         ],
         "xaxis": "x",
         "y": [
          0.5736531986531986,
          0.8166666666666667,
          0.6666666666666666,
          0.1,
          0.6976190476190476,
          0.7916666666666667,
          0.44866161616161615
         ],
         "yaxis": "y"
        },
        {
         "alignmentgroup": "True",
         "hovertemplate": "ticker=TMO<br>Day of Week=%{x}<br>Subjectivity=%{y}<extra></extra>",
         "legendgroup": "TMO",
         "marker": {
          "color": "rgb(209, 175, 232)"
         },
         "name": "TMO",
         "offsetgroup": "TMO",
         "orientation": "v",
         "showlegend": true,
         "textposition": "auto",
         "type": "bar",
         "x": [
          0,
          1,
          2,
          3,
          4,
          5,
          6
         ],
         "xaxis": "x",
         "y": [
          0.6555555555555556,
          null,
          0.47666666666666674,
          0.45454545454545453,
          0.5422222222222223,
          null,
          0.42857142857142855
         ],
         "yaxis": "y"
        },
        {
         "alignmentgroup": "True",
         "hovertemplate": "ticker=TMUS<br>Day of Week=%{x}<br>Subjectivity=%{y}<extra></extra>",
         "legendgroup": "TMUS",
         "marker": {
          "color": "rgb(185, 152, 221)"
         },
         "name": "TMUS",
         "offsetgroup": "TMUS",
         "orientation": "v",
         "showlegend": true,
         "textposition": "auto",
         "type": "bar",
         "x": [
          0,
          1,
          2,
          3,
          4,
          5,
          6
         ],
         "xaxis": "x",
         "y": [
          0.518560606060606,
          0.6000000000000001,
          0.45454545454545453,
          0.2535353535353535,
          0.45219696969696965,
          0.3262121212121213,
          0.4362934904601571
         ],
         "yaxis": "y"
        },
        {
         "alignmentgroup": "True",
         "hovertemplate": "ticker=TSLA<br>Day of Week=%{x}<br>Subjectivity=%{y}<extra></extra>",
         "legendgroup": "TSLA",
         "marker": {
          "color": "rgb(159, 130, 206)"
         },
         "name": "TSLA",
         "offsetgroup": "TSLA",
         "orientation": "v",
         "showlegend": true,
         "textposition": "auto",
         "type": "bar",
         "x": [
          0,
          1,
          2,
          3,
          4,
          5,
          6
         ],
         "xaxis": "x",
         "y": [
          0.5204648526077097,
          0.43333333333333335,
          null,
          null,
          0.26944444444444443,
          0.35,
          0.5142830086580087
         ],
         "yaxis": "y"
        },
        {
         "alignmentgroup": "True",
         "hovertemplate": "ticker=TSM<br>Day of Week=%{x}<br>Subjectivity=%{y}<extra></extra>",
         "legendgroup": "TSM",
         "marker": {
          "color": "rgb(130, 109, 186)"
         },
         "name": "TSM",
         "offsetgroup": "TSM",
         "orientation": "v",
         "showlegend": true,
         "textposition": "auto",
         "type": "bar",
         "x": [
          0,
          1,
          2,
          3,
          4,
          5,
          6
         ],
         "xaxis": "x",
         "y": [
          0.6666666666666666,
          0.3194444444444444,
          0.42797619047619045,
          0.44156565656565655,
          0.6289772727272728,
          0.37142857142857144,
          0.31944032158317875
         ],
         "yaxis": "y"
        },
        {
         "alignmentgroup": "True",
         "hovertemplate": "ticker=UN<br>Day of Week=%{x}<br>Subjectivity=%{y}<extra></extra>",
         "legendgroup": "UN",
         "marker": {
          "color": "rgb(99, 88, 159)"
         },
         "name": "UN",
         "offsetgroup": "UN",
         "orientation": "v",
         "showlegend": true,
         "textposition": "auto",
         "type": "bar",
         "x": [
          0,
          1,
          2,
          3,
          4,
          5,
          6
         ],
         "xaxis": "x",
         "y": [
          null,
          0.4833333333333334,
          0.4,
          0.5,
          0.6666666666666667,
          0.7999999999999999,
          0.36666666666666664
         ],
         "yaxis": "y"
        },
        {
         "alignmentgroup": "True",
         "hovertemplate": "ticker=UNH<br>Day of Week=%{x}<br>Subjectivity=%{y}<extra></extra>",
         "legendgroup": "UNH",
         "marker": {
          "color": "rgb(243, 224, 247)"
         },
         "name": "UNH",
         "offsetgroup": "UNH",
         "orientation": "v",
         "showlegend": true,
         "textposition": "auto",
         "type": "bar",
         "x": [
          0,
          1,
          2,
          3,
          4,
          5,
          6
         ],
         "xaxis": "x",
         "y": [
          0.15151515151515152,
          0.35,
          null,
          0.5183080808080808,
          0.25252525252525254,
          0.5,
          0.4186135161135161
         ],
         "yaxis": "y"
        },
        {
         "alignmentgroup": "True",
         "hovertemplate": "ticker=VZ<br>Day of Week=%{x}<br>Subjectivity=%{y}<extra></extra>",
         "legendgroup": "VZ",
         "marker": {
          "color": "rgb(228, 199, 241)"
         },
         "name": "VZ",
         "offsetgroup": "VZ",
         "orientation": "v",
         "showlegend": true,
         "textposition": "auto",
         "type": "bar",
         "x": [
          0,
          1,
          2,
          3,
          4,
          5,
          6
         ],
         "xaxis": "x",
         "y": [
          0.36560846560846566,
          0.3547619047619048,
          0.4749999999999999,
          0.3,
          0.5418831168831169,
          0.38125,
          0.40100118835412946
         ],
         "yaxis": "y"
        },
        {
         "alignmentgroup": "True",
         "hovertemplate": "ticker=WMT<br>Day of Week=%{x}<br>Subjectivity=%{y}<extra></extra>",
         "legendgroup": "WMT",
         "marker": {
          "color": "rgb(209, 175, 232)"
         },
         "name": "WMT",
         "offsetgroup": "WMT",
         "orientation": "v",
         "showlegend": true,
         "textposition": "auto",
         "type": "bar",
         "x": [
          0,
          1,
          2,
          3,
          4,
          5,
          6
         ],
         "xaxis": "x",
         "y": [
          0.4625,
          null,
          null,
          0.5,
          0.31666666666666665,
          0.4552083333333333,
          0.3412037037037037
         ],
         "yaxis": "y"
        }
       ],
       "layout": {
        "barmode": "group",
        "legend": {
         "title": {
          "text": "ticker"
         },
         "tracegroupgap": 0
        },
        "template": {
         "data": {
          "bar": [
           {
            "error_x": {
             "color": "#f2f5fa"
            },
            "error_y": {
             "color": "#f2f5fa"
            },
            "marker": {
             "line": {
              "color": "rgb(17,17,17)",
              "width": 0.5
             }
            },
            "type": "bar"
           }
          ],
          "barpolar": [
           {
            "marker": {
             "line": {
              "color": "rgb(17,17,17)",
              "width": 0.5
             }
            },
            "type": "barpolar"
           }
          ],
          "carpet": [
           {
            "aaxis": {
             "endlinecolor": "#A2B1C6",
             "gridcolor": "#506784",
             "linecolor": "#506784",
             "minorgridcolor": "#506784",
             "startlinecolor": "#A2B1C6"
            },
            "baxis": {
             "endlinecolor": "#A2B1C6",
             "gridcolor": "#506784",
             "linecolor": "#506784",
             "minorgridcolor": "#506784",
             "startlinecolor": "#A2B1C6"
            },
            "type": "carpet"
           }
          ],
          "choropleth": [
           {
            "colorbar": {
             "outlinewidth": 0,
             "ticks": ""
            },
            "type": "choropleth"
           }
          ],
          "contour": [
           {
            "colorbar": {
             "outlinewidth": 0,
             "ticks": ""
            },
            "colorscale": [
             [
              0,
              "#0d0887"
             ],
             [
              0.1111111111111111,
              "#46039f"
             ],
             [
              0.2222222222222222,
              "#7201a8"
             ],
             [
              0.3333333333333333,
              "#9c179e"
             ],
             [
              0.4444444444444444,
              "#bd3786"
             ],
             [
              0.5555555555555556,
              "#d8576b"
             ],
             [
              0.6666666666666666,
              "#ed7953"
             ],
             [
              0.7777777777777778,
              "#fb9f3a"
             ],
             [
              0.8888888888888888,
              "#fdca26"
             ],
             [
              1,
              "#f0f921"
             ]
            ],
            "type": "contour"
           }
          ],
          "contourcarpet": [
           {
            "colorbar": {
             "outlinewidth": 0,
             "ticks": ""
            },
            "type": "contourcarpet"
           }
          ],
          "heatmap": [
           {
            "colorbar": {
             "outlinewidth": 0,
             "ticks": ""
            },
            "colorscale": [
             [
              0,
              "#0d0887"
             ],
             [
              0.1111111111111111,
              "#46039f"
             ],
             [
              0.2222222222222222,
              "#7201a8"
             ],
             [
              0.3333333333333333,
              "#9c179e"
             ],
             [
              0.4444444444444444,
              "#bd3786"
             ],
             [
              0.5555555555555556,
              "#d8576b"
             ],
             [
              0.6666666666666666,
              "#ed7953"
             ],
             [
              0.7777777777777778,
              "#fb9f3a"
             ],
             [
              0.8888888888888888,
              "#fdca26"
             ],
             [
              1,
              "#f0f921"
             ]
            ],
            "type": "heatmap"
           }
          ],
          "heatmapgl": [
           {
            "colorbar": {
             "outlinewidth": 0,
             "ticks": ""
            },
            "colorscale": [
             [
              0,
              "#0d0887"
             ],
             [
              0.1111111111111111,
              "#46039f"
             ],
             [
              0.2222222222222222,
              "#7201a8"
             ],
             [
              0.3333333333333333,
              "#9c179e"
             ],
             [
              0.4444444444444444,
              "#bd3786"
             ],
             [
              0.5555555555555556,
              "#d8576b"
             ],
             [
              0.6666666666666666,
              "#ed7953"
             ],
             [
              0.7777777777777778,
              "#fb9f3a"
             ],
             [
              0.8888888888888888,
              "#fdca26"
             ],
             [
              1,
              "#f0f921"
             ]
            ],
            "type": "heatmapgl"
           }
          ],
          "histogram": [
           {
            "marker": {
             "colorbar": {
              "outlinewidth": 0,
              "ticks": ""
             }
            },
            "type": "histogram"
           }
          ],
          "histogram2d": [
           {
            "colorbar": {
             "outlinewidth": 0,
             "ticks": ""
            },
            "colorscale": [
             [
              0,
              "#0d0887"
             ],
             [
              0.1111111111111111,
              "#46039f"
             ],
             [
              0.2222222222222222,
              "#7201a8"
             ],
             [
              0.3333333333333333,
              "#9c179e"
             ],
             [
              0.4444444444444444,
              "#bd3786"
             ],
             [
              0.5555555555555556,
              "#d8576b"
             ],
             [
              0.6666666666666666,
              "#ed7953"
             ],
             [
              0.7777777777777778,
              "#fb9f3a"
             ],
             [
              0.8888888888888888,
              "#fdca26"
             ],
             [
              1,
              "#f0f921"
             ]
            ],
            "type": "histogram2d"
           }
          ],
          "histogram2dcontour": [
           {
            "colorbar": {
             "outlinewidth": 0,
             "ticks": ""
            },
            "colorscale": [
             [
              0,
              "#0d0887"
             ],
             [
              0.1111111111111111,
              "#46039f"
             ],
             [
              0.2222222222222222,
              "#7201a8"
             ],
             [
              0.3333333333333333,
              "#9c179e"
             ],
             [
              0.4444444444444444,
              "#bd3786"
             ],
             [
              0.5555555555555556,
              "#d8576b"
             ],
             [
              0.6666666666666666,
              "#ed7953"
             ],
             [
              0.7777777777777778,
              "#fb9f3a"
             ],
             [
              0.8888888888888888,
              "#fdca26"
             ],
             [
              1,
              "#f0f921"
             ]
            ],
            "type": "histogram2dcontour"
           }
          ],
          "mesh3d": [
           {
            "colorbar": {
             "outlinewidth": 0,
             "ticks": ""
            },
            "type": "mesh3d"
           }
          ],
          "parcoords": [
           {
            "line": {
             "colorbar": {
              "outlinewidth": 0,
              "ticks": ""
             }
            },
            "type": "parcoords"
           }
          ],
          "pie": [
           {
            "automargin": true,
            "type": "pie"
           }
          ],
          "scatter": [
           {
            "marker": {
             "line": {
              "color": "#283442"
             }
            },
            "type": "scatter"
           }
          ],
          "scatter3d": [
           {
            "line": {
             "colorbar": {
              "outlinewidth": 0,
              "ticks": ""
             }
            },
            "marker": {
             "colorbar": {
              "outlinewidth": 0,
              "ticks": ""
             }
            },
            "type": "scatter3d"
           }
          ],
          "scattercarpet": [
           {
            "marker": {
             "colorbar": {
              "outlinewidth": 0,
              "ticks": ""
             }
            },
            "type": "scattercarpet"
           }
          ],
          "scattergeo": [
           {
            "marker": {
             "colorbar": {
              "outlinewidth": 0,
              "ticks": ""
             }
            },
            "type": "scattergeo"
           }
          ],
          "scattergl": [
           {
            "marker": {
             "line": {
              "color": "#283442"
             }
            },
            "type": "scattergl"
           }
          ],
          "scattermapbox": [
           {
            "marker": {
             "colorbar": {
              "outlinewidth": 0,
              "ticks": ""
             }
            },
            "type": "scattermapbox"
           }
          ],
          "scatterpolar": [
           {
            "marker": {
             "colorbar": {
              "outlinewidth": 0,
              "ticks": ""
             }
            },
            "type": "scatterpolar"
           }
          ],
          "scatterpolargl": [
           {
            "marker": {
             "colorbar": {
              "outlinewidth": 0,
              "ticks": ""
             }
            },
            "type": "scatterpolargl"
           }
          ],
          "scatterternary": [
           {
            "marker": {
             "colorbar": {
              "outlinewidth": 0,
              "ticks": ""
             }
            },
            "type": "scatterternary"
           }
          ],
          "surface": [
           {
            "colorbar": {
             "outlinewidth": 0,
             "ticks": ""
            },
            "colorscale": [
             [
              0,
              "#0d0887"
             ],
             [
              0.1111111111111111,
              "#46039f"
             ],
             [
              0.2222222222222222,
              "#7201a8"
             ],
             [
              0.3333333333333333,
              "#9c179e"
             ],
             [
              0.4444444444444444,
              "#bd3786"
             ],
             [
              0.5555555555555556,
              "#d8576b"
             ],
             [
              0.6666666666666666,
              "#ed7953"
             ],
             [
              0.7777777777777778,
              "#fb9f3a"
             ],
             [
              0.8888888888888888,
              "#fdca26"
             ],
             [
              1,
              "#f0f921"
             ]
            ],
            "type": "surface"
           }
          ],
          "table": [
           {
            "cells": {
             "fill": {
              "color": "#506784"
             },
             "line": {
              "color": "rgb(17,17,17)"
             }
            },
            "header": {
             "fill": {
              "color": "#2a3f5f"
             },
             "line": {
              "color": "rgb(17,17,17)"
             }
            },
            "type": "table"
           }
          ]
         },
         "layout": {
          "annotationdefaults": {
           "arrowcolor": "#f2f5fa",
           "arrowhead": 0,
           "arrowwidth": 1
          },
          "coloraxis": {
           "colorbar": {
            "outlinewidth": 0,
            "ticks": ""
           }
          },
          "colorscale": {
           "diverging": [
            [
             0,
             "#8e0152"
            ],
            [
             0.1,
             "#c51b7d"
            ],
            [
             0.2,
             "#de77ae"
            ],
            [
             0.3,
             "#f1b6da"
            ],
            [
             0.4,
             "#fde0ef"
            ],
            [
             0.5,
             "#f7f7f7"
            ],
            [
             0.6,
             "#e6f5d0"
            ],
            [
             0.7,
             "#b8e186"
            ],
            [
             0.8,
             "#7fbc41"
            ],
            [
             0.9,
             "#4d9221"
            ],
            [
             1,
             "#276419"
            ]
           ],
           "sequential": [
            [
             0,
             "#0d0887"
            ],
            [
             0.1111111111111111,
             "#46039f"
            ],
            [
             0.2222222222222222,
             "#7201a8"
            ],
            [
             0.3333333333333333,
             "#9c179e"
            ],
            [
             0.4444444444444444,
             "#bd3786"
            ],
            [
             0.5555555555555556,
             "#d8576b"
            ],
            [
             0.6666666666666666,
             "#ed7953"
            ],
            [
             0.7777777777777778,
             "#fb9f3a"
            ],
            [
             0.8888888888888888,
             "#fdca26"
            ],
            [
             1,
             "#f0f921"
            ]
           ],
           "sequentialminus": [
            [
             0,
             "#0d0887"
            ],
            [
             0.1111111111111111,
             "#46039f"
            ],
            [
             0.2222222222222222,
             "#7201a8"
            ],
            [
             0.3333333333333333,
             "#9c179e"
            ],
            [
             0.4444444444444444,
             "#bd3786"
            ],
            [
             0.5555555555555556,
             "#d8576b"
            ],
            [
             0.6666666666666666,
             "#ed7953"
            ],
            [
             0.7777777777777778,
             "#fb9f3a"
            ],
            [
             0.8888888888888888,
             "#fdca26"
            ],
            [
             1,
             "#f0f921"
            ]
           ]
          },
          "colorway": [
           "#636efa",
           "#EF553B",
           "#00cc96",
           "#ab63fa",
           "#FFA15A",
           "#19d3f3",
           "#FF6692",
           "#B6E880",
           "#FF97FF",
           "#FECB52"
          ],
          "font": {
           "color": "#f2f5fa"
          },
          "geo": {
           "bgcolor": "rgb(17,17,17)",
           "lakecolor": "rgb(17,17,17)",
           "landcolor": "rgb(17,17,17)",
           "showlakes": true,
           "showland": true,
           "subunitcolor": "#506784"
          },
          "hoverlabel": {
           "align": "left"
          },
          "hovermode": "closest",
          "mapbox": {
           "style": "dark"
          },
          "paper_bgcolor": "rgb(17,17,17)",
          "plot_bgcolor": "rgb(17,17,17)",
          "polar": {
           "angularaxis": {
            "gridcolor": "#506784",
            "linecolor": "#506784",
            "ticks": ""
           },
           "bgcolor": "rgb(17,17,17)",
           "radialaxis": {
            "gridcolor": "#506784",
            "linecolor": "#506784",
            "ticks": ""
           }
          },
          "scene": {
           "xaxis": {
            "backgroundcolor": "rgb(17,17,17)",
            "gridcolor": "#506784",
            "gridwidth": 2,
            "linecolor": "#506784",
            "showbackground": true,
            "ticks": "",
            "zerolinecolor": "#C8D4E3"
           },
           "yaxis": {
            "backgroundcolor": "rgb(17,17,17)",
            "gridcolor": "#506784",
            "gridwidth": 2,
            "linecolor": "#506784",
            "showbackground": true,
            "ticks": "",
            "zerolinecolor": "#C8D4E3"
           },
           "zaxis": {
            "backgroundcolor": "rgb(17,17,17)",
            "gridcolor": "#506784",
            "gridwidth": 2,
            "linecolor": "#506784",
            "showbackground": true,
            "ticks": "",
            "zerolinecolor": "#C8D4E3"
           }
          },
          "shapedefaults": {
           "line": {
            "color": "#f2f5fa"
           }
          },
          "sliderdefaults": {
           "bgcolor": "#C8D4E3",
           "bordercolor": "rgb(17,17,17)",
           "borderwidth": 1,
           "tickwidth": 0
          },
          "ternary": {
           "aaxis": {
            "gridcolor": "#506784",
            "linecolor": "#506784",
            "ticks": ""
           },
           "baxis": {
            "gridcolor": "#506784",
            "linecolor": "#506784",
            "ticks": ""
           },
           "bgcolor": "rgb(17,17,17)",
           "caxis": {
            "gridcolor": "#506784",
            "linecolor": "#506784",
            "ticks": ""
           }
          },
          "title": {
           "x": 0.05
          },
          "updatemenudefaults": {
           "bgcolor": "#506784",
           "borderwidth": 0
          },
          "xaxis": {
           "automargin": true,
           "gridcolor": "#283442",
           "linecolor": "#506784",
           "ticks": "",
           "title": {
            "standoff": 15
           },
           "zerolinecolor": "#283442",
           "zerolinewidth": 2
          },
          "yaxis": {
           "automargin": true,
           "gridcolor": "#283442",
           "linecolor": "#506784",
           "ticks": "",
           "title": {
            "standoff": 15
           },
           "zerolinecolor": "#283442",
           "zerolinewidth": 2
          }
         }
        },
        "title": {
         "text": "Average Week Day Polarity of Stock Headlines"
        },
        "xaxis": {
         "anchor": "y",
         "domain": [
          0,
          1
         ],
         "title": {
          "text": "Day of Week"
         }
        },
        "yaxis": {
         "anchor": "x",
         "domain": [
          0,
          1
         ],
         "title": {
          "text": "Subjectivity"
         }
        }
       }
      },
      "text/html": [
       "<div>                            <div id=\"ad8e758f-553e-4b92-8861-40d39b14f1e6\" class=\"plotly-graph-div\" style=\"height:525px; width:100%;\"></div>            <script type=\"text/javascript\">                require([\"plotly\"], function(Plotly) {                    window.PLOTLYENV=window.PLOTLYENV || {};                                    if (document.getElementById(\"ad8e758f-553e-4b92-8861-40d39b14f1e6\")) {                    Plotly.newPlot(                        \"ad8e758f-553e-4b92-8861-40d39b14f1e6\",                        [{\"alignmentgroup\": \"True\", \"hovertemplate\": \"ticker=AAPL<br>Day of Week=%{x}<br>Subjectivity=%{y}<extra></extra>\", \"legendgroup\": \"AAPL\", \"marker\": {\"color\": \"rgb(243, 224, 247)\"}, \"name\": \"AAPL\", \"offsetgroup\": \"AAPL\", \"orientation\": \"v\", \"showlegend\": true, \"textposition\": \"auto\", \"type\": \"bar\", \"x\": [0, 1, 2, 3, 4, 5, 6], \"xaxis\": \"x\", \"y\": [0.5609137291280148, 0.5609523809523809, null, 0.7178571428571429, null, null, 0.48027898027898025], \"yaxis\": \"y\"}, {\"alignmentgroup\": \"True\", \"hovertemplate\": \"ticker=ABBV<br>Day of Week=%{x}<br>Subjectivity=%{y}<extra></extra>\", \"legendgroup\": \"ABBV\", \"marker\": {\"color\": \"rgb(228, 199, 241)\"}, \"name\": \"ABBV\", \"offsetgroup\": \"ABBV\", \"orientation\": \"v\", \"showlegend\": true, \"textposition\": \"auto\", \"type\": \"bar\", \"x\": [0, 1, 2, 3, 4, 5, 6], \"xaxis\": \"x\", \"y\": [0.5, 0.44503968253968246, 0.16666666666666666, 0.3454545454545454, 0.5536363636363637, 0.5533333333333333, null], \"yaxis\": \"y\"}, {\"alignmentgroup\": \"True\", \"hovertemplate\": \"ticker=ABT<br>Day of Week=%{x}<br>Subjectivity=%{y}<extra></extra>\", \"legendgroup\": \"ABT\", \"marker\": {\"color\": \"rgb(209, 175, 232)\"}, \"name\": \"ABT\", \"offsetgroup\": \"ABT\", \"orientation\": \"v\", \"showlegend\": true, \"textposition\": \"auto\", \"type\": \"bar\", \"x\": [0, 1, 2, 3, 4, 5, 6], \"xaxis\": \"x\", \"y\": [0.31666666666666665, 0.41045454545454546, 0.31, null, 0.5333333333333333, 0.5, 0.4707070707070707], \"yaxis\": \"y\"}, {\"alignmentgroup\": \"True\", \"hovertemplate\": \"ticker=ADBE<br>Day of Week=%{x}<br>Subjectivity=%{y}<extra></extra>\", \"legendgroup\": \"ADBE\", \"marker\": {\"color\": \"rgb(185, 152, 221)\"}, \"name\": \"ADBE\", \"offsetgroup\": \"ADBE\", \"orientation\": \"v\", \"showlegend\": true, \"textposition\": \"auto\", \"type\": \"bar\", \"x\": [0, 1, 2, 3, 4, 5, 6], \"xaxis\": \"x\", \"y\": [0.8, 0.5, null, 0.345, 0.3833333333333333, 0.375, 0.2833333333333333], \"yaxis\": \"y\"}, {\"alignmentgroup\": \"True\", \"hovertemplate\": \"ticker=AMZN<br>Day of Week=%{x}<br>Subjectivity=%{y}<extra></extra>\", \"legendgroup\": \"AMZN\", \"marker\": {\"color\": \"rgb(159, 130, 206)\"}, \"name\": \"AMZN\", \"offsetgroup\": \"AMZN\", \"orientation\": \"v\", \"showlegend\": true, \"textposition\": \"auto\", \"type\": \"bar\", \"x\": [0, 1, 2, 3, 4, 5, 6], \"xaxis\": \"x\", \"y\": [0.4725802139037433, 0.5, 1.0, 0.7660714285714285, null, null, 0.4863215488215487], \"yaxis\": \"y\"}, {\"alignmentgroup\": \"True\", \"hovertemplate\": \"ticker=ASML<br>Day of Week=%{x}<br>Subjectivity=%{y}<extra></extra>\", \"legendgroup\": \"ASML\", \"marker\": {\"color\": \"rgb(130, 109, 186)\"}, \"name\": \"ASML\", \"offsetgroup\": \"ASML\", \"orientation\": \"v\", \"showlegend\": true, \"textposition\": \"auto\", \"type\": \"bar\", \"x\": [0, 1, 2, 3, 4, 5, 6], \"xaxis\": \"x\", \"y\": [0.6396554834054834, 0.3942424242424242, 0.9, 0.5555555555555556, 0.5310606060606061, null, 0.05], \"yaxis\": \"y\"}, {\"alignmentgroup\": \"True\", \"hovertemplate\": \"ticker=BABA<br>Day of Week=%{x}<br>Subjectivity=%{y}<extra></extra>\", \"legendgroup\": \"BABA\", \"marker\": {\"color\": \"rgb(99, 88, 159)\"}, \"name\": \"BABA\", \"offsetgroup\": \"BABA\", \"orientation\": \"v\", \"showlegend\": true, \"textposition\": \"auto\", \"type\": \"bar\", \"x\": [0, 1, 2, 3, 4, 5, 6], \"xaxis\": \"x\", \"y\": [0.41395454545454546, 0.5357142857142857, null, 0.45454545454545453, 0.45020202020202027, 0.41666666666666663, 0.38730158730158726], \"yaxis\": \"y\"}, {\"alignmentgroup\": \"True\", \"hovertemplate\": \"ticker=BAC<br>Day of Week=%{x}<br>Subjectivity=%{y}<extra></extra>\", \"legendgroup\": \"BAC\", \"marker\": {\"color\": \"rgb(243, 224, 247)\"}, \"name\": \"BAC\", \"offsetgroup\": \"BAC\", \"orientation\": \"v\", \"showlegend\": true, \"textposition\": \"auto\", \"type\": \"bar\", \"x\": [0, 1, 2, 3, 4, 5, 6], \"xaxis\": \"x\", \"y\": [0.47435064935064936, null, null, 0.6, 0.5, null, 0.2634893578643578], \"yaxis\": \"y\"}, {\"alignmentgroup\": \"True\", \"hovertemplate\": \"ticker=CMCSA<br>Day of Week=%{x}<br>Subjectivity=%{y}<extra></extra>\", \"legendgroup\": \"CMCSA\", \"marker\": {\"color\": \"rgb(228, 199, 241)\"}, \"name\": \"CMCSA\", \"offsetgroup\": \"CMCSA\", \"orientation\": \"v\", \"showlegend\": true, \"textposition\": \"auto\", \"type\": \"bar\", \"x\": [0, 1, 2, 3, 4, 5, 6], \"xaxis\": \"x\", \"y\": [0.41134199134199134, null, null, 0.575, 0.4, 0.26666666666666666, 0.520550038197097], \"yaxis\": \"y\"}, {\"alignmentgroup\": \"True\", \"hovertemplate\": \"ticker=COST<br>Day of Week=%{x}<br>Subjectivity=%{y}<extra></extra>\", \"legendgroup\": \"COST\", \"marker\": {\"color\": \"rgb(209, 175, 232)\"}, \"name\": \"COST\", \"offsetgroup\": \"COST\", \"orientation\": \"v\", \"showlegend\": true, \"textposition\": \"auto\", \"type\": \"bar\", \"x\": [0, 1, 2, 3, 4, 5, 6], \"xaxis\": \"x\", \"y\": [0.4265151515151515, null, null, 0.46742424242424246, 0.49756493506493504, null, 0.5277777777777778], \"yaxis\": \"y\"}, {\"alignmentgroup\": \"True\", \"hovertemplate\": \"ticker=CRM<br>Day of Week=%{x}<br>Subjectivity=%{y}<extra></extra>\", \"legendgroup\": \"CRM\", \"marker\": {\"color\": \"rgb(185, 152, 221)\"}, \"name\": \"CRM\", \"offsetgroup\": \"CRM\", \"orientation\": \"v\", \"showlegend\": true, \"textposition\": \"auto\", \"type\": \"bar\", \"x\": [0, 1, 2, 3, 4, 5, 6], \"xaxis\": \"x\", \"y\": [0.41875, 0.701388888888889, null, 0.22727272727272727, 0.3, 0.2727272727272727, 0.330952380952381], \"yaxis\": \"y\"}, {\"alignmentgroup\": \"True\", \"hovertemplate\": \"ticker=CSCO<br>Day of Week=%{x}<br>Subjectivity=%{y}<extra></extra>\", \"legendgroup\": \"CSCO\", \"marker\": {\"color\": \"rgb(159, 130, 206)\"}, \"name\": \"CSCO\", \"offsetgroup\": \"CSCO\", \"orientation\": \"v\", \"showlegend\": true, \"textposition\": \"auto\", \"type\": \"bar\", \"x\": [0, 1, 2, 3, 4, 5, 6], \"xaxis\": \"x\", \"y\": [0.4777777777777777, 0.40465367965367965, 0.8214285714285714, 0.45454545454545453, 0.4411818181818181, 0.45, 0.515530303030303], \"yaxis\": \"y\"}, {\"alignmentgroup\": \"True\", \"hovertemplate\": \"ticker=CVX<br>Day of Week=%{x}<br>Subjectivity=%{y}<extra></extra>\", \"legendgroup\": \"CVX\", \"marker\": {\"color\": \"rgb(130, 109, 186)\"}, \"name\": \"CVX\", \"offsetgroup\": \"CVX\", \"orientation\": \"v\", \"showlegend\": true, \"textposition\": \"auto\", \"type\": \"bar\", \"x\": [0, 1, 2, 3, 4, 5, 6], \"xaxis\": \"x\", \"y\": [0.3857142857142857, 0.55, null, null, 0.3277777777777778, 0.5325892857142858, 0.4693301435406699], \"yaxis\": \"y\"}, {\"alignmentgroup\": \"True\", \"hovertemplate\": \"ticker=DHR<br>Day of Week=%{x}<br>Subjectivity=%{y}<extra></extra>\", \"legendgroup\": \"DHR\", \"marker\": {\"color\": \"rgb(99, 88, 159)\"}, \"name\": \"DHR\", \"offsetgroup\": \"DHR\", \"orientation\": \"v\", \"showlegend\": true, \"textposition\": \"auto\", \"type\": \"bar\", \"x\": [0, 1, 2, 3, 4, 5, 6], \"xaxis\": \"x\", \"y\": [0.6590909090909091, 0.3482323232323232, 0.3333333333333333, null, null, 0.3333333333333333, 0.5], \"yaxis\": \"y\"}, {\"alignmentgroup\": \"True\", \"hovertemplate\": \"ticker=DIS<br>Day of Week=%{x}<br>Subjectivity=%{y}<extra></extra>\", \"legendgroup\": \"DIS\", \"marker\": {\"color\": \"rgb(243, 224, 247)\"}, \"name\": \"DIS\", \"offsetgroup\": \"DIS\", \"orientation\": \"v\", \"showlegend\": true, \"textposition\": \"auto\", \"type\": \"bar\", \"x\": [0, 1, 2, 3, 4, 5, 6], \"xaxis\": \"x\", \"y\": [0.5804848484848486, null, 0.7727272727272727, 1.0, null, null, 0.5], \"yaxis\": \"y\"}, {\"alignmentgroup\": \"True\", \"hovertemplate\": \"ticker=GOOG<br>Day of Week=%{x}<br>Subjectivity=%{y}<extra></extra>\", \"legendgroup\": \"GOOG\", \"marker\": {\"color\": \"rgb(228, 199, 241)\"}, \"name\": \"GOOG\", \"offsetgroup\": \"GOOG\", \"orientation\": \"v\", \"showlegend\": true, \"textposition\": \"auto\", \"type\": \"bar\", \"x\": [0, 1, 2, 3, 4, 5, 6], \"xaxis\": \"x\", \"y\": [0.5003813646670789, null, null, 0.4, 0.525, null, 0.6071428571428571], \"yaxis\": \"y\"}, {\"alignmentgroup\": \"True\", \"hovertemplate\": \"ticker=GOOGL<br>Day of Week=%{x}<br>Subjectivity=%{y}<extra></extra>\", \"legendgroup\": \"GOOGL\", \"marker\": {\"color\": \"rgb(209, 175, 232)\"}, \"name\": \"GOOGL\", \"offsetgroup\": \"GOOGL\", \"orientation\": \"v\", \"showlegend\": true, \"textposition\": \"auto\", \"type\": \"bar\", \"x\": [0, 1, 2, 3, 4, 5, 6], \"xaxis\": \"x\", \"y\": [0.4969061735366083, null, null, 0.4, 0.525, null, 0.8214285714285714], \"yaxis\": \"y\"}, {\"alignmentgroup\": \"True\", \"hovertemplate\": \"ticker=HD<br>Day of Week=%{x}<br>Subjectivity=%{y}<extra></extra>\", \"legendgroup\": \"HD\", \"marker\": {\"color\": \"rgb(185, 152, 221)\"}, \"name\": \"HD\", \"offsetgroup\": \"HD\", \"orientation\": \"v\", \"showlegend\": true, \"textposition\": \"auto\", \"type\": \"bar\", \"x\": [0, 1, 2, 3, 4, 5, 6], \"xaxis\": \"x\", \"y\": [null, 0.22499999999999998, 0.6, 0.434469696969697, 0.6261363636363637, 0.46481481481481485, 0.3654761904761905], \"yaxis\": \"y\"}, {\"alignmentgroup\": \"True\", \"hovertemplate\": \"ticker=INTC<br>Day of Week=%{x}<br>Subjectivity=%{y}<extra></extra>\", \"legendgroup\": \"INTC\", \"marker\": {\"color\": \"rgb(159, 130, 206)\"}, \"name\": \"INTC\", \"offsetgroup\": \"INTC\", \"orientation\": \"v\", \"showlegend\": true, \"textposition\": \"auto\", \"type\": \"bar\", \"x\": [0, 1, 2, 3, 4, 5, 6], \"xaxis\": \"x\", \"y\": [0.49470959595959596, null, 0.4515151515151515, null, null, 0.4341750841750842, 0.34667508417508425], \"yaxis\": \"y\"}, {\"alignmentgroup\": \"True\", \"hovertemplate\": \"ticker=JNJ<br>Day of Week=%{x}<br>Subjectivity=%{y}<extra></extra>\", \"legendgroup\": \"JNJ\", \"marker\": {\"color\": \"rgb(130, 109, 186)\"}, \"name\": \"JNJ\", \"offsetgroup\": \"JNJ\", \"orientation\": \"v\", \"showlegend\": true, \"textposition\": \"auto\", \"type\": \"bar\", \"x\": [0, 1, 2, 3, 4, 5, 6], \"xaxis\": \"x\", \"y\": [0.4301780967570441, null, null, 1.0, null, null, null], \"yaxis\": \"y\"}, {\"alignmentgroup\": \"True\", \"hovertemplate\": \"ticker=JPM<br>Day of Week=%{x}<br>Subjectivity=%{y}<extra></extra>\", \"legendgroup\": \"JPM\", \"marker\": {\"color\": \"rgb(99, 88, 159)\"}, \"name\": \"JPM\", \"offsetgroup\": \"JPM\", \"orientation\": \"v\", \"showlegend\": true, \"textposition\": \"auto\", \"type\": \"bar\", \"x\": [0, 1, 2, 3, 4, 5, 6], \"xaxis\": \"x\", \"y\": [0.3100378787878788, 0.271969696969697, null, 0.56875, 0.6333333333333333, 0.45, 0.4575216450216451], \"yaxis\": \"y\"}, {\"alignmentgroup\": \"True\", \"hovertemplate\": \"ticker=KO<br>Day of Week=%{x}<br>Subjectivity=%{y}<extra></extra>\", \"legendgroup\": \"KO\", \"marker\": {\"color\": \"rgb(243, 224, 247)\"}, \"name\": \"KO\", \"offsetgroup\": \"KO\", \"orientation\": \"v\", \"showlegend\": true, \"textposition\": \"auto\", \"type\": \"bar\", \"x\": [0, 1, 2, 3, 4, 5, 6], \"xaxis\": \"x\", \"y\": [0.7386363636363636, null, null, null, 0.32575757575757575, 0.5198232323232322, 0.5633838383838384], \"yaxis\": \"y\"}, {\"alignmentgroup\": \"True\", \"hovertemplate\": \"ticker=MA<br>Day of Week=%{x}<br>Subjectivity=%{y}<extra></extra>\", \"legendgroup\": \"MA\", \"marker\": {\"color\": \"rgb(228, 199, 241)\"}, \"name\": \"MA\", \"offsetgroup\": \"MA\", \"orientation\": \"v\", \"showlegend\": true, \"textposition\": \"auto\", \"type\": \"bar\", \"x\": [0, 1, 2, 3, 4, 5, 6], \"xaxis\": \"x\", \"y\": [0.5678571428571428, 0.15, 0.4388888888888889, 0.39166666666666666, 0.2469907407407407, 0.5083333333333333, null], \"yaxis\": \"y\"}, {\"alignmentgroup\": \"True\", \"hovertemplate\": \"ticker=MCD<br>Day of Week=%{x}<br>Subjectivity=%{y}<extra></extra>\", \"legendgroup\": \"MCD\", \"marker\": {\"color\": \"rgb(209, 175, 232)\"}, \"name\": \"MCD\", \"offsetgroup\": \"MCD\", \"orientation\": \"v\", \"showlegend\": true, \"textposition\": \"auto\", \"type\": \"bar\", \"x\": [0, 1, 2, 3, 4, 5, 6], \"xaxis\": \"x\", \"y\": [0.3522727272727273, 0.5611111111111111, 0.6375, 0.18888888888888888, 0.6424242424242425, 0.4962962962962963, 0.5751515151515152], \"yaxis\": \"y\"}, {\"alignmentgroup\": \"True\", \"hovertemplate\": \"ticker=MRK<br>Day of Week=%{x}<br>Subjectivity=%{y}<extra></extra>\", \"legendgroup\": \"MRK\", \"marker\": {\"color\": \"rgb(185, 152, 221)\"}, \"name\": \"MRK\", \"offsetgroup\": \"MRK\", \"orientation\": \"v\", \"showlegend\": true, \"textposition\": \"auto\", \"type\": \"bar\", \"x\": [0, 1, 2, 3, 4, 5, 6], \"xaxis\": \"x\", \"y\": [0.41428571428571426, 0.42272727272727273, 0.375, 0.38055555555555554, 0.39019886363636364, 0.35383597883597884, 0.45535714285714285], \"yaxis\": \"y\"}, {\"alignmentgroup\": \"True\", \"hovertemplate\": \"ticker=MSFT<br>Day of Week=%{x}<br>Subjectivity=%{y}<extra></extra>\", \"legendgroup\": \"MSFT\", \"marker\": {\"color\": \"rgb(159, 130, 206)\"}, \"name\": \"MSFT\", \"offsetgroup\": \"MSFT\", \"orientation\": \"v\", \"showlegend\": true, \"textposition\": \"auto\", \"type\": \"bar\", \"x\": [0, 1, 2, 3, 4, 5, 6], \"xaxis\": \"x\", \"y\": [0.5930260396169487, null, null, 0.1, 0.5328282828282829, null, 0.5499158249158249], \"yaxis\": \"y\"}, {\"alignmentgroup\": \"True\", \"hovertemplate\": \"ticker=NFLX<br>Day of Week=%{x}<br>Subjectivity=%{y}<extra></extra>\", \"legendgroup\": \"NFLX\", \"marker\": {\"color\": \"rgb(130, 109, 186)\"}, \"name\": \"NFLX\", \"offsetgroup\": \"NFLX\", \"orientation\": \"v\", \"showlegend\": true, \"textposition\": \"auto\", \"type\": \"bar\", \"x\": [0, 1, 2, 3, 4, 5, 6], \"xaxis\": \"x\", \"y\": [0.6003220030997809, 0.22727272727272727, 0.1, 0.7, null, null, 0.6502164502164502], \"yaxis\": \"y\"}, {\"alignmentgroup\": \"True\", \"hovertemplate\": \"ticker=NVDA<br>Day of Week=%{x}<br>Subjectivity=%{y}<extra></extra>\", \"legendgroup\": \"NVDA\", \"marker\": {\"color\": \"rgb(99, 88, 159)\"}, \"name\": \"NVDA\", \"offsetgroup\": \"NVDA\", \"orientation\": \"v\", \"showlegend\": true, \"textposition\": \"auto\", \"type\": \"bar\", \"x\": [0, 1, 2, 3, 4, 5, 6], \"xaxis\": \"x\", \"y\": [0.5141341991341991, 0.2, 0.453030303030303, null, 0.6428571428571429, 0.6444444444444444, 0.3972222222222223], \"yaxis\": \"y\"}, {\"alignmentgroup\": \"True\", \"hovertemplate\": \"ticker=NVS<br>Day of Week=%{x}<br>Subjectivity=%{y}<extra></extra>\", \"legendgroup\": \"NVS\", \"marker\": {\"color\": \"rgb(243, 224, 247)\"}, \"name\": \"NVS\", \"offsetgroup\": \"NVS\", \"orientation\": \"v\", \"showlegend\": true, \"textposition\": \"auto\", \"type\": \"bar\", \"x\": [0, 1, 2, 3, 4, 5, 6], \"xaxis\": \"x\", \"y\": [0.23333333333333334, null, 0.4666666666666667, 0.5291919191919192, 0.38492063492063494, null, 0.35861693861693855], \"yaxis\": \"y\"}, {\"alignmentgroup\": \"True\", \"hovertemplate\": \"ticker=ORCL<br>Day of Week=%{x}<br>Subjectivity=%{y}<extra></extra>\", \"legendgroup\": \"ORCL\", \"marker\": {\"color\": \"rgb(228, 199, 241)\"}, \"name\": \"ORCL\", \"offsetgroup\": \"ORCL\", \"orientation\": \"v\", \"showlegend\": true, \"textposition\": \"auto\", \"type\": \"bar\", \"x\": [0, 1, 2, 3, 4, 5, 6], \"xaxis\": \"x\", \"y\": [0.46590909090909094, null, 0.45454545454545453, 0.0, 0.2916666666666667, 0.30476190476190473, 0.3], \"yaxis\": \"y\"}, {\"alignmentgroup\": \"True\", \"hovertemplate\": \"ticker=PDD<br>Day of Week=%{x}<br>Subjectivity=%{y}<extra></extra>\", \"legendgroup\": \"PDD\", \"marker\": {\"color\": \"rgb(209, 175, 232)\"}, \"name\": \"PDD\", \"offsetgroup\": \"PDD\", \"orientation\": \"v\", \"showlegend\": true, \"textposition\": \"auto\", \"type\": \"bar\", \"x\": [0, 1, 2, 3, 4, 5, 6], \"xaxis\": \"x\", \"y\": [1.0, 0.9, 0.3333333333333333, 0.5663636363636363, 0.42763047138047133, 0.3560606060606061, 0.05], \"yaxis\": \"y\"}, {\"alignmentgroup\": \"True\", \"hovertemplate\": \"ticker=PEP<br>Day of Week=%{x}<br>Subjectivity=%{y}<extra></extra>\", \"legendgroup\": \"PEP\", \"marker\": {\"color\": \"rgb(185, 152, 221)\"}, \"name\": \"PEP\", \"offsetgroup\": \"PEP\", \"orientation\": \"v\", \"showlegend\": true, \"textposition\": \"auto\", \"type\": \"bar\", \"x\": [0, 1, 2, 3, 4, 5, 6], \"xaxis\": \"x\", \"y\": [0.44242424242424244, 0.3416666666666667, 0.4996632996632997, 0.47833333333333333, 0.46707702020202024, 0.48961038961038966, 0.06666666666666667], \"yaxis\": \"y\"}, {\"alignmentgroup\": \"True\", \"hovertemplate\": \"ticker=PFE<br>Day of Week=%{x}<br>Subjectivity=%{y}<extra></extra>\", \"legendgroup\": \"PFE\", \"marker\": {\"color\": \"rgb(159, 130, 206)\"}, \"name\": \"PFE\", \"offsetgroup\": \"PFE\", \"orientation\": \"v\", \"showlegend\": true, \"textposition\": \"auto\", \"type\": \"bar\", \"x\": [0, 1, 2, 3, 4, 5, 6], \"xaxis\": \"x\", \"y\": [0.5703905723905723, 0.65, 0.7272727272727273, 0.7057575757575758, null, null, 0.8452380952380951], \"yaxis\": \"y\"}, {\"alignmentgroup\": \"True\", \"hovertemplate\": \"ticker=PG<br>Day of Week=%{x}<br>Subjectivity=%{y}<extra></extra>\", \"legendgroup\": \"PG\", \"marker\": {\"color\": \"rgb(130, 109, 186)\"}, \"name\": \"PG\", \"offsetgroup\": \"PG\", \"orientation\": \"v\", \"showlegend\": true, \"textposition\": \"auto\", \"type\": \"bar\", \"x\": [0, 1, 2, 3, 4, 5, 6], \"xaxis\": \"x\", \"y\": [0.7037037037037037, 0.3202020202020202, null, null, 0.4037414965986394, 0.7, 0.55], \"yaxis\": \"y\"}, {\"alignmentgroup\": \"True\", \"hovertemplate\": \"ticker=PYPL<br>Day of Week=%{x}<br>Subjectivity=%{y}<extra></extra>\", \"legendgroup\": \"PYPL\", \"marker\": {\"color\": \"rgb(99, 88, 159)\"}, \"name\": \"PYPL\", \"offsetgroup\": \"PYPL\", \"orientation\": \"v\", \"showlegend\": true, \"textposition\": \"auto\", \"type\": \"bar\", \"x\": [0, 1, 2, 3, 4, 5, 6], \"xaxis\": \"x\", \"y\": [0.6916666666666668, 0.625, 1.0, 0.3380681818181818, null, null, 0.4561511111111112], \"yaxis\": \"y\"}, {\"alignmentgroup\": \"True\", \"hovertemplate\": \"ticker=T<br>Day of Week=%{x}<br>Subjectivity=%{y}<extra></extra>\", \"legendgroup\": \"T\", \"marker\": {\"color\": \"rgb(243, 224, 247)\"}, \"name\": \"T\", \"offsetgroup\": \"T\", \"orientation\": \"v\", \"showlegend\": true, \"textposition\": \"auto\", \"type\": \"bar\", \"x\": [0, 1, 2, 3, 4, 5, 6], \"xaxis\": \"x\", \"y\": [0.4515151515151515, 0.05, null, 0.36818181818181817, 0.8, null, 0.5400203962703962], \"yaxis\": \"y\"}, {\"alignmentgroup\": \"True\", \"hovertemplate\": \"ticker=TM<br>Day of Week=%{x}<br>Subjectivity=%{y}<extra></extra>\", \"legendgroup\": \"TM\", \"marker\": {\"color\": \"rgb(228, 199, 241)\"}, \"name\": \"TM\", \"offsetgroup\": \"TM\", \"orientation\": \"v\", \"showlegend\": true, \"textposition\": \"auto\", \"type\": \"bar\", \"x\": [0, 1, 2, 3, 4, 5, 6], \"xaxis\": \"x\", \"y\": [0.5736531986531986, 0.8166666666666667, 0.6666666666666666, 0.1, 0.6976190476190476, 0.7916666666666667, 0.44866161616161615], \"yaxis\": \"y\"}, {\"alignmentgroup\": \"True\", \"hovertemplate\": \"ticker=TMO<br>Day of Week=%{x}<br>Subjectivity=%{y}<extra></extra>\", \"legendgroup\": \"TMO\", \"marker\": {\"color\": \"rgb(209, 175, 232)\"}, \"name\": \"TMO\", \"offsetgroup\": \"TMO\", \"orientation\": \"v\", \"showlegend\": true, \"textposition\": \"auto\", \"type\": \"bar\", \"x\": [0, 1, 2, 3, 4, 5, 6], \"xaxis\": \"x\", \"y\": [0.6555555555555556, null, 0.47666666666666674, 0.45454545454545453, 0.5422222222222223, null, 0.42857142857142855], \"yaxis\": \"y\"}, {\"alignmentgroup\": \"True\", \"hovertemplate\": \"ticker=TMUS<br>Day of Week=%{x}<br>Subjectivity=%{y}<extra></extra>\", \"legendgroup\": \"TMUS\", \"marker\": {\"color\": \"rgb(185, 152, 221)\"}, \"name\": \"TMUS\", \"offsetgroup\": \"TMUS\", \"orientation\": \"v\", \"showlegend\": true, \"textposition\": \"auto\", \"type\": \"bar\", \"x\": [0, 1, 2, 3, 4, 5, 6], \"xaxis\": \"x\", \"y\": [0.518560606060606, 0.6000000000000001, 0.45454545454545453, 0.2535353535353535, 0.45219696969696965, 0.3262121212121213, 0.4362934904601571], \"yaxis\": \"y\"}, {\"alignmentgroup\": \"True\", \"hovertemplate\": \"ticker=TSLA<br>Day of Week=%{x}<br>Subjectivity=%{y}<extra></extra>\", \"legendgroup\": \"TSLA\", \"marker\": {\"color\": \"rgb(159, 130, 206)\"}, \"name\": \"TSLA\", \"offsetgroup\": \"TSLA\", \"orientation\": \"v\", \"showlegend\": true, \"textposition\": \"auto\", \"type\": \"bar\", \"x\": [0, 1, 2, 3, 4, 5, 6], \"xaxis\": \"x\", \"y\": [0.5204648526077097, 0.43333333333333335, null, null, 0.26944444444444443, 0.35, 0.5142830086580087], \"yaxis\": \"y\"}, {\"alignmentgroup\": \"True\", \"hovertemplate\": \"ticker=TSM<br>Day of Week=%{x}<br>Subjectivity=%{y}<extra></extra>\", \"legendgroup\": \"TSM\", \"marker\": {\"color\": \"rgb(130, 109, 186)\"}, \"name\": \"TSM\", \"offsetgroup\": \"TSM\", \"orientation\": \"v\", \"showlegend\": true, \"textposition\": \"auto\", \"type\": \"bar\", \"x\": [0, 1, 2, 3, 4, 5, 6], \"xaxis\": \"x\", \"y\": [0.6666666666666666, 0.3194444444444444, 0.42797619047619045, 0.44156565656565655, 0.6289772727272728, 0.37142857142857144, 0.31944032158317875], \"yaxis\": \"y\"}, {\"alignmentgroup\": \"True\", \"hovertemplate\": \"ticker=UN<br>Day of Week=%{x}<br>Subjectivity=%{y}<extra></extra>\", \"legendgroup\": \"UN\", \"marker\": {\"color\": \"rgb(99, 88, 159)\"}, \"name\": \"UN\", \"offsetgroup\": \"UN\", \"orientation\": \"v\", \"showlegend\": true, \"textposition\": \"auto\", \"type\": \"bar\", \"x\": [0, 1, 2, 3, 4, 5, 6], \"xaxis\": \"x\", \"y\": [null, 0.4833333333333334, 0.4, 0.5, 0.6666666666666667, 0.7999999999999999, 0.36666666666666664], \"yaxis\": \"y\"}, {\"alignmentgroup\": \"True\", \"hovertemplate\": \"ticker=UNH<br>Day of Week=%{x}<br>Subjectivity=%{y}<extra></extra>\", \"legendgroup\": \"UNH\", \"marker\": {\"color\": \"rgb(243, 224, 247)\"}, \"name\": \"UNH\", \"offsetgroup\": \"UNH\", \"orientation\": \"v\", \"showlegend\": true, \"textposition\": \"auto\", \"type\": \"bar\", \"x\": [0, 1, 2, 3, 4, 5, 6], \"xaxis\": \"x\", \"y\": [0.15151515151515152, 0.35, null, 0.5183080808080808, 0.25252525252525254, 0.5, 0.4186135161135161], \"yaxis\": \"y\"}, {\"alignmentgroup\": \"True\", \"hovertemplate\": \"ticker=VZ<br>Day of Week=%{x}<br>Subjectivity=%{y}<extra></extra>\", \"legendgroup\": \"VZ\", \"marker\": {\"color\": \"rgb(228, 199, 241)\"}, \"name\": \"VZ\", \"offsetgroup\": \"VZ\", \"orientation\": \"v\", \"showlegend\": true, \"textposition\": \"auto\", \"type\": \"bar\", \"x\": [0, 1, 2, 3, 4, 5, 6], \"xaxis\": \"x\", \"y\": [0.36560846560846566, 0.3547619047619048, 0.4749999999999999, 0.3, 0.5418831168831169, 0.38125, 0.40100118835412946], \"yaxis\": \"y\"}, {\"alignmentgroup\": \"True\", \"hovertemplate\": \"ticker=WMT<br>Day of Week=%{x}<br>Subjectivity=%{y}<extra></extra>\", \"legendgroup\": \"WMT\", \"marker\": {\"color\": \"rgb(209, 175, 232)\"}, \"name\": \"WMT\", \"offsetgroup\": \"WMT\", \"orientation\": \"v\", \"showlegend\": true, \"textposition\": \"auto\", \"type\": \"bar\", \"x\": [0, 1, 2, 3, 4, 5, 6], \"xaxis\": \"x\", \"y\": [0.4625, null, null, 0.5, 0.31666666666666665, 0.4552083333333333, 0.3412037037037037], \"yaxis\": \"y\"}],                        {\"barmode\": \"group\", \"legend\": {\"title\": {\"text\": \"ticker\"}, \"tracegroupgap\": 0}, \"template\": {\"data\": {\"bar\": [{\"error_x\": {\"color\": \"#f2f5fa\"}, \"error_y\": {\"color\": \"#f2f5fa\"}, \"marker\": {\"line\": {\"color\": \"rgb(17,17,17)\", \"width\": 0.5}}, \"type\": \"bar\"}], \"barpolar\": [{\"marker\": {\"line\": {\"color\": \"rgb(17,17,17)\", \"width\": 0.5}}, \"type\": \"barpolar\"}], \"carpet\": [{\"aaxis\": {\"endlinecolor\": \"#A2B1C6\", \"gridcolor\": \"#506784\", \"linecolor\": \"#506784\", \"minorgridcolor\": \"#506784\", \"startlinecolor\": \"#A2B1C6\"}, \"baxis\": {\"endlinecolor\": \"#A2B1C6\", \"gridcolor\": \"#506784\", \"linecolor\": \"#506784\", \"minorgridcolor\": \"#506784\", \"startlinecolor\": \"#A2B1C6\"}, \"type\": \"carpet\"}], \"choropleth\": [{\"colorbar\": {\"outlinewidth\": 0, \"ticks\": \"\"}, \"type\": \"choropleth\"}], \"contour\": [{\"colorbar\": {\"outlinewidth\": 0, \"ticks\": \"\"}, \"colorscale\": [[0.0, \"#0d0887\"], [0.1111111111111111, \"#46039f\"], [0.2222222222222222, \"#7201a8\"], [0.3333333333333333, \"#9c179e\"], [0.4444444444444444, \"#bd3786\"], [0.5555555555555556, \"#d8576b\"], [0.6666666666666666, \"#ed7953\"], [0.7777777777777778, \"#fb9f3a\"], [0.8888888888888888, \"#fdca26\"], [1.0, \"#f0f921\"]], \"type\": \"contour\"}], \"contourcarpet\": [{\"colorbar\": {\"outlinewidth\": 0, \"ticks\": \"\"}, \"type\": \"contourcarpet\"}], \"heatmap\": [{\"colorbar\": {\"outlinewidth\": 0, \"ticks\": \"\"}, \"colorscale\": [[0.0, \"#0d0887\"], [0.1111111111111111, \"#46039f\"], [0.2222222222222222, \"#7201a8\"], [0.3333333333333333, \"#9c179e\"], [0.4444444444444444, \"#bd3786\"], [0.5555555555555556, \"#d8576b\"], [0.6666666666666666, \"#ed7953\"], [0.7777777777777778, \"#fb9f3a\"], [0.8888888888888888, \"#fdca26\"], [1.0, \"#f0f921\"]], \"type\": \"heatmap\"}], \"heatmapgl\": [{\"colorbar\": {\"outlinewidth\": 0, \"ticks\": \"\"}, \"colorscale\": [[0.0, \"#0d0887\"], [0.1111111111111111, \"#46039f\"], [0.2222222222222222, \"#7201a8\"], [0.3333333333333333, \"#9c179e\"], [0.4444444444444444, \"#bd3786\"], [0.5555555555555556, \"#d8576b\"], [0.6666666666666666, \"#ed7953\"], [0.7777777777777778, \"#fb9f3a\"], [0.8888888888888888, \"#fdca26\"], [1.0, \"#f0f921\"]], \"type\": \"heatmapgl\"}], \"histogram\": [{\"marker\": {\"colorbar\": {\"outlinewidth\": 0, \"ticks\": \"\"}}, \"type\": \"histogram\"}], \"histogram2d\": [{\"colorbar\": {\"outlinewidth\": 0, \"ticks\": \"\"}, \"colorscale\": [[0.0, \"#0d0887\"], [0.1111111111111111, \"#46039f\"], [0.2222222222222222, \"#7201a8\"], [0.3333333333333333, \"#9c179e\"], [0.4444444444444444, \"#bd3786\"], [0.5555555555555556, \"#d8576b\"], [0.6666666666666666, \"#ed7953\"], [0.7777777777777778, \"#fb9f3a\"], [0.8888888888888888, \"#fdca26\"], [1.0, \"#f0f921\"]], \"type\": \"histogram2d\"}], \"histogram2dcontour\": [{\"colorbar\": {\"outlinewidth\": 0, \"ticks\": \"\"}, \"colorscale\": [[0.0, \"#0d0887\"], [0.1111111111111111, \"#46039f\"], [0.2222222222222222, \"#7201a8\"], [0.3333333333333333, \"#9c179e\"], [0.4444444444444444, \"#bd3786\"], [0.5555555555555556, \"#d8576b\"], [0.6666666666666666, \"#ed7953\"], [0.7777777777777778, \"#fb9f3a\"], [0.8888888888888888, \"#fdca26\"], [1.0, \"#f0f921\"]], \"type\": \"histogram2dcontour\"}], \"mesh3d\": [{\"colorbar\": {\"outlinewidth\": 0, \"ticks\": \"\"}, \"type\": \"mesh3d\"}], \"parcoords\": [{\"line\": {\"colorbar\": {\"outlinewidth\": 0, \"ticks\": \"\"}}, \"type\": \"parcoords\"}], \"pie\": [{\"automargin\": true, \"type\": \"pie\"}], \"scatter\": [{\"marker\": {\"line\": {\"color\": \"#283442\"}}, \"type\": \"scatter\"}], \"scatter3d\": [{\"line\": {\"colorbar\": {\"outlinewidth\": 0, \"ticks\": \"\"}}, \"marker\": {\"colorbar\": {\"outlinewidth\": 0, \"ticks\": \"\"}}, \"type\": \"scatter3d\"}], \"scattercarpet\": [{\"marker\": {\"colorbar\": {\"outlinewidth\": 0, \"ticks\": \"\"}}, \"type\": \"scattercarpet\"}], \"scattergeo\": [{\"marker\": {\"colorbar\": {\"outlinewidth\": 0, \"ticks\": \"\"}}, \"type\": \"scattergeo\"}], \"scattergl\": [{\"marker\": {\"line\": {\"color\": \"#283442\"}}, \"type\": \"scattergl\"}], \"scattermapbox\": [{\"marker\": {\"colorbar\": {\"outlinewidth\": 0, \"ticks\": \"\"}}, \"type\": \"scattermapbox\"}], \"scatterpolar\": [{\"marker\": {\"colorbar\": {\"outlinewidth\": 0, \"ticks\": \"\"}}, \"type\": \"scatterpolar\"}], \"scatterpolargl\": [{\"marker\": {\"colorbar\": {\"outlinewidth\": 0, \"ticks\": \"\"}}, \"type\": \"scatterpolargl\"}], \"scatterternary\": [{\"marker\": {\"colorbar\": {\"outlinewidth\": 0, \"ticks\": \"\"}}, \"type\": \"scatterternary\"}], \"surface\": [{\"colorbar\": {\"outlinewidth\": 0, \"ticks\": \"\"}, \"colorscale\": [[0.0, \"#0d0887\"], [0.1111111111111111, \"#46039f\"], [0.2222222222222222, \"#7201a8\"], [0.3333333333333333, \"#9c179e\"], [0.4444444444444444, \"#bd3786\"], [0.5555555555555556, \"#d8576b\"], [0.6666666666666666, \"#ed7953\"], [0.7777777777777778, \"#fb9f3a\"], [0.8888888888888888, \"#fdca26\"], [1.0, \"#f0f921\"]], \"type\": \"surface\"}], \"table\": [{\"cells\": {\"fill\": {\"color\": \"#506784\"}, \"line\": {\"color\": \"rgb(17,17,17)\"}}, \"header\": {\"fill\": {\"color\": \"#2a3f5f\"}, \"line\": {\"color\": \"rgb(17,17,17)\"}}, \"type\": \"table\"}]}, \"layout\": {\"annotationdefaults\": {\"arrowcolor\": \"#f2f5fa\", \"arrowhead\": 0, \"arrowwidth\": 1}, \"coloraxis\": {\"colorbar\": {\"outlinewidth\": 0, \"ticks\": \"\"}}, \"colorscale\": {\"diverging\": [[0, \"#8e0152\"], [0.1, \"#c51b7d\"], [0.2, \"#de77ae\"], [0.3, \"#f1b6da\"], [0.4, \"#fde0ef\"], [0.5, \"#f7f7f7\"], [0.6, \"#e6f5d0\"], [0.7, \"#b8e186\"], [0.8, \"#7fbc41\"], [0.9, \"#4d9221\"], [1, \"#276419\"]], \"sequential\": [[0.0, \"#0d0887\"], [0.1111111111111111, \"#46039f\"], [0.2222222222222222, \"#7201a8\"], [0.3333333333333333, \"#9c179e\"], [0.4444444444444444, \"#bd3786\"], [0.5555555555555556, \"#d8576b\"], [0.6666666666666666, \"#ed7953\"], [0.7777777777777778, \"#fb9f3a\"], [0.8888888888888888, \"#fdca26\"], [1.0, \"#f0f921\"]], \"sequentialminus\": [[0.0, \"#0d0887\"], [0.1111111111111111, \"#46039f\"], [0.2222222222222222, \"#7201a8\"], [0.3333333333333333, \"#9c179e\"], [0.4444444444444444, \"#bd3786\"], [0.5555555555555556, \"#d8576b\"], [0.6666666666666666, \"#ed7953\"], [0.7777777777777778, \"#fb9f3a\"], [0.8888888888888888, \"#fdca26\"], [1.0, \"#f0f921\"]]}, \"colorway\": [\"#636efa\", \"#EF553B\", \"#00cc96\", \"#ab63fa\", \"#FFA15A\", \"#19d3f3\", \"#FF6692\", \"#B6E880\", \"#FF97FF\", \"#FECB52\"], \"font\": {\"color\": \"#f2f5fa\"}, \"geo\": {\"bgcolor\": \"rgb(17,17,17)\", \"lakecolor\": \"rgb(17,17,17)\", \"landcolor\": \"rgb(17,17,17)\", \"showlakes\": true, \"showland\": true, \"subunitcolor\": \"#506784\"}, \"hoverlabel\": {\"align\": \"left\"}, \"hovermode\": \"closest\", \"mapbox\": {\"style\": \"dark\"}, \"paper_bgcolor\": \"rgb(17,17,17)\", \"plot_bgcolor\": \"rgb(17,17,17)\", \"polar\": {\"angularaxis\": {\"gridcolor\": \"#506784\", \"linecolor\": \"#506784\", \"ticks\": \"\"}, \"bgcolor\": \"rgb(17,17,17)\", \"radialaxis\": {\"gridcolor\": \"#506784\", \"linecolor\": \"#506784\", \"ticks\": \"\"}}, \"scene\": {\"xaxis\": {\"backgroundcolor\": \"rgb(17,17,17)\", \"gridcolor\": \"#506784\", \"gridwidth\": 2, \"linecolor\": \"#506784\", \"showbackground\": true, \"ticks\": \"\", \"zerolinecolor\": \"#C8D4E3\"}, \"yaxis\": {\"backgroundcolor\": \"rgb(17,17,17)\", \"gridcolor\": \"#506784\", \"gridwidth\": 2, \"linecolor\": \"#506784\", \"showbackground\": true, \"ticks\": \"\", \"zerolinecolor\": \"#C8D4E3\"}, \"zaxis\": {\"backgroundcolor\": \"rgb(17,17,17)\", \"gridcolor\": \"#506784\", \"gridwidth\": 2, \"linecolor\": \"#506784\", \"showbackground\": true, \"ticks\": \"\", \"zerolinecolor\": \"#C8D4E3\"}}, \"shapedefaults\": {\"line\": {\"color\": \"#f2f5fa\"}}, \"sliderdefaults\": {\"bgcolor\": \"#C8D4E3\", \"bordercolor\": \"rgb(17,17,17)\", \"borderwidth\": 1, \"tickwidth\": 0}, \"ternary\": {\"aaxis\": {\"gridcolor\": \"#506784\", \"linecolor\": \"#506784\", \"ticks\": \"\"}, \"baxis\": {\"gridcolor\": \"#506784\", \"linecolor\": \"#506784\", \"ticks\": \"\"}, \"bgcolor\": \"rgb(17,17,17)\", \"caxis\": {\"gridcolor\": \"#506784\", \"linecolor\": \"#506784\", \"ticks\": \"\"}}, \"title\": {\"x\": 0.05}, \"updatemenudefaults\": {\"bgcolor\": \"#506784\", \"borderwidth\": 0}, \"xaxis\": {\"automargin\": true, \"gridcolor\": \"#283442\", \"linecolor\": \"#506784\", \"ticks\": \"\", \"title\": {\"standoff\": 15}, \"zerolinecolor\": \"#283442\", \"zerolinewidth\": 2}, \"yaxis\": {\"automargin\": true, \"gridcolor\": \"#283442\", \"linecolor\": \"#506784\", \"ticks\": \"\", \"title\": {\"standoff\": 15}, \"zerolinecolor\": \"#283442\", \"zerolinewidth\": 2}}}, \"title\": {\"text\": \"Average Week Day Polarity of Stock Headlines\"}, \"xaxis\": {\"anchor\": \"y\", \"domain\": [0.0, 1.0], \"title\": {\"text\": \"Day of Week\"}}, \"yaxis\": {\"anchor\": \"x\", \"domain\": [0.0, 1.0], \"title\": {\"text\": \"Subjectivity\"}}},                        {\"responsive\": true}                    ).then(function(){\n",
       "                            \n",
       "var gd = document.getElementById('ad8e758f-553e-4b92-8861-40d39b14f1e6');\n",
       "var x = new MutationObserver(function (mutations, observer) {{\n",
       "        var display = window.getComputedStyle(gd).display;\n",
       "        if (!display || display === 'none') {{\n",
       "            console.log([gd, 'removed!']);\n",
       "            Plotly.purge(gd);\n",
       "            observer.disconnect();\n",
       "        }}\n",
       "}});\n",
       "\n",
       "// Listen for the removal of the full notebook cells\n",
       "var notebookContainer = gd.closest('#notebook-container');\n",
       "if (notebookContainer) {{\n",
       "    x.observe(notebookContainer, {childList: true});\n",
       "}}\n",
       "\n",
       "// Listen for the clearing of the current output cell\n",
       "var outputEl = gd.closest('.output');\n",
       "if (outputEl) {{\n",
       "    x.observe(outputEl, {childList: true});\n",
       "}}\n",
       "\n",
       "                        })                };                });            </script>        </div>"
      ]
     },
     "metadata": {},
     "output_type": "display_data"
    }
   ],
   "source": [
    "# Group by the ticker and the day of the week, creating a multi-index\n",
    "mean_day = blob_news.groupby(['ticker', 'dayofweek']).mean()\n",
    "# Unstack, the innermost index level 'unstacks' across the columns\n",
    "mean_day = mean_day.unstack()\n",
    "# Get a cross-section of the above data, and transpose it to make the columns the ticker names\n",
    "mean_day = mean_day.xs('subjectivity', axis=1).T\n",
    "# Plotly colors\n",
    "purp = px.colors.sequential.Purp\n",
    "\n",
    "px.bar(mean_day, barmode='group', color_discrete_sequence=purp,\n",
    "      title='Average Week Day Polarity of Stock Headlines',\n",
    "      labels={'value': 'Subjectivity', 'dayofweek': 'Day of Week'})"
   ]
  },
  {
   "cell_type": "markdown",
   "metadata": {},
   "source": [
    "### Subjectivity based on `date` using Plotly"
   ]
  },
  {
   "cell_type": "code",
   "execution_count": 253,
   "metadata": {},
   "outputs": [
    {
     "data": {
      "application/vnd.plotly.v1+json": {
       "config": {
        "plotlyServerURL": "https://plot.ly"
       },
       "data": [
        {
         "alignmentgroup": "True",
         "hovertemplate": "ticker=AAPL<br>Date=%{x}<br>Subjectivity=%{y}<extra></extra>",
         "legendgroup": "AAPL",
         "marker": {
          "color": "rgb(243, 231, 155)"
         },
         "name": "AAPL",
         "offsetgroup": "AAPL",
         "orientation": "v",
         "showlegend": true,
         "textposition": "auto",
         "type": "bar",
         "x": [
          "2020-11-02T00:00:00",
          "2020-11-03T00:00:00",
          "2020-11-04T00:00:00",
          "2020-11-05T00:00:00",
          "2020-11-06T00:00:00",
          "2020-11-08T00:00:00",
          "2020-11-09T00:00:00",
          "2020-11-10T00:00:00",
          "2020-11-11T00:00:00",
          "2020-11-12T00:00:00",
          "2020-11-13T00:00:00",
          "2020-11-14T00:00:00",
          "2020-11-15T00:00:00"
         ],
         "xaxis": "x",
         "y": [
          null,
          null,
          null,
          null,
          null,
          null,
          null,
          0.5399999999999999,
          null,
          0.7178571428571429,
          null,
          null,
          0.48027898027898025
         ],
         "yaxis": "y"
        },
        {
         "alignmentgroup": "True",
         "hovertemplate": "ticker=ABBV<br>Date=%{x}<br>Subjectivity=%{y}<extra></extra>",
         "legendgroup": "ABBV",
         "marker": {
          "color": "rgb(250, 196, 132)"
         },
         "name": "ABBV",
         "offsetgroup": "ABBV",
         "orientation": "v",
         "showlegend": true,
         "textposition": "auto",
         "type": "bar",
         "x": [
          "2020-11-02T00:00:00",
          "2020-11-03T00:00:00",
          "2020-11-04T00:00:00",
          "2020-11-05T00:00:00",
          "2020-11-06T00:00:00",
          "2020-11-08T00:00:00",
          "2020-11-09T00:00:00",
          "2020-11-10T00:00:00",
          "2020-11-11T00:00:00",
          "2020-11-12T00:00:00",
          "2020-11-13T00:00:00",
          "2020-11-14T00:00:00",
          "2020-11-15T00:00:00"
         ],
         "xaxis": "x",
         "y": [
          1,
          null,
          null,
          0.2,
          null,
          null,
          null,
          0.3747685185185185,
          0.16666666666666666,
          0.3745454545454545,
          0.45606060606060606,
          0.5533333333333333,
          null
         ],
         "yaxis": "y"
        },
        {
         "alignmentgroup": "True",
         "hovertemplate": "ticker=ABT<br>Date=%{x}<br>Subjectivity=%{y}<extra></extra>",
         "legendgroup": "ABT",
         "marker": {
          "color": "rgb(248, 160, 126)"
         },
         "name": "ABT",
         "offsetgroup": "ABT",
         "orientation": "v",
         "showlegend": true,
         "textposition": "auto",
         "type": "bar",
         "x": [
          "2020-11-02T00:00:00",
          "2020-11-03T00:00:00",
          "2020-11-04T00:00:00",
          "2020-11-05T00:00:00",
          "2020-11-06T00:00:00",
          "2020-11-08T00:00:00",
          "2020-11-09T00:00:00",
          "2020-11-10T00:00:00",
          "2020-11-11T00:00:00",
          "2020-11-12T00:00:00",
          "2020-11-13T00:00:00",
          "2020-11-14T00:00:00",
          "2020-11-15T00:00:00"
         ],
         "xaxis": "x",
         "y": [
          null,
          null,
          null,
          null,
          null,
          0.5924242424242424,
          0.35,
          0.41045454545454546,
          0.2833333333333333,
          null,
          0.5333333333333333,
          0.5,
          0.22727272727272727
         ],
         "yaxis": "y"
        },
        {
         "alignmentgroup": "True",
         "hovertemplate": "ticker=ADBE<br>Date=%{x}<br>Subjectivity=%{y}<extra></extra>",
         "legendgroup": "ADBE",
         "marker": {
          "color": "rgb(235, 127, 134)"
         },
         "name": "ADBE",
         "offsetgroup": "ADBE",
         "orientation": "v",
         "showlegend": true,
         "textposition": "auto",
         "type": "bar",
         "x": [
          "2020-11-02T00:00:00",
          "2020-11-03T00:00:00",
          "2020-11-04T00:00:00",
          "2020-11-05T00:00:00",
          "2020-11-06T00:00:00",
          "2020-11-08T00:00:00",
          "2020-11-09T00:00:00",
          "2020-11-10T00:00:00",
          "2020-11-11T00:00:00",
          "2020-11-12T00:00:00",
          "2020-11-13T00:00:00",
          "2020-11-14T00:00:00",
          "2020-11-15T00:00:00"
         ],
         "xaxis": "x",
         "y": [
          null,
          null,
          null,
          null,
          null,
          null,
          null,
          null,
          null,
          0.345,
          0.3833333333333333,
          0.375,
          0.2833333333333333
         ],
         "yaxis": "y"
        },
        {
         "alignmentgroup": "True",
         "hovertemplate": "ticker=AMZN<br>Date=%{x}<br>Subjectivity=%{y}<extra></extra>",
         "legendgroup": "AMZN",
         "marker": {
          "color": "rgb(206, 102, 147)"
         },
         "name": "AMZN",
         "offsetgroup": "AMZN",
         "orientation": "v",
         "showlegend": true,
         "textposition": "auto",
         "type": "bar",
         "x": [
          "2020-11-02T00:00:00",
          "2020-11-03T00:00:00",
          "2020-11-04T00:00:00",
          "2020-11-05T00:00:00",
          "2020-11-06T00:00:00",
          "2020-11-08T00:00:00",
          "2020-11-09T00:00:00",
          "2020-11-10T00:00:00",
          "2020-11-11T00:00:00",
          "2020-11-12T00:00:00",
          "2020-11-13T00:00:00",
          "2020-11-14T00:00:00",
          "2020-11-15T00:00:00"
         ],
         "xaxis": "x",
         "y": [
          null,
          null,
          null,
          null,
          null,
          null,
          null,
          0.5,
          1,
          0.7660714285714285,
          null,
          null,
          0.4863215488215487
         ],
         "yaxis": "y"
        },
        {
         "alignmentgroup": "True",
         "hovertemplate": "ticker=ASML<br>Date=%{x}<br>Subjectivity=%{y}<extra></extra>",
         "legendgroup": "ASML",
         "marker": {
          "color": "rgb(160, 89, 160)"
         },
         "name": "ASML",
         "offsetgroup": "ASML",
         "orientation": "v",
         "showlegend": true,
         "textposition": "auto",
         "type": "bar",
         "x": [
          "2020-11-02T00:00:00",
          "2020-11-03T00:00:00",
          "2020-11-04T00:00:00",
          "2020-11-05T00:00:00",
          "2020-11-06T00:00:00",
          "2020-11-08T00:00:00",
          "2020-11-09T00:00:00",
          "2020-11-10T00:00:00",
          "2020-11-11T00:00:00",
          "2020-11-12T00:00:00",
          "2020-11-13T00:00:00",
          "2020-11-14T00:00:00",
          "2020-11-15T00:00:00"
         ],
         "xaxis": "x",
         "y": [
          null,
          0.25,
          null,
          null,
          1,
          null,
          0.44155844155844154,
          0.22727272727272727,
          0.9,
          0.7272727272727273,
          0.36818181818181817,
          null,
          0.05
         ],
         "yaxis": "y"
        },
        {
         "alignmentgroup": "True",
         "hovertemplate": "ticker=BABA<br>Date=%{x}<br>Subjectivity=%{y}<extra></extra>",
         "legendgroup": "BABA",
         "marker": {
          "color": "rgb(92, 83, 165)"
         },
         "name": "BABA",
         "offsetgroup": "BABA",
         "orientation": "v",
         "showlegend": true,
         "textposition": "auto",
         "type": "bar",
         "x": [
          "2020-11-02T00:00:00",
          "2020-11-03T00:00:00",
          "2020-11-04T00:00:00",
          "2020-11-05T00:00:00",
          "2020-11-06T00:00:00",
          "2020-11-08T00:00:00",
          "2020-11-09T00:00:00",
          "2020-11-10T00:00:00",
          "2020-11-11T00:00:00",
          "2020-11-12T00:00:00",
          "2020-11-13T00:00:00",
          "2020-11-14T00:00:00",
          "2020-11-15T00:00:00"
         ],
         "xaxis": "x",
         "y": [
          null,
          null,
          null,
          null,
          null,
          null,
          null,
          1,
          null,
          null,
          0.42164502164502166,
          0.41666666666666663,
          0.38730158730158726
         ],
         "yaxis": "y"
        },
        {
         "alignmentgroup": "True",
         "hovertemplate": "ticker=BAC<br>Date=%{x}<br>Subjectivity=%{y}<extra></extra>",
         "legendgroup": "BAC",
         "marker": {
          "color": "rgb(243, 231, 155)"
         },
         "name": "BAC",
         "offsetgroup": "BAC",
         "orientation": "v",
         "showlegend": true,
         "textposition": "auto",
         "type": "bar",
         "x": [
          "2020-11-02T00:00:00",
          "2020-11-03T00:00:00",
          "2020-11-04T00:00:00",
          "2020-11-05T00:00:00",
          "2020-11-06T00:00:00",
          "2020-11-08T00:00:00",
          "2020-11-09T00:00:00",
          "2020-11-10T00:00:00",
          "2020-11-11T00:00:00",
          "2020-11-12T00:00:00",
          "2020-11-13T00:00:00",
          "2020-11-14T00:00:00",
          "2020-11-15T00:00:00"
         ],
         "xaxis": "x",
         "y": [
          null,
          null,
          null,
          null,
          null,
          null,
          null,
          null,
          null,
          null,
          null,
          null,
          0.2634893578643578
         ],
         "yaxis": "y"
        },
        {
         "alignmentgroup": "True",
         "hovertemplate": "ticker=CMCSA<br>Date=%{x}<br>Subjectivity=%{y}<extra></extra>",
         "legendgroup": "CMCSA",
         "marker": {
          "color": "rgb(250, 196, 132)"
         },
         "name": "CMCSA",
         "offsetgroup": "CMCSA",
         "orientation": "v",
         "showlegend": true,
         "textposition": "auto",
         "type": "bar",
         "x": [
          "2020-11-02T00:00:00",
          "2020-11-03T00:00:00",
          "2020-11-04T00:00:00",
          "2020-11-05T00:00:00",
          "2020-11-06T00:00:00",
          "2020-11-08T00:00:00",
          "2020-11-09T00:00:00",
          "2020-11-10T00:00:00",
          "2020-11-11T00:00:00",
          "2020-11-12T00:00:00",
          "2020-11-13T00:00:00",
          "2020-11-14T00:00:00",
          "2020-11-15T00:00:00"
         ],
         "xaxis": "x",
         "y": [
          0.34761904761904766,
          null,
          null,
          null,
          null,
          null,
          null,
          null,
          null,
          null,
          null,
          0.26666666666666666,
          0.520550038197097
         ],
         "yaxis": "y"
        },
        {
         "alignmentgroup": "True",
         "hovertemplate": "ticker=COST<br>Date=%{x}<br>Subjectivity=%{y}<extra></extra>",
         "legendgroup": "COST",
         "marker": {
          "color": "rgb(248, 160, 126)"
         },
         "name": "COST",
         "offsetgroup": "COST",
         "orientation": "v",
         "showlegend": true,
         "textposition": "auto",
         "type": "bar",
         "x": [
          "2020-11-02T00:00:00",
          "2020-11-03T00:00:00",
          "2020-11-04T00:00:00",
          "2020-11-05T00:00:00",
          "2020-11-06T00:00:00",
          "2020-11-08T00:00:00",
          "2020-11-09T00:00:00",
          "2020-11-10T00:00:00",
          "2020-11-11T00:00:00",
          "2020-11-12T00:00:00",
          "2020-11-13T00:00:00",
          "2020-11-14T00:00:00",
          "2020-11-15T00:00:00"
         ],
         "xaxis": "x",
         "y": [
          null,
          null,
          null,
          null,
          null,
          null,
          null,
          null,
          null,
          0.4772727272727273,
          0.49756493506493504,
          null,
          0.5277777777777778
         ],
         "yaxis": "y"
        },
        {
         "alignmentgroup": "True",
         "hovertemplate": "ticker=CRM<br>Date=%{x}<br>Subjectivity=%{y}<extra></extra>",
         "legendgroup": "CRM",
         "marker": {
          "color": "rgb(235, 127, 134)"
         },
         "name": "CRM",
         "offsetgroup": "CRM",
         "orientation": "v",
         "showlegend": true,
         "textposition": "auto",
         "type": "bar",
         "x": [
          "2020-11-02T00:00:00",
          "2020-11-03T00:00:00",
          "2020-11-04T00:00:00",
          "2020-11-05T00:00:00",
          "2020-11-06T00:00:00",
          "2020-11-08T00:00:00",
          "2020-11-09T00:00:00",
          "2020-11-10T00:00:00",
          "2020-11-11T00:00:00",
          "2020-11-12T00:00:00",
          "2020-11-13T00:00:00",
          "2020-11-14T00:00:00",
          "2020-11-15T00:00:00"
         ],
         "xaxis": "x",
         "y": [
          null,
          0.8333333333333334,
          null,
          null,
          0.3,
          null,
          0.41875,
          null,
          null,
          null,
          null,
          0.2727272727272727,
          0.330952380952381
         ],
         "yaxis": "y"
        },
        {
         "alignmentgroup": "True",
         "hovertemplate": "ticker=CSCO<br>Date=%{x}<br>Subjectivity=%{y}<extra></extra>",
         "legendgroup": "CSCO",
         "marker": {
          "color": "rgb(206, 102, 147)"
         },
         "name": "CSCO",
         "offsetgroup": "CSCO",
         "orientation": "v",
         "showlegend": true,
         "textposition": "auto",
         "type": "bar",
         "x": [
          "2020-11-02T00:00:00",
          "2020-11-03T00:00:00",
          "2020-11-04T00:00:00",
          "2020-11-05T00:00:00",
          "2020-11-06T00:00:00",
          "2020-11-08T00:00:00",
          "2020-11-09T00:00:00",
          "2020-11-10T00:00:00",
          "2020-11-11T00:00:00",
          "2020-11-12T00:00:00",
          "2020-11-13T00:00:00",
          "2020-11-14T00:00:00",
          "2020-11-15T00:00:00"
         ],
         "xaxis": "x",
         "y": [
          null,
          0.45454545454545453,
          null,
          null,
          0.5083333333333333,
          null,
          0.1,
          0.3547619047619048,
          0.8214285714285714,
          0.45454545454545453,
          0.4243939393939394,
          0.45,
          0.515530303030303
         ],
         "yaxis": "y"
        },
        {
         "alignmentgroup": "True",
         "hovertemplate": "ticker=CVX<br>Date=%{x}<br>Subjectivity=%{y}<extra></extra>",
         "legendgroup": "CVX",
         "marker": {
          "color": "rgb(160, 89, 160)"
         },
         "name": "CVX",
         "offsetgroup": "CVX",
         "orientation": "v",
         "showlegend": true,
         "textposition": "auto",
         "type": "bar",
         "x": [
          "2020-11-02T00:00:00",
          "2020-11-03T00:00:00",
          "2020-11-04T00:00:00",
          "2020-11-05T00:00:00",
          "2020-11-06T00:00:00",
          "2020-11-08T00:00:00",
          "2020-11-09T00:00:00",
          "2020-11-10T00:00:00",
          "2020-11-11T00:00:00",
          "2020-11-12T00:00:00",
          "2020-11-13T00:00:00",
          "2020-11-14T00:00:00",
          "2020-11-15T00:00:00"
         ],
         "xaxis": "x",
         "y": [
          null,
          null,
          null,
          null,
          null,
          null,
          null,
          0.55,
          null,
          null,
          0.25,
          0.5325892857142858,
          0.4693301435406699
         ],
         "yaxis": "y"
        },
        {
         "alignmentgroup": "True",
         "hovertemplate": "ticker=DHR<br>Date=%{x}<br>Subjectivity=%{y}<extra></extra>",
         "legendgroup": "DHR",
         "marker": {
          "color": "rgb(92, 83, 165)"
         },
         "name": "DHR",
         "offsetgroup": "DHR",
         "orientation": "v",
         "showlegend": true,
         "textposition": "auto",
         "type": "bar",
         "x": [
          "2020-11-02T00:00:00",
          "2020-11-03T00:00:00",
          "2020-11-04T00:00:00",
          "2020-11-05T00:00:00",
          "2020-11-06T00:00:00",
          "2020-11-08T00:00:00",
          "2020-11-09T00:00:00",
          "2020-11-10T00:00:00",
          "2020-11-11T00:00:00",
          "2020-11-12T00:00:00",
          "2020-11-13T00:00:00",
          "2020-11-14T00:00:00",
          "2020-11-15T00:00:00"
         ],
         "xaxis": "x",
         "y": [
          null,
          null,
          null,
          null,
          null,
          null,
          0.7272727272727273,
          0.35,
          0.5,
          null,
          null,
          0.3333333333333333,
          null
         ],
         "yaxis": "y"
        },
        {
         "alignmentgroup": "True",
         "hovertemplate": "ticker=DIS<br>Date=%{x}<br>Subjectivity=%{y}<extra></extra>",
         "legendgroup": "DIS",
         "marker": {
          "color": "rgb(243, 231, 155)"
         },
         "name": "DIS",
         "offsetgroup": "DIS",
         "orientation": "v",
         "showlegend": true,
         "textposition": "auto",
         "type": "bar",
         "x": [
          "2020-11-02T00:00:00",
          "2020-11-03T00:00:00",
          "2020-11-04T00:00:00",
          "2020-11-05T00:00:00",
          "2020-11-06T00:00:00",
          "2020-11-08T00:00:00",
          "2020-11-09T00:00:00",
          "2020-11-10T00:00:00",
          "2020-11-11T00:00:00",
          "2020-11-12T00:00:00",
          "2020-11-13T00:00:00",
          "2020-11-14T00:00:00",
          "2020-11-15T00:00:00"
         ],
         "xaxis": "x",
         "y": [
          null,
          null,
          null,
          null,
          null,
          null,
          null,
          null,
          null,
          null,
          null,
          null,
          0.5
         ],
         "yaxis": "y"
        },
        {
         "alignmentgroup": "True",
         "hovertemplate": "ticker=GOOG<br>Date=%{x}<br>Subjectivity=%{y}<extra></extra>",
         "legendgroup": "GOOG",
         "marker": {
          "color": "rgb(250, 196, 132)"
         },
         "name": "GOOG",
         "offsetgroup": "GOOG",
         "orientation": "v",
         "showlegend": true,
         "textposition": "auto",
         "type": "bar",
         "x": [
          "2020-11-02T00:00:00",
          "2020-11-03T00:00:00",
          "2020-11-04T00:00:00",
          "2020-11-05T00:00:00",
          "2020-11-06T00:00:00",
          "2020-11-08T00:00:00",
          "2020-11-09T00:00:00",
          "2020-11-10T00:00:00",
          "2020-11-11T00:00:00",
          "2020-11-12T00:00:00",
          "2020-11-13T00:00:00",
          "2020-11-14T00:00:00",
          "2020-11-15T00:00:00"
         ],
         "xaxis": "x",
         "y": [
          null,
          null,
          null,
          null,
          null,
          null,
          null,
          null,
          null,
          0.4,
          0.525,
          null,
          0.6071428571428571
         ],
         "yaxis": "y"
        },
        {
         "alignmentgroup": "True",
         "hovertemplate": "ticker=GOOGL<br>Date=%{x}<br>Subjectivity=%{y}<extra></extra>",
         "legendgroup": "GOOGL",
         "marker": {
          "color": "rgb(248, 160, 126)"
         },
         "name": "GOOGL",
         "offsetgroup": "GOOGL",
         "orientation": "v",
         "showlegend": true,
         "textposition": "auto",
         "type": "bar",
         "x": [
          "2020-11-02T00:00:00",
          "2020-11-03T00:00:00",
          "2020-11-04T00:00:00",
          "2020-11-05T00:00:00",
          "2020-11-06T00:00:00",
          "2020-11-08T00:00:00",
          "2020-11-09T00:00:00",
          "2020-11-10T00:00:00",
          "2020-11-11T00:00:00",
          "2020-11-12T00:00:00",
          "2020-11-13T00:00:00",
          "2020-11-14T00:00:00",
          "2020-11-15T00:00:00"
         ],
         "xaxis": "x",
         "y": [
          null,
          null,
          null,
          null,
          null,
          null,
          null,
          null,
          null,
          0.4,
          0.525,
          null,
          0.8214285714285714
         ],
         "yaxis": "y"
        },
        {
         "alignmentgroup": "True",
         "hovertemplate": "ticker=HD<br>Date=%{x}<br>Subjectivity=%{y}<extra></extra>",
         "legendgroup": "HD",
         "marker": {
          "color": "rgb(235, 127, 134)"
         },
         "name": "HD",
         "offsetgroup": "HD",
         "orientation": "v",
         "showlegend": true,
         "textposition": "auto",
         "type": "bar",
         "x": [
          "2020-11-02T00:00:00",
          "2020-11-03T00:00:00",
          "2020-11-04T00:00:00",
          "2020-11-05T00:00:00",
          "2020-11-06T00:00:00",
          "2020-11-08T00:00:00",
          "2020-11-09T00:00:00",
          "2020-11-10T00:00:00",
          "2020-11-11T00:00:00",
          "2020-11-12T00:00:00",
          "2020-11-13T00:00:00",
          "2020-11-14T00:00:00",
          "2020-11-15T00:00:00"
         ],
         "xaxis": "x",
         "y": [
          null,
          null,
          null,
          null,
          null,
          null,
          null,
          null,
          0.3,
          0.44999999999999996,
          0.6261363636363637,
          0.46481481481481485,
          0.3654761904761905
         ],
         "yaxis": "y"
        },
        {
         "alignmentgroup": "True",
         "hovertemplate": "ticker=INTC<br>Date=%{x}<br>Subjectivity=%{y}<extra></extra>",
         "legendgroup": "INTC",
         "marker": {
          "color": "rgb(206, 102, 147)"
         },
         "name": "INTC",
         "offsetgroup": "INTC",
         "orientation": "v",
         "showlegend": true,
         "textposition": "auto",
         "type": "bar",
         "x": [
          "2020-11-02T00:00:00",
          "2020-11-03T00:00:00",
          "2020-11-04T00:00:00",
          "2020-11-05T00:00:00",
          "2020-11-06T00:00:00",
          "2020-11-08T00:00:00",
          "2020-11-09T00:00:00",
          "2020-11-10T00:00:00",
          "2020-11-11T00:00:00",
          "2020-11-12T00:00:00",
          "2020-11-13T00:00:00",
          "2020-11-14T00:00:00",
          "2020-11-15T00:00:00"
         ],
         "xaxis": "x",
         "y": [
          null,
          null,
          null,
          null,
          null,
          null,
          null,
          null,
          null,
          null,
          null,
          0.4341750841750842,
          0.34667508417508425
         ],
         "yaxis": "y"
        },
        {
         "alignmentgroup": "True",
         "hovertemplate": "ticker=JNJ<br>Date=%{x}<br>Subjectivity=%{y}<extra></extra>",
         "legendgroup": "JNJ",
         "marker": {
          "color": "rgb(160, 89, 160)"
         },
         "name": "JNJ",
         "offsetgroup": "JNJ",
         "orientation": "v",
         "showlegend": true,
         "textposition": "auto",
         "type": "bar",
         "x": [
          "2020-11-02T00:00:00",
          "2020-11-03T00:00:00",
          "2020-11-04T00:00:00",
          "2020-11-05T00:00:00",
          "2020-11-06T00:00:00",
          "2020-11-08T00:00:00",
          "2020-11-09T00:00:00",
          "2020-11-10T00:00:00",
          "2020-11-11T00:00:00",
          "2020-11-12T00:00:00",
          "2020-11-13T00:00:00",
          "2020-11-14T00:00:00",
          "2020-11-15T00:00:00"
         ],
         "xaxis": "x",
         "y": [
          null,
          null,
          null,
          1,
          null,
          null,
          null,
          null,
          null,
          null,
          null,
          null,
          null
         ],
         "yaxis": "y"
        },
        {
         "alignmentgroup": "True",
         "hovertemplate": "ticker=JPM<br>Date=%{x}<br>Subjectivity=%{y}<extra></extra>",
         "legendgroup": "JPM",
         "marker": {
          "color": "rgb(92, 83, 165)"
         },
         "name": "JPM",
         "offsetgroup": "JPM",
         "orientation": "v",
         "showlegend": true,
         "textposition": "auto",
         "type": "bar",
         "x": [
          "2020-11-02T00:00:00",
          "2020-11-03T00:00:00",
          "2020-11-04T00:00:00",
          "2020-11-05T00:00:00",
          "2020-11-06T00:00:00",
          "2020-11-08T00:00:00",
          "2020-11-09T00:00:00",
          "2020-11-10T00:00:00",
          "2020-11-11T00:00:00",
          "2020-11-12T00:00:00",
          "2020-11-13T00:00:00",
          "2020-11-14T00:00:00",
          "2020-11-15T00:00:00"
         ],
         "xaxis": "x",
         "y": [
          null,
          null,
          null,
          null,
          null,
          null,
          null,
          0.44393939393939397,
          null,
          null,
          1,
          null,
          0.4575216450216451
         ],
         "yaxis": "y"
        },
        {
         "alignmentgroup": "True",
         "hovertemplate": "ticker=KO<br>Date=%{x}<br>Subjectivity=%{y}<extra></extra>",
         "legendgroup": "KO",
         "marker": {
          "color": "rgb(243, 231, 155)"
         },
         "name": "KO",
         "offsetgroup": "KO",
         "orientation": "v",
         "showlegend": true,
         "textposition": "auto",
         "type": "bar",
         "x": [
          "2020-11-02T00:00:00",
          "2020-11-03T00:00:00",
          "2020-11-04T00:00:00",
          "2020-11-05T00:00:00",
          "2020-11-06T00:00:00",
          "2020-11-08T00:00:00",
          "2020-11-09T00:00:00",
          "2020-11-10T00:00:00",
          "2020-11-11T00:00:00",
          "2020-11-12T00:00:00",
          "2020-11-13T00:00:00",
          "2020-11-14T00:00:00",
          "2020-11-15T00:00:00"
         ],
         "xaxis": "x",
         "y": [
          null,
          null,
          null,
          null,
          null,
          null,
          0.7272727272727273,
          null,
          null,
          null,
          0.32575757575757575,
          0.5198232323232322,
          0.5633838383838384
         ],
         "yaxis": "y"
        },
        {
         "alignmentgroup": "True",
         "hovertemplate": "ticker=MA<br>Date=%{x}<br>Subjectivity=%{y}<extra></extra>",
         "legendgroup": "MA",
         "marker": {
          "color": "rgb(250, 196, 132)"
         },
         "name": "MA",
         "offsetgroup": "MA",
         "orientation": "v",
         "showlegend": true,
         "textposition": "auto",
         "type": "bar",
         "x": [
          "2020-11-02T00:00:00",
          "2020-11-03T00:00:00",
          "2020-11-04T00:00:00",
          "2020-11-05T00:00:00",
          "2020-11-06T00:00:00",
          "2020-11-08T00:00:00",
          "2020-11-09T00:00:00",
          "2020-11-10T00:00:00",
          "2020-11-11T00:00:00",
          "2020-11-12T00:00:00",
          "2020-11-13T00:00:00",
          "2020-11-14T00:00:00",
          "2020-11-15T00:00:00"
         ],
         "xaxis": "x",
         "y": [
          0.3,
          null,
          null,
          null,
          null,
          null,
          null,
          0.15,
          0.5020833333333333,
          0.39166666666666666,
          0.2469907407407407,
          0.5083333333333333,
          null
         ],
         "yaxis": "y"
        },
        {
         "alignmentgroup": "True",
         "hovertemplate": "ticker=MCD<br>Date=%{x}<br>Subjectivity=%{y}<extra></extra>",
         "legendgroup": "MCD",
         "marker": {
          "color": "rgb(248, 160, 126)"
         },
         "name": "MCD",
         "offsetgroup": "MCD",
         "orientation": "v",
         "showlegend": true,
         "textposition": "auto",
         "type": "bar",
         "x": [
          "2020-11-02T00:00:00",
          "2020-11-03T00:00:00",
          "2020-11-04T00:00:00",
          "2020-11-05T00:00:00",
          "2020-11-06T00:00:00",
          "2020-11-08T00:00:00",
          "2020-11-09T00:00:00",
          "2020-11-10T00:00:00",
          "2020-11-11T00:00:00",
          "2020-11-12T00:00:00",
          "2020-11-13T00:00:00",
          "2020-11-14T00:00:00",
          "2020-11-15T00:00:00"
         ],
         "xaxis": "x",
         "y": [
          null,
          null,
          null,
          null,
          null,
          null,
          0.45454545454545453,
          null,
          null,
          null,
          null,
          0.4962962962962963,
          0.5751515151515152
         ],
         "yaxis": "y"
        },
        {
         "alignmentgroup": "True",
         "hovertemplate": "ticker=MRK<br>Date=%{x}<br>Subjectivity=%{y}<extra></extra>",
         "legendgroup": "MRK",
         "marker": {
          "color": "rgb(235, 127, 134)"
         },
         "name": "MRK",
         "offsetgroup": "MRK",
         "orientation": "v",
         "showlegend": true,
         "textposition": "auto",
         "type": "bar",
         "x": [
          "2020-11-02T00:00:00",
          "2020-11-03T00:00:00",
          "2020-11-04T00:00:00",
          "2020-11-05T00:00:00",
          "2020-11-06T00:00:00",
          "2020-11-08T00:00:00",
          "2020-11-09T00:00:00",
          "2020-11-10T00:00:00",
          "2020-11-11T00:00:00",
          "2020-11-12T00:00:00",
          "2020-11-13T00:00:00",
          "2020-11-14T00:00:00",
          "2020-11-15T00:00:00"
         ],
         "xaxis": "x",
         "y": [
          null,
          null,
          null,
          0.4,
          null,
          null,
          null,
          null,
          0.35,
          0.3958333333333333,
          0.41737012987012984,
          0.35383597883597884,
          0.45535714285714285
         ],
         "yaxis": "y"
        },
        {
         "alignmentgroup": "True",
         "hovertemplate": "ticker=MSFT<br>Date=%{x}<br>Subjectivity=%{y}<extra></extra>",
         "legendgroup": "MSFT",
         "marker": {
          "color": "rgb(206, 102, 147)"
         },
         "name": "MSFT",
         "offsetgroup": "MSFT",
         "orientation": "v",
         "showlegend": true,
         "textposition": "auto",
         "type": "bar",
         "x": [
          "2020-11-02T00:00:00",
          "2020-11-03T00:00:00",
          "2020-11-04T00:00:00",
          "2020-11-05T00:00:00",
          "2020-11-06T00:00:00",
          "2020-11-08T00:00:00",
          "2020-11-09T00:00:00",
          "2020-11-10T00:00:00",
          "2020-11-11T00:00:00",
          "2020-11-12T00:00:00",
          "2020-11-13T00:00:00",
          "2020-11-14T00:00:00",
          "2020-11-15T00:00:00"
         ],
         "xaxis": "x",
         "y": [
          null,
          null,
          null,
          null,
          null,
          null,
          null,
          null,
          null,
          0.1,
          0.5328282828282829,
          null,
          0.5499158249158249
         ],
         "yaxis": "y"
        },
        {
         "alignmentgroup": "True",
         "hovertemplate": "ticker=NFLX<br>Date=%{x}<br>Subjectivity=%{y}<extra></extra>",
         "legendgroup": "NFLX",
         "marker": {
          "color": "rgb(160, 89, 160)"
         },
         "name": "NFLX",
         "offsetgroup": "NFLX",
         "orientation": "v",
         "showlegend": true,
         "textposition": "auto",
         "type": "bar",
         "x": [
          "2020-11-02T00:00:00",
          "2020-11-03T00:00:00",
          "2020-11-04T00:00:00",
          "2020-11-05T00:00:00",
          "2020-11-06T00:00:00",
          "2020-11-08T00:00:00",
          "2020-11-09T00:00:00",
          "2020-11-10T00:00:00",
          "2020-11-11T00:00:00",
          "2020-11-12T00:00:00",
          "2020-11-13T00:00:00",
          "2020-11-14T00:00:00",
          "2020-11-15T00:00:00"
         ],
         "xaxis": "x",
         "y": [
          null,
          null,
          null,
          null,
          null,
          null,
          null,
          null,
          null,
          0.7,
          null,
          null,
          0.6502164502164502
         ],
         "yaxis": "y"
        },
        {
         "alignmentgroup": "True",
         "hovertemplate": "ticker=NVDA<br>Date=%{x}<br>Subjectivity=%{y}<extra></extra>",
         "legendgroup": "NVDA",
         "marker": {
          "color": "rgb(92, 83, 165)"
         },
         "name": "NVDA",
         "offsetgroup": "NVDA",
         "orientation": "v",
         "showlegend": true,
         "textposition": "auto",
         "type": "bar",
         "x": [
          "2020-11-02T00:00:00",
          "2020-11-03T00:00:00",
          "2020-11-04T00:00:00",
          "2020-11-05T00:00:00",
          "2020-11-06T00:00:00",
          "2020-11-08T00:00:00",
          "2020-11-09T00:00:00",
          "2020-11-10T00:00:00",
          "2020-11-11T00:00:00",
          "2020-11-12T00:00:00",
          "2020-11-13T00:00:00",
          "2020-11-14T00:00:00",
          "2020-11-15T00:00:00"
         ],
         "xaxis": "x",
         "y": [
          null,
          null,
          null,
          null,
          null,
          null,
          0.35416666666666663,
          null,
          null,
          null,
          0.6428571428571429,
          0.6444444444444444,
          0.3972222222222223
         ],
         "yaxis": "y"
        },
        {
         "alignmentgroup": "True",
         "hovertemplate": "ticker=NVS<br>Date=%{x}<br>Subjectivity=%{y}<extra></extra>",
         "legendgroup": "NVS",
         "marker": {
          "color": "rgb(243, 231, 155)"
         },
         "name": "NVS",
         "offsetgroup": "NVS",
         "orientation": "v",
         "showlegend": true,
         "textposition": "auto",
         "type": "bar",
         "x": [
          "2020-11-02T00:00:00",
          "2020-11-03T00:00:00",
          "2020-11-04T00:00:00",
          "2020-11-05T00:00:00",
          "2020-11-06T00:00:00",
          "2020-11-08T00:00:00",
          "2020-11-09T00:00:00",
          "2020-11-10T00:00:00",
          "2020-11-11T00:00:00",
          "2020-11-12T00:00:00",
          "2020-11-13T00:00:00",
          "2020-11-14T00:00:00",
          "2020-11-15T00:00:00"
         ],
         "xaxis": "x",
         "y": [
          0.23333333333333334,
          null,
          0.3333333333333333,
          null,
          0.3333333333333333,
          null,
          null,
          null,
          0.6000000000000001,
          0.5291919191919192,
          0.3935185185185186,
          null,
          0.35861693861693855
         ],
         "yaxis": "y"
        },
        {
         "alignmentgroup": "True",
         "hovertemplate": "ticker=ORCL<br>Date=%{x}<br>Subjectivity=%{y}<extra></extra>",
         "legendgroup": "ORCL",
         "marker": {
          "color": "rgb(250, 196, 132)"
         },
         "name": "ORCL",
         "offsetgroup": "ORCL",
         "orientation": "v",
         "showlegend": true,
         "textposition": "auto",
         "type": "bar",
         "x": [
          "2020-11-02T00:00:00",
          "2020-11-03T00:00:00",
          "2020-11-04T00:00:00",
          "2020-11-05T00:00:00",
          "2020-11-06T00:00:00",
          "2020-11-08T00:00:00",
          "2020-11-09T00:00:00",
          "2020-11-10T00:00:00",
          "2020-11-11T00:00:00",
          "2020-11-12T00:00:00",
          "2020-11-13T00:00:00",
          "2020-11-14T00:00:00",
          "2020-11-15T00:00:00"
         ],
         "xaxis": "x",
         "y": [
          0.45454545454545453,
          null,
          null,
          null,
          null,
          null,
          null,
          null,
          null,
          null,
          0.2916666666666667,
          0.30476190476190473,
          0.3
         ],
         "yaxis": "y"
        },
        {
         "alignmentgroup": "True",
         "hovertemplate": "ticker=PDD<br>Date=%{x}<br>Subjectivity=%{y}<extra></extra>",
         "legendgroup": "PDD",
         "marker": {
          "color": "rgb(248, 160, 126)"
         },
         "name": "PDD",
         "offsetgroup": "PDD",
         "orientation": "v",
         "showlegend": true,
         "textposition": "auto",
         "type": "bar",
         "x": [
          "2020-11-02T00:00:00",
          "2020-11-03T00:00:00",
          "2020-11-04T00:00:00",
          "2020-11-05T00:00:00",
          "2020-11-06T00:00:00",
          "2020-11-08T00:00:00",
          "2020-11-09T00:00:00",
          "2020-11-10T00:00:00",
          "2020-11-11T00:00:00",
          "2020-11-12T00:00:00",
          "2020-11-13T00:00:00",
          "2020-11-14T00:00:00",
          "2020-11-15T00:00:00"
         ],
         "xaxis": "x",
         "y": [
          1,
          1,
          null,
          null,
          null,
          null,
          null,
          null,
          0.3333333333333333,
          0.575,
          0.4430426055426055,
          0.3396464646464647,
          0.05
         ],
         "yaxis": "y"
        },
        {
         "alignmentgroup": "True",
         "hovertemplate": "ticker=PEP<br>Date=%{x}<br>Subjectivity=%{y}<extra></extra>",
         "legendgroup": "PEP",
         "marker": {
          "color": "rgb(235, 127, 134)"
         },
         "name": "PEP",
         "offsetgroup": "PEP",
         "orientation": "v",
         "showlegend": true,
         "textposition": "auto",
         "type": "bar",
         "x": [
          "2020-11-02T00:00:00",
          "2020-11-03T00:00:00",
          "2020-11-04T00:00:00",
          "2020-11-05T00:00:00",
          "2020-11-06T00:00:00",
          "2020-11-08T00:00:00",
          "2020-11-09T00:00:00",
          "2020-11-10T00:00:00",
          "2020-11-11T00:00:00",
          "2020-11-12T00:00:00",
          "2020-11-13T00:00:00",
          "2020-11-14T00:00:00",
          "2020-11-15T00:00:00"
         ],
         "xaxis": "x",
         "y": [
          null,
          null,
          0.45454545454545453,
          null,
          null,
          null,
          0.44242424242424244,
          null,
          null,
          0.47833333333333333,
          0.46707702020202024,
          0.48961038961038966,
          0.06666666666666667
         ],
         "yaxis": "y"
        },
        {
         "alignmentgroup": "True",
         "hovertemplate": "ticker=PFE<br>Date=%{x}<br>Subjectivity=%{y}<extra></extra>",
         "legendgroup": "PFE",
         "marker": {
          "color": "rgb(206, 102, 147)"
         },
         "name": "PFE",
         "offsetgroup": "PFE",
         "orientation": "v",
         "showlegend": true,
         "textposition": "auto",
         "type": "bar",
         "x": [
          "2020-11-02T00:00:00",
          "2020-11-03T00:00:00",
          "2020-11-04T00:00:00",
          "2020-11-05T00:00:00",
          "2020-11-06T00:00:00",
          "2020-11-08T00:00:00",
          "2020-11-09T00:00:00",
          "2020-11-10T00:00:00",
          "2020-11-11T00:00:00",
          "2020-11-12T00:00:00",
          "2020-11-13T00:00:00",
          "2020-11-14T00:00:00",
          "2020-11-15T00:00:00"
         ],
         "xaxis": "x",
         "y": [
          null,
          null,
          null,
          null,
          null,
          null,
          null,
          0.65,
          0.7272727272727273,
          0.7057575757575758,
          null,
          null,
          0.8452380952380951
         ],
         "yaxis": "y"
        },
        {
         "alignmentgroup": "True",
         "hovertemplate": "ticker=PG<br>Date=%{x}<br>Subjectivity=%{y}<extra></extra>",
         "legendgroup": "PG",
         "marker": {
          "color": "rgb(160, 89, 160)"
         },
         "name": "PG",
         "offsetgroup": "PG",
         "orientation": "v",
         "showlegend": true,
         "textposition": "auto",
         "type": "bar",
         "x": [
          "2020-11-02T00:00:00",
          "2020-11-03T00:00:00",
          "2020-11-04T00:00:00",
          "2020-11-05T00:00:00",
          "2020-11-06T00:00:00",
          "2020-11-08T00:00:00",
          "2020-11-09T00:00:00",
          "2020-11-10T00:00:00",
          "2020-11-11T00:00:00",
          "2020-11-12T00:00:00",
          "2020-11-13T00:00:00",
          "2020-11-14T00:00:00",
          "2020-11-15T00:00:00"
         ],
         "xaxis": "x",
         "y": [
          null,
          null,
          null,
          null,
          0.6005952380952381,
          null,
          0.7037037037037037,
          0.396969696969697,
          null,
          null,
          0.3555555555555555,
          0.7,
          0.55
         ],
         "yaxis": "y"
        },
        {
         "alignmentgroup": "True",
         "hovertemplate": "ticker=PYPL<br>Date=%{x}<br>Subjectivity=%{y}<extra></extra>",
         "legendgroup": "PYPL",
         "marker": {
          "color": "rgb(92, 83, 165)"
         },
         "name": "PYPL",
         "offsetgroup": "PYPL",
         "orientation": "v",
         "showlegend": true,
         "textposition": "auto",
         "type": "bar",
         "x": [
          "2020-11-02T00:00:00",
          "2020-11-03T00:00:00",
          "2020-11-04T00:00:00",
          "2020-11-05T00:00:00",
          "2020-11-06T00:00:00",
          "2020-11-08T00:00:00",
          "2020-11-09T00:00:00",
          "2020-11-10T00:00:00",
          "2020-11-11T00:00:00",
          "2020-11-12T00:00:00",
          "2020-11-13T00:00:00",
          "2020-11-14T00:00:00",
          "2020-11-15T00:00:00"
         ],
         "xaxis": "x",
         "y": [
          null,
          null,
          null,
          null,
          null,
          null,
          null,
          0.5,
          null,
          null,
          null,
          null,
          0.4561511111111112
         ],
         "yaxis": "y"
        },
        {
         "alignmentgroup": "True",
         "hovertemplate": "ticker=T<br>Date=%{x}<br>Subjectivity=%{y}<extra></extra>",
         "legendgroup": "T",
         "marker": {
          "color": "rgb(243, 231, 155)"
         },
         "name": "T",
         "offsetgroup": "T",
         "orientation": "v",
         "showlegend": true,
         "textposition": "auto",
         "type": "bar",
         "x": [
          "2020-11-02T00:00:00",
          "2020-11-03T00:00:00",
          "2020-11-04T00:00:00",
          "2020-11-05T00:00:00",
          "2020-11-06T00:00:00",
          "2020-11-08T00:00:00",
          "2020-11-09T00:00:00",
          "2020-11-10T00:00:00",
          "2020-11-11T00:00:00",
          "2020-11-12T00:00:00",
          "2020-11-13T00:00:00",
          "2020-11-14T00:00:00",
          "2020-11-15T00:00:00"
         ],
         "xaxis": "x",
         "y": [
          null,
          null,
          null,
          null,
          null,
          null,
          null,
          0.05,
          null,
          0.4022727272727272,
          0.8,
          null,
          0.5400203962703962
         ],
         "yaxis": "y"
        },
        {
         "alignmentgroup": "True",
         "hovertemplate": "ticker=TM<br>Date=%{x}<br>Subjectivity=%{y}<extra></extra>",
         "legendgroup": "TM",
         "marker": {
          "color": "rgb(250, 196, 132)"
         },
         "name": "TM",
         "offsetgroup": "TM",
         "orientation": "v",
         "showlegend": true,
         "textposition": "auto",
         "type": "bar",
         "x": [
          "2020-11-02T00:00:00",
          "2020-11-03T00:00:00",
          "2020-11-04T00:00:00",
          "2020-11-05T00:00:00",
          "2020-11-06T00:00:00",
          "2020-11-08T00:00:00",
          "2020-11-09T00:00:00",
          "2020-11-10T00:00:00",
          "2020-11-11T00:00:00",
          "2020-11-12T00:00:00",
          "2020-11-13T00:00:00",
          "2020-11-14T00:00:00",
          "2020-11-15T00:00:00"
         ],
         "xaxis": "x",
         "y": [
          null,
          null,
          null,
          0.1,
          null,
          null,
          0.8500000000000001,
          0.8166666666666667,
          0.6666666666666666,
          0.1,
          0.6976190476190476,
          0.7916666666666667,
          0.44866161616161615
         ],
         "yaxis": "y"
        },
        {
         "alignmentgroup": "True",
         "hovertemplate": "ticker=TMO<br>Date=%{x}<br>Subjectivity=%{y}<extra></extra>",
         "legendgroup": "TMO",
         "marker": {
          "color": "rgb(248, 160, 126)"
         },
         "name": "TMO",
         "offsetgroup": "TMO",
         "orientation": "v",
         "showlegend": true,
         "textposition": "auto",
         "type": "bar",
         "x": [
          "2020-11-02T00:00:00",
          "2020-11-03T00:00:00",
          "2020-11-04T00:00:00",
          "2020-11-05T00:00:00",
          "2020-11-06T00:00:00",
          "2020-11-08T00:00:00",
          "2020-11-09T00:00:00",
          "2020-11-10T00:00:00",
          "2020-11-11T00:00:00",
          "2020-11-12T00:00:00",
          "2020-11-13T00:00:00",
          "2020-11-14T00:00:00",
          "2020-11-15T00:00:00"
         ],
         "xaxis": "x",
         "y": [
          0.6666666666666666,
          null,
          null,
          null,
          null,
          null,
          null,
          null,
          0.49166666666666664,
          null,
          0.5422222222222223,
          null,
          0.42857142857142855
         ],
         "yaxis": "y"
        },
        {
         "alignmentgroup": "True",
         "hovertemplate": "ticker=TMUS<br>Date=%{x}<br>Subjectivity=%{y}<extra></extra>",
         "legendgroup": "TMUS",
         "marker": {
          "color": "rgb(235, 127, 134)"
         },
         "name": "TMUS",
         "offsetgroup": "TMUS",
         "orientation": "v",
         "showlegend": true,
         "textposition": "auto",
         "type": "bar",
         "x": [
          "2020-11-02T00:00:00",
          "2020-11-03T00:00:00",
          "2020-11-04T00:00:00",
          "2020-11-05T00:00:00",
          "2020-11-06T00:00:00",
          "2020-11-08T00:00:00",
          "2020-11-09T00:00:00",
          "2020-11-10T00:00:00",
          "2020-11-11T00:00:00",
          "2020-11-12T00:00:00",
          "2020-11-13T00:00:00",
          "2020-11-14T00:00:00",
          "2020-11-15T00:00:00"
         ],
         "xaxis": "x",
         "y": [
          null,
          null,
          null,
          null,
          null,
          null,
          null,
          null,
          null,
          0.20707070707070707,
          0.4858964646464646,
          0.3262121212121213,
          0.4362934904601571
         ],
         "yaxis": "y"
        },
        {
         "alignmentgroup": "True",
         "hovertemplate": "ticker=TSLA<br>Date=%{x}<br>Subjectivity=%{y}<extra></extra>",
         "legendgroup": "TSLA",
         "marker": {
          "color": "rgb(206, 102, 147)"
         },
         "name": "TSLA",
         "offsetgroup": "TSLA",
         "orientation": "v",
         "showlegend": true,
         "textposition": "auto",
         "type": "bar",
         "x": [
          "2020-11-02T00:00:00",
          "2020-11-03T00:00:00",
          "2020-11-04T00:00:00",
          "2020-11-05T00:00:00",
          "2020-11-06T00:00:00",
          "2020-11-08T00:00:00",
          "2020-11-09T00:00:00",
          "2020-11-10T00:00:00",
          "2020-11-11T00:00:00",
          "2020-11-12T00:00:00",
          "2020-11-13T00:00:00",
          "2020-11-14T00:00:00",
          "2020-11-15T00:00:00"
         ],
         "xaxis": "x",
         "y": [
          null,
          null,
          null,
          null,
          null,
          null,
          null,
          null,
          null,
          null,
          null,
          null,
          0.5142830086580087
         ],
         "yaxis": "y"
        },
        {
         "alignmentgroup": "True",
         "hovertemplate": "ticker=TSM<br>Date=%{x}<br>Subjectivity=%{y}<extra></extra>",
         "legendgroup": "TSM",
         "marker": {
          "color": "rgb(160, 89, 160)"
         },
         "name": "TSM",
         "offsetgroup": "TSM",
         "orientation": "v",
         "showlegend": true,
         "textposition": "auto",
         "type": "bar",
         "x": [
          "2020-11-02T00:00:00",
          "2020-11-03T00:00:00",
          "2020-11-04T00:00:00",
          "2020-11-05T00:00:00",
          "2020-11-06T00:00:00",
          "2020-11-08T00:00:00",
          "2020-11-09T00:00:00",
          "2020-11-10T00:00:00",
          "2020-11-11T00:00:00",
          "2020-11-12T00:00:00",
          "2020-11-13T00:00:00",
          "2020-11-14T00:00:00",
          "2020-11-15T00:00:00"
         ],
         "xaxis": "x",
         "y": [
          null,
          null,
          null,
          null,
          null,
          null,
          null,
          0.3194444444444444,
          0.42797619047619045,
          0.45820707070707073,
          0.5909090909090909,
          0.37142857142857144,
          0.2681349206349206
         ],
         "yaxis": "y"
        },
        {
         "alignmentgroup": "True",
         "hovertemplate": "ticker=UN<br>Date=%{x}<br>Subjectivity=%{y}<extra></extra>",
         "legendgroup": "UN",
         "marker": {
          "color": "rgb(92, 83, 165)"
         },
         "name": "UN",
         "offsetgroup": "UN",
         "orientation": "v",
         "showlegend": true,
         "textposition": "auto",
         "type": "bar",
         "x": [
          "2020-11-02T00:00:00",
          "2020-11-03T00:00:00",
          "2020-11-04T00:00:00",
          "2020-11-05T00:00:00",
          "2020-11-06T00:00:00",
          "2020-11-08T00:00:00",
          "2020-11-09T00:00:00",
          "2020-11-10T00:00:00",
          "2020-11-11T00:00:00",
          "2020-11-12T00:00:00",
          "2020-11-13T00:00:00",
          "2020-11-14T00:00:00",
          "2020-11-15T00:00:00"
         ],
         "xaxis": "x",
         "y": [
          null,
          null,
          null,
          0.5,
          null,
          null,
          null,
          0.35,
          null,
          null,
          0.6666666666666667,
          0.7999999999999999,
          0.36666666666666664
         ],
         "yaxis": "y"
        },
        {
         "alignmentgroup": "True",
         "hovertemplate": "ticker=UNH<br>Date=%{x}<br>Subjectivity=%{y}<extra></extra>",
         "legendgroup": "UNH",
         "marker": {
          "color": "rgb(243, 231, 155)"
         },
         "name": "UNH",
         "offsetgroup": "UNH",
         "orientation": "v",
         "showlegend": true,
         "textposition": "auto",
         "type": "bar",
         "x": [
          "2020-11-02T00:00:00",
          "2020-11-03T00:00:00",
          "2020-11-04T00:00:00",
          "2020-11-05T00:00:00",
          "2020-11-06T00:00:00",
          "2020-11-08T00:00:00",
          "2020-11-09T00:00:00",
          "2020-11-10T00:00:00",
          "2020-11-11T00:00:00",
          "2020-11-12T00:00:00",
          "2020-11-13T00:00:00",
          "2020-11-14T00:00:00",
          "2020-11-15T00:00:00"
         ],
         "xaxis": "x",
         "y": [
          null,
          null,
          null,
          null,
          null,
          null,
          null,
          0.35,
          null,
          0.5416666666666666,
          0.30303030303030304,
          0.5,
          0.4186135161135161
         ],
         "yaxis": "y"
        },
        {
         "alignmentgroup": "True",
         "hovertemplate": "ticker=VZ<br>Date=%{x}<br>Subjectivity=%{y}<extra></extra>",
         "legendgroup": "VZ",
         "marker": {
          "color": "rgb(250, 196, 132)"
         },
         "name": "VZ",
         "offsetgroup": "VZ",
         "orientation": "v",
         "showlegend": true,
         "textposition": "auto",
         "type": "bar",
         "x": [
          "2020-11-02T00:00:00",
          "2020-11-03T00:00:00",
          "2020-11-04T00:00:00",
          "2020-11-05T00:00:00",
          "2020-11-06T00:00:00",
          "2020-11-08T00:00:00",
          "2020-11-09T00:00:00",
          "2020-11-10T00:00:00",
          "2020-11-11T00:00:00",
          "2020-11-12T00:00:00",
          "2020-11-13T00:00:00",
          "2020-11-14T00:00:00",
          "2020-11-15T00:00:00"
         ],
         "xaxis": "x",
         "y": [
          0.2857142857142857,
          null,
          null,
          null,
          null,
          null,
          0.4444444444444444,
          0.3547619047619048,
          0.625,
          null,
          0.5418831168831169,
          0.38125,
          0.40100118835412946
         ],
         "yaxis": "y"
        },
        {
         "alignmentgroup": "True",
         "hovertemplate": "ticker=WMT<br>Date=%{x}<br>Subjectivity=%{y}<extra></extra>",
         "legendgroup": "WMT",
         "marker": {
          "color": "rgb(248, 160, 126)"
         },
         "name": "WMT",
         "offsetgroup": "WMT",
         "orientation": "v",
         "showlegend": true,
         "textposition": "auto",
         "type": "bar",
         "x": [
          "2020-11-02T00:00:00",
          "2020-11-03T00:00:00",
          "2020-11-04T00:00:00",
          "2020-11-05T00:00:00",
          "2020-11-06T00:00:00",
          "2020-11-08T00:00:00",
          "2020-11-09T00:00:00",
          "2020-11-10T00:00:00",
          "2020-11-11T00:00:00",
          "2020-11-12T00:00:00",
          "2020-11-13T00:00:00",
          "2020-11-14T00:00:00",
          "2020-11-15T00:00:00"
         ],
         "xaxis": "x",
         "y": [
          null,
          null,
          null,
          null,
          null,
          null,
          1,
          null,
          null,
          null,
          0.25,
          0.4552083333333333,
          0.3412037037037037
         ],
         "yaxis": "y"
        }
       ],
       "layout": {
        "barmode": "relative",
        "legend": {
         "title": {
          "text": "ticker"
         },
         "tracegroupgap": 0
        },
        "template": {
         "data": {
          "bar": [
           {
            "error_x": {
             "color": "#f2f5fa"
            },
            "error_y": {
             "color": "#f2f5fa"
            },
            "marker": {
             "line": {
              "color": "rgb(17,17,17)",
              "width": 0.5
             }
            },
            "type": "bar"
           }
          ],
          "barpolar": [
           {
            "marker": {
             "line": {
              "color": "rgb(17,17,17)",
              "width": 0.5
             }
            },
            "type": "barpolar"
           }
          ],
          "carpet": [
           {
            "aaxis": {
             "endlinecolor": "#A2B1C6",
             "gridcolor": "#506784",
             "linecolor": "#506784",
             "minorgridcolor": "#506784",
             "startlinecolor": "#A2B1C6"
            },
            "baxis": {
             "endlinecolor": "#A2B1C6",
             "gridcolor": "#506784",
             "linecolor": "#506784",
             "minorgridcolor": "#506784",
             "startlinecolor": "#A2B1C6"
            },
            "type": "carpet"
           }
          ],
          "choropleth": [
           {
            "colorbar": {
             "outlinewidth": 0,
             "ticks": ""
            },
            "type": "choropleth"
           }
          ],
          "contour": [
           {
            "colorbar": {
             "outlinewidth": 0,
             "ticks": ""
            },
            "colorscale": [
             [
              0,
              "#0d0887"
             ],
             [
              0.1111111111111111,
              "#46039f"
             ],
             [
              0.2222222222222222,
              "#7201a8"
             ],
             [
              0.3333333333333333,
              "#9c179e"
             ],
             [
              0.4444444444444444,
              "#bd3786"
             ],
             [
              0.5555555555555556,
              "#d8576b"
             ],
             [
              0.6666666666666666,
              "#ed7953"
             ],
             [
              0.7777777777777778,
              "#fb9f3a"
             ],
             [
              0.8888888888888888,
              "#fdca26"
             ],
             [
              1,
              "#f0f921"
             ]
            ],
            "type": "contour"
           }
          ],
          "contourcarpet": [
           {
            "colorbar": {
             "outlinewidth": 0,
             "ticks": ""
            },
            "type": "contourcarpet"
           }
          ],
          "heatmap": [
           {
            "colorbar": {
             "outlinewidth": 0,
             "ticks": ""
            },
            "colorscale": [
             [
              0,
              "#0d0887"
             ],
             [
              0.1111111111111111,
              "#46039f"
             ],
             [
              0.2222222222222222,
              "#7201a8"
             ],
             [
              0.3333333333333333,
              "#9c179e"
             ],
             [
              0.4444444444444444,
              "#bd3786"
             ],
             [
              0.5555555555555556,
              "#d8576b"
             ],
             [
              0.6666666666666666,
              "#ed7953"
             ],
             [
              0.7777777777777778,
              "#fb9f3a"
             ],
             [
              0.8888888888888888,
              "#fdca26"
             ],
             [
              1,
              "#f0f921"
             ]
            ],
            "type": "heatmap"
           }
          ],
          "heatmapgl": [
           {
            "colorbar": {
             "outlinewidth": 0,
             "ticks": ""
            },
            "colorscale": [
             [
              0,
              "#0d0887"
             ],
             [
              0.1111111111111111,
              "#46039f"
             ],
             [
              0.2222222222222222,
              "#7201a8"
             ],
             [
              0.3333333333333333,
              "#9c179e"
             ],
             [
              0.4444444444444444,
              "#bd3786"
             ],
             [
              0.5555555555555556,
              "#d8576b"
             ],
             [
              0.6666666666666666,
              "#ed7953"
             ],
             [
              0.7777777777777778,
              "#fb9f3a"
             ],
             [
              0.8888888888888888,
              "#fdca26"
             ],
             [
              1,
              "#f0f921"
             ]
            ],
            "type": "heatmapgl"
           }
          ],
          "histogram": [
           {
            "marker": {
             "colorbar": {
              "outlinewidth": 0,
              "ticks": ""
             }
            },
            "type": "histogram"
           }
          ],
          "histogram2d": [
           {
            "colorbar": {
             "outlinewidth": 0,
             "ticks": ""
            },
            "colorscale": [
             [
              0,
              "#0d0887"
             ],
             [
              0.1111111111111111,
              "#46039f"
             ],
             [
              0.2222222222222222,
              "#7201a8"
             ],
             [
              0.3333333333333333,
              "#9c179e"
             ],
             [
              0.4444444444444444,
              "#bd3786"
             ],
             [
              0.5555555555555556,
              "#d8576b"
             ],
             [
              0.6666666666666666,
              "#ed7953"
             ],
             [
              0.7777777777777778,
              "#fb9f3a"
             ],
             [
              0.8888888888888888,
              "#fdca26"
             ],
             [
              1,
              "#f0f921"
             ]
            ],
            "type": "histogram2d"
           }
          ],
          "histogram2dcontour": [
           {
            "colorbar": {
             "outlinewidth": 0,
             "ticks": ""
            },
            "colorscale": [
             [
              0,
              "#0d0887"
             ],
             [
              0.1111111111111111,
              "#46039f"
             ],
             [
              0.2222222222222222,
              "#7201a8"
             ],
             [
              0.3333333333333333,
              "#9c179e"
             ],
             [
              0.4444444444444444,
              "#bd3786"
             ],
             [
              0.5555555555555556,
              "#d8576b"
             ],
             [
              0.6666666666666666,
              "#ed7953"
             ],
             [
              0.7777777777777778,
              "#fb9f3a"
             ],
             [
              0.8888888888888888,
              "#fdca26"
             ],
             [
              1,
              "#f0f921"
             ]
            ],
            "type": "histogram2dcontour"
           }
          ],
          "mesh3d": [
           {
            "colorbar": {
             "outlinewidth": 0,
             "ticks": ""
            },
            "type": "mesh3d"
           }
          ],
          "parcoords": [
           {
            "line": {
             "colorbar": {
              "outlinewidth": 0,
              "ticks": ""
             }
            },
            "type": "parcoords"
           }
          ],
          "pie": [
           {
            "automargin": true,
            "type": "pie"
           }
          ],
          "scatter": [
           {
            "marker": {
             "line": {
              "color": "#283442"
             }
            },
            "type": "scatter"
           }
          ],
          "scatter3d": [
           {
            "line": {
             "colorbar": {
              "outlinewidth": 0,
              "ticks": ""
             }
            },
            "marker": {
             "colorbar": {
              "outlinewidth": 0,
              "ticks": ""
             }
            },
            "type": "scatter3d"
           }
          ],
          "scattercarpet": [
           {
            "marker": {
             "colorbar": {
              "outlinewidth": 0,
              "ticks": ""
             }
            },
            "type": "scattercarpet"
           }
          ],
          "scattergeo": [
           {
            "marker": {
             "colorbar": {
              "outlinewidth": 0,
              "ticks": ""
             }
            },
            "type": "scattergeo"
           }
          ],
          "scattergl": [
           {
            "marker": {
             "line": {
              "color": "#283442"
             }
            },
            "type": "scattergl"
           }
          ],
          "scattermapbox": [
           {
            "marker": {
             "colorbar": {
              "outlinewidth": 0,
              "ticks": ""
             }
            },
            "type": "scattermapbox"
           }
          ],
          "scatterpolar": [
           {
            "marker": {
             "colorbar": {
              "outlinewidth": 0,
              "ticks": ""
             }
            },
            "type": "scatterpolar"
           }
          ],
          "scatterpolargl": [
           {
            "marker": {
             "colorbar": {
              "outlinewidth": 0,
              "ticks": ""
             }
            },
            "type": "scatterpolargl"
           }
          ],
          "scatterternary": [
           {
            "marker": {
             "colorbar": {
              "outlinewidth": 0,
              "ticks": ""
             }
            },
            "type": "scatterternary"
           }
          ],
          "surface": [
           {
            "colorbar": {
             "outlinewidth": 0,
             "ticks": ""
            },
            "colorscale": [
             [
              0,
              "#0d0887"
             ],
             [
              0.1111111111111111,
              "#46039f"
             ],
             [
              0.2222222222222222,
              "#7201a8"
             ],
             [
              0.3333333333333333,
              "#9c179e"
             ],
             [
              0.4444444444444444,
              "#bd3786"
             ],
             [
              0.5555555555555556,
              "#d8576b"
             ],
             [
              0.6666666666666666,
              "#ed7953"
             ],
             [
              0.7777777777777778,
              "#fb9f3a"
             ],
             [
              0.8888888888888888,
              "#fdca26"
             ],
             [
              1,
              "#f0f921"
             ]
            ],
            "type": "surface"
           }
          ],
          "table": [
           {
            "cells": {
             "fill": {
              "color": "#506784"
             },
             "line": {
              "color": "rgb(17,17,17)"
             }
            },
            "header": {
             "fill": {
              "color": "#2a3f5f"
             },
             "line": {
              "color": "rgb(17,17,17)"
             }
            },
            "type": "table"
           }
          ]
         },
         "layout": {
          "annotationdefaults": {
           "arrowcolor": "#f2f5fa",
           "arrowhead": 0,
           "arrowwidth": 1
          },
          "coloraxis": {
           "colorbar": {
            "outlinewidth": 0,
            "ticks": ""
           }
          },
          "colorscale": {
           "diverging": [
            [
             0,
             "#8e0152"
            ],
            [
             0.1,
             "#c51b7d"
            ],
            [
             0.2,
             "#de77ae"
            ],
            [
             0.3,
             "#f1b6da"
            ],
            [
             0.4,
             "#fde0ef"
            ],
            [
             0.5,
             "#f7f7f7"
            ],
            [
             0.6,
             "#e6f5d0"
            ],
            [
             0.7,
             "#b8e186"
            ],
            [
             0.8,
             "#7fbc41"
            ],
            [
             0.9,
             "#4d9221"
            ],
            [
             1,
             "#276419"
            ]
           ],
           "sequential": [
            [
             0,
             "#0d0887"
            ],
            [
             0.1111111111111111,
             "#46039f"
            ],
            [
             0.2222222222222222,
             "#7201a8"
            ],
            [
             0.3333333333333333,
             "#9c179e"
            ],
            [
             0.4444444444444444,
             "#bd3786"
            ],
            [
             0.5555555555555556,
             "#d8576b"
            ],
            [
             0.6666666666666666,
             "#ed7953"
            ],
            [
             0.7777777777777778,
             "#fb9f3a"
            ],
            [
             0.8888888888888888,
             "#fdca26"
            ],
            [
             1,
             "#f0f921"
            ]
           ],
           "sequentialminus": [
            [
             0,
             "#0d0887"
            ],
            [
             0.1111111111111111,
             "#46039f"
            ],
            [
             0.2222222222222222,
             "#7201a8"
            ],
            [
             0.3333333333333333,
             "#9c179e"
            ],
            [
             0.4444444444444444,
             "#bd3786"
            ],
            [
             0.5555555555555556,
             "#d8576b"
            ],
            [
             0.6666666666666666,
             "#ed7953"
            ],
            [
             0.7777777777777778,
             "#fb9f3a"
            ],
            [
             0.8888888888888888,
             "#fdca26"
            ],
            [
             1,
             "#f0f921"
            ]
           ]
          },
          "colorway": [
           "#636efa",
           "#EF553B",
           "#00cc96",
           "#ab63fa",
           "#FFA15A",
           "#19d3f3",
           "#FF6692",
           "#B6E880",
           "#FF97FF",
           "#FECB52"
          ],
          "font": {
           "color": "#f2f5fa"
          },
          "geo": {
           "bgcolor": "rgb(17,17,17)",
           "lakecolor": "rgb(17,17,17)",
           "landcolor": "rgb(17,17,17)",
           "showlakes": true,
           "showland": true,
           "subunitcolor": "#506784"
          },
          "hoverlabel": {
           "align": "left"
          },
          "hovermode": "closest",
          "mapbox": {
           "style": "dark"
          },
          "paper_bgcolor": "rgb(17,17,17)",
          "plot_bgcolor": "rgb(17,17,17)",
          "polar": {
           "angularaxis": {
            "gridcolor": "#506784",
            "linecolor": "#506784",
            "ticks": ""
           },
           "bgcolor": "rgb(17,17,17)",
           "radialaxis": {
            "gridcolor": "#506784",
            "linecolor": "#506784",
            "ticks": ""
           }
          },
          "scene": {
           "xaxis": {
            "backgroundcolor": "rgb(17,17,17)",
            "gridcolor": "#506784",
            "gridwidth": 2,
            "linecolor": "#506784",
            "showbackground": true,
            "ticks": "",
            "zerolinecolor": "#C8D4E3"
           },
           "yaxis": {
            "backgroundcolor": "rgb(17,17,17)",
            "gridcolor": "#506784",
            "gridwidth": 2,
            "linecolor": "#506784",
            "showbackground": true,
            "ticks": "",
            "zerolinecolor": "#C8D4E3"
           },
           "zaxis": {
            "backgroundcolor": "rgb(17,17,17)",
            "gridcolor": "#506784",
            "gridwidth": 2,
            "linecolor": "#506784",
            "showbackground": true,
            "ticks": "",
            "zerolinecolor": "#C8D4E3"
           }
          },
          "shapedefaults": {
           "line": {
            "color": "#f2f5fa"
           }
          },
          "sliderdefaults": {
           "bgcolor": "#C8D4E3",
           "bordercolor": "rgb(17,17,17)",
           "borderwidth": 1,
           "tickwidth": 0
          },
          "ternary": {
           "aaxis": {
            "gridcolor": "#506784",
            "linecolor": "#506784",
            "ticks": ""
           },
           "baxis": {
            "gridcolor": "#506784",
            "linecolor": "#506784",
            "ticks": ""
           },
           "bgcolor": "rgb(17,17,17)",
           "caxis": {
            "gridcolor": "#506784",
            "linecolor": "#506784",
            "ticks": ""
           }
          },
          "title": {
           "x": 0.05
          },
          "updatemenudefaults": {
           "bgcolor": "#506784",
           "borderwidth": 0
          },
          "xaxis": {
           "automargin": true,
           "gridcolor": "#283442",
           "linecolor": "#506784",
           "ticks": "",
           "title": {
            "standoff": 15
           },
           "zerolinecolor": "#283442",
           "zerolinewidth": 2
          },
          "yaxis": {
           "automargin": true,
           "gridcolor": "#283442",
           "linecolor": "#506784",
           "ticks": "",
           "title": {
            "standoff": 15
           },
           "zerolinecolor": "#283442",
           "zerolinewidth": 2
          }
         }
        },
        "title": {
         "text": "Average Polarity of Stock Headlines"
        },
        "xaxis": {
         "anchor": "y",
         "domain": [
          0,
          1
         ],
         "title": {
          "text": "Date"
         }
        },
        "yaxis": {
         "anchor": "x",
         "domain": [
          0,
          1
         ],
         "title": {
          "text": "Subjectivity"
         }
        }
       }
      },
      "text/html": [
       "<div>                            <div id=\"28449b6e-74a9-4686-915f-a4d692e71560\" class=\"plotly-graph-div\" style=\"height:525px; width:100%;\"></div>            <script type=\"text/javascript\">                require([\"plotly\"], function(Plotly) {                    window.PLOTLYENV=window.PLOTLYENV || {};                                    if (document.getElementById(\"28449b6e-74a9-4686-915f-a4d692e71560\")) {                    Plotly.newPlot(                        \"28449b6e-74a9-4686-915f-a4d692e71560\",                        [{\"alignmentgroup\": \"True\", \"hovertemplate\": \"ticker=AAPL<br>Date=%{x}<br>Subjectivity=%{y}<extra></extra>\", \"legendgroup\": \"AAPL\", \"marker\": {\"color\": \"rgb(243, 231, 155)\"}, \"name\": \"AAPL\", \"offsetgroup\": \"AAPL\", \"orientation\": \"v\", \"showlegend\": true, \"textposition\": \"auto\", \"type\": \"bar\", \"x\": [\"2020-11-02T00:00:00\", \"2020-11-03T00:00:00\", \"2020-11-04T00:00:00\", \"2020-11-05T00:00:00\", \"2020-11-06T00:00:00\", \"2020-11-08T00:00:00\", \"2020-11-09T00:00:00\", \"2020-11-10T00:00:00\", \"2020-11-11T00:00:00\", \"2020-11-12T00:00:00\", \"2020-11-13T00:00:00\", \"2020-11-14T00:00:00\", \"2020-11-15T00:00:00\"], \"xaxis\": \"x\", \"y\": [null, null, null, null, null, null, null, 0.5399999999999999, null, 0.7178571428571429, null, null, 0.48027898027898025], \"yaxis\": \"y\"}, {\"alignmentgroup\": \"True\", \"hovertemplate\": \"ticker=ABBV<br>Date=%{x}<br>Subjectivity=%{y}<extra></extra>\", \"legendgroup\": \"ABBV\", \"marker\": {\"color\": \"rgb(250, 196, 132)\"}, \"name\": \"ABBV\", \"offsetgroup\": \"ABBV\", \"orientation\": \"v\", \"showlegend\": true, \"textposition\": \"auto\", \"type\": \"bar\", \"x\": [\"2020-11-02T00:00:00\", \"2020-11-03T00:00:00\", \"2020-11-04T00:00:00\", \"2020-11-05T00:00:00\", \"2020-11-06T00:00:00\", \"2020-11-08T00:00:00\", \"2020-11-09T00:00:00\", \"2020-11-10T00:00:00\", \"2020-11-11T00:00:00\", \"2020-11-12T00:00:00\", \"2020-11-13T00:00:00\", \"2020-11-14T00:00:00\", \"2020-11-15T00:00:00\"], \"xaxis\": \"x\", \"y\": [1.0, null, null, 0.2, null, null, null, 0.3747685185185185, 0.16666666666666666, 0.3745454545454545, 0.45606060606060606, 0.5533333333333333, null], \"yaxis\": \"y\"}, {\"alignmentgroup\": \"True\", \"hovertemplate\": \"ticker=ABT<br>Date=%{x}<br>Subjectivity=%{y}<extra></extra>\", \"legendgroup\": \"ABT\", \"marker\": {\"color\": \"rgb(248, 160, 126)\"}, \"name\": \"ABT\", \"offsetgroup\": \"ABT\", \"orientation\": \"v\", \"showlegend\": true, \"textposition\": \"auto\", \"type\": \"bar\", \"x\": [\"2020-11-02T00:00:00\", \"2020-11-03T00:00:00\", \"2020-11-04T00:00:00\", \"2020-11-05T00:00:00\", \"2020-11-06T00:00:00\", \"2020-11-08T00:00:00\", \"2020-11-09T00:00:00\", \"2020-11-10T00:00:00\", \"2020-11-11T00:00:00\", \"2020-11-12T00:00:00\", \"2020-11-13T00:00:00\", \"2020-11-14T00:00:00\", \"2020-11-15T00:00:00\"], \"xaxis\": \"x\", \"y\": [null, null, null, null, null, 0.5924242424242424, 0.35, 0.41045454545454546, 0.2833333333333333, null, 0.5333333333333333, 0.5, 0.22727272727272727], \"yaxis\": \"y\"}, {\"alignmentgroup\": \"True\", \"hovertemplate\": \"ticker=ADBE<br>Date=%{x}<br>Subjectivity=%{y}<extra></extra>\", \"legendgroup\": \"ADBE\", \"marker\": {\"color\": \"rgb(235, 127, 134)\"}, \"name\": \"ADBE\", \"offsetgroup\": \"ADBE\", \"orientation\": \"v\", \"showlegend\": true, \"textposition\": \"auto\", \"type\": \"bar\", \"x\": [\"2020-11-02T00:00:00\", \"2020-11-03T00:00:00\", \"2020-11-04T00:00:00\", \"2020-11-05T00:00:00\", \"2020-11-06T00:00:00\", \"2020-11-08T00:00:00\", \"2020-11-09T00:00:00\", \"2020-11-10T00:00:00\", \"2020-11-11T00:00:00\", \"2020-11-12T00:00:00\", \"2020-11-13T00:00:00\", \"2020-11-14T00:00:00\", \"2020-11-15T00:00:00\"], \"xaxis\": \"x\", \"y\": [null, null, null, null, null, null, null, null, null, 0.345, 0.3833333333333333, 0.375, 0.2833333333333333], \"yaxis\": \"y\"}, {\"alignmentgroup\": \"True\", \"hovertemplate\": \"ticker=AMZN<br>Date=%{x}<br>Subjectivity=%{y}<extra></extra>\", \"legendgroup\": \"AMZN\", \"marker\": {\"color\": \"rgb(206, 102, 147)\"}, \"name\": \"AMZN\", \"offsetgroup\": \"AMZN\", \"orientation\": \"v\", \"showlegend\": true, \"textposition\": \"auto\", \"type\": \"bar\", \"x\": [\"2020-11-02T00:00:00\", \"2020-11-03T00:00:00\", \"2020-11-04T00:00:00\", \"2020-11-05T00:00:00\", \"2020-11-06T00:00:00\", \"2020-11-08T00:00:00\", \"2020-11-09T00:00:00\", \"2020-11-10T00:00:00\", \"2020-11-11T00:00:00\", \"2020-11-12T00:00:00\", \"2020-11-13T00:00:00\", \"2020-11-14T00:00:00\", \"2020-11-15T00:00:00\"], \"xaxis\": \"x\", \"y\": [null, null, null, null, null, null, null, 0.5, 1.0, 0.7660714285714285, null, null, 0.4863215488215487], \"yaxis\": \"y\"}, {\"alignmentgroup\": \"True\", \"hovertemplate\": \"ticker=ASML<br>Date=%{x}<br>Subjectivity=%{y}<extra></extra>\", \"legendgroup\": \"ASML\", \"marker\": {\"color\": \"rgb(160, 89, 160)\"}, \"name\": \"ASML\", \"offsetgroup\": \"ASML\", \"orientation\": \"v\", \"showlegend\": true, \"textposition\": \"auto\", \"type\": \"bar\", \"x\": [\"2020-11-02T00:00:00\", \"2020-11-03T00:00:00\", \"2020-11-04T00:00:00\", \"2020-11-05T00:00:00\", \"2020-11-06T00:00:00\", \"2020-11-08T00:00:00\", \"2020-11-09T00:00:00\", \"2020-11-10T00:00:00\", \"2020-11-11T00:00:00\", \"2020-11-12T00:00:00\", \"2020-11-13T00:00:00\", \"2020-11-14T00:00:00\", \"2020-11-15T00:00:00\"], \"xaxis\": \"x\", \"y\": [null, 0.25, null, null, 1.0, null, 0.44155844155844154, 0.22727272727272727, 0.9, 0.7272727272727273, 0.36818181818181817, null, 0.05], \"yaxis\": \"y\"}, {\"alignmentgroup\": \"True\", \"hovertemplate\": \"ticker=BABA<br>Date=%{x}<br>Subjectivity=%{y}<extra></extra>\", \"legendgroup\": \"BABA\", \"marker\": {\"color\": \"rgb(92, 83, 165)\"}, \"name\": \"BABA\", \"offsetgroup\": \"BABA\", \"orientation\": \"v\", \"showlegend\": true, \"textposition\": \"auto\", \"type\": \"bar\", \"x\": [\"2020-11-02T00:00:00\", \"2020-11-03T00:00:00\", \"2020-11-04T00:00:00\", \"2020-11-05T00:00:00\", \"2020-11-06T00:00:00\", \"2020-11-08T00:00:00\", \"2020-11-09T00:00:00\", \"2020-11-10T00:00:00\", \"2020-11-11T00:00:00\", \"2020-11-12T00:00:00\", \"2020-11-13T00:00:00\", \"2020-11-14T00:00:00\", \"2020-11-15T00:00:00\"], \"xaxis\": \"x\", \"y\": [null, null, null, null, null, null, null, 1.0, null, null, 0.42164502164502166, 0.41666666666666663, 0.38730158730158726], \"yaxis\": \"y\"}, {\"alignmentgroup\": \"True\", \"hovertemplate\": \"ticker=BAC<br>Date=%{x}<br>Subjectivity=%{y}<extra></extra>\", \"legendgroup\": \"BAC\", \"marker\": {\"color\": \"rgb(243, 231, 155)\"}, \"name\": \"BAC\", \"offsetgroup\": \"BAC\", \"orientation\": \"v\", \"showlegend\": true, \"textposition\": \"auto\", \"type\": \"bar\", \"x\": [\"2020-11-02T00:00:00\", \"2020-11-03T00:00:00\", \"2020-11-04T00:00:00\", \"2020-11-05T00:00:00\", \"2020-11-06T00:00:00\", \"2020-11-08T00:00:00\", \"2020-11-09T00:00:00\", \"2020-11-10T00:00:00\", \"2020-11-11T00:00:00\", \"2020-11-12T00:00:00\", \"2020-11-13T00:00:00\", \"2020-11-14T00:00:00\", \"2020-11-15T00:00:00\"], \"xaxis\": \"x\", \"y\": [null, null, null, null, null, null, null, null, null, null, null, null, 0.2634893578643578], \"yaxis\": \"y\"}, {\"alignmentgroup\": \"True\", \"hovertemplate\": \"ticker=CMCSA<br>Date=%{x}<br>Subjectivity=%{y}<extra></extra>\", \"legendgroup\": \"CMCSA\", \"marker\": {\"color\": \"rgb(250, 196, 132)\"}, \"name\": \"CMCSA\", \"offsetgroup\": \"CMCSA\", \"orientation\": \"v\", \"showlegend\": true, \"textposition\": \"auto\", \"type\": \"bar\", \"x\": [\"2020-11-02T00:00:00\", \"2020-11-03T00:00:00\", \"2020-11-04T00:00:00\", \"2020-11-05T00:00:00\", \"2020-11-06T00:00:00\", \"2020-11-08T00:00:00\", \"2020-11-09T00:00:00\", \"2020-11-10T00:00:00\", \"2020-11-11T00:00:00\", \"2020-11-12T00:00:00\", \"2020-11-13T00:00:00\", \"2020-11-14T00:00:00\", \"2020-11-15T00:00:00\"], \"xaxis\": \"x\", \"y\": [0.34761904761904766, null, null, null, null, null, null, null, null, null, null, 0.26666666666666666, 0.520550038197097], \"yaxis\": \"y\"}, {\"alignmentgroup\": \"True\", \"hovertemplate\": \"ticker=COST<br>Date=%{x}<br>Subjectivity=%{y}<extra></extra>\", \"legendgroup\": \"COST\", \"marker\": {\"color\": \"rgb(248, 160, 126)\"}, \"name\": \"COST\", \"offsetgroup\": \"COST\", \"orientation\": \"v\", \"showlegend\": true, \"textposition\": \"auto\", \"type\": \"bar\", \"x\": [\"2020-11-02T00:00:00\", \"2020-11-03T00:00:00\", \"2020-11-04T00:00:00\", \"2020-11-05T00:00:00\", \"2020-11-06T00:00:00\", \"2020-11-08T00:00:00\", \"2020-11-09T00:00:00\", \"2020-11-10T00:00:00\", \"2020-11-11T00:00:00\", \"2020-11-12T00:00:00\", \"2020-11-13T00:00:00\", \"2020-11-14T00:00:00\", \"2020-11-15T00:00:00\"], \"xaxis\": \"x\", \"y\": [null, null, null, null, null, null, null, null, null, 0.4772727272727273, 0.49756493506493504, null, 0.5277777777777778], \"yaxis\": \"y\"}, {\"alignmentgroup\": \"True\", \"hovertemplate\": \"ticker=CRM<br>Date=%{x}<br>Subjectivity=%{y}<extra></extra>\", \"legendgroup\": \"CRM\", \"marker\": {\"color\": \"rgb(235, 127, 134)\"}, \"name\": \"CRM\", \"offsetgroup\": \"CRM\", \"orientation\": \"v\", \"showlegend\": true, \"textposition\": \"auto\", \"type\": \"bar\", \"x\": [\"2020-11-02T00:00:00\", \"2020-11-03T00:00:00\", \"2020-11-04T00:00:00\", \"2020-11-05T00:00:00\", \"2020-11-06T00:00:00\", \"2020-11-08T00:00:00\", \"2020-11-09T00:00:00\", \"2020-11-10T00:00:00\", \"2020-11-11T00:00:00\", \"2020-11-12T00:00:00\", \"2020-11-13T00:00:00\", \"2020-11-14T00:00:00\", \"2020-11-15T00:00:00\"], \"xaxis\": \"x\", \"y\": [null, 0.8333333333333334, null, null, 0.3, null, 0.41875, null, null, null, null, 0.2727272727272727, 0.330952380952381], \"yaxis\": \"y\"}, {\"alignmentgroup\": \"True\", \"hovertemplate\": \"ticker=CSCO<br>Date=%{x}<br>Subjectivity=%{y}<extra></extra>\", \"legendgroup\": \"CSCO\", \"marker\": {\"color\": \"rgb(206, 102, 147)\"}, \"name\": \"CSCO\", \"offsetgroup\": \"CSCO\", \"orientation\": \"v\", \"showlegend\": true, \"textposition\": \"auto\", \"type\": \"bar\", \"x\": [\"2020-11-02T00:00:00\", \"2020-11-03T00:00:00\", \"2020-11-04T00:00:00\", \"2020-11-05T00:00:00\", \"2020-11-06T00:00:00\", \"2020-11-08T00:00:00\", \"2020-11-09T00:00:00\", \"2020-11-10T00:00:00\", \"2020-11-11T00:00:00\", \"2020-11-12T00:00:00\", \"2020-11-13T00:00:00\", \"2020-11-14T00:00:00\", \"2020-11-15T00:00:00\"], \"xaxis\": \"x\", \"y\": [null, 0.45454545454545453, null, null, 0.5083333333333333, null, 0.1, 0.3547619047619048, 0.8214285714285714, 0.45454545454545453, 0.4243939393939394, 0.45, 0.515530303030303], \"yaxis\": \"y\"}, {\"alignmentgroup\": \"True\", \"hovertemplate\": \"ticker=CVX<br>Date=%{x}<br>Subjectivity=%{y}<extra></extra>\", \"legendgroup\": \"CVX\", \"marker\": {\"color\": \"rgb(160, 89, 160)\"}, \"name\": \"CVX\", \"offsetgroup\": \"CVX\", \"orientation\": \"v\", \"showlegend\": true, \"textposition\": \"auto\", \"type\": \"bar\", \"x\": [\"2020-11-02T00:00:00\", \"2020-11-03T00:00:00\", \"2020-11-04T00:00:00\", \"2020-11-05T00:00:00\", \"2020-11-06T00:00:00\", \"2020-11-08T00:00:00\", \"2020-11-09T00:00:00\", \"2020-11-10T00:00:00\", \"2020-11-11T00:00:00\", \"2020-11-12T00:00:00\", \"2020-11-13T00:00:00\", \"2020-11-14T00:00:00\", \"2020-11-15T00:00:00\"], \"xaxis\": \"x\", \"y\": [null, null, null, null, null, null, null, 0.55, null, null, 0.25, 0.5325892857142858, 0.4693301435406699], \"yaxis\": \"y\"}, {\"alignmentgroup\": \"True\", \"hovertemplate\": \"ticker=DHR<br>Date=%{x}<br>Subjectivity=%{y}<extra></extra>\", \"legendgroup\": \"DHR\", \"marker\": {\"color\": \"rgb(92, 83, 165)\"}, \"name\": \"DHR\", \"offsetgroup\": \"DHR\", \"orientation\": \"v\", \"showlegend\": true, \"textposition\": \"auto\", \"type\": \"bar\", \"x\": [\"2020-11-02T00:00:00\", \"2020-11-03T00:00:00\", \"2020-11-04T00:00:00\", \"2020-11-05T00:00:00\", \"2020-11-06T00:00:00\", \"2020-11-08T00:00:00\", \"2020-11-09T00:00:00\", \"2020-11-10T00:00:00\", \"2020-11-11T00:00:00\", \"2020-11-12T00:00:00\", \"2020-11-13T00:00:00\", \"2020-11-14T00:00:00\", \"2020-11-15T00:00:00\"], \"xaxis\": \"x\", \"y\": [null, null, null, null, null, null, 0.7272727272727273, 0.35, 0.5, null, null, 0.3333333333333333, null], \"yaxis\": \"y\"}, {\"alignmentgroup\": \"True\", \"hovertemplate\": \"ticker=DIS<br>Date=%{x}<br>Subjectivity=%{y}<extra></extra>\", \"legendgroup\": \"DIS\", \"marker\": {\"color\": \"rgb(243, 231, 155)\"}, \"name\": \"DIS\", \"offsetgroup\": \"DIS\", \"orientation\": \"v\", \"showlegend\": true, \"textposition\": \"auto\", \"type\": \"bar\", \"x\": [\"2020-11-02T00:00:00\", \"2020-11-03T00:00:00\", \"2020-11-04T00:00:00\", \"2020-11-05T00:00:00\", \"2020-11-06T00:00:00\", \"2020-11-08T00:00:00\", \"2020-11-09T00:00:00\", \"2020-11-10T00:00:00\", \"2020-11-11T00:00:00\", \"2020-11-12T00:00:00\", \"2020-11-13T00:00:00\", \"2020-11-14T00:00:00\", \"2020-11-15T00:00:00\"], \"xaxis\": \"x\", \"y\": [null, null, null, null, null, null, null, null, null, null, null, null, 0.5], \"yaxis\": \"y\"}, {\"alignmentgroup\": \"True\", \"hovertemplate\": \"ticker=GOOG<br>Date=%{x}<br>Subjectivity=%{y}<extra></extra>\", \"legendgroup\": \"GOOG\", \"marker\": {\"color\": \"rgb(250, 196, 132)\"}, \"name\": \"GOOG\", \"offsetgroup\": \"GOOG\", \"orientation\": \"v\", \"showlegend\": true, \"textposition\": \"auto\", \"type\": \"bar\", \"x\": [\"2020-11-02T00:00:00\", \"2020-11-03T00:00:00\", \"2020-11-04T00:00:00\", \"2020-11-05T00:00:00\", \"2020-11-06T00:00:00\", \"2020-11-08T00:00:00\", \"2020-11-09T00:00:00\", \"2020-11-10T00:00:00\", \"2020-11-11T00:00:00\", \"2020-11-12T00:00:00\", \"2020-11-13T00:00:00\", \"2020-11-14T00:00:00\", \"2020-11-15T00:00:00\"], \"xaxis\": \"x\", \"y\": [null, null, null, null, null, null, null, null, null, 0.4, 0.525, null, 0.6071428571428571], \"yaxis\": \"y\"}, {\"alignmentgroup\": \"True\", \"hovertemplate\": \"ticker=GOOGL<br>Date=%{x}<br>Subjectivity=%{y}<extra></extra>\", \"legendgroup\": \"GOOGL\", \"marker\": {\"color\": \"rgb(248, 160, 126)\"}, \"name\": \"GOOGL\", \"offsetgroup\": \"GOOGL\", \"orientation\": \"v\", \"showlegend\": true, \"textposition\": \"auto\", \"type\": \"bar\", \"x\": [\"2020-11-02T00:00:00\", \"2020-11-03T00:00:00\", \"2020-11-04T00:00:00\", \"2020-11-05T00:00:00\", \"2020-11-06T00:00:00\", \"2020-11-08T00:00:00\", \"2020-11-09T00:00:00\", \"2020-11-10T00:00:00\", \"2020-11-11T00:00:00\", \"2020-11-12T00:00:00\", \"2020-11-13T00:00:00\", \"2020-11-14T00:00:00\", \"2020-11-15T00:00:00\"], \"xaxis\": \"x\", \"y\": [null, null, null, null, null, null, null, null, null, 0.4, 0.525, null, 0.8214285714285714], \"yaxis\": \"y\"}, {\"alignmentgroup\": \"True\", \"hovertemplate\": \"ticker=HD<br>Date=%{x}<br>Subjectivity=%{y}<extra></extra>\", \"legendgroup\": \"HD\", \"marker\": {\"color\": \"rgb(235, 127, 134)\"}, \"name\": \"HD\", \"offsetgroup\": \"HD\", \"orientation\": \"v\", \"showlegend\": true, \"textposition\": \"auto\", \"type\": \"bar\", \"x\": [\"2020-11-02T00:00:00\", \"2020-11-03T00:00:00\", \"2020-11-04T00:00:00\", \"2020-11-05T00:00:00\", \"2020-11-06T00:00:00\", \"2020-11-08T00:00:00\", \"2020-11-09T00:00:00\", \"2020-11-10T00:00:00\", \"2020-11-11T00:00:00\", \"2020-11-12T00:00:00\", \"2020-11-13T00:00:00\", \"2020-11-14T00:00:00\", \"2020-11-15T00:00:00\"], \"xaxis\": \"x\", \"y\": [null, null, null, null, null, null, null, null, 0.3, 0.44999999999999996, 0.6261363636363637, 0.46481481481481485, 0.3654761904761905], \"yaxis\": \"y\"}, {\"alignmentgroup\": \"True\", \"hovertemplate\": \"ticker=INTC<br>Date=%{x}<br>Subjectivity=%{y}<extra></extra>\", \"legendgroup\": \"INTC\", \"marker\": {\"color\": \"rgb(206, 102, 147)\"}, \"name\": \"INTC\", \"offsetgroup\": \"INTC\", \"orientation\": \"v\", \"showlegend\": true, \"textposition\": \"auto\", \"type\": \"bar\", \"x\": [\"2020-11-02T00:00:00\", \"2020-11-03T00:00:00\", \"2020-11-04T00:00:00\", \"2020-11-05T00:00:00\", \"2020-11-06T00:00:00\", \"2020-11-08T00:00:00\", \"2020-11-09T00:00:00\", \"2020-11-10T00:00:00\", \"2020-11-11T00:00:00\", \"2020-11-12T00:00:00\", \"2020-11-13T00:00:00\", \"2020-11-14T00:00:00\", \"2020-11-15T00:00:00\"], \"xaxis\": \"x\", \"y\": [null, null, null, null, null, null, null, null, null, null, null, 0.4341750841750842, 0.34667508417508425], \"yaxis\": \"y\"}, {\"alignmentgroup\": \"True\", \"hovertemplate\": \"ticker=JNJ<br>Date=%{x}<br>Subjectivity=%{y}<extra></extra>\", \"legendgroup\": \"JNJ\", \"marker\": {\"color\": \"rgb(160, 89, 160)\"}, \"name\": \"JNJ\", \"offsetgroup\": \"JNJ\", \"orientation\": \"v\", \"showlegend\": true, \"textposition\": \"auto\", \"type\": \"bar\", \"x\": [\"2020-11-02T00:00:00\", \"2020-11-03T00:00:00\", \"2020-11-04T00:00:00\", \"2020-11-05T00:00:00\", \"2020-11-06T00:00:00\", \"2020-11-08T00:00:00\", \"2020-11-09T00:00:00\", \"2020-11-10T00:00:00\", \"2020-11-11T00:00:00\", \"2020-11-12T00:00:00\", \"2020-11-13T00:00:00\", \"2020-11-14T00:00:00\", \"2020-11-15T00:00:00\"], \"xaxis\": \"x\", \"y\": [null, null, null, 1.0, null, null, null, null, null, null, null, null, null], \"yaxis\": \"y\"}, {\"alignmentgroup\": \"True\", \"hovertemplate\": \"ticker=JPM<br>Date=%{x}<br>Subjectivity=%{y}<extra></extra>\", \"legendgroup\": \"JPM\", \"marker\": {\"color\": \"rgb(92, 83, 165)\"}, \"name\": \"JPM\", \"offsetgroup\": \"JPM\", \"orientation\": \"v\", \"showlegend\": true, \"textposition\": \"auto\", \"type\": \"bar\", \"x\": [\"2020-11-02T00:00:00\", \"2020-11-03T00:00:00\", \"2020-11-04T00:00:00\", \"2020-11-05T00:00:00\", \"2020-11-06T00:00:00\", \"2020-11-08T00:00:00\", \"2020-11-09T00:00:00\", \"2020-11-10T00:00:00\", \"2020-11-11T00:00:00\", \"2020-11-12T00:00:00\", \"2020-11-13T00:00:00\", \"2020-11-14T00:00:00\", \"2020-11-15T00:00:00\"], \"xaxis\": \"x\", \"y\": [null, null, null, null, null, null, null, 0.44393939393939397, null, null, 1.0, null, 0.4575216450216451], \"yaxis\": \"y\"}, {\"alignmentgroup\": \"True\", \"hovertemplate\": \"ticker=KO<br>Date=%{x}<br>Subjectivity=%{y}<extra></extra>\", \"legendgroup\": \"KO\", \"marker\": {\"color\": \"rgb(243, 231, 155)\"}, \"name\": \"KO\", \"offsetgroup\": \"KO\", \"orientation\": \"v\", \"showlegend\": true, \"textposition\": \"auto\", \"type\": \"bar\", \"x\": [\"2020-11-02T00:00:00\", \"2020-11-03T00:00:00\", \"2020-11-04T00:00:00\", \"2020-11-05T00:00:00\", \"2020-11-06T00:00:00\", \"2020-11-08T00:00:00\", \"2020-11-09T00:00:00\", \"2020-11-10T00:00:00\", \"2020-11-11T00:00:00\", \"2020-11-12T00:00:00\", \"2020-11-13T00:00:00\", \"2020-11-14T00:00:00\", \"2020-11-15T00:00:00\"], \"xaxis\": \"x\", \"y\": [null, null, null, null, null, null, 0.7272727272727273, null, null, null, 0.32575757575757575, 0.5198232323232322, 0.5633838383838384], \"yaxis\": \"y\"}, {\"alignmentgroup\": \"True\", \"hovertemplate\": \"ticker=MA<br>Date=%{x}<br>Subjectivity=%{y}<extra></extra>\", \"legendgroup\": \"MA\", \"marker\": {\"color\": \"rgb(250, 196, 132)\"}, \"name\": \"MA\", \"offsetgroup\": \"MA\", \"orientation\": \"v\", \"showlegend\": true, \"textposition\": \"auto\", \"type\": \"bar\", \"x\": [\"2020-11-02T00:00:00\", \"2020-11-03T00:00:00\", \"2020-11-04T00:00:00\", \"2020-11-05T00:00:00\", \"2020-11-06T00:00:00\", \"2020-11-08T00:00:00\", \"2020-11-09T00:00:00\", \"2020-11-10T00:00:00\", \"2020-11-11T00:00:00\", \"2020-11-12T00:00:00\", \"2020-11-13T00:00:00\", \"2020-11-14T00:00:00\", \"2020-11-15T00:00:00\"], \"xaxis\": \"x\", \"y\": [0.3, null, null, null, null, null, null, 0.15, 0.5020833333333333, 0.39166666666666666, 0.2469907407407407, 0.5083333333333333, null], \"yaxis\": \"y\"}, {\"alignmentgroup\": \"True\", \"hovertemplate\": \"ticker=MCD<br>Date=%{x}<br>Subjectivity=%{y}<extra></extra>\", \"legendgroup\": \"MCD\", \"marker\": {\"color\": \"rgb(248, 160, 126)\"}, \"name\": \"MCD\", \"offsetgroup\": \"MCD\", \"orientation\": \"v\", \"showlegend\": true, \"textposition\": \"auto\", \"type\": \"bar\", \"x\": [\"2020-11-02T00:00:00\", \"2020-11-03T00:00:00\", \"2020-11-04T00:00:00\", \"2020-11-05T00:00:00\", \"2020-11-06T00:00:00\", \"2020-11-08T00:00:00\", \"2020-11-09T00:00:00\", \"2020-11-10T00:00:00\", \"2020-11-11T00:00:00\", \"2020-11-12T00:00:00\", \"2020-11-13T00:00:00\", \"2020-11-14T00:00:00\", \"2020-11-15T00:00:00\"], \"xaxis\": \"x\", \"y\": [null, null, null, null, null, null, 0.45454545454545453, null, null, null, null, 0.4962962962962963, 0.5751515151515152], \"yaxis\": \"y\"}, {\"alignmentgroup\": \"True\", \"hovertemplate\": \"ticker=MRK<br>Date=%{x}<br>Subjectivity=%{y}<extra></extra>\", \"legendgroup\": \"MRK\", \"marker\": {\"color\": \"rgb(235, 127, 134)\"}, \"name\": \"MRK\", \"offsetgroup\": \"MRK\", \"orientation\": \"v\", \"showlegend\": true, \"textposition\": \"auto\", \"type\": \"bar\", \"x\": [\"2020-11-02T00:00:00\", \"2020-11-03T00:00:00\", \"2020-11-04T00:00:00\", \"2020-11-05T00:00:00\", \"2020-11-06T00:00:00\", \"2020-11-08T00:00:00\", \"2020-11-09T00:00:00\", \"2020-11-10T00:00:00\", \"2020-11-11T00:00:00\", \"2020-11-12T00:00:00\", \"2020-11-13T00:00:00\", \"2020-11-14T00:00:00\", \"2020-11-15T00:00:00\"], \"xaxis\": \"x\", \"y\": [null, null, null, 0.4, null, null, null, null, 0.35, 0.3958333333333333, 0.41737012987012984, 0.35383597883597884, 0.45535714285714285], \"yaxis\": \"y\"}, {\"alignmentgroup\": \"True\", \"hovertemplate\": \"ticker=MSFT<br>Date=%{x}<br>Subjectivity=%{y}<extra></extra>\", \"legendgroup\": \"MSFT\", \"marker\": {\"color\": \"rgb(206, 102, 147)\"}, \"name\": \"MSFT\", \"offsetgroup\": \"MSFT\", \"orientation\": \"v\", \"showlegend\": true, \"textposition\": \"auto\", \"type\": \"bar\", \"x\": [\"2020-11-02T00:00:00\", \"2020-11-03T00:00:00\", \"2020-11-04T00:00:00\", \"2020-11-05T00:00:00\", \"2020-11-06T00:00:00\", \"2020-11-08T00:00:00\", \"2020-11-09T00:00:00\", \"2020-11-10T00:00:00\", \"2020-11-11T00:00:00\", \"2020-11-12T00:00:00\", \"2020-11-13T00:00:00\", \"2020-11-14T00:00:00\", \"2020-11-15T00:00:00\"], \"xaxis\": \"x\", \"y\": [null, null, null, null, null, null, null, null, null, 0.1, 0.5328282828282829, null, 0.5499158249158249], \"yaxis\": \"y\"}, {\"alignmentgroup\": \"True\", \"hovertemplate\": \"ticker=NFLX<br>Date=%{x}<br>Subjectivity=%{y}<extra></extra>\", \"legendgroup\": \"NFLX\", \"marker\": {\"color\": \"rgb(160, 89, 160)\"}, \"name\": \"NFLX\", \"offsetgroup\": \"NFLX\", \"orientation\": \"v\", \"showlegend\": true, \"textposition\": \"auto\", \"type\": \"bar\", \"x\": [\"2020-11-02T00:00:00\", \"2020-11-03T00:00:00\", \"2020-11-04T00:00:00\", \"2020-11-05T00:00:00\", \"2020-11-06T00:00:00\", \"2020-11-08T00:00:00\", \"2020-11-09T00:00:00\", \"2020-11-10T00:00:00\", \"2020-11-11T00:00:00\", \"2020-11-12T00:00:00\", \"2020-11-13T00:00:00\", \"2020-11-14T00:00:00\", \"2020-11-15T00:00:00\"], \"xaxis\": \"x\", \"y\": [null, null, null, null, null, null, null, null, null, 0.7, null, null, 0.6502164502164502], \"yaxis\": \"y\"}, {\"alignmentgroup\": \"True\", \"hovertemplate\": \"ticker=NVDA<br>Date=%{x}<br>Subjectivity=%{y}<extra></extra>\", \"legendgroup\": \"NVDA\", \"marker\": {\"color\": \"rgb(92, 83, 165)\"}, \"name\": \"NVDA\", \"offsetgroup\": \"NVDA\", \"orientation\": \"v\", \"showlegend\": true, \"textposition\": \"auto\", \"type\": \"bar\", \"x\": [\"2020-11-02T00:00:00\", \"2020-11-03T00:00:00\", \"2020-11-04T00:00:00\", \"2020-11-05T00:00:00\", \"2020-11-06T00:00:00\", \"2020-11-08T00:00:00\", \"2020-11-09T00:00:00\", \"2020-11-10T00:00:00\", \"2020-11-11T00:00:00\", \"2020-11-12T00:00:00\", \"2020-11-13T00:00:00\", \"2020-11-14T00:00:00\", \"2020-11-15T00:00:00\"], \"xaxis\": \"x\", \"y\": [null, null, null, null, null, null, 0.35416666666666663, null, null, null, 0.6428571428571429, 0.6444444444444444, 0.3972222222222223], \"yaxis\": \"y\"}, {\"alignmentgroup\": \"True\", \"hovertemplate\": \"ticker=NVS<br>Date=%{x}<br>Subjectivity=%{y}<extra></extra>\", \"legendgroup\": \"NVS\", \"marker\": {\"color\": \"rgb(243, 231, 155)\"}, \"name\": \"NVS\", \"offsetgroup\": \"NVS\", \"orientation\": \"v\", \"showlegend\": true, \"textposition\": \"auto\", \"type\": \"bar\", \"x\": [\"2020-11-02T00:00:00\", \"2020-11-03T00:00:00\", \"2020-11-04T00:00:00\", \"2020-11-05T00:00:00\", \"2020-11-06T00:00:00\", \"2020-11-08T00:00:00\", \"2020-11-09T00:00:00\", \"2020-11-10T00:00:00\", \"2020-11-11T00:00:00\", \"2020-11-12T00:00:00\", \"2020-11-13T00:00:00\", \"2020-11-14T00:00:00\", \"2020-11-15T00:00:00\"], \"xaxis\": \"x\", \"y\": [0.23333333333333334, null, 0.3333333333333333, null, 0.3333333333333333, null, null, null, 0.6000000000000001, 0.5291919191919192, 0.3935185185185186, null, 0.35861693861693855], \"yaxis\": \"y\"}, {\"alignmentgroup\": \"True\", \"hovertemplate\": \"ticker=ORCL<br>Date=%{x}<br>Subjectivity=%{y}<extra></extra>\", \"legendgroup\": \"ORCL\", \"marker\": {\"color\": \"rgb(250, 196, 132)\"}, \"name\": \"ORCL\", \"offsetgroup\": \"ORCL\", \"orientation\": \"v\", \"showlegend\": true, \"textposition\": \"auto\", \"type\": \"bar\", \"x\": [\"2020-11-02T00:00:00\", \"2020-11-03T00:00:00\", \"2020-11-04T00:00:00\", \"2020-11-05T00:00:00\", \"2020-11-06T00:00:00\", \"2020-11-08T00:00:00\", \"2020-11-09T00:00:00\", \"2020-11-10T00:00:00\", \"2020-11-11T00:00:00\", \"2020-11-12T00:00:00\", \"2020-11-13T00:00:00\", \"2020-11-14T00:00:00\", \"2020-11-15T00:00:00\"], \"xaxis\": \"x\", \"y\": [0.45454545454545453, null, null, null, null, null, null, null, null, null, 0.2916666666666667, 0.30476190476190473, 0.3], \"yaxis\": \"y\"}, {\"alignmentgroup\": \"True\", \"hovertemplate\": \"ticker=PDD<br>Date=%{x}<br>Subjectivity=%{y}<extra></extra>\", \"legendgroup\": \"PDD\", \"marker\": {\"color\": \"rgb(248, 160, 126)\"}, \"name\": \"PDD\", \"offsetgroup\": \"PDD\", \"orientation\": \"v\", \"showlegend\": true, \"textposition\": \"auto\", \"type\": \"bar\", \"x\": [\"2020-11-02T00:00:00\", \"2020-11-03T00:00:00\", \"2020-11-04T00:00:00\", \"2020-11-05T00:00:00\", \"2020-11-06T00:00:00\", \"2020-11-08T00:00:00\", \"2020-11-09T00:00:00\", \"2020-11-10T00:00:00\", \"2020-11-11T00:00:00\", \"2020-11-12T00:00:00\", \"2020-11-13T00:00:00\", \"2020-11-14T00:00:00\", \"2020-11-15T00:00:00\"], \"xaxis\": \"x\", \"y\": [1.0, 1.0, null, null, null, null, null, null, 0.3333333333333333, 0.575, 0.4430426055426055, 0.3396464646464647, 0.05], \"yaxis\": \"y\"}, {\"alignmentgroup\": \"True\", \"hovertemplate\": \"ticker=PEP<br>Date=%{x}<br>Subjectivity=%{y}<extra></extra>\", \"legendgroup\": \"PEP\", \"marker\": {\"color\": \"rgb(235, 127, 134)\"}, \"name\": \"PEP\", \"offsetgroup\": \"PEP\", \"orientation\": \"v\", \"showlegend\": true, \"textposition\": \"auto\", \"type\": \"bar\", \"x\": [\"2020-11-02T00:00:00\", \"2020-11-03T00:00:00\", \"2020-11-04T00:00:00\", \"2020-11-05T00:00:00\", \"2020-11-06T00:00:00\", \"2020-11-08T00:00:00\", \"2020-11-09T00:00:00\", \"2020-11-10T00:00:00\", \"2020-11-11T00:00:00\", \"2020-11-12T00:00:00\", \"2020-11-13T00:00:00\", \"2020-11-14T00:00:00\", \"2020-11-15T00:00:00\"], \"xaxis\": \"x\", \"y\": [null, null, 0.45454545454545453, null, null, null, 0.44242424242424244, null, null, 0.47833333333333333, 0.46707702020202024, 0.48961038961038966, 0.06666666666666667], \"yaxis\": \"y\"}, {\"alignmentgroup\": \"True\", \"hovertemplate\": \"ticker=PFE<br>Date=%{x}<br>Subjectivity=%{y}<extra></extra>\", \"legendgroup\": \"PFE\", \"marker\": {\"color\": \"rgb(206, 102, 147)\"}, \"name\": \"PFE\", \"offsetgroup\": \"PFE\", \"orientation\": \"v\", \"showlegend\": true, \"textposition\": \"auto\", \"type\": \"bar\", \"x\": [\"2020-11-02T00:00:00\", \"2020-11-03T00:00:00\", \"2020-11-04T00:00:00\", \"2020-11-05T00:00:00\", \"2020-11-06T00:00:00\", \"2020-11-08T00:00:00\", \"2020-11-09T00:00:00\", \"2020-11-10T00:00:00\", \"2020-11-11T00:00:00\", \"2020-11-12T00:00:00\", \"2020-11-13T00:00:00\", \"2020-11-14T00:00:00\", \"2020-11-15T00:00:00\"], \"xaxis\": \"x\", \"y\": [null, null, null, null, null, null, null, 0.65, 0.7272727272727273, 0.7057575757575758, null, null, 0.8452380952380951], \"yaxis\": \"y\"}, {\"alignmentgroup\": \"True\", \"hovertemplate\": \"ticker=PG<br>Date=%{x}<br>Subjectivity=%{y}<extra></extra>\", \"legendgroup\": \"PG\", \"marker\": {\"color\": \"rgb(160, 89, 160)\"}, \"name\": \"PG\", \"offsetgroup\": \"PG\", \"orientation\": \"v\", \"showlegend\": true, \"textposition\": \"auto\", \"type\": \"bar\", \"x\": [\"2020-11-02T00:00:00\", \"2020-11-03T00:00:00\", \"2020-11-04T00:00:00\", \"2020-11-05T00:00:00\", \"2020-11-06T00:00:00\", \"2020-11-08T00:00:00\", \"2020-11-09T00:00:00\", \"2020-11-10T00:00:00\", \"2020-11-11T00:00:00\", \"2020-11-12T00:00:00\", \"2020-11-13T00:00:00\", \"2020-11-14T00:00:00\", \"2020-11-15T00:00:00\"], \"xaxis\": \"x\", \"y\": [null, null, null, null, 0.6005952380952381, null, 0.7037037037037037, 0.396969696969697, null, null, 0.3555555555555555, 0.7, 0.55], \"yaxis\": \"y\"}, {\"alignmentgroup\": \"True\", \"hovertemplate\": \"ticker=PYPL<br>Date=%{x}<br>Subjectivity=%{y}<extra></extra>\", \"legendgroup\": \"PYPL\", \"marker\": {\"color\": \"rgb(92, 83, 165)\"}, \"name\": \"PYPL\", \"offsetgroup\": \"PYPL\", \"orientation\": \"v\", \"showlegend\": true, \"textposition\": \"auto\", \"type\": \"bar\", \"x\": [\"2020-11-02T00:00:00\", \"2020-11-03T00:00:00\", \"2020-11-04T00:00:00\", \"2020-11-05T00:00:00\", \"2020-11-06T00:00:00\", \"2020-11-08T00:00:00\", \"2020-11-09T00:00:00\", \"2020-11-10T00:00:00\", \"2020-11-11T00:00:00\", \"2020-11-12T00:00:00\", \"2020-11-13T00:00:00\", \"2020-11-14T00:00:00\", \"2020-11-15T00:00:00\"], \"xaxis\": \"x\", \"y\": [null, null, null, null, null, null, null, 0.5, null, null, null, null, 0.4561511111111112], \"yaxis\": \"y\"}, {\"alignmentgroup\": \"True\", \"hovertemplate\": \"ticker=T<br>Date=%{x}<br>Subjectivity=%{y}<extra></extra>\", \"legendgroup\": \"T\", \"marker\": {\"color\": \"rgb(243, 231, 155)\"}, \"name\": \"T\", \"offsetgroup\": \"T\", \"orientation\": \"v\", \"showlegend\": true, \"textposition\": \"auto\", \"type\": \"bar\", \"x\": [\"2020-11-02T00:00:00\", \"2020-11-03T00:00:00\", \"2020-11-04T00:00:00\", \"2020-11-05T00:00:00\", \"2020-11-06T00:00:00\", \"2020-11-08T00:00:00\", \"2020-11-09T00:00:00\", \"2020-11-10T00:00:00\", \"2020-11-11T00:00:00\", \"2020-11-12T00:00:00\", \"2020-11-13T00:00:00\", \"2020-11-14T00:00:00\", \"2020-11-15T00:00:00\"], \"xaxis\": \"x\", \"y\": [null, null, null, null, null, null, null, 0.05, null, 0.4022727272727272, 0.8, null, 0.5400203962703962], \"yaxis\": \"y\"}, {\"alignmentgroup\": \"True\", \"hovertemplate\": \"ticker=TM<br>Date=%{x}<br>Subjectivity=%{y}<extra></extra>\", \"legendgroup\": \"TM\", \"marker\": {\"color\": \"rgb(250, 196, 132)\"}, \"name\": \"TM\", \"offsetgroup\": \"TM\", \"orientation\": \"v\", \"showlegend\": true, \"textposition\": \"auto\", \"type\": \"bar\", \"x\": [\"2020-11-02T00:00:00\", \"2020-11-03T00:00:00\", \"2020-11-04T00:00:00\", \"2020-11-05T00:00:00\", \"2020-11-06T00:00:00\", \"2020-11-08T00:00:00\", \"2020-11-09T00:00:00\", \"2020-11-10T00:00:00\", \"2020-11-11T00:00:00\", \"2020-11-12T00:00:00\", \"2020-11-13T00:00:00\", \"2020-11-14T00:00:00\", \"2020-11-15T00:00:00\"], \"xaxis\": \"x\", \"y\": [null, null, null, 0.1, null, null, 0.8500000000000001, 0.8166666666666667, 0.6666666666666666, 0.1, 0.6976190476190476, 0.7916666666666667, 0.44866161616161615], \"yaxis\": \"y\"}, {\"alignmentgroup\": \"True\", \"hovertemplate\": \"ticker=TMO<br>Date=%{x}<br>Subjectivity=%{y}<extra></extra>\", \"legendgroup\": \"TMO\", \"marker\": {\"color\": \"rgb(248, 160, 126)\"}, \"name\": \"TMO\", \"offsetgroup\": \"TMO\", \"orientation\": \"v\", \"showlegend\": true, \"textposition\": \"auto\", \"type\": \"bar\", \"x\": [\"2020-11-02T00:00:00\", \"2020-11-03T00:00:00\", \"2020-11-04T00:00:00\", \"2020-11-05T00:00:00\", \"2020-11-06T00:00:00\", \"2020-11-08T00:00:00\", \"2020-11-09T00:00:00\", \"2020-11-10T00:00:00\", \"2020-11-11T00:00:00\", \"2020-11-12T00:00:00\", \"2020-11-13T00:00:00\", \"2020-11-14T00:00:00\", \"2020-11-15T00:00:00\"], \"xaxis\": \"x\", \"y\": [0.6666666666666666, null, null, null, null, null, null, null, 0.49166666666666664, null, 0.5422222222222223, null, 0.42857142857142855], \"yaxis\": \"y\"}, {\"alignmentgroup\": \"True\", \"hovertemplate\": \"ticker=TMUS<br>Date=%{x}<br>Subjectivity=%{y}<extra></extra>\", \"legendgroup\": \"TMUS\", \"marker\": {\"color\": \"rgb(235, 127, 134)\"}, \"name\": \"TMUS\", \"offsetgroup\": \"TMUS\", \"orientation\": \"v\", \"showlegend\": true, \"textposition\": \"auto\", \"type\": \"bar\", \"x\": [\"2020-11-02T00:00:00\", \"2020-11-03T00:00:00\", \"2020-11-04T00:00:00\", \"2020-11-05T00:00:00\", \"2020-11-06T00:00:00\", \"2020-11-08T00:00:00\", \"2020-11-09T00:00:00\", \"2020-11-10T00:00:00\", \"2020-11-11T00:00:00\", \"2020-11-12T00:00:00\", \"2020-11-13T00:00:00\", \"2020-11-14T00:00:00\", \"2020-11-15T00:00:00\"], \"xaxis\": \"x\", \"y\": [null, null, null, null, null, null, null, null, null, 0.20707070707070707, 0.4858964646464646, 0.3262121212121213, 0.4362934904601571], \"yaxis\": \"y\"}, {\"alignmentgroup\": \"True\", \"hovertemplate\": \"ticker=TSLA<br>Date=%{x}<br>Subjectivity=%{y}<extra></extra>\", \"legendgroup\": \"TSLA\", \"marker\": {\"color\": \"rgb(206, 102, 147)\"}, \"name\": \"TSLA\", \"offsetgroup\": \"TSLA\", \"orientation\": \"v\", \"showlegend\": true, \"textposition\": \"auto\", \"type\": \"bar\", \"x\": [\"2020-11-02T00:00:00\", \"2020-11-03T00:00:00\", \"2020-11-04T00:00:00\", \"2020-11-05T00:00:00\", \"2020-11-06T00:00:00\", \"2020-11-08T00:00:00\", \"2020-11-09T00:00:00\", \"2020-11-10T00:00:00\", \"2020-11-11T00:00:00\", \"2020-11-12T00:00:00\", \"2020-11-13T00:00:00\", \"2020-11-14T00:00:00\", \"2020-11-15T00:00:00\"], \"xaxis\": \"x\", \"y\": [null, null, null, null, null, null, null, null, null, null, null, null, 0.5142830086580087], \"yaxis\": \"y\"}, {\"alignmentgroup\": \"True\", \"hovertemplate\": \"ticker=TSM<br>Date=%{x}<br>Subjectivity=%{y}<extra></extra>\", \"legendgroup\": \"TSM\", \"marker\": {\"color\": \"rgb(160, 89, 160)\"}, \"name\": \"TSM\", \"offsetgroup\": \"TSM\", \"orientation\": \"v\", \"showlegend\": true, \"textposition\": \"auto\", \"type\": \"bar\", \"x\": [\"2020-11-02T00:00:00\", \"2020-11-03T00:00:00\", \"2020-11-04T00:00:00\", \"2020-11-05T00:00:00\", \"2020-11-06T00:00:00\", \"2020-11-08T00:00:00\", \"2020-11-09T00:00:00\", \"2020-11-10T00:00:00\", \"2020-11-11T00:00:00\", \"2020-11-12T00:00:00\", \"2020-11-13T00:00:00\", \"2020-11-14T00:00:00\", \"2020-11-15T00:00:00\"], \"xaxis\": \"x\", \"y\": [null, null, null, null, null, null, null, 0.3194444444444444, 0.42797619047619045, 0.45820707070707073, 0.5909090909090909, 0.37142857142857144, 0.2681349206349206], \"yaxis\": \"y\"}, {\"alignmentgroup\": \"True\", \"hovertemplate\": \"ticker=UN<br>Date=%{x}<br>Subjectivity=%{y}<extra></extra>\", \"legendgroup\": \"UN\", \"marker\": {\"color\": \"rgb(92, 83, 165)\"}, \"name\": \"UN\", \"offsetgroup\": \"UN\", \"orientation\": \"v\", \"showlegend\": true, \"textposition\": \"auto\", \"type\": \"bar\", \"x\": [\"2020-11-02T00:00:00\", \"2020-11-03T00:00:00\", \"2020-11-04T00:00:00\", \"2020-11-05T00:00:00\", \"2020-11-06T00:00:00\", \"2020-11-08T00:00:00\", \"2020-11-09T00:00:00\", \"2020-11-10T00:00:00\", \"2020-11-11T00:00:00\", \"2020-11-12T00:00:00\", \"2020-11-13T00:00:00\", \"2020-11-14T00:00:00\", \"2020-11-15T00:00:00\"], \"xaxis\": \"x\", \"y\": [null, null, null, 0.5, null, null, null, 0.35, null, null, 0.6666666666666667, 0.7999999999999999, 0.36666666666666664], \"yaxis\": \"y\"}, {\"alignmentgroup\": \"True\", \"hovertemplate\": \"ticker=UNH<br>Date=%{x}<br>Subjectivity=%{y}<extra></extra>\", \"legendgroup\": \"UNH\", \"marker\": {\"color\": \"rgb(243, 231, 155)\"}, \"name\": \"UNH\", \"offsetgroup\": \"UNH\", \"orientation\": \"v\", \"showlegend\": true, \"textposition\": \"auto\", \"type\": \"bar\", \"x\": [\"2020-11-02T00:00:00\", \"2020-11-03T00:00:00\", \"2020-11-04T00:00:00\", \"2020-11-05T00:00:00\", \"2020-11-06T00:00:00\", \"2020-11-08T00:00:00\", \"2020-11-09T00:00:00\", \"2020-11-10T00:00:00\", \"2020-11-11T00:00:00\", \"2020-11-12T00:00:00\", \"2020-11-13T00:00:00\", \"2020-11-14T00:00:00\", \"2020-11-15T00:00:00\"], \"xaxis\": \"x\", \"y\": [null, null, null, null, null, null, null, 0.35, null, 0.5416666666666666, 0.30303030303030304, 0.5, 0.4186135161135161], \"yaxis\": \"y\"}, {\"alignmentgroup\": \"True\", \"hovertemplate\": \"ticker=VZ<br>Date=%{x}<br>Subjectivity=%{y}<extra></extra>\", \"legendgroup\": \"VZ\", \"marker\": {\"color\": \"rgb(250, 196, 132)\"}, \"name\": \"VZ\", \"offsetgroup\": \"VZ\", \"orientation\": \"v\", \"showlegend\": true, \"textposition\": \"auto\", \"type\": \"bar\", \"x\": [\"2020-11-02T00:00:00\", \"2020-11-03T00:00:00\", \"2020-11-04T00:00:00\", \"2020-11-05T00:00:00\", \"2020-11-06T00:00:00\", \"2020-11-08T00:00:00\", \"2020-11-09T00:00:00\", \"2020-11-10T00:00:00\", \"2020-11-11T00:00:00\", \"2020-11-12T00:00:00\", \"2020-11-13T00:00:00\", \"2020-11-14T00:00:00\", \"2020-11-15T00:00:00\"], \"xaxis\": \"x\", \"y\": [0.2857142857142857, null, null, null, null, null, 0.4444444444444444, 0.3547619047619048, 0.625, null, 0.5418831168831169, 0.38125, 0.40100118835412946], \"yaxis\": \"y\"}, {\"alignmentgroup\": \"True\", \"hovertemplate\": \"ticker=WMT<br>Date=%{x}<br>Subjectivity=%{y}<extra></extra>\", \"legendgroup\": \"WMT\", \"marker\": {\"color\": \"rgb(248, 160, 126)\"}, \"name\": \"WMT\", \"offsetgroup\": \"WMT\", \"orientation\": \"v\", \"showlegend\": true, \"textposition\": \"auto\", \"type\": \"bar\", \"x\": [\"2020-11-02T00:00:00\", \"2020-11-03T00:00:00\", \"2020-11-04T00:00:00\", \"2020-11-05T00:00:00\", \"2020-11-06T00:00:00\", \"2020-11-08T00:00:00\", \"2020-11-09T00:00:00\", \"2020-11-10T00:00:00\", \"2020-11-11T00:00:00\", \"2020-11-12T00:00:00\", \"2020-11-13T00:00:00\", \"2020-11-14T00:00:00\", \"2020-11-15T00:00:00\"], \"xaxis\": \"x\", \"y\": [null, null, null, null, null, null, 1.0, null, null, null, 0.25, 0.4552083333333333, 0.3412037037037037], \"yaxis\": \"y\"}],                        {\"barmode\": \"relative\", \"legend\": {\"title\": {\"text\": \"ticker\"}, \"tracegroupgap\": 0}, \"template\": {\"data\": {\"bar\": [{\"error_x\": {\"color\": \"#f2f5fa\"}, \"error_y\": {\"color\": \"#f2f5fa\"}, \"marker\": {\"line\": {\"color\": \"rgb(17,17,17)\", \"width\": 0.5}}, \"type\": \"bar\"}], \"barpolar\": [{\"marker\": {\"line\": {\"color\": \"rgb(17,17,17)\", \"width\": 0.5}}, \"type\": \"barpolar\"}], \"carpet\": [{\"aaxis\": {\"endlinecolor\": \"#A2B1C6\", \"gridcolor\": \"#506784\", \"linecolor\": \"#506784\", \"minorgridcolor\": \"#506784\", \"startlinecolor\": \"#A2B1C6\"}, \"baxis\": {\"endlinecolor\": \"#A2B1C6\", \"gridcolor\": \"#506784\", \"linecolor\": \"#506784\", \"minorgridcolor\": \"#506784\", \"startlinecolor\": \"#A2B1C6\"}, \"type\": \"carpet\"}], \"choropleth\": [{\"colorbar\": {\"outlinewidth\": 0, \"ticks\": \"\"}, \"type\": \"choropleth\"}], \"contour\": [{\"colorbar\": {\"outlinewidth\": 0, \"ticks\": \"\"}, \"colorscale\": [[0.0, \"#0d0887\"], [0.1111111111111111, \"#46039f\"], [0.2222222222222222, \"#7201a8\"], [0.3333333333333333, \"#9c179e\"], [0.4444444444444444, \"#bd3786\"], [0.5555555555555556, \"#d8576b\"], [0.6666666666666666, \"#ed7953\"], [0.7777777777777778, \"#fb9f3a\"], [0.8888888888888888, \"#fdca26\"], [1.0, \"#f0f921\"]], \"type\": \"contour\"}], \"contourcarpet\": [{\"colorbar\": {\"outlinewidth\": 0, \"ticks\": \"\"}, \"type\": \"contourcarpet\"}], \"heatmap\": [{\"colorbar\": {\"outlinewidth\": 0, \"ticks\": \"\"}, \"colorscale\": [[0.0, \"#0d0887\"], [0.1111111111111111, \"#46039f\"], [0.2222222222222222, \"#7201a8\"], [0.3333333333333333, \"#9c179e\"], [0.4444444444444444, \"#bd3786\"], [0.5555555555555556, \"#d8576b\"], [0.6666666666666666, \"#ed7953\"], [0.7777777777777778, \"#fb9f3a\"], [0.8888888888888888, \"#fdca26\"], [1.0, \"#f0f921\"]], \"type\": \"heatmap\"}], \"heatmapgl\": [{\"colorbar\": {\"outlinewidth\": 0, \"ticks\": \"\"}, \"colorscale\": [[0.0, \"#0d0887\"], [0.1111111111111111, \"#46039f\"], [0.2222222222222222, \"#7201a8\"], [0.3333333333333333, \"#9c179e\"], [0.4444444444444444, \"#bd3786\"], [0.5555555555555556, \"#d8576b\"], [0.6666666666666666, \"#ed7953\"], [0.7777777777777778, \"#fb9f3a\"], [0.8888888888888888, \"#fdca26\"], [1.0, \"#f0f921\"]], \"type\": \"heatmapgl\"}], \"histogram\": [{\"marker\": {\"colorbar\": {\"outlinewidth\": 0, \"ticks\": \"\"}}, \"type\": \"histogram\"}], \"histogram2d\": [{\"colorbar\": {\"outlinewidth\": 0, \"ticks\": \"\"}, \"colorscale\": [[0.0, \"#0d0887\"], [0.1111111111111111, \"#46039f\"], [0.2222222222222222, \"#7201a8\"], [0.3333333333333333, \"#9c179e\"], [0.4444444444444444, \"#bd3786\"], [0.5555555555555556, \"#d8576b\"], [0.6666666666666666, \"#ed7953\"], [0.7777777777777778, \"#fb9f3a\"], [0.8888888888888888, \"#fdca26\"], [1.0, \"#f0f921\"]], \"type\": \"histogram2d\"}], \"histogram2dcontour\": [{\"colorbar\": {\"outlinewidth\": 0, \"ticks\": \"\"}, \"colorscale\": [[0.0, \"#0d0887\"], [0.1111111111111111, \"#46039f\"], [0.2222222222222222, \"#7201a8\"], [0.3333333333333333, \"#9c179e\"], [0.4444444444444444, \"#bd3786\"], [0.5555555555555556, \"#d8576b\"], [0.6666666666666666, \"#ed7953\"], [0.7777777777777778, \"#fb9f3a\"], [0.8888888888888888, \"#fdca26\"], [1.0, \"#f0f921\"]], \"type\": \"histogram2dcontour\"}], \"mesh3d\": [{\"colorbar\": {\"outlinewidth\": 0, \"ticks\": \"\"}, \"type\": \"mesh3d\"}], \"parcoords\": [{\"line\": {\"colorbar\": {\"outlinewidth\": 0, \"ticks\": \"\"}}, \"type\": \"parcoords\"}], \"pie\": [{\"automargin\": true, \"type\": \"pie\"}], \"scatter\": [{\"marker\": {\"line\": {\"color\": \"#283442\"}}, \"type\": \"scatter\"}], \"scatter3d\": [{\"line\": {\"colorbar\": {\"outlinewidth\": 0, \"ticks\": \"\"}}, \"marker\": {\"colorbar\": {\"outlinewidth\": 0, \"ticks\": \"\"}}, \"type\": \"scatter3d\"}], \"scattercarpet\": [{\"marker\": {\"colorbar\": {\"outlinewidth\": 0, \"ticks\": \"\"}}, \"type\": \"scattercarpet\"}], \"scattergeo\": [{\"marker\": {\"colorbar\": {\"outlinewidth\": 0, \"ticks\": \"\"}}, \"type\": \"scattergeo\"}], \"scattergl\": [{\"marker\": {\"line\": {\"color\": \"#283442\"}}, \"type\": \"scattergl\"}], \"scattermapbox\": [{\"marker\": {\"colorbar\": {\"outlinewidth\": 0, \"ticks\": \"\"}}, \"type\": \"scattermapbox\"}], \"scatterpolar\": [{\"marker\": {\"colorbar\": {\"outlinewidth\": 0, \"ticks\": \"\"}}, \"type\": \"scatterpolar\"}], \"scatterpolargl\": [{\"marker\": {\"colorbar\": {\"outlinewidth\": 0, \"ticks\": \"\"}}, \"type\": \"scatterpolargl\"}], \"scatterternary\": [{\"marker\": {\"colorbar\": {\"outlinewidth\": 0, \"ticks\": \"\"}}, \"type\": \"scatterternary\"}], \"surface\": [{\"colorbar\": {\"outlinewidth\": 0, \"ticks\": \"\"}, \"colorscale\": [[0.0, \"#0d0887\"], [0.1111111111111111, \"#46039f\"], [0.2222222222222222, \"#7201a8\"], [0.3333333333333333, \"#9c179e\"], [0.4444444444444444, \"#bd3786\"], [0.5555555555555556, \"#d8576b\"], [0.6666666666666666, \"#ed7953\"], [0.7777777777777778, \"#fb9f3a\"], [0.8888888888888888, \"#fdca26\"], [1.0, \"#f0f921\"]], \"type\": \"surface\"}], \"table\": [{\"cells\": {\"fill\": {\"color\": \"#506784\"}, \"line\": {\"color\": \"rgb(17,17,17)\"}}, \"header\": {\"fill\": {\"color\": \"#2a3f5f\"}, \"line\": {\"color\": \"rgb(17,17,17)\"}}, \"type\": \"table\"}]}, \"layout\": {\"annotationdefaults\": {\"arrowcolor\": \"#f2f5fa\", \"arrowhead\": 0, \"arrowwidth\": 1}, \"coloraxis\": {\"colorbar\": {\"outlinewidth\": 0, \"ticks\": \"\"}}, \"colorscale\": {\"diverging\": [[0, \"#8e0152\"], [0.1, \"#c51b7d\"], [0.2, \"#de77ae\"], [0.3, \"#f1b6da\"], [0.4, \"#fde0ef\"], [0.5, \"#f7f7f7\"], [0.6, \"#e6f5d0\"], [0.7, \"#b8e186\"], [0.8, \"#7fbc41\"], [0.9, \"#4d9221\"], [1, \"#276419\"]], \"sequential\": [[0.0, \"#0d0887\"], [0.1111111111111111, \"#46039f\"], [0.2222222222222222, \"#7201a8\"], [0.3333333333333333, \"#9c179e\"], [0.4444444444444444, \"#bd3786\"], [0.5555555555555556, \"#d8576b\"], [0.6666666666666666, \"#ed7953\"], [0.7777777777777778, \"#fb9f3a\"], [0.8888888888888888, \"#fdca26\"], [1.0, \"#f0f921\"]], \"sequentialminus\": [[0.0, \"#0d0887\"], [0.1111111111111111, \"#46039f\"], [0.2222222222222222, \"#7201a8\"], [0.3333333333333333, \"#9c179e\"], [0.4444444444444444, \"#bd3786\"], [0.5555555555555556, \"#d8576b\"], [0.6666666666666666, \"#ed7953\"], [0.7777777777777778, \"#fb9f3a\"], [0.8888888888888888, \"#fdca26\"], [1.0, \"#f0f921\"]]}, \"colorway\": [\"#636efa\", \"#EF553B\", \"#00cc96\", \"#ab63fa\", \"#FFA15A\", \"#19d3f3\", \"#FF6692\", \"#B6E880\", \"#FF97FF\", \"#FECB52\"], \"font\": {\"color\": \"#f2f5fa\"}, \"geo\": {\"bgcolor\": \"rgb(17,17,17)\", \"lakecolor\": \"rgb(17,17,17)\", \"landcolor\": \"rgb(17,17,17)\", \"showlakes\": true, \"showland\": true, \"subunitcolor\": \"#506784\"}, \"hoverlabel\": {\"align\": \"left\"}, \"hovermode\": \"closest\", \"mapbox\": {\"style\": \"dark\"}, \"paper_bgcolor\": \"rgb(17,17,17)\", \"plot_bgcolor\": \"rgb(17,17,17)\", \"polar\": {\"angularaxis\": {\"gridcolor\": \"#506784\", \"linecolor\": \"#506784\", \"ticks\": \"\"}, \"bgcolor\": \"rgb(17,17,17)\", \"radialaxis\": {\"gridcolor\": \"#506784\", \"linecolor\": \"#506784\", \"ticks\": \"\"}}, \"scene\": {\"xaxis\": {\"backgroundcolor\": \"rgb(17,17,17)\", \"gridcolor\": \"#506784\", \"gridwidth\": 2, \"linecolor\": \"#506784\", \"showbackground\": true, \"ticks\": \"\", \"zerolinecolor\": \"#C8D4E3\"}, \"yaxis\": {\"backgroundcolor\": \"rgb(17,17,17)\", \"gridcolor\": \"#506784\", \"gridwidth\": 2, \"linecolor\": \"#506784\", \"showbackground\": true, \"ticks\": \"\", \"zerolinecolor\": \"#C8D4E3\"}, \"zaxis\": {\"backgroundcolor\": \"rgb(17,17,17)\", \"gridcolor\": \"#506784\", \"gridwidth\": 2, \"linecolor\": \"#506784\", \"showbackground\": true, \"ticks\": \"\", \"zerolinecolor\": \"#C8D4E3\"}}, \"shapedefaults\": {\"line\": {\"color\": \"#f2f5fa\"}}, \"sliderdefaults\": {\"bgcolor\": \"#C8D4E3\", \"bordercolor\": \"rgb(17,17,17)\", \"borderwidth\": 1, \"tickwidth\": 0}, \"ternary\": {\"aaxis\": {\"gridcolor\": \"#506784\", \"linecolor\": \"#506784\", \"ticks\": \"\"}, \"baxis\": {\"gridcolor\": \"#506784\", \"linecolor\": \"#506784\", \"ticks\": \"\"}, \"bgcolor\": \"rgb(17,17,17)\", \"caxis\": {\"gridcolor\": \"#506784\", \"linecolor\": \"#506784\", \"ticks\": \"\"}}, \"title\": {\"x\": 0.05}, \"updatemenudefaults\": {\"bgcolor\": \"#506784\", \"borderwidth\": 0}, \"xaxis\": {\"automargin\": true, \"gridcolor\": \"#283442\", \"linecolor\": \"#506784\", \"ticks\": \"\", \"title\": {\"standoff\": 15}, \"zerolinecolor\": \"#283442\", \"zerolinewidth\": 2}, \"yaxis\": {\"automargin\": true, \"gridcolor\": \"#283442\", \"linecolor\": \"#506784\", \"ticks\": \"\", \"title\": {\"standoff\": 15}, \"zerolinecolor\": \"#283442\", \"zerolinewidth\": 2}}}, \"title\": {\"text\": \"Average Polarity of Stock Headlines\"}, \"xaxis\": {\"anchor\": \"y\", \"domain\": [0.0, 1.0], \"title\": {\"text\": \"Date\"}}, \"yaxis\": {\"anchor\": \"x\", \"domain\": [0.0, 1.0], \"title\": {\"text\": \"Subjectivity\"}}},                        {\"responsive\": true}                    ).then(function(){\n",
       "                            \n",
       "var gd = document.getElementById('28449b6e-74a9-4686-915f-a4d692e71560');\n",
       "var x = new MutationObserver(function (mutations, observer) {{\n",
       "        var display = window.getComputedStyle(gd).display;\n",
       "        if (!display || display === 'none') {{\n",
       "            console.log([gd, 'removed!']);\n",
       "            Plotly.purge(gd);\n",
       "            observer.disconnect();\n",
       "        }}\n",
       "}});\n",
       "\n",
       "// Listen for the removal of the full notebook cells\n",
       "var notebookContainer = gd.closest('#notebook-container');\n",
       "if (notebookContainer) {{\n",
       "    x.observe(notebookContainer, {childList: true});\n",
       "}}\n",
       "\n",
       "// Listen for the clearing of the current output cell\n",
       "var outputEl = gd.closest('.output');\n",
       "if (outputEl) {{\n",
       "    x.observe(outputEl, {childList: true});\n",
       "}}\n",
       "\n",
       "                        })                };                });            </script>        </div>"
      ]
     },
     "metadata": {},
     "output_type": "display_data"
    }
   ],
   "source": [
    "# Filter the dates\n",
    "blob_filtered = blob_news[(blob_news['date'] > '2020-10-31') & (blob_news['date'] < '2020-11-16')]\n",
    "# Group by the ticker and the date, creating a multi-index\n",
    "mean_date = blob_filtered.groupby(['ticker', 'date']).mean()\n",
    "# Drop the dayofweek because we don't need it\n",
    "mean_date = mean_date.drop('dayofweek', axis=1)\n",
    "# Unstack, the innermost index level 'unstacks' across the columns\n",
    "mean_date = mean_date.unstack()\n",
    "# Get a cross-section of the above data, and transpose it to make the columns the ticker names\n",
    "mean_date = mean_date.xs('subjectivity', axis=1).T\n",
    "\n",
    "sunset = px.colors.sequential.Sunset\n",
    "\n",
    "px.bar(mean_date, barmode='relative', color_discrete_sequence=sunset,\n",
    "      title='Average Polarity of Stock Headlines',\n",
    "      labels={'value': 'Subjectivity', 'date': 'Date'})"
   ]
  },
  {
   "cell_type": "code",
   "execution_count": 252,
   "metadata": {},
   "outputs": [
    {
     "data": {
      "application/vnd.plotly.v1+json": {
       "config": {
        "plotlyServerURL": "https://plot.ly"
       },
       "data": [
        {
         "alignmentgroup": "True",
         "hovertemplate": "ticker=%{x}<br>Polarity=%{y}<extra></extra>",
         "legendgroup": "",
         "marker": {
          "color": "#636efa"
         },
         "name": "",
         "notched": false,
         "offsetgroup": "",
         "orientation": "v",
         "showlegend": false,
         "type": "box",
         "x": [
          "AAPL",
          "AAPL",
          "AAPL",
          "AAPL",
          "AAPL",
          "AAPL",
          "AAPL",
          "AAPL",
          "AAPL",
          "AAPL",
          "AAPL",
          "AAPL",
          "AAPL",
          "AAPL",
          "AAPL",
          "AAPL",
          "AAPL",
          "AAPL",
          "AAPL",
          "AAPL",
          "AAPL",
          "AAPL",
          "AAPL",
          "AAPL",
          "AAPL",
          "AAPL",
          "AAPL",
          "AAPL",
          "AAPL",
          "AAPL",
          "AAPL",
          "AAPL",
          "AAPL",
          "AAPL",
          "AAPL",
          "AAPL",
          "AAPL",
          "AAPL",
          "AAPL",
          "AAPL",
          "AAPL",
          "AAPL",
          "AAPL",
          "AAPL",
          "AAPL",
          "AAPL",
          "AAPL",
          "AAPL",
          "AAPL",
          "AAPL",
          "AAPL",
          "AAPL",
          "AAPL",
          "ABBV",
          "ABBV",
          "ABBV",
          "ABBV",
          "ABBV",
          "ABBV",
          "ABBV",
          "ABBV",
          "ABBV",
          "ABBV",
          "ABBV",
          "ABBV",
          "ABBV",
          "ABBV",
          "ABBV",
          "ABBV",
          "ABBV",
          "ABBV",
          "ABBV",
          "ABBV",
          "ABBV",
          "ABBV",
          "ABBV",
          "ABBV",
          "ABBV",
          "ABBV",
          "ABBV",
          "ABBV",
          "ABBV",
          "ABBV",
          "ABBV",
          "ABBV",
          "ABBV",
          "ABBV",
          "ABBV",
          "ABBV",
          "ABBV",
          "ABBV",
          "ABBV",
          "ABBV",
          "ABBV",
          "ABBV",
          "ABBV",
          "ABBV",
          "ABBV",
          "ABBV",
          "ABBV",
          "ABBV",
          "ABBV",
          "ABBV",
          "ABBV",
          "ABBV",
          "ABBV",
          "ABT",
          "ABT",
          "ABT",
          "ABT",
          "ABT",
          "ABT",
          "ABT",
          "ABT",
          "ABT",
          "ABT",
          "ABT",
          "ABT",
          "ABT",
          "ABT",
          "ABT",
          "ABT",
          "ABT",
          "ABT",
          "ABT",
          "ABT",
          "ABT",
          "ABT",
          "ABT",
          "ABT",
          "ABT",
          "ABT",
          "ABT",
          "ABT",
          "ABT",
          "ABT",
          "ABT",
          "ABT",
          "ABT",
          "ABT",
          "ABT",
          "ABT",
          "ABT",
          "ABT",
          "ABT",
          "ABT",
          "ABT",
          "ABT",
          "ABT",
          "ABT",
          "ABT",
          "ABT",
          "ABT",
          "ABT",
          "ABT",
          "ABT",
          "ABT",
          "ABT",
          "ABT",
          "ADBE",
          "ADBE",
          "ADBE",
          "ADBE",
          "ADBE",
          "ADBE",
          "ADBE",
          "ADBE",
          "ADBE",
          "ADBE",
          "ADBE",
          "ADBE",
          "ADBE",
          "ADBE",
          "ADBE",
          "ADBE",
          "ADBE",
          "ADBE",
          "ADBE",
          "ADBE",
          "ADBE",
          "ADBE",
          "ADBE",
          "ADBE",
          "ADBE",
          "ADBE",
          "ADBE",
          "ADBE",
          "ADBE",
          "ADBE",
          "ADBE",
          "ADBE",
          "ADBE",
          "ADBE",
          "ADBE",
          "ADBE",
          "ADBE",
          "ADBE",
          "ADBE",
          "ADBE",
          "ADBE",
          "ADBE",
          "ADBE",
          "ADBE",
          "ADBE",
          "ADBE",
          "ADBE",
          "ADBE",
          "ADBE",
          "ADBE",
          "ADBE",
          "ADBE",
          "ADBE",
          "AMZN",
          "AMZN",
          "AMZN",
          "AMZN",
          "AMZN",
          "AMZN",
          "AMZN",
          "AMZN",
          "AMZN",
          "AMZN",
          "AMZN",
          "AMZN",
          "AMZN",
          "AMZN",
          "AMZN",
          "AMZN",
          "AMZN",
          "AMZN",
          "AMZN",
          "AMZN",
          "AMZN",
          "AMZN",
          "AMZN",
          "AMZN",
          "AMZN",
          "AMZN",
          "AMZN",
          "AMZN",
          "AMZN",
          "AMZN",
          "AMZN",
          "AMZN",
          "AMZN",
          "AMZN",
          "AMZN",
          "AMZN",
          "AMZN",
          "AMZN",
          "AMZN",
          "AMZN",
          "AMZN",
          "AMZN",
          "AMZN",
          "AMZN",
          "AMZN",
          "AMZN",
          "AMZN",
          "AMZN",
          "AMZN",
          "AMZN",
          "AMZN",
          "AMZN",
          "AMZN",
          "ASML",
          "ASML",
          "ASML",
          "ASML",
          "ASML",
          "ASML",
          "ASML",
          "ASML",
          "ASML",
          "ASML",
          "ASML",
          "ASML",
          "ASML",
          "ASML",
          "ASML",
          "ASML",
          "ASML",
          "ASML",
          "ASML",
          "ASML",
          "ASML",
          "ASML",
          "ASML",
          "ASML",
          "ASML",
          "ASML",
          "ASML",
          "ASML",
          "ASML",
          "ASML",
          "ASML",
          "ASML",
          "ASML",
          "ASML",
          "ASML",
          "ASML",
          "ASML",
          "ASML",
          "ASML",
          "ASML",
          "ASML",
          "ASML",
          "ASML",
          "ASML",
          "ASML",
          "ASML",
          "ASML",
          "ASML",
          "ASML",
          "ASML",
          "ASML",
          "ASML",
          "ASML",
          "BABA",
          "BABA",
          "BABA",
          "BABA",
          "BABA",
          "BABA",
          "BABA",
          "BABA",
          "BABA",
          "BABA",
          "BABA",
          "BABA",
          "BABA",
          "BABA",
          "BABA",
          "BABA",
          "BABA",
          "BABA",
          "BABA",
          "BABA",
          "BABA",
          "BABA",
          "BABA",
          "BABA",
          "BABA",
          "BABA",
          "BABA",
          "BABA",
          "BABA",
          "BABA",
          "BABA",
          "BABA",
          "BABA",
          "BABA",
          "BABA",
          "BABA",
          "BABA",
          "BABA",
          "BABA",
          "BABA",
          "BABA",
          "BABA",
          "BABA",
          "BABA",
          "BABA",
          "BABA",
          "BABA",
          "BABA",
          "BABA",
          "BABA",
          "BABA",
          "BABA",
          "BABA",
          "BAC",
          "BAC",
          "BAC",
          "BAC",
          "BAC",
          "BAC",
          "BAC",
          "BAC",
          "BAC",
          "BAC",
          "BAC",
          "BAC",
          "BAC",
          "BAC",
          "BAC",
          "BAC",
          "BAC",
          "BAC",
          "BAC",
          "BAC",
          "BAC",
          "BAC",
          "BAC",
          "BAC",
          "BAC",
          "BAC",
          "BAC",
          "BAC",
          "BAC",
          "BAC",
          "BAC",
          "BAC",
          "BAC",
          "BAC",
          "BAC",
          "BAC",
          "BAC",
          "BAC",
          "BAC",
          "BAC",
          "BAC",
          "BAC",
          "BAC",
          "BAC",
          "BAC",
          "BAC",
          "BAC",
          "BAC",
          "BAC",
          "BAC",
          "BAC",
          "BAC",
          "BAC",
          "CMCSA",
          "CMCSA",
          "CMCSA",
          "CMCSA",
          "CMCSA",
          "CMCSA",
          "CMCSA",
          "CMCSA",
          "CMCSA",
          "CMCSA",
          "CMCSA",
          "CMCSA",
          "CMCSA",
          "CMCSA",
          "CMCSA",
          "CMCSA",
          "CMCSA",
          "CMCSA",
          "CMCSA",
          "CMCSA",
          "CMCSA",
          "CMCSA",
          "CMCSA",
          "CMCSA",
          "CMCSA",
          "CMCSA",
          "CMCSA",
          "CMCSA",
          "CMCSA",
          "CMCSA",
          "CMCSA",
          "CMCSA",
          "CMCSA",
          "CMCSA",
          "CMCSA",
          "CMCSA",
          "CMCSA",
          "CMCSA",
          "CMCSA",
          "CMCSA",
          "CMCSA",
          "CMCSA",
          "CMCSA",
          "CMCSA",
          "CMCSA",
          "CMCSA",
          "CMCSA",
          "CMCSA",
          "CMCSA",
          "CMCSA",
          "CMCSA",
          "CMCSA",
          "CMCSA",
          "COST",
          "COST",
          "COST",
          "COST",
          "COST",
          "COST",
          "COST",
          "COST",
          "COST",
          "COST",
          "COST",
          "COST",
          "COST",
          "COST",
          "COST",
          "COST",
          "COST",
          "COST",
          "COST",
          "COST",
          "COST",
          "COST",
          "COST",
          "COST",
          "COST",
          "COST",
          "COST",
          "COST",
          "COST",
          "COST",
          "COST",
          "COST",
          "COST",
          "COST",
          "COST",
          "COST",
          "COST",
          "COST",
          "COST",
          "COST",
          "COST",
          "COST",
          "COST",
          "COST",
          "COST",
          "COST",
          "COST",
          "COST",
          "COST",
          "COST",
          "COST",
          "COST",
          "COST",
          "CRM",
          "CRM",
          "CRM",
          "CRM",
          "CRM",
          "CRM",
          "CRM",
          "CRM",
          "CRM",
          "CRM",
          "CRM",
          "CRM",
          "CRM",
          "CRM",
          "CRM",
          "CRM",
          "CRM",
          "CRM",
          "CRM",
          "CRM",
          "CRM",
          "CRM",
          "CRM",
          "CRM",
          "CRM",
          "CRM",
          "CRM",
          "CRM",
          "CRM",
          "CRM",
          "CRM",
          "CRM",
          "CRM",
          "CRM",
          "CRM",
          "CRM",
          "CRM",
          "CRM",
          "CRM",
          "CRM",
          "CRM",
          "CRM",
          "CRM",
          "CRM",
          "CRM",
          "CRM",
          "CRM",
          "CRM",
          "CRM",
          "CRM",
          "CRM",
          "CRM",
          "CRM",
          "CSCO",
          "CSCO",
          "CSCO",
          "CSCO",
          "CSCO",
          "CSCO",
          "CSCO",
          "CSCO",
          "CSCO",
          "CSCO",
          "CSCO",
          "CSCO",
          "CSCO",
          "CSCO",
          "CSCO",
          "CSCO",
          "CSCO",
          "CSCO",
          "CSCO",
          "CSCO",
          "CSCO",
          "CSCO",
          "CSCO",
          "CSCO",
          "CSCO",
          "CSCO",
          "CSCO",
          "CSCO",
          "CSCO",
          "CSCO",
          "CSCO",
          "CSCO",
          "CSCO",
          "CSCO",
          "CSCO",
          "CSCO",
          "CSCO",
          "CSCO",
          "CSCO",
          "CSCO",
          "CSCO",
          "CSCO",
          "CSCO",
          "CSCO",
          "CSCO",
          "CSCO",
          "CSCO",
          "CSCO",
          "CSCO",
          "CSCO",
          "CSCO",
          "CSCO",
          "CSCO",
          "CVX",
          "CVX",
          "CVX",
          "CVX",
          "CVX",
          "CVX",
          "CVX",
          "CVX",
          "CVX",
          "CVX",
          "CVX",
          "CVX",
          "CVX",
          "CVX",
          "CVX",
          "CVX",
          "CVX",
          "CVX",
          "CVX",
          "CVX",
          "CVX",
          "CVX",
          "CVX",
          "CVX",
          "CVX",
          "CVX",
          "CVX",
          "CVX",
          "CVX",
          "CVX",
          "CVX",
          "CVX",
          "CVX",
          "CVX",
          "CVX",
          "CVX",
          "CVX",
          "CVX",
          "CVX",
          "CVX",
          "CVX",
          "CVX",
          "CVX",
          "CVX",
          "CVX",
          "CVX",
          "CVX",
          "CVX",
          "CVX",
          "CVX",
          "CVX",
          "CVX",
          "CVX",
          "DHR",
          "DHR",
          "DHR",
          "DHR",
          "DHR",
          "DHR",
          "DHR",
          "DHR",
          "DHR",
          "DHR",
          "DHR",
          "DHR",
          "DHR",
          "DHR",
          "DHR",
          "DHR",
          "DHR",
          "DHR",
          "DHR",
          "DHR",
          "DHR",
          "DHR",
          "DHR",
          "DHR",
          "DHR",
          "DHR",
          "DHR",
          "DHR",
          "DHR",
          "DHR",
          "DHR",
          "DHR",
          "DHR",
          "DHR",
          "DHR",
          "DHR",
          "DHR",
          "DHR",
          "DHR",
          "DHR",
          "DHR",
          "DHR",
          "DHR",
          "DHR",
          "DHR",
          "DHR",
          "DHR",
          "DHR",
          "DHR",
          "DHR",
          "DHR",
          "DHR",
          "DHR",
          "DIS",
          "DIS",
          "DIS",
          "DIS",
          "DIS",
          "DIS",
          "DIS",
          "DIS",
          "DIS",
          "DIS",
          "DIS",
          "DIS",
          "DIS",
          "DIS",
          "DIS",
          "DIS",
          "DIS",
          "DIS",
          "DIS",
          "DIS",
          "DIS",
          "DIS",
          "DIS",
          "DIS",
          "DIS",
          "DIS",
          "DIS",
          "DIS",
          "DIS",
          "DIS",
          "DIS",
          "DIS",
          "DIS",
          "DIS",
          "DIS",
          "DIS",
          "DIS",
          "DIS",
          "DIS",
          "DIS",
          "DIS",
          "DIS",
          "DIS",
          "DIS",
          "DIS",
          "DIS",
          "DIS",
          "DIS",
          "DIS",
          "DIS",
          "DIS",
          "DIS",
          "DIS",
          "GOOG",
          "GOOG",
          "GOOG",
          "GOOG",
          "GOOG",
          "GOOG",
          "GOOG",
          "GOOG",
          "GOOG",
          "GOOG",
          "GOOG",
          "GOOG",
          "GOOG",
          "GOOG",
          "GOOG",
          "GOOG",
          "GOOG",
          "GOOG",
          "GOOG",
          "GOOG",
          "GOOG",
          "GOOG",
          "GOOG",
          "GOOG",
          "GOOG",
          "GOOG",
          "GOOG",
          "GOOG",
          "GOOG",
          "GOOG",
          "GOOG",
          "GOOG",
          "GOOG",
          "GOOG",
          "GOOG",
          "GOOG",
          "GOOG",
          "GOOG",
          "GOOG",
          "GOOG",
          "GOOG",
          "GOOG",
          "GOOG",
          "GOOG",
          "GOOG",
          "GOOG",
          "GOOG",
          "GOOG",
          "GOOG",
          "GOOG",
          "GOOG",
          "GOOG",
          "GOOG",
          "GOOGL",
          "GOOGL",
          "GOOGL",
          "GOOGL",
          "GOOGL",
          "GOOGL",
          "GOOGL",
          "GOOGL",
          "GOOGL",
          "GOOGL",
          "GOOGL",
          "GOOGL",
          "GOOGL",
          "GOOGL",
          "GOOGL",
          "GOOGL",
          "GOOGL",
          "GOOGL",
          "GOOGL",
          "GOOGL",
          "GOOGL",
          "GOOGL",
          "GOOGL",
          "GOOGL",
          "GOOGL",
          "GOOGL",
          "GOOGL",
          "GOOGL",
          "GOOGL",
          "GOOGL",
          "GOOGL",
          "GOOGL",
          "GOOGL",
          "GOOGL",
          "GOOGL",
          "GOOGL",
          "GOOGL",
          "GOOGL",
          "GOOGL",
          "GOOGL",
          "GOOGL",
          "GOOGL",
          "GOOGL",
          "GOOGL",
          "GOOGL",
          "GOOGL",
          "GOOGL",
          "GOOGL",
          "GOOGL",
          "GOOGL",
          "GOOGL",
          "GOOGL",
          "GOOGL",
          "HD",
          "HD",
          "HD",
          "HD",
          "HD",
          "HD",
          "HD",
          "HD",
          "HD",
          "HD",
          "HD",
          "HD",
          "HD",
          "HD",
          "HD",
          "HD",
          "HD",
          "HD",
          "HD",
          "HD",
          "HD",
          "HD",
          "HD",
          "HD",
          "HD",
          "HD",
          "HD",
          "HD",
          "HD",
          "HD",
          "HD",
          "HD",
          "HD",
          "HD",
          "HD",
          "HD",
          "HD",
          "HD",
          "HD",
          "HD",
          "HD",
          "HD",
          "HD",
          "HD",
          "HD",
          "HD",
          "HD",
          "HD",
          "HD",
          "HD",
          "HD",
          "HD",
          "HD",
          "INTC",
          "INTC",
          "INTC",
          "INTC",
          "INTC",
          "INTC",
          "INTC",
          "INTC",
          "INTC",
          "INTC",
          "INTC",
          "INTC",
          "INTC",
          "INTC",
          "INTC",
          "INTC",
          "INTC",
          "INTC",
          "INTC",
          "INTC",
          "INTC",
          "INTC",
          "INTC",
          "INTC",
          "INTC",
          "INTC",
          "INTC",
          "INTC",
          "INTC",
          "INTC",
          "INTC",
          "INTC",
          "INTC",
          "INTC",
          "INTC",
          "INTC",
          "INTC",
          "INTC",
          "INTC",
          "INTC",
          "INTC",
          "INTC",
          "INTC",
          "INTC",
          "INTC",
          "INTC",
          "INTC",
          "INTC",
          "INTC",
          "INTC",
          "INTC",
          "INTC",
          "INTC",
          "JNJ",
          "JNJ",
          "JNJ",
          "JNJ",
          "JNJ",
          "JNJ",
          "JNJ",
          "JNJ",
          "JNJ",
          "JNJ",
          "JNJ",
          "JNJ",
          "JNJ",
          "JNJ",
          "JNJ",
          "JNJ",
          "JNJ",
          "JNJ",
          "JNJ",
          "JNJ",
          "JNJ",
          "JNJ",
          "JNJ",
          "JNJ",
          "JNJ",
          "JNJ",
          "JNJ",
          "JNJ",
          "JNJ",
          "JNJ",
          "JNJ",
          "JNJ",
          "JNJ",
          "JNJ",
          "JNJ",
          "JNJ",
          "JNJ",
          "JNJ",
          "JNJ",
          "JNJ",
          "JNJ",
          "JNJ",
          "JNJ",
          "JNJ",
          "JNJ",
          "JNJ",
          "JNJ",
          "JNJ",
          "JNJ",
          "JNJ",
          "JNJ",
          "JNJ",
          "JNJ",
          "JPM",
          "JPM",
          "JPM",
          "JPM",
          "JPM",
          "JPM",
          "JPM",
          "JPM",
          "JPM",
          "JPM",
          "JPM",
          "JPM",
          "JPM",
          "JPM",
          "JPM",
          "JPM",
          "JPM",
          "JPM",
          "JPM",
          "JPM",
          "JPM",
          "JPM",
          "JPM",
          "JPM",
          "JPM",
          "JPM",
          "JPM",
          "JPM",
          "JPM",
          "JPM",
          "JPM",
          "JPM",
          "JPM",
          "JPM",
          "JPM",
          "JPM",
          "JPM",
          "JPM",
          "JPM",
          "JPM",
          "JPM",
          "JPM",
          "JPM",
          "JPM",
          "JPM",
          "JPM",
          "JPM",
          "JPM",
          "JPM",
          "JPM",
          "JPM",
          "JPM",
          "JPM",
          "KO",
          "KO",
          "KO",
          "KO",
          "KO",
          "KO",
          "KO",
          "KO",
          "KO",
          "KO",
          "KO",
          "KO",
          "KO",
          "KO",
          "KO",
          "KO",
          "KO",
          "KO",
          "KO",
          "KO",
          "KO",
          "KO",
          "KO",
          "KO",
          "KO",
          "KO",
          "KO",
          "KO",
          "KO",
          "KO",
          "KO",
          "KO",
          "KO",
          "KO",
          "KO",
          "KO",
          "KO",
          "KO",
          "KO",
          "KO",
          "KO",
          "KO",
          "KO",
          "KO",
          "KO",
          "KO",
          "KO",
          "KO",
          "KO",
          "KO",
          "KO",
          "KO",
          "KO",
          "MA",
          "MA",
          "MA",
          "MA",
          "MA",
          "MA",
          "MA",
          "MA",
          "MA",
          "MA",
          "MA",
          "MA",
          "MA",
          "MA",
          "MA",
          "MA",
          "MA",
          "MA",
          "MA",
          "MA",
          "MA",
          "MA",
          "MA",
          "MA",
          "MA",
          "MA",
          "MA",
          "MA",
          "MA",
          "MA",
          "MA",
          "MA",
          "MA",
          "MA",
          "MA",
          "MA",
          "MA",
          "MA",
          "MA",
          "MA",
          "MA",
          "MA",
          "MA",
          "MA",
          "MA",
          "MA",
          "MA",
          "MA",
          "MA",
          "MA",
          "MA",
          "MA",
          "MA",
          "MCD",
          "MCD",
          "MCD",
          "MCD",
          "MCD",
          "MCD",
          "MCD",
          "MCD",
          "MCD",
          "MCD",
          "MCD",
          "MCD",
          "MCD",
          "MCD",
          "MCD",
          "MCD",
          "MCD",
          "MCD",
          "MCD",
          "MCD",
          "MCD",
          "MCD",
          "MCD",
          "MCD",
          "MCD",
          "MCD",
          "MCD",
          "MCD",
          "MCD",
          "MCD",
          "MCD",
          "MCD",
          "MCD",
          "MCD",
          "MCD",
          "MCD",
          "MCD",
          "MCD",
          "MCD",
          "MCD",
          "MCD",
          "MCD",
          "MCD",
          "MCD",
          "MCD",
          "MCD",
          "MCD",
          "MCD",
          "MCD",
          "MCD",
          "MCD",
          "MCD",
          "MCD",
          "MRK",
          "MRK",
          "MRK",
          "MRK",
          "MRK",
          "MRK",
          "MRK",
          "MRK",
          "MRK",
          "MRK",
          "MRK",
          "MRK",
          "MRK",
          "MRK",
          "MRK",
          "MRK",
          "MRK",
          "MRK",
          "MRK",
          "MRK",
          "MRK",
          "MRK",
          "MRK",
          "MRK",
          "MRK",
          "MRK",
          "MRK",
          "MRK",
          "MRK",
          "MRK",
          "MRK",
          "MRK",
          "MRK",
          "MRK",
          "MRK",
          "MRK",
          "MRK",
          "MRK",
          "MRK",
          "MRK",
          "MRK",
          "MRK",
          "MRK",
          "MRK",
          "MRK",
          "MRK",
          "MRK",
          "MRK",
          "MRK",
          "MRK",
          "MRK",
          "MRK",
          "MRK",
          "MSFT",
          "MSFT",
          "MSFT",
          "MSFT",
          "MSFT",
          "MSFT",
          "MSFT",
          "MSFT",
          "MSFT",
          "MSFT",
          "MSFT",
          "MSFT",
          "MSFT",
          "MSFT",
          "MSFT",
          "MSFT",
          "MSFT",
          "MSFT",
          "MSFT",
          "MSFT",
          "MSFT",
          "MSFT",
          "MSFT",
          "MSFT",
          "MSFT",
          "MSFT",
          "MSFT",
          "MSFT",
          "MSFT",
          "MSFT",
          "MSFT",
          "MSFT",
          "MSFT",
          "MSFT",
          "MSFT",
          "MSFT",
          "MSFT",
          "MSFT",
          "MSFT",
          "MSFT",
          "MSFT",
          "MSFT",
          "MSFT",
          "MSFT",
          "MSFT",
          "MSFT",
          "MSFT",
          "MSFT",
          "MSFT",
          "MSFT",
          "MSFT",
          "MSFT",
          "MSFT",
          "NFLX",
          "NFLX",
          "NFLX",
          "NFLX",
          "NFLX",
          "NFLX",
          "NFLX",
          "NFLX",
          "NFLX",
          "NFLX",
          "NFLX",
          "NFLX",
          "NFLX",
          "NFLX",
          "NFLX",
          "NFLX",
          "NFLX",
          "NFLX",
          "NFLX",
          "NFLX",
          "NFLX",
          "NFLX",
          "NFLX",
          "NFLX",
          "NFLX",
          "NFLX",
          "NFLX",
          "NFLX",
          "NFLX",
          "NFLX",
          "NFLX",
          "NFLX",
          "NFLX",
          "NFLX",
          "NFLX",
          "NFLX",
          "NFLX",
          "NFLX",
          "NFLX",
          "NFLX",
          "NFLX",
          "NFLX",
          "NFLX",
          "NFLX",
          "NFLX",
          "NFLX",
          "NFLX",
          "NFLX",
          "NFLX",
          "NFLX",
          "NFLX",
          "NFLX",
          "NFLX",
          "NVDA",
          "NVDA",
          "NVDA",
          "NVDA",
          "NVDA",
          "NVDA",
          "NVDA",
          "NVDA",
          "NVDA",
          "NVDA",
          "NVDA",
          "NVDA",
          "NVDA",
          "NVDA",
          "NVDA",
          "NVDA",
          "NVDA",
          "NVDA",
          "NVDA",
          "NVDA",
          "NVDA",
          "NVDA",
          "NVDA",
          "NVDA",
          "NVDA",
          "NVDA",
          "NVDA",
          "NVDA",
          "NVDA",
          "NVDA",
          "NVDA",
          "NVDA",
          "NVDA",
          "NVDA",
          "NVDA",
          "NVDA",
          "NVDA",
          "NVDA",
          "NVDA",
          "NVDA",
          "NVDA",
          "NVDA",
          "NVDA",
          "NVDA",
          "NVDA",
          "NVDA",
          "NVDA",
          "NVDA",
          "NVDA",
          "NVDA",
          "NVDA",
          "NVDA",
          "NVDA",
          "NVS",
          "NVS",
          "NVS",
          "NVS",
          "NVS",
          "NVS",
          "NVS",
          "NVS",
          "NVS",
          "NVS",
          "NVS",
          "NVS",
          "NVS",
          "NVS",
          "NVS",
          "NVS",
          "NVS",
          "NVS",
          "NVS",
          "NVS",
          "NVS",
          "NVS",
          "NVS",
          "NVS",
          "NVS",
          "NVS",
          "NVS",
          "NVS",
          "NVS",
          "NVS",
          "NVS",
          "NVS",
          "NVS",
          "NVS",
          "NVS",
          "NVS",
          "NVS",
          "NVS",
          "NVS",
          "NVS",
          "NVS",
          "NVS",
          "NVS",
          "NVS",
          "NVS",
          "NVS",
          "NVS",
          "NVS",
          "NVS",
          "NVS",
          "NVS",
          "NVS",
          "NVS",
          "ORCL",
          "ORCL",
          "ORCL",
          "ORCL",
          "ORCL",
          "ORCL",
          "ORCL",
          "ORCL",
          "ORCL",
          "ORCL",
          "ORCL",
          "ORCL",
          "ORCL",
          "ORCL",
          "ORCL",
          "ORCL",
          "ORCL",
          "ORCL",
          "ORCL",
          "ORCL",
          "ORCL",
          "ORCL",
          "ORCL",
          "ORCL",
          "ORCL",
          "ORCL",
          "ORCL",
          "ORCL",
          "ORCL",
          "ORCL",
          "ORCL",
          "ORCL",
          "ORCL",
          "ORCL",
          "ORCL",
          "ORCL",
          "ORCL",
          "ORCL",
          "ORCL",
          "ORCL",
          "ORCL",
          "ORCL",
          "ORCL",
          "ORCL",
          "ORCL",
          "ORCL",
          "ORCL",
          "ORCL",
          "ORCL",
          "ORCL",
          "ORCL",
          "ORCL",
          "ORCL",
          "PDD",
          "PDD",
          "PDD",
          "PDD",
          "PDD",
          "PDD",
          "PDD",
          "PDD",
          "PDD",
          "PDD",
          "PDD",
          "PDD",
          "PDD",
          "PDD",
          "PDD",
          "PDD",
          "PDD",
          "PDD",
          "PDD",
          "PDD",
          "PDD",
          "PDD",
          "PDD",
          "PDD",
          "PDD",
          "PDD",
          "PDD",
          "PDD",
          "PDD",
          "PDD",
          "PDD",
          "PDD",
          "PDD",
          "PDD",
          "PDD",
          "PDD",
          "PDD",
          "PDD",
          "PDD",
          "PDD",
          "PDD",
          "PDD",
          "PDD",
          "PDD",
          "PDD",
          "PDD",
          "PDD",
          "PDD",
          "PDD",
          "PDD",
          "PDD",
          "PDD",
          "PDD",
          "PEP",
          "PEP",
          "PEP",
          "PEP",
          "PEP",
          "PEP",
          "PEP",
          "PEP",
          "PEP",
          "PEP",
          "PEP",
          "PEP",
          "PEP",
          "PEP",
          "PEP",
          "PEP",
          "PEP",
          "PEP",
          "PEP",
          "PEP",
          "PEP",
          "PEP",
          "PEP",
          "PEP",
          "PEP",
          "PEP",
          "PEP",
          "PEP",
          "PEP",
          "PEP",
          "PEP",
          "PEP",
          "PEP",
          "PEP",
          "PEP",
          "PEP",
          "PEP",
          "PEP",
          "PEP",
          "PEP",
          "PEP",
          "PEP",
          "PEP",
          "PEP",
          "PEP",
          "PEP",
          "PEP",
          "PEP",
          "PEP",
          "PEP",
          "PEP",
          "PEP",
          "PEP",
          "PFE",
          "PFE",
          "PFE",
          "PFE",
          "PFE",
          "PFE",
          "PFE",
          "PFE",
          "PFE",
          "PFE",
          "PFE",
          "PFE",
          "PFE",
          "PFE",
          "PFE",
          "PFE",
          "PFE",
          "PFE",
          "PFE",
          "PFE",
          "PFE",
          "PFE",
          "PFE",
          "PFE",
          "PFE",
          "PFE",
          "PFE",
          "PFE",
          "PFE",
          "PFE",
          "PFE",
          "PFE",
          "PFE",
          "PFE",
          "PFE",
          "PFE",
          "PFE",
          "PFE",
          "PFE",
          "PFE",
          "PFE",
          "PFE",
          "PFE",
          "PFE",
          "PFE",
          "PFE",
          "PFE",
          "PFE",
          "PFE",
          "PFE",
          "PFE",
          "PFE",
          "PFE",
          "PG",
          "PG",
          "PG",
          "PG",
          "PG",
          "PG",
          "PG",
          "PG",
          "PG",
          "PG",
          "PG",
          "PG",
          "PG",
          "PG",
          "PG",
          "PG",
          "PG",
          "PG",
          "PG",
          "PG",
          "PG",
          "PG",
          "PG",
          "PG",
          "PG",
          "PG",
          "PG",
          "PG",
          "PG",
          "PG",
          "PG",
          "PG",
          "PG",
          "PG",
          "PG",
          "PG",
          "PG",
          "PG",
          "PG",
          "PG",
          "PG",
          "PG",
          "PG",
          "PG",
          "PG",
          "PG",
          "PG",
          "PG",
          "PG",
          "PG",
          "PG",
          "PG",
          "PG",
          "PYPL",
          "PYPL",
          "PYPL",
          "PYPL",
          "PYPL",
          "PYPL",
          "PYPL",
          "PYPL",
          "PYPL",
          "PYPL",
          "PYPL",
          "PYPL",
          "PYPL",
          "PYPL",
          "PYPL",
          "PYPL",
          "PYPL",
          "PYPL",
          "PYPL",
          "PYPL",
          "PYPL",
          "PYPL",
          "PYPL",
          "PYPL",
          "PYPL",
          "PYPL",
          "PYPL",
          "PYPL",
          "PYPL",
          "PYPL",
          "PYPL",
          "PYPL",
          "PYPL",
          "PYPL",
          "PYPL",
          "PYPL",
          "PYPL",
          "PYPL",
          "PYPL",
          "PYPL",
          "PYPL",
          "PYPL",
          "PYPL",
          "PYPL",
          "PYPL",
          "PYPL",
          "PYPL",
          "PYPL",
          "PYPL",
          "PYPL",
          "PYPL",
          "PYPL",
          "PYPL",
          "T",
          "T",
          "T",
          "T",
          "T",
          "T",
          "T",
          "T",
          "T",
          "T",
          "T",
          "T",
          "T",
          "T",
          "T",
          "T",
          "T",
          "T",
          "T",
          "T",
          "T",
          "T",
          "T",
          "T",
          "T",
          "T",
          "T",
          "T",
          "T",
          "T",
          "T",
          "T",
          "T",
          "T",
          "T",
          "T",
          "T",
          "T",
          "T",
          "T",
          "T",
          "T",
          "T",
          "T",
          "T",
          "T",
          "T",
          "T",
          "T",
          "T",
          "T",
          "T",
          "T",
          "TM",
          "TM",
          "TM",
          "TM",
          "TM",
          "TM",
          "TM",
          "TM",
          "TM",
          "TM",
          "TM",
          "TM",
          "TM",
          "TM",
          "TM",
          "TM",
          "TM",
          "TM",
          "TM",
          "TM",
          "TM",
          "TM",
          "TM",
          "TM",
          "TM",
          "TM",
          "TM",
          "TM",
          "TM",
          "TM",
          "TM",
          "TM",
          "TM",
          "TM",
          "TM",
          "TM",
          "TM",
          "TM",
          "TM",
          "TM",
          "TM",
          "TM",
          "TM",
          "TM",
          "TM",
          "TM",
          "TM",
          "TM",
          "TM",
          "TM",
          "TM",
          "TM",
          "TM",
          "TMO",
          "TMO",
          "TMO",
          "TMO",
          "TMO",
          "TMO",
          "TMO",
          "TMO",
          "TMO",
          "TMO",
          "TMO",
          "TMO",
          "TMO",
          "TMO",
          "TMO",
          "TMO",
          "TMO",
          "TMO",
          "TMO",
          "TMO",
          "TMO",
          "TMO",
          "TMO",
          "TMO",
          "TMO",
          "TMO",
          "TMO",
          "TMO",
          "TMO",
          "TMO",
          "TMO",
          "TMO",
          "TMO",
          "TMO",
          "TMO",
          "TMO",
          "TMO",
          "TMO",
          "TMO",
          "TMO",
          "TMO",
          "TMO",
          "TMO",
          "TMO",
          "TMO",
          "TMO",
          "TMO",
          "TMO",
          "TMO",
          "TMO",
          "TMO",
          "TMO",
          "TMO",
          "TMUS",
          "TMUS",
          "TMUS",
          "TMUS",
          "TMUS",
          "TMUS",
          "TMUS",
          "TMUS",
          "TMUS",
          "TMUS",
          "TMUS",
          "TMUS",
          "TMUS",
          "TMUS",
          "TMUS",
          "TMUS",
          "TMUS",
          "TMUS",
          "TMUS",
          "TMUS",
          "TMUS",
          "TMUS",
          "TMUS",
          "TMUS",
          "TMUS",
          "TMUS",
          "TMUS",
          "TMUS",
          "TMUS",
          "TMUS",
          "TMUS",
          "TMUS",
          "TMUS",
          "TMUS",
          "TMUS",
          "TMUS",
          "TMUS",
          "TMUS",
          "TMUS",
          "TMUS",
          "TMUS",
          "TMUS",
          "TMUS",
          "TMUS",
          "TMUS",
          "TMUS",
          "TMUS",
          "TMUS",
          "TMUS",
          "TMUS",
          "TMUS",
          "TMUS",
          "TMUS",
          "TSLA",
          "TSLA",
          "TSLA",
          "TSLA",
          "TSLA",
          "TSLA",
          "TSLA",
          "TSLA",
          "TSLA",
          "TSLA",
          "TSLA",
          "TSLA",
          "TSLA",
          "TSLA",
          "TSLA",
          "TSLA",
          "TSLA",
          "TSLA",
          "TSLA",
          "TSLA",
          "TSLA",
          "TSLA",
          "TSLA",
          "TSLA",
          "TSLA",
          "TSLA",
          "TSLA",
          "TSLA",
          "TSLA",
          "TSLA",
          "TSLA",
          "TSLA",
          "TSLA",
          "TSLA",
          "TSLA",
          "TSLA",
          "TSLA",
          "TSLA",
          "TSLA",
          "TSLA",
          "TSLA",
          "TSLA",
          "TSLA",
          "TSLA",
          "TSLA",
          "TSLA",
          "TSLA",
          "TSLA",
          "TSLA",
          "TSLA",
          "TSLA",
          "TSLA",
          "TSLA",
          "TSM",
          "TSM",
          "TSM",
          "TSM",
          "TSM",
          "TSM",
          "TSM",
          "TSM",
          "TSM",
          "TSM",
          "TSM",
          "TSM",
          "TSM",
          "TSM",
          "TSM",
          "TSM",
          "TSM",
          "TSM",
          "TSM",
          "TSM",
          "TSM",
          "TSM",
          "TSM",
          "TSM",
          "TSM",
          "TSM",
          "TSM",
          "TSM",
          "TSM",
          "TSM",
          "TSM",
          "TSM",
          "TSM",
          "TSM",
          "TSM",
          "TSM",
          "TSM",
          "TSM",
          "TSM",
          "TSM",
          "TSM",
          "TSM",
          "TSM",
          "TSM",
          "TSM",
          "TSM",
          "TSM",
          "TSM",
          "TSM",
          "TSM",
          "TSM",
          "TSM",
          "TSM",
          "UN",
          "UN",
          "UN",
          "UN",
          "UN",
          "UN",
          "UN",
          "UN",
          "UN",
          "UN",
          "UN",
          "UN",
          "UN",
          "UN",
          "UN",
          "UN",
          "UN",
          "UN",
          "UN",
          "UN",
          "UN",
          "UN",
          "UN",
          "UN",
          "UN",
          "UN",
          "UN",
          "UN",
          "UN",
          "UN",
          "UN",
          "UN",
          "UN",
          "UN",
          "UN",
          "UN",
          "UN",
          "UN",
          "UN",
          "UN",
          "UN",
          "UN",
          "UN",
          "UN",
          "UN",
          "UN",
          "UN",
          "UN",
          "UN",
          "UN",
          "UN",
          "UN",
          "UN",
          "UNH",
          "UNH",
          "UNH",
          "UNH",
          "UNH",
          "UNH",
          "UNH",
          "UNH",
          "UNH",
          "UNH",
          "UNH",
          "UNH",
          "UNH",
          "UNH",
          "UNH",
          "UNH",
          "UNH",
          "UNH",
          "UNH",
          "UNH",
          "UNH",
          "UNH",
          "UNH",
          "UNH",
          "UNH",
          "UNH",
          "UNH",
          "UNH",
          "UNH",
          "UNH",
          "UNH",
          "UNH",
          "UNH",
          "UNH",
          "UNH",
          "UNH",
          "UNH",
          "UNH",
          "UNH",
          "UNH",
          "UNH",
          "UNH",
          "UNH",
          "UNH",
          "UNH",
          "UNH",
          "UNH",
          "UNH",
          "UNH",
          "UNH",
          "UNH",
          "UNH",
          "UNH",
          "VZ",
          "VZ",
          "VZ",
          "VZ",
          "VZ",
          "VZ",
          "VZ",
          "VZ",
          "VZ",
          "VZ",
          "VZ",
          "VZ",
          "VZ",
          "VZ",
          "VZ",
          "VZ",
          "VZ",
          "VZ",
          "VZ",
          "VZ",
          "VZ",
          "VZ",
          "VZ",
          "VZ",
          "VZ",
          "VZ",
          "VZ",
          "VZ",
          "VZ",
          "VZ",
          "VZ",
          "VZ",
          "VZ",
          "VZ",
          "VZ",
          "VZ",
          "VZ",
          "VZ",
          "VZ",
          "VZ",
          "VZ",
          "VZ",
          "VZ",
          "VZ",
          "VZ",
          "VZ",
          "VZ",
          "VZ",
          "VZ",
          "VZ",
          "VZ",
          "VZ",
          "VZ",
          "WMT",
          "WMT",
          "WMT",
          "WMT",
          "WMT",
          "WMT",
          "WMT",
          "WMT",
          "WMT",
          "WMT",
          "WMT",
          "WMT",
          "WMT",
          "WMT",
          "WMT",
          "WMT",
          "WMT",
          "WMT",
          "WMT",
          "WMT",
          "WMT",
          "WMT",
          "WMT",
          "WMT",
          "WMT",
          "WMT",
          "WMT",
          "WMT",
          "WMT",
          "WMT",
          "WMT",
          "WMT",
          "WMT",
          "WMT",
          "WMT",
          "WMT",
          "WMT",
          "WMT",
          "WMT",
          "WMT",
          "WMT",
          "WMT",
          "WMT",
          "WMT",
          "WMT",
          "WMT",
          "WMT",
          "WMT",
          "WMT",
          "WMT",
          "WMT",
          "WMT",
          "WMT"
         ],
         "x0": " ",
         "xaxis": "x",
         "y": [
          null,
          null,
          null,
          null,
          null,
          null,
          null,
          null,
          null,
          null,
          null,
          null,
          null,
          null,
          null,
          null,
          null,
          null,
          null,
          null,
          null,
          null,
          null,
          null,
          null,
          null,
          null,
          null,
          null,
          null,
          null,
          null,
          null,
          0.2571428571428571,
          null,
          null,
          null,
          null,
          null,
          null,
          null,
          null,
          null,
          null,
          0.16,
          null,
          0.24285714285714285,
          null,
          null,
          0.1403799903799904,
          0.19214749536178105,
          null,
          null,
          null,
          null,
          null,
          null,
          null,
          null,
          null,
          null,
          null,
          null,
          null,
          null,
          null,
          null,
          null,
          null,
          null,
          null,
          null,
          null,
          null,
          null,
          null,
          0.35,
          null,
          null,
          0.1,
          0.12222222222222223,
          null,
          null,
          null,
          null,
          null,
          null,
          null,
          null,
          0.15,
          0.25,
          null,
          null,
          0.05,
          null,
          null,
          null,
          0.12384259259259263,
          -0.16666666666666666,
          0.2393939393939394,
          0.23042929292929293,
          0.2866666666666666,
          null,
          null,
          null,
          null,
          null,
          null,
          null,
          null,
          null,
          null,
          null,
          null,
          null,
          null,
          null,
          null,
          null,
          null,
          null,
          null,
          null,
          null,
          null,
          null,
          null,
          null,
          null,
          null,
          null,
          null,
          null,
          null,
          0.25,
          null,
          null,
          null,
          null,
          null,
          null,
          null,
          null,
          null,
          null,
          null,
          null,
          null,
          -0.08560606060606057,
          -0.1,
          0.07363636363636364,
          -0.15833333333333333,
          null,
          0.10000000000000002,
          6.938893903907228e-18,
          0.06818181818181818,
          0.25,
          null,
          null,
          null,
          null,
          null,
          0.0625,
          null,
          null,
          null,
          null,
          null,
          null,
          null,
          null,
          null,
          null,
          null,
          0.6,
          null,
          null,
          null,
          null,
          null,
          null,
          null,
          null,
          null,
          null,
          null,
          null,
          null,
          null,
          null,
          null,
          null,
          null,
          null,
          null,
          null,
          null,
          null,
          null,
          null,
          null,
          null,
          null,
          null,
          null,
          0.07,
          0.21666666666666667,
          0.275,
          0.25,
          null,
          null,
          null,
          null,
          null,
          null,
          null,
          null,
          null,
          null,
          null,
          null,
          null,
          null,
          null,
          null,
          null,
          null,
          null,
          null,
          null,
          null,
          null,
          null,
          null,
          null,
          null,
          null,
          null,
          null,
          null,
          null,
          null,
          null,
          null,
          null,
          null,
          null,
          null,
          null,
          null,
          null,
          null,
          null,
          null,
          null,
          null,
          0.3666666666666667,
          -0.6,
          -0.21547619047619046,
          null,
          null,
          0.06906565656565657,
          0.21656862745098038,
          null,
          null,
          null,
          0.06818181818181818,
          0.0037878787878787845,
          null,
          0.13636363636363635,
          null,
          null,
          null,
          null,
          null,
          null,
          null,
          null,
          null,
          null,
          null,
          null,
          null,
          null,
          null,
          null,
          null,
          null,
          null,
          null,
          null,
          null,
          null,
          null,
          null,
          null,
          null,
          0.28769841269841273,
          0.43333333333333335,
          null,
          null,
          0.13636363636363635,
          null,
          0.25,
          null,
          null,
          0.65,
          null,
          0.17532467532467533,
          0.06818181818181818,
          0.7,
          0.06818181818181818,
          -0.03787878787878788,
          null,
          0.15,
          null,
          null,
          null,
          null,
          null,
          null,
          null,
          null,
          null,
          null,
          null,
          null,
          null,
          null,
          null,
          null,
          null,
          null,
          null,
          null,
          null,
          null,
          null,
          null,
          null,
          null,
          null,
          null,
          null,
          null,
          -0.03571428571428571,
          null,
          null,
          null,
          null,
          null,
          null,
          null,
          0.13636363636363635,
          0.15,
          null,
          null,
          null,
          null,
          null,
          null,
          null,
          0.5,
          null,
          null,
          0.28030303030303033,
          0.23333333333333334,
          0.020634920634920634,
          0.1024090909090909,
          null,
          null,
          null,
          null,
          null,
          null,
          null,
          null,
          null,
          null,
          null,
          null,
          null,
          null,
          null,
          null,
          null,
          null,
          null,
          null,
          null,
          null,
          null,
          null,
          null,
          0.25,
          null,
          null,
          0.3181818181818182,
          null,
          null,
          null,
          null,
          null,
          null,
          null,
          null,
          0.4,
          null,
          null,
          null,
          null,
          null,
          null,
          null,
          null,
          null,
          null,
          null,
          null,
          null,
          -0.005656565656565659,
          0.4642857142857143,
          null,
          null,
          null,
          null,
          null,
          null,
          null,
          null,
          null,
          null,
          null,
          null,
          null,
          null,
          null,
          null,
          null,
          null,
          null,
          null,
          null,
          null,
          null,
          null,
          0.375,
          -0.05,
          null,
          null,
          null,
          null,
          null,
          null,
          null,
          null,
          null,
          null,
          null,
          null,
          null,
          0.0047619047619047545,
          null,
          null,
          null,
          null,
          null,
          null,
          null,
          null,
          null,
          null,
          0.13333333333333333,
          -0.02677616501145913,
          0.16818181818181818,
          null,
          null,
          null,
          null,
          null,
          null,
          null,
          null,
          null,
          null,
          null,
          null,
          null,
          null,
          null,
          null,
          null,
          0.3875,
          null,
          null,
          null,
          null,
          null,
          null,
          0.11249999999999999,
          null,
          null,
          null,
          null,
          null,
          null,
          null,
          null,
          null,
          null,
          null,
          null,
          null,
          null,
          null,
          null,
          null,
          null,
          null,
          null,
          null,
          null,
          null,
          0.3181818181818182,
          0.2305194805194805,
          null,
          0.37013888888888885,
          0.059848484848484845,
          null,
          null,
          null,
          null,
          null,
          null,
          null,
          null,
          null,
          null,
          null,
          null,
          null,
          null,
          null,
          0.06818181818181818,
          null,
          null,
          null,
          null,
          null,
          null,
          null,
          null,
          null,
          null,
          null,
          null,
          null,
          0.1875,
          null,
          null,
          null,
          null,
          null,
          null,
          null,
          null,
          null,
          null,
          0.19999999999999998,
          null,
          null,
          -0.09999999999999999,
          null,
          0.38541666666666663,
          null,
          null,
          null,
          null,
          0.11363636363636363,
          0.14820913213770356,
          null,
          null,
          null,
          null,
          null,
          null,
          null,
          null,
          null,
          null,
          null,
          null,
          null,
          null,
          null,
          null,
          null,
          null,
          null,
          null,
          null,
          null,
          null,
          null,
          null,
          null,
          null,
          null,
          null,
          null,
          null,
          null,
          null,
          null,
          null,
          null,
          null,
          null,
          null,
          null,
          null,
          0.13636363636363635,
          null,
          null,
          0.375,
          null,
          -0.1,
          0.10714285714285714,
          0.10714285714285714,
          0.13636363636363635,
          0.12181818181818183,
          0.19285714285714287,
          0.1888257575757576,
          0.36666666666666664,
          null,
          null,
          null,
          null,
          null,
          null,
          null,
          null,
          null,
          null,
          null,
          null,
          null,
          null,
          null,
          null,
          null,
          0.44999999999999996,
          null,
          null,
          null,
          null,
          null,
          null,
          null,
          0.5166666666666667,
          null,
          null,
          null,
          null,
          null,
          null,
          null,
          null,
          null,
          null,
          null,
          null,
          null,
          null,
          null,
          null,
          null,
          null,
          null,
          null,
          0.3,
          null,
          null,
          0.4,
          -0.17276785714285714,
          0.15876015797068432,
          0.16999999999999998,
          null,
          null,
          null,
          null,
          null,
          null,
          null,
          null,
          null,
          null,
          null,
          null,
          null,
          null,
          null,
          null,
          null,
          null,
          null,
          null,
          null,
          null,
          null,
          null,
          null,
          null,
          null,
          0.5,
          null,
          null,
          null,
          null,
          null,
          null,
          0.25,
          0.0909090909090909,
          0.3,
          null,
          null,
          null,
          null,
          null,
          null,
          null,
          null,
          0.06818181818181818,
          -0.1,
          0.28125,
          null,
          null,
          0.26666666666666666,
          null,
          0.25,
          null,
          null,
          null,
          null,
          null,
          null,
          null,
          null,
          null,
          null,
          null,
          null,
          null,
          null,
          null,
          null,
          null,
          null,
          null,
          null,
          null,
          null,
          null,
          null,
          null,
          null,
          null,
          null,
          null,
          null,
          null,
          null,
          null,
          null,
          null,
          null,
          0.5136363636363637,
          1,
          null,
          null,
          null,
          null,
          null,
          null,
          null,
          null,
          null,
          null,
          null,
          null,
          null,
          0.5,
          0.07358080808080808,
          null,
          null,
          null,
          null,
          null,
          null,
          null,
          null,
          null,
          null,
          null,
          null,
          null,
          null,
          null,
          null,
          null,
          null,
          null,
          null,
          null,
          null,
          null,
          null,
          null,
          null,
          null,
          null,
          null,
          null,
          null,
          null,
          null,
          null,
          null,
          null,
          null,
          null,
          null,
          null,
          null,
          null,
          null,
          null,
          null,
          null,
          null,
          null,
          0.4,
          0.665625,
          null,
          0.4211309523809524,
          0.16385796742939598,
          null,
          null,
          null,
          null,
          null,
          null,
          null,
          null,
          null,
          null,
          null,
          null,
          null,
          null,
          null,
          null,
          null,
          null,
          null,
          null,
          null,
          null,
          null,
          null,
          null,
          null,
          null,
          null,
          null,
          null,
          null,
          null,
          null,
          null,
          null,
          null,
          null,
          null,
          null,
          null,
          null,
          null,
          null,
          null,
          null,
          null,
          null,
          null,
          0.4,
          0.665625,
          null,
          0.6071428571428571,
          0.15196452098626012,
          null,
          null,
          null,
          null,
          null,
          null,
          null,
          null,
          null,
          null,
          null,
          null,
          null,
          null,
          null,
          null,
          null,
          null,
          0.5,
          null,
          null,
          null,
          -0.15000000000000002,
          null,
          null,
          null,
          null,
          null,
          null,
          null,
          null,
          0.16477272727272727,
          null,
          null,
          null,
          null,
          null,
          null,
          null,
          null,
          null,
          null,
          null,
          null,
          null,
          null,
          null,
          -0.05,
          0.26250000000000007,
          0.05909090909090908,
          0.4819444444444444,
          0.06997354497354497,
          null,
          null,
          null,
          null,
          null,
          null,
          null,
          null,
          null,
          null,
          null,
          null,
          null,
          null,
          null,
          null,
          null,
          null,
          null,
          null,
          null,
          null,
          null,
          null,
          null,
          null,
          null,
          null,
          null,
          null,
          null,
          0.21212121212121213,
          null,
          null,
          null,
          null,
          null,
          null,
          null,
          null,
          null,
          null,
          null,
          null,
          null,
          null,
          null,
          null,
          null,
          null,
          null,
          0.17988215488215487,
          0.047011784511784505,
          0.18407828282828284,
          null,
          null,
          null,
          null,
          null,
          null,
          null,
          null,
          null,
          null,
          null,
          null,
          null,
          null,
          null,
          null,
          null,
          null,
          null,
          null,
          null,
          null,
          null,
          null,
          null,
          null,
          null,
          null,
          null,
          null,
          null,
          null,
          null,
          null,
          null,
          null,
          null,
          null,
          null,
          null,
          null,
          null,
          0.5,
          null,
          null,
          null,
          null,
          null,
          null,
          null,
          null,
          null,
          0.16687799043062201,
          null,
          null,
          null,
          null,
          null,
          null,
          null,
          null,
          null,
          null,
          null,
          null,
          null,
          null,
          null,
          null,
          null,
          null,
          null,
          null,
          null,
          null,
          null,
          null,
          -0.02500000000000001,
          null,
          null,
          null,
          null,
          null,
          null,
          null,
          null,
          -0.1,
          -0.07500000000000001,
          0.1,
          null,
          null,
          -0.13333333333333333,
          null,
          null,
          null,
          null,
          null,
          null,
          null,
          -0.015151515151515152,
          null,
          null,
          0.5,
          null,
          0.07614237614237614,
          0.171900826446281,
          null,
          null,
          null,
          null,
          null,
          null,
          null,
          null,
          null,
          null,
          null,
          null,
          null,
          null,
          null,
          null,
          null,
          null,
          null,
          null,
          null,
          null,
          null,
          null,
          null,
          null,
          null,
          null,
          null,
          null,
          null,
          null,
          null,
          null,
          0.375,
          null,
          null,
          null,
          null,
          null,
          null,
          null,
          null,
          null,
          null,
          0.06818181818181818,
          null,
          null,
          null,
          -0.06060606060606061,
          0.18219696969696966,
          0.35401515151515156,
          null,
          null,
          null,
          null,
          null,
          null,
          null,
          null,
          null,
          null,
          null,
          null,
          null,
          null,
          null,
          null,
          null,
          null,
          null,
          null,
          null,
          null,
          null,
          null,
          null,
          null,
          null,
          null,
          null,
          null,
          null,
          null,
          null,
          null,
          null,
          null,
          null,
          0.25,
          null,
          null,
          0.13333333333333333,
          null,
          null,
          null,
          null,
          null,
          null,
          0.05,
          -0.12708333333333333,
          0.2333333333333333,
          0.1400462962962963,
          0.050520833333333334,
          null,
          0.4047619047619048,
          null,
          null,
          null,
          null,
          null,
          null,
          null,
          null,
          null,
          null,
          null,
          null,
          null,
          null,
          null,
          null,
          null,
          null,
          0.1,
          null,
          0.14545454545454548,
          null,
          0.16944444444444443,
          0.5,
          0.09999999999999999,
          null,
          null,
          null,
          null,
          null,
          null,
          null,
          null,
          null,
          null,
          null,
          null,
          null,
          -0.25,
          null,
          null,
          null,
          null,
          null,
          null,
          0.13636363636363635,
          null,
          null,
          null,
          null,
          -0.052777777777777785,
          -0.19399621212121212,
          0.25,
          null,
          null,
          null,
          null,
          null,
          null,
          null,
          null,
          null,
          null,
          null,
          null,
          null,
          null,
          null,
          null,
          null,
          null,
          null,
          null,
          null,
          null,
          null,
          null,
          0.1,
          null,
          null,
          null,
          null,
          0.16363636363636364,
          0.3,
          null,
          null,
          null,
          null,
          null,
          null,
          null,
          -0.05,
          null,
          null,
          null,
          -0.2,
          null,
          null,
          null,
          null,
          -0.1,
          0.03749999999999999,
          -0.01818181818181819,
          0.06679894179894179,
          0.07142857142857144,
          -0.017857142857142863,
          null,
          null,
          null,
          null,
          null,
          null,
          null,
          null,
          null,
          null,
          null,
          null,
          null,
          null,
          null,
          null,
          null,
          null,
          null,
          null,
          null,
          null,
          null,
          null,
          null,
          null,
          null,
          null,
          null,
          null,
          null,
          null,
          null,
          null,
          null,
          null,
          null,
          null,
          null,
          null,
          null,
          null,
          null,
          null,
          null,
          null,
          null,
          null,
          0.1,
          0.18484848484848482,
          null,
          0.19932659932659932,
          0.21037731208185753,
          null,
          null,
          null,
          null,
          null,
          null,
          null,
          null,
          null,
          null,
          null,
          null,
          null,
          null,
          null,
          null,
          null,
          null,
          null,
          null,
          null,
          null,
          null,
          null,
          null,
          null,
          null,
          null,
          null,
          0.06818181818181818,
          null,
          null,
          null,
          null,
          null,
          null,
          -0.05,
          null,
          null,
          null,
          null,
          null,
          null,
          null,
          null,
          null,
          null,
          null,
          0.05,
          null,
          null,
          0.025541125541125555,
          0.18174469563358453,
          null,
          null,
          null,
          null,
          null,
          null,
          null,
          null,
          null,
          null,
          null,
          null,
          null,
          null,
          null,
          null,
          null,
          null,
          null,
          null,
          null,
          null,
          null,
          null,
          null,
          null,
          null,
          null,
          null,
          -0.1,
          0.17424242424242425,
          null,
          null,
          null,
          null,
          null,
          null,
          null,
          null,
          null,
          null,
          null,
          null,
          null,
          null,
          0.04166666666666667,
          null,
          null,
          null,
          0.21428571428571427,
          0.38888888888888884,
          -0.16388888888888895,
          0.24784090909090908,
          null,
          null,
          null,
          null,
          null,
          null,
          null,
          null,
          null,
          null,
          null,
          null,
          null,
          null,
          null,
          null,
          null,
          null,
          null,
          null,
          null,
          null,
          null,
          null,
          null,
          null,
          null,
          null,
          null,
          null,
          null,
          null,
          null,
          null,
          null,
          null,
          null,
          null,
          null,
          -0.075,
          null,
          0.25,
          null,
          0.3,
          null,
          null,
          null,
          0.7,
          0.20547979797979798,
          0.2398148148148148,
          null,
          0.08090132090132089,
          null,
          null,
          null,
          null,
          null,
          null,
          null,
          null,
          null,
          null,
          null,
          null,
          null,
          null,
          null,
          null,
          null,
          null,
          null,
          null,
          null,
          null,
          null,
          null,
          null,
          null,
          null,
          null,
          null,
          null,
          null,
          null,
          -0.1,
          null,
          null,
          0.3181818181818182,
          null,
          0.13636363636363635,
          null,
          null,
          0.13636363636363635,
          null,
          null,
          null,
          null,
          null,
          null,
          null,
          null,
          null,
          -0.21666666666666665,
          0.00714285714285715,
          -0.5,
          null,
          null,
          null,
          null,
          null,
          null,
          null,
          null,
          0.35,
          0.13636363636363635,
          null,
          0.1481818181818182,
          null,
          null,
          null,
          0.06818181818181818,
          null,
          null,
          null,
          null,
          null,
          null,
          null,
          null,
          null,
          null,
          null,
          null,
          null,
          null,
          null,
          null,
          null,
          null,
          null,
          null,
          null,
          null,
          null,
          null,
          -0.6,
          0.5,
          null,
          null,
          null,
          null,
          null,
          null,
          0.25,
          0.3125,
          0.05013144263144263,
          0.06022727272727273,
          0.15,
          null,
          null,
          null,
          null,
          null,
          null,
          null,
          null,
          null,
          null,
          null,
          null,
          null,
          null,
          null,
          null,
          null,
          null,
          null,
          null,
          null,
          null,
          null,
          null,
          null,
          null,
          null,
          null,
          null,
          null,
          -0.08333333333333333,
          -0.16666666666666666,
          null,
          null,
          null,
          null,
          -0.015151515151515152,
          0.4444444444444444,
          null,
          null,
          null,
          null,
          0.13636363636363635,
          null,
          null,
          null,
          0.11161616161616161,
          null,
          null,
          0.20166666666666666,
          0.19494949494949496,
          0.016883116883116885,
          0.03333333333333333,
          null,
          null,
          null,
          null,
          null,
          null,
          null,
          null,
          null,
          null,
          null,
          null,
          null,
          null,
          null,
          null,
          null,
          null,
          null,
          null,
          null,
          null,
          null,
          null,
          null,
          null,
          null,
          null,
          null,
          null,
          null,
          null,
          null,
          null,
          null,
          null,
          null,
          null,
          null,
          null,
          null,
          null,
          null,
          null,
          null,
          null,
          null,
          0.3,
          0.06818181818181818,
          0.36189393939393943,
          null,
          null,
          0.3190476190476191,
          0.16124242424242427,
          null,
          null,
          null,
          null,
          null,
          null,
          null,
          null,
          null,
          null,
          null,
          null,
          null,
          null,
          null,
          null,
          null,
          null,
          null,
          null,
          null,
          null,
          null,
          null,
          null,
          null,
          null,
          null,
          null,
          0.125,
          null,
          null,
          null,
          null,
          null,
          null,
          null,
          null,
          0.15,
          null,
          null,
          null,
          null,
          0.37142857142857144,
          null,
          0.011882716049382708,
          0.18825757575757576,
          null,
          null,
          0.06419753086419755,
          -0.15,
          0.35,
          null,
          null,
          null,
          null,
          null,
          null,
          null,
          null,
          null,
          null,
          null,
          null,
          null,
          null,
          null,
          null,
          null,
          null,
          null,
          null,
          null,
          null,
          null,
          null,
          null,
          0.10378787878787878,
          null,
          null,
          null,
          null,
          0.65,
          null,
          0.125,
          null,
          null,
          null,
          null,
          0.5,
          null,
          null,
          null,
          null,
          null,
          null,
          null,
          null,
          null,
          0.5,
          null,
          null,
          null,
          null,
          0.13676353535353533,
          0.2912037037037037,
          null,
          null,
          null,
          null,
          null,
          null,
          null,
          null,
          null,
          null,
          null,
          null,
          null,
          null,
          null,
          null,
          null,
          null,
          null,
          null,
          null,
          null,
          null,
          null,
          null,
          null,
          null,
          null,
          null,
          null,
          null,
          null,
          null,
          null,
          null,
          null,
          null,
          0.3,
          null,
          null,
          null,
          null,
          null,
          null,
          null,
          null,
          0.15,
          null,
          0.11818181818181817,
          0.4,
          null,
          -0.06477272727272727,
          0.27878787878787875,
          null,
          null,
          null,
          null,
          null,
          null,
          null,
          null,
          null,
          null,
          null,
          null,
          null,
          null,
          null,
          null,
          null,
          null,
          null,
          null,
          null,
          null,
          null,
          null,
          null,
          null,
          null,
          null,
          null,
          null,
          null,
          null,
          null,
          null,
          null,
          null,
          null,
          null,
          null,
          null,
          null,
          null,
          0.3,
          null,
          null,
          0.25,
          0.39583333333333337,
          0.5,
          -0.1,
          0.1619047619047619,
          0.4520833333333334,
          0.11248737373737376,
          0.18869949494949495,
          null,
          null,
          null,
          null,
          null,
          null,
          null,
          null,
          null,
          null,
          null,
          null,
          null,
          null,
          null,
          null,
          null,
          null,
          null,
          null,
          null,
          null,
          null,
          null,
          null,
          null,
          null,
          null,
          -0.06666666666666667,
          null,
          0.25,
          null,
          null,
          null,
          0.25,
          null,
          null,
          0.13636363636363635,
          null,
          0.16666666666666666,
          null,
          null,
          null,
          null,
          null,
          null,
          null,
          0.24166666666666664,
          null,
          0.17027777777777783,
          null,
          0.21428571428571427,
          null,
          null,
          null,
          null,
          null,
          null,
          null,
          null,
          null,
          null,
          null,
          null,
          null,
          null,
          null,
          null,
          null,
          null,
          null,
          null,
          null,
          null,
          null,
          0.35,
          0.13636363636363635,
          null,
          -0.25,
          null,
          null,
          0.2090909090909091,
          0.1,
          null,
          null,
          null,
          null,
          null,
          null,
          null,
          0.3,
          null,
          null,
          null,
          null,
          null,
          null,
          null,
          null,
          null,
          null,
          0.04545454545454545,
          0.21119949494949497,
          0.1796969696969697,
          0.24204545454545454,
          -0.007575757575757579,
          null,
          null,
          null,
          null,
          null,
          null,
          null,
          null,
          null,
          0.2,
          null,
          0.4,
          0.19999999999999998,
          0.15833333333333333,
          null,
          null,
          null,
          null,
          null,
          null,
          -0.15,
          null,
          null,
          null,
          null,
          null,
          0.2,
          null,
          null,
          null,
          null,
          null,
          null,
          null,
          null,
          null,
          null,
          null,
          null,
          null,
          null,
          null,
          null,
          null,
          null,
          null,
          null,
          null,
          null,
          null,
          null,
          0.16266684704184703,
          0.20813492063492064,
          null,
          null,
          0.5,
          null,
          null,
          null,
          null,
          null,
          null,
          null,
          null,
          null,
          null,
          null,
          null,
          null,
          null,
          null,
          null,
          null,
          null,
          0.06818181818181818,
          null,
          null,
          null,
          0.06818181818181818,
          null,
          null,
          null,
          null,
          null,
          null,
          null,
          null,
          null,
          null,
          null,
          null,
          0.5,
          null,
          null,
          null,
          null,
          null,
          null,
          null,
          0.041666666666666664,
          0.03392857142857142,
          0.05107323232323231,
          0.29393939393939394,
          0.1392857142857143,
          0.07273809523809523,
          0.5,
          0.2,
          0.15,
          null,
          null,
          null,
          null,
          null,
          null,
          null,
          null,
          null,
          null,
          null,
          null,
          null,
          null,
          null,
          null,
          null,
          null,
          null,
          null,
          null,
          -0.2,
          null,
          null,
          null,
          null,
          null,
          0.5,
          null,
          null,
          null,
          null,
          null,
          null,
          null,
          null,
          null,
          null,
          null,
          null,
          0.13636363636363635,
          null,
          null,
          null,
          0.05,
          null,
          null,
          0.275,
          0.09999999999999998,
          -0.2333333333333333,
          null,
          null,
          null,
          null,
          null,
          null,
          null,
          null,
          null,
          null,
          null,
          null,
          null,
          null,
          null,
          null,
          null,
          null,
          null,
          null,
          null,
          null,
          null,
          null,
          null,
          0.2852272727272727,
          null,
          null,
          null,
          0.04545454545454545,
          null,
          null,
          null,
          0.04545454545454545,
          null,
          null,
          null,
          null,
          null,
          null,
          null,
          null,
          null,
          null,
          null,
          null,
          null,
          -0.1,
          null,
          0.16666666666666666,
          0.0909090909090909,
          0.5,
          0.1268843193843194,
          null,
          null,
          null,
          null,
          null,
          null,
          null,
          null,
          null,
          null,
          null,
          null,
          null,
          null,
          null,
          null,
          null,
          null,
          null,
          null,
          null,
          null,
          null,
          null,
          null,
          null,
          null,
          null,
          null,
          null,
          null,
          null,
          null,
          null,
          null,
          null,
          null,
          0.25833333333333336,
          0.3,
          null,
          0.2285714285714286,
          null,
          null,
          null,
          null,
          null,
          0.2833333333333333,
          0.10714285714285714,
          0.25,
          null,
          0.26753246753246746,
          0.14375,
          0.16425133689839574,
          0.19166666666666668,
          null,
          null,
          null,
          null,
          null,
          null,
          null,
          null,
          null,
          null,
          null,
          null,
          null,
          null,
          null,
          null,
          0.125,
          null,
          null,
          0.7,
          null,
          null,
          null,
          null,
          null,
          null,
          null,
          null,
          null,
          null,
          null,
          null,
          null,
          null,
          null,
          null,
          null,
          null,
          null,
          null,
          null,
          null,
          null,
          null,
          null,
          0.5,
          null,
          null,
          null,
          0.25,
          0.23854166666666665,
          0.0560474537037037,
          -0.016666666666666673,
          null,
          null
         ],
         "y0": " ",
         "yaxis": "y"
        }
       ],
       "layout": {
        "boxmode": "group",
        "legend": {
         "tracegroupgap": 0
        },
        "template": {
         "data": {
          "bar": [
           {
            "error_x": {
             "color": "#f2f5fa"
            },
            "error_y": {
             "color": "#f2f5fa"
            },
            "marker": {
             "line": {
              "color": "rgb(17,17,17)",
              "width": 0.5
             }
            },
            "type": "bar"
           }
          ],
          "barpolar": [
           {
            "marker": {
             "line": {
              "color": "rgb(17,17,17)",
              "width": 0.5
             }
            },
            "type": "barpolar"
           }
          ],
          "carpet": [
           {
            "aaxis": {
             "endlinecolor": "#A2B1C6",
             "gridcolor": "#506784",
             "linecolor": "#506784",
             "minorgridcolor": "#506784",
             "startlinecolor": "#A2B1C6"
            },
            "baxis": {
             "endlinecolor": "#A2B1C6",
             "gridcolor": "#506784",
             "linecolor": "#506784",
             "minorgridcolor": "#506784",
             "startlinecolor": "#A2B1C6"
            },
            "type": "carpet"
           }
          ],
          "choropleth": [
           {
            "colorbar": {
             "outlinewidth": 0,
             "ticks": ""
            },
            "type": "choropleth"
           }
          ],
          "contour": [
           {
            "colorbar": {
             "outlinewidth": 0,
             "ticks": ""
            },
            "colorscale": [
             [
              0,
              "#0d0887"
             ],
             [
              0.1111111111111111,
              "#46039f"
             ],
             [
              0.2222222222222222,
              "#7201a8"
             ],
             [
              0.3333333333333333,
              "#9c179e"
             ],
             [
              0.4444444444444444,
              "#bd3786"
             ],
             [
              0.5555555555555556,
              "#d8576b"
             ],
             [
              0.6666666666666666,
              "#ed7953"
             ],
             [
              0.7777777777777778,
              "#fb9f3a"
             ],
             [
              0.8888888888888888,
              "#fdca26"
             ],
             [
              1,
              "#f0f921"
             ]
            ],
            "type": "contour"
           }
          ],
          "contourcarpet": [
           {
            "colorbar": {
             "outlinewidth": 0,
             "ticks": ""
            },
            "type": "contourcarpet"
           }
          ],
          "heatmap": [
           {
            "colorbar": {
             "outlinewidth": 0,
             "ticks": ""
            },
            "colorscale": [
             [
              0,
              "#0d0887"
             ],
             [
              0.1111111111111111,
              "#46039f"
             ],
             [
              0.2222222222222222,
              "#7201a8"
             ],
             [
              0.3333333333333333,
              "#9c179e"
             ],
             [
              0.4444444444444444,
              "#bd3786"
             ],
             [
              0.5555555555555556,
              "#d8576b"
             ],
             [
              0.6666666666666666,
              "#ed7953"
             ],
             [
              0.7777777777777778,
              "#fb9f3a"
             ],
             [
              0.8888888888888888,
              "#fdca26"
             ],
             [
              1,
              "#f0f921"
             ]
            ],
            "type": "heatmap"
           }
          ],
          "heatmapgl": [
           {
            "colorbar": {
             "outlinewidth": 0,
             "ticks": ""
            },
            "colorscale": [
             [
              0,
              "#0d0887"
             ],
             [
              0.1111111111111111,
              "#46039f"
             ],
             [
              0.2222222222222222,
              "#7201a8"
             ],
             [
              0.3333333333333333,
              "#9c179e"
             ],
             [
              0.4444444444444444,
              "#bd3786"
             ],
             [
              0.5555555555555556,
              "#d8576b"
             ],
             [
              0.6666666666666666,
              "#ed7953"
             ],
             [
              0.7777777777777778,
              "#fb9f3a"
             ],
             [
              0.8888888888888888,
              "#fdca26"
             ],
             [
              1,
              "#f0f921"
             ]
            ],
            "type": "heatmapgl"
           }
          ],
          "histogram": [
           {
            "marker": {
             "colorbar": {
              "outlinewidth": 0,
              "ticks": ""
             }
            },
            "type": "histogram"
           }
          ],
          "histogram2d": [
           {
            "colorbar": {
             "outlinewidth": 0,
             "ticks": ""
            },
            "colorscale": [
             [
              0,
              "#0d0887"
             ],
             [
              0.1111111111111111,
              "#46039f"
             ],
             [
              0.2222222222222222,
              "#7201a8"
             ],
             [
              0.3333333333333333,
              "#9c179e"
             ],
             [
              0.4444444444444444,
              "#bd3786"
             ],
             [
              0.5555555555555556,
              "#d8576b"
             ],
             [
              0.6666666666666666,
              "#ed7953"
             ],
             [
              0.7777777777777778,
              "#fb9f3a"
             ],
             [
              0.8888888888888888,
              "#fdca26"
             ],
             [
              1,
              "#f0f921"
             ]
            ],
            "type": "histogram2d"
           }
          ],
          "histogram2dcontour": [
           {
            "colorbar": {
             "outlinewidth": 0,
             "ticks": ""
            },
            "colorscale": [
             [
              0,
              "#0d0887"
             ],
             [
              0.1111111111111111,
              "#46039f"
             ],
             [
              0.2222222222222222,
              "#7201a8"
             ],
             [
              0.3333333333333333,
              "#9c179e"
             ],
             [
              0.4444444444444444,
              "#bd3786"
             ],
             [
              0.5555555555555556,
              "#d8576b"
             ],
             [
              0.6666666666666666,
              "#ed7953"
             ],
             [
              0.7777777777777778,
              "#fb9f3a"
             ],
             [
              0.8888888888888888,
              "#fdca26"
             ],
             [
              1,
              "#f0f921"
             ]
            ],
            "type": "histogram2dcontour"
           }
          ],
          "mesh3d": [
           {
            "colorbar": {
             "outlinewidth": 0,
             "ticks": ""
            },
            "type": "mesh3d"
           }
          ],
          "parcoords": [
           {
            "line": {
             "colorbar": {
              "outlinewidth": 0,
              "ticks": ""
             }
            },
            "type": "parcoords"
           }
          ],
          "pie": [
           {
            "automargin": true,
            "type": "pie"
           }
          ],
          "scatter": [
           {
            "marker": {
             "line": {
              "color": "#283442"
             }
            },
            "type": "scatter"
           }
          ],
          "scatter3d": [
           {
            "line": {
             "colorbar": {
              "outlinewidth": 0,
              "ticks": ""
             }
            },
            "marker": {
             "colorbar": {
              "outlinewidth": 0,
              "ticks": ""
             }
            },
            "type": "scatter3d"
           }
          ],
          "scattercarpet": [
           {
            "marker": {
             "colorbar": {
              "outlinewidth": 0,
              "ticks": ""
             }
            },
            "type": "scattercarpet"
           }
          ],
          "scattergeo": [
           {
            "marker": {
             "colorbar": {
              "outlinewidth": 0,
              "ticks": ""
             }
            },
            "type": "scattergeo"
           }
          ],
          "scattergl": [
           {
            "marker": {
             "line": {
              "color": "#283442"
             }
            },
            "type": "scattergl"
           }
          ],
          "scattermapbox": [
           {
            "marker": {
             "colorbar": {
              "outlinewidth": 0,
              "ticks": ""
             }
            },
            "type": "scattermapbox"
           }
          ],
          "scatterpolar": [
           {
            "marker": {
             "colorbar": {
              "outlinewidth": 0,
              "ticks": ""
             }
            },
            "type": "scatterpolar"
           }
          ],
          "scatterpolargl": [
           {
            "marker": {
             "colorbar": {
              "outlinewidth": 0,
              "ticks": ""
             }
            },
            "type": "scatterpolargl"
           }
          ],
          "scatterternary": [
           {
            "marker": {
             "colorbar": {
              "outlinewidth": 0,
              "ticks": ""
             }
            },
            "type": "scatterternary"
           }
          ],
          "surface": [
           {
            "colorbar": {
             "outlinewidth": 0,
             "ticks": ""
            },
            "colorscale": [
             [
              0,
              "#0d0887"
             ],
             [
              0.1111111111111111,
              "#46039f"
             ],
             [
              0.2222222222222222,
              "#7201a8"
             ],
             [
              0.3333333333333333,
              "#9c179e"
             ],
             [
              0.4444444444444444,
              "#bd3786"
             ],
             [
              0.5555555555555556,
              "#d8576b"
             ],
             [
              0.6666666666666666,
              "#ed7953"
             ],
             [
              0.7777777777777778,
              "#fb9f3a"
             ],
             [
              0.8888888888888888,
              "#fdca26"
             ],
             [
              1,
              "#f0f921"
             ]
            ],
            "type": "surface"
           }
          ],
          "table": [
           {
            "cells": {
             "fill": {
              "color": "#506784"
             },
             "line": {
              "color": "rgb(17,17,17)"
             }
            },
            "header": {
             "fill": {
              "color": "#2a3f5f"
             },
             "line": {
              "color": "rgb(17,17,17)"
             }
            },
            "type": "table"
           }
          ]
         },
         "layout": {
          "annotationdefaults": {
           "arrowcolor": "#f2f5fa",
           "arrowhead": 0,
           "arrowwidth": 1
          },
          "coloraxis": {
           "colorbar": {
            "outlinewidth": 0,
            "ticks": ""
           }
          },
          "colorscale": {
           "diverging": [
            [
             0,
             "#8e0152"
            ],
            [
             0.1,
             "#c51b7d"
            ],
            [
             0.2,
             "#de77ae"
            ],
            [
             0.3,
             "#f1b6da"
            ],
            [
             0.4,
             "#fde0ef"
            ],
            [
             0.5,
             "#f7f7f7"
            ],
            [
             0.6,
             "#e6f5d0"
            ],
            [
             0.7,
             "#b8e186"
            ],
            [
             0.8,
             "#7fbc41"
            ],
            [
             0.9,
             "#4d9221"
            ],
            [
             1,
             "#276419"
            ]
           ],
           "sequential": [
            [
             0,
             "#0d0887"
            ],
            [
             0.1111111111111111,
             "#46039f"
            ],
            [
             0.2222222222222222,
             "#7201a8"
            ],
            [
             0.3333333333333333,
             "#9c179e"
            ],
            [
             0.4444444444444444,
             "#bd3786"
            ],
            [
             0.5555555555555556,
             "#d8576b"
            ],
            [
             0.6666666666666666,
             "#ed7953"
            ],
            [
             0.7777777777777778,
             "#fb9f3a"
            ],
            [
             0.8888888888888888,
             "#fdca26"
            ],
            [
             1,
             "#f0f921"
            ]
           ],
           "sequentialminus": [
            [
             0,
             "#0d0887"
            ],
            [
             0.1111111111111111,
             "#46039f"
            ],
            [
             0.2222222222222222,
             "#7201a8"
            ],
            [
             0.3333333333333333,
             "#9c179e"
            ],
            [
             0.4444444444444444,
             "#bd3786"
            ],
            [
             0.5555555555555556,
             "#d8576b"
            ],
            [
             0.6666666666666666,
             "#ed7953"
            ],
            [
             0.7777777777777778,
             "#fb9f3a"
            ],
            [
             0.8888888888888888,
             "#fdca26"
            ],
            [
             1,
             "#f0f921"
            ]
           ]
          },
          "colorway": [
           "#636efa",
           "#EF553B",
           "#00cc96",
           "#ab63fa",
           "#FFA15A",
           "#19d3f3",
           "#FF6692",
           "#B6E880",
           "#FF97FF",
           "#FECB52"
          ],
          "font": {
           "color": "#f2f5fa"
          },
          "geo": {
           "bgcolor": "rgb(17,17,17)",
           "lakecolor": "rgb(17,17,17)",
           "landcolor": "rgb(17,17,17)",
           "showlakes": true,
           "showland": true,
           "subunitcolor": "#506784"
          },
          "hoverlabel": {
           "align": "left"
          },
          "hovermode": "closest",
          "mapbox": {
           "style": "dark"
          },
          "paper_bgcolor": "rgb(17,17,17)",
          "plot_bgcolor": "rgb(17,17,17)",
          "polar": {
           "angularaxis": {
            "gridcolor": "#506784",
            "linecolor": "#506784",
            "ticks": ""
           },
           "bgcolor": "rgb(17,17,17)",
           "radialaxis": {
            "gridcolor": "#506784",
            "linecolor": "#506784",
            "ticks": ""
           }
          },
          "scene": {
           "xaxis": {
            "backgroundcolor": "rgb(17,17,17)",
            "gridcolor": "#506784",
            "gridwidth": 2,
            "linecolor": "#506784",
            "showbackground": true,
            "ticks": "",
            "zerolinecolor": "#C8D4E3"
           },
           "yaxis": {
            "backgroundcolor": "rgb(17,17,17)",
            "gridcolor": "#506784",
            "gridwidth": 2,
            "linecolor": "#506784",
            "showbackground": true,
            "ticks": "",
            "zerolinecolor": "#C8D4E3"
           },
           "zaxis": {
            "backgroundcolor": "rgb(17,17,17)",
            "gridcolor": "#506784",
            "gridwidth": 2,
            "linecolor": "#506784",
            "showbackground": true,
            "ticks": "",
            "zerolinecolor": "#C8D4E3"
           }
          },
          "shapedefaults": {
           "line": {
            "color": "#f2f5fa"
           }
          },
          "sliderdefaults": {
           "bgcolor": "#C8D4E3",
           "bordercolor": "rgb(17,17,17)",
           "borderwidth": 1,
           "tickwidth": 0
          },
          "ternary": {
           "aaxis": {
            "gridcolor": "#506784",
            "linecolor": "#506784",
            "ticks": ""
           },
           "baxis": {
            "gridcolor": "#506784",
            "linecolor": "#506784",
            "ticks": ""
           },
           "bgcolor": "rgb(17,17,17)",
           "caxis": {
            "gridcolor": "#506784",
            "linecolor": "#506784",
            "ticks": ""
           }
          },
          "title": {
           "x": 0.05
          },
          "updatemenudefaults": {
           "bgcolor": "#506784",
           "borderwidth": 0
          },
          "xaxis": {
           "automargin": true,
           "gridcolor": "#283442",
           "linecolor": "#506784",
           "ticks": "",
           "title": {
            "standoff": 15
           },
           "zerolinecolor": "#283442",
           "zerolinewidth": 2
          },
          "yaxis": {
           "automargin": true,
           "gridcolor": "#283442",
           "linecolor": "#506784",
           "ticks": "",
           "title": {
            "standoff": 15
           },
           "zerolinecolor": "#283442",
           "zerolinewidth": 2
          }
         }
        },
        "title": {
         "text": "Distribution of the Polarity of Stock Headlines"
        },
        "xaxis": {
         "anchor": "y",
         "domain": [
          0,
          1
         ],
         "title": {
          "text": "ticker"
         }
        },
        "yaxis": {
         "anchor": "x",
         "domain": [
          0,
          1
         ],
         "title": {
          "text": "Polarity"
         }
        }
       }
      },
      "text/html": [
       "<div>                            <div id=\"8b69a138-1d6f-450f-be15-44f5fc795bf3\" class=\"plotly-graph-div\" style=\"height:525px; width:100%;\"></div>            <script type=\"text/javascript\">                require([\"plotly\"], function(Plotly) {                    window.PLOTLYENV=window.PLOTLYENV || {};                                    if (document.getElementById(\"8b69a138-1d6f-450f-be15-44f5fc795bf3\")) {                    Plotly.newPlot(                        \"8b69a138-1d6f-450f-be15-44f5fc795bf3\",                        [{\"alignmentgroup\": \"True\", \"hovertemplate\": \"ticker=%{x}<br>Polarity=%{y}<extra></extra>\", \"legendgroup\": \"\", \"marker\": {\"color\": \"#636efa\"}, \"name\": \"\", \"notched\": false, \"offsetgroup\": \"\", \"orientation\": \"v\", \"showlegend\": false, \"type\": \"box\", \"x\": [\"AAPL\", \"AAPL\", \"AAPL\", \"AAPL\", \"AAPL\", \"AAPL\", \"AAPL\", \"AAPL\", \"AAPL\", \"AAPL\", \"AAPL\", \"AAPL\", \"AAPL\", \"AAPL\", \"AAPL\", \"AAPL\", \"AAPL\", \"AAPL\", \"AAPL\", \"AAPL\", \"AAPL\", \"AAPL\", \"AAPL\", \"AAPL\", \"AAPL\", \"AAPL\", \"AAPL\", \"AAPL\", \"AAPL\", \"AAPL\", \"AAPL\", \"AAPL\", \"AAPL\", \"AAPL\", \"AAPL\", \"AAPL\", \"AAPL\", \"AAPL\", \"AAPL\", \"AAPL\", \"AAPL\", \"AAPL\", \"AAPL\", \"AAPL\", \"AAPL\", \"AAPL\", \"AAPL\", \"AAPL\", \"AAPL\", \"AAPL\", \"AAPL\", \"AAPL\", \"AAPL\", \"ABBV\", \"ABBV\", \"ABBV\", \"ABBV\", \"ABBV\", \"ABBV\", \"ABBV\", \"ABBV\", \"ABBV\", \"ABBV\", \"ABBV\", \"ABBV\", \"ABBV\", \"ABBV\", \"ABBV\", \"ABBV\", \"ABBV\", \"ABBV\", \"ABBV\", \"ABBV\", \"ABBV\", \"ABBV\", \"ABBV\", \"ABBV\", \"ABBV\", \"ABBV\", \"ABBV\", \"ABBV\", \"ABBV\", \"ABBV\", \"ABBV\", \"ABBV\", \"ABBV\", \"ABBV\", \"ABBV\", \"ABBV\", \"ABBV\", \"ABBV\", \"ABBV\", \"ABBV\", \"ABBV\", \"ABBV\", \"ABBV\", \"ABBV\", \"ABBV\", \"ABBV\", \"ABBV\", \"ABBV\", \"ABBV\", \"ABBV\", \"ABBV\", \"ABBV\", \"ABBV\", \"ABT\", \"ABT\", \"ABT\", \"ABT\", \"ABT\", \"ABT\", \"ABT\", \"ABT\", \"ABT\", \"ABT\", \"ABT\", \"ABT\", \"ABT\", \"ABT\", \"ABT\", \"ABT\", \"ABT\", \"ABT\", \"ABT\", \"ABT\", \"ABT\", \"ABT\", \"ABT\", \"ABT\", \"ABT\", \"ABT\", \"ABT\", \"ABT\", \"ABT\", \"ABT\", \"ABT\", \"ABT\", \"ABT\", \"ABT\", \"ABT\", \"ABT\", \"ABT\", \"ABT\", \"ABT\", \"ABT\", \"ABT\", \"ABT\", \"ABT\", \"ABT\", \"ABT\", \"ABT\", \"ABT\", \"ABT\", \"ABT\", \"ABT\", \"ABT\", \"ABT\", \"ABT\", \"ADBE\", \"ADBE\", \"ADBE\", \"ADBE\", \"ADBE\", \"ADBE\", \"ADBE\", \"ADBE\", \"ADBE\", \"ADBE\", \"ADBE\", \"ADBE\", \"ADBE\", \"ADBE\", \"ADBE\", \"ADBE\", \"ADBE\", \"ADBE\", \"ADBE\", \"ADBE\", \"ADBE\", \"ADBE\", \"ADBE\", \"ADBE\", \"ADBE\", \"ADBE\", \"ADBE\", \"ADBE\", \"ADBE\", \"ADBE\", \"ADBE\", \"ADBE\", \"ADBE\", \"ADBE\", \"ADBE\", \"ADBE\", \"ADBE\", \"ADBE\", \"ADBE\", \"ADBE\", \"ADBE\", \"ADBE\", \"ADBE\", \"ADBE\", \"ADBE\", \"ADBE\", \"ADBE\", \"ADBE\", \"ADBE\", \"ADBE\", \"ADBE\", \"ADBE\", \"ADBE\", \"AMZN\", \"AMZN\", \"AMZN\", \"AMZN\", \"AMZN\", \"AMZN\", \"AMZN\", \"AMZN\", \"AMZN\", \"AMZN\", \"AMZN\", \"AMZN\", \"AMZN\", \"AMZN\", \"AMZN\", \"AMZN\", \"AMZN\", \"AMZN\", \"AMZN\", \"AMZN\", \"AMZN\", \"AMZN\", \"AMZN\", \"AMZN\", \"AMZN\", \"AMZN\", \"AMZN\", \"AMZN\", \"AMZN\", \"AMZN\", \"AMZN\", \"AMZN\", \"AMZN\", \"AMZN\", \"AMZN\", \"AMZN\", \"AMZN\", \"AMZN\", \"AMZN\", \"AMZN\", \"AMZN\", \"AMZN\", \"AMZN\", \"AMZN\", \"AMZN\", \"AMZN\", \"AMZN\", \"AMZN\", \"AMZN\", \"AMZN\", \"AMZN\", \"AMZN\", \"AMZN\", \"ASML\", \"ASML\", \"ASML\", \"ASML\", \"ASML\", \"ASML\", \"ASML\", \"ASML\", \"ASML\", \"ASML\", \"ASML\", \"ASML\", \"ASML\", \"ASML\", \"ASML\", \"ASML\", \"ASML\", \"ASML\", \"ASML\", \"ASML\", \"ASML\", \"ASML\", \"ASML\", \"ASML\", \"ASML\", \"ASML\", \"ASML\", \"ASML\", \"ASML\", \"ASML\", \"ASML\", \"ASML\", \"ASML\", \"ASML\", \"ASML\", \"ASML\", \"ASML\", \"ASML\", \"ASML\", \"ASML\", \"ASML\", \"ASML\", \"ASML\", \"ASML\", \"ASML\", \"ASML\", \"ASML\", \"ASML\", \"ASML\", \"ASML\", \"ASML\", \"ASML\", \"ASML\", \"BABA\", \"BABA\", \"BABA\", \"BABA\", \"BABA\", \"BABA\", \"BABA\", \"BABA\", \"BABA\", \"BABA\", \"BABA\", \"BABA\", \"BABA\", \"BABA\", \"BABA\", \"BABA\", \"BABA\", \"BABA\", \"BABA\", \"BABA\", \"BABA\", \"BABA\", \"BABA\", \"BABA\", \"BABA\", \"BABA\", \"BABA\", \"BABA\", \"BABA\", \"BABA\", \"BABA\", \"BABA\", \"BABA\", \"BABA\", \"BABA\", \"BABA\", \"BABA\", \"BABA\", \"BABA\", \"BABA\", \"BABA\", \"BABA\", \"BABA\", \"BABA\", \"BABA\", \"BABA\", \"BABA\", \"BABA\", \"BABA\", \"BABA\", \"BABA\", \"BABA\", \"BABA\", \"BAC\", \"BAC\", \"BAC\", \"BAC\", \"BAC\", \"BAC\", \"BAC\", \"BAC\", \"BAC\", \"BAC\", \"BAC\", \"BAC\", \"BAC\", \"BAC\", \"BAC\", \"BAC\", \"BAC\", \"BAC\", \"BAC\", \"BAC\", \"BAC\", \"BAC\", \"BAC\", \"BAC\", \"BAC\", \"BAC\", \"BAC\", \"BAC\", \"BAC\", \"BAC\", \"BAC\", \"BAC\", \"BAC\", \"BAC\", \"BAC\", \"BAC\", \"BAC\", \"BAC\", \"BAC\", \"BAC\", \"BAC\", \"BAC\", \"BAC\", \"BAC\", \"BAC\", \"BAC\", \"BAC\", \"BAC\", \"BAC\", \"BAC\", \"BAC\", \"BAC\", \"BAC\", \"CMCSA\", \"CMCSA\", \"CMCSA\", \"CMCSA\", \"CMCSA\", \"CMCSA\", \"CMCSA\", \"CMCSA\", \"CMCSA\", \"CMCSA\", \"CMCSA\", \"CMCSA\", \"CMCSA\", \"CMCSA\", \"CMCSA\", \"CMCSA\", \"CMCSA\", \"CMCSA\", \"CMCSA\", \"CMCSA\", \"CMCSA\", \"CMCSA\", \"CMCSA\", \"CMCSA\", \"CMCSA\", \"CMCSA\", \"CMCSA\", \"CMCSA\", \"CMCSA\", \"CMCSA\", \"CMCSA\", \"CMCSA\", \"CMCSA\", \"CMCSA\", \"CMCSA\", \"CMCSA\", \"CMCSA\", \"CMCSA\", \"CMCSA\", \"CMCSA\", \"CMCSA\", \"CMCSA\", \"CMCSA\", \"CMCSA\", \"CMCSA\", \"CMCSA\", \"CMCSA\", \"CMCSA\", \"CMCSA\", \"CMCSA\", \"CMCSA\", \"CMCSA\", \"CMCSA\", \"COST\", \"COST\", \"COST\", \"COST\", \"COST\", \"COST\", \"COST\", \"COST\", \"COST\", \"COST\", \"COST\", \"COST\", \"COST\", \"COST\", \"COST\", \"COST\", \"COST\", \"COST\", \"COST\", \"COST\", \"COST\", \"COST\", \"COST\", \"COST\", \"COST\", \"COST\", \"COST\", \"COST\", \"COST\", \"COST\", \"COST\", \"COST\", \"COST\", \"COST\", \"COST\", \"COST\", \"COST\", \"COST\", \"COST\", \"COST\", \"COST\", \"COST\", \"COST\", \"COST\", \"COST\", \"COST\", \"COST\", \"COST\", \"COST\", \"COST\", \"COST\", \"COST\", \"COST\", \"CRM\", \"CRM\", \"CRM\", \"CRM\", \"CRM\", \"CRM\", \"CRM\", \"CRM\", \"CRM\", \"CRM\", \"CRM\", \"CRM\", \"CRM\", \"CRM\", \"CRM\", \"CRM\", \"CRM\", \"CRM\", \"CRM\", \"CRM\", \"CRM\", \"CRM\", \"CRM\", \"CRM\", \"CRM\", \"CRM\", \"CRM\", \"CRM\", \"CRM\", \"CRM\", \"CRM\", \"CRM\", \"CRM\", \"CRM\", \"CRM\", \"CRM\", \"CRM\", \"CRM\", \"CRM\", \"CRM\", \"CRM\", \"CRM\", \"CRM\", \"CRM\", \"CRM\", \"CRM\", \"CRM\", \"CRM\", \"CRM\", \"CRM\", \"CRM\", \"CRM\", \"CRM\", \"CSCO\", \"CSCO\", \"CSCO\", \"CSCO\", \"CSCO\", \"CSCO\", \"CSCO\", \"CSCO\", \"CSCO\", \"CSCO\", \"CSCO\", \"CSCO\", \"CSCO\", \"CSCO\", \"CSCO\", \"CSCO\", \"CSCO\", \"CSCO\", \"CSCO\", \"CSCO\", \"CSCO\", \"CSCO\", \"CSCO\", \"CSCO\", \"CSCO\", \"CSCO\", \"CSCO\", \"CSCO\", \"CSCO\", \"CSCO\", \"CSCO\", \"CSCO\", \"CSCO\", \"CSCO\", \"CSCO\", \"CSCO\", \"CSCO\", \"CSCO\", \"CSCO\", \"CSCO\", \"CSCO\", \"CSCO\", \"CSCO\", \"CSCO\", \"CSCO\", \"CSCO\", \"CSCO\", \"CSCO\", \"CSCO\", \"CSCO\", \"CSCO\", \"CSCO\", \"CSCO\", \"CVX\", \"CVX\", \"CVX\", \"CVX\", \"CVX\", \"CVX\", \"CVX\", \"CVX\", \"CVX\", \"CVX\", \"CVX\", \"CVX\", \"CVX\", \"CVX\", \"CVX\", \"CVX\", \"CVX\", \"CVX\", \"CVX\", \"CVX\", \"CVX\", \"CVX\", \"CVX\", \"CVX\", \"CVX\", \"CVX\", \"CVX\", \"CVX\", \"CVX\", \"CVX\", \"CVX\", \"CVX\", \"CVX\", \"CVX\", \"CVX\", \"CVX\", \"CVX\", \"CVX\", \"CVX\", \"CVX\", \"CVX\", \"CVX\", \"CVX\", \"CVX\", \"CVX\", \"CVX\", \"CVX\", \"CVX\", \"CVX\", \"CVX\", \"CVX\", \"CVX\", \"CVX\", \"DHR\", \"DHR\", \"DHR\", \"DHR\", \"DHR\", \"DHR\", \"DHR\", \"DHR\", \"DHR\", \"DHR\", \"DHR\", \"DHR\", \"DHR\", \"DHR\", \"DHR\", \"DHR\", \"DHR\", \"DHR\", \"DHR\", \"DHR\", \"DHR\", \"DHR\", \"DHR\", \"DHR\", \"DHR\", \"DHR\", \"DHR\", \"DHR\", \"DHR\", \"DHR\", \"DHR\", \"DHR\", \"DHR\", \"DHR\", \"DHR\", \"DHR\", \"DHR\", \"DHR\", \"DHR\", \"DHR\", \"DHR\", \"DHR\", \"DHR\", \"DHR\", \"DHR\", \"DHR\", \"DHR\", \"DHR\", \"DHR\", \"DHR\", \"DHR\", \"DHR\", \"DHR\", \"DIS\", \"DIS\", \"DIS\", \"DIS\", \"DIS\", \"DIS\", \"DIS\", \"DIS\", \"DIS\", \"DIS\", \"DIS\", \"DIS\", \"DIS\", \"DIS\", \"DIS\", \"DIS\", \"DIS\", \"DIS\", \"DIS\", \"DIS\", \"DIS\", \"DIS\", \"DIS\", \"DIS\", \"DIS\", \"DIS\", \"DIS\", \"DIS\", \"DIS\", \"DIS\", \"DIS\", \"DIS\", \"DIS\", \"DIS\", \"DIS\", \"DIS\", \"DIS\", \"DIS\", \"DIS\", \"DIS\", \"DIS\", \"DIS\", \"DIS\", \"DIS\", \"DIS\", \"DIS\", \"DIS\", \"DIS\", \"DIS\", \"DIS\", \"DIS\", \"DIS\", \"DIS\", \"GOOG\", \"GOOG\", \"GOOG\", \"GOOG\", \"GOOG\", \"GOOG\", \"GOOG\", \"GOOG\", \"GOOG\", \"GOOG\", \"GOOG\", \"GOOG\", \"GOOG\", \"GOOG\", \"GOOG\", \"GOOG\", \"GOOG\", \"GOOG\", \"GOOG\", \"GOOG\", \"GOOG\", \"GOOG\", \"GOOG\", \"GOOG\", \"GOOG\", \"GOOG\", \"GOOG\", \"GOOG\", \"GOOG\", \"GOOG\", \"GOOG\", \"GOOG\", \"GOOG\", \"GOOG\", \"GOOG\", \"GOOG\", \"GOOG\", \"GOOG\", \"GOOG\", \"GOOG\", \"GOOG\", \"GOOG\", \"GOOG\", \"GOOG\", \"GOOG\", \"GOOG\", \"GOOG\", \"GOOG\", \"GOOG\", \"GOOG\", \"GOOG\", \"GOOG\", \"GOOG\", \"GOOGL\", \"GOOGL\", \"GOOGL\", \"GOOGL\", \"GOOGL\", \"GOOGL\", \"GOOGL\", \"GOOGL\", \"GOOGL\", \"GOOGL\", \"GOOGL\", \"GOOGL\", \"GOOGL\", \"GOOGL\", \"GOOGL\", \"GOOGL\", \"GOOGL\", \"GOOGL\", \"GOOGL\", \"GOOGL\", \"GOOGL\", \"GOOGL\", \"GOOGL\", \"GOOGL\", \"GOOGL\", \"GOOGL\", \"GOOGL\", \"GOOGL\", \"GOOGL\", \"GOOGL\", \"GOOGL\", \"GOOGL\", \"GOOGL\", \"GOOGL\", \"GOOGL\", \"GOOGL\", \"GOOGL\", \"GOOGL\", \"GOOGL\", \"GOOGL\", \"GOOGL\", \"GOOGL\", \"GOOGL\", \"GOOGL\", \"GOOGL\", \"GOOGL\", \"GOOGL\", \"GOOGL\", \"GOOGL\", \"GOOGL\", \"GOOGL\", \"GOOGL\", \"GOOGL\", \"HD\", \"HD\", \"HD\", \"HD\", \"HD\", \"HD\", \"HD\", \"HD\", \"HD\", \"HD\", \"HD\", \"HD\", \"HD\", \"HD\", \"HD\", \"HD\", \"HD\", \"HD\", \"HD\", \"HD\", \"HD\", \"HD\", \"HD\", \"HD\", \"HD\", \"HD\", \"HD\", \"HD\", \"HD\", \"HD\", \"HD\", \"HD\", \"HD\", \"HD\", \"HD\", \"HD\", \"HD\", \"HD\", \"HD\", \"HD\", \"HD\", \"HD\", \"HD\", \"HD\", \"HD\", \"HD\", \"HD\", \"HD\", \"HD\", \"HD\", \"HD\", \"HD\", \"HD\", \"INTC\", \"INTC\", \"INTC\", \"INTC\", \"INTC\", \"INTC\", \"INTC\", \"INTC\", \"INTC\", \"INTC\", \"INTC\", \"INTC\", \"INTC\", \"INTC\", \"INTC\", \"INTC\", \"INTC\", \"INTC\", \"INTC\", \"INTC\", \"INTC\", \"INTC\", \"INTC\", \"INTC\", \"INTC\", \"INTC\", \"INTC\", \"INTC\", \"INTC\", \"INTC\", \"INTC\", \"INTC\", \"INTC\", \"INTC\", \"INTC\", \"INTC\", \"INTC\", \"INTC\", \"INTC\", \"INTC\", \"INTC\", \"INTC\", \"INTC\", \"INTC\", \"INTC\", \"INTC\", \"INTC\", \"INTC\", \"INTC\", \"INTC\", \"INTC\", \"INTC\", \"INTC\", \"JNJ\", \"JNJ\", \"JNJ\", \"JNJ\", \"JNJ\", \"JNJ\", \"JNJ\", \"JNJ\", \"JNJ\", \"JNJ\", \"JNJ\", \"JNJ\", \"JNJ\", \"JNJ\", \"JNJ\", \"JNJ\", \"JNJ\", \"JNJ\", \"JNJ\", \"JNJ\", \"JNJ\", \"JNJ\", \"JNJ\", \"JNJ\", \"JNJ\", \"JNJ\", \"JNJ\", \"JNJ\", \"JNJ\", \"JNJ\", \"JNJ\", \"JNJ\", \"JNJ\", \"JNJ\", \"JNJ\", \"JNJ\", \"JNJ\", \"JNJ\", \"JNJ\", \"JNJ\", \"JNJ\", \"JNJ\", \"JNJ\", \"JNJ\", \"JNJ\", \"JNJ\", \"JNJ\", \"JNJ\", \"JNJ\", \"JNJ\", \"JNJ\", \"JNJ\", \"JNJ\", \"JPM\", \"JPM\", \"JPM\", \"JPM\", \"JPM\", \"JPM\", \"JPM\", \"JPM\", \"JPM\", \"JPM\", \"JPM\", \"JPM\", \"JPM\", \"JPM\", \"JPM\", \"JPM\", \"JPM\", \"JPM\", \"JPM\", \"JPM\", \"JPM\", \"JPM\", \"JPM\", \"JPM\", \"JPM\", \"JPM\", \"JPM\", \"JPM\", \"JPM\", \"JPM\", \"JPM\", \"JPM\", \"JPM\", \"JPM\", \"JPM\", \"JPM\", \"JPM\", \"JPM\", \"JPM\", \"JPM\", \"JPM\", \"JPM\", \"JPM\", \"JPM\", \"JPM\", \"JPM\", \"JPM\", \"JPM\", \"JPM\", \"JPM\", \"JPM\", \"JPM\", \"JPM\", \"KO\", \"KO\", \"KO\", \"KO\", \"KO\", \"KO\", \"KO\", \"KO\", \"KO\", \"KO\", \"KO\", \"KO\", \"KO\", \"KO\", \"KO\", \"KO\", \"KO\", \"KO\", \"KO\", \"KO\", \"KO\", \"KO\", \"KO\", \"KO\", \"KO\", \"KO\", \"KO\", \"KO\", \"KO\", \"KO\", \"KO\", \"KO\", \"KO\", \"KO\", \"KO\", \"KO\", \"KO\", \"KO\", \"KO\", \"KO\", \"KO\", \"KO\", \"KO\", \"KO\", \"KO\", \"KO\", \"KO\", \"KO\", \"KO\", \"KO\", \"KO\", \"KO\", \"KO\", \"MA\", \"MA\", \"MA\", \"MA\", \"MA\", \"MA\", \"MA\", \"MA\", \"MA\", \"MA\", \"MA\", \"MA\", \"MA\", \"MA\", \"MA\", \"MA\", \"MA\", \"MA\", \"MA\", \"MA\", \"MA\", \"MA\", \"MA\", \"MA\", \"MA\", \"MA\", \"MA\", \"MA\", \"MA\", \"MA\", \"MA\", \"MA\", \"MA\", \"MA\", \"MA\", \"MA\", \"MA\", \"MA\", \"MA\", \"MA\", \"MA\", \"MA\", \"MA\", \"MA\", \"MA\", \"MA\", \"MA\", \"MA\", \"MA\", \"MA\", \"MA\", \"MA\", \"MA\", \"MCD\", \"MCD\", \"MCD\", \"MCD\", \"MCD\", \"MCD\", \"MCD\", \"MCD\", \"MCD\", \"MCD\", \"MCD\", \"MCD\", \"MCD\", \"MCD\", \"MCD\", \"MCD\", \"MCD\", \"MCD\", \"MCD\", \"MCD\", \"MCD\", \"MCD\", \"MCD\", \"MCD\", \"MCD\", \"MCD\", \"MCD\", \"MCD\", \"MCD\", \"MCD\", \"MCD\", \"MCD\", \"MCD\", \"MCD\", \"MCD\", \"MCD\", \"MCD\", \"MCD\", \"MCD\", \"MCD\", \"MCD\", \"MCD\", \"MCD\", \"MCD\", \"MCD\", \"MCD\", \"MCD\", \"MCD\", \"MCD\", \"MCD\", \"MCD\", \"MCD\", \"MCD\", \"MRK\", \"MRK\", \"MRK\", \"MRK\", \"MRK\", \"MRK\", \"MRK\", \"MRK\", \"MRK\", \"MRK\", \"MRK\", \"MRK\", \"MRK\", \"MRK\", \"MRK\", \"MRK\", \"MRK\", \"MRK\", \"MRK\", \"MRK\", \"MRK\", \"MRK\", \"MRK\", \"MRK\", \"MRK\", \"MRK\", \"MRK\", \"MRK\", \"MRK\", \"MRK\", \"MRK\", \"MRK\", \"MRK\", \"MRK\", \"MRK\", \"MRK\", \"MRK\", \"MRK\", \"MRK\", \"MRK\", \"MRK\", \"MRK\", \"MRK\", \"MRK\", \"MRK\", \"MRK\", \"MRK\", \"MRK\", \"MRK\", \"MRK\", \"MRK\", \"MRK\", \"MRK\", \"MSFT\", \"MSFT\", \"MSFT\", \"MSFT\", \"MSFT\", \"MSFT\", \"MSFT\", \"MSFT\", \"MSFT\", \"MSFT\", \"MSFT\", \"MSFT\", \"MSFT\", \"MSFT\", \"MSFT\", \"MSFT\", \"MSFT\", \"MSFT\", \"MSFT\", \"MSFT\", \"MSFT\", \"MSFT\", \"MSFT\", \"MSFT\", \"MSFT\", \"MSFT\", \"MSFT\", \"MSFT\", \"MSFT\", \"MSFT\", \"MSFT\", \"MSFT\", \"MSFT\", \"MSFT\", \"MSFT\", \"MSFT\", \"MSFT\", \"MSFT\", \"MSFT\", \"MSFT\", \"MSFT\", \"MSFT\", \"MSFT\", \"MSFT\", \"MSFT\", \"MSFT\", \"MSFT\", \"MSFT\", \"MSFT\", \"MSFT\", \"MSFT\", \"MSFT\", \"MSFT\", \"NFLX\", \"NFLX\", \"NFLX\", \"NFLX\", \"NFLX\", \"NFLX\", \"NFLX\", \"NFLX\", \"NFLX\", \"NFLX\", \"NFLX\", \"NFLX\", \"NFLX\", \"NFLX\", \"NFLX\", \"NFLX\", \"NFLX\", \"NFLX\", \"NFLX\", \"NFLX\", \"NFLX\", \"NFLX\", \"NFLX\", \"NFLX\", \"NFLX\", \"NFLX\", \"NFLX\", \"NFLX\", \"NFLX\", \"NFLX\", \"NFLX\", \"NFLX\", \"NFLX\", \"NFLX\", \"NFLX\", \"NFLX\", \"NFLX\", \"NFLX\", \"NFLX\", \"NFLX\", \"NFLX\", \"NFLX\", \"NFLX\", \"NFLX\", \"NFLX\", \"NFLX\", \"NFLX\", \"NFLX\", \"NFLX\", \"NFLX\", \"NFLX\", \"NFLX\", \"NFLX\", \"NVDA\", \"NVDA\", \"NVDA\", \"NVDA\", \"NVDA\", \"NVDA\", \"NVDA\", \"NVDA\", \"NVDA\", \"NVDA\", \"NVDA\", \"NVDA\", \"NVDA\", \"NVDA\", \"NVDA\", \"NVDA\", \"NVDA\", \"NVDA\", \"NVDA\", \"NVDA\", \"NVDA\", \"NVDA\", \"NVDA\", \"NVDA\", \"NVDA\", \"NVDA\", \"NVDA\", \"NVDA\", \"NVDA\", \"NVDA\", \"NVDA\", \"NVDA\", \"NVDA\", \"NVDA\", \"NVDA\", \"NVDA\", \"NVDA\", \"NVDA\", \"NVDA\", \"NVDA\", \"NVDA\", \"NVDA\", \"NVDA\", \"NVDA\", \"NVDA\", \"NVDA\", \"NVDA\", \"NVDA\", \"NVDA\", \"NVDA\", \"NVDA\", \"NVDA\", \"NVDA\", \"NVS\", \"NVS\", \"NVS\", \"NVS\", \"NVS\", \"NVS\", \"NVS\", \"NVS\", \"NVS\", \"NVS\", \"NVS\", \"NVS\", \"NVS\", \"NVS\", \"NVS\", \"NVS\", \"NVS\", \"NVS\", \"NVS\", \"NVS\", \"NVS\", \"NVS\", \"NVS\", \"NVS\", \"NVS\", \"NVS\", \"NVS\", \"NVS\", \"NVS\", \"NVS\", \"NVS\", \"NVS\", \"NVS\", \"NVS\", \"NVS\", \"NVS\", \"NVS\", \"NVS\", \"NVS\", \"NVS\", \"NVS\", \"NVS\", \"NVS\", \"NVS\", \"NVS\", \"NVS\", \"NVS\", \"NVS\", \"NVS\", \"NVS\", \"NVS\", \"NVS\", \"NVS\", \"ORCL\", \"ORCL\", \"ORCL\", \"ORCL\", \"ORCL\", \"ORCL\", \"ORCL\", \"ORCL\", \"ORCL\", \"ORCL\", \"ORCL\", \"ORCL\", \"ORCL\", \"ORCL\", \"ORCL\", \"ORCL\", \"ORCL\", \"ORCL\", \"ORCL\", \"ORCL\", \"ORCL\", \"ORCL\", \"ORCL\", \"ORCL\", \"ORCL\", \"ORCL\", \"ORCL\", \"ORCL\", \"ORCL\", \"ORCL\", \"ORCL\", \"ORCL\", \"ORCL\", \"ORCL\", \"ORCL\", \"ORCL\", \"ORCL\", \"ORCL\", \"ORCL\", \"ORCL\", \"ORCL\", \"ORCL\", \"ORCL\", \"ORCL\", \"ORCL\", \"ORCL\", \"ORCL\", \"ORCL\", \"ORCL\", \"ORCL\", \"ORCL\", \"ORCL\", \"ORCL\", \"PDD\", \"PDD\", \"PDD\", \"PDD\", \"PDD\", \"PDD\", \"PDD\", \"PDD\", \"PDD\", \"PDD\", \"PDD\", \"PDD\", \"PDD\", \"PDD\", \"PDD\", \"PDD\", \"PDD\", \"PDD\", \"PDD\", \"PDD\", \"PDD\", \"PDD\", \"PDD\", \"PDD\", \"PDD\", \"PDD\", \"PDD\", \"PDD\", \"PDD\", \"PDD\", \"PDD\", \"PDD\", \"PDD\", \"PDD\", \"PDD\", \"PDD\", \"PDD\", \"PDD\", \"PDD\", \"PDD\", \"PDD\", \"PDD\", \"PDD\", \"PDD\", \"PDD\", \"PDD\", \"PDD\", \"PDD\", \"PDD\", \"PDD\", \"PDD\", \"PDD\", \"PDD\", \"PEP\", \"PEP\", \"PEP\", \"PEP\", \"PEP\", \"PEP\", \"PEP\", \"PEP\", \"PEP\", \"PEP\", \"PEP\", \"PEP\", \"PEP\", \"PEP\", \"PEP\", \"PEP\", \"PEP\", \"PEP\", \"PEP\", \"PEP\", \"PEP\", \"PEP\", \"PEP\", \"PEP\", \"PEP\", \"PEP\", \"PEP\", \"PEP\", \"PEP\", \"PEP\", \"PEP\", \"PEP\", \"PEP\", \"PEP\", \"PEP\", \"PEP\", \"PEP\", \"PEP\", \"PEP\", \"PEP\", \"PEP\", \"PEP\", \"PEP\", \"PEP\", \"PEP\", \"PEP\", \"PEP\", \"PEP\", \"PEP\", \"PEP\", \"PEP\", \"PEP\", \"PEP\", \"PFE\", \"PFE\", \"PFE\", \"PFE\", \"PFE\", \"PFE\", \"PFE\", \"PFE\", \"PFE\", \"PFE\", \"PFE\", \"PFE\", \"PFE\", \"PFE\", \"PFE\", \"PFE\", \"PFE\", \"PFE\", \"PFE\", \"PFE\", \"PFE\", \"PFE\", \"PFE\", \"PFE\", \"PFE\", \"PFE\", \"PFE\", \"PFE\", \"PFE\", \"PFE\", \"PFE\", \"PFE\", \"PFE\", \"PFE\", \"PFE\", \"PFE\", \"PFE\", \"PFE\", \"PFE\", \"PFE\", \"PFE\", \"PFE\", \"PFE\", \"PFE\", \"PFE\", \"PFE\", \"PFE\", \"PFE\", \"PFE\", \"PFE\", \"PFE\", \"PFE\", \"PFE\", \"PG\", \"PG\", \"PG\", \"PG\", \"PG\", \"PG\", \"PG\", \"PG\", \"PG\", \"PG\", \"PG\", \"PG\", \"PG\", \"PG\", \"PG\", \"PG\", \"PG\", \"PG\", \"PG\", \"PG\", \"PG\", \"PG\", \"PG\", \"PG\", \"PG\", \"PG\", \"PG\", \"PG\", \"PG\", \"PG\", \"PG\", \"PG\", \"PG\", \"PG\", \"PG\", \"PG\", \"PG\", \"PG\", \"PG\", \"PG\", \"PG\", \"PG\", \"PG\", \"PG\", \"PG\", \"PG\", \"PG\", \"PG\", \"PG\", \"PG\", \"PG\", \"PG\", \"PG\", \"PYPL\", \"PYPL\", \"PYPL\", \"PYPL\", \"PYPL\", \"PYPL\", \"PYPL\", \"PYPL\", \"PYPL\", \"PYPL\", \"PYPL\", \"PYPL\", \"PYPL\", \"PYPL\", \"PYPL\", \"PYPL\", \"PYPL\", \"PYPL\", \"PYPL\", \"PYPL\", \"PYPL\", \"PYPL\", \"PYPL\", \"PYPL\", \"PYPL\", \"PYPL\", \"PYPL\", \"PYPL\", \"PYPL\", \"PYPL\", \"PYPL\", \"PYPL\", \"PYPL\", \"PYPL\", \"PYPL\", \"PYPL\", \"PYPL\", \"PYPL\", \"PYPL\", \"PYPL\", \"PYPL\", \"PYPL\", \"PYPL\", \"PYPL\", \"PYPL\", \"PYPL\", \"PYPL\", \"PYPL\", \"PYPL\", \"PYPL\", \"PYPL\", \"PYPL\", \"PYPL\", \"T\", \"T\", \"T\", \"T\", \"T\", \"T\", \"T\", \"T\", \"T\", \"T\", \"T\", \"T\", \"T\", \"T\", \"T\", \"T\", \"T\", \"T\", \"T\", \"T\", \"T\", \"T\", \"T\", \"T\", \"T\", \"T\", \"T\", \"T\", \"T\", \"T\", \"T\", \"T\", \"T\", \"T\", \"T\", \"T\", \"T\", \"T\", \"T\", \"T\", \"T\", \"T\", \"T\", \"T\", \"T\", \"T\", \"T\", \"T\", \"T\", \"T\", \"T\", \"T\", \"T\", \"TM\", \"TM\", \"TM\", \"TM\", \"TM\", \"TM\", \"TM\", \"TM\", \"TM\", \"TM\", \"TM\", \"TM\", \"TM\", \"TM\", \"TM\", \"TM\", \"TM\", \"TM\", \"TM\", \"TM\", \"TM\", \"TM\", \"TM\", \"TM\", \"TM\", \"TM\", \"TM\", \"TM\", \"TM\", \"TM\", \"TM\", \"TM\", \"TM\", \"TM\", \"TM\", \"TM\", \"TM\", \"TM\", \"TM\", \"TM\", \"TM\", \"TM\", \"TM\", \"TM\", \"TM\", \"TM\", \"TM\", \"TM\", \"TM\", \"TM\", \"TM\", \"TM\", \"TM\", \"TMO\", \"TMO\", \"TMO\", \"TMO\", \"TMO\", \"TMO\", \"TMO\", \"TMO\", \"TMO\", \"TMO\", \"TMO\", \"TMO\", \"TMO\", \"TMO\", \"TMO\", \"TMO\", \"TMO\", \"TMO\", \"TMO\", \"TMO\", \"TMO\", \"TMO\", \"TMO\", \"TMO\", \"TMO\", \"TMO\", \"TMO\", \"TMO\", \"TMO\", \"TMO\", \"TMO\", \"TMO\", \"TMO\", \"TMO\", \"TMO\", \"TMO\", \"TMO\", \"TMO\", \"TMO\", \"TMO\", \"TMO\", \"TMO\", \"TMO\", \"TMO\", \"TMO\", \"TMO\", \"TMO\", \"TMO\", \"TMO\", \"TMO\", \"TMO\", \"TMO\", \"TMO\", \"TMUS\", \"TMUS\", \"TMUS\", \"TMUS\", \"TMUS\", \"TMUS\", \"TMUS\", \"TMUS\", \"TMUS\", \"TMUS\", \"TMUS\", \"TMUS\", \"TMUS\", \"TMUS\", \"TMUS\", \"TMUS\", \"TMUS\", \"TMUS\", \"TMUS\", \"TMUS\", \"TMUS\", \"TMUS\", \"TMUS\", \"TMUS\", \"TMUS\", \"TMUS\", \"TMUS\", \"TMUS\", \"TMUS\", \"TMUS\", \"TMUS\", \"TMUS\", \"TMUS\", \"TMUS\", \"TMUS\", \"TMUS\", \"TMUS\", \"TMUS\", \"TMUS\", \"TMUS\", \"TMUS\", \"TMUS\", \"TMUS\", \"TMUS\", \"TMUS\", \"TMUS\", \"TMUS\", \"TMUS\", \"TMUS\", \"TMUS\", \"TMUS\", \"TMUS\", \"TMUS\", \"TSLA\", \"TSLA\", \"TSLA\", \"TSLA\", \"TSLA\", \"TSLA\", \"TSLA\", \"TSLA\", \"TSLA\", \"TSLA\", \"TSLA\", \"TSLA\", \"TSLA\", \"TSLA\", \"TSLA\", \"TSLA\", \"TSLA\", \"TSLA\", \"TSLA\", \"TSLA\", \"TSLA\", \"TSLA\", \"TSLA\", \"TSLA\", \"TSLA\", \"TSLA\", \"TSLA\", \"TSLA\", \"TSLA\", \"TSLA\", \"TSLA\", \"TSLA\", \"TSLA\", \"TSLA\", \"TSLA\", \"TSLA\", \"TSLA\", \"TSLA\", \"TSLA\", \"TSLA\", \"TSLA\", \"TSLA\", \"TSLA\", \"TSLA\", \"TSLA\", \"TSLA\", \"TSLA\", \"TSLA\", \"TSLA\", \"TSLA\", \"TSLA\", \"TSLA\", \"TSLA\", \"TSM\", \"TSM\", \"TSM\", \"TSM\", \"TSM\", \"TSM\", \"TSM\", \"TSM\", \"TSM\", \"TSM\", \"TSM\", \"TSM\", \"TSM\", \"TSM\", \"TSM\", \"TSM\", \"TSM\", \"TSM\", \"TSM\", \"TSM\", \"TSM\", \"TSM\", \"TSM\", \"TSM\", \"TSM\", \"TSM\", \"TSM\", \"TSM\", \"TSM\", \"TSM\", \"TSM\", \"TSM\", \"TSM\", \"TSM\", \"TSM\", \"TSM\", \"TSM\", \"TSM\", \"TSM\", \"TSM\", \"TSM\", \"TSM\", \"TSM\", \"TSM\", \"TSM\", \"TSM\", \"TSM\", \"TSM\", \"TSM\", \"TSM\", \"TSM\", \"TSM\", \"TSM\", \"UN\", \"UN\", \"UN\", \"UN\", \"UN\", \"UN\", \"UN\", \"UN\", \"UN\", \"UN\", \"UN\", \"UN\", \"UN\", \"UN\", \"UN\", \"UN\", \"UN\", \"UN\", \"UN\", \"UN\", \"UN\", \"UN\", \"UN\", \"UN\", \"UN\", \"UN\", \"UN\", \"UN\", \"UN\", \"UN\", \"UN\", \"UN\", \"UN\", \"UN\", \"UN\", \"UN\", \"UN\", \"UN\", \"UN\", \"UN\", \"UN\", \"UN\", \"UN\", \"UN\", \"UN\", \"UN\", \"UN\", \"UN\", \"UN\", \"UN\", \"UN\", \"UN\", \"UN\", \"UNH\", \"UNH\", \"UNH\", \"UNH\", \"UNH\", \"UNH\", \"UNH\", \"UNH\", \"UNH\", \"UNH\", \"UNH\", \"UNH\", \"UNH\", \"UNH\", \"UNH\", \"UNH\", \"UNH\", \"UNH\", \"UNH\", \"UNH\", \"UNH\", \"UNH\", \"UNH\", \"UNH\", \"UNH\", \"UNH\", \"UNH\", \"UNH\", \"UNH\", \"UNH\", \"UNH\", \"UNH\", \"UNH\", \"UNH\", \"UNH\", \"UNH\", \"UNH\", \"UNH\", \"UNH\", \"UNH\", \"UNH\", \"UNH\", \"UNH\", \"UNH\", \"UNH\", \"UNH\", \"UNH\", \"UNH\", \"UNH\", \"UNH\", \"UNH\", \"UNH\", \"UNH\", \"VZ\", \"VZ\", \"VZ\", \"VZ\", \"VZ\", \"VZ\", \"VZ\", \"VZ\", \"VZ\", \"VZ\", \"VZ\", \"VZ\", \"VZ\", \"VZ\", \"VZ\", \"VZ\", \"VZ\", \"VZ\", \"VZ\", \"VZ\", \"VZ\", \"VZ\", \"VZ\", \"VZ\", \"VZ\", \"VZ\", \"VZ\", \"VZ\", \"VZ\", \"VZ\", \"VZ\", \"VZ\", \"VZ\", \"VZ\", \"VZ\", \"VZ\", \"VZ\", \"VZ\", \"VZ\", \"VZ\", \"VZ\", \"VZ\", \"VZ\", \"VZ\", \"VZ\", \"VZ\", \"VZ\", \"VZ\", \"VZ\", \"VZ\", \"VZ\", \"VZ\", \"VZ\", \"WMT\", \"WMT\", \"WMT\", \"WMT\", \"WMT\", \"WMT\", \"WMT\", \"WMT\", \"WMT\", \"WMT\", \"WMT\", \"WMT\", \"WMT\", \"WMT\", \"WMT\", \"WMT\", \"WMT\", \"WMT\", \"WMT\", \"WMT\", \"WMT\", \"WMT\", \"WMT\", \"WMT\", \"WMT\", \"WMT\", \"WMT\", \"WMT\", \"WMT\", \"WMT\", \"WMT\", \"WMT\", \"WMT\", \"WMT\", \"WMT\", \"WMT\", \"WMT\", \"WMT\", \"WMT\", \"WMT\", \"WMT\", \"WMT\", \"WMT\", \"WMT\", \"WMT\", \"WMT\", \"WMT\", \"WMT\", \"WMT\", \"WMT\", \"WMT\", \"WMT\", \"WMT\"], \"x0\": \" \", \"xaxis\": \"x\", \"y\": [null, null, null, null, null, null, null, null, null, null, null, null, null, null, null, null, null, null, null, null, null, null, null, null, null, null, null, null, null, null, null, null, null, 0.2571428571428571, null, null, null, null, null, null, null, null, null, null, 0.16, null, 0.24285714285714285, null, null, 0.1403799903799904, 0.19214749536178105, null, null, null, null, null, null, null, null, null, null, null, null, null, null, null, null, null, null, null, null, null, null, null, null, null, 0.35, null, null, 0.1, 0.12222222222222223, null, null, null, null, null, null, null, null, 0.15, 0.25, null, null, 0.05, null, null, null, 0.12384259259259263, -0.16666666666666666, 0.2393939393939394, 0.23042929292929293, 0.2866666666666666, null, null, null, null, null, null, null, null, null, null, null, null, null, null, null, null, null, null, null, null, null, null, null, null, null, null, null, null, null, null, null, null, 0.25, null, null, null, null, null, null, null, null, null, null, null, null, null, -0.08560606060606057, -0.1, 0.07363636363636364, -0.15833333333333333, null, 0.10000000000000002, 6.938893903907228e-18, 0.06818181818181818, 0.25, null, null, null, null, null, 0.0625, null, null, null, null, null, null, null, null, null, null, null, 0.6, null, null, null, null, null, null, null, null, null, null, null, null, null, null, null, null, null, null, null, null, null, null, null, null, null, null, null, null, null, null, 0.07, 0.21666666666666667, 0.275, 0.25, null, null, null, null, null, null, null, null, null, null, null, null, null, null, null, null, null, null, null, null, null, null, null, null, null, null, null, null, null, null, null, null, null, null, null, null, null, null, null, null, null, null, null, null, null, null, null, 0.3666666666666667, -0.6, -0.21547619047619046, null, null, 0.06906565656565657, 0.21656862745098038, null, null, null, 0.06818181818181818, 0.0037878787878787845, null, 0.13636363636363635, null, null, null, null, null, null, null, null, null, null, null, null, null, null, null, null, null, null, null, null, null, null, null, null, null, null, null, 0.28769841269841273, 0.43333333333333335, null, null, 0.13636363636363635, null, 0.25, null, null, 0.65, null, 0.17532467532467533, 0.06818181818181818, 0.7, 0.06818181818181818, -0.03787878787878788, null, 0.15, null, null, null, null, null, null, null, null, null, null, null, null, null, null, null, null, null, null, null, null, null, null, null, null, null, null, null, null, null, null, -0.03571428571428571, null, null, null, null, null, null, null, 0.13636363636363635, 0.15, null, null, null, null, null, null, null, 0.5, null, null, 0.28030303030303033, 0.23333333333333334, 0.020634920634920634, 0.1024090909090909, null, null, null, null, null, null, null, null, null, null, null, null, null, null, null, null, null, null, null, null, null, null, null, null, null, 0.25, null, null, 0.3181818181818182, null, null, null, null, null, null, null, null, 0.4, null, null, null, null, null, null, null, null, null, null, null, null, null, -0.005656565656565659, 0.4642857142857143, null, null, null, null, null, null, null, null, null, null, null, null, null, null, null, null, null, null, null, null, null, null, null, null, 0.375, -0.05, null, null, null, null, null, null, null, null, null, null, null, null, null, 0.0047619047619047545, null, null, null, null, null, null, null, null, null, null, 0.13333333333333333, -0.02677616501145913, 0.16818181818181818, null, null, null, null, null, null, null, null, null, null, null, null, null, null, null, null, null, 0.3875, null, null, null, null, null, null, 0.11249999999999999, null, null, null, null, null, null, null, null, null, null, null, null, null, null, null, null, null, null, null, null, null, null, null, 0.3181818181818182, 0.2305194805194805, null, 0.37013888888888885, 0.059848484848484845, null, null, null, null, null, null, null, null, null, null, null, null, null, null, null, 0.06818181818181818, null, null, null, null, null, null, null, null, null, null, null, null, null, 0.1875, null, null, null, null, null, null, null, null, null, null, 0.19999999999999998, null, null, -0.09999999999999999, null, 0.38541666666666663, null, null, null, null, 0.11363636363636363, 0.14820913213770356, null, null, null, null, null, null, null, null, null, null, null, null, null, null, null, null, null, null, null, null, null, null, null, null, null, null, null, null, null, null, null, null, null, null, null, null, null, null, null, null, null, 0.13636363636363635, null, null, 0.375, null, -0.1, 0.10714285714285714, 0.10714285714285714, 0.13636363636363635, 0.12181818181818183, 0.19285714285714287, 0.1888257575757576, 0.36666666666666664, null, null, null, null, null, null, null, null, null, null, null, null, null, null, null, null, null, 0.44999999999999996, null, null, null, null, null, null, null, 0.5166666666666667, null, null, null, null, null, null, null, null, null, null, null, null, null, null, null, null, null, null, null, null, 0.3, null, null, 0.4, -0.17276785714285714, 0.15876015797068432, 0.16999999999999998, null, null, null, null, null, null, null, null, null, null, null, null, null, null, null, null, null, null, null, null, null, null, null, null, null, null, null, 0.5, null, null, null, null, null, null, 0.25, 0.0909090909090909, 0.3, null, null, null, null, null, null, null, null, 0.06818181818181818, -0.1, 0.28125, null, null, 0.26666666666666666, null, 0.25, null, null, null, null, null, null, null, null, null, null, null, null, null, null, null, null, null, null, null, null, null, null, null, null, null, null, null, null, null, null, null, null, null, null, null, null, 0.5136363636363637, 1.0, null, null, null, null, null, null, null, null, null, null, null, null, null, 0.5, 0.07358080808080808, null, null, null, null, null, null, null, null, null, null, null, null, null, null, null, null, null, null, null, null, null, null, null, null, null, null, null, null, null, null, null, null, null, null, null, null, null, null, null, null, null, null, null, null, null, null, null, null, 0.4, 0.665625, null, 0.4211309523809524, 0.16385796742939598, null, null, null, null, null, null, null, null, null, null, null, null, null, null, null, null, null, null, null, null, null, null, null, null, null, null, null, null, null, null, null, null, null, null, null, null, null, null, null, null, null, null, null, null, null, null, null, null, 0.4, 0.665625, null, 0.6071428571428571, 0.15196452098626012, null, null, null, null, null, null, null, null, null, null, null, null, null, null, null, null, null, null, 0.5, null, null, null, -0.15000000000000002, null, null, null, null, null, null, null, null, 0.16477272727272727, null, null, null, null, null, null, null, null, null, null, null, null, null, null, null, -0.05, 0.26250000000000007, 0.05909090909090908, 0.4819444444444444, 0.06997354497354497, null, null, null, null, null, null, null, null, null, null, null, null, null, null, null, null, null, null, null, null, null, null, null, null, null, null, null, null, null, null, null, 0.21212121212121213, null, null, null, null, null, null, null, null, null, null, null, null, null, null, null, null, null, null, null, 0.17988215488215487, 0.047011784511784505, 0.18407828282828284, null, null, null, null, null, null, null, null, null, null, null, null, null, null, null, null, null, null, null, null, null, null, null, null, null, null, null, null, null, null, null, null, null, null, null, null, null, null, null, null, null, null, 0.5, null, null, null, null, null, null, null, null, null, 0.16687799043062201, null, null, null, null, null, null, null, null, null, null, null, null, null, null, null, null, null, null, null, null, null, null, null, null, -0.02500000000000001, null, null, null, null, null, null, null, null, -0.1, -0.07500000000000001, 0.1, null, null, -0.13333333333333333, null, null, null, null, null, null, null, -0.015151515151515152, null, null, 0.5, null, 0.07614237614237614, 0.171900826446281, null, null, null, null, null, null, null, null, null, null, null, null, null, null, null, null, null, null, null, null, null, null, null, null, null, null, null, null, null, null, null, null, null, null, 0.375, null, null, null, null, null, null, null, null, null, null, 0.06818181818181818, null, null, null, -0.06060606060606061, 0.18219696969696966, 0.35401515151515156, null, null, null, null, null, null, null, null, null, null, null, null, null, null, null, null, null, null, null, null, null, null, null, null, null, null, null, null, null, null, null, null, null, null, null, null, null, 0.25, null, null, 0.13333333333333333, null, null, null, null, null, null, 0.05, -0.12708333333333333, 0.2333333333333333, 0.1400462962962963, 0.050520833333333334, null, 0.4047619047619048, null, null, null, null, null, null, null, null, null, null, null, null, null, null, null, null, null, null, 0.1, null, 0.14545454545454548, null, 0.16944444444444443, 0.5, 0.09999999999999999, null, null, null, null, null, null, null, null, null, null, null, null, null, -0.25, null, null, null, null, null, null, 0.13636363636363635, null, null, null, null, -0.052777777777777785, -0.19399621212121212, 0.25, null, null, null, null, null, null, null, null, null, null, null, null, null, null, null, null, null, null, null, null, null, null, null, null, 0.1, null, null, null, null, 0.16363636363636364, 0.3, null, null, null, null, null, null, null, -0.05, null, null, null, -0.2, null, null, null, null, -0.1, 0.03749999999999999, -0.01818181818181819, 0.06679894179894179, 0.07142857142857144, -0.017857142857142863, null, null, null, null, null, null, null, null, null, null, null, null, null, null, null, null, null, null, null, null, null, null, null, null, null, null, null, null, null, null, null, null, null, null, null, null, null, null, null, null, null, null, null, null, null, null, null, null, 0.1, 0.18484848484848482, null, 0.19932659932659932, 0.21037731208185753, null, null, null, null, null, null, null, null, null, null, null, null, null, null, null, null, null, null, null, null, null, null, null, null, null, null, null, null, null, 0.06818181818181818, null, null, null, null, null, null, -0.05, null, null, null, null, null, null, null, null, null, null, null, 0.05, null, null, 0.025541125541125555, 0.18174469563358453, null, null, null, null, null, null, null, null, null, null, null, null, null, null, null, null, null, null, null, null, null, null, null, null, null, null, null, null, null, -0.1, 0.17424242424242425, null, null, null, null, null, null, null, null, null, null, null, null, null, null, 0.04166666666666667, null, null, null, 0.21428571428571427, 0.38888888888888884, -0.16388888888888895, 0.24784090909090908, null, null, null, null, null, null, null, null, null, null, null, null, null, null, null, null, null, null, null, null, null, null, null, null, null, null, null, null, null, null, null, null, null, null, null, null, null, null, null, -0.075, null, 0.25, null, 0.3, null, null, null, 0.7, 0.20547979797979798, 0.2398148148148148, null, 0.08090132090132089, null, null, null, null, null, null, null, null, null, null, null, null, null, null, null, null, null, null, null, null, null, null, null, null, null, null, null, null, null, null, null, null, -0.1, null, null, 0.3181818181818182, null, 0.13636363636363635, null, null, 0.13636363636363635, null, null, null, null, null, null, null, null, null, -0.21666666666666665, 0.00714285714285715, -0.5, null, null, null, null, null, null, null, null, 0.35, 0.13636363636363635, null, 0.1481818181818182, null, null, null, 0.06818181818181818, null, null, null, null, null, null, null, null, null, null, null, null, null, null, null, null, null, null, null, null, null, null, null, null, -0.6, 0.5, null, null, null, null, null, null, 0.25, 0.3125, 0.05013144263144263, 0.06022727272727273, 0.15, null, null, null, null, null, null, null, null, null, null, null, null, null, null, null, null, null, null, null, null, null, null, null, null, null, null, null, null, null, null, -0.08333333333333333, -0.16666666666666666, null, null, null, null, -0.015151515151515152, 0.4444444444444444, null, null, null, null, 0.13636363636363635, null, null, null, 0.11161616161616161, null, null, 0.20166666666666666, 0.19494949494949496, 0.016883116883116885, 0.03333333333333333, null, null, null, null, null, null, null, null, null, null, null, null, null, null, null, null, null, null, null, null, null, null, null, null, null, null, null, null, null, null, null, null, null, null, null, null, null, null, null, null, null, null, null, null, null, null, null, 0.3, 0.06818181818181818, 0.36189393939393943, null, null, 0.3190476190476191, 0.16124242424242427, null, null, null, null, null, null, null, null, null, null, null, null, null, null, null, null, null, null, null, null, null, null, null, null, null, null, null, null, null, 0.125, null, null, null, null, null, null, null, null, 0.15, null, null, null, null, 0.37142857142857144, null, 0.011882716049382708, 0.18825757575757576, null, null, 0.06419753086419755, -0.15, 0.35, null, null, null, null, null, null, null, null, null, null, null, null, null, null, null, null, null, null, null, null, null, null, null, null, null, 0.10378787878787878, null, null, null, null, 0.65, null, 0.125, null, null, null, null, 0.5, null, null, null, null, null, null, null, null, null, 0.5, null, null, null, null, 0.13676353535353533, 0.2912037037037037, null, null, null, null, null, null, null, null, null, null, null, null, null, null, null, null, null, null, null, null, null, null, null, null, null, null, null, null, null, null, null, null, null, null, null, null, null, 0.3, null, null, null, null, null, null, null, null, 0.15, null, 0.11818181818181817, 0.4, null, -0.06477272727272727, 0.27878787878787875, null, null, null, null, null, null, null, null, null, null, null, null, null, null, null, null, null, null, null, null, null, null, null, null, null, null, null, null, null, null, null, null, null, null, null, null, null, null, null, null, null, null, 0.3, null, null, 0.25, 0.39583333333333337, 0.5, -0.1, 0.1619047619047619, 0.4520833333333334, 0.11248737373737376, 0.18869949494949495, null, null, null, null, null, null, null, null, null, null, null, null, null, null, null, null, null, null, null, null, null, null, null, null, null, null, null, null, -0.06666666666666667, null, 0.25, null, null, null, 0.25, null, null, 0.13636363636363635, null, 0.16666666666666666, null, null, null, null, null, null, null, 0.24166666666666664, null, 0.17027777777777783, null, 0.21428571428571427, null, null, null, null, null, null, null, null, null, null, null, null, null, null, null, null, null, null, null, null, null, null, null, 0.35, 0.13636363636363635, null, -0.25, null, null, 0.2090909090909091, 0.1, null, null, null, null, null, null, null, 0.3, null, null, null, null, null, null, null, null, null, null, 0.04545454545454545, 0.21119949494949497, 0.1796969696969697, 0.24204545454545454, -0.007575757575757579, null, null, null, null, null, null, null, null, null, 0.2, null, 0.4, 0.19999999999999998, 0.15833333333333333, null, null, null, null, null, null, -0.15, null, null, null, null, null, 0.2, null, null, null, null, null, null, null, null, null, null, null, null, null, null, null, null, null, null, null, null, null, null, null, null, 0.16266684704184703, 0.20813492063492064, null, null, 0.5, null, null, null, null, null, null, null, null, null, null, null, null, null, null, null, null, null, null, 0.06818181818181818, null, null, null, 0.06818181818181818, null, null, null, null, null, null, null, null, null, null, null, null, 0.5, null, null, null, null, null, null, null, 0.041666666666666664, 0.03392857142857142, 0.05107323232323231, 0.29393939393939394, 0.1392857142857143, 0.07273809523809523, 0.5, 0.2, 0.15, null, null, null, null, null, null, null, null, null, null, null, null, null, null, null, null, null, null, null, null, null, -0.2, null, null, null, null, null, 0.5, null, null, null, null, null, null, null, null, null, null, null, null, 0.13636363636363635, null, null, null, 0.05, null, null, 0.275, 0.09999999999999998, -0.2333333333333333, null, null, null, null, null, null, null, null, null, null, null, null, null, null, null, null, null, null, null, null, null, null, null, null, null, 0.2852272727272727, null, null, null, 0.04545454545454545, null, null, null, 0.04545454545454545, null, null, null, null, null, null, null, null, null, null, null, null, null, -0.1, null, 0.16666666666666666, 0.0909090909090909, 0.5, 0.1268843193843194, null, null, null, null, null, null, null, null, null, null, null, null, null, null, null, null, null, null, null, null, null, null, null, null, null, null, null, null, null, null, null, null, null, null, null, null, null, 0.25833333333333336, 0.3, null, 0.2285714285714286, null, null, null, null, null, 0.2833333333333333, 0.10714285714285714, 0.25, null, 0.26753246753246746, 0.14375, 0.16425133689839574, 0.19166666666666668, null, null, null, null, null, null, null, null, null, null, null, null, null, null, null, null, 0.125, null, null, 0.7, null, null, null, null, null, null, null, null, null, null, null, null, null, null, null, null, null, null, null, null, null, null, null, null, null, 0.5, null, null, null, 0.25, 0.23854166666666665, 0.0560474537037037, -0.016666666666666673, null, null], \"y0\": \" \", \"yaxis\": \"y\"}],                        {\"boxmode\": \"group\", \"legend\": {\"tracegroupgap\": 0}, \"template\": {\"data\": {\"bar\": [{\"error_x\": {\"color\": \"#f2f5fa\"}, \"error_y\": {\"color\": \"#f2f5fa\"}, \"marker\": {\"line\": {\"color\": \"rgb(17,17,17)\", \"width\": 0.5}}, \"type\": \"bar\"}], \"barpolar\": [{\"marker\": {\"line\": {\"color\": \"rgb(17,17,17)\", \"width\": 0.5}}, \"type\": \"barpolar\"}], \"carpet\": [{\"aaxis\": {\"endlinecolor\": \"#A2B1C6\", \"gridcolor\": \"#506784\", \"linecolor\": \"#506784\", \"minorgridcolor\": \"#506784\", \"startlinecolor\": \"#A2B1C6\"}, \"baxis\": {\"endlinecolor\": \"#A2B1C6\", \"gridcolor\": \"#506784\", \"linecolor\": \"#506784\", \"minorgridcolor\": \"#506784\", \"startlinecolor\": \"#A2B1C6\"}, \"type\": \"carpet\"}], \"choropleth\": [{\"colorbar\": {\"outlinewidth\": 0, \"ticks\": \"\"}, \"type\": \"choropleth\"}], \"contour\": [{\"colorbar\": {\"outlinewidth\": 0, \"ticks\": \"\"}, \"colorscale\": [[0.0, \"#0d0887\"], [0.1111111111111111, \"#46039f\"], [0.2222222222222222, \"#7201a8\"], [0.3333333333333333, \"#9c179e\"], [0.4444444444444444, \"#bd3786\"], [0.5555555555555556, \"#d8576b\"], [0.6666666666666666, \"#ed7953\"], [0.7777777777777778, \"#fb9f3a\"], [0.8888888888888888, \"#fdca26\"], [1.0, \"#f0f921\"]], \"type\": \"contour\"}], \"contourcarpet\": [{\"colorbar\": {\"outlinewidth\": 0, \"ticks\": \"\"}, \"type\": \"contourcarpet\"}], \"heatmap\": [{\"colorbar\": {\"outlinewidth\": 0, \"ticks\": \"\"}, \"colorscale\": [[0.0, \"#0d0887\"], [0.1111111111111111, \"#46039f\"], [0.2222222222222222, \"#7201a8\"], [0.3333333333333333, \"#9c179e\"], [0.4444444444444444, \"#bd3786\"], [0.5555555555555556, \"#d8576b\"], [0.6666666666666666, \"#ed7953\"], [0.7777777777777778, \"#fb9f3a\"], [0.8888888888888888, \"#fdca26\"], [1.0, \"#f0f921\"]], \"type\": \"heatmap\"}], \"heatmapgl\": [{\"colorbar\": {\"outlinewidth\": 0, \"ticks\": \"\"}, \"colorscale\": [[0.0, \"#0d0887\"], [0.1111111111111111, \"#46039f\"], [0.2222222222222222, \"#7201a8\"], [0.3333333333333333, \"#9c179e\"], [0.4444444444444444, \"#bd3786\"], [0.5555555555555556, \"#d8576b\"], [0.6666666666666666, \"#ed7953\"], [0.7777777777777778, \"#fb9f3a\"], [0.8888888888888888, \"#fdca26\"], [1.0, \"#f0f921\"]], \"type\": \"heatmapgl\"}], \"histogram\": [{\"marker\": {\"colorbar\": {\"outlinewidth\": 0, \"ticks\": \"\"}}, \"type\": \"histogram\"}], \"histogram2d\": [{\"colorbar\": {\"outlinewidth\": 0, \"ticks\": \"\"}, \"colorscale\": [[0.0, \"#0d0887\"], [0.1111111111111111, \"#46039f\"], [0.2222222222222222, \"#7201a8\"], [0.3333333333333333, \"#9c179e\"], [0.4444444444444444, \"#bd3786\"], [0.5555555555555556, \"#d8576b\"], [0.6666666666666666, \"#ed7953\"], [0.7777777777777778, \"#fb9f3a\"], [0.8888888888888888, \"#fdca26\"], [1.0, \"#f0f921\"]], \"type\": \"histogram2d\"}], \"histogram2dcontour\": [{\"colorbar\": {\"outlinewidth\": 0, \"ticks\": \"\"}, \"colorscale\": [[0.0, \"#0d0887\"], [0.1111111111111111, \"#46039f\"], [0.2222222222222222, \"#7201a8\"], [0.3333333333333333, \"#9c179e\"], [0.4444444444444444, \"#bd3786\"], [0.5555555555555556, \"#d8576b\"], [0.6666666666666666, \"#ed7953\"], [0.7777777777777778, \"#fb9f3a\"], [0.8888888888888888, \"#fdca26\"], [1.0, \"#f0f921\"]], \"type\": \"histogram2dcontour\"}], \"mesh3d\": [{\"colorbar\": {\"outlinewidth\": 0, \"ticks\": \"\"}, \"type\": \"mesh3d\"}], \"parcoords\": [{\"line\": {\"colorbar\": {\"outlinewidth\": 0, \"ticks\": \"\"}}, \"type\": \"parcoords\"}], \"pie\": [{\"automargin\": true, \"type\": \"pie\"}], \"scatter\": [{\"marker\": {\"line\": {\"color\": \"#283442\"}}, \"type\": \"scatter\"}], \"scatter3d\": [{\"line\": {\"colorbar\": {\"outlinewidth\": 0, \"ticks\": \"\"}}, \"marker\": {\"colorbar\": {\"outlinewidth\": 0, \"ticks\": \"\"}}, \"type\": \"scatter3d\"}], \"scattercarpet\": [{\"marker\": {\"colorbar\": {\"outlinewidth\": 0, \"ticks\": \"\"}}, \"type\": \"scattercarpet\"}], \"scattergeo\": [{\"marker\": {\"colorbar\": {\"outlinewidth\": 0, \"ticks\": \"\"}}, \"type\": \"scattergeo\"}], \"scattergl\": [{\"marker\": {\"line\": {\"color\": \"#283442\"}}, \"type\": \"scattergl\"}], \"scattermapbox\": [{\"marker\": {\"colorbar\": {\"outlinewidth\": 0, \"ticks\": \"\"}}, \"type\": \"scattermapbox\"}], \"scatterpolar\": [{\"marker\": {\"colorbar\": {\"outlinewidth\": 0, \"ticks\": \"\"}}, \"type\": \"scatterpolar\"}], \"scatterpolargl\": [{\"marker\": {\"colorbar\": {\"outlinewidth\": 0, \"ticks\": \"\"}}, \"type\": \"scatterpolargl\"}], \"scatterternary\": [{\"marker\": {\"colorbar\": {\"outlinewidth\": 0, \"ticks\": \"\"}}, \"type\": \"scatterternary\"}], \"surface\": [{\"colorbar\": {\"outlinewidth\": 0, \"ticks\": \"\"}, \"colorscale\": [[0.0, \"#0d0887\"], [0.1111111111111111, \"#46039f\"], [0.2222222222222222, \"#7201a8\"], [0.3333333333333333, \"#9c179e\"], [0.4444444444444444, \"#bd3786\"], [0.5555555555555556, \"#d8576b\"], [0.6666666666666666, \"#ed7953\"], [0.7777777777777778, \"#fb9f3a\"], [0.8888888888888888, \"#fdca26\"], [1.0, \"#f0f921\"]], \"type\": \"surface\"}], \"table\": [{\"cells\": {\"fill\": {\"color\": \"#506784\"}, \"line\": {\"color\": \"rgb(17,17,17)\"}}, \"header\": {\"fill\": {\"color\": \"#2a3f5f\"}, \"line\": {\"color\": \"rgb(17,17,17)\"}}, \"type\": \"table\"}]}, \"layout\": {\"annotationdefaults\": {\"arrowcolor\": \"#f2f5fa\", \"arrowhead\": 0, \"arrowwidth\": 1}, \"coloraxis\": {\"colorbar\": {\"outlinewidth\": 0, \"ticks\": \"\"}}, \"colorscale\": {\"diverging\": [[0, \"#8e0152\"], [0.1, \"#c51b7d\"], [0.2, \"#de77ae\"], [0.3, \"#f1b6da\"], [0.4, \"#fde0ef\"], [0.5, \"#f7f7f7\"], [0.6, \"#e6f5d0\"], [0.7, \"#b8e186\"], [0.8, \"#7fbc41\"], [0.9, \"#4d9221\"], [1, \"#276419\"]], \"sequential\": [[0.0, \"#0d0887\"], [0.1111111111111111, \"#46039f\"], [0.2222222222222222, \"#7201a8\"], [0.3333333333333333, \"#9c179e\"], [0.4444444444444444, \"#bd3786\"], [0.5555555555555556, \"#d8576b\"], [0.6666666666666666, \"#ed7953\"], [0.7777777777777778, \"#fb9f3a\"], [0.8888888888888888, \"#fdca26\"], [1.0, \"#f0f921\"]], \"sequentialminus\": [[0.0, \"#0d0887\"], [0.1111111111111111, \"#46039f\"], [0.2222222222222222, \"#7201a8\"], [0.3333333333333333, \"#9c179e\"], [0.4444444444444444, \"#bd3786\"], [0.5555555555555556, \"#d8576b\"], [0.6666666666666666, \"#ed7953\"], [0.7777777777777778, \"#fb9f3a\"], [0.8888888888888888, \"#fdca26\"], [1.0, \"#f0f921\"]]}, \"colorway\": [\"#636efa\", \"#EF553B\", \"#00cc96\", \"#ab63fa\", \"#FFA15A\", \"#19d3f3\", \"#FF6692\", \"#B6E880\", \"#FF97FF\", \"#FECB52\"], \"font\": {\"color\": \"#f2f5fa\"}, \"geo\": {\"bgcolor\": \"rgb(17,17,17)\", \"lakecolor\": \"rgb(17,17,17)\", \"landcolor\": \"rgb(17,17,17)\", \"showlakes\": true, \"showland\": true, \"subunitcolor\": \"#506784\"}, \"hoverlabel\": {\"align\": \"left\"}, \"hovermode\": \"closest\", \"mapbox\": {\"style\": \"dark\"}, \"paper_bgcolor\": \"rgb(17,17,17)\", \"plot_bgcolor\": \"rgb(17,17,17)\", \"polar\": {\"angularaxis\": {\"gridcolor\": \"#506784\", \"linecolor\": \"#506784\", \"ticks\": \"\"}, \"bgcolor\": \"rgb(17,17,17)\", \"radialaxis\": {\"gridcolor\": \"#506784\", \"linecolor\": \"#506784\", \"ticks\": \"\"}}, \"scene\": {\"xaxis\": {\"backgroundcolor\": \"rgb(17,17,17)\", \"gridcolor\": \"#506784\", \"gridwidth\": 2, \"linecolor\": \"#506784\", \"showbackground\": true, \"ticks\": \"\", \"zerolinecolor\": \"#C8D4E3\"}, \"yaxis\": {\"backgroundcolor\": \"rgb(17,17,17)\", \"gridcolor\": \"#506784\", \"gridwidth\": 2, \"linecolor\": \"#506784\", \"showbackground\": true, \"ticks\": \"\", \"zerolinecolor\": \"#C8D4E3\"}, \"zaxis\": {\"backgroundcolor\": \"rgb(17,17,17)\", \"gridcolor\": \"#506784\", \"gridwidth\": 2, \"linecolor\": \"#506784\", \"showbackground\": true, \"ticks\": \"\", \"zerolinecolor\": \"#C8D4E3\"}}, \"shapedefaults\": {\"line\": {\"color\": \"#f2f5fa\"}}, \"sliderdefaults\": {\"bgcolor\": \"#C8D4E3\", \"bordercolor\": \"rgb(17,17,17)\", \"borderwidth\": 1, \"tickwidth\": 0}, \"ternary\": {\"aaxis\": {\"gridcolor\": \"#506784\", \"linecolor\": \"#506784\", \"ticks\": \"\"}, \"baxis\": {\"gridcolor\": \"#506784\", \"linecolor\": \"#506784\", \"ticks\": \"\"}, \"bgcolor\": \"rgb(17,17,17)\", \"caxis\": {\"gridcolor\": \"#506784\", \"linecolor\": \"#506784\", \"ticks\": \"\"}}, \"title\": {\"x\": 0.05}, \"updatemenudefaults\": {\"bgcolor\": \"#506784\", \"borderwidth\": 0}, \"xaxis\": {\"automargin\": true, \"gridcolor\": \"#283442\", \"linecolor\": \"#506784\", \"ticks\": \"\", \"title\": {\"standoff\": 15}, \"zerolinecolor\": \"#283442\", \"zerolinewidth\": 2}, \"yaxis\": {\"automargin\": true, \"gridcolor\": \"#283442\", \"linecolor\": \"#506784\", \"ticks\": \"\", \"title\": {\"standoff\": 15}, \"zerolinecolor\": \"#283442\", \"zerolinewidth\": 2}}}, \"title\": {\"text\": \"Distribution of the Polarity of Stock Headlines\"}, \"xaxis\": {\"anchor\": \"y\", \"domain\": [0.0, 1.0], \"title\": {\"text\": \"ticker\"}}, \"yaxis\": {\"anchor\": \"x\", \"domain\": [0.0, 1.0], \"title\": {\"text\": \"Polarity\"}}},                        {\"responsive\": true}                    ).then(function(){\n",
       "                            \n",
       "var gd = document.getElementById('8b69a138-1d6f-450f-be15-44f5fc795bf3');\n",
       "var x = new MutationObserver(function (mutations, observer) {{\n",
       "        var display = window.getComputedStyle(gd).display;\n",
       "        if (!display || display === 'none') {{\n",
       "            console.log([gd, 'removed!']);\n",
       "            Plotly.purge(gd);\n",
       "            observer.disconnect();\n",
       "        }}\n",
       "}});\n",
       "\n",
       "// Listen for the removal of the full notebook cells\n",
       "var notebookContainer = gd.closest('#notebook-container');\n",
       "if (notebookContainer) {{\n",
       "    x.observe(notebookContainer, {childList: true});\n",
       "}}\n",
       "\n",
       "// Listen for the clearing of the current output cell\n",
       "var outputEl = gd.closest('.output');\n",
       "if (outputEl) {{\n",
       "    x.observe(outputEl, {childList: true});\n",
       "}}\n",
       "\n",
       "                        })                };                });            </script>        </div>"
      ]
     },
     "metadata": {},
     "output_type": "display_data"
    }
   ],
   "source": [
    "# Group by the ticker and the day of the week, creating a multi-index\n",
    "mean_day = blob_news.groupby(['ticker', 'date']).mean()\n",
    "# Unstack, the innermost index level 'unstacks' across the columns\n",
    "mean_day = mean_day.unstack()\n",
    "# Get a cross-section of the above data, and transpose it to make the columns the ticker names\n",
    "mean_day = mean_day.xs('polarity', axis=1).T\n",
    "\n",
    "px.box(mean_day, title='Distribution of the Polarity of Stock Headlines',\n",
    "      labels={'value': 'Polarity'})"
   ]
  },
  {
   "cell_type": "code",
   "execution_count": null,
   "metadata": {},
   "outputs": [],
   "source": []
  }
 ],
 "metadata": {
  "kernelspec": {
   "display_name": "Python 3",
   "language": "python",
   "name": "python3"
  },
  "language_info": {
   "codemirror_mode": {
    "name": "ipython",
    "version": 3
   },
   "file_extension": ".py",
   "mimetype": "text/x-python",
   "name": "python",
   "nbconvert_exporter": "python",
   "pygments_lexer": "ipython3",
   "version": "3.7.6"
  }
 },
 "nbformat": 4,
 "nbformat_minor": 4
}
