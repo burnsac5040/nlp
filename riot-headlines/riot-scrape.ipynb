{
 "cells": [
  {
   "source": [
    "# =======================================================\n",
    "# NOTE: Piping in Python (similar to %>% in R, | in Unix)\n",
    "from toolz import pipe\n",
    "# import dfply                          # similar to dplyr / has a pipe\n",
    "from sspipe import p, px\n",
    "from fn import F, _\n",
    "import math\n",
    "\n",
    "pipe(12, math.sqrt, str)                # toolz\n",
    "12 | p(math.sqrt) | px ** 2 | p(str)    # sspipe\n",
    "(F(math.sqrt) >> _**2 >> str)(12)       # fn"
   ],
   "cell_type": "code",
   "metadata": {},
   "execution_count": 1,
   "outputs": [
    {
     "output_type": "execute_result",
     "data": {
      "text/plain": [
       "'11.999999999999998'"
      ]
     },
     "metadata": {},
     "execution_count": 1
    }
   ]
  },
  {
   "source": [
    "#### =======================================================\n",
    "# Markdown cell"
   ],
   "cell_type": "markdown",
   "metadata": {}
  },
  {
   "source": [
    "from bs4 import BeautifulSoup as bs\n",
    "import requests\n",
    "import ssl\n",
    "import re\n",
    "from datetime import datetime\n",
    "\n",
    "import numpy as np\n",
    "import pandas as pd"
   ],
   "cell_type": "code",
   "metadata": {},
   "execution_count": null,
   "outputs": []
  },
  {
   "cell_type": "code",
   "execution_count": 11,
   "metadata": {},
   "outputs": [],
   "source": [
    "url = \"https://slashdot.org/\"\n",
    "\n",
    "headers = {\n",
    "    'accept': 'text/html,application/xhtml+xml,application/xml;q=0.9,image/avif,image/webp,image/apng,*/*;q=0.8,application/signed-exchange;v=b3;q=0.9',\n",
    "    'accept-encoding': 'gzip, deflate, br',\n",
    "    'accept-language': 'en-US,en;q=0.9,es;q=0.8',\n",
    "    #'cache-control': 'max-age=0',\n",
    "    'dnt': '1',\n",
    "    'sec-fetch-dest': 'document',\n",
    "    'sec-fetch-mode': 'navigate',\n",
    "    'sec-fetch-site': 'cross-site',\n",
    "    'sec-fetch-user': '?1',\n",
    "    'sec-gpc': '1',\n",
    "    'upgrade-insecure-requests': '1',\n",
    "    'user-agent':'Mozilla/5.0 (Macintosh; Intel Mac OS X 10_15_7) AppleWebKit/537.36 (KHTML, like Gecko) Chrome/87.0.4280.101 Safari/537.36'\n",
    "    }\n",
    "\n",
    "ctx = ssl.create_default_context()\n",
    "ctx.check_hostname = False\n",
    "ctx.verify_mode = ssl.CERT_NONE\n",
    "\n",
    "r = requests.get(url, headers=headers)\n",
    "soup = bs(r.text, 'html.parser')"
   ]
  },
  {
   "cell_type": "code",
   "execution_count": 79,
   "metadata": {
    "lines_to_next_cell": 2
   },
   "outputs": [],
   "source": [
    "### Title, link, rating\n",
    "tit = [t.get_text() for t in soup.select('h2 span a')]\n",
    "\n",
    "### Title of post\n",
    "title = [j for i in soup.find_all('span', class_='story-title') for j in i.find('a')]\n",
    "\n",
    "### Date/time of post\n",
    "dated = [d.get_text() for d in soup.select('span.story-byline time')]\n",
    "date = [re.sub('on|@', '', x).strip() for x in dated]\n",
    "dt = [datetime.strptime(d, \"%A %B %d, %Y %I:%M%p\") for d in date]\n",
    "\n",
    "### External link to post\n",
    "elink = [l.text.strip() for l in soup.select('h2 span span')]\n",
    "\n",
    "### Votes on post\n",
    "votes = [v.text.strip() for v in soup.find_all('span', class_='comment-bubble')]\n",
    "from functools import partial\n",
    "from operator import is_not\n",
    "### Category of post\n",
    "classification = [b.get('alt') for b in soup.find_all('img')]\n",
    "c = classification | p(list, p(filter, None, px))\n",
    "# Using this sort of as a try except in case it were to not exist\n",
    "category = [x.replace('Icon', '') for x in c] | p(filter, None) | p(list)\n",
    "\n",
    "### User who made the post\n",
    "user = [u.get_text(' ', strip=True).replace(\"\\n\", \"\").replace(\"\\t\", \"\") for u in soup.select('span.story-byline')]\n",
    "user = [' '.join(a.split()) | p(re.findall, r'Postedby\\s(\\w+)', px) for a in user]\n",
    "\n",
    "### Popularity of post (ratings? red?)\n",
    "pop = [re.findall(\"'([a-zA-Z0-9,\\s]*)'\", prop['onclick']) | px[1] for prop in soup.find_all(\"span\", attrs={\"alt\":\"Popularity\"})]"
   ]
  },
  {
   "cell_type": "code",
   "execution_count": null,
   "id": "present-burns",
   "metadata": {
    "lines_to_next_cell": 2
   },
   "outputs": [],
   "source": [
    "df = pd.DataFrame({'title': title, 'date': dt, 'exlink': elink, 'category': category, 'user': user, 'popular': pop})"
   ]
  }
 ],
 "metadata": {
  "jupytext": {
   "formats": "ipynb,py"
  },
  "kernelspec": {
   "display_name": "Cat",
   "language": "python",
   "name": "cat"
  },
  "language_info": {
   "codemirror_mode": {
    "name": "ipython",
    "version": 3
   },
   "file_extension": ".py",
   "mimetype": "text/x-python",
   "name": "python",
   "nbconvert_exporter": "python",
   "pygments_lexer": "ipython3",
   "version": "3.8.5-final"
  }
 },
 "nbformat": 4,
 "nbformat_minor": 2
}