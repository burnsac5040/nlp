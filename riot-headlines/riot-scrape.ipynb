{
 "cells": [
  {
   "cell_type": "code",
   "execution_count": 5,
   "metadata": {},
   "outputs": [],
   "source": [
    "from bs4 import BeautifulSoup as bs\n",
    "import requests\n",
    "import ssl\n",
    "import re\n",
    "\n",
    "import numpy as np\n",
    "import pandas as pd"
   ]
  },
  {
   "cell_type": "code",
   "execution_count": 11,
   "metadata": {},
   "outputs": [],
   "source": [
    "url = \"https://slashdot.org/\"\n",
    "\n",
    "headers = {\n",
    "    'accept': 'text/html,application/xhtml+xml,application/xml;q=0.9,image/avif,image/webp,image/apng,*/*;q=0.8,application/signed-exchange;v=b3;q=0.9',\n",
    "    'accept-encoding': 'gzip, deflate, br',\n",
    "    'accept-language': 'en-US,en;q=0.9,es;q=0.8',\n",
    "    #'cache-control': 'max-age=0',\n",
    "    'dnt': '1',\n",
    "    'sec-fetch-dest': 'document',\n",
    "    'sec-fetch-mode': 'navigate',\n",
    "    'sec-fetch-site': 'cross-site',\n",
    "    'sec-fetch-user': '?1',\n",
    "    'sec-gpc': '1',\n",
    "    'upgrade-insecure-requests': '1',\n",
    "    'user-agent':'Mozilla/5.0 (Macintosh; Intel Mac OS X 10_15_7) AppleWebKit/537.36 (KHTML, like Gecko) Chrome/87.0.4280.101 Safari/537.36'\n",
    "    }\n",
    "\n",
    "ctx = ssl.create_default_context()\n",
    "ctx.check_hostname = False\n",
    "ctx.verify_mode = ssl.CERT_NONE\n",
    "\n",
    "r = requests.get(url, headers=headers)\n",
    "soup = bs(r.text, 'html.parser')"
   ]
  },
  {
   "cell_type": "code",
   "execution_count": 79,
   "metadata": {},
   "outputs": [],
   "source": [
    "# Title, link, rating\n",
    "tit = [t.get_text() for t in soup.select('h2 span a')]\n",
    "\n",
    "# Title of post\n",
    "title = [j for i in soup.find_all('span', class_='story-title') for j in i.find('a')]\n",
    "\n",
    "# Date/time of post\n",
    "from datetime import datetime\n",
    "\n",
    "dated = [d.get_text() for d in soup.select('span.story-byline time')]\n",
    "date = [re.sub('on|@', '', x).strip() for x in dated]\n",
    "dt = [datetime.strptime(d, \"%A %B %d, %Y %I:%M%p\") for d in date]\n",
    "\n",
    "# External link to post\n",
    "elink = [l.text.strip() for l in soup.select('h2 span span')]\n",
    "\n",
    "# Votes on post\n",
    "votes = [v.text.strip() for v in soup.find_all('span', class_='comment-bubble')]\n",
    "\n",
    "# Category of post\n",
    "classification = [b.get('alt') for b in soup.find_all('img')]\n",
    "\n",
    "# User who made the post\n",
    "user = [u.get_text() for u in soup.select('span.story-byline a')]\n",
    "\n",
    "# Popularity of post (ratings? red?)\n",
    "onclick = [re.findall(\"'([a-zA-Z0-9,\\s]*)'\", prop['onclick']) for prop in soup.find_all(\"span\", attrs={\"alt\":\"Popularity\"})]\n",
    "pop = [p[1] for p in onclick]"
   ]
  },
  {
   "cell_type": "code",
   "execution_count": null,
   "id": "present-burns",
   "metadata": {
    "lines_to_next_cell": 2
   },
   "outputs": [],
   "source": [
    "[i for i in classification if len(i) != 0]"
   ]
  },
  {
   "cell_type": "code",
   "execution_count": null,
   "id": "adolescent-aircraft",
   "metadata": {},
   "outputs": [],
   "source": [
    "pd.DataFrame({'title': title, 'date': dt, 'exlink': elink, 'category': classification, 'user': user, 'popular': pop})"
   ]
  }
 ],
 "metadata": {
  "jupytext": {
   "formats": "ipynb,py"
  },
  "kernelspec": {
   "display_name": "Cat",
   "language": "python",
   "name": "cat"
  },
  "language_info": {
   "codemirror_mode": {
    "name": "ipython",
    "version": 3
   },
   "file_extension": ".py",
   "mimetype": "text/x-python",
   "name": "python",
   "nbconvert_exporter": "python",
   "pygments_lexer": "ipython3",
   "version": "3.8.5-final"
  }
 },
 "nbformat": 4,
 "nbformat_minor": 2
}
